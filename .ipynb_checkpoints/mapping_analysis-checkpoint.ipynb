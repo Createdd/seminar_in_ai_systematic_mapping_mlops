{
 "cells": [
  {
   "cell_type": "markdown",
   "metadata": {
    "toc": true
   },
   "source": [
    "<h1>Table of Contents<span class=\"tocSkip\"></span></h1>\n",
    "<div class=\"toc\"><ul class=\"toc-item\"><li><span><a href=\"#Introduction\" data-toc-modified-id=\"Introduction-1\"><span class=\"toc-item-num\">1&nbsp;&nbsp;</span>Introduction</a></span></li><li><span><a href=\"#Library-imports-and-configs\" data-toc-modified-id=\"Library-imports-and-configs-2\"><span class=\"toc-item-num\">2&nbsp;&nbsp;</span>Library imports and configs</a></span></li><li><span><a href=\"#Setup\" data-toc-modified-id=\"Setup-3\"><span class=\"toc-item-num\">3&nbsp;&nbsp;</span>Setup</a></span></li><li><span><a href=\"#Load-bibliographical-data\" data-toc-modified-id=\"Load-bibliographical-data-4\"><span class=\"toc-item-num\">4&nbsp;&nbsp;</span>Load bibliographical data</a></span><ul class=\"toc-item\"><li><span><a href=\"#Prepare-data-for-further-analysis\" data-toc-modified-id=\"Prepare-data-for-further-analysis-4.1\"><span class=\"toc-item-num\">4.1&nbsp;&nbsp;</span>Prepare data for further analysis</a></span></li><li><span><a href=\"#Remov-unuseful-columns\" data-toc-modified-id=\"Remov-unuseful-columns-4.2\"><span class=\"toc-item-num\">4.2&nbsp;&nbsp;</span>Remov unuseful columns</a></span></li><li><span><a href=\"#Add-columns-for-mapping-study-facets\" data-toc-modified-id=\"Add-columns-for-mapping-study-facets-4.3\"><span class=\"toc-item-num\">4.3&nbsp;&nbsp;</span>Add columns for mapping study facets</a></span></li></ul></li><li><span><a href=\"#Final-DF\" data-toc-modified-id=\"Final-DF-5\"><span class=\"toc-item-num\">5&nbsp;&nbsp;</span>Final DF</a></span><ul class=\"toc-item\"><li><span><a href=\"#Table-describing-the-columns\" data-toc-modified-id=\"Table-describing-the-columns-5.1\"><span class=\"toc-item-num\">5.1&nbsp;&nbsp;</span>Table describing the columns</a></span></li></ul></li><li><span><a href=\"#Explore-notes\" data-toc-modified-id=\"Explore-notes-6\"><span class=\"toc-item-num\">6&nbsp;&nbsp;</span>Explore notes</a></span><ul class=\"toc-item\"><li><span><a href=\"#Extract-search-terms-from-notes\" data-toc-modified-id=\"Extract-search-terms-from-notes-6.1\"><span class=\"toc-item-num\">6.1&nbsp;&nbsp;</span>Extract search terms from notes</a></span></li></ul></li><li><span><a href=\"#Explore-facets\" data-toc-modified-id=\"Explore-facets-7\"><span class=\"toc-item-num\">7&nbsp;&nbsp;</span>Explore facets</a></span><ul class=\"toc-item\"><li><span><a href=\"#Research-Facet\" data-toc-modified-id=\"Research-Facet-7.1\"><span class=\"toc-item-num\">7.1&nbsp;&nbsp;</span>Research Facet</a></span></li><li><span><a href=\"#Cont-Facet\" data-toc-modified-id=\"Cont-Facet-7.2\"><span class=\"toc-item-num\">7.2&nbsp;&nbsp;</span>Cont Facet</a></span></li><li><span><a href=\"#Domain-Facet\" data-toc-modified-id=\"Domain-Facet-7.3\"><span class=\"toc-item-num\">7.3&nbsp;&nbsp;</span>Domain Facet</a></span></li></ul></li><li><span><a href=\"#Explore-interaction-of-research-and-contribution-facets\" data-toc-modified-id=\"Explore-interaction-of-research-and-contribution-facets-8\"><span class=\"toc-item-num\">8&nbsp;&nbsp;</span>Explore interaction of research and contribution facets</a></span><ul class=\"toc-item\"><li><span><a href=\"#Correlations\" data-toc-modified-id=\"Correlations-8.1\"><span class=\"toc-item-num\">8.1&nbsp;&nbsp;</span>Correlations</a></span></li><li><span><a href=\"#Crosstab-between-research-and-contribution\" data-toc-modified-id=\"Crosstab-between-research-and-contribution-8.2\"><span class=\"toc-item-num\">8.2&nbsp;&nbsp;</span>Crosstab between research and contribution</a></span><ul class=\"toc-item\"><li><span><a href=\"#Absolute-numbers\" data-toc-modified-id=\"Absolute-numbers-8.2.1\"><span class=\"toc-item-num\">8.2.1&nbsp;&nbsp;</span>Absolute numbers</a></span><ul class=\"toc-item\"><li><span><a href=\"#Visualizations\" data-toc-modified-id=\"Visualizations-8.2.1.1\"><span class=\"toc-item-num\">8.2.1.1&nbsp;&nbsp;</span>Visualizations</a></span></li></ul></li><li><span><a href=\"#Percent-of-Totals\" data-toc-modified-id=\"Percent-of-Totals-8.2.2\"><span class=\"toc-item-num\">8.2.2&nbsp;&nbsp;</span>Percent of Totals</a></span><ul class=\"toc-item\"><li><span><a href=\"#Visualizations\" data-toc-modified-id=\"Visualizations-8.2.2.1\"><span class=\"toc-item-num\">8.2.2.1&nbsp;&nbsp;</span>Visualizations</a></span></li></ul></li></ul></li></ul></li><li><span><a href=\"#Explore-year\" data-toc-modified-id=\"Explore-year-9\"><span class=\"toc-item-num\">9&nbsp;&nbsp;</span>Explore year</a></span></li><li><span><a href=\"#Explore-Authors\" data-toc-modified-id=\"Explore-Authors-10\"><span class=\"toc-item-num\">10&nbsp;&nbsp;</span>Explore Authors</a></span></li><li><span><a href=\"#Explore-Keywords\" data-toc-modified-id=\"Explore-Keywords-11\"><span class=\"toc-item-num\">11&nbsp;&nbsp;</span>Explore Keywords</a></span></li><li><span><a href=\"#Cluster-similar-words-from-keywords-and-identify-groups\" data-toc-modified-id=\"Cluster-similar-words-from-keywords-and-identify-groups-12\"><span class=\"toc-item-num\">12&nbsp;&nbsp;</span>Cluster similar words from keywords and identify groups</a></span><ul class=\"toc-item\"><li><span><a href=\"#Load-Model\" data-toc-modified-id=\"Load-Model-12.1\"><span class=\"toc-item-num\">12.1&nbsp;&nbsp;</span>Load Model</a></span></li><li><span><a href=\"#Get-keywords-and-compare-to-vocab-in-pre-trained-model\" data-toc-modified-id=\"Get-keywords-and-compare-to-vocab-in-pre-trained-model-12.2\"><span class=\"toc-item-num\">12.2&nbsp;&nbsp;</span>Get keywords and compare to vocab in pre-trained model</a></span></li><li><span><a href=\"#PCA\" data-toc-modified-id=\"PCA-12.3\"><span class=\"toc-item-num\">12.3&nbsp;&nbsp;</span>PCA</a></span></li><li><span><a href=\"#Cluster\" data-toc-modified-id=\"Cluster-12.4\"><span class=\"toc-item-num\">12.4&nbsp;&nbsp;</span>Cluster</a></span></li><li><span><a href=\"#Plot\" data-toc-modified-id=\"Plot-12.5\"><span class=\"toc-item-num\">12.5&nbsp;&nbsp;</span>Plot</a></span></li><li><span><a href=\"#Conclusion\" data-toc-modified-id=\"Conclusion-12.6\"><span class=\"toc-item-num\">12.6&nbsp;&nbsp;</span>Conclusion</a></span></li></ul></li><li><span><a href=\"#Cluster-similar-words-from-domain-facet\" data-toc-modified-id=\"Cluster-similar-words-from-domain-facet-13\"><span class=\"toc-item-num\">13&nbsp;&nbsp;</span>Cluster similar words from domain facet</a></span><ul class=\"toc-item\"><li><span><a href=\"#Conclusion\" data-toc-modified-id=\"Conclusion-13.1\"><span class=\"toc-item-num\">13.1&nbsp;&nbsp;</span>Conclusion</a></span></li></ul></li><li><span><a href=\"#Further-work\" data-toc-modified-id=\"Further-work-14\"><span class=\"toc-item-num\">14&nbsp;&nbsp;</span>Further work</a></span></li></ul></div>"
   ]
  },
  {
   "cell_type": "markdown",
   "metadata": {},
   "source": [
    "# Introduction\n",
    "\n",
    "This is the corresponding notebook to the class \"seminar in AI\" at the Master's study program at Johannes Kepler University in Austria.\n",
    "\n",
    "This notebook describes the mapping study conducted for my master thesis on MLOps. \n",
    "\n",
    "The goal is to analyse various papers for the study field and provide a base for further research in presenting a reference architecture in MLOps. "
   ]
  },
  {
   "cell_type": "markdown",
   "metadata": {},
   "source": [
    "# Library imports and configs\n",
    "\n",
    "Various used libraries are imported and certain imports configured."
   ]
  },
  {
   "cell_type": "code",
   "execution_count": 1,
   "metadata": {
    "ExecuteTime": {
     "end_time": "2022-12-23T18:55:07.389654Z",
     "start_time": "2022-12-23T18:55:05.977499Z"
    }
   },
   "outputs": [
    {
     "data": {
      "text/html": [
       "        <script type=\"text/javascript\">\n",
       "        window.PlotlyConfig = {MathJaxConfig: 'local'};\n",
       "        if (window.MathJax && window.MathJax.Hub && window.MathJax.Hub.Config) {window.MathJax.Hub.Config({SVG: {font: \"STIX-Web\"}});}\n",
       "        if (typeof require !== 'undefined') {\n",
       "        require.undef(\"plotly\");\n",
       "        requirejs.config({\n",
       "            paths: {\n",
       "                'plotly': ['https://cdn.plot.ly/plotly-2.14.0.min']\n",
       "            }\n",
       "        });\n",
       "        require(['plotly'], function(Plotly) {\n",
       "            window._Plotly = Plotly;\n",
       "        });\n",
       "        }\n",
       "        </script>\n",
       "        "
      ]
     },
     "metadata": {},
     "output_type": "display_data"
    }
   ],
   "source": [
    "import pandas as pd\n",
    "import bibtexparser\n",
    "import numpy as np\n",
    "\n",
    "from sklearn.decomposition import PCA\n",
    "from sklearn import cluster\n",
    "from sklearn.utils import check_random_state\n",
    "\n",
    "import plotly.express as px\n",
    "import plotly.graph_objects as go\n",
    "import re\n",
    "\n",
    "# for displaying plotly inside jupyter notebook\n",
    "from plotly.offline import init_notebook_mode\n",
    "\n",
    "init_notebook_mode(connected=True)\n",
    "\n",
    "pd.set_option('display.max_columns', None)\n",
    "pd.set_option('display.max_rows', None)\n",
    "\n",
    "# %matplotlib notebook"
   ]
  },
  {
   "cell_type": "markdown",
   "metadata": {},
   "source": [
    "# Setup\n",
    "\n",
    "Here we define the \n",
    "- project root\n",
    "- what columns from the bibliography are used\n",
    "- Random Seed for reproducability is set\n"
   ]
  },
  {
   "cell_type": "code",
   "execution_count": 2,
   "metadata": {
    "ExecuteTime": {
     "end_time": "2022-12-23T18:55:07.393018Z",
     "start_time": "2022-12-23T18:55:07.391228Z"
    }
   },
   "outputs": [],
   "source": [
    "PROJECT_ROOT = '../'\n",
    "\n",
    "# DATA_PATH = PROJECT_ROOT+'bibliography/zotero_collection_export.bib'\n",
    "DATA_PATH = PROJECT_ROOT + 'bibliography/mapping_study/zotero_collection_ieee_export.bib'"
   ]
  },
  {
   "cell_type": "code",
   "execution_count": 3,
   "metadata": {
    "ExecuteTime": {
     "end_time": "2022-12-23T18:55:07.398989Z",
     "start_time": "2022-12-23T18:55:07.396210Z"
    }
   },
   "outputs": [],
   "source": [
    "search_words = ['research', 'cont', 'domain', 'summary']\n",
    "\n",
    "cont_cols = [\n",
    "    'approach', 'casestudy', 'experiment', 'literature', 'metric', 'model',\n",
    "    'nonempirical', 'process', 'tool'\n",
    "]\n",
    "\n",
    "research_cols = [\n",
    "    'evaluation', 'experience', 'opinion', 'philosophical', 'solution',\n",
    "    'validation'\n",
    "]"
   ]
  },
  {
   "cell_type": "code",
   "execution_count": 4,
   "metadata": {
    "ExecuteTime": {
     "end_time": "2022-12-23T18:55:07.406327Z",
     "start_time": "2022-12-23T18:55:07.400560Z"
    }
   },
   "outputs": [
    {
     "name": "stdout",
     "output_type": "stream",
     "text": [
      "RandomState(MT19937)\n",
      "[2 8 4 9 1 6 7 3 0 5]\n"
     ]
    }
   ],
   "source": [
    "SEED = 0\n",
    "RNG = np.random.RandomState(SEED)\n",
    "\n",
    "random_state = check_random_state(RNG)\n",
    "print(RNG)\n",
    "print(RNG.permutation(10))\n",
    "\n",
    "\n",
    "if not set(RNG.permutation(10)).issubset(set([2, 8, 4, 9, 1, 6, 7, 3, 0, 5])):\n",
    "    raise ValueError('RandomState not working')\n"
   ]
  },
  {
   "cell_type": "markdown",
   "metadata": {},
   "source": [
    "# Load bibliographical data \n",
    "\n",
    "\n",
    "From the bibliography tool Zotero the entries are important and put into a dataframe for further usage."
   ]
  },
  {
   "cell_type": "code",
   "execution_count": 5,
   "metadata": {
    "ExecuteTime": {
     "end_time": "2022-12-23T18:55:07.622167Z",
     "start_time": "2022-12-23T18:55:07.407772Z"
    }
   },
   "outputs": [],
   "source": [
    "with open(DATA_PATH) as bibtex_file:\n",
    "    bib_database = bibtexparser.load(bibtex_file)\n",
    "\n",
    "df = pd.DataFrame(bib_database.entries)"
   ]
  },
  {
   "cell_type": "code",
   "execution_count": 6,
   "metadata": {
    "ExecuteTime": {
     "end_time": "2022-12-23T18:55:07.625567Z",
     "start_time": "2022-12-23T18:55:07.623439Z"
    },
    "code_folding": []
   },
   "outputs": [],
   "source": [
    "if not len(df) >= 46:\n",
    "    raise ValueError('Not enough content loaded')"
   ]
  },
  {
   "cell_type": "markdown",
   "metadata": {},
   "source": [
    "## Prepare data for further analysis"
   ]
  },
  {
   "cell_type": "code",
   "execution_count": 7,
   "metadata": {
    "ExecuteTime": {
     "end_time": "2022-12-23T18:55:07.654483Z",
     "start_time": "2022-12-23T18:55:07.626655Z"
    }
   },
   "outputs": [
    {
     "data": {
      "text/html": [
       "<div>\n",
       "<style scoped>\n",
       "    .dataframe tbody tr th:only-of-type {\n",
       "        vertical-align: middle;\n",
       "    }\n",
       "\n",
       "    .dataframe tbody tr th {\n",
       "        vertical-align: top;\n",
       "    }\n",
       "\n",
       "    .dataframe thead th {\n",
       "        text-align: right;\n",
       "    }\n",
       "</style>\n",
       "<table border=\"1\" class=\"dataframe\">\n",
       "  <thead>\n",
       "    <tr style=\"text-align: right;\">\n",
       "      <th></th>\n",
       "      <th>file</th>\n",
       "      <th>note</th>\n",
       "      <th>keywords</th>\n",
       "      <th>abstract</th>\n",
       "      <th>doi</th>\n",
       "      <th>issn</th>\n",
       "      <th>pages</th>\n",
       "      <th>month</th>\n",
       "      <th>year</th>\n",
       "      <th>author</th>\n",
       "      <th>booktitle</th>\n",
       "      <th>shorttitle</th>\n",
       "      <th>title</th>\n",
       "      <th>ENTRYTYPE</th>\n",
       "      <th>ID</th>\n",
       "      <th>volume</th>\n",
       "      <th>journal</th>\n",
       "      <th>isbn</th>\n",
       "      <th>address</th>\n",
       "      <th>publisher</th>\n",
       "      <th>series</th>\n",
       "    </tr>\n",
       "  </thead>\n",
       "  <tbody>\n",
       "    <tr>\n",
       "      <th>0</th>\n",
       "      <td>/Users/danieldeutsch/Zotero/storage/EV5GXSAC/A...</td>\n",
       "      <td>2\\n\\par\\nresearch: solution\\n\\par\\ncont: cases...</td>\n",
       "      <td>Adaptation models,Costs,Image edge detection,R...</td>\n",
       "      <td>Empowering the Internet of Things devices with...</td>\n",
       "      <td>10.1109/EAIS51927.2022.9787703</td>\n",
       "      <td>2473-4691</td>\n",
       "      <td>1--8</td>\n",
       "      <td>May</td>\n",
       "      <td>2022</td>\n",
       "      <td>Antonini, Mattia and Pincheira, Miguel and Vec...</td>\n",
       "      <td>2022 {{IEEE International Conference}} on {{Ev...</td>\n",
       "      <td>Tiny-{{MLOps}}</td>\n",
       "      <td>Tiny-{{MLOps}}: A Framework for Orchestrating ...</td>\n",
       "      <td>inproceedings</td>\n",
       "      <td>antoniniTinyMLOpsFrameworkOrchestrating2022</td>\n",
       "      <td>NaN</td>\n",
       "      <td>NaN</td>\n",
       "      <td>NaN</td>\n",
       "      <td>NaN</td>\n",
       "      <td>NaN</td>\n",
       "      <td>NaN</td>\n",
       "    </tr>\n",
       "    <tr>\n",
       "      <th>1</th>\n",
       "      <td>/Users/danieldeutsch/Zotero/storage/34Y42EMM/B...</td>\n",
       "      <td>2\\n\\par\\nresearch: philosophical\\n\\par\\ncont: ...</td>\n",
       "      <td>Cloud computing,Computational modeling,Compute...</td>\n",
       "      <td>Machine Learning Operations (MLOps) is an appr...</td>\n",
       "      <td>10.1109/ACCESS.2022.3206366</td>\n",
       "      <td>2169-3536</td>\n",
       "      <td>99337--99352</td>\n",
       "      <td>NaN</td>\n",
       "      <td>2022</td>\n",
       "      <td>Barrak, Amine and Petrillo, Fabio and Jaafar, ...</td>\n",
       "      <td>NaN</td>\n",
       "      <td>Serverless on {{Machine Learning}}</td>\n",
       "      <td>Serverless on {{Machine Learning}}: {{A System...</td>\n",
       "      <td>article</td>\n",
       "      <td>barrakServerlessMachineLearning2022</td>\n",
       "      <td>10</td>\n",
       "      <td>IEEE Access</td>\n",
       "      <td>NaN</td>\n",
       "      <td>NaN</td>\n",
       "      <td>NaN</td>\n",
       "      <td>NaN</td>\n",
       "    </tr>\n",
       "    <tr>\n",
       "      <th>2</th>\n",
       "      <td>/Users/danieldeutsch/Zotero/storage/568ZRGE4/B...</td>\n",
       "      <td>2\\n\\par\\nresearch: solution\\n\\par\\ncont: cases...</td>\n",
       "      <td>action research,AI quality,Context modeling,co...</td>\n",
       "      <td>Due to the migration megatrend, efficient and ...</td>\n",
       "      <td>10.1145/3522664.3528592</td>\n",
       "      <td>NaN</td>\n",
       "      <td>22--32</td>\n",
       "      <td>May</td>\n",
       "      <td>2022</td>\n",
       "      <td>Borg, Markus and Bengtsson, Johan and {\\\"O}ste...</td>\n",
       "      <td>2022 {{IEEE}}/{{ACM}} 1st {{International Conf...</td>\n",
       "      <td>NaN</td>\n",
       "      <td>Quality {{Assurance}} of {{Generative Dialog M...</td>\n",
       "      <td>inproceedings</td>\n",
       "      <td>borgQualityAssuranceGenerative2022</td>\n",
       "      <td>NaN</td>\n",
       "      <td>NaN</td>\n",
       "      <td>NaN</td>\n",
       "      <td>NaN</td>\n",
       "      <td>NaN</td>\n",
       "      <td>NaN</td>\n",
       "    </tr>\n",
       "    <tr>\n",
       "      <th>3</th>\n",
       "      <td>/Users/danieldeutsch/Zotero/storage/DAFF2ZLA/B...</td>\n",
       "      <td>2\\n\\par\\nresearch: validation\\n\\par\\ncont: cas...</td>\n",
       "      <td>Automation,Conferences,Grad-CAM,Heating system...</td>\n",
       "      <td>Machine Learning (ML) is a fundamental part of...</td>\n",
       "      <td>10.1109/ICSTW52544.2021.00039</td>\n",
       "      <td>NaN</td>\n",
       "      <td>175--181</td>\n",
       "      <td>April</td>\n",
       "      <td>2021</td>\n",
       "      <td>Borg, Markus and Jabangwe, Ronald and {\\AA}ber...</td>\n",
       "      <td>2021 {{IEEE International Conference}} on {{So...</td>\n",
       "      <td>NaN</td>\n",
       "      <td>Test {{Automation}} with {{Grad-CAM Heatmaps}}...</td>\n",
       "      <td>inproceedings</td>\n",
       "      <td>borgTestAutomationGradCAM2021</td>\n",
       "      <td>NaN</td>\n",
       "      <td>NaN</td>\n",
       "      <td>NaN</td>\n",
       "      <td>NaN</td>\n",
       "      <td>NaN</td>\n",
       "      <td>NaN</td>\n",
       "    </tr>\n",
       "    <tr>\n",
       "      <th>4</th>\n",
       "      <td>/Users/danieldeutsch/Zotero/storage/NTHZ4YRC/B...</td>\n",
       "      <td>2\\n\\par\\nresearch: philosophical\\n\\par\\ncont: ...</td>\n",
       "      <td>5G mobile communication,B5G networks,Cloud com...</td>\n",
       "      <td>Open Radio Access Network (O-RAN) alliance was...</td>\n",
       "      <td>10.1109/OJCOMS.2022.3146618</td>\n",
       "      <td>2644-125X</td>\n",
       "      <td>228--250</td>\n",
       "      <td>NaN</td>\n",
       "      <td>2022</td>\n",
       "      <td>Brik, Bouziane and Boutiba, Karim and Ksentini...</td>\n",
       "      <td>NaN</td>\n",
       "      <td>Deep {{Learning}} for {{B5G Open Radio Access ...</td>\n",
       "      <td>Deep {{Learning}} for {{B5G Open Radio Access ...</td>\n",
       "      <td>article</td>\n",
       "      <td>brikDeepLearningB5G2022</td>\n",
       "      <td>3</td>\n",
       "      <td>IEEE Open Journal of the Communications Society</td>\n",
       "      <td>NaN</td>\n",
       "      <td>NaN</td>\n",
       "      <td>NaN</td>\n",
       "      <td>NaN</td>\n",
       "    </tr>\n",
       "    <tr>\n",
       "      <th>5</th>\n",
       "      <td>/Users/danieldeutsch/Zotero/storage/AKWWA25B/C...</td>\n",
       "      <td>2\\n\\par\\nresearch: evaluation\\n\\par\\ncont: cas...</td>\n",
       "      <td>Benchmark,Benchmark testing,Machine learning,M...</td>\n",
       "      <td>Machine learning (ML) is becoming critical to ...</td>\n",
       "      <td>10.1109/ICMLA51294.2020.00104</td>\n",
       "      <td>NaN</td>\n",
       "      <td>626--633</td>\n",
       "      <td>December</td>\n",
       "      <td>2020</td>\n",
       "      <td>Cardoso Silva, Lucas and Rezende Zagatti, Fern...</td>\n",
       "      <td>2020 19th {{IEEE International Conference}} on...</td>\n",
       "      <td>NaN</td>\n",
       "      <td>Benchmarking {{Machine Learning Solutions}} in...</td>\n",
       "      <td>inproceedings</td>\n",
       "      <td>cardososilvaBenchmarkingMachineLearning2020</td>\n",
       "      <td>NaN</td>\n",
       "      <td>NaN</td>\n",
       "      <td>NaN</td>\n",
       "      <td>NaN</td>\n",
       "      <td>NaN</td>\n",
       "      <td>NaN</td>\n",
       "    </tr>\n",
       "    <tr>\n",
       "      <th>6</th>\n",
       "      <td>/Users/danieldeutsch/Zotero/storage/I9XKIGI6/D...</td>\n",
       "      <td>2\\n\\par\\nresearch: philosophical\\n\\par\\ncont: ...</td>\n",
       "      <td>Buildings,Denial-of-service attack,explanation...</td>\n",
       "      <td>We have developed a Distributed Denial of Serv...</td>\n",
       "      <td>10.1109/UEMCON53757.2021.9666619</td>\n",
       "      <td>NaN</td>\n",
       "      <td>0171--0177</td>\n",
       "      <td>December</td>\n",
       "      <td>2021</td>\n",
       "      <td>Das, Saikat and Shiva, Sajjan</td>\n",
       "      <td>2021 {{IEEE}} 12th {{Annual Ubiquitous Computi...</td>\n",
       "      <td>NaN</td>\n",
       "      <td>Machine {{Learning}} Application Lifecycle Aug...</td>\n",
       "      <td>inproceedings</td>\n",
       "      <td>dasMachineLearningApplication2021</td>\n",
       "      <td>NaN</td>\n",
       "      <td>NaN</td>\n",
       "      <td>NaN</td>\n",
       "      <td>NaN</td>\n",
       "      <td>NaN</td>\n",
       "      <td>NaN</td>\n",
       "    </tr>\n",
       "    <tr>\n",
       "      <th>7</th>\n",
       "      <td>/Users/danieldeutsch/Zotero/storage/IGEJHKUJ/F...</td>\n",
       "      <td>2\\n\\par\\nresearch: validation\\n\\par\\ncont: cas...</td>\n",
       "      <td>Carbon dioxide,Estimation error,Intelligent Ve...</td>\n",
       "      <td>The increased number of sensors in modern cars...</td>\n",
       "      <td>10.1109/MetroAutomotive54295.2022.9855110</td>\n",
       "      <td>NaN</td>\n",
       "      <td>18--23</td>\n",
       "      <td>July</td>\n",
       "      <td>2022</td>\n",
       "      <td>Flores, Thommas and Silva, Marianne and Andrad...</td>\n",
       "      <td>2022 {{IEEE International Workshop}} on {{Metr...</td>\n",
       "      <td>NaN</td>\n",
       "      <td>A {{TinyML Soft-Sensor}} for the {{Internet}} ...</td>\n",
       "      <td>inproceedings</td>\n",
       "      <td>floresTinyMLSoftSensorInternet2022</td>\n",
       "      <td>NaN</td>\n",
       "      <td>NaN</td>\n",
       "      <td>NaN</td>\n",
       "      <td>NaN</td>\n",
       "      <td>NaN</td>\n",
       "      <td>NaN</td>\n",
       "    </tr>\n",
       "    <tr>\n",
       "      <th>8</th>\n",
       "      <td>/Users/danieldeutsch/Zotero/storage/B79WJ55I/G...</td>\n",
       "      <td>2\\n\\par\\nresearch: philosophical\\n\\par\\ncont: ...</td>\n",
       "      <td>CI/CD,Conferences,Containerization,Deployment,...</td>\n",
       "      <td>In recent years, model deployment in machine l...</td>\n",
       "      <td>10.1109/AIKE52691.2021.00010</td>\n",
       "      <td>NaN</td>\n",
       "      <td>25--28</td>\n",
       "      <td>December</td>\n",
       "      <td>2021</td>\n",
       "      <td>Garg, Satvik and Pundir, Pradyumn and Rathee, ...</td>\n",
       "      <td>2021 {{IEEE Fourth International Conference}} ...</td>\n",
       "      <td>NaN</td>\n",
       "      <td>On {{Continuous Integration}} / {{Continuous D...</td>\n",
       "      <td>inproceedings</td>\n",
       "      <td>gargContinuousIntegrationContinuous2021</td>\n",
       "      <td>NaN</td>\n",
       "      <td>NaN</td>\n",
       "      <td>NaN</td>\n",
       "      <td>NaN</td>\n",
       "      <td>NaN</td>\n",
       "      <td>NaN</td>\n",
       "    </tr>\n",
       "    <tr>\n",
       "      <th>9</th>\n",
       "      <td>/Users/danieldeutsch/Zotero/storage/R865VPXI/G...</td>\n",
       "      <td>2\\n\\par\\nresearch: philosophical\\n\\par\\ncont: ...</td>\n",
       "      <td>Artificial intelligence; AI,Data models,Distri...</td>\n",
       "      <td>The emerging age of connected, digital world m...</td>\n",
       "      <td>10.1109/WAIN52551.2021.00019</td>\n",
       "      <td>NaN</td>\n",
       "      <td>82--88</td>\n",
       "      <td>May</td>\n",
       "      <td>2021</td>\n",
       "      <td>Granlund, Tuomas and Kopponen, Aleksi and Stir...</td>\n",
       "      <td>2021 {{IEEE}}/{{ACM}} 1st {{Workshop}} on {{AI...</td>\n",
       "      <td>{{MLOps Challenges}} in {{Multi-Organization S...</td>\n",
       "      <td>{{MLOps Challenges}} in {{Multi-Organization S...</td>\n",
       "      <td>inproceedings</td>\n",
       "      <td>granlundMLOpsChallengesMultiOrganization2021</td>\n",
       "      <td>NaN</td>\n",
       "      <td>NaN</td>\n",
       "      <td>NaN</td>\n",
       "      <td>NaN</td>\n",
       "      <td>NaN</td>\n",
       "      <td>NaN</td>\n",
       "    </tr>\n",
       "    <tr>\n",
       "      <th>10</th>\n",
       "      <td>/Users/danieldeutsch/Zotero/storage/XZWYSPK3/G...</td>\n",
       "      <td>2\\n\\par\\nresearch: solution\\n\\par\\ncont: cases...</td>\n",
       "      <td>Conferences,Data drift,Data models,deep learni...</td>\n",
       "      <td>Despite the significant improvements made by d...</td>\n",
       "      <td>10.1109/ICDMW53433.2021.00049</td>\n",
       "      <td>2375-9259</td>\n",
       "      <td>341--349</td>\n",
       "      <td>December</td>\n",
       "      <td>2021</td>\n",
       "      <td>Greco, Salvatore and Cerquitelli, Tania</td>\n",
       "      <td>2021 {{International Conference}} on {{Data Mi...</td>\n",
       "      <td>Drift {{Lens}}</td>\n",
       "      <td>Drift {{Lens}}: {{Real-time}} Unsupervised {{C...</td>\n",
       "      <td>inproceedings</td>\n",
       "      <td>grecoDriftLensRealtime2021</td>\n",
       "      <td>NaN</td>\n",
       "      <td>NaN</td>\n",
       "      <td>NaN</td>\n",
       "      <td>NaN</td>\n",
       "      <td>NaN</td>\n",
       "      <td>NaN</td>\n",
       "    </tr>\n",
       "    <tr>\n",
       "      <th>11</th>\n",
       "      <td>/Users/danieldeutsch/Zotero/storage/CHK33FPI/G...</td>\n",
       "      <td>2\\n\\par\\nresearch: solution\\n\\par\\ncont: cases...</td>\n",
       "      <td>diversity,Germanium,Grammar,Grammatical evolut...</td>\n",
       "      <td>The advent of cloud-based super-computing plat...</td>\n",
       "      <td>10.1109/ACCESS.2022.3166115</td>\n",
       "      <td>2169-3536</td>\n",
       "      <td>38694--38708</td>\n",
       "      <td>NaN</td>\n",
       "      <td>2022</td>\n",
       "      <td>Gupt, Krishn Kumar and Raja, Muhammad Adil and...</td>\n",
       "      <td>NaN</td>\n",
       "      <td>NaN</td>\n",
       "      <td>{{GELAB}} \\textendash{} {{The Cutting Edge}} o...</td>\n",
       "      <td>article</td>\n",
       "      <td>guptGELABCuttingEdge2022</td>\n",
       "      <td>10</td>\n",
       "      <td>IEEE Access</td>\n",
       "      <td>NaN</td>\n",
       "      <td>NaN</td>\n",
       "      <td>NaN</td>\n",
       "      <td>NaN</td>\n",
       "    </tr>\n",
       "    <tr>\n",
       "      <th>12</th>\n",
       "      <td>/Users/danieldeutsch/Zotero/storage/7D9CW726/I...</td>\n",
       "      <td>2\\n\\par\\nresearch: philosophical\\n\\par\\ncont: ...</td>\n",
       "      <td>Analytical models,Arguments,Goal-Oriented Requ...</td>\n",
       "      <td>Requirements engineering for machine learning ...</td>\n",
       "      <td>10.1109/RE48521.2020.00046</td>\n",
       "      <td>2332-6441</td>\n",
       "      <td>346--351</td>\n",
       "      <td>August</td>\n",
       "      <td>2020</td>\n",
       "      <td>Ishikawa, Fuyuki and Matsuno, Yutaka</td>\n",
       "      <td>2020 {{IEEE}} 28th {{International Requirement...</td>\n",
       "      <td>NaN</td>\n",
       "      <td>Evidence-Driven {{Requirements Engineering}} f...</td>\n",
       "      <td>inproceedings</td>\n",
       "      <td>ishikawaEvidencedrivenRequirementsEngineering2020</td>\n",
       "      <td>NaN</td>\n",
       "      <td>NaN</td>\n",
       "      <td>NaN</td>\n",
       "      <td>NaN</td>\n",
       "      <td>NaN</td>\n",
       "      <td>NaN</td>\n",
       "    </tr>\n",
       "    <tr>\n",
       "      <th>13</th>\n",
       "      <td>/Users/danieldeutsch/Zotero/storage/GCI58T9F/J...</td>\n",
       "      <td>1\\n\\par\\nresearch: solution\\n\\par\\ncont: appro...</td>\n",
       "      <td>brain tumor,Classification algorithms,Convolut...</td>\n",
       "      <td>The research of brain tumor classification by ...</td>\n",
       "      <td>10.1109/ICBDS53701.2022.9936020</td>\n",
       "      <td>NaN</td>\n",
       "      <td>1--6</td>\n",
       "      <td>September</td>\n",
       "      <td>2022</td>\n",
       "      <td>Jain, Archit and Malviya, Adarsh and Bajaj, Di...</td>\n",
       "      <td>2022 {{IEEE International Conference}} on {{Bl...</td>\n",
       "      <td>NaN</td>\n",
       "      <td>Brain {{Tumor Detection}} Using {{MLops}} and ...</td>\n",
       "      <td>inproceedings</td>\n",
       "      <td>jainBrainTumorDetection2022</td>\n",
       "      <td>NaN</td>\n",
       "      <td>NaN</td>\n",
       "      <td>NaN</td>\n",
       "      <td>NaN</td>\n",
       "      <td>NaN</td>\n",
       "      <td>NaN</td>\n",
       "    </tr>\n",
       "    <tr>\n",
       "      <th>14</th>\n",
       "      <td>/Users/danieldeutsch/Zotero/storage/DZLPUFER/J...</td>\n",
       "      <td>2\\n\\par\\nresearch: validation\\n\\par\\ncont: cas...</td>\n",
       "      <td>Architecture,Artificial Intelligence,Cloud,Com...</td>\n",
       "      <td>Machine learning and deep learning techniques ...</td>\n",
       "      <td>10.1109/APSEC51365.2020.00048</td>\n",
       "      <td>2640-0715</td>\n",
       "      <td>395--404</td>\n",
       "      <td>December</td>\n",
       "      <td>2020</td>\n",
       "      <td>John, Meenu Mary and Olsson, Helena Holmstr{\\\"...</td>\n",
       "      <td>2020 27th {{Asia-Pacific Software Engineering ...</td>\n",
       "      <td>{{AI Deployment Architecture}}</td>\n",
       "      <td>{{AI Deployment Architecture}}: {{Multi-Case S...</td>\n",
       "      <td>inproceedings</td>\n",
       "      <td>johnAIDeploymentArchitecture2020</td>\n",
       "      <td>NaN</td>\n",
       "      <td>NaN</td>\n",
       "      <td>NaN</td>\n",
       "      <td>NaN</td>\n",
       "      <td>NaN</td>\n",
       "      <td>NaN</td>\n",
       "    </tr>\n",
       "    <tr>\n",
       "      <th>15</th>\n",
       "      <td>/Users/danieldeutsch/Zotero/storage/BSLEIXN2/J...</td>\n",
       "      <td>2\\n\\par\\nresearch: solution\\n\\par\\ncont: cases...</td>\n",
       "      <td>Action Research,Architectural alternatives,Art...</td>\n",
       "      <td>Since the advent of mobile computing and IoT, ...</td>\n",
       "      <td>10.1109/SEAA51224.2020.00015</td>\n",
       "      <td>NaN</td>\n",
       "      <td>21--28</td>\n",
       "      <td>August</td>\n",
       "      <td>2020</td>\n",
       "      <td>John, Meenu Mary and Holmstr{\\\"o}m Olsson, Hel...</td>\n",
       "      <td>2020 46th {{Euromicro Conference}} on {{Softwa...</td>\n",
       "      <td>{{AI}} on the {{Edge}}</td>\n",
       "      <td>{{AI}} on the {{Edge}}: {{Architectural Altern...</td>\n",
       "      <td>inproceedings</td>\n",
       "      <td>johnAIEdgeArchitectural2020</td>\n",
       "      <td>NaN</td>\n",
       "      <td>NaN</td>\n",
       "      <td>NaN</td>\n",
       "      <td>NaN</td>\n",
       "      <td>NaN</td>\n",
       "      <td>NaN</td>\n",
       "    </tr>\n",
       "    <tr>\n",
       "      <th>16</th>\n",
       "      <td>/Users/danieldeutsch/Zotero/storage/72KU2MN7/J...</td>\n",
       "      <td>2\\n\\par\\nresearch: philosophical\\n\\par\\ncont: ...</td>\n",
       "      <td>Bibliographies,Companies,Embedded systems,Fram...</td>\n",
       "      <td>The adoption of continuous software engineerin...</td>\n",
       "      <td>10.1109/SEAA53835.2021.00050</td>\n",
       "      <td>NaN</td>\n",
       "      <td>1--8</td>\n",
       "      <td>September</td>\n",
       "      <td>2021</td>\n",
       "      <td>John, Meenu Mary and Olsson, Helena Holmstr{\\\"...</td>\n",
       "      <td>2021 47th {{Euromicro Conference}} on {{Softwa...</td>\n",
       "      <td>Towards {{MLOps}}</td>\n",
       "      <td>Towards {{MLOps}}: {{A Framework}} and {{Matur...</td>\n",
       "      <td>inproceedings</td>\n",
       "      <td>johnMLOpsFrameworkMaturity2021</td>\n",
       "      <td>NaN</td>\n",
       "      <td>NaN</td>\n",
       "      <td>NaN</td>\n",
       "      <td>NaN</td>\n",
       "      <td>NaN</td>\n",
       "      <td>NaN</td>\n",
       "    </tr>\n",
       "    <tr>\n",
       "      <th>17</th>\n",
       "      <td>/Users/danieldeutsch/Zotero/storage/ZL67CP4J/K...</td>\n",
       "      <td>2\\n\\par\\nresearch: solution\\n\\par\\ncont: cases...</td>\n",
       "      <td>Dimensionality reduction,Ensemble blending,Fea...</td>\n",
       "      <td>The industrial machine learning applications t...</td>\n",
       "      <td>10.15439/2022F296</td>\n",
       "      <td>NaN</td>\n",
       "      <td>403--412</td>\n",
       "      <td>September</td>\n",
       "      <td>2022</td>\n",
       "      <td>Kannout, Eyad and Grodzki, Micha{\\l} and Grzeg...</td>\n",
       "      <td>2022 17th {{Conference}} on {{Computer Science...</td>\n",
       "      <td>NaN</td>\n",
       "      <td>Considering Various Aspects of Models' Quality...</td>\n",
       "      <td>inproceedings</td>\n",
       "      <td>kannoutConsideringVariousAspects2022</td>\n",
       "      <td>NaN</td>\n",
       "      <td>NaN</td>\n",
       "      <td>NaN</td>\n",
       "      <td>NaN</td>\n",
       "      <td>NaN</td>\n",
       "      <td>NaN</td>\n",
       "    </tr>\n",
       "    <tr>\n",
       "      <th>18</th>\n",
       "      <td>/Users/danieldeutsch/Zotero/storage/738H3N3Y/K...</td>\n",
       "      <td>2\\n\\par\\nresearch: solution\\n\\par\\ncont: appro...</td>\n",
       "      <td>Clinical MLOps,Clinical research support,Cloud...</td>\n",
       "      <td>Epilepsy is a major neurological disorder affe...</td>\n",
       "      <td>10.1109/BHI50953.2021.9508555</td>\n",
       "      <td>2641-3604</td>\n",
       "      <td>1--5</td>\n",
       "      <td>July</td>\n",
       "      <td>2021</td>\n",
       "      <td>Kar{\\'a}csony, Tam{\\'a}s and {Loesch-Biffar}, ...</td>\n",
       "      <td>2021 {{IEEE EMBS International Conference}} on...</td>\n",
       "      <td>{{DeepEpil}}</td>\n",
       "      <td>{{DeepEpil}}: {{Towards}} an {{Epileptologist-...</td>\n",
       "      <td>inproceedings</td>\n",
       "      <td>karacsonyDeepEpilEpileptologistFriendlyAI2021</td>\n",
       "      <td>NaN</td>\n",
       "      <td>NaN</td>\n",
       "      <td>NaN</td>\n",
       "      <td>NaN</td>\n",
       "      <td>NaN</td>\n",
       "      <td>NaN</td>\n",
       "    </tr>\n",
       "    <tr>\n",
       "      <th>19</th>\n",
       "      <td>/Users/danieldeutsch/Zotero/storage/97R4XLA3/K...</td>\n",
       "      <td>2\\n\\par\\nresearch: solution\\n\\par\\ncont: cases...</td>\n",
       "      <td>Benchmark testing,Conferences,continuous integ...</td>\n",
       "      <td>In this paper, we present a coverage-based reg...</td>\n",
       "      <td>10.1109/SANER50967.2021.00077</td>\n",
       "      <td>1534-5351</td>\n",
       "      <td>618--621</td>\n",
       "      <td>March</td>\n",
       "      <td>2021</td>\n",
       "      <td>Kauhanen, Eero and Nurminen, Jukka K. and Mikk...</td>\n",
       "      <td>2021 {{IEEE International Conference}} on {{So...</td>\n",
       "      <td>NaN</td>\n",
       "      <td>Regression {{Test Selection Tool}} for {{Pytho...</td>\n",
       "      <td>inproceedings</td>\n",
       "      <td>kauhanenRegressionTestSelection2021</td>\n",
       "      <td>NaN</td>\n",
       "      <td>NaN</td>\n",
       "      <td>NaN</td>\n",
       "      <td>NaN</td>\n",
       "      <td>NaN</td>\n",
       "      <td>NaN</td>\n",
       "    </tr>\n",
       "    <tr>\n",
       "      <th>20</th>\n",
       "      <td>/Users/danieldeutsch/Zotero/storage/VM7YURRL/K...</td>\n",
       "      <td>2\\n\\par\\nresearch: philosophical\\n\\par\\ncont: ...</td>\n",
       "      <td>Adaptation models,Bibliographies,Computational...</td>\n",
       "      <td>Deploying machine learning (ML) models to prod...</td>\n",
       "      <td>10.1145/3526073.3527584</td>\n",
       "      <td>NaN</td>\n",
       "      <td>1--8</td>\n",
       "      <td>May</td>\n",
       "      <td>2022</td>\n",
       "      <td>Kolltveit, Ask Berstad and Li, Jingyue</td>\n",
       "      <td>2022 {{IEEE}}/{{ACM}} 1st {{International Work...</td>\n",
       "      <td>NaN</td>\n",
       "      <td>Operationalizing {{Machine Learning Models}} -...</td>\n",
       "      <td>inproceedings</td>\n",
       "      <td>kolltveitOperationalizingMachineLearning2022</td>\n",
       "      <td>NaN</td>\n",
       "      <td>NaN</td>\n",
       "      <td>NaN</td>\n",
       "      <td>NaN</td>\n",
       "      <td>NaN</td>\n",
       "      <td>NaN</td>\n",
       "    </tr>\n",
       "    <tr>\n",
       "      <th>21</th>\n",
       "      <td>/Users/danieldeutsch/Zotero/storage/J8LP7KYD/L...</td>\n",
       "      <td>2\\n\\par\\nresearch: philosophical\\n\\par\\ncont: ...</td>\n",
       "      <td>AI Governance,Artificial intelligence,Deep lea...</td>\n",
       "      <td>In this study we explore the incorporation of ...</td>\n",
       "      <td>10.1145/3522664.3528598</td>\n",
       "      <td>NaN</td>\n",
       "      <td>113--123</td>\n",
       "      <td>May</td>\n",
       "      <td>2022</td>\n",
       "      <td>Laato, Samuli and Birkstedt, Teemu and M{\\\"a}n...</td>\n",
       "      <td>2022 {{IEEE}}/{{ACM}} 1st {{International Conf...</td>\n",
       "      <td>{{AI Governance}} in the {{System Development ...</td>\n",
       "      <td>{{AI Governance}} in the {{System Development ...</td>\n",
       "      <td>inproceedings</td>\n",
       "      <td>laatoAIGovernanceSystem2022</td>\n",
       "      <td>NaN</td>\n",
       "      <td>NaN</td>\n",
       "      <td>NaN</td>\n",
       "      <td>NaN</td>\n",
       "      <td>NaN</td>\n",
       "      <td>NaN</td>\n",
       "    </tr>\n",
       "    <tr>\n",
       "      <th>22</th>\n",
       "      <td>/Users/danieldeutsch/Zotero/storage/6KLVRWJN/L...</td>\n",
       "      <td>2\\n\\par\\nresearch: philosophical\\n\\par\\ncont: ...</td>\n",
       "      <td>Conferences,Distributed processing,Edge AI,Int...</td>\n",
       "      <td>Deploying machine learning applications on edg...</td>\n",
       "      <td>10.1109/IPDPSW55747.2022.00160</td>\n",
       "      <td>NaN</td>\n",
       "      <td>1003--1010</td>\n",
       "      <td>May</td>\n",
       "      <td>2022</td>\n",
       "      <td>Leroux, Sam and Simoens, Pieter and Lootus, Me...</td>\n",
       "      <td>2022 {{IEEE International Parallel}} and {{Dis...</td>\n",
       "      <td>{{TinyMLOps}}</td>\n",
       "      <td>{{TinyMLOps}}: {{Operational Challenges}} for ...</td>\n",
       "      <td>inproceedings</td>\n",
       "      <td>lerouxTinyMLOpsOperationalChallenges2022</td>\n",
       "      <td>NaN</td>\n",
       "      <td>NaN</td>\n",
       "      <td>NaN</td>\n",
       "      <td>NaN</td>\n",
       "      <td>NaN</td>\n",
       "      <td>NaN</td>\n",
       "    </tr>\n",
       "    <tr>\n",
       "      <th>23</th>\n",
       "      <td>/Users/danieldeutsch/Zotero/storage/BMY73PWF/L...</td>\n",
       "      <td>2\\n\\par\\nresearch: solution\\n\\par\\ncont: cases...</td>\n",
       "      <td>Agent,Autonomic,Benchmark testing,Cloud comput...</td>\n",
       "      <td>Machine Learning (ML) projects are currently h...</td>\n",
       "      <td>10.1109/CCGrid54584.2022.00047</td>\n",
       "      <td>NaN</td>\n",
       "      <td>376--385</td>\n",
       "      <td>May</td>\n",
       "      <td>2022</td>\n",
       "      <td>Liu, Peini and {Bravo-Rocca}, Gusseppe and Gui...</td>\n",
       "      <td>2022 22nd {{IEEE International Symposium}} on ...</td>\n",
       "      <td>Scanflow-{{K8s}}</td>\n",
       "      <td>Scanflow-{{K8s}}: {{Agent-based Framework}} fo...</td>\n",
       "      <td>inproceedings</td>\n",
       "      <td>liuScanflowK8sAgentbasedFramework2022</td>\n",
       "      <td>NaN</td>\n",
       "      <td>NaN</td>\n",
       "      <td>NaN</td>\n",
       "      <td>NaN</td>\n",
       "      <td>NaN</td>\n",
       "      <td>NaN</td>\n",
       "    </tr>\n",
       "    <tr>\n",
       "      <th>24</th>\n",
       "      <td>/Users/danieldeutsch/Zotero/storage/R9ZSQ6FW/L...</td>\n",
       "      <td>2\\n\\par\\nresearch: philosophical\\n\\par\\ncont: ...</td>\n",
       "      <td>AI,DevOps,ethics,Ethics,important,Industries,m...</td>\n",
       "      <td>Although AI is transforming the world, there a...</td>\n",
       "      <td>10.1145/3522664.3528607</td>\n",
       "      <td>NaN</td>\n",
       "      <td>101--112</td>\n",
       "      <td>May</td>\n",
       "      <td>2022</td>\n",
       "      <td>Lu, Qinghua and Zhu, Liming and Xu, Xiwei and ...</td>\n",
       "      <td>2022 {{IEEE}}/{{ACM}} 1st {{International Conf...</td>\n",
       "      <td>NaN</td>\n",
       "      <td>Towards a {{Roadmap}} on {{Software Engineerin...</td>\n",
       "      <td>inproceedings</td>\n",
       "      <td>luRoadmapSoftwareEngineering2022</td>\n",
       "      <td>NaN</td>\n",
       "      <td>NaN</td>\n",
       "      <td>NaN</td>\n",
       "      <td>NaN</td>\n",
       "      <td>NaN</td>\n",
       "      <td>NaN</td>\n",
       "    </tr>\n",
       "    <tr>\n",
       "      <th>25</th>\n",
       "      <td>/Users/danieldeutsch/Zotero/storage/4QQY49FX/M...</td>\n",
       "      <td>2\\n\\par\\nresearch: evaluation\\n\\par\\ncont: app...</td>\n",
       "      <td>AI,Artificial intelligence,Computational model...</td>\n",
       "      <td>Following continuous software engineering prac...</td>\n",
       "      <td>10.1109/WAIN52551.2021.00024</td>\n",
       "      <td>NaN</td>\n",
       "      <td>109--112</td>\n",
       "      <td>May</td>\n",
       "      <td>2021</td>\n",
       "      <td>M{\\\"a}kinen, Sasu and Skogstr{\\\"o}m, Henrik an...</td>\n",
       "      <td>2021 {{IEEE}}/{{ACM}} 1st {{Workshop}} on {{AI...</td>\n",
       "      <td>Who {{Needs MLOps}}</td>\n",
       "      <td>Who {{Needs MLOps}}: {{What Data Scientists Se...</td>\n",
       "      <td>inproceedings</td>\n",
       "      <td>makinenWhoNeedsMLOps2021</td>\n",
       "      <td>NaN</td>\n",
       "      <td>NaN</td>\n",
       "      <td>NaN</td>\n",
       "      <td>NaN</td>\n",
       "      <td>NaN</td>\n",
       "      <td>NaN</td>\n",
       "    </tr>\n",
       "    <tr>\n",
       "      <th>26</th>\n",
       "      <td>/Users/danieldeutsch/Zotero/storage/WLMXQ297/M...</td>\n",
       "      <td>2\\n\\par\\nresearch: philosophical\\n\\par\\ncont: ...</td>\n",
       "      <td>Data models,development,DevOps,machine learnin...</td>\n",
       "      <td>DevOps practices have increasingly been applie...</td>\n",
       "      <td>10.1145/3522664.3528611</td>\n",
       "      <td>NaN</td>\n",
       "      <td>33--34</td>\n",
       "      <td>May</td>\n",
       "      <td>2022</td>\n",
       "      <td>Matsui, Beatriz M. A. and Goya, Denise H.</td>\n",
       "      <td>2022 {{IEEE}}/{{ACM}} 1st {{International Conf...</td>\n",
       "      <td>{{MLOps}}</td>\n",
       "      <td>{{MLOps}}: {{Five Steps}} to {{Guide}} Its {{E...</td>\n",
       "      <td>inproceedings</td>\n",
       "      <td>matsuiMLOpsFiveSteps2022</td>\n",
       "      <td>NaN</td>\n",
       "      <td>NaN</td>\n",
       "      <td>NaN</td>\n",
       "      <td>NaN</td>\n",
       "      <td>NaN</td>\n",
       "      <td>NaN</td>\n",
       "    </tr>\n",
       "    <tr>\n",
       "      <th>27</th>\n",
       "      <td>/Users/danieldeutsch/Zotero/storage/43PVX7HA/M...</td>\n",
       "      <td>2\\n\\par\\nresearch: philosophical\\n\\par\\ncont: ...</td>\n",
       "      <td>Conferences,development,DevOps,machine learnin...</td>\n",
       "      <td>DevOps practices have increasingly been applie...</td>\n",
       "      <td>10.1145/3526073.3527591</td>\n",
       "      <td>NaN</td>\n",
       "      <td>45--49</td>\n",
       "      <td>May</td>\n",
       "      <td>2022</td>\n",
       "      <td>Matsui, Beatriz M. A. and Goya, Denise H.</td>\n",
       "      <td>2022 {{IEEE}}/{{ACM}} 1st {{International Work...</td>\n",
       "      <td>{{MLOps}}</td>\n",
       "      <td>{{MLOps}}: {{A Guide}} to Its {{Adoption}} in ...</td>\n",
       "      <td>inproceedings</td>\n",
       "      <td>matsuiMLOpsGuideIts2022</td>\n",
       "      <td>NaN</td>\n",
       "      <td>NaN</td>\n",
       "      <td>NaN</td>\n",
       "      <td>NaN</td>\n",
       "      <td>NaN</td>\n",
       "      <td>NaN</td>\n",
       "    </tr>\n",
       "    <tr>\n",
       "      <th>28</th>\n",
       "      <td>/Users/danieldeutsch/Zotero/storage/AII6ITD5/M...</td>\n",
       "      <td>2\\n\\par\\nresearch: evaluation\\n\\par\\ncont: app...</td>\n",
       "      <td>Automation,Databases,DevOps,Industries,Machine...</td>\n",
       "      <td>DevOps and Machine Learning (ML) on their own ...</td>\n",
       "      <td>10.1109/ICECET55527.2022.9872968</td>\n",
       "      <td>NaN</td>\n",
       "      <td>1--6</td>\n",
       "      <td>July</td>\n",
       "      <td>2022</td>\n",
       "      <td>Mboweni, Tsakani and Masombuka, Themba and Don...</td>\n",
       "      <td>2022 {{International Conference}} on {{Electri...</td>\n",
       "      <td>NaN</td>\n",
       "      <td>A {{Systematic Review}} of {{Machine Learning ...</td>\n",
       "      <td>inproceedings</td>\n",
       "      <td>mboweniSystematicReviewMachine2022</td>\n",
       "      <td>NaN</td>\n",
       "      <td>NaN</td>\n",
       "      <td>NaN</td>\n",
       "      <td>NaN</td>\n",
       "      <td>NaN</td>\n",
       "      <td>NaN</td>\n",
       "    </tr>\n",
       "    <tr>\n",
       "      <th>29</th>\n",
       "      <td>/Users/danieldeutsch/Zotero/storage/BS3QCBZF/M...</td>\n",
       "      <td>2\\n\\par\\nresearch: evaluation\\n\\par\\ncont: cas...</td>\n",
       "      <td>AI life-cycle,analytic pipeline,Atomic layer d...</td>\n",
       "      <td>In the last years, MLOps (Machine Learning Ope...</td>\n",
       "      <td>10.23919/SpliTech55088.2022.9854211</td>\n",
       "      <td>NaN</td>\n",
       "      <td>1--6</td>\n",
       "      <td>July</td>\n",
       "      <td>2022</td>\n",
       "      <td>Mi{\\~n}{\\'o}n, Ra{\\'u}l and {D{\\'i}az-de-Arcay...</td>\n",
       "      <td>2022 7th {{International Conference}} on {{Sma...</td>\n",
       "      <td>{{MLPacker}}</td>\n",
       "      <td>{{MLPacker}}: {{A Unified Software Tool}} for ...</td>\n",
       "      <td>inproceedings</td>\n",
       "      <td>minonMLPackerUnifiedSoftware2022</td>\n",
       "      <td>NaN</td>\n",
       "      <td>NaN</td>\n",
       "      <td>NaN</td>\n",
       "      <td>NaN</td>\n",
       "      <td>NaN</td>\n",
       "      <td>NaN</td>\n",
       "    </tr>\n",
       "    <tr>\n",
       "      <th>30</th>\n",
       "      <td>/Users/danieldeutsch/Zotero/storage/Z29IS8GS/M...</td>\n",
       "      <td>2\\n\\par\\nresearch: philosophical\\n\\par\\ncont: ...</td>\n",
       "      <td>AIOps,Codes,Conferences,DevOps,Machine learnin...</td>\n",
       "      <td>DevOps practices are the de facto sandard when...</td>\n",
       "      <td>10.1109/SANER53432.2022.00155</td>\n",
       "      <td>1534-5351</td>\n",
       "      <td>1293--1294</td>\n",
       "      <td>March</td>\n",
       "      <td>2022</td>\n",
       "      <td>Moreschini, Sergio and Lomio, Francesco and H{...</td>\n",
       "      <td>2022 {{IEEE International Conference}} on {{So...</td>\n",
       "      <td>NaN</td>\n",
       "      <td>{{MLOps}} for Evolvable {{AI}} Intensive Softw...</td>\n",
       "      <td>inproceedings</td>\n",
       "      <td>moreschiniMLOpsEvolvableAI2022</td>\n",
       "      <td>NaN</td>\n",
       "      <td>NaN</td>\n",
       "      <td>NaN</td>\n",
       "      <td>NaN</td>\n",
       "      <td>NaN</td>\n",
       "      <td>NaN</td>\n",
       "    </tr>\n",
       "    <tr>\n",
       "      <th>31</th>\n",
       "      <td>/Users/danieldeutsch/Zotero/storage/TLPQ93QP/P...</td>\n",
       "      <td>2\\n\\par\\nresearch: evaluation\\n\\par\\ncont: cas...</td>\n",
       "      <td>Companies,COVID-19,Deep Learning,Forecasting,L...</td>\n",
       "      <td>In power grids, short-term load forecasting (S...</td>\n",
       "      <td>10.1109/IISA56318.2022.9904363</td>\n",
       "      <td>NaN</td>\n",
       "      <td>1--8</td>\n",
       "      <td>July</td>\n",
       "      <td>2022</td>\n",
       "      <td>Pelekis, Sotiris and Karakolis, Evangelos and ...</td>\n",
       "      <td>2022 13th {{International Conference}} on {{In...</td>\n",
       "      <td>In {{Search}} of {{Deep Learning Architectures...</td>\n",
       "      <td>In {{Search}} of {{Deep Learning Architectures...</td>\n",
       "      <td>inproceedings</td>\n",
       "      <td>pelekisSearchDeepLearning2022</td>\n",
       "      <td>NaN</td>\n",
       "      <td>NaN</td>\n",
       "      <td>NaN</td>\n",
       "      <td>NaN</td>\n",
       "      <td>NaN</td>\n",
       "      <td>NaN</td>\n",
       "    </tr>\n",
       "    <tr>\n",
       "      <th>32</th>\n",
       "      <td>/Users/danieldeutsch/Zotero/storage/UP23SHP2/R...</td>\n",
       "      <td>2\\n\\par\\nresearch: evaluation\\n\\par\\ncont: app...</td>\n",
       "      <td>Automation,Bot (Internet),bots,Conferences,dee...</td>\n",
       "      <td>Machine learning (ML) operations or MLOps advo...</td>\n",
       "      <td>10.1109/COMPSAC54236.2022.00171</td>\n",
       "      <td>0730-3157</td>\n",
       "      <td>1093--1097</td>\n",
       "      <td>June</td>\n",
       "      <td>2022</td>\n",
       "      <td>Rahman, Akond and Bhuiyan, Farzana Ahamed and ...</td>\n",
       "      <td>2022 {{IEEE}} 46th {{Annual Computers}}, {{Sof...</td>\n",
       "      <td>Towards {{Automation}} for {{MLOps}}</td>\n",
       "      <td>Towards {{Automation}} for {{MLOps}}: {{An Exp...</td>\n",
       "      <td>inproceedings</td>\n",
       "      <td>rahmanAutomationMLOpsExploratory2022</td>\n",
       "      <td>NaN</td>\n",
       "      <td>NaN</td>\n",
       "      <td>NaN</td>\n",
       "      <td>NaN</td>\n",
       "      <td>NaN</td>\n",
       "      <td>NaN</td>\n",
       "    </tr>\n",
       "    <tr>\n",
       "      <th>33</th>\n",
       "      <td>/Users/danieldeutsch/Zotero/storage/XEHAF4SR/R...</td>\n",
       "      <td>2\\n\\par\\nresearch: solution\\n\\par\\ncont: cases...</td>\n",
       "      <td>5G Networks,AI,Atmospheric modeling,Automation...</td>\n",
       "      <td>Artificial Intelligence of Things (AIoT) is th...</td>\n",
       "      <td>10.1109/IC2E52221.2021.00034</td>\n",
       "      <td>NaN</td>\n",
       "      <td>191--200</td>\n",
       "      <td>October</td>\n",
       "      <td>2021</td>\n",
       "      <td>Raj, Emmanuel and Buffoni, David and Westerlun...</td>\n",
       "      <td>2021 {{IEEE International Conference}} on {{Cl...</td>\n",
       "      <td>Edge {{MLOps}}</td>\n",
       "      <td>Edge {{MLOps}}: {{An Automation Framework}} fo...</td>\n",
       "      <td>inproceedings</td>\n",
       "      <td>rajEdgeMLOpsAutomation2021</td>\n",
       "      <td>NaN</td>\n",
       "      <td>NaN</td>\n",
       "      <td>NaN</td>\n",
       "      <td>NaN</td>\n",
       "      <td>NaN</td>\n",
       "      <td>NaN</td>\n",
       "    </tr>\n",
       "    <tr>\n",
       "      <th>34</th>\n",
       "      <td>/Users/danieldeutsch/Zotero/storage/FETIRHB4/R...</td>\n",
       "      <td>2\\n\\par\\nresearch: philosophical\\n\\par\\ncont: ...</td>\n",
       "      <td>agile,Agile software development,Complexity th...</td>\n",
       "      <td>Software development teams are often hampered ...</td>\n",
       "      <td>10.1109/SLAAI-ICAI54477.2021.9664736</td>\n",
       "      <td>NaN</td>\n",
       "      <td>1--6</td>\n",
       "      <td>December</td>\n",
       "      <td>2021</td>\n",
       "      <td>Ranawana, Romesh and Karunananda, Asoka S.</td>\n",
       "      <td>2021 5th {{SLAAI International Conference}} on...</td>\n",
       "      <td>NaN</td>\n",
       "      <td>An {{Agile Software Development Life Cycle Mod...</td>\n",
       "      <td>inproceedings</td>\n",
       "      <td>ranawanaAgileSoftwareDevelopment2021</td>\n",
       "      <td>NaN</td>\n",
       "      <td>NaN</td>\n",
       "      <td>NaN</td>\n",
       "      <td>NaN</td>\n",
       "      <td>NaN</td>\n",
       "      <td>NaN</td>\n",
       "    </tr>\n",
       "    <tr>\n",
       "      <th>35</th>\n",
       "      <td>/Users/danieldeutsch/Zotero/storage/IHKA3HXI/R...</td>\n",
       "      <td>1\\n\\par\\nresearch: solution\\n\\par\\ncont: cases...</td>\n",
       "      <td>Automation,Codes,Continuous Integration (CI),M...</td>\n",
       "      <td>Machine Learning is a widely popular field tha...</td>\n",
       "      <td>10.1109/ICECAA55415.2022.9936252</td>\n",
       "      <td>NaN</td>\n",
       "      <td>1292--1297</td>\n",
       "      <td>October</td>\n",
       "      <td>2022</td>\n",
       "      <td>R, Niranjan D and {Mohana}</td>\n",
       "      <td>2022 {{International Conference}} on {{Edge Co...</td>\n",
       "      <td>Jenkins {{Pipelines}}</td>\n",
       "      <td>Jenkins {{Pipelines}}: {{A Novel Approach}} to...</td>\n",
       "      <td>inproceedings</td>\n",
       "      <td>rJenkinsPipelinesNovel2022</td>\n",
       "      <td>NaN</td>\n",
       "      <td>NaN</td>\n",
       "      <td>NaN</td>\n",
       "      <td>NaN</td>\n",
       "      <td>NaN</td>\n",
       "      <td>NaN</td>\n",
       "    </tr>\n",
       "    <tr>\n",
       "      <th>36</th>\n",
       "      <td>/Users/danieldeutsch/Zotero/storage/Z9P444PP/R...</td>\n",
       "      <td>2\\n\\par\\nresearch: evaluation\\n\\par\\ncont: app...</td>\n",
       "      <td>Collaboration,CPS,Deployment,Digital systems,E...</td>\n",
       "      <td>The traditional field of industrial manufactur...</td>\n",
       "      <td>10.1109/MECO55406.2022.9797080</td>\n",
       "      <td>2637-9511</td>\n",
       "      <td>1--6</td>\n",
       "      <td>June</td>\n",
       "      <td>2022</td>\n",
       "      <td>Ruf, Philipp and Reich, Christoph and {Ould-Ab...</td>\n",
       "      <td>2022 11th {{Mediterranean Conference}} on {{Em...</td>\n",
       "      <td>NaN</td>\n",
       "      <td>Aspects of {{Module Placement}} in {{Machine L...</td>\n",
       "      <td>inproceedings</td>\n",
       "      <td>rufAspectsModulePlacement2022</td>\n",
       "      <td>NaN</td>\n",
       "      <td>NaN</td>\n",
       "      <td>NaN</td>\n",
       "      <td>NaN</td>\n",
       "      <td>NaN</td>\n",
       "      <td>NaN</td>\n",
       "    </tr>\n",
       "    <tr>\n",
       "      <th>37</th>\n",
       "      <td>/Users/danieldeutsch/Zotero/storage/3IH9AT83/S...</td>\n",
       "      <td>1\\n\\par\\nresearch: solution\\n\\par\\ncont: appro...</td>\n",
       "      <td>5G mobile communication,Automation,Quality of ...</td>\n",
       "      <td>In this paper we present QMP\\textemdash an AI-...</td>\n",
       "      <td>10.1109/MeditCom55741.2022.9928678</td>\n",
       "      <td>NaN</td>\n",
       "      <td>86--89</td>\n",
       "      <td>September</td>\n",
       "      <td>2022</td>\n",
       "      <td>Samaras, Georgios and Theodorou, Vasileios and...</td>\n",
       "      <td>2022 {{IEEE International Mediterranean Confer...</td>\n",
       "      <td>{{QMP}}</td>\n",
       "      <td>{{QMP}}: {{A Cloud-native MLOps Automation Pla...</td>\n",
       "      <td>inproceedings</td>\n",
       "      <td>samarasQMPCloudnativeMLOps2022</td>\n",
       "      <td>NaN</td>\n",
       "      <td>NaN</td>\n",
       "      <td>NaN</td>\n",
       "      <td>NaN</td>\n",
       "      <td>NaN</td>\n",
       "      <td>NaN</td>\n",
       "    </tr>\n",
       "    <tr>\n",
       "      <th>38</th>\n",
       "      <td>/Users/danieldeutsch/Zotero/storage/3MC7REQC/S...</td>\n",
       "      <td>2\\n\\par\\nresearch: evaluation\\n\\par\\ncont: app...</td>\n",
       "      <td>best practices,important,machine learning engi...</td>\n",
       "      <td>Background. The increasing reliance on applica...</td>\n",
       "      <td>10.1145/3382494.3410681</td>\n",
       "      <td>NaN</td>\n",
       "      <td>1--12</td>\n",
       "      <td>October</td>\n",
       "      <td>2020</td>\n",
       "      <td>Serban, Alex and {van der Blom}, Koen and Hoos...</td>\n",
       "      <td>Proceedings of the 14th {{ACM}} / {{IEEE Inter...</td>\n",
       "      <td>NaN</td>\n",
       "      <td>Adoption and {{Effects}} of {{Software Enginee...</td>\n",
       "      <td>inproceedings</td>\n",
       "      <td>serbanAdoptionEffectsSoftware2020</td>\n",
       "      <td>NaN</td>\n",
       "      <td>NaN</td>\n",
       "      <td>978-1-4503-7580-1</td>\n",
       "      <td>{New York, NY, USA}</td>\n",
       "      <td>{Association for Computing Machinery}</td>\n",
       "      <td>{{ESEM}} '20</td>\n",
       "    </tr>\n",
       "    <tr>\n",
       "      <th>39</th>\n",
       "      <td>/Users/danieldeutsch/Zotero/storage/INKDAIM2/S...</td>\n",
       "      <td>2\\n\\par\\nresearch: solution\\n\\par\\ncont: cases...</td>\n",
       "      <td>Artificial intelligence,beyond-schema inferenc...</td>\n",
       "      <td>AI convergence platforms such as Google's Unif...</td>\n",
       "      <td>10.1109/SDS54800.2022.00020</td>\n",
       "      <td>NaN</td>\n",
       "      <td>69--70</td>\n",
       "      <td>June</td>\n",
       "      <td>2022</td>\n",
       "      <td>Spillner, Josef</td>\n",
       "      <td>2022 9th {{Swiss Conference}} on {{Data Scienc...</td>\n",
       "      <td>NaN</td>\n",
       "      <td>Tabular {{Data Insights}} and {{Synthesis}} wi...</td>\n",
       "      <td>inproceedings</td>\n",
       "      <td>spillnerTabularDataInsights2022</td>\n",
       "      <td>NaN</td>\n",
       "      <td>NaN</td>\n",
       "      <td>NaN</td>\n",
       "      <td>NaN</td>\n",
       "      <td>NaN</td>\n",
       "      <td>NaN</td>\n",
       "    </tr>\n",
       "    <tr>\n",
       "      <th>40</th>\n",
       "      <td>/Users/danieldeutsch/Zotero/storage/BV8NBBDP/S...</td>\n",
       "      <td>2\\n\\par\\nresearch: philosophical\\n\\par\\ncont: ...</td>\n",
       "      <td>AutoML,Computational modeling,Conferences,Depl...</td>\n",
       "      <td>This paper is an concentrated overview of the ...</td>\n",
       "      <td>10.1109/CCWC54503.2022.9720902</td>\n",
       "      <td>NaN</td>\n",
       "      <td>0453--0460</td>\n",
       "      <td>January</td>\n",
       "      <td>2022</td>\n",
       "      <td>Symeonidis, Georgios and Nerantzis, Evangelos ...</td>\n",
       "      <td>2022 {{IEEE}} 12th {{Annual Computing}} and {{...</td>\n",
       "      <td>NaN</td>\n",
       "      <td>{{MLOps}} - {{Definitions}}, {{Tools}} and {{C...</td>\n",
       "      <td>inproceedings</td>\n",
       "      <td>symeonidisMLOpsDefinitionsTools2022</td>\n",
       "      <td>NaN</td>\n",
       "      <td>NaN</td>\n",
       "      <td>NaN</td>\n",
       "      <td>NaN</td>\n",
       "      <td>NaN</td>\n",
       "      <td>NaN</td>\n",
       "    </tr>\n",
       "    <tr>\n",
       "      <th>41</th>\n",
       "      <td>/Users/danieldeutsch/Zotero/storage/P7NNEL6Z/T...</td>\n",
       "      <td>2\\n\\par\\nresearch: philosophical\\n\\par\\ncont: ...</td>\n",
       "      <td>DataOps,Decision making,Machine learning,Machi...</td>\n",
       "      <td>Even simply through a GoogleTrends search it b...</td>\n",
       "      <td>10.1109/SYNASC51798.2020.00015</td>\n",
       "      <td>NaN</td>\n",
       "      <td>17--23</td>\n",
       "      <td>September</td>\n",
       "      <td>2020</td>\n",
       "      <td>Tamburri, Damian A.</td>\n",
       "      <td>2020 22nd {{International Symposium}} on {{Sym...</td>\n",
       "      <td>Sustainable {{MLOps}}</td>\n",
       "      <td>Sustainable {{MLOps}}: {{Trends}} and {{Challe...</td>\n",
       "      <td>inproceedings</td>\n",
       "      <td>tamburriSustainableMLOpsTrends2020</td>\n",
       "      <td>NaN</td>\n",
       "      <td>NaN</td>\n",
       "      <td>NaN</td>\n",
       "      <td>NaN</td>\n",
       "      <td>NaN</td>\n",
       "      <td>NaN</td>\n",
       "    </tr>\n",
       "    <tr>\n",
       "      <th>42</th>\n",
       "      <td>/Users/danieldeutsch/Zotero/storage/3E6GQZH7/T...</td>\n",
       "      <td>2\\n\\par\\nresearch: philosophical\\n\\par\\ncont: ...</td>\n",
       "      <td>Automation,Business,continuous delivery,contin...</td>\n",
       "      <td>Over the past few decades, the substantial gro...</td>\n",
       "      <td>10.1109/ACCESS.2022.3181730</td>\n",
       "      <td>2169-3536</td>\n",
       "      <td>63606--63618</td>\n",
       "      <td>NaN</td>\n",
       "      <td>2022</td>\n",
       "      <td>Testi, Matteo and Ballabio, Matteo and Fronton...</td>\n",
       "      <td>NaN</td>\n",
       "      <td>{{MLOps}}</td>\n",
       "      <td>{{MLOps}}: {{A Taxonomy}} and a {{Methodology}}</td>\n",
       "      <td>article</td>\n",
       "      <td>testiMLOpsTaxonomyMethodology2022</td>\n",
       "      <td>10</td>\n",
       "      <td>IEEE Access</td>\n",
       "      <td>NaN</td>\n",
       "      <td>NaN</td>\n",
       "      <td>NaN</td>\n",
       "      <td>NaN</td>\n",
       "    </tr>\n",
       "    <tr>\n",
       "      <th>43</th>\n",
       "      <td>/Users/danieldeutsch/Zotero/storage/GZ4N5GE7/V...</td>\n",
       "      <td>2\\n\\par\\nresearch: solution\\n\\par\\ncont: cases...</td>\n",
       "      <td>Automation,Azure,Big Data,Buildings,CI/CD,DevO...</td>\n",
       "      <td>Microsoft Azure DevOps is a robust ,cross plat...</td>\n",
       "      <td>10.1109/BigData50022.2020.9377755</td>\n",
       "      <td>NaN</td>\n",
       "      <td>2375--2384</td>\n",
       "      <td>December</td>\n",
       "      <td>2020</td>\n",
       "      <td>Vuppalapati, Chandrasekar and Ilapakurti, Anit...</td>\n",
       "      <td>2020 {{IEEE International Conference}} on {{Bi...</td>\n",
       "      <td>NaN</td>\n",
       "      <td>Automating {{Tiny ML Intelligent Sensors DevOP...</td>\n",
       "      <td>inproceedings</td>\n",
       "      <td>vuppalapatiAutomatingTinyML2020</td>\n",
       "      <td>NaN</td>\n",
       "      <td>NaN</td>\n",
       "      <td>NaN</td>\n",
       "      <td>NaN</td>\n",
       "      <td>NaN</td>\n",
       "      <td>NaN</td>\n",
       "    </tr>\n",
       "    <tr>\n",
       "      <th>44</th>\n",
       "      <td>/Users/danieldeutsch/Zotero/storage/85IFEMME/Y...</td>\n",
       "      <td>2\\n\\par\\nresearch: solution\\n\\par\\ncont: appro...</td>\n",
       "      <td>AI-Powered Systems,Architecture,Artificial Int...</td>\n",
       "      <td>The research on engineering software applicati...</td>\n",
       "      <td>10.1109/ASE51524.2021.9678647</td>\n",
       "      <td>2643-1572</td>\n",
       "      <td>1368--1372</td>\n",
       "      <td>November</td>\n",
       "      <td>2021</td>\n",
       "      <td>Yasser, Ammar and {Abu-Elkhier}, Mervat</td>\n",
       "      <td>2021 36th {{IEEE}}/{{ACM International Confere...</td>\n",
       "      <td>Towards {{Fluid Software Architectures}}</td>\n",
       "      <td>Towards {{Fluid Software Architectures}}: {{Bi...</td>\n",
       "      <td>inproceedings</td>\n",
       "      <td>yasserFluidSoftwareArchitectures2021</td>\n",
       "      <td>NaN</td>\n",
       "      <td>NaN</td>\n",
       "      <td>NaN</td>\n",
       "      <td>NaN</td>\n",
       "      <td>NaN</td>\n",
       "      <td>NaN</td>\n",
       "    </tr>\n",
       "    <tr>\n",
       "      <th>45</th>\n",
       "      <td>/Users/danieldeutsch/Zotero/storage/QEKZ5HPE/Z...</td>\n",
       "      <td>2\\n\\par\\nresearch: evaluation\\n\\par\\ncont: cas...</td>\n",
       "      <td>5G,Cloud computing,Collaborative work,Computat...</td>\n",
       "      <td>Machine Learning (ML) on the edge is key to en...</td>\n",
       "      <td>10.1109/ACCESS.2022.3207200</td>\n",
       "      <td>2169-3536</td>\n",
       "      <td>100867--100877</td>\n",
       "      <td>NaN</td>\n",
       "      <td>2022</td>\n",
       "      <td>Zaidi, Syed Ali Raza and Hayajneh, Ali M. and ...</td>\n",
       "      <td>NaN</td>\n",
       "      <td>NaN</td>\n",
       "      <td>Unlocking {{Edge Intelligence Through Tiny Mac...</td>\n",
       "      <td>article</td>\n",
       "      <td>zaidiUnlockingEdgeIntelligence2022</td>\n",
       "      <td>10</td>\n",
       "      <td>IEEE Access</td>\n",
       "      <td>NaN</td>\n",
       "      <td>NaN</td>\n",
       "      <td>NaN</td>\n",
       "      <td>NaN</td>\n",
       "    </tr>\n",
       "    <tr>\n",
       "      <th>46</th>\n",
       "      <td>/Users/danieldeutsch/Zotero/storage/Q64Y5THD/Z...</td>\n",
       "      <td>2\\n\\par\\nresearch: solution\\n\\par\\ncont: cases...</td>\n",
       "      <td>automation,catalogues,Codes,Computer architect...</td>\n",
       "      <td>Nowadays, there are a variety of problems asso...</td>\n",
       "      <td>10.1109/ICSA-C54293.2022.00047</td>\n",
       "      <td>2768-4288</td>\n",
       "      <td>206--209</td>\n",
       "      <td>March</td>\n",
       "      <td>2022</td>\n",
       "      <td>Z{\\'a}rate, Gorka and Mi{\\~n}{\\'o}n, Ra{\\'u}l ...</td>\n",
       "      <td>2022 {{IEEE}} 19th {{International Conference}...</td>\n",
       "      <td>{{K2E}}</td>\n",
       "      <td>{{K2E}}: {{Building MLOps Environments}} for {...</td>\n",
       "      <td>inproceedings</td>\n",
       "      <td>zarateK2EBuildingMLOps2022</td>\n",
       "      <td>NaN</td>\n",
       "      <td>NaN</td>\n",
       "      <td>NaN</td>\n",
       "      <td>NaN</td>\n",
       "      <td>NaN</td>\n",
       "      <td>NaN</td>\n",
       "    </tr>\n",
       "    <tr>\n",
       "      <th>47</th>\n",
       "      <td>/Users/danieldeutsch/Zotero/storage/GVWJ8Z6E/Z...</td>\n",
       "      <td>2\\n\\par\\nresearch: solution\\n\\par\\ncont: cases...</td>\n",
       "      <td>Adaptation models,Analytical models,Computatio...</td>\n",
       "      <td>Real-world machine learning applications need ...</td>\n",
       "      <td>10.1109/TVCG.2022.3209465</td>\n",
       "      <td>1941-0506</td>\n",
       "      <td>1--11</td>\n",
       "      <td>NaN</td>\n",
       "      <td>2022</td>\n",
       "      <td>Zhang, Xiaoyu and Ono, Jorge Piazentin and Son...</td>\n",
       "      <td>NaN</td>\n",
       "      <td>{{SliceTeller}}</td>\n",
       "      <td>{{SliceTeller}} : {{A Data Slice-Driven Approa...</td>\n",
       "      <td>article</td>\n",
       "      <td>zhangSliceTellerDataSliceDriven2022</td>\n",
       "      <td>NaN</td>\n",
       "      <td>IEEE Transactions on Visualization and Compute...</td>\n",
       "      <td>NaN</td>\n",
       "      <td>NaN</td>\n",
       "      <td>NaN</td>\n",
       "      <td>NaN</td>\n",
       "    </tr>\n",
       "    <tr>\n",
       "      <th>48</th>\n",
       "      <td>/Users/danieldeutsch/Zotero/storage/G25TUNNU/Z...</td>\n",
       "      <td>2\\n\\par\\nresearch: evaluation\\n\\par\\ncont: cas...</td>\n",
       "      <td>Computational modeling,continuous training,Dat...</td>\n",
       "      <td>The development and deployment of machine lear...</td>\n",
       "      <td>10.1109/ICAICE51518.2020.00102</td>\n",
       "      <td>NaN</td>\n",
       "      <td>494--500</td>\n",
       "      <td>October</td>\n",
       "      <td>2020</td>\n",
       "      <td>Zhou, Yue and Yu, Yue and Ding, Bo</td>\n",
       "      <td>2020 {{International Conference}} on {{Artific...</td>\n",
       "      <td>Towards {{MLOps}}</td>\n",
       "      <td>Towards {{MLOps}}: {{A Case Study}} of {{ML Pi...</td>\n",
       "      <td>inproceedings</td>\n",
       "      <td>zhouMLOpsCaseStudy2020</td>\n",
       "      <td>NaN</td>\n",
       "      <td>NaN</td>\n",
       "      <td>NaN</td>\n",
       "      <td>NaN</td>\n",
       "      <td>NaN</td>\n",
       "      <td>NaN</td>\n",
       "    </tr>\n",
       "  </tbody>\n",
       "</table>\n",
       "</div>"
      ],
      "text/plain": [
       "                                                 file  \\\n",
       "0   /Users/danieldeutsch/Zotero/storage/EV5GXSAC/A...   \n",
       "1   /Users/danieldeutsch/Zotero/storage/34Y42EMM/B...   \n",
       "2   /Users/danieldeutsch/Zotero/storage/568ZRGE4/B...   \n",
       "3   /Users/danieldeutsch/Zotero/storage/DAFF2ZLA/B...   \n",
       "4   /Users/danieldeutsch/Zotero/storage/NTHZ4YRC/B...   \n",
       "5   /Users/danieldeutsch/Zotero/storage/AKWWA25B/C...   \n",
       "6   /Users/danieldeutsch/Zotero/storage/I9XKIGI6/D...   \n",
       "7   /Users/danieldeutsch/Zotero/storage/IGEJHKUJ/F...   \n",
       "8   /Users/danieldeutsch/Zotero/storage/B79WJ55I/G...   \n",
       "9   /Users/danieldeutsch/Zotero/storage/R865VPXI/G...   \n",
       "10  /Users/danieldeutsch/Zotero/storage/XZWYSPK3/G...   \n",
       "11  /Users/danieldeutsch/Zotero/storage/CHK33FPI/G...   \n",
       "12  /Users/danieldeutsch/Zotero/storage/7D9CW726/I...   \n",
       "13  /Users/danieldeutsch/Zotero/storage/GCI58T9F/J...   \n",
       "14  /Users/danieldeutsch/Zotero/storage/DZLPUFER/J...   \n",
       "15  /Users/danieldeutsch/Zotero/storage/BSLEIXN2/J...   \n",
       "16  /Users/danieldeutsch/Zotero/storage/72KU2MN7/J...   \n",
       "17  /Users/danieldeutsch/Zotero/storage/ZL67CP4J/K...   \n",
       "18  /Users/danieldeutsch/Zotero/storage/738H3N3Y/K...   \n",
       "19  /Users/danieldeutsch/Zotero/storage/97R4XLA3/K...   \n",
       "20  /Users/danieldeutsch/Zotero/storage/VM7YURRL/K...   \n",
       "21  /Users/danieldeutsch/Zotero/storage/J8LP7KYD/L...   \n",
       "22  /Users/danieldeutsch/Zotero/storage/6KLVRWJN/L...   \n",
       "23  /Users/danieldeutsch/Zotero/storage/BMY73PWF/L...   \n",
       "24  /Users/danieldeutsch/Zotero/storage/R9ZSQ6FW/L...   \n",
       "25  /Users/danieldeutsch/Zotero/storage/4QQY49FX/M...   \n",
       "26  /Users/danieldeutsch/Zotero/storage/WLMXQ297/M...   \n",
       "27  /Users/danieldeutsch/Zotero/storage/43PVX7HA/M...   \n",
       "28  /Users/danieldeutsch/Zotero/storage/AII6ITD5/M...   \n",
       "29  /Users/danieldeutsch/Zotero/storage/BS3QCBZF/M...   \n",
       "30  /Users/danieldeutsch/Zotero/storage/Z29IS8GS/M...   \n",
       "31  /Users/danieldeutsch/Zotero/storage/TLPQ93QP/P...   \n",
       "32  /Users/danieldeutsch/Zotero/storage/UP23SHP2/R...   \n",
       "33  /Users/danieldeutsch/Zotero/storage/XEHAF4SR/R...   \n",
       "34  /Users/danieldeutsch/Zotero/storage/FETIRHB4/R...   \n",
       "35  /Users/danieldeutsch/Zotero/storage/IHKA3HXI/R...   \n",
       "36  /Users/danieldeutsch/Zotero/storage/Z9P444PP/R...   \n",
       "37  /Users/danieldeutsch/Zotero/storage/3IH9AT83/S...   \n",
       "38  /Users/danieldeutsch/Zotero/storage/3MC7REQC/S...   \n",
       "39  /Users/danieldeutsch/Zotero/storage/INKDAIM2/S...   \n",
       "40  /Users/danieldeutsch/Zotero/storage/BV8NBBDP/S...   \n",
       "41  /Users/danieldeutsch/Zotero/storage/P7NNEL6Z/T...   \n",
       "42  /Users/danieldeutsch/Zotero/storage/3E6GQZH7/T...   \n",
       "43  /Users/danieldeutsch/Zotero/storage/GZ4N5GE7/V...   \n",
       "44  /Users/danieldeutsch/Zotero/storage/85IFEMME/Y...   \n",
       "45  /Users/danieldeutsch/Zotero/storage/QEKZ5HPE/Z...   \n",
       "46  /Users/danieldeutsch/Zotero/storage/Q64Y5THD/Z...   \n",
       "47  /Users/danieldeutsch/Zotero/storage/GVWJ8Z6E/Z...   \n",
       "48  /Users/danieldeutsch/Zotero/storage/G25TUNNU/Z...   \n",
       "\n",
       "                                                 note  \\\n",
       "0   2\\n\\par\\nresearch: solution\\n\\par\\ncont: cases...   \n",
       "1   2\\n\\par\\nresearch: philosophical\\n\\par\\ncont: ...   \n",
       "2   2\\n\\par\\nresearch: solution\\n\\par\\ncont: cases...   \n",
       "3   2\\n\\par\\nresearch: validation\\n\\par\\ncont: cas...   \n",
       "4   2\\n\\par\\nresearch: philosophical\\n\\par\\ncont: ...   \n",
       "5   2\\n\\par\\nresearch: evaluation\\n\\par\\ncont: cas...   \n",
       "6   2\\n\\par\\nresearch: philosophical\\n\\par\\ncont: ...   \n",
       "7   2\\n\\par\\nresearch: validation\\n\\par\\ncont: cas...   \n",
       "8   2\\n\\par\\nresearch: philosophical\\n\\par\\ncont: ...   \n",
       "9   2\\n\\par\\nresearch: philosophical\\n\\par\\ncont: ...   \n",
       "10  2\\n\\par\\nresearch: solution\\n\\par\\ncont: cases...   \n",
       "11  2\\n\\par\\nresearch: solution\\n\\par\\ncont: cases...   \n",
       "12  2\\n\\par\\nresearch: philosophical\\n\\par\\ncont: ...   \n",
       "13  1\\n\\par\\nresearch: solution\\n\\par\\ncont: appro...   \n",
       "14  2\\n\\par\\nresearch: validation\\n\\par\\ncont: cas...   \n",
       "15  2\\n\\par\\nresearch: solution\\n\\par\\ncont: cases...   \n",
       "16  2\\n\\par\\nresearch: philosophical\\n\\par\\ncont: ...   \n",
       "17  2\\n\\par\\nresearch: solution\\n\\par\\ncont: cases...   \n",
       "18  2\\n\\par\\nresearch: solution\\n\\par\\ncont: appro...   \n",
       "19  2\\n\\par\\nresearch: solution\\n\\par\\ncont: cases...   \n",
       "20  2\\n\\par\\nresearch: philosophical\\n\\par\\ncont: ...   \n",
       "21  2\\n\\par\\nresearch: philosophical\\n\\par\\ncont: ...   \n",
       "22  2\\n\\par\\nresearch: philosophical\\n\\par\\ncont: ...   \n",
       "23  2\\n\\par\\nresearch: solution\\n\\par\\ncont: cases...   \n",
       "24  2\\n\\par\\nresearch: philosophical\\n\\par\\ncont: ...   \n",
       "25  2\\n\\par\\nresearch: evaluation\\n\\par\\ncont: app...   \n",
       "26  2\\n\\par\\nresearch: philosophical\\n\\par\\ncont: ...   \n",
       "27  2\\n\\par\\nresearch: philosophical\\n\\par\\ncont: ...   \n",
       "28  2\\n\\par\\nresearch: evaluation\\n\\par\\ncont: app...   \n",
       "29  2\\n\\par\\nresearch: evaluation\\n\\par\\ncont: cas...   \n",
       "30  2\\n\\par\\nresearch: philosophical\\n\\par\\ncont: ...   \n",
       "31  2\\n\\par\\nresearch: evaluation\\n\\par\\ncont: cas...   \n",
       "32  2\\n\\par\\nresearch: evaluation\\n\\par\\ncont: app...   \n",
       "33  2\\n\\par\\nresearch: solution\\n\\par\\ncont: cases...   \n",
       "34  2\\n\\par\\nresearch: philosophical\\n\\par\\ncont: ...   \n",
       "35  1\\n\\par\\nresearch: solution\\n\\par\\ncont: cases...   \n",
       "36  2\\n\\par\\nresearch: evaluation\\n\\par\\ncont: app...   \n",
       "37  1\\n\\par\\nresearch: solution\\n\\par\\ncont: appro...   \n",
       "38  2\\n\\par\\nresearch: evaluation\\n\\par\\ncont: app...   \n",
       "39  2\\n\\par\\nresearch: solution\\n\\par\\ncont: cases...   \n",
       "40  2\\n\\par\\nresearch: philosophical\\n\\par\\ncont: ...   \n",
       "41  2\\n\\par\\nresearch: philosophical\\n\\par\\ncont: ...   \n",
       "42  2\\n\\par\\nresearch: philosophical\\n\\par\\ncont: ...   \n",
       "43  2\\n\\par\\nresearch: solution\\n\\par\\ncont: cases...   \n",
       "44  2\\n\\par\\nresearch: solution\\n\\par\\ncont: appro...   \n",
       "45  2\\n\\par\\nresearch: evaluation\\n\\par\\ncont: cas...   \n",
       "46  2\\n\\par\\nresearch: solution\\n\\par\\ncont: cases...   \n",
       "47  2\\n\\par\\nresearch: solution\\n\\par\\ncont: cases...   \n",
       "48  2\\n\\par\\nresearch: evaluation\\n\\par\\ncont: cas...   \n",
       "\n",
       "                                             keywords  \\\n",
       "0   Adaptation models,Costs,Image edge detection,R...   \n",
       "1   Cloud computing,Computational modeling,Compute...   \n",
       "2   action research,AI quality,Context modeling,co...   \n",
       "3   Automation,Conferences,Grad-CAM,Heating system...   \n",
       "4   5G mobile communication,B5G networks,Cloud com...   \n",
       "5   Benchmark,Benchmark testing,Machine learning,M...   \n",
       "6   Buildings,Denial-of-service attack,explanation...   \n",
       "7   Carbon dioxide,Estimation error,Intelligent Ve...   \n",
       "8   CI/CD,Conferences,Containerization,Deployment,...   \n",
       "9   Artificial intelligence; AI,Data models,Distri...   \n",
       "10  Conferences,Data drift,Data models,deep learni...   \n",
       "11  diversity,Germanium,Grammar,Grammatical evolut...   \n",
       "12  Analytical models,Arguments,Goal-Oriented Requ...   \n",
       "13  brain tumor,Classification algorithms,Convolut...   \n",
       "14  Architecture,Artificial Intelligence,Cloud,Com...   \n",
       "15  Action Research,Architectural alternatives,Art...   \n",
       "16  Bibliographies,Companies,Embedded systems,Fram...   \n",
       "17  Dimensionality reduction,Ensemble blending,Fea...   \n",
       "18  Clinical MLOps,Clinical research support,Cloud...   \n",
       "19  Benchmark testing,Conferences,continuous integ...   \n",
       "20  Adaptation models,Bibliographies,Computational...   \n",
       "21  AI Governance,Artificial intelligence,Deep lea...   \n",
       "22  Conferences,Distributed processing,Edge AI,Int...   \n",
       "23  Agent,Autonomic,Benchmark testing,Cloud comput...   \n",
       "24  AI,DevOps,ethics,Ethics,important,Industries,m...   \n",
       "25  AI,Artificial intelligence,Computational model...   \n",
       "26  Data models,development,DevOps,machine learnin...   \n",
       "27  Conferences,development,DevOps,machine learnin...   \n",
       "28  Automation,Databases,DevOps,Industries,Machine...   \n",
       "29  AI life-cycle,analytic pipeline,Atomic layer d...   \n",
       "30  AIOps,Codes,Conferences,DevOps,Machine learnin...   \n",
       "31  Companies,COVID-19,Deep Learning,Forecasting,L...   \n",
       "32  Automation,Bot (Internet),bots,Conferences,dee...   \n",
       "33  5G Networks,AI,Atmospheric modeling,Automation...   \n",
       "34  agile,Agile software development,Complexity th...   \n",
       "35  Automation,Codes,Continuous Integration (CI),M...   \n",
       "36  Collaboration,CPS,Deployment,Digital systems,E...   \n",
       "37  5G mobile communication,Automation,Quality of ...   \n",
       "38  best practices,important,machine learning engi...   \n",
       "39  Artificial intelligence,beyond-schema inferenc...   \n",
       "40  AutoML,Computational modeling,Conferences,Depl...   \n",
       "41  DataOps,Decision making,Machine learning,Machi...   \n",
       "42  Automation,Business,continuous delivery,contin...   \n",
       "43  Automation,Azure,Big Data,Buildings,CI/CD,DevO...   \n",
       "44  AI-Powered Systems,Architecture,Artificial Int...   \n",
       "45  5G,Cloud computing,Collaborative work,Computat...   \n",
       "46  automation,catalogues,Codes,Computer architect...   \n",
       "47  Adaptation models,Analytical models,Computatio...   \n",
       "48  Computational modeling,continuous training,Dat...   \n",
       "\n",
       "                                             abstract  \\\n",
       "0   Empowering the Internet of Things devices with...   \n",
       "1   Machine Learning Operations (MLOps) is an appr...   \n",
       "2   Due to the migration megatrend, efficient and ...   \n",
       "3   Machine Learning (ML) is a fundamental part of...   \n",
       "4   Open Radio Access Network (O-RAN) alliance was...   \n",
       "5   Machine learning (ML) is becoming critical to ...   \n",
       "6   We have developed a Distributed Denial of Serv...   \n",
       "7   The increased number of sensors in modern cars...   \n",
       "8   In recent years, model deployment in machine l...   \n",
       "9   The emerging age of connected, digital world m...   \n",
       "10  Despite the significant improvements made by d...   \n",
       "11  The advent of cloud-based super-computing plat...   \n",
       "12  Requirements engineering for machine learning ...   \n",
       "13  The research of brain tumor classification by ...   \n",
       "14  Machine learning and deep learning techniques ...   \n",
       "15  Since the advent of mobile computing and IoT, ...   \n",
       "16  The adoption of continuous software engineerin...   \n",
       "17  The industrial machine learning applications t...   \n",
       "18  Epilepsy is a major neurological disorder affe...   \n",
       "19  In this paper, we present a coverage-based reg...   \n",
       "20  Deploying machine learning (ML) models to prod...   \n",
       "21  In this study we explore the incorporation of ...   \n",
       "22  Deploying machine learning applications on edg...   \n",
       "23  Machine Learning (ML) projects are currently h...   \n",
       "24  Although AI is transforming the world, there a...   \n",
       "25  Following continuous software engineering prac...   \n",
       "26  DevOps practices have increasingly been applie...   \n",
       "27  DevOps practices have increasingly been applie...   \n",
       "28  DevOps and Machine Learning (ML) on their own ...   \n",
       "29  In the last years, MLOps (Machine Learning Ope...   \n",
       "30  DevOps practices are the de facto sandard when...   \n",
       "31  In power grids, short-term load forecasting (S...   \n",
       "32  Machine learning (ML) operations or MLOps advo...   \n",
       "33  Artificial Intelligence of Things (AIoT) is th...   \n",
       "34  Software development teams are often hampered ...   \n",
       "35  Machine Learning is a widely popular field tha...   \n",
       "36  The traditional field of industrial manufactur...   \n",
       "37  In this paper we present QMP\\textemdash an AI-...   \n",
       "38  Background. The increasing reliance on applica...   \n",
       "39  AI convergence platforms such as Google's Unif...   \n",
       "40  This paper is an concentrated overview of the ...   \n",
       "41  Even simply through a GoogleTrends search it b...   \n",
       "42  Over the past few decades, the substantial gro...   \n",
       "43  Microsoft Azure DevOps is a robust ,cross plat...   \n",
       "44  The research on engineering software applicati...   \n",
       "45  Machine Learning (ML) on the edge is key to en...   \n",
       "46  Nowadays, there are a variety of problems asso...   \n",
       "47  Real-world machine learning applications need ...   \n",
       "48  The development and deployment of machine lear...   \n",
       "\n",
       "                                          doi       issn           pages  \\\n",
       "0              10.1109/EAIS51927.2022.9787703  2473-4691            1--8   \n",
       "1                 10.1109/ACCESS.2022.3206366  2169-3536    99337--99352   \n",
       "2                     10.1145/3522664.3528592        NaN          22--32   \n",
       "3               10.1109/ICSTW52544.2021.00039        NaN        175--181   \n",
       "4                 10.1109/OJCOMS.2022.3146618  2644-125X        228--250   \n",
       "5               10.1109/ICMLA51294.2020.00104        NaN        626--633   \n",
       "6            10.1109/UEMCON53757.2021.9666619        NaN      0171--0177   \n",
       "7   10.1109/MetroAutomotive54295.2022.9855110        NaN          18--23   \n",
       "8                10.1109/AIKE52691.2021.00010        NaN          25--28   \n",
       "9                10.1109/WAIN52551.2021.00019        NaN          82--88   \n",
       "10              10.1109/ICDMW53433.2021.00049  2375-9259        341--349   \n",
       "11                10.1109/ACCESS.2022.3166115  2169-3536    38694--38708   \n",
       "12                 10.1109/RE48521.2020.00046  2332-6441        346--351   \n",
       "13            10.1109/ICBDS53701.2022.9936020        NaN            1--6   \n",
       "14              10.1109/APSEC51365.2020.00048  2640-0715        395--404   \n",
       "15               10.1109/SEAA51224.2020.00015        NaN          21--28   \n",
       "16               10.1109/SEAA53835.2021.00050        NaN            1--8   \n",
       "17                          10.15439/2022F296        NaN        403--412   \n",
       "18              10.1109/BHI50953.2021.9508555  2641-3604            1--5   \n",
       "19              10.1109/SANER50967.2021.00077  1534-5351        618--621   \n",
       "20                    10.1145/3526073.3527584        NaN            1--8   \n",
       "21                    10.1145/3522664.3528598        NaN        113--123   \n",
       "22             10.1109/IPDPSW55747.2022.00160        NaN      1003--1010   \n",
       "23             10.1109/CCGrid54584.2022.00047        NaN        376--385   \n",
       "24                    10.1145/3522664.3528607        NaN        101--112   \n",
       "25               10.1109/WAIN52551.2021.00024        NaN        109--112   \n",
       "26                    10.1145/3522664.3528611        NaN          33--34   \n",
       "27                    10.1145/3526073.3527591        NaN          45--49   \n",
       "28           10.1109/ICECET55527.2022.9872968        NaN            1--6   \n",
       "29        10.23919/SpliTech55088.2022.9854211        NaN            1--6   \n",
       "30              10.1109/SANER53432.2022.00155  1534-5351      1293--1294   \n",
       "31             10.1109/IISA56318.2022.9904363        NaN            1--8   \n",
       "32            10.1109/COMPSAC54236.2022.00171  0730-3157      1093--1097   \n",
       "33               10.1109/IC2E52221.2021.00034        NaN        191--200   \n",
       "34       10.1109/SLAAI-ICAI54477.2021.9664736        NaN            1--6   \n",
       "35           10.1109/ICECAA55415.2022.9936252        NaN      1292--1297   \n",
       "36             10.1109/MECO55406.2022.9797080  2637-9511            1--6   \n",
       "37         10.1109/MeditCom55741.2022.9928678        NaN          86--89   \n",
       "38                    10.1145/3382494.3410681        NaN           1--12   \n",
       "39                10.1109/SDS54800.2022.00020        NaN          69--70   \n",
       "40             10.1109/CCWC54503.2022.9720902        NaN      0453--0460   \n",
       "41             10.1109/SYNASC51798.2020.00015        NaN          17--23   \n",
       "42                10.1109/ACCESS.2022.3181730  2169-3536    63606--63618   \n",
       "43          10.1109/BigData50022.2020.9377755        NaN      2375--2384   \n",
       "44              10.1109/ASE51524.2021.9678647  2643-1572      1368--1372   \n",
       "45                10.1109/ACCESS.2022.3207200  2169-3536  100867--100877   \n",
       "46             10.1109/ICSA-C54293.2022.00047  2768-4288        206--209   \n",
       "47                  10.1109/TVCG.2022.3209465  1941-0506           1--11   \n",
       "48             10.1109/ICAICE51518.2020.00102        NaN        494--500   \n",
       "\n",
       "        month  year                                             author  \\\n",
       "0         May  2022  Antonini, Mattia and Pincheira, Miguel and Vec...   \n",
       "1         NaN  2022  Barrak, Amine and Petrillo, Fabio and Jaafar, ...   \n",
       "2         May  2022  Borg, Markus and Bengtsson, Johan and {\\\"O}ste...   \n",
       "3       April  2021  Borg, Markus and Jabangwe, Ronald and {\\AA}ber...   \n",
       "4         NaN  2022  Brik, Bouziane and Boutiba, Karim and Ksentini...   \n",
       "5    December  2020  Cardoso Silva, Lucas and Rezende Zagatti, Fern...   \n",
       "6    December  2021                      Das, Saikat and Shiva, Sajjan   \n",
       "7        July  2022  Flores, Thommas and Silva, Marianne and Andrad...   \n",
       "8    December  2021  Garg, Satvik and Pundir, Pradyumn and Rathee, ...   \n",
       "9         May  2021  Granlund, Tuomas and Kopponen, Aleksi and Stir...   \n",
       "10   December  2021            Greco, Salvatore and Cerquitelli, Tania   \n",
       "11        NaN  2022  Gupt, Krishn Kumar and Raja, Muhammad Adil and...   \n",
       "12     August  2020               Ishikawa, Fuyuki and Matsuno, Yutaka   \n",
       "13  September  2022  Jain, Archit and Malviya, Adarsh and Bajaj, Di...   \n",
       "14   December  2020  John, Meenu Mary and Olsson, Helena Holmstr{\\\"...   \n",
       "15     August  2020  John, Meenu Mary and Holmstr{\\\"o}m Olsson, Hel...   \n",
       "16  September  2021  John, Meenu Mary and Olsson, Helena Holmstr{\\\"...   \n",
       "17  September  2022  Kannout, Eyad and Grodzki, Micha{\\l} and Grzeg...   \n",
       "18       July  2021  Kar{\\'a}csony, Tam{\\'a}s and {Loesch-Biffar}, ...   \n",
       "19      March  2021  Kauhanen, Eero and Nurminen, Jukka K. and Mikk...   \n",
       "20        May  2022             Kolltveit, Ask Berstad and Li, Jingyue   \n",
       "21        May  2022  Laato, Samuli and Birkstedt, Teemu and M{\\\"a}n...   \n",
       "22        May  2022  Leroux, Sam and Simoens, Pieter and Lootus, Me...   \n",
       "23        May  2022  Liu, Peini and {Bravo-Rocca}, Gusseppe and Gui...   \n",
       "24        May  2022  Lu, Qinghua and Zhu, Liming and Xu, Xiwei and ...   \n",
       "25        May  2021  M{\\\"a}kinen, Sasu and Skogstr{\\\"o}m, Henrik an...   \n",
       "26        May  2022          Matsui, Beatriz M. A. and Goya, Denise H.   \n",
       "27        May  2022          Matsui, Beatriz M. A. and Goya, Denise H.   \n",
       "28       July  2022  Mboweni, Tsakani and Masombuka, Themba and Don...   \n",
       "29       July  2022  Mi{\\~n}{\\'o}n, Ra{\\'u}l and {D{\\'i}az-de-Arcay...   \n",
       "30      March  2022  Moreschini, Sergio and Lomio, Francesco and H{...   \n",
       "31       July  2022  Pelekis, Sotiris and Karakolis, Evangelos and ...   \n",
       "32       June  2022  Rahman, Akond and Bhuiyan, Farzana Ahamed and ...   \n",
       "33    October  2021  Raj, Emmanuel and Buffoni, David and Westerlun...   \n",
       "34   December  2021         Ranawana, Romesh and Karunananda, Asoka S.   \n",
       "35    October  2022                         R, Niranjan D and {Mohana}   \n",
       "36       June  2022  Ruf, Philipp and Reich, Christoph and {Ould-Ab...   \n",
       "37  September  2022  Samaras, Georgios and Theodorou, Vasileios and...   \n",
       "38    October  2020  Serban, Alex and {van der Blom}, Koen and Hoos...   \n",
       "39       June  2022                                    Spillner, Josef   \n",
       "40    January  2022  Symeonidis, Georgios and Nerantzis, Evangelos ...   \n",
       "41  September  2020                                Tamburri, Damian A.   \n",
       "42        NaN  2022  Testi, Matteo and Ballabio, Matteo and Fronton...   \n",
       "43   December  2020  Vuppalapati, Chandrasekar and Ilapakurti, Anit...   \n",
       "44   November  2021            Yasser, Ammar and {Abu-Elkhier}, Mervat   \n",
       "45        NaN  2022  Zaidi, Syed Ali Raza and Hayajneh, Ali M. and ...   \n",
       "46      March  2022  Z{\\'a}rate, Gorka and Mi{\\~n}{\\'o}n, Ra{\\'u}l ...   \n",
       "47        NaN  2022  Zhang, Xiaoyu and Ono, Jorge Piazentin and Son...   \n",
       "48    October  2020                 Zhou, Yue and Yu, Yue and Ding, Bo   \n",
       "\n",
       "                                            booktitle  \\\n",
       "0   2022 {{IEEE International Conference}} on {{Ev...   \n",
       "1                                                 NaN   \n",
       "2   2022 {{IEEE}}/{{ACM}} 1st {{International Conf...   \n",
       "3   2021 {{IEEE International Conference}} on {{So...   \n",
       "4                                                 NaN   \n",
       "5   2020 19th {{IEEE International Conference}} on...   \n",
       "6   2021 {{IEEE}} 12th {{Annual Ubiquitous Computi...   \n",
       "7   2022 {{IEEE International Workshop}} on {{Metr...   \n",
       "8   2021 {{IEEE Fourth International Conference}} ...   \n",
       "9   2021 {{IEEE}}/{{ACM}} 1st {{Workshop}} on {{AI...   \n",
       "10  2021 {{International Conference}} on {{Data Mi...   \n",
       "11                                                NaN   \n",
       "12  2020 {{IEEE}} 28th {{International Requirement...   \n",
       "13  2022 {{IEEE International Conference}} on {{Bl...   \n",
       "14  2020 27th {{Asia-Pacific Software Engineering ...   \n",
       "15  2020 46th {{Euromicro Conference}} on {{Softwa...   \n",
       "16  2021 47th {{Euromicro Conference}} on {{Softwa...   \n",
       "17  2022 17th {{Conference}} on {{Computer Science...   \n",
       "18  2021 {{IEEE EMBS International Conference}} on...   \n",
       "19  2021 {{IEEE International Conference}} on {{So...   \n",
       "20  2022 {{IEEE}}/{{ACM}} 1st {{International Work...   \n",
       "21  2022 {{IEEE}}/{{ACM}} 1st {{International Conf...   \n",
       "22  2022 {{IEEE International Parallel}} and {{Dis...   \n",
       "23  2022 22nd {{IEEE International Symposium}} on ...   \n",
       "24  2022 {{IEEE}}/{{ACM}} 1st {{International Conf...   \n",
       "25  2021 {{IEEE}}/{{ACM}} 1st {{Workshop}} on {{AI...   \n",
       "26  2022 {{IEEE}}/{{ACM}} 1st {{International Conf...   \n",
       "27  2022 {{IEEE}}/{{ACM}} 1st {{International Work...   \n",
       "28  2022 {{International Conference}} on {{Electri...   \n",
       "29  2022 7th {{International Conference}} on {{Sma...   \n",
       "30  2022 {{IEEE International Conference}} on {{So...   \n",
       "31  2022 13th {{International Conference}} on {{In...   \n",
       "32  2022 {{IEEE}} 46th {{Annual Computers}}, {{Sof...   \n",
       "33  2021 {{IEEE International Conference}} on {{Cl...   \n",
       "34  2021 5th {{SLAAI International Conference}} on...   \n",
       "35  2022 {{International Conference}} on {{Edge Co...   \n",
       "36  2022 11th {{Mediterranean Conference}} on {{Em...   \n",
       "37  2022 {{IEEE International Mediterranean Confer...   \n",
       "38  Proceedings of the 14th {{ACM}} / {{IEEE Inter...   \n",
       "39  2022 9th {{Swiss Conference}} on {{Data Scienc...   \n",
       "40  2022 {{IEEE}} 12th {{Annual Computing}} and {{...   \n",
       "41  2020 22nd {{International Symposium}} on {{Sym...   \n",
       "42                                                NaN   \n",
       "43  2020 {{IEEE International Conference}} on {{Bi...   \n",
       "44  2021 36th {{IEEE}}/{{ACM International Confere...   \n",
       "45                                                NaN   \n",
       "46  2022 {{IEEE}} 19th {{International Conference}...   \n",
       "47                                                NaN   \n",
       "48  2020 {{International Conference}} on {{Artific...   \n",
       "\n",
       "                                           shorttitle  \\\n",
       "0                                      Tiny-{{MLOps}}   \n",
       "1                  Serverless on {{Machine Learning}}   \n",
       "2                                                 NaN   \n",
       "3                                                 NaN   \n",
       "4   Deep {{Learning}} for {{B5G Open Radio Access ...   \n",
       "5                                                 NaN   \n",
       "6                                                 NaN   \n",
       "7                                                 NaN   \n",
       "8                                                 NaN   \n",
       "9   {{MLOps Challenges}} in {{Multi-Organization S...   \n",
       "10                                     Drift {{Lens}}   \n",
       "11                                                NaN   \n",
       "12                                                NaN   \n",
       "13                                                NaN   \n",
       "14                     {{AI Deployment Architecture}}   \n",
       "15                             {{AI}} on the {{Edge}}   \n",
       "16                                  Towards {{MLOps}}   \n",
       "17                                                NaN   \n",
       "18                                       {{DeepEpil}}   \n",
       "19                                                NaN   \n",
       "20                                                NaN   \n",
       "21  {{AI Governance}} in the {{System Development ...   \n",
       "22                                      {{TinyMLOps}}   \n",
       "23                                   Scanflow-{{K8s}}   \n",
       "24                                                NaN   \n",
       "25                                Who {{Needs MLOps}}   \n",
       "26                                          {{MLOps}}   \n",
       "27                                          {{MLOps}}   \n",
       "28                                                NaN   \n",
       "29                                       {{MLPacker}}   \n",
       "30                                                NaN   \n",
       "31  In {{Search}} of {{Deep Learning Architectures...   \n",
       "32               Towards {{Automation}} for {{MLOps}}   \n",
       "33                                     Edge {{MLOps}}   \n",
       "34                                                NaN   \n",
       "35                              Jenkins {{Pipelines}}   \n",
       "36                                                NaN   \n",
       "37                                            {{QMP}}   \n",
       "38                                                NaN   \n",
       "39                                                NaN   \n",
       "40                                                NaN   \n",
       "41                              Sustainable {{MLOps}}   \n",
       "42                                          {{MLOps}}   \n",
       "43                                                NaN   \n",
       "44           Towards {{Fluid Software Architectures}}   \n",
       "45                                                NaN   \n",
       "46                                            {{K2E}}   \n",
       "47                                    {{SliceTeller}}   \n",
       "48                                  Towards {{MLOps}}   \n",
       "\n",
       "                                                title      ENTRYTYPE  \\\n",
       "0   Tiny-{{MLOps}}: A Framework for Orchestrating ...  inproceedings   \n",
       "1   Serverless on {{Machine Learning}}: {{A System...        article   \n",
       "2   Quality {{Assurance}} of {{Generative Dialog M...  inproceedings   \n",
       "3   Test {{Automation}} with {{Grad-CAM Heatmaps}}...  inproceedings   \n",
       "4   Deep {{Learning}} for {{B5G Open Radio Access ...        article   \n",
       "5   Benchmarking {{Machine Learning Solutions}} in...  inproceedings   \n",
       "6   Machine {{Learning}} Application Lifecycle Aug...  inproceedings   \n",
       "7   A {{TinyML Soft-Sensor}} for the {{Internet}} ...  inproceedings   \n",
       "8   On {{Continuous Integration}} / {{Continuous D...  inproceedings   \n",
       "9   {{MLOps Challenges}} in {{Multi-Organization S...  inproceedings   \n",
       "10  Drift {{Lens}}: {{Real-time}} Unsupervised {{C...  inproceedings   \n",
       "11  {{GELAB}} \\textendash{} {{The Cutting Edge}} o...        article   \n",
       "12  Evidence-Driven {{Requirements Engineering}} f...  inproceedings   \n",
       "13  Brain {{Tumor Detection}} Using {{MLops}} and ...  inproceedings   \n",
       "14  {{AI Deployment Architecture}}: {{Multi-Case S...  inproceedings   \n",
       "15  {{AI}} on the {{Edge}}: {{Architectural Altern...  inproceedings   \n",
       "16  Towards {{MLOps}}: {{A Framework}} and {{Matur...  inproceedings   \n",
       "17  Considering Various Aspects of Models' Quality...  inproceedings   \n",
       "18  {{DeepEpil}}: {{Towards}} an {{Epileptologist-...  inproceedings   \n",
       "19  Regression {{Test Selection Tool}} for {{Pytho...  inproceedings   \n",
       "20  Operationalizing {{Machine Learning Models}} -...  inproceedings   \n",
       "21  {{AI Governance}} in the {{System Development ...  inproceedings   \n",
       "22  {{TinyMLOps}}: {{Operational Challenges}} for ...  inproceedings   \n",
       "23  Scanflow-{{K8s}}: {{Agent-based Framework}} fo...  inproceedings   \n",
       "24  Towards a {{Roadmap}} on {{Software Engineerin...  inproceedings   \n",
       "25  Who {{Needs MLOps}}: {{What Data Scientists Se...  inproceedings   \n",
       "26  {{MLOps}}: {{Five Steps}} to {{Guide}} Its {{E...  inproceedings   \n",
       "27  {{MLOps}}: {{A Guide}} to Its {{Adoption}} in ...  inproceedings   \n",
       "28  A {{Systematic Review}} of {{Machine Learning ...  inproceedings   \n",
       "29  {{MLPacker}}: {{A Unified Software Tool}} for ...  inproceedings   \n",
       "30  {{MLOps}} for Evolvable {{AI}} Intensive Softw...  inproceedings   \n",
       "31  In {{Search}} of {{Deep Learning Architectures...  inproceedings   \n",
       "32  Towards {{Automation}} for {{MLOps}}: {{An Exp...  inproceedings   \n",
       "33  Edge {{MLOps}}: {{An Automation Framework}} fo...  inproceedings   \n",
       "34  An {{Agile Software Development Life Cycle Mod...  inproceedings   \n",
       "35  Jenkins {{Pipelines}}: {{A Novel Approach}} to...  inproceedings   \n",
       "36  Aspects of {{Module Placement}} in {{Machine L...  inproceedings   \n",
       "37  {{QMP}}: {{A Cloud-native MLOps Automation Pla...  inproceedings   \n",
       "38  Adoption and {{Effects}} of {{Software Enginee...  inproceedings   \n",
       "39  Tabular {{Data Insights}} and {{Synthesis}} wi...  inproceedings   \n",
       "40  {{MLOps}} - {{Definitions}}, {{Tools}} and {{C...  inproceedings   \n",
       "41  Sustainable {{MLOps}}: {{Trends}} and {{Challe...  inproceedings   \n",
       "42    {{MLOps}}: {{A Taxonomy}} and a {{Methodology}}        article   \n",
       "43  Automating {{Tiny ML Intelligent Sensors DevOP...  inproceedings   \n",
       "44  Towards {{Fluid Software Architectures}}: {{Bi...  inproceedings   \n",
       "45  Unlocking {{Edge Intelligence Through Tiny Mac...        article   \n",
       "46  {{K2E}}: {{Building MLOps Environments}} for {...  inproceedings   \n",
       "47  {{SliceTeller}} : {{A Data Slice-Driven Approa...        article   \n",
       "48  Towards {{MLOps}}: {{A Case Study}} of {{ML Pi...  inproceedings   \n",
       "\n",
       "                                                   ID volume  \\\n",
       "0         antoniniTinyMLOpsFrameworkOrchestrating2022    NaN   \n",
       "1                 barrakServerlessMachineLearning2022     10   \n",
       "2                  borgQualityAssuranceGenerative2022    NaN   \n",
       "3                       borgTestAutomationGradCAM2021    NaN   \n",
       "4                             brikDeepLearningB5G2022      3   \n",
       "5         cardososilvaBenchmarkingMachineLearning2020    NaN   \n",
       "6                   dasMachineLearningApplication2021    NaN   \n",
       "7                  floresTinyMLSoftSensorInternet2022    NaN   \n",
       "8             gargContinuousIntegrationContinuous2021    NaN   \n",
       "9        granlundMLOpsChallengesMultiOrganization2021    NaN   \n",
       "10                         grecoDriftLensRealtime2021    NaN   \n",
       "11                           guptGELABCuttingEdge2022     10   \n",
       "12  ishikawaEvidencedrivenRequirementsEngineering2020    NaN   \n",
       "13                        jainBrainTumorDetection2022    NaN   \n",
       "14                   johnAIDeploymentArchitecture2020    NaN   \n",
       "15                        johnAIEdgeArchitectural2020    NaN   \n",
       "16                     johnMLOpsFrameworkMaturity2021    NaN   \n",
       "17               kannoutConsideringVariousAspects2022    NaN   \n",
       "18      karacsonyDeepEpilEpileptologistFriendlyAI2021    NaN   \n",
       "19                kauhanenRegressionTestSelection2021    NaN   \n",
       "20       kolltveitOperationalizingMachineLearning2022    NaN   \n",
       "21                        laatoAIGovernanceSystem2022    NaN   \n",
       "22           lerouxTinyMLOpsOperationalChallenges2022    NaN   \n",
       "23              liuScanflowK8sAgentbasedFramework2022    NaN   \n",
       "24                   luRoadmapSoftwareEngineering2022    NaN   \n",
       "25                           makinenWhoNeedsMLOps2021    NaN   \n",
       "26                           matsuiMLOpsFiveSteps2022    NaN   \n",
       "27                            matsuiMLOpsGuideIts2022    NaN   \n",
       "28                 mboweniSystematicReviewMachine2022    NaN   \n",
       "29                   minonMLPackerUnifiedSoftware2022    NaN   \n",
       "30                     moreschiniMLOpsEvolvableAI2022    NaN   \n",
       "31                      pelekisSearchDeepLearning2022    NaN   \n",
       "32               rahmanAutomationMLOpsExploratory2022    NaN   \n",
       "33                         rajEdgeMLOpsAutomation2021    NaN   \n",
       "34               ranawanaAgileSoftwareDevelopment2021    NaN   \n",
       "35                         rJenkinsPipelinesNovel2022    NaN   \n",
       "36                      rufAspectsModulePlacement2022    NaN   \n",
       "37                     samarasQMPCloudnativeMLOps2022    NaN   \n",
       "38                  serbanAdoptionEffectsSoftware2020    NaN   \n",
       "39                    spillnerTabularDataInsights2022    NaN   \n",
       "40                symeonidisMLOpsDefinitionsTools2022    NaN   \n",
       "41                 tamburriSustainableMLOpsTrends2020    NaN   \n",
       "42                  testiMLOpsTaxonomyMethodology2022     10   \n",
       "43                    vuppalapatiAutomatingTinyML2020    NaN   \n",
       "44               yasserFluidSoftwareArchitectures2021    NaN   \n",
       "45                 zaidiUnlockingEdgeIntelligence2022     10   \n",
       "46                         zarateK2EBuildingMLOps2022    NaN   \n",
       "47                zhangSliceTellerDataSliceDriven2022    NaN   \n",
       "48                             zhouMLOpsCaseStudy2020    NaN   \n",
       "\n",
       "                                              journal               isbn  \\\n",
       "0                                                 NaN                NaN   \n",
       "1                                         IEEE Access                NaN   \n",
       "2                                                 NaN                NaN   \n",
       "3                                                 NaN                NaN   \n",
       "4     IEEE Open Journal of the Communications Society                NaN   \n",
       "5                                                 NaN                NaN   \n",
       "6                                                 NaN                NaN   \n",
       "7                                                 NaN                NaN   \n",
       "8                                                 NaN                NaN   \n",
       "9                                                 NaN                NaN   \n",
       "10                                                NaN                NaN   \n",
       "11                                        IEEE Access                NaN   \n",
       "12                                                NaN                NaN   \n",
       "13                                                NaN                NaN   \n",
       "14                                                NaN                NaN   \n",
       "15                                                NaN                NaN   \n",
       "16                                                NaN                NaN   \n",
       "17                                                NaN                NaN   \n",
       "18                                                NaN                NaN   \n",
       "19                                                NaN                NaN   \n",
       "20                                                NaN                NaN   \n",
       "21                                                NaN                NaN   \n",
       "22                                                NaN                NaN   \n",
       "23                                                NaN                NaN   \n",
       "24                                                NaN                NaN   \n",
       "25                                                NaN                NaN   \n",
       "26                                                NaN                NaN   \n",
       "27                                                NaN                NaN   \n",
       "28                                                NaN                NaN   \n",
       "29                                                NaN                NaN   \n",
       "30                                                NaN                NaN   \n",
       "31                                                NaN                NaN   \n",
       "32                                                NaN                NaN   \n",
       "33                                                NaN                NaN   \n",
       "34                                                NaN                NaN   \n",
       "35                                                NaN                NaN   \n",
       "36                                                NaN                NaN   \n",
       "37                                                NaN                NaN   \n",
       "38                                                NaN  978-1-4503-7580-1   \n",
       "39                                                NaN                NaN   \n",
       "40                                                NaN                NaN   \n",
       "41                                                NaN                NaN   \n",
       "42                                        IEEE Access                NaN   \n",
       "43                                                NaN                NaN   \n",
       "44                                                NaN                NaN   \n",
       "45                                        IEEE Access                NaN   \n",
       "46                                                NaN                NaN   \n",
       "47  IEEE Transactions on Visualization and Compute...                NaN   \n",
       "48                                                NaN                NaN   \n",
       "\n",
       "                address                              publisher        series  \n",
       "0                   NaN                                    NaN           NaN  \n",
       "1                   NaN                                    NaN           NaN  \n",
       "2                   NaN                                    NaN           NaN  \n",
       "3                   NaN                                    NaN           NaN  \n",
       "4                   NaN                                    NaN           NaN  \n",
       "5                   NaN                                    NaN           NaN  \n",
       "6                   NaN                                    NaN           NaN  \n",
       "7                   NaN                                    NaN           NaN  \n",
       "8                   NaN                                    NaN           NaN  \n",
       "9                   NaN                                    NaN           NaN  \n",
       "10                  NaN                                    NaN           NaN  \n",
       "11                  NaN                                    NaN           NaN  \n",
       "12                  NaN                                    NaN           NaN  \n",
       "13                  NaN                                    NaN           NaN  \n",
       "14                  NaN                                    NaN           NaN  \n",
       "15                  NaN                                    NaN           NaN  \n",
       "16                  NaN                                    NaN           NaN  \n",
       "17                  NaN                                    NaN           NaN  \n",
       "18                  NaN                                    NaN           NaN  \n",
       "19                  NaN                                    NaN           NaN  \n",
       "20                  NaN                                    NaN           NaN  \n",
       "21                  NaN                                    NaN           NaN  \n",
       "22                  NaN                                    NaN           NaN  \n",
       "23                  NaN                                    NaN           NaN  \n",
       "24                  NaN                                    NaN           NaN  \n",
       "25                  NaN                                    NaN           NaN  \n",
       "26                  NaN                                    NaN           NaN  \n",
       "27                  NaN                                    NaN           NaN  \n",
       "28                  NaN                                    NaN           NaN  \n",
       "29                  NaN                                    NaN           NaN  \n",
       "30                  NaN                                    NaN           NaN  \n",
       "31                  NaN                                    NaN           NaN  \n",
       "32                  NaN                                    NaN           NaN  \n",
       "33                  NaN                                    NaN           NaN  \n",
       "34                  NaN                                    NaN           NaN  \n",
       "35                  NaN                                    NaN           NaN  \n",
       "36                  NaN                                    NaN           NaN  \n",
       "37                  NaN                                    NaN           NaN  \n",
       "38  {New York, NY, USA}  {Association for Computing Machinery}  {{ESEM}} '20  \n",
       "39                  NaN                                    NaN           NaN  \n",
       "40                  NaN                                    NaN           NaN  \n",
       "41                  NaN                                    NaN           NaN  \n",
       "42                  NaN                                    NaN           NaN  \n",
       "43                  NaN                                    NaN           NaN  \n",
       "44                  NaN                                    NaN           NaN  \n",
       "45                  NaN                                    NaN           NaN  \n",
       "46                  NaN                                    NaN           NaN  \n",
       "47                  NaN                                    NaN           NaN  \n",
       "48                  NaN                                    NaN           NaN  "
      ]
     },
     "execution_count": 7,
     "metadata": {},
     "output_type": "execute_result"
    }
   ],
   "source": [
    "df"
   ]
  },
  {
   "cell_type": "markdown",
   "metadata": {},
   "source": [
    "## Remov unuseful columns"
   ]
  },
  {
   "cell_type": "code",
   "execution_count": 8,
   "metadata": {
    "ExecuteTime": {
     "end_time": "2022-12-23T18:55:07.658279Z",
     "start_time": "2022-12-23T18:55:07.655646Z"
    }
   },
   "outputs": [
    {
     "data": {
      "text/plain": [
       "Index(['file', 'note', 'keywords', 'abstract', 'doi', 'issn', 'pages', 'month',\n",
       "       'year', 'author', 'booktitle', 'shorttitle', 'title', 'ENTRYTYPE', 'ID',\n",
       "       'volume', 'journal', 'isbn', 'address', 'publisher', 'series'],\n",
       "      dtype='object')"
      ]
     },
     "execution_count": 8,
     "metadata": {},
     "output_type": "execute_result"
    }
   ],
   "source": [
    "df.columns"
   ]
  },
  {
   "cell_type": "code",
   "execution_count": 9,
   "metadata": {
    "ExecuteTime": {
     "end_time": "2022-12-23T18:55:07.667018Z",
     "start_time": "2022-12-23T18:55:07.661468Z"
    }
   },
   "outputs": [],
   "source": [
    "unuseful_cols = [\n",
    "    'file', 'doi', 'issn', 'pages', 'booktitle', 'shorttitle', 'month',\n",
    "    'volume', 'journal', 'isbn', 'address', 'publisher', 'series', 'ENTRYTYPE'\n",
    "]"
   ]
  },
  {
   "cell_type": "code",
   "execution_count": 10,
   "metadata": {
    "ExecuteTime": {
     "end_time": "2022-12-23T18:55:07.674497Z",
     "start_time": "2022-12-23T18:55:07.668642Z"
    }
   },
   "outputs": [
    {
     "data": {
      "text/plain": [
       "['note', 'keywords', 'abstract', 'year', 'author', 'title', 'ID']"
      ]
     },
     "execution_count": 10,
     "metadata": {},
     "output_type": "execute_result"
    }
   ],
   "source": [
    "useful_columns = [col for col in df.columns if col not in unuseful_cols]\n",
    "useful_columns"
   ]
  },
  {
   "cell_type": "code",
   "execution_count": 11,
   "metadata": {
    "ExecuteTime": {
     "end_time": "2022-12-23T18:55:07.681584Z",
     "start_time": "2022-12-23T18:55:07.677397Z"
    }
   },
   "outputs": [],
   "source": [
    "df = df[useful_columns]"
   ]
  },
  {
   "cell_type": "code",
   "execution_count": 12,
   "metadata": {
    "ExecuteTime": {
     "end_time": "2022-12-23T18:55:07.689089Z",
     "start_time": "2022-12-23T18:55:07.682898Z"
    }
   },
   "outputs": [
    {
     "data": {
      "text/html": [
       "<div>\n",
       "<style scoped>\n",
       "    .dataframe tbody tr th:only-of-type {\n",
       "        vertical-align: middle;\n",
       "    }\n",
       "\n",
       "    .dataframe tbody tr th {\n",
       "        vertical-align: top;\n",
       "    }\n",
       "\n",
       "    .dataframe thead th {\n",
       "        text-align: right;\n",
       "    }\n",
       "</style>\n",
       "<table border=\"1\" class=\"dataframe\">\n",
       "  <thead>\n",
       "    <tr style=\"text-align: right;\">\n",
       "      <th></th>\n",
       "      <th>note</th>\n",
       "      <th>keywords</th>\n",
       "      <th>abstract</th>\n",
       "      <th>year</th>\n",
       "      <th>author</th>\n",
       "      <th>title</th>\n",
       "      <th>ID</th>\n",
       "    </tr>\n",
       "  </thead>\n",
       "  <tbody>\n",
       "    <tr>\n",
       "      <th>0</th>\n",
       "      <td>2\\n\\par\\nresearch: solution\\n\\par\\ncont: cases...</td>\n",
       "      <td>Adaptation models,Costs,Image edge detection,R...</td>\n",
       "      <td>Empowering the Internet of Things devices with...</td>\n",
       "      <td>2022</td>\n",
       "      <td>Antonini, Mattia and Pincheira, Miguel and Vec...</td>\n",
       "      <td>Tiny-{{MLOps}}: A Framework for Orchestrating ...</td>\n",
       "      <td>antoniniTinyMLOpsFrameworkOrchestrating2022</td>\n",
       "    </tr>\n",
       "    <tr>\n",
       "      <th>1</th>\n",
       "      <td>2\\n\\par\\nresearch: philosophical\\n\\par\\ncont: ...</td>\n",
       "      <td>Cloud computing,Computational modeling,Compute...</td>\n",
       "      <td>Machine Learning Operations (MLOps) is an appr...</td>\n",
       "      <td>2022</td>\n",
       "      <td>Barrak, Amine and Petrillo, Fabio and Jaafar, ...</td>\n",
       "      <td>Serverless on {{Machine Learning}}: {{A System...</td>\n",
       "      <td>barrakServerlessMachineLearning2022</td>\n",
       "    </tr>\n",
       "    <tr>\n",
       "      <th>2</th>\n",
       "      <td>2\\n\\par\\nresearch: solution\\n\\par\\ncont: cases...</td>\n",
       "      <td>action research,AI quality,Context modeling,co...</td>\n",
       "      <td>Due to the migration megatrend, efficient and ...</td>\n",
       "      <td>2022</td>\n",
       "      <td>Borg, Markus and Bengtsson, Johan and {\\\"O}ste...</td>\n",
       "      <td>Quality {{Assurance}} of {{Generative Dialog M...</td>\n",
       "      <td>borgQualityAssuranceGenerative2022</td>\n",
       "    </tr>\n",
       "    <tr>\n",
       "      <th>3</th>\n",
       "      <td>2\\n\\par\\nresearch: validation\\n\\par\\ncont: cas...</td>\n",
       "      <td>Automation,Conferences,Grad-CAM,Heating system...</td>\n",
       "      <td>Machine Learning (ML) is a fundamental part of...</td>\n",
       "      <td>2021</td>\n",
       "      <td>Borg, Markus and Jabangwe, Ronald and {\\AA}ber...</td>\n",
       "      <td>Test {{Automation}} with {{Grad-CAM Heatmaps}}...</td>\n",
       "      <td>borgTestAutomationGradCAM2021</td>\n",
       "    </tr>\n",
       "    <tr>\n",
       "      <th>4</th>\n",
       "      <td>2\\n\\par\\nresearch: philosophical\\n\\par\\ncont: ...</td>\n",
       "      <td>5G mobile communication,B5G networks,Cloud com...</td>\n",
       "      <td>Open Radio Access Network (O-RAN) alliance was...</td>\n",
       "      <td>2022</td>\n",
       "      <td>Brik, Bouziane and Boutiba, Karim and Ksentini...</td>\n",
       "      <td>Deep {{Learning}} for {{B5G Open Radio Access ...</td>\n",
       "      <td>brikDeepLearningB5G2022</td>\n",
       "    </tr>\n",
       "  </tbody>\n",
       "</table>\n",
       "</div>"
      ],
      "text/plain": [
       "                                                note  \\\n",
       "0  2\\n\\par\\nresearch: solution\\n\\par\\ncont: cases...   \n",
       "1  2\\n\\par\\nresearch: philosophical\\n\\par\\ncont: ...   \n",
       "2  2\\n\\par\\nresearch: solution\\n\\par\\ncont: cases...   \n",
       "3  2\\n\\par\\nresearch: validation\\n\\par\\ncont: cas...   \n",
       "4  2\\n\\par\\nresearch: philosophical\\n\\par\\ncont: ...   \n",
       "\n",
       "                                            keywords  \\\n",
       "0  Adaptation models,Costs,Image edge detection,R...   \n",
       "1  Cloud computing,Computational modeling,Compute...   \n",
       "2  action research,AI quality,Context modeling,co...   \n",
       "3  Automation,Conferences,Grad-CAM,Heating system...   \n",
       "4  5G mobile communication,B5G networks,Cloud com...   \n",
       "\n",
       "                                            abstract  year  \\\n",
       "0  Empowering the Internet of Things devices with...  2022   \n",
       "1  Machine Learning Operations (MLOps) is an appr...  2022   \n",
       "2  Due to the migration megatrend, efficient and ...  2022   \n",
       "3  Machine Learning (ML) is a fundamental part of...  2021   \n",
       "4  Open Radio Access Network (O-RAN) alliance was...  2022   \n",
       "\n",
       "                                              author  \\\n",
       "0  Antonini, Mattia and Pincheira, Miguel and Vec...   \n",
       "1  Barrak, Amine and Petrillo, Fabio and Jaafar, ...   \n",
       "2  Borg, Markus and Bengtsson, Johan and {\\\"O}ste...   \n",
       "3  Borg, Markus and Jabangwe, Ronald and {\\AA}ber...   \n",
       "4  Brik, Bouziane and Boutiba, Karim and Ksentini...   \n",
       "\n",
       "                                               title  \\\n",
       "0  Tiny-{{MLOps}}: A Framework for Orchestrating ...   \n",
       "1  Serverless on {{Machine Learning}}: {{A System...   \n",
       "2  Quality {{Assurance}} of {{Generative Dialog M...   \n",
       "3  Test {{Automation}} with {{Grad-CAM Heatmaps}}...   \n",
       "4  Deep {{Learning}} for {{B5G Open Radio Access ...   \n",
       "\n",
       "                                            ID  \n",
       "0  antoniniTinyMLOpsFrameworkOrchestrating2022  \n",
       "1          barrakServerlessMachineLearning2022  \n",
       "2           borgQualityAssuranceGenerative2022  \n",
       "3                borgTestAutomationGradCAM2021  \n",
       "4                      brikDeepLearningB5G2022  "
      ]
     },
     "execution_count": 12,
     "metadata": {},
     "output_type": "execute_result"
    }
   ],
   "source": [
    "df.head()"
   ]
  },
  {
   "cell_type": "code",
   "execution_count": 13,
   "metadata": {
    "ExecuteTime": {
     "end_time": "2022-12-23T18:55:07.693155Z",
     "start_time": "2022-12-23T18:55:07.690501Z"
    }
   },
   "outputs": [
    {
     "data": {
      "text/plain": [
       "(49, 7)"
      ]
     },
     "execution_count": 13,
     "metadata": {},
     "output_type": "execute_result"
    }
   ],
   "source": [
    "df.shape"
   ]
  },
  {
   "cell_type": "markdown",
   "metadata": {},
   "source": [
    "## Add columns for mapping study facets"
   ]
  },
  {
   "cell_type": "code",
   "execution_count": 14,
   "metadata": {
    "ExecuteTime": {
     "end_time": "2022-12-23T18:55:07.698939Z",
     "start_time": "2022-12-23T18:55:07.694417Z"
    },
    "hide_input": false
   },
   "outputs": [
    {
     "data": {
      "text/plain": [
       "(49, 11)"
      ]
     },
     "execution_count": 14,
     "metadata": {},
     "output_type": "execute_result"
    }
   ],
   "source": [
    "# add new columns\n",
    "only_notes_df = df[df.note.notna()].copy()\n",
    "\n",
    "if len(only_notes_df) != len(df):\n",
    "    raise ValueError('There are articles with missing notes')\n",
    "\n",
    "only_notes_df = only_notes_df.reindex(only_notes_df.columns.tolist() +\n",
    "                                      search_words,\n",
    "                                      axis=1)\n",
    "\n",
    "only_notes_df.shape  #.columns"
   ]
  },
  {
   "cell_type": "markdown",
   "metadata": {},
   "source": [
    "# Final DF"
   ]
  },
  {
   "cell_type": "code",
   "execution_count": 15,
   "metadata": {
    "ExecuteTime": {
     "end_time": "2022-12-23T18:55:07.708475Z",
     "start_time": "2022-12-23T18:55:07.700245Z"
    }
   },
   "outputs": [
    {
     "data": {
      "text/html": [
       "<div>\n",
       "<style scoped>\n",
       "    .dataframe tbody tr th:only-of-type {\n",
       "        vertical-align: middle;\n",
       "    }\n",
       "\n",
       "    .dataframe tbody tr th {\n",
       "        vertical-align: top;\n",
       "    }\n",
       "\n",
       "    .dataframe thead th {\n",
       "        text-align: right;\n",
       "    }\n",
       "</style>\n",
       "<table border=\"1\" class=\"dataframe\">\n",
       "  <thead>\n",
       "    <tr style=\"text-align: right;\">\n",
       "      <th></th>\n",
       "      <th>note</th>\n",
       "      <th>keywords</th>\n",
       "      <th>abstract</th>\n",
       "      <th>year</th>\n",
       "      <th>author</th>\n",
       "      <th>title</th>\n",
       "      <th>ID</th>\n",
       "      <th>research</th>\n",
       "      <th>cont</th>\n",
       "      <th>domain</th>\n",
       "      <th>summary</th>\n",
       "    </tr>\n",
       "  </thead>\n",
       "  <tbody>\n",
       "    <tr>\n",
       "      <th>0</th>\n",
       "      <td>2\\n\\par\\nresearch: solution\\n\\par\\ncont: cases...</td>\n",
       "      <td>Adaptation models,Costs,Image edge detection,R...</td>\n",
       "      <td>Empowering the Internet of Things devices with...</td>\n",
       "      <td>2022</td>\n",
       "      <td>Antonini, Mattia and Pincheira, Miguel and Vec...</td>\n",
       "      <td>Tiny-{{MLOps}}: A Framework for Orchestrating ...</td>\n",
       "      <td>antoniniTinyMLOpsFrameworkOrchestrating2022</td>\n",
       "      <td>NaN</td>\n",
       "      <td>NaN</td>\n",
       "      <td>NaN</td>\n",
       "      <td>NaN</td>\n",
       "    </tr>\n",
       "    <tr>\n",
       "      <th>1</th>\n",
       "      <td>2\\n\\par\\nresearch: philosophical\\n\\par\\ncont: ...</td>\n",
       "      <td>Cloud computing,Computational modeling,Compute...</td>\n",
       "      <td>Machine Learning Operations (MLOps) is an appr...</td>\n",
       "      <td>2022</td>\n",
       "      <td>Barrak, Amine and Petrillo, Fabio and Jaafar, ...</td>\n",
       "      <td>Serverless on {{Machine Learning}}: {{A System...</td>\n",
       "      <td>barrakServerlessMachineLearning2022</td>\n",
       "      <td>NaN</td>\n",
       "      <td>NaN</td>\n",
       "      <td>NaN</td>\n",
       "      <td>NaN</td>\n",
       "    </tr>\n",
       "    <tr>\n",
       "      <th>2</th>\n",
       "      <td>2\\n\\par\\nresearch: solution\\n\\par\\ncont: cases...</td>\n",
       "      <td>action research,AI quality,Context modeling,co...</td>\n",
       "      <td>Due to the migration megatrend, efficient and ...</td>\n",
       "      <td>2022</td>\n",
       "      <td>Borg, Markus and Bengtsson, Johan and {\\\"O}ste...</td>\n",
       "      <td>Quality {{Assurance}} of {{Generative Dialog M...</td>\n",
       "      <td>borgQualityAssuranceGenerative2022</td>\n",
       "      <td>NaN</td>\n",
       "      <td>NaN</td>\n",
       "      <td>NaN</td>\n",
       "      <td>NaN</td>\n",
       "    </tr>\n",
       "    <tr>\n",
       "      <th>3</th>\n",
       "      <td>2\\n\\par\\nresearch: validation\\n\\par\\ncont: cas...</td>\n",
       "      <td>Automation,Conferences,Grad-CAM,Heating system...</td>\n",
       "      <td>Machine Learning (ML) is a fundamental part of...</td>\n",
       "      <td>2021</td>\n",
       "      <td>Borg, Markus and Jabangwe, Ronald and {\\AA}ber...</td>\n",
       "      <td>Test {{Automation}} with {{Grad-CAM Heatmaps}}...</td>\n",
       "      <td>borgTestAutomationGradCAM2021</td>\n",
       "      <td>NaN</td>\n",
       "      <td>NaN</td>\n",
       "      <td>NaN</td>\n",
       "      <td>NaN</td>\n",
       "    </tr>\n",
       "    <tr>\n",
       "      <th>4</th>\n",
       "      <td>2\\n\\par\\nresearch: philosophical\\n\\par\\ncont: ...</td>\n",
       "      <td>5G mobile communication,B5G networks,Cloud com...</td>\n",
       "      <td>Open Radio Access Network (O-RAN) alliance was...</td>\n",
       "      <td>2022</td>\n",
       "      <td>Brik, Bouziane and Boutiba, Karim and Ksentini...</td>\n",
       "      <td>Deep {{Learning}} for {{B5G Open Radio Access ...</td>\n",
       "      <td>brikDeepLearningB5G2022</td>\n",
       "      <td>NaN</td>\n",
       "      <td>NaN</td>\n",
       "      <td>NaN</td>\n",
       "      <td>NaN</td>\n",
       "    </tr>\n",
       "  </tbody>\n",
       "</table>\n",
       "</div>"
      ],
      "text/plain": [
       "                                                note  \\\n",
       "0  2\\n\\par\\nresearch: solution\\n\\par\\ncont: cases...   \n",
       "1  2\\n\\par\\nresearch: philosophical\\n\\par\\ncont: ...   \n",
       "2  2\\n\\par\\nresearch: solution\\n\\par\\ncont: cases...   \n",
       "3  2\\n\\par\\nresearch: validation\\n\\par\\ncont: cas...   \n",
       "4  2\\n\\par\\nresearch: philosophical\\n\\par\\ncont: ...   \n",
       "\n",
       "                                            keywords  \\\n",
       "0  Adaptation models,Costs,Image edge detection,R...   \n",
       "1  Cloud computing,Computational modeling,Compute...   \n",
       "2  action research,AI quality,Context modeling,co...   \n",
       "3  Automation,Conferences,Grad-CAM,Heating system...   \n",
       "4  5G mobile communication,B5G networks,Cloud com...   \n",
       "\n",
       "                                            abstract  year  \\\n",
       "0  Empowering the Internet of Things devices with...  2022   \n",
       "1  Machine Learning Operations (MLOps) is an appr...  2022   \n",
       "2  Due to the migration megatrend, efficient and ...  2022   \n",
       "3  Machine Learning (ML) is a fundamental part of...  2021   \n",
       "4  Open Radio Access Network (O-RAN) alliance was...  2022   \n",
       "\n",
       "                                              author  \\\n",
       "0  Antonini, Mattia and Pincheira, Miguel and Vec...   \n",
       "1  Barrak, Amine and Petrillo, Fabio and Jaafar, ...   \n",
       "2  Borg, Markus and Bengtsson, Johan and {\\\"O}ste...   \n",
       "3  Borg, Markus and Jabangwe, Ronald and {\\AA}ber...   \n",
       "4  Brik, Bouziane and Boutiba, Karim and Ksentini...   \n",
       "\n",
       "                                               title  \\\n",
       "0  Tiny-{{MLOps}}: A Framework for Orchestrating ...   \n",
       "1  Serverless on {{Machine Learning}}: {{A System...   \n",
       "2  Quality {{Assurance}} of {{Generative Dialog M...   \n",
       "3  Test {{Automation}} with {{Grad-CAM Heatmaps}}...   \n",
       "4  Deep {{Learning}} for {{B5G Open Radio Access ...   \n",
       "\n",
       "                                            ID  research  cont  domain  \\\n",
       "0  antoniniTinyMLOpsFrameworkOrchestrating2022       NaN   NaN     NaN   \n",
       "1          barrakServerlessMachineLearning2022       NaN   NaN     NaN   \n",
       "2           borgQualityAssuranceGenerative2022       NaN   NaN     NaN   \n",
       "3                borgTestAutomationGradCAM2021       NaN   NaN     NaN   \n",
       "4                      brikDeepLearningB5G2022       NaN   NaN     NaN   \n",
       "\n",
       "   summary  \n",
       "0      NaN  \n",
       "1      NaN  \n",
       "2      NaN  \n",
       "3      NaN  \n",
       "4      NaN  "
      ]
     },
     "execution_count": 15,
     "metadata": {},
     "output_type": "execute_result"
    }
   ],
   "source": [
    "df = only_notes_df.copy()\n",
    "df.head()"
   ]
  },
  {
   "cell_type": "code",
   "execution_count": 16,
   "metadata": {
    "ExecuteTime": {
     "end_time": "2022-12-23T18:55:07.712991Z",
     "start_time": "2022-12-23T18:55:07.710124Z"
    }
   },
   "outputs": [
    {
     "data": {
      "text/plain": [
       "(49, 11)"
      ]
     },
     "execution_count": 16,
     "metadata": {},
     "output_type": "execute_result"
    }
   ],
   "source": [
    "df.shape"
   ]
  },
  {
   "cell_type": "code",
   "execution_count": 17,
   "metadata": {
    "ExecuteTime": {
     "end_time": "2022-12-23T18:55:07.716191Z",
     "start_time": "2022-12-23T18:55:07.714427Z"
    }
   },
   "outputs": [],
   "source": [
    "# Export dataframe to excel\n",
    "# df.to_excel(\"bibliography_dataframe.xlsx\")"
   ]
  },
  {
   "cell_type": "markdown",
   "metadata": {},
   "source": [
    "## Table describing the columns\n",
    "\n",
    "In the following cell a table with corresponding column descriptions is created. This is necessary for the mapping study."
   ]
  },
  {
   "cell_type": "code",
   "execution_count": 18,
   "metadata": {
    "ExecuteTime": {
     "end_time": "2022-12-23T18:55:07.890973Z",
     "start_time": "2022-12-23T18:55:07.717538Z"
    }
   },
   "outputs": [
    {
     "data": {
      "text/html": [
       "<div>\n",
       "<style scoped>\n",
       "    .dataframe tbody tr th:only-of-type {\n",
       "        vertical-align: middle;\n",
       "    }\n",
       "\n",
       "    .dataframe tbody tr th {\n",
       "        vertical-align: top;\n",
       "    }\n",
       "\n",
       "    .dataframe thead th {\n",
       "        text-align: right;\n",
       "    }\n",
       "</style>\n",
       "<table border=\"1\" class=\"dataframe\">\n",
       "  <thead>\n",
       "    <tr style=\"text-align: right;\">\n",
       "      <th></th>\n",
       "      <th>Data Item</th>\n",
       "      <th>Description</th>\n",
       "      <th>Relevant RQ</th>\n",
       "    </tr>\n",
       "  </thead>\n",
       "  <tbody>\n",
       "    <tr>\n",
       "      <th>0</th>\n",
       "      <td>note</td>\n",
       "      <td>Those are the notes that are taken with Zotero...</td>\n",
       "      <td>None</td>\n",
       "    </tr>\n",
       "    <tr>\n",
       "      <th>1</th>\n",
       "      <td>keywords</td>\n",
       "      <td>Automatically extracted keywords via Zotero to...</td>\n",
       "      <td>None</td>\n",
       "    </tr>\n",
       "    <tr>\n",
       "      <th>2</th>\n",
       "      <td>abstract</td>\n",
       "      <td>Abstract (summary) of the article. Extracted v...</td>\n",
       "      <td>None</td>\n",
       "    </tr>\n",
       "    <tr>\n",
       "      <th>3</th>\n",
       "      <td>year</td>\n",
       "      <td>Year of publication. Extracted via Zotero tool.</td>\n",
       "      <td>None</td>\n",
       "    </tr>\n",
       "    <tr>\n",
       "      <th>4</th>\n",
       "      <td>author</td>\n",
       "      <td>Author of publication. Extracted via Zotero tool.</td>\n",
       "      <td>None</td>\n",
       "    </tr>\n",
       "    <tr>\n",
       "      <th>5</th>\n",
       "      <td>title</td>\n",
       "      <td>Title of publication. Extracted via Zotero tool.</td>\n",
       "      <td>None</td>\n",
       "    </tr>\n",
       "    <tr>\n",
       "      <th>6</th>\n",
       "      <td>ID</td>\n",
       "      <td>ID of publication in this dataframe. Extracted...</td>\n",
       "      <td>None</td>\n",
       "    </tr>\n",
       "    <tr>\n",
       "      <th>7</th>\n",
       "      <td>research</td>\n",
       "      <td>Research facet according to mapping study.</td>\n",
       "      <td>None</td>\n",
       "    </tr>\n",
       "    <tr>\n",
       "      <th>8</th>\n",
       "      <td>cont</td>\n",
       "      <td>Contribution facet according to mapping study</td>\n",
       "      <td>None</td>\n",
       "    </tr>\n",
       "    <tr>\n",
       "      <th>9</th>\n",
       "      <td>domain</td>\n",
       "      <td>Domain facet according to domain study</td>\n",
       "      <td>None</td>\n",
       "    </tr>\n",
       "    <tr>\n",
       "      <th>10</th>\n",
       "      <td>summary</td>\n",
       "      <td>Short summary notes</td>\n",
       "      <td>None</td>\n",
       "    </tr>\n",
       "  </tbody>\n",
       "</table>\n",
       "</div>"
      ],
      "text/plain": [
       "   Data Item                                        Description Relevant RQ\n",
       "0       note  Those are the notes that are taken with Zotero...        None\n",
       "1   keywords  Automatically extracted keywords via Zotero to...        None\n",
       "2   abstract  Abstract (summary) of the article. Extracted v...        None\n",
       "3       year    Year of publication. Extracted via Zotero tool.        None\n",
       "4     author  Author of publication. Extracted via Zotero tool.        None\n",
       "5      title   Title of publication. Extracted via Zotero tool.        None\n",
       "6         ID  ID of publication in this dataframe. Extracted...        None\n",
       "7   research         Research facet according to mapping study.        None\n",
       "8       cont      Contribution facet according to mapping study        None\n",
       "9     domain             Domain facet according to domain study        None\n",
       "10   summary                                Short summary notes        None"
      ]
     },
     "execution_count": 18,
     "metadata": {},
     "output_type": "execute_result"
    }
   ],
   "source": [
    "descriptions = [\n",
    "    'Those are the notes that are taken with Zotero. This column is used for extracting further information for the facets',\n",
    "    'Automatically extracted keywords via Zotero tool. Keywords are categorizing the article to a degree.',\n",
    "    'Abstract (summary) of the article. Extracted via Zotero tool.',\n",
    "    'Year of publication. Extracted via Zotero tool.',\n",
    "    'Author of publication. Extracted via Zotero tool.', \n",
    "    'Title of publication. Extracted via Zotero tool.',\n",
    "    'ID of publication in this dataframe. Extracted via Zotero tool.',\n",
    "    'Research facet according to mapping study.',\n",
    "    'Contribution facet according to mapping study',\n",
    "    'Domain facet according to domain study',\n",
    "    'Short summary notes'\n",
    "    \n",
    "]\n",
    "\n",
    "explain_cols = pd.DataFrame(df.columns, columns=['Data Item'])\n",
    "explain_cols['Description']= descriptions\n",
    "explain_cols['Relevant RQ']= None\n",
    "\n",
    "explain_cols.to_excel(\"dataframe_explanations.xlsx\")\n",
    "\n",
    "explain_cols"
   ]
  },
  {
   "cell_type": "markdown",
   "metadata": {},
   "source": [
    "# Explore notes"
   ]
  },
  {
   "cell_type": "markdown",
   "metadata": {},
   "source": [
    "## Extract search terms from notes"
   ]
  },
  {
   "cell_type": "code",
   "execution_count": 19,
   "metadata": {
    "ExecuteTime": {
     "end_time": "2022-12-23T18:55:07.896756Z",
     "start_time": "2022-12-23T18:55:07.892758Z"
    }
   },
   "outputs": [],
   "source": [
    "def extract_search_terms(search_term, note, row):\n",
    "    cols = {}\n",
    "    res = None\n",
    "\n",
    "    cleaned_note = note.replace(\"\\\\par\", \"\")\n",
    "    cleaned_note = cleaned_note.split('\\n')\n",
    "\n",
    "    for word in search_words:\n",
    "        for content in cleaned_note:\n",
    "            if word in content:\n",
    "                try:\n",
    "                    key, val = re.split(':', content)\n",
    "                    cols[key] = val.replace(\" \", \"\")\n",
    "\n",
    "                except ValueError as e:\n",
    "                    print(f'{word} not in {content} -> skip: ', row.title, e)\n",
    "    #                     print(cleaned_note)\n",
    "\n",
    "    try:\n",
    "        res = cols[search_term]\n",
    "    except KeyError as e:\n",
    "        print(f'no {search_term} skip: ', row.title)\n",
    "\n",
    "    return res\n",
    "\n",
    "\n",
    "# print(extract_search_terms(df[df.note.notna()].note.iloc[0], df[df.note.notna()].iloc[0])['research'])"
   ]
  },
  {
   "cell_type": "code",
   "execution_count": 20,
   "metadata": {
    "ExecuteTime": {
     "end_time": "2022-12-23T18:55:07.912064Z",
     "start_time": "2022-12-23T18:55:07.897899Z"
    },
    "hide_input": false,
    "scrolled": true
   },
   "outputs": [
    {
     "name": "stdout",
     "output_type": "stream",
     "text": [
      "cont not in summary: data version control, model drift, SLR and GLR, nice validation case study through companies, RQ: what is the state-of-the-art regarding the adoption of MLOps in practice and the different stages that companies go through in evolving their MLOps practices? -> skip:  Towards {{MLOps}}: {{A Framework}} and {{Maturity Model}} too many values to unpack (expected 2)\n",
      "summary not in summary: data version control, model drift, SLR and GLR, nice validation case study through companies, RQ: what is the state-of-the-art regarding the adoption of MLOps in practice and the different stages that companies go through in evolving their MLOps practices? -> skip:  Towards {{MLOps}}: {{A Framework}} and {{Maturity Model}} too many values to unpack (expected 2)\n",
      "cont not in summary: data version control, model drift, SLR and GLR, nice validation case study through companies, RQ: what is the state-of-the-art regarding the adoption of MLOps in practice and the different stages that companies go through in evolving their MLOps practices? -> skip:  Towards {{MLOps}}: {{A Framework}} and {{Maturity Model}} too many values to unpack (expected 2)\n",
      "summary not in summary: data version control, model drift, SLR and GLR, nice validation case study through companies, RQ: what is the state-of-the-art regarding the adoption of MLOps in practice and the different stages that companies go through in evolving their MLOps practices? -> skip:  Towards {{MLOps}}: {{A Framework}} and {{Maturity Model}} too many values to unpack (expected 2)\n",
      "cont not in summary: data version control, model drift, SLR and GLR, nice validation case study through companies, RQ: what is the state-of-the-art regarding the adoption of MLOps in practice and the different stages that companies go through in evolving their MLOps practices? -> skip:  Towards {{MLOps}}: {{A Framework}} and {{Maturity Model}} too many values to unpack (expected 2)\n",
      "summary not in summary: data version control, model drift, SLR and GLR, nice validation case study through companies, RQ: what is the state-of-the-art regarding the adoption of MLOps in practice and the different stages that companies go through in evolving their MLOps practices? -> skip:  Towards {{MLOps}}: {{A Framework}} and {{Maturity Model}} too many values to unpack (expected 2)\n",
      "cont not in summary: data version control, model drift, SLR and GLR, nice validation case study through companies, RQ: what is the state-of-the-art regarding the adoption of MLOps in practice and the different stages that companies go through in evolving their MLOps practices? -> skip:  Towards {{MLOps}}: {{A Framework}} and {{Maturity Model}} too many values to unpack (expected 2)\n",
      "summary not in summary: data version control, model drift, SLR and GLR, nice validation case study through companies, RQ: what is the state-of-the-art regarding the adoption of MLOps in practice and the different stages that companies go through in evolving their MLOps practices? -> skip:  Towards {{MLOps}}: {{A Framework}} and {{Maturity Model}} too many values to unpack (expected 2)\n",
      "no summary skip:  Towards {{MLOps}}: {{A Framework}} and {{Maturity Model}}\n"
     ]
    },
    {
     "data": {
      "text/html": [
       "<div>\n",
       "<style scoped>\n",
       "    .dataframe tbody tr th:only-of-type {\n",
       "        vertical-align: middle;\n",
       "    }\n",
       "\n",
       "    .dataframe tbody tr th {\n",
       "        vertical-align: top;\n",
       "    }\n",
       "\n",
       "    .dataframe thead th {\n",
       "        text-align: right;\n",
       "    }\n",
       "</style>\n",
       "<table border=\"1\" class=\"dataframe\">\n",
       "  <thead>\n",
       "    <tr style=\"text-align: right;\">\n",
       "      <th></th>\n",
       "      <th>note</th>\n",
       "      <th>keywords</th>\n",
       "      <th>abstract</th>\n",
       "      <th>year</th>\n",
       "      <th>author</th>\n",
       "      <th>title</th>\n",
       "      <th>ID</th>\n",
       "      <th>research</th>\n",
       "      <th>cont</th>\n",
       "      <th>domain</th>\n",
       "      <th>summary</th>\n",
       "    </tr>\n",
       "  </thead>\n",
       "  <tbody>\n",
       "    <tr>\n",
       "      <th>0</th>\n",
       "      <td>2\\n\\par\\nresearch: solution\\n\\par\\ncont: cases...</td>\n",
       "      <td>Adaptation models,Costs,Image edge detection,R...</td>\n",
       "      <td>Empowering the Internet of Things devices with...</td>\n",
       "      <td>2022</td>\n",
       "      <td>Antonini, Mattia and Pincheira, Miguel and Vec...</td>\n",
       "      <td>Tiny-{{MLOps}}: A Framework for Orchestrating ...</td>\n",
       "      <td>antoniniTinyMLOpsFrameworkOrchestrating2022</td>\n",
       "      <td>solution</td>\n",
       "      <td>casestudy,approach,model,tool,process,experiment</td>\n",
       "      <td>iot,tinyml,mlops,deployment,anomalydetection,i...</td>\n",
       "      <td>implementingtinymlformlops</td>\n",
       "    </tr>\n",
       "    <tr>\n",
       "      <th>1</th>\n",
       "      <td>2\\n\\par\\nresearch: philosophical\\n\\par\\ncont: ...</td>\n",
       "      <td>Cloud computing,Computational modeling,Compute...</td>\n",
       "      <td>Machine Learning Operations (MLOps) is an appr...</td>\n",
       "      <td>2022</td>\n",
       "      <td>Barrak, Amine and Petrillo, Fabio and Jaafar, ...</td>\n",
       "      <td>Serverless on {{Machine Learning}}: {{A System...</td>\n",
       "      <td>barrakServerlessMachineLearning2022</td>\n",
       "      <td>philosophical</td>\n",
       "      <td>approach,model,metric,process,literature</td>\n",
       "      <td>mlops,pipeline,workflow,modelling,serverless,c...</td>\n",
       "      <td>studymappingonml</td>\n",
       "    </tr>\n",
       "    <tr>\n",
       "      <th>2</th>\n",
       "      <td>2\\n\\par\\nresearch: solution\\n\\par\\ncont: cases...</td>\n",
       "      <td>action research,AI quality,Context modeling,co...</td>\n",
       "      <td>Due to the migration megatrend, efficient and ...</td>\n",
       "      <td>2022</td>\n",
       "      <td>Borg, Markus and Bengtsson, Johan and {\\\"O}ste...</td>\n",
       "      <td>Quality {{Assurance}} of {{Generative Dialog M...</td>\n",
       "      <td>borgQualityAssuranceGenerative2022</td>\n",
       "      <td>solution</td>\n",
       "      <td>casestudy,approach,model,metric,process,experi...</td>\n",
       "      <td>qa,model</td>\n",
       "      <td>verylittleonmlops</td>\n",
       "    </tr>\n",
       "    <tr>\n",
       "      <th>3</th>\n",
       "      <td>2\\n\\par\\nresearch: validation\\n\\par\\ncont: cas...</td>\n",
       "      <td>Automation,Conferences,Grad-CAM,Heating system...</td>\n",
       "      <td>Machine Learning (ML) is a fundamental part of...</td>\n",
       "      <td>2021</td>\n",
       "      <td>Borg, Markus and Jabangwe, Ronald and {\\AA}ber...</td>\n",
       "      <td>Test {{Automation}} with {{Grad-CAM Heatmaps}}...</td>\n",
       "      <td>borgTestAutomationGradCAM2021</td>\n",
       "      <td>validation</td>\n",
       "      <td>casestudy,approach,process,experiment</td>\n",
       "      <td>deeplearning,modelling,automation</td>\n",
       "      <td>exampleondeeplearningexplainability</td>\n",
       "    </tr>\n",
       "    <tr>\n",
       "      <th>4</th>\n",
       "      <td>2\\n\\par\\nresearch: philosophical\\n\\par\\ncont: ...</td>\n",
       "      <td>5G mobile communication,B5G networks,Cloud com...</td>\n",
       "      <td>Open Radio Access Network (O-RAN) alliance was...</td>\n",
       "      <td>2022</td>\n",
       "      <td>Brik, Bouziane and Boutiba, Karim and Ksentini...</td>\n",
       "      <td>Deep {{Learning}} for {{B5G Open Radio Access ...</td>\n",
       "      <td>brikDeepLearningB5G2022</td>\n",
       "      <td>philosophical</td>\n",
       "      <td>casestudy,approach,model,metric,tool,process,e...</td>\n",
       "      <td>deeplearning,infrastructure</td>\n",
       "      <td>None</td>\n",
       "    </tr>\n",
       "  </tbody>\n",
       "</table>\n",
       "</div>"
      ],
      "text/plain": [
       "                                                note  \\\n",
       "0  2\\n\\par\\nresearch: solution\\n\\par\\ncont: cases...   \n",
       "1  2\\n\\par\\nresearch: philosophical\\n\\par\\ncont: ...   \n",
       "2  2\\n\\par\\nresearch: solution\\n\\par\\ncont: cases...   \n",
       "3  2\\n\\par\\nresearch: validation\\n\\par\\ncont: cas...   \n",
       "4  2\\n\\par\\nresearch: philosophical\\n\\par\\ncont: ...   \n",
       "\n",
       "                                            keywords  \\\n",
       "0  Adaptation models,Costs,Image edge detection,R...   \n",
       "1  Cloud computing,Computational modeling,Compute...   \n",
       "2  action research,AI quality,Context modeling,co...   \n",
       "3  Automation,Conferences,Grad-CAM,Heating system...   \n",
       "4  5G mobile communication,B5G networks,Cloud com...   \n",
       "\n",
       "                                            abstract  year  \\\n",
       "0  Empowering the Internet of Things devices with...  2022   \n",
       "1  Machine Learning Operations (MLOps) is an appr...  2022   \n",
       "2  Due to the migration megatrend, efficient and ...  2022   \n",
       "3  Machine Learning (ML) is a fundamental part of...  2021   \n",
       "4  Open Radio Access Network (O-RAN) alliance was...  2022   \n",
       "\n",
       "                                              author  \\\n",
       "0  Antonini, Mattia and Pincheira, Miguel and Vec...   \n",
       "1  Barrak, Amine and Petrillo, Fabio and Jaafar, ...   \n",
       "2  Borg, Markus and Bengtsson, Johan and {\\\"O}ste...   \n",
       "3  Borg, Markus and Jabangwe, Ronald and {\\AA}ber...   \n",
       "4  Brik, Bouziane and Boutiba, Karim and Ksentini...   \n",
       "\n",
       "                                               title  \\\n",
       "0  Tiny-{{MLOps}}: A Framework for Orchestrating ...   \n",
       "1  Serverless on {{Machine Learning}}: {{A System...   \n",
       "2  Quality {{Assurance}} of {{Generative Dialog M...   \n",
       "3  Test {{Automation}} with {{Grad-CAM Heatmaps}}...   \n",
       "4  Deep {{Learning}} for {{B5G Open Radio Access ...   \n",
       "\n",
       "                                            ID       research  \\\n",
       "0  antoniniTinyMLOpsFrameworkOrchestrating2022       solution   \n",
       "1          barrakServerlessMachineLearning2022  philosophical   \n",
       "2           borgQualityAssuranceGenerative2022       solution   \n",
       "3                borgTestAutomationGradCAM2021     validation   \n",
       "4                      brikDeepLearningB5G2022  philosophical   \n",
       "\n",
       "                                                cont  \\\n",
       "0   casestudy,approach,model,tool,process,experiment   \n",
       "1           approach,model,metric,process,literature   \n",
       "2  casestudy,approach,model,metric,process,experi...   \n",
       "3              casestudy,approach,process,experiment   \n",
       "4  casestudy,approach,model,metric,tool,process,e...   \n",
       "\n",
       "                                              domain  \\\n",
       "0  iot,tinyml,mlops,deployment,anomalydetection,i...   \n",
       "1  mlops,pipeline,workflow,modelling,serverless,c...   \n",
       "2                                           qa,model   \n",
       "3                  deeplearning,modelling,automation   \n",
       "4                        deeplearning,infrastructure   \n",
       "\n",
       "                               summary  \n",
       "0           implementingtinymlformlops  \n",
       "1                     studymappingonml  \n",
       "2                    verylittleonmlops  \n",
       "3  exampleondeeplearningexplainability  \n",
       "4                                 None  "
      ]
     },
     "execution_count": 20,
     "metadata": {},
     "output_type": "execute_result"
    }
   ],
   "source": [
    "for term in search_words:\n",
    "    df[term] = df.apply(\n",
    "        lambda row: extract_search_terms(term, row['note'], row), axis=1)\n",
    "\n",
    "df.head()"
   ]
  },
  {
   "cell_type": "code",
   "execution_count": 21,
   "metadata": {
    "ExecuteTime": {
     "end_time": "2022-12-23T18:55:07.915709Z",
     "start_time": "2022-12-23T18:55:07.913402Z"
    }
   },
   "outputs": [
    {
     "data": {
      "text/plain": [
       "(49, 11)"
      ]
     },
     "execution_count": 21,
     "metadata": {},
     "output_type": "execute_result"
    }
   ],
   "source": [
    "df.shape"
   ]
  },
  {
   "cell_type": "markdown",
   "metadata": {},
   "source": [
    "# Explore facets"
   ]
  },
  {
   "cell_type": "markdown",
   "metadata": {},
   "source": [
    "## Research Facet"
   ]
  },
  {
   "cell_type": "code",
   "execution_count": 22,
   "metadata": {
    "ExecuteTime": {
     "end_time": "2022-12-23T18:55:07.921652Z",
     "start_time": "2022-12-23T18:55:07.917249Z"
    }
   },
   "outputs": [
    {
     "data": {
      "text/plain": [
       "solution         18\n",
       "philosophical    18\n",
       "evaluation       10\n",
       "validation        3\n",
       "Name: research, dtype: int64"
      ]
     },
     "execution_count": 22,
     "metadata": {},
     "output_type": "execute_result"
    }
   ],
   "source": [
    "df.research.value_counts()"
   ]
  },
  {
   "cell_type": "code",
   "execution_count": 23,
   "metadata": {
    "ExecuteTime": {
     "end_time": "2022-12-23T18:55:07.927845Z",
     "start_time": "2022-12-23T18:55:07.922909Z"
    }
   },
   "outputs": [
    {
     "name": "stdout",
     "output_type": "stream",
     "text": [
      "Sum of research facet units\n",
      "\n",
      "solution         18\n",
      "philosophical    18\n",
      "evaluation       10\n",
      "validation        3\n",
      "Name: research, dtype: int64\n",
      "\n",
      "in total: 49\n",
      "\n"
     ]
    }
   ],
   "source": [
    "val_counts = df.research.str.split(',').explode().value_counts()\n",
    "\n",
    "if len(val_counts) > 6:\n",
    "    raise ValueError('Error with splitting. Too many values to for Research facet', len(val_counts))\n",
    "\n",
    "print(f'''Sum of research facet units\n",
    "\n",
    "{val_counts}\n",
    "\n",
    "in total: {val_counts.sum()}\n",
    "''')"
   ]
  },
  {
   "cell_type": "code",
   "execution_count": 24,
   "metadata": {
    "ExecuteTime": {
     "end_time": "2022-12-23T18:55:08.514493Z",
     "start_time": "2022-12-23T18:55:07.929090Z"
    }
   },
   "outputs": [
    {
     "data": {
      "application/vnd.plotly.v1+json": {
       "config": {
        "plotlyServerURL": "https://plot.ly"
       },
       "data": [
        {
         "alignmentgroup": "True",
         "hovertemplate": "index=%{x}<br>research=%{y}<extra></extra>",
         "legendgroup": "",
         "marker": {
          "color": "#636efa",
          "pattern": {
           "shape": ""
          }
         },
         "name": "",
         "offsetgroup": "",
         "orientation": "v",
         "showlegend": false,
         "textposition": "auto",
         "type": "bar",
         "x": [
          "solution",
          "philosophical",
          "evaluation",
          "validation"
         ],
         "xaxis": "x",
         "y": [
          18,
          18,
          10,
          3
         ],
         "yaxis": "y"
        }
       ],
       "layout": {
        "barmode": "relative",
        "legend": {
         "tracegroupgap": 0
        },
        "template": {
         "data": {
          "bar": [
           {
            "error_x": {
             "color": "#2a3f5f"
            },
            "error_y": {
             "color": "#2a3f5f"
            },
            "marker": {
             "line": {
              "color": "#E5ECF6",
              "width": 0.5
             },
             "pattern": {
              "fillmode": "overlay",
              "size": 10,
              "solidity": 0.2
             }
            },
            "type": "bar"
           }
          ],
          "barpolar": [
           {
            "marker": {
             "line": {
              "color": "#E5ECF6",
              "width": 0.5
             },
             "pattern": {
              "fillmode": "overlay",
              "size": 10,
              "solidity": 0.2
             }
            },
            "type": "barpolar"
           }
          ],
          "carpet": [
           {
            "aaxis": {
             "endlinecolor": "#2a3f5f",
             "gridcolor": "white",
             "linecolor": "white",
             "minorgridcolor": "white",
             "startlinecolor": "#2a3f5f"
            },
            "baxis": {
             "endlinecolor": "#2a3f5f",
             "gridcolor": "white",
             "linecolor": "white",
             "minorgridcolor": "white",
             "startlinecolor": "#2a3f5f"
            },
            "type": "carpet"
           }
          ],
          "choropleth": [
           {
            "colorbar": {
             "outlinewidth": 0,
             "ticks": ""
            },
            "type": "choropleth"
           }
          ],
          "contour": [
           {
            "colorbar": {
             "outlinewidth": 0,
             "ticks": ""
            },
            "colorscale": [
             [
              0,
              "#0d0887"
             ],
             [
              0.1111111111111111,
              "#46039f"
             ],
             [
              0.2222222222222222,
              "#7201a8"
             ],
             [
              0.3333333333333333,
              "#9c179e"
             ],
             [
              0.4444444444444444,
              "#bd3786"
             ],
             [
              0.5555555555555556,
              "#d8576b"
             ],
             [
              0.6666666666666666,
              "#ed7953"
             ],
             [
              0.7777777777777778,
              "#fb9f3a"
             ],
             [
              0.8888888888888888,
              "#fdca26"
             ],
             [
              1,
              "#f0f921"
             ]
            ],
            "type": "contour"
           }
          ],
          "contourcarpet": [
           {
            "colorbar": {
             "outlinewidth": 0,
             "ticks": ""
            },
            "type": "contourcarpet"
           }
          ],
          "heatmap": [
           {
            "colorbar": {
             "outlinewidth": 0,
             "ticks": ""
            },
            "colorscale": [
             [
              0,
              "#0d0887"
             ],
             [
              0.1111111111111111,
              "#46039f"
             ],
             [
              0.2222222222222222,
              "#7201a8"
             ],
             [
              0.3333333333333333,
              "#9c179e"
             ],
             [
              0.4444444444444444,
              "#bd3786"
             ],
             [
              0.5555555555555556,
              "#d8576b"
             ],
             [
              0.6666666666666666,
              "#ed7953"
             ],
             [
              0.7777777777777778,
              "#fb9f3a"
             ],
             [
              0.8888888888888888,
              "#fdca26"
             ],
             [
              1,
              "#f0f921"
             ]
            ],
            "type": "heatmap"
           }
          ],
          "heatmapgl": [
           {
            "colorbar": {
             "outlinewidth": 0,
             "ticks": ""
            },
            "colorscale": [
             [
              0,
              "#0d0887"
             ],
             [
              0.1111111111111111,
              "#46039f"
             ],
             [
              0.2222222222222222,
              "#7201a8"
             ],
             [
              0.3333333333333333,
              "#9c179e"
             ],
             [
              0.4444444444444444,
              "#bd3786"
             ],
             [
              0.5555555555555556,
              "#d8576b"
             ],
             [
              0.6666666666666666,
              "#ed7953"
             ],
             [
              0.7777777777777778,
              "#fb9f3a"
             ],
             [
              0.8888888888888888,
              "#fdca26"
             ],
             [
              1,
              "#f0f921"
             ]
            ],
            "type": "heatmapgl"
           }
          ],
          "histogram": [
           {
            "marker": {
             "pattern": {
              "fillmode": "overlay",
              "size": 10,
              "solidity": 0.2
             }
            },
            "type": "histogram"
           }
          ],
          "histogram2d": [
           {
            "colorbar": {
             "outlinewidth": 0,
             "ticks": ""
            },
            "colorscale": [
             [
              0,
              "#0d0887"
             ],
             [
              0.1111111111111111,
              "#46039f"
             ],
             [
              0.2222222222222222,
              "#7201a8"
             ],
             [
              0.3333333333333333,
              "#9c179e"
             ],
             [
              0.4444444444444444,
              "#bd3786"
             ],
             [
              0.5555555555555556,
              "#d8576b"
             ],
             [
              0.6666666666666666,
              "#ed7953"
             ],
             [
              0.7777777777777778,
              "#fb9f3a"
             ],
             [
              0.8888888888888888,
              "#fdca26"
             ],
             [
              1,
              "#f0f921"
             ]
            ],
            "type": "histogram2d"
           }
          ],
          "histogram2dcontour": [
           {
            "colorbar": {
             "outlinewidth": 0,
             "ticks": ""
            },
            "colorscale": [
             [
              0,
              "#0d0887"
             ],
             [
              0.1111111111111111,
              "#46039f"
             ],
             [
              0.2222222222222222,
              "#7201a8"
             ],
             [
              0.3333333333333333,
              "#9c179e"
             ],
             [
              0.4444444444444444,
              "#bd3786"
             ],
             [
              0.5555555555555556,
              "#d8576b"
             ],
             [
              0.6666666666666666,
              "#ed7953"
             ],
             [
              0.7777777777777778,
              "#fb9f3a"
             ],
             [
              0.8888888888888888,
              "#fdca26"
             ],
             [
              1,
              "#f0f921"
             ]
            ],
            "type": "histogram2dcontour"
           }
          ],
          "mesh3d": [
           {
            "colorbar": {
             "outlinewidth": 0,
             "ticks": ""
            },
            "type": "mesh3d"
           }
          ],
          "parcoords": [
           {
            "line": {
             "colorbar": {
              "outlinewidth": 0,
              "ticks": ""
             }
            },
            "type": "parcoords"
           }
          ],
          "pie": [
           {
            "automargin": true,
            "type": "pie"
           }
          ],
          "scatter": [
           {
            "fillpattern": {
             "fillmode": "overlay",
             "size": 10,
             "solidity": 0.2
            },
            "type": "scatter"
           }
          ],
          "scatter3d": [
           {
            "line": {
             "colorbar": {
              "outlinewidth": 0,
              "ticks": ""
             }
            },
            "marker": {
             "colorbar": {
              "outlinewidth": 0,
              "ticks": ""
             }
            },
            "type": "scatter3d"
           }
          ],
          "scattercarpet": [
           {
            "marker": {
             "colorbar": {
              "outlinewidth": 0,
              "ticks": ""
             }
            },
            "type": "scattercarpet"
           }
          ],
          "scattergeo": [
           {
            "marker": {
             "colorbar": {
              "outlinewidth": 0,
              "ticks": ""
             }
            },
            "type": "scattergeo"
           }
          ],
          "scattergl": [
           {
            "marker": {
             "colorbar": {
              "outlinewidth": 0,
              "ticks": ""
             }
            },
            "type": "scattergl"
           }
          ],
          "scattermapbox": [
           {
            "marker": {
             "colorbar": {
              "outlinewidth": 0,
              "ticks": ""
             }
            },
            "type": "scattermapbox"
           }
          ],
          "scatterpolar": [
           {
            "marker": {
             "colorbar": {
              "outlinewidth": 0,
              "ticks": ""
             }
            },
            "type": "scatterpolar"
           }
          ],
          "scatterpolargl": [
           {
            "marker": {
             "colorbar": {
              "outlinewidth": 0,
              "ticks": ""
             }
            },
            "type": "scatterpolargl"
           }
          ],
          "scatterternary": [
           {
            "marker": {
             "colorbar": {
              "outlinewidth": 0,
              "ticks": ""
             }
            },
            "type": "scatterternary"
           }
          ],
          "surface": [
           {
            "colorbar": {
             "outlinewidth": 0,
             "ticks": ""
            },
            "colorscale": [
             [
              0,
              "#0d0887"
             ],
             [
              0.1111111111111111,
              "#46039f"
             ],
             [
              0.2222222222222222,
              "#7201a8"
             ],
             [
              0.3333333333333333,
              "#9c179e"
             ],
             [
              0.4444444444444444,
              "#bd3786"
             ],
             [
              0.5555555555555556,
              "#d8576b"
             ],
             [
              0.6666666666666666,
              "#ed7953"
             ],
             [
              0.7777777777777778,
              "#fb9f3a"
             ],
             [
              0.8888888888888888,
              "#fdca26"
             ],
             [
              1,
              "#f0f921"
             ]
            ],
            "type": "surface"
           }
          ],
          "table": [
           {
            "cells": {
             "fill": {
              "color": "#EBF0F8"
             },
             "line": {
              "color": "white"
             }
            },
            "header": {
             "fill": {
              "color": "#C8D4E3"
             },
             "line": {
              "color": "white"
             }
            },
            "type": "table"
           }
          ]
         },
         "layout": {
          "annotationdefaults": {
           "arrowcolor": "#2a3f5f",
           "arrowhead": 0,
           "arrowwidth": 1
          },
          "autotypenumbers": "strict",
          "coloraxis": {
           "colorbar": {
            "outlinewidth": 0,
            "ticks": ""
           }
          },
          "colorscale": {
           "diverging": [
            [
             0,
             "#8e0152"
            ],
            [
             0.1,
             "#c51b7d"
            ],
            [
             0.2,
             "#de77ae"
            ],
            [
             0.3,
             "#f1b6da"
            ],
            [
             0.4,
             "#fde0ef"
            ],
            [
             0.5,
             "#f7f7f7"
            ],
            [
             0.6,
             "#e6f5d0"
            ],
            [
             0.7,
             "#b8e186"
            ],
            [
             0.8,
             "#7fbc41"
            ],
            [
             0.9,
             "#4d9221"
            ],
            [
             1,
             "#276419"
            ]
           ],
           "sequential": [
            [
             0,
             "#0d0887"
            ],
            [
             0.1111111111111111,
             "#46039f"
            ],
            [
             0.2222222222222222,
             "#7201a8"
            ],
            [
             0.3333333333333333,
             "#9c179e"
            ],
            [
             0.4444444444444444,
             "#bd3786"
            ],
            [
             0.5555555555555556,
             "#d8576b"
            ],
            [
             0.6666666666666666,
             "#ed7953"
            ],
            [
             0.7777777777777778,
             "#fb9f3a"
            ],
            [
             0.8888888888888888,
             "#fdca26"
            ],
            [
             1,
             "#f0f921"
            ]
           ],
           "sequentialminus": [
            [
             0,
             "#0d0887"
            ],
            [
             0.1111111111111111,
             "#46039f"
            ],
            [
             0.2222222222222222,
             "#7201a8"
            ],
            [
             0.3333333333333333,
             "#9c179e"
            ],
            [
             0.4444444444444444,
             "#bd3786"
            ],
            [
             0.5555555555555556,
             "#d8576b"
            ],
            [
             0.6666666666666666,
             "#ed7953"
            ],
            [
             0.7777777777777778,
             "#fb9f3a"
            ],
            [
             0.8888888888888888,
             "#fdca26"
            ],
            [
             1,
             "#f0f921"
            ]
           ]
          },
          "colorway": [
           "#636efa",
           "#EF553B",
           "#00cc96",
           "#ab63fa",
           "#FFA15A",
           "#19d3f3",
           "#FF6692",
           "#B6E880",
           "#FF97FF",
           "#FECB52"
          ],
          "font": {
           "color": "#2a3f5f"
          },
          "geo": {
           "bgcolor": "white",
           "lakecolor": "white",
           "landcolor": "#E5ECF6",
           "showlakes": true,
           "showland": true,
           "subunitcolor": "white"
          },
          "hoverlabel": {
           "align": "left"
          },
          "hovermode": "closest",
          "mapbox": {
           "style": "light"
          },
          "paper_bgcolor": "white",
          "plot_bgcolor": "#E5ECF6",
          "polar": {
           "angularaxis": {
            "gridcolor": "white",
            "linecolor": "white",
            "ticks": ""
           },
           "bgcolor": "#E5ECF6",
           "radialaxis": {
            "gridcolor": "white",
            "linecolor": "white",
            "ticks": ""
           }
          },
          "scene": {
           "xaxis": {
            "backgroundcolor": "#E5ECF6",
            "gridcolor": "white",
            "gridwidth": 2,
            "linecolor": "white",
            "showbackground": true,
            "ticks": "",
            "zerolinecolor": "white"
           },
           "yaxis": {
            "backgroundcolor": "#E5ECF6",
            "gridcolor": "white",
            "gridwidth": 2,
            "linecolor": "white",
            "showbackground": true,
            "ticks": "",
            "zerolinecolor": "white"
           },
           "zaxis": {
            "backgroundcolor": "#E5ECF6",
            "gridcolor": "white",
            "gridwidth": 2,
            "linecolor": "white",
            "showbackground": true,
            "ticks": "",
            "zerolinecolor": "white"
           }
          },
          "shapedefaults": {
           "line": {
            "color": "#2a3f5f"
           }
          },
          "ternary": {
           "aaxis": {
            "gridcolor": "white",
            "linecolor": "white",
            "ticks": ""
           },
           "baxis": {
            "gridcolor": "white",
            "linecolor": "white",
            "ticks": ""
           },
           "bgcolor": "#E5ECF6",
           "caxis": {
            "gridcolor": "white",
            "linecolor": "white",
            "ticks": ""
           }
          },
          "title": {
           "x": 0.05
          },
          "xaxis": {
           "automargin": true,
           "gridcolor": "white",
           "linecolor": "white",
           "ticks": "",
           "title": {
            "standoff": 15
           },
           "zerolinecolor": "white",
           "zerolinewidth": 2
          },
          "yaxis": {
           "automargin": true,
           "gridcolor": "white",
           "linecolor": "white",
           "ticks": "",
           "title": {
            "standoff": 15
           },
           "zerolinecolor": "white",
           "zerolinewidth": 2
          }
         }
        },
        "title": {
         "text": "Research facet distribution"
        },
        "xaxis": {
         "anchor": "y",
         "domain": [
          0,
          1
         ],
         "tickangle": 45,
         "title": {
          "text": "Research facet categories"
         }
        },
        "yaxis": {
         "anchor": "x",
         "domain": [
          0,
          1
         ],
         "title": {
          "text": "Counts"
         }
        }
       }
      },
      "text/html": [
       "<div>                            <div id=\"a41c090c-e81a-4a98-b3a4-ec1870732c0a\" class=\"plotly-graph-div\" style=\"height:525px; width:100%;\"></div>            <script type=\"text/javascript\">                require([\"plotly\"], function(Plotly) {                    window.PLOTLYENV=window.PLOTLYENV || {};                                    if (document.getElementById(\"a41c090c-e81a-4a98-b3a4-ec1870732c0a\")) {                    Plotly.newPlot(                        \"a41c090c-e81a-4a98-b3a4-ec1870732c0a\",                        [{\"alignmentgroup\":\"True\",\"hovertemplate\":\"index=%{x}<br>research=%{y}<extra></extra>\",\"legendgroup\":\"\",\"marker\":{\"color\":\"#636efa\",\"pattern\":{\"shape\":\"\"}},\"name\":\"\",\"offsetgroup\":\"\",\"orientation\":\"v\",\"showlegend\":false,\"textposition\":\"auto\",\"x\":[\"solution\",\"philosophical\",\"evaluation\",\"validation\"],\"xaxis\":\"x\",\"y\":[18,18,10,3],\"yaxis\":\"y\",\"type\":\"bar\"}],                        {\"template\":{\"data\":{\"histogram2dcontour\":[{\"type\":\"histogram2dcontour\",\"colorbar\":{\"outlinewidth\":0,\"ticks\":\"\"},\"colorscale\":[[0.0,\"#0d0887\"],[0.1111111111111111,\"#46039f\"],[0.2222222222222222,\"#7201a8\"],[0.3333333333333333,\"#9c179e\"],[0.4444444444444444,\"#bd3786\"],[0.5555555555555556,\"#d8576b\"],[0.6666666666666666,\"#ed7953\"],[0.7777777777777778,\"#fb9f3a\"],[0.8888888888888888,\"#fdca26\"],[1.0,\"#f0f921\"]]}],\"choropleth\":[{\"type\":\"choropleth\",\"colorbar\":{\"outlinewidth\":0,\"ticks\":\"\"}}],\"histogram2d\":[{\"type\":\"histogram2d\",\"colorbar\":{\"outlinewidth\":0,\"ticks\":\"\"},\"colorscale\":[[0.0,\"#0d0887\"],[0.1111111111111111,\"#46039f\"],[0.2222222222222222,\"#7201a8\"],[0.3333333333333333,\"#9c179e\"],[0.4444444444444444,\"#bd3786\"],[0.5555555555555556,\"#d8576b\"],[0.6666666666666666,\"#ed7953\"],[0.7777777777777778,\"#fb9f3a\"],[0.8888888888888888,\"#fdca26\"],[1.0,\"#f0f921\"]]}],\"heatmap\":[{\"type\":\"heatmap\",\"colorbar\":{\"outlinewidth\":0,\"ticks\":\"\"},\"colorscale\":[[0.0,\"#0d0887\"],[0.1111111111111111,\"#46039f\"],[0.2222222222222222,\"#7201a8\"],[0.3333333333333333,\"#9c179e\"],[0.4444444444444444,\"#bd3786\"],[0.5555555555555556,\"#d8576b\"],[0.6666666666666666,\"#ed7953\"],[0.7777777777777778,\"#fb9f3a\"],[0.8888888888888888,\"#fdca26\"],[1.0,\"#f0f921\"]]}],\"heatmapgl\":[{\"type\":\"heatmapgl\",\"colorbar\":{\"outlinewidth\":0,\"ticks\":\"\"},\"colorscale\":[[0.0,\"#0d0887\"],[0.1111111111111111,\"#46039f\"],[0.2222222222222222,\"#7201a8\"],[0.3333333333333333,\"#9c179e\"],[0.4444444444444444,\"#bd3786\"],[0.5555555555555556,\"#d8576b\"],[0.6666666666666666,\"#ed7953\"],[0.7777777777777778,\"#fb9f3a\"],[0.8888888888888888,\"#fdca26\"],[1.0,\"#f0f921\"]]}],\"contourcarpet\":[{\"type\":\"contourcarpet\",\"colorbar\":{\"outlinewidth\":0,\"ticks\":\"\"}}],\"contour\":[{\"type\":\"contour\",\"colorbar\":{\"outlinewidth\":0,\"ticks\":\"\"},\"colorscale\":[[0.0,\"#0d0887\"],[0.1111111111111111,\"#46039f\"],[0.2222222222222222,\"#7201a8\"],[0.3333333333333333,\"#9c179e\"],[0.4444444444444444,\"#bd3786\"],[0.5555555555555556,\"#d8576b\"],[0.6666666666666666,\"#ed7953\"],[0.7777777777777778,\"#fb9f3a\"],[0.8888888888888888,\"#fdca26\"],[1.0,\"#f0f921\"]]}],\"surface\":[{\"type\":\"surface\",\"colorbar\":{\"outlinewidth\":0,\"ticks\":\"\"},\"colorscale\":[[0.0,\"#0d0887\"],[0.1111111111111111,\"#46039f\"],[0.2222222222222222,\"#7201a8\"],[0.3333333333333333,\"#9c179e\"],[0.4444444444444444,\"#bd3786\"],[0.5555555555555556,\"#d8576b\"],[0.6666666666666666,\"#ed7953\"],[0.7777777777777778,\"#fb9f3a\"],[0.8888888888888888,\"#fdca26\"],[1.0,\"#f0f921\"]]}],\"mesh3d\":[{\"type\":\"mesh3d\",\"colorbar\":{\"outlinewidth\":0,\"ticks\":\"\"}}],\"scatter\":[{\"fillpattern\":{\"fillmode\":\"overlay\",\"size\":10,\"solidity\":0.2},\"type\":\"scatter\"}],\"parcoords\":[{\"type\":\"parcoords\",\"line\":{\"colorbar\":{\"outlinewidth\":0,\"ticks\":\"\"}}}],\"scatterpolargl\":[{\"type\":\"scatterpolargl\",\"marker\":{\"colorbar\":{\"outlinewidth\":0,\"ticks\":\"\"}}}],\"bar\":[{\"error_x\":{\"color\":\"#2a3f5f\"},\"error_y\":{\"color\":\"#2a3f5f\"},\"marker\":{\"line\":{\"color\":\"#E5ECF6\",\"width\":0.5},\"pattern\":{\"fillmode\":\"overlay\",\"size\":10,\"solidity\":0.2}},\"type\":\"bar\"}],\"scattergeo\":[{\"type\":\"scattergeo\",\"marker\":{\"colorbar\":{\"outlinewidth\":0,\"ticks\":\"\"}}}],\"scatterpolar\":[{\"type\":\"scatterpolar\",\"marker\":{\"colorbar\":{\"outlinewidth\":0,\"ticks\":\"\"}}}],\"histogram\":[{\"marker\":{\"pattern\":{\"fillmode\":\"overlay\",\"size\":10,\"solidity\":0.2}},\"type\":\"histogram\"}],\"scattergl\":[{\"type\":\"scattergl\",\"marker\":{\"colorbar\":{\"outlinewidth\":0,\"ticks\":\"\"}}}],\"scatter3d\":[{\"type\":\"scatter3d\",\"line\":{\"colorbar\":{\"outlinewidth\":0,\"ticks\":\"\"}},\"marker\":{\"colorbar\":{\"outlinewidth\":0,\"ticks\":\"\"}}}],\"scattermapbox\":[{\"type\":\"scattermapbox\",\"marker\":{\"colorbar\":{\"outlinewidth\":0,\"ticks\":\"\"}}}],\"scatterternary\":[{\"type\":\"scatterternary\",\"marker\":{\"colorbar\":{\"outlinewidth\":0,\"ticks\":\"\"}}}],\"scattercarpet\":[{\"type\":\"scattercarpet\",\"marker\":{\"colorbar\":{\"outlinewidth\":0,\"ticks\":\"\"}}}],\"carpet\":[{\"aaxis\":{\"endlinecolor\":\"#2a3f5f\",\"gridcolor\":\"white\",\"linecolor\":\"white\",\"minorgridcolor\":\"white\",\"startlinecolor\":\"#2a3f5f\"},\"baxis\":{\"endlinecolor\":\"#2a3f5f\",\"gridcolor\":\"white\",\"linecolor\":\"white\",\"minorgridcolor\":\"white\",\"startlinecolor\":\"#2a3f5f\"},\"type\":\"carpet\"}],\"table\":[{\"cells\":{\"fill\":{\"color\":\"#EBF0F8\"},\"line\":{\"color\":\"white\"}},\"header\":{\"fill\":{\"color\":\"#C8D4E3\"},\"line\":{\"color\":\"white\"}},\"type\":\"table\"}],\"barpolar\":[{\"marker\":{\"line\":{\"color\":\"#E5ECF6\",\"width\":0.5},\"pattern\":{\"fillmode\":\"overlay\",\"size\":10,\"solidity\":0.2}},\"type\":\"barpolar\"}],\"pie\":[{\"automargin\":true,\"type\":\"pie\"}]},\"layout\":{\"autotypenumbers\":\"strict\",\"colorway\":[\"#636efa\",\"#EF553B\",\"#00cc96\",\"#ab63fa\",\"#FFA15A\",\"#19d3f3\",\"#FF6692\",\"#B6E880\",\"#FF97FF\",\"#FECB52\"],\"font\":{\"color\":\"#2a3f5f\"},\"hovermode\":\"closest\",\"hoverlabel\":{\"align\":\"left\"},\"paper_bgcolor\":\"white\",\"plot_bgcolor\":\"#E5ECF6\",\"polar\":{\"bgcolor\":\"#E5ECF6\",\"angularaxis\":{\"gridcolor\":\"white\",\"linecolor\":\"white\",\"ticks\":\"\"},\"radialaxis\":{\"gridcolor\":\"white\",\"linecolor\":\"white\",\"ticks\":\"\"}},\"ternary\":{\"bgcolor\":\"#E5ECF6\",\"aaxis\":{\"gridcolor\":\"white\",\"linecolor\":\"white\",\"ticks\":\"\"},\"baxis\":{\"gridcolor\":\"white\",\"linecolor\":\"white\",\"ticks\":\"\"},\"caxis\":{\"gridcolor\":\"white\",\"linecolor\":\"white\",\"ticks\":\"\"}},\"coloraxis\":{\"colorbar\":{\"outlinewidth\":0,\"ticks\":\"\"}},\"colorscale\":{\"sequential\":[[0.0,\"#0d0887\"],[0.1111111111111111,\"#46039f\"],[0.2222222222222222,\"#7201a8\"],[0.3333333333333333,\"#9c179e\"],[0.4444444444444444,\"#bd3786\"],[0.5555555555555556,\"#d8576b\"],[0.6666666666666666,\"#ed7953\"],[0.7777777777777778,\"#fb9f3a\"],[0.8888888888888888,\"#fdca26\"],[1.0,\"#f0f921\"]],\"sequentialminus\":[[0.0,\"#0d0887\"],[0.1111111111111111,\"#46039f\"],[0.2222222222222222,\"#7201a8\"],[0.3333333333333333,\"#9c179e\"],[0.4444444444444444,\"#bd3786\"],[0.5555555555555556,\"#d8576b\"],[0.6666666666666666,\"#ed7953\"],[0.7777777777777778,\"#fb9f3a\"],[0.8888888888888888,\"#fdca26\"],[1.0,\"#f0f921\"]],\"diverging\":[[0,\"#8e0152\"],[0.1,\"#c51b7d\"],[0.2,\"#de77ae\"],[0.3,\"#f1b6da\"],[0.4,\"#fde0ef\"],[0.5,\"#f7f7f7\"],[0.6,\"#e6f5d0\"],[0.7,\"#b8e186\"],[0.8,\"#7fbc41\"],[0.9,\"#4d9221\"],[1,\"#276419\"]]},\"xaxis\":{\"gridcolor\":\"white\",\"linecolor\":\"white\",\"ticks\":\"\",\"title\":{\"standoff\":15},\"zerolinecolor\":\"white\",\"automargin\":true,\"zerolinewidth\":2},\"yaxis\":{\"gridcolor\":\"white\",\"linecolor\":\"white\",\"ticks\":\"\",\"title\":{\"standoff\":15},\"zerolinecolor\":\"white\",\"automargin\":true,\"zerolinewidth\":2},\"scene\":{\"xaxis\":{\"backgroundcolor\":\"#E5ECF6\",\"gridcolor\":\"white\",\"linecolor\":\"white\",\"showbackground\":true,\"ticks\":\"\",\"zerolinecolor\":\"white\",\"gridwidth\":2},\"yaxis\":{\"backgroundcolor\":\"#E5ECF6\",\"gridcolor\":\"white\",\"linecolor\":\"white\",\"showbackground\":true,\"ticks\":\"\",\"zerolinecolor\":\"white\",\"gridwidth\":2},\"zaxis\":{\"backgroundcolor\":\"#E5ECF6\",\"gridcolor\":\"white\",\"linecolor\":\"white\",\"showbackground\":true,\"ticks\":\"\",\"zerolinecolor\":\"white\",\"gridwidth\":2}},\"shapedefaults\":{\"line\":{\"color\":\"#2a3f5f\"}},\"annotationdefaults\":{\"arrowcolor\":\"#2a3f5f\",\"arrowhead\":0,\"arrowwidth\":1},\"geo\":{\"bgcolor\":\"white\",\"landcolor\":\"#E5ECF6\",\"subunitcolor\":\"white\",\"showland\":true,\"showlakes\":true,\"lakecolor\":\"white\"},\"title\":{\"x\":0.05},\"mapbox\":{\"style\":\"light\"}}},\"xaxis\":{\"anchor\":\"y\",\"domain\":[0.0,1.0],\"title\":{\"text\":\"Research facet categories\"},\"tickangle\":45},\"yaxis\":{\"anchor\":\"x\",\"domain\":[0.0,1.0],\"title\":{\"text\":\"Counts\"}},\"legend\":{\"tracegroupgap\":0},\"title\":{\"text\":\"Research facet distribution\"},\"barmode\":\"relative\"},                        {\"responsive\": true}                    ).then(function(){\n",
       "                            \n",
       "var gd = document.getElementById('a41c090c-e81a-4a98-b3a4-ec1870732c0a');\n",
       "var x = new MutationObserver(function (mutations, observer) {{\n",
       "        var display = window.getComputedStyle(gd).display;\n",
       "        if (!display || display === 'none') {{\n",
       "            console.log([gd, 'removed!']);\n",
       "            Plotly.purge(gd);\n",
       "            observer.disconnect();\n",
       "        }}\n",
       "}});\n",
       "\n",
       "// Listen for the removal of the full notebook cells\n",
       "var notebookContainer = gd.closest('#notebook-container');\n",
       "if (notebookContainer) {{\n",
       "    x.observe(notebookContainer, {childList: true});\n",
       "}}\n",
       "\n",
       "// Listen for the clearing of the current output cell\n",
       "var outputEl = gd.closest('.output');\n",
       "if (outputEl) {{\n",
       "    x.observe(outputEl, {childList: true});\n",
       "}}\n",
       "\n",
       "                        })                };                });            </script>        </div>"
      ]
     },
     "metadata": {},
     "output_type": "display_data"
    }
   ],
   "source": [
    "fig = px.bar(\n",
    "    df.research.str.split(',').explode().value_counts(),\n",
    "    y='research',\n",
    "    title='Research facet distribution')\n",
    "\n",
    "fig.update_layout(\n",
    "    xaxis=dict(tickangle=45, title='Research facet categories'),\n",
    "    yaxis=dict(title='Counts')\n",
    ")\n",
    "\n",
    "fig.show()"
   ]
  },
  {
   "cell_type": "code",
   "execution_count": 25,
   "metadata": {
    "ExecuteTime": {
     "end_time": "2022-12-23T18:55:08.519472Z",
     "start_time": "2022-12-23T18:55:08.515727Z"
    }
   },
   "outputs": [
    {
     "data": {
      "text/plain": [
       "0     Tiny-{{MLOps}}: A Framework for Orchestrating ...\n",
       "2     Quality {{Assurance}} of {{Generative Dialog M...\n",
       "10    Drift {{Lens}}: {{Real-time}} Unsupervised {{C...\n",
       "11    {{GELAB}} \\textendash{} {{The Cutting Edge}} o...\n",
       "13    Brain {{Tumor Detection}} Using {{MLops}} and ...\n",
       "Name: title, dtype: object"
      ]
     },
     "execution_count": 25,
     "metadata": {},
     "output_type": "execute_result"
    }
   ],
   "source": [
    "df[df.research == 'solution'].title.head()"
   ]
  },
  {
   "cell_type": "markdown",
   "metadata": {},
   "source": [
    "## Cont Facet"
   ]
  },
  {
   "cell_type": "code",
   "execution_count": 26,
   "metadata": {
    "ExecuteTime": {
     "end_time": "2022-12-23T18:55:08.524115Z",
     "start_time": "2022-12-23T18:55:08.520545Z"
    }
   },
   "outputs": [
    {
     "name": "stdout",
     "output_type": "stream",
     "text": [
      "Sum of contribution facet units\n",
      "\n",
      "approach        49\n",
      "model           46\n",
      "process         46\n",
      "casestudy       30\n",
      "metric          23\n",
      "tool            18\n",
      "experiment      15\n",
      "literature      12\n",
      "nonempirical     7\n",
      "Name: cont, dtype: int64\n",
      "\n",
      "in total: 246\n",
      "\n"
     ]
    }
   ],
   "source": [
    "val_counts = df.cont.str.split(',').explode().value_counts()\n",
    "\n",
    "if len(val_counts) > 9:\n",
    "    raise ValueError('Error with splitting. Too many values to for Contribution facet')\n",
    "\n",
    "print(f'''Sum of contribution facet units\n",
    "\n",
    "{val_counts}\n",
    "\n",
    "in total: {val_counts.sum()}\n",
    "''')"
   ]
  },
  {
   "cell_type": "code",
   "execution_count": 27,
   "metadata": {
    "ExecuteTime": {
     "end_time": "2022-12-23T18:55:08.559813Z",
     "start_time": "2022-12-23T18:55:08.530361Z"
    }
   },
   "outputs": [
    {
     "data": {
      "application/vnd.plotly.v1+json": {
       "config": {
        "plotlyServerURL": "https://plot.ly"
       },
       "data": [
        {
         "alignmentgroup": "True",
         "hovertemplate": "index=%{x}<br>cont=%{y}<extra></extra>",
         "legendgroup": "",
         "marker": {
          "color": "#636efa",
          "pattern": {
           "shape": ""
          }
         },
         "name": "",
         "offsetgroup": "",
         "orientation": "v",
         "showlegend": false,
         "textposition": "auto",
         "type": "bar",
         "x": [
          "approach",
          "model",
          "process",
          "casestudy",
          "metric",
          "tool",
          "experiment",
          "literature",
          "nonempirical"
         ],
         "xaxis": "x",
         "y": [
          49,
          46,
          46,
          30,
          23,
          18,
          15,
          12,
          7
         ],
         "yaxis": "y"
        }
       ],
       "layout": {
        "barmode": "relative",
        "legend": {
         "tracegroupgap": 0
        },
        "template": {
         "data": {
          "bar": [
           {
            "error_x": {
             "color": "#2a3f5f"
            },
            "error_y": {
             "color": "#2a3f5f"
            },
            "marker": {
             "line": {
              "color": "#E5ECF6",
              "width": 0.5
             },
             "pattern": {
              "fillmode": "overlay",
              "size": 10,
              "solidity": 0.2
             }
            },
            "type": "bar"
           }
          ],
          "barpolar": [
           {
            "marker": {
             "line": {
              "color": "#E5ECF6",
              "width": 0.5
             },
             "pattern": {
              "fillmode": "overlay",
              "size": 10,
              "solidity": 0.2
             }
            },
            "type": "barpolar"
           }
          ],
          "carpet": [
           {
            "aaxis": {
             "endlinecolor": "#2a3f5f",
             "gridcolor": "white",
             "linecolor": "white",
             "minorgridcolor": "white",
             "startlinecolor": "#2a3f5f"
            },
            "baxis": {
             "endlinecolor": "#2a3f5f",
             "gridcolor": "white",
             "linecolor": "white",
             "minorgridcolor": "white",
             "startlinecolor": "#2a3f5f"
            },
            "type": "carpet"
           }
          ],
          "choropleth": [
           {
            "colorbar": {
             "outlinewidth": 0,
             "ticks": ""
            },
            "type": "choropleth"
           }
          ],
          "contour": [
           {
            "colorbar": {
             "outlinewidth": 0,
             "ticks": ""
            },
            "colorscale": [
             [
              0,
              "#0d0887"
             ],
             [
              0.1111111111111111,
              "#46039f"
             ],
             [
              0.2222222222222222,
              "#7201a8"
             ],
             [
              0.3333333333333333,
              "#9c179e"
             ],
             [
              0.4444444444444444,
              "#bd3786"
             ],
             [
              0.5555555555555556,
              "#d8576b"
             ],
             [
              0.6666666666666666,
              "#ed7953"
             ],
             [
              0.7777777777777778,
              "#fb9f3a"
             ],
             [
              0.8888888888888888,
              "#fdca26"
             ],
             [
              1,
              "#f0f921"
             ]
            ],
            "type": "contour"
           }
          ],
          "contourcarpet": [
           {
            "colorbar": {
             "outlinewidth": 0,
             "ticks": ""
            },
            "type": "contourcarpet"
           }
          ],
          "heatmap": [
           {
            "colorbar": {
             "outlinewidth": 0,
             "ticks": ""
            },
            "colorscale": [
             [
              0,
              "#0d0887"
             ],
             [
              0.1111111111111111,
              "#46039f"
             ],
             [
              0.2222222222222222,
              "#7201a8"
             ],
             [
              0.3333333333333333,
              "#9c179e"
             ],
             [
              0.4444444444444444,
              "#bd3786"
             ],
             [
              0.5555555555555556,
              "#d8576b"
             ],
             [
              0.6666666666666666,
              "#ed7953"
             ],
             [
              0.7777777777777778,
              "#fb9f3a"
             ],
             [
              0.8888888888888888,
              "#fdca26"
             ],
             [
              1,
              "#f0f921"
             ]
            ],
            "type": "heatmap"
           }
          ],
          "heatmapgl": [
           {
            "colorbar": {
             "outlinewidth": 0,
             "ticks": ""
            },
            "colorscale": [
             [
              0,
              "#0d0887"
             ],
             [
              0.1111111111111111,
              "#46039f"
             ],
             [
              0.2222222222222222,
              "#7201a8"
             ],
             [
              0.3333333333333333,
              "#9c179e"
             ],
             [
              0.4444444444444444,
              "#bd3786"
             ],
             [
              0.5555555555555556,
              "#d8576b"
             ],
             [
              0.6666666666666666,
              "#ed7953"
             ],
             [
              0.7777777777777778,
              "#fb9f3a"
             ],
             [
              0.8888888888888888,
              "#fdca26"
             ],
             [
              1,
              "#f0f921"
             ]
            ],
            "type": "heatmapgl"
           }
          ],
          "histogram": [
           {
            "marker": {
             "pattern": {
              "fillmode": "overlay",
              "size": 10,
              "solidity": 0.2
             }
            },
            "type": "histogram"
           }
          ],
          "histogram2d": [
           {
            "colorbar": {
             "outlinewidth": 0,
             "ticks": ""
            },
            "colorscale": [
             [
              0,
              "#0d0887"
             ],
             [
              0.1111111111111111,
              "#46039f"
             ],
             [
              0.2222222222222222,
              "#7201a8"
             ],
             [
              0.3333333333333333,
              "#9c179e"
             ],
             [
              0.4444444444444444,
              "#bd3786"
             ],
             [
              0.5555555555555556,
              "#d8576b"
             ],
             [
              0.6666666666666666,
              "#ed7953"
             ],
             [
              0.7777777777777778,
              "#fb9f3a"
             ],
             [
              0.8888888888888888,
              "#fdca26"
             ],
             [
              1,
              "#f0f921"
             ]
            ],
            "type": "histogram2d"
           }
          ],
          "histogram2dcontour": [
           {
            "colorbar": {
             "outlinewidth": 0,
             "ticks": ""
            },
            "colorscale": [
             [
              0,
              "#0d0887"
             ],
             [
              0.1111111111111111,
              "#46039f"
             ],
             [
              0.2222222222222222,
              "#7201a8"
             ],
             [
              0.3333333333333333,
              "#9c179e"
             ],
             [
              0.4444444444444444,
              "#bd3786"
             ],
             [
              0.5555555555555556,
              "#d8576b"
             ],
             [
              0.6666666666666666,
              "#ed7953"
             ],
             [
              0.7777777777777778,
              "#fb9f3a"
             ],
             [
              0.8888888888888888,
              "#fdca26"
             ],
             [
              1,
              "#f0f921"
             ]
            ],
            "type": "histogram2dcontour"
           }
          ],
          "mesh3d": [
           {
            "colorbar": {
             "outlinewidth": 0,
             "ticks": ""
            },
            "type": "mesh3d"
           }
          ],
          "parcoords": [
           {
            "line": {
             "colorbar": {
              "outlinewidth": 0,
              "ticks": ""
             }
            },
            "type": "parcoords"
           }
          ],
          "pie": [
           {
            "automargin": true,
            "type": "pie"
           }
          ],
          "scatter": [
           {
            "fillpattern": {
             "fillmode": "overlay",
             "size": 10,
             "solidity": 0.2
            },
            "type": "scatter"
           }
          ],
          "scatter3d": [
           {
            "line": {
             "colorbar": {
              "outlinewidth": 0,
              "ticks": ""
             }
            },
            "marker": {
             "colorbar": {
              "outlinewidth": 0,
              "ticks": ""
             }
            },
            "type": "scatter3d"
           }
          ],
          "scattercarpet": [
           {
            "marker": {
             "colorbar": {
              "outlinewidth": 0,
              "ticks": ""
             }
            },
            "type": "scattercarpet"
           }
          ],
          "scattergeo": [
           {
            "marker": {
             "colorbar": {
              "outlinewidth": 0,
              "ticks": ""
             }
            },
            "type": "scattergeo"
           }
          ],
          "scattergl": [
           {
            "marker": {
             "colorbar": {
              "outlinewidth": 0,
              "ticks": ""
             }
            },
            "type": "scattergl"
           }
          ],
          "scattermapbox": [
           {
            "marker": {
             "colorbar": {
              "outlinewidth": 0,
              "ticks": ""
             }
            },
            "type": "scattermapbox"
           }
          ],
          "scatterpolar": [
           {
            "marker": {
             "colorbar": {
              "outlinewidth": 0,
              "ticks": ""
             }
            },
            "type": "scatterpolar"
           }
          ],
          "scatterpolargl": [
           {
            "marker": {
             "colorbar": {
              "outlinewidth": 0,
              "ticks": ""
             }
            },
            "type": "scatterpolargl"
           }
          ],
          "scatterternary": [
           {
            "marker": {
             "colorbar": {
              "outlinewidth": 0,
              "ticks": ""
             }
            },
            "type": "scatterternary"
           }
          ],
          "surface": [
           {
            "colorbar": {
             "outlinewidth": 0,
             "ticks": ""
            },
            "colorscale": [
             [
              0,
              "#0d0887"
             ],
             [
              0.1111111111111111,
              "#46039f"
             ],
             [
              0.2222222222222222,
              "#7201a8"
             ],
             [
              0.3333333333333333,
              "#9c179e"
             ],
             [
              0.4444444444444444,
              "#bd3786"
             ],
             [
              0.5555555555555556,
              "#d8576b"
             ],
             [
              0.6666666666666666,
              "#ed7953"
             ],
             [
              0.7777777777777778,
              "#fb9f3a"
             ],
             [
              0.8888888888888888,
              "#fdca26"
             ],
             [
              1,
              "#f0f921"
             ]
            ],
            "type": "surface"
           }
          ],
          "table": [
           {
            "cells": {
             "fill": {
              "color": "#EBF0F8"
             },
             "line": {
              "color": "white"
             }
            },
            "header": {
             "fill": {
              "color": "#C8D4E3"
             },
             "line": {
              "color": "white"
             }
            },
            "type": "table"
           }
          ]
         },
         "layout": {
          "annotationdefaults": {
           "arrowcolor": "#2a3f5f",
           "arrowhead": 0,
           "arrowwidth": 1
          },
          "autotypenumbers": "strict",
          "coloraxis": {
           "colorbar": {
            "outlinewidth": 0,
            "ticks": ""
           }
          },
          "colorscale": {
           "diverging": [
            [
             0,
             "#8e0152"
            ],
            [
             0.1,
             "#c51b7d"
            ],
            [
             0.2,
             "#de77ae"
            ],
            [
             0.3,
             "#f1b6da"
            ],
            [
             0.4,
             "#fde0ef"
            ],
            [
             0.5,
             "#f7f7f7"
            ],
            [
             0.6,
             "#e6f5d0"
            ],
            [
             0.7,
             "#b8e186"
            ],
            [
             0.8,
             "#7fbc41"
            ],
            [
             0.9,
             "#4d9221"
            ],
            [
             1,
             "#276419"
            ]
           ],
           "sequential": [
            [
             0,
             "#0d0887"
            ],
            [
             0.1111111111111111,
             "#46039f"
            ],
            [
             0.2222222222222222,
             "#7201a8"
            ],
            [
             0.3333333333333333,
             "#9c179e"
            ],
            [
             0.4444444444444444,
             "#bd3786"
            ],
            [
             0.5555555555555556,
             "#d8576b"
            ],
            [
             0.6666666666666666,
             "#ed7953"
            ],
            [
             0.7777777777777778,
             "#fb9f3a"
            ],
            [
             0.8888888888888888,
             "#fdca26"
            ],
            [
             1,
             "#f0f921"
            ]
           ],
           "sequentialminus": [
            [
             0,
             "#0d0887"
            ],
            [
             0.1111111111111111,
             "#46039f"
            ],
            [
             0.2222222222222222,
             "#7201a8"
            ],
            [
             0.3333333333333333,
             "#9c179e"
            ],
            [
             0.4444444444444444,
             "#bd3786"
            ],
            [
             0.5555555555555556,
             "#d8576b"
            ],
            [
             0.6666666666666666,
             "#ed7953"
            ],
            [
             0.7777777777777778,
             "#fb9f3a"
            ],
            [
             0.8888888888888888,
             "#fdca26"
            ],
            [
             1,
             "#f0f921"
            ]
           ]
          },
          "colorway": [
           "#636efa",
           "#EF553B",
           "#00cc96",
           "#ab63fa",
           "#FFA15A",
           "#19d3f3",
           "#FF6692",
           "#B6E880",
           "#FF97FF",
           "#FECB52"
          ],
          "font": {
           "color": "#2a3f5f"
          },
          "geo": {
           "bgcolor": "white",
           "lakecolor": "white",
           "landcolor": "#E5ECF6",
           "showlakes": true,
           "showland": true,
           "subunitcolor": "white"
          },
          "hoverlabel": {
           "align": "left"
          },
          "hovermode": "closest",
          "mapbox": {
           "style": "light"
          },
          "paper_bgcolor": "white",
          "plot_bgcolor": "#E5ECF6",
          "polar": {
           "angularaxis": {
            "gridcolor": "white",
            "linecolor": "white",
            "ticks": ""
           },
           "bgcolor": "#E5ECF6",
           "radialaxis": {
            "gridcolor": "white",
            "linecolor": "white",
            "ticks": ""
           }
          },
          "scene": {
           "xaxis": {
            "backgroundcolor": "#E5ECF6",
            "gridcolor": "white",
            "gridwidth": 2,
            "linecolor": "white",
            "showbackground": true,
            "ticks": "",
            "zerolinecolor": "white"
           },
           "yaxis": {
            "backgroundcolor": "#E5ECF6",
            "gridcolor": "white",
            "gridwidth": 2,
            "linecolor": "white",
            "showbackground": true,
            "ticks": "",
            "zerolinecolor": "white"
           },
           "zaxis": {
            "backgroundcolor": "#E5ECF6",
            "gridcolor": "white",
            "gridwidth": 2,
            "linecolor": "white",
            "showbackground": true,
            "ticks": "",
            "zerolinecolor": "white"
           }
          },
          "shapedefaults": {
           "line": {
            "color": "#2a3f5f"
           }
          },
          "ternary": {
           "aaxis": {
            "gridcolor": "white",
            "linecolor": "white",
            "ticks": ""
           },
           "baxis": {
            "gridcolor": "white",
            "linecolor": "white",
            "ticks": ""
           },
           "bgcolor": "#E5ECF6",
           "caxis": {
            "gridcolor": "white",
            "linecolor": "white",
            "ticks": ""
           }
          },
          "title": {
           "x": 0.05
          },
          "xaxis": {
           "automargin": true,
           "gridcolor": "white",
           "linecolor": "white",
           "ticks": "",
           "title": {
            "standoff": 15
           },
           "zerolinecolor": "white",
           "zerolinewidth": 2
          },
          "yaxis": {
           "automargin": true,
           "gridcolor": "white",
           "linecolor": "white",
           "ticks": "",
           "title": {
            "standoff": 15
           },
           "zerolinecolor": "white",
           "zerolinewidth": 2
          }
         }
        },
        "title": {
         "text": "Contribution facet distribution"
        },
        "xaxis": {
         "anchor": "y",
         "domain": [
          0,
          1
         ],
         "tickangle": 45,
         "title": {
          "text": "Contribution facet categories"
         }
        },
        "yaxis": {
         "anchor": "x",
         "domain": [
          0,
          1
         ],
         "title": {
          "text": "Counts"
         }
        }
       }
      },
      "text/html": [
       "<div>                            <div id=\"70589109-dd96-47d9-acdc-df0d64cd4dec\" class=\"plotly-graph-div\" style=\"height:525px; width:100%;\"></div>            <script type=\"text/javascript\">                require([\"plotly\"], function(Plotly) {                    window.PLOTLYENV=window.PLOTLYENV || {};                                    if (document.getElementById(\"70589109-dd96-47d9-acdc-df0d64cd4dec\")) {                    Plotly.newPlot(                        \"70589109-dd96-47d9-acdc-df0d64cd4dec\",                        [{\"alignmentgroup\":\"True\",\"hovertemplate\":\"index=%{x}<br>cont=%{y}<extra></extra>\",\"legendgroup\":\"\",\"marker\":{\"color\":\"#636efa\",\"pattern\":{\"shape\":\"\"}},\"name\":\"\",\"offsetgroup\":\"\",\"orientation\":\"v\",\"showlegend\":false,\"textposition\":\"auto\",\"x\":[\"approach\",\"model\",\"process\",\"casestudy\",\"metric\",\"tool\",\"experiment\",\"literature\",\"nonempirical\"],\"xaxis\":\"x\",\"y\":[49,46,46,30,23,18,15,12,7],\"yaxis\":\"y\",\"type\":\"bar\"}],                        {\"template\":{\"data\":{\"histogram2dcontour\":[{\"type\":\"histogram2dcontour\",\"colorbar\":{\"outlinewidth\":0,\"ticks\":\"\"},\"colorscale\":[[0.0,\"#0d0887\"],[0.1111111111111111,\"#46039f\"],[0.2222222222222222,\"#7201a8\"],[0.3333333333333333,\"#9c179e\"],[0.4444444444444444,\"#bd3786\"],[0.5555555555555556,\"#d8576b\"],[0.6666666666666666,\"#ed7953\"],[0.7777777777777778,\"#fb9f3a\"],[0.8888888888888888,\"#fdca26\"],[1.0,\"#f0f921\"]]}],\"choropleth\":[{\"type\":\"choropleth\",\"colorbar\":{\"outlinewidth\":0,\"ticks\":\"\"}}],\"histogram2d\":[{\"type\":\"histogram2d\",\"colorbar\":{\"outlinewidth\":0,\"ticks\":\"\"},\"colorscale\":[[0.0,\"#0d0887\"],[0.1111111111111111,\"#46039f\"],[0.2222222222222222,\"#7201a8\"],[0.3333333333333333,\"#9c179e\"],[0.4444444444444444,\"#bd3786\"],[0.5555555555555556,\"#d8576b\"],[0.6666666666666666,\"#ed7953\"],[0.7777777777777778,\"#fb9f3a\"],[0.8888888888888888,\"#fdca26\"],[1.0,\"#f0f921\"]]}],\"heatmap\":[{\"type\":\"heatmap\",\"colorbar\":{\"outlinewidth\":0,\"ticks\":\"\"},\"colorscale\":[[0.0,\"#0d0887\"],[0.1111111111111111,\"#46039f\"],[0.2222222222222222,\"#7201a8\"],[0.3333333333333333,\"#9c179e\"],[0.4444444444444444,\"#bd3786\"],[0.5555555555555556,\"#d8576b\"],[0.6666666666666666,\"#ed7953\"],[0.7777777777777778,\"#fb9f3a\"],[0.8888888888888888,\"#fdca26\"],[1.0,\"#f0f921\"]]}],\"heatmapgl\":[{\"type\":\"heatmapgl\",\"colorbar\":{\"outlinewidth\":0,\"ticks\":\"\"},\"colorscale\":[[0.0,\"#0d0887\"],[0.1111111111111111,\"#46039f\"],[0.2222222222222222,\"#7201a8\"],[0.3333333333333333,\"#9c179e\"],[0.4444444444444444,\"#bd3786\"],[0.5555555555555556,\"#d8576b\"],[0.6666666666666666,\"#ed7953\"],[0.7777777777777778,\"#fb9f3a\"],[0.8888888888888888,\"#fdca26\"],[1.0,\"#f0f921\"]]}],\"contourcarpet\":[{\"type\":\"contourcarpet\",\"colorbar\":{\"outlinewidth\":0,\"ticks\":\"\"}}],\"contour\":[{\"type\":\"contour\",\"colorbar\":{\"outlinewidth\":0,\"ticks\":\"\"},\"colorscale\":[[0.0,\"#0d0887\"],[0.1111111111111111,\"#46039f\"],[0.2222222222222222,\"#7201a8\"],[0.3333333333333333,\"#9c179e\"],[0.4444444444444444,\"#bd3786\"],[0.5555555555555556,\"#d8576b\"],[0.6666666666666666,\"#ed7953\"],[0.7777777777777778,\"#fb9f3a\"],[0.8888888888888888,\"#fdca26\"],[1.0,\"#f0f921\"]]}],\"surface\":[{\"type\":\"surface\",\"colorbar\":{\"outlinewidth\":0,\"ticks\":\"\"},\"colorscale\":[[0.0,\"#0d0887\"],[0.1111111111111111,\"#46039f\"],[0.2222222222222222,\"#7201a8\"],[0.3333333333333333,\"#9c179e\"],[0.4444444444444444,\"#bd3786\"],[0.5555555555555556,\"#d8576b\"],[0.6666666666666666,\"#ed7953\"],[0.7777777777777778,\"#fb9f3a\"],[0.8888888888888888,\"#fdca26\"],[1.0,\"#f0f921\"]]}],\"mesh3d\":[{\"type\":\"mesh3d\",\"colorbar\":{\"outlinewidth\":0,\"ticks\":\"\"}}],\"scatter\":[{\"fillpattern\":{\"fillmode\":\"overlay\",\"size\":10,\"solidity\":0.2},\"type\":\"scatter\"}],\"parcoords\":[{\"type\":\"parcoords\",\"line\":{\"colorbar\":{\"outlinewidth\":0,\"ticks\":\"\"}}}],\"scatterpolargl\":[{\"type\":\"scatterpolargl\",\"marker\":{\"colorbar\":{\"outlinewidth\":0,\"ticks\":\"\"}}}],\"bar\":[{\"error_x\":{\"color\":\"#2a3f5f\"},\"error_y\":{\"color\":\"#2a3f5f\"},\"marker\":{\"line\":{\"color\":\"#E5ECF6\",\"width\":0.5},\"pattern\":{\"fillmode\":\"overlay\",\"size\":10,\"solidity\":0.2}},\"type\":\"bar\"}],\"scattergeo\":[{\"type\":\"scattergeo\",\"marker\":{\"colorbar\":{\"outlinewidth\":0,\"ticks\":\"\"}}}],\"scatterpolar\":[{\"type\":\"scatterpolar\",\"marker\":{\"colorbar\":{\"outlinewidth\":0,\"ticks\":\"\"}}}],\"histogram\":[{\"marker\":{\"pattern\":{\"fillmode\":\"overlay\",\"size\":10,\"solidity\":0.2}},\"type\":\"histogram\"}],\"scattergl\":[{\"type\":\"scattergl\",\"marker\":{\"colorbar\":{\"outlinewidth\":0,\"ticks\":\"\"}}}],\"scatter3d\":[{\"type\":\"scatter3d\",\"line\":{\"colorbar\":{\"outlinewidth\":0,\"ticks\":\"\"}},\"marker\":{\"colorbar\":{\"outlinewidth\":0,\"ticks\":\"\"}}}],\"scattermapbox\":[{\"type\":\"scattermapbox\",\"marker\":{\"colorbar\":{\"outlinewidth\":0,\"ticks\":\"\"}}}],\"scatterternary\":[{\"type\":\"scatterternary\",\"marker\":{\"colorbar\":{\"outlinewidth\":0,\"ticks\":\"\"}}}],\"scattercarpet\":[{\"type\":\"scattercarpet\",\"marker\":{\"colorbar\":{\"outlinewidth\":0,\"ticks\":\"\"}}}],\"carpet\":[{\"aaxis\":{\"endlinecolor\":\"#2a3f5f\",\"gridcolor\":\"white\",\"linecolor\":\"white\",\"minorgridcolor\":\"white\",\"startlinecolor\":\"#2a3f5f\"},\"baxis\":{\"endlinecolor\":\"#2a3f5f\",\"gridcolor\":\"white\",\"linecolor\":\"white\",\"minorgridcolor\":\"white\",\"startlinecolor\":\"#2a3f5f\"},\"type\":\"carpet\"}],\"table\":[{\"cells\":{\"fill\":{\"color\":\"#EBF0F8\"},\"line\":{\"color\":\"white\"}},\"header\":{\"fill\":{\"color\":\"#C8D4E3\"},\"line\":{\"color\":\"white\"}},\"type\":\"table\"}],\"barpolar\":[{\"marker\":{\"line\":{\"color\":\"#E5ECF6\",\"width\":0.5},\"pattern\":{\"fillmode\":\"overlay\",\"size\":10,\"solidity\":0.2}},\"type\":\"barpolar\"}],\"pie\":[{\"automargin\":true,\"type\":\"pie\"}]},\"layout\":{\"autotypenumbers\":\"strict\",\"colorway\":[\"#636efa\",\"#EF553B\",\"#00cc96\",\"#ab63fa\",\"#FFA15A\",\"#19d3f3\",\"#FF6692\",\"#B6E880\",\"#FF97FF\",\"#FECB52\"],\"font\":{\"color\":\"#2a3f5f\"},\"hovermode\":\"closest\",\"hoverlabel\":{\"align\":\"left\"},\"paper_bgcolor\":\"white\",\"plot_bgcolor\":\"#E5ECF6\",\"polar\":{\"bgcolor\":\"#E5ECF6\",\"angularaxis\":{\"gridcolor\":\"white\",\"linecolor\":\"white\",\"ticks\":\"\"},\"radialaxis\":{\"gridcolor\":\"white\",\"linecolor\":\"white\",\"ticks\":\"\"}},\"ternary\":{\"bgcolor\":\"#E5ECF6\",\"aaxis\":{\"gridcolor\":\"white\",\"linecolor\":\"white\",\"ticks\":\"\"},\"baxis\":{\"gridcolor\":\"white\",\"linecolor\":\"white\",\"ticks\":\"\"},\"caxis\":{\"gridcolor\":\"white\",\"linecolor\":\"white\",\"ticks\":\"\"}},\"coloraxis\":{\"colorbar\":{\"outlinewidth\":0,\"ticks\":\"\"}},\"colorscale\":{\"sequential\":[[0.0,\"#0d0887\"],[0.1111111111111111,\"#46039f\"],[0.2222222222222222,\"#7201a8\"],[0.3333333333333333,\"#9c179e\"],[0.4444444444444444,\"#bd3786\"],[0.5555555555555556,\"#d8576b\"],[0.6666666666666666,\"#ed7953\"],[0.7777777777777778,\"#fb9f3a\"],[0.8888888888888888,\"#fdca26\"],[1.0,\"#f0f921\"]],\"sequentialminus\":[[0.0,\"#0d0887\"],[0.1111111111111111,\"#46039f\"],[0.2222222222222222,\"#7201a8\"],[0.3333333333333333,\"#9c179e\"],[0.4444444444444444,\"#bd3786\"],[0.5555555555555556,\"#d8576b\"],[0.6666666666666666,\"#ed7953\"],[0.7777777777777778,\"#fb9f3a\"],[0.8888888888888888,\"#fdca26\"],[1.0,\"#f0f921\"]],\"diverging\":[[0,\"#8e0152\"],[0.1,\"#c51b7d\"],[0.2,\"#de77ae\"],[0.3,\"#f1b6da\"],[0.4,\"#fde0ef\"],[0.5,\"#f7f7f7\"],[0.6,\"#e6f5d0\"],[0.7,\"#b8e186\"],[0.8,\"#7fbc41\"],[0.9,\"#4d9221\"],[1,\"#276419\"]]},\"xaxis\":{\"gridcolor\":\"white\",\"linecolor\":\"white\",\"ticks\":\"\",\"title\":{\"standoff\":15},\"zerolinecolor\":\"white\",\"automargin\":true,\"zerolinewidth\":2},\"yaxis\":{\"gridcolor\":\"white\",\"linecolor\":\"white\",\"ticks\":\"\",\"title\":{\"standoff\":15},\"zerolinecolor\":\"white\",\"automargin\":true,\"zerolinewidth\":2},\"scene\":{\"xaxis\":{\"backgroundcolor\":\"#E5ECF6\",\"gridcolor\":\"white\",\"linecolor\":\"white\",\"showbackground\":true,\"ticks\":\"\",\"zerolinecolor\":\"white\",\"gridwidth\":2},\"yaxis\":{\"backgroundcolor\":\"#E5ECF6\",\"gridcolor\":\"white\",\"linecolor\":\"white\",\"showbackground\":true,\"ticks\":\"\",\"zerolinecolor\":\"white\",\"gridwidth\":2},\"zaxis\":{\"backgroundcolor\":\"#E5ECF6\",\"gridcolor\":\"white\",\"linecolor\":\"white\",\"showbackground\":true,\"ticks\":\"\",\"zerolinecolor\":\"white\",\"gridwidth\":2}},\"shapedefaults\":{\"line\":{\"color\":\"#2a3f5f\"}},\"annotationdefaults\":{\"arrowcolor\":\"#2a3f5f\",\"arrowhead\":0,\"arrowwidth\":1},\"geo\":{\"bgcolor\":\"white\",\"landcolor\":\"#E5ECF6\",\"subunitcolor\":\"white\",\"showland\":true,\"showlakes\":true,\"lakecolor\":\"white\"},\"title\":{\"x\":0.05},\"mapbox\":{\"style\":\"light\"}}},\"xaxis\":{\"anchor\":\"y\",\"domain\":[0.0,1.0],\"title\":{\"text\":\"Contribution facet categories\"},\"tickangle\":45},\"yaxis\":{\"anchor\":\"x\",\"domain\":[0.0,1.0],\"title\":{\"text\":\"Counts\"}},\"legend\":{\"tracegroupgap\":0},\"title\":{\"text\":\"Contribution facet distribution\"},\"barmode\":\"relative\"},                        {\"responsive\": true}                    ).then(function(){\n",
       "                            \n",
       "var gd = document.getElementById('70589109-dd96-47d9-acdc-df0d64cd4dec');\n",
       "var x = new MutationObserver(function (mutations, observer) {{\n",
       "        var display = window.getComputedStyle(gd).display;\n",
       "        if (!display || display === 'none') {{\n",
       "            console.log([gd, 'removed!']);\n",
       "            Plotly.purge(gd);\n",
       "            observer.disconnect();\n",
       "        }}\n",
       "}});\n",
       "\n",
       "// Listen for the removal of the full notebook cells\n",
       "var notebookContainer = gd.closest('#notebook-container');\n",
       "if (notebookContainer) {{\n",
       "    x.observe(notebookContainer, {childList: true});\n",
       "}}\n",
       "\n",
       "// Listen for the clearing of the current output cell\n",
       "var outputEl = gd.closest('.output');\n",
       "if (outputEl) {{\n",
       "    x.observe(outputEl, {childList: true});\n",
       "}}\n",
       "\n",
       "                        })                };                });            </script>        </div>"
      ]
     },
     "metadata": {},
     "output_type": "display_data"
    }
   ],
   "source": [
    "fig = px.bar(\n",
    "    df.cont.str.split(',').explode().value_counts(),\n",
    "    y='cont',\n",
    "    title='Contribution facet distribution')\n",
    "\n",
    "fig.update_layout(\n",
    "    xaxis=dict(tickangle=45, title='Contribution facet categories'),\n",
    "    yaxis=dict(title='Counts')\n",
    ")\n",
    "\n",
    "fig.show()"
   ]
  },
  {
   "cell_type": "code",
   "execution_count": 28,
   "metadata": {
    "ExecuteTime": {
     "end_time": "2022-12-23T18:55:08.565932Z",
     "start_time": "2022-12-23T18:55:08.561318Z"
    }
   },
   "outputs": [
    {
     "data": {
      "text/plain": [
       "1     Serverless on {{Machine Learning}}: {{A System...\n",
       "4     Deep {{Learning}} for {{B5G Open Radio Access ...\n",
       "6     Machine {{Learning}} Application Lifecycle Aug...\n",
       "8     On {{Continuous Integration}} / {{Continuous D...\n",
       "9     {{MLOps Challenges}} in {{Multi-Organization S...\n",
       "12    Evidence-Driven {{Requirements Engineering}} f...\n",
       "16    Towards {{MLOps}}: {{A Framework}} and {{Matur...\n",
       "20    Operationalizing {{Machine Learning Models}} -...\n",
       "21    {{AI Governance}} in the {{System Development ...\n",
       "22    {{TinyMLOps}}: {{Operational Challenges}} for ...\n",
       "24    Towards a {{Roadmap}} on {{Software Engineerin...\n",
       "26    {{MLOps}}: {{Five Steps}} to {{Guide}} Its {{E...\n",
       "27    {{MLOps}}: {{A Guide}} to Its {{Adoption}} in ...\n",
       "30    {{MLOps}} for Evolvable {{AI}} Intensive Softw...\n",
       "34    An {{Agile Software Development Life Cycle Mod...\n",
       "40    {{MLOps}} - {{Definitions}}, {{Tools}} and {{C...\n",
       "41    Sustainable {{MLOps}}: {{Trends}} and {{Challe...\n",
       "42      {{MLOps}}: {{A Taxonomy}} and a {{Methodology}}\n",
       "Name: title, dtype: object"
      ]
     },
     "execution_count": 28,
     "metadata": {},
     "output_type": "execute_result"
    }
   ],
   "source": [
    "temp = df[df.cont.str.contains('model','literature')]##.title#.head()\n",
    "temp[temp.research == 'philosophical'].title"
   ]
  },
  {
   "cell_type": "code",
   "execution_count": 29,
   "metadata": {
    "ExecuteTime": {
     "end_time": "2022-12-23T18:55:08.568855Z",
     "start_time": "2022-12-23T18:55:08.567050Z"
    }
   },
   "outputs": [],
   "source": [
    "# DF of counted units per facet\n",
    "\n",
    "\n",
    "# res_cont = df.cont.str.split(',').explode().value_counts().to_frame(\n",
    "#     'count').rename_axis('cont').reset_index()\n",
    "\n",
    "# res_research = df.research.str.split(',').explode().value_counts().to_frame(\n",
    "#     'count').rename_axis('research').reset_index()\n",
    "\n",
    "# res = pd.concat([res_research, res_cont])\n",
    "# res"
   ]
  },
  {
   "cell_type": "markdown",
   "metadata": {},
   "source": [
    "## Domain Facet"
   ]
  },
  {
   "cell_type": "code",
   "execution_count": 30,
   "metadata": {
    "ExecuteTime": {
     "end_time": "2022-12-23T18:55:08.574775Z",
     "start_time": "2022-12-23T18:55:08.570050Z"
    }
   },
   "outputs": [
    {
     "name": "stdout",
     "output_type": "stream",
     "text": [
      "Sum of domain facet units\n",
      "\n",
      "mlops                      33\n",
      "pipeline                   24\n",
      "deeplearning               13\n",
      "deployment                 12\n",
      "cd                         11\n",
      "ci                         11\n",
      "architecture               11\n",
      "monitoring                  9\n",
      "iot                         7\n",
      "cloud                       7\n",
      "automation                  7\n",
      "infrastructure              7\n",
      "docker                      6\n",
      "devops                      6\n",
      "data                        6\n",
      "modelling                   6\n",
      "tinyml                      5\n",
      "datapreparation             5\n",
      "workflow                    5\n",
      "development                 4\n",
      "training                    4\n",
      "kubernetes                  4\n",
      "business                    4\n",
      "ethics                      4\n",
      "dataengineering             3\n",
      "datacollection              3\n",
      "validation                  3\n",
      "container                   3\n",
      "storage                     3\n",
      "pipelines                   3\n",
      "xai                         3\n",
      "privacy                     3\n",
      "governance                  3\n",
      "model                       3\n",
      "federatedlearning           3\n",
      "fairness                    3\n",
      "edgecomputing               3\n",
      "explainability              2\n",
      "lstm                        2\n",
      "argo                        2\n",
      "mlflow                      2\n",
      "packaging                   2\n",
      "prometheus                  2\n",
      "grafana                     2\n",
      "ai                          2\n",
      "inference                   2\n",
      "kubeflow                    2\n",
      "ml                          2\n",
      "git                         2\n",
      "tools                       2\n",
      "security                    2\n",
      "architecure                 2\n",
      "tensorflow                  2\n",
      "datalake                    1\n",
      "modelpackaging              1\n",
      "agile                       1\n",
      "audit                       1\n",
      "modeldrift                  1\n",
      "dataops                     1\n",
      "experimentation             1\n",
      "dataflow                    1\n",
      "orchestration               1\n",
      "versioncontrol              1\n",
      "metainformation             1\n",
      "opensource                  1\n",
      "bots                        1\n",
      "algorithm                   1\n",
      "mysql                       1\n",
      "forecasting                 1\n",
      "visualanalytics             1\n",
      "optimization                1\n",
      "gpu                         1\n",
      "aiops                       1\n",
      "tfx                         1\n",
      "bentoml                     1\n",
      "modelops                    1\n",
      "gitea                       1\n",
      "models                      1\n",
      "jenkins                     1\n",
      "transferlearning            1\n",
      "interpretability            1\n",
      "eda                         1\n",
      "datadrift                   1\n",
      "architecturea               1\n",
      "artefacts                   1\n",
      "mlaas                       1\n",
      "datascience                 1\n",
      "iaac                        1\n",
      "hyperparametertuning        1\n",
      "analysis                    1\n",
      "experimenttracking          1\n",
      "versioning                  1\n",
      "datalabeling                1\n",
      "registry                    1\n",
      "featreengineering           1\n",
      "sagemaker                   1\n",
      "cm                          1\n",
      "featureengineering          1\n",
      "sustainability              1\n",
      "team                        1\n",
      "coding                      1\n",
      "svr                         1\n",
      "kafka                       1\n",
      "microservice                1\n",
      "modularization              1\n",
      "stages                      1\n",
      "pca                         1\n",
      "azure                       1\n",
      "python                      1\n",
      "responsibleai               1\n",
      "worfklow                    1\n",
      "classification              1\n",
      "labeling                    1\n",
      "bert                        1\n",
      "conceptdrift                1\n",
      "challenges                  1\n",
      "delivery                    1\n",
      "aws                         1\n",
      "github                      1\n",
      "gitops                      1\n",
      "deplyoment                  1\n",
      "ann                         1\n",
      "~stages                     1\n",
      "shap                        1\n",
      "theory                      1\n",
      "mllifecycle                 1\n",
      "threads                     1\n",
      "algorithms                  1\n",
      "sklearn                     1\n",
      "keras                       1\n",
      "qa                          1\n",
      "mlalgorithms                1\n",
      "batching                    1\n",
      "coldstart                   1\n",
      "scaling                     1\n",
      "serverless                  1\n",
      "anomalydetection            1\n",
      "tool                        1\n",
      "geneticalgorithm            1\n",
      "IDE                         1\n",
      "matlab                      1\n",
      "humancontrol                1\n",
      "pricinples                  1\n",
      "seldon                      1\n",
      "cluster                     1\n",
      "distributed                 1\n",
      "serving                     1\n",
      "integration                 1\n",
      "modelstorage                1\n",
      "featurestore                1\n",
      "testing                     1\n",
      "modeltraining               1\n",
      "featureselection            1\n",
      "dataanalysis                1\n",
      "modelregistry               1\n",
      "release                     1\n",
      "ops                         1\n",
      "optimumsearch               1\n",
      "costs                       1\n",
      "dataprivacy                 1\n",
      "modelperfromance            1\n",
      "iam                         1\n",
      "cnn                         1\n",
      "imageprocessing             1\n",
      "DAG                         1\n",
      "requirementsengineering     1\n",
      "drone                       1\n",
      "Name: domain, dtype: int64\n",
      "\n",
      "in total: 396\n",
      "\n"
     ]
    }
   ],
   "source": [
    "val_counts = df.domain.str.strip().str.split(',').explode().value_counts()\n",
    "val_counts\n",
    "\n",
    "\n",
    "for val in val_counts.keys():\n",
    "    if val == '':\n",
    "        raise ValueError('Error with splitting. There are empty parts', val)\n",
    "\n",
    "print(f'''Sum of domain facet units\n",
    "\n",
    "{val_counts}\n",
    "\n",
    "in total: {val_counts.sum()}\n",
    "''')"
   ]
  },
  {
   "cell_type": "code",
   "execution_count": 31,
   "metadata": {
    "ExecuteTime": {
     "end_time": "2022-12-23T18:55:08.578819Z",
     "start_time": "2022-12-23T18:55:08.575963Z"
    }
   },
   "outputs": [],
   "source": [
    "top_20_domain_words = df.domain.str.split(',').explode().value_counts()[:20]"
   ]
  },
  {
   "cell_type": "code",
   "execution_count": 32,
   "metadata": {
    "ExecuteTime": {
     "end_time": "2022-12-23T18:55:08.610014Z",
     "start_time": "2022-12-23T18:55:08.580151Z"
    }
   },
   "outputs": [
    {
     "data": {
      "application/vnd.plotly.v1+json": {
       "config": {
        "plotlyServerURL": "https://plot.ly"
       },
       "data": [
        {
         "alignmentgroup": "True",
         "hovertemplate": "index=%{x}<br>domain=%{y}<extra></extra>",
         "legendgroup": "",
         "marker": {
          "color": "#636efa",
          "pattern": {
           "shape": ""
          }
         },
         "name": "",
         "offsetgroup": "",
         "orientation": "v",
         "showlegend": false,
         "textposition": "auto",
         "type": "bar",
         "x": [
          "mlops",
          "pipeline",
          "deeplearning",
          "deployment",
          "cd",
          "ci",
          "architecture",
          "monitoring",
          "iot",
          "cloud",
          "automation",
          "infrastructure",
          "docker",
          "devops",
          "data",
          "modelling",
          "tinyml",
          "datapreparation",
          "workflow",
          "development"
         ],
         "xaxis": "x",
         "y": [
          33,
          24,
          13,
          12,
          11,
          11,
          11,
          9,
          7,
          7,
          7,
          7,
          6,
          6,
          6,
          6,
          5,
          5,
          5,
          4
         ],
         "yaxis": "y"
        }
       ],
       "layout": {
        "barmode": "relative",
        "legend": {
         "tracegroupgap": 0
        },
        "template": {
         "data": {
          "bar": [
           {
            "error_x": {
             "color": "#2a3f5f"
            },
            "error_y": {
             "color": "#2a3f5f"
            },
            "marker": {
             "line": {
              "color": "#E5ECF6",
              "width": 0.5
             },
             "pattern": {
              "fillmode": "overlay",
              "size": 10,
              "solidity": 0.2
             }
            },
            "type": "bar"
           }
          ],
          "barpolar": [
           {
            "marker": {
             "line": {
              "color": "#E5ECF6",
              "width": 0.5
             },
             "pattern": {
              "fillmode": "overlay",
              "size": 10,
              "solidity": 0.2
             }
            },
            "type": "barpolar"
           }
          ],
          "carpet": [
           {
            "aaxis": {
             "endlinecolor": "#2a3f5f",
             "gridcolor": "white",
             "linecolor": "white",
             "minorgridcolor": "white",
             "startlinecolor": "#2a3f5f"
            },
            "baxis": {
             "endlinecolor": "#2a3f5f",
             "gridcolor": "white",
             "linecolor": "white",
             "minorgridcolor": "white",
             "startlinecolor": "#2a3f5f"
            },
            "type": "carpet"
           }
          ],
          "choropleth": [
           {
            "colorbar": {
             "outlinewidth": 0,
             "ticks": ""
            },
            "type": "choropleth"
           }
          ],
          "contour": [
           {
            "colorbar": {
             "outlinewidth": 0,
             "ticks": ""
            },
            "colorscale": [
             [
              0,
              "#0d0887"
             ],
             [
              0.1111111111111111,
              "#46039f"
             ],
             [
              0.2222222222222222,
              "#7201a8"
             ],
             [
              0.3333333333333333,
              "#9c179e"
             ],
             [
              0.4444444444444444,
              "#bd3786"
             ],
             [
              0.5555555555555556,
              "#d8576b"
             ],
             [
              0.6666666666666666,
              "#ed7953"
             ],
             [
              0.7777777777777778,
              "#fb9f3a"
             ],
             [
              0.8888888888888888,
              "#fdca26"
             ],
             [
              1,
              "#f0f921"
             ]
            ],
            "type": "contour"
           }
          ],
          "contourcarpet": [
           {
            "colorbar": {
             "outlinewidth": 0,
             "ticks": ""
            },
            "type": "contourcarpet"
           }
          ],
          "heatmap": [
           {
            "colorbar": {
             "outlinewidth": 0,
             "ticks": ""
            },
            "colorscale": [
             [
              0,
              "#0d0887"
             ],
             [
              0.1111111111111111,
              "#46039f"
             ],
             [
              0.2222222222222222,
              "#7201a8"
             ],
             [
              0.3333333333333333,
              "#9c179e"
             ],
             [
              0.4444444444444444,
              "#bd3786"
             ],
             [
              0.5555555555555556,
              "#d8576b"
             ],
             [
              0.6666666666666666,
              "#ed7953"
             ],
             [
              0.7777777777777778,
              "#fb9f3a"
             ],
             [
              0.8888888888888888,
              "#fdca26"
             ],
             [
              1,
              "#f0f921"
             ]
            ],
            "type": "heatmap"
           }
          ],
          "heatmapgl": [
           {
            "colorbar": {
             "outlinewidth": 0,
             "ticks": ""
            },
            "colorscale": [
             [
              0,
              "#0d0887"
             ],
             [
              0.1111111111111111,
              "#46039f"
             ],
             [
              0.2222222222222222,
              "#7201a8"
             ],
             [
              0.3333333333333333,
              "#9c179e"
             ],
             [
              0.4444444444444444,
              "#bd3786"
             ],
             [
              0.5555555555555556,
              "#d8576b"
             ],
             [
              0.6666666666666666,
              "#ed7953"
             ],
             [
              0.7777777777777778,
              "#fb9f3a"
             ],
             [
              0.8888888888888888,
              "#fdca26"
             ],
             [
              1,
              "#f0f921"
             ]
            ],
            "type": "heatmapgl"
           }
          ],
          "histogram": [
           {
            "marker": {
             "pattern": {
              "fillmode": "overlay",
              "size": 10,
              "solidity": 0.2
             }
            },
            "type": "histogram"
           }
          ],
          "histogram2d": [
           {
            "colorbar": {
             "outlinewidth": 0,
             "ticks": ""
            },
            "colorscale": [
             [
              0,
              "#0d0887"
             ],
             [
              0.1111111111111111,
              "#46039f"
             ],
             [
              0.2222222222222222,
              "#7201a8"
             ],
             [
              0.3333333333333333,
              "#9c179e"
             ],
             [
              0.4444444444444444,
              "#bd3786"
             ],
             [
              0.5555555555555556,
              "#d8576b"
             ],
             [
              0.6666666666666666,
              "#ed7953"
             ],
             [
              0.7777777777777778,
              "#fb9f3a"
             ],
             [
              0.8888888888888888,
              "#fdca26"
             ],
             [
              1,
              "#f0f921"
             ]
            ],
            "type": "histogram2d"
           }
          ],
          "histogram2dcontour": [
           {
            "colorbar": {
             "outlinewidth": 0,
             "ticks": ""
            },
            "colorscale": [
             [
              0,
              "#0d0887"
             ],
             [
              0.1111111111111111,
              "#46039f"
             ],
             [
              0.2222222222222222,
              "#7201a8"
             ],
             [
              0.3333333333333333,
              "#9c179e"
             ],
             [
              0.4444444444444444,
              "#bd3786"
             ],
             [
              0.5555555555555556,
              "#d8576b"
             ],
             [
              0.6666666666666666,
              "#ed7953"
             ],
             [
              0.7777777777777778,
              "#fb9f3a"
             ],
             [
              0.8888888888888888,
              "#fdca26"
             ],
             [
              1,
              "#f0f921"
             ]
            ],
            "type": "histogram2dcontour"
           }
          ],
          "mesh3d": [
           {
            "colorbar": {
             "outlinewidth": 0,
             "ticks": ""
            },
            "type": "mesh3d"
           }
          ],
          "parcoords": [
           {
            "line": {
             "colorbar": {
              "outlinewidth": 0,
              "ticks": ""
             }
            },
            "type": "parcoords"
           }
          ],
          "pie": [
           {
            "automargin": true,
            "type": "pie"
           }
          ],
          "scatter": [
           {
            "fillpattern": {
             "fillmode": "overlay",
             "size": 10,
             "solidity": 0.2
            },
            "type": "scatter"
           }
          ],
          "scatter3d": [
           {
            "line": {
             "colorbar": {
              "outlinewidth": 0,
              "ticks": ""
             }
            },
            "marker": {
             "colorbar": {
              "outlinewidth": 0,
              "ticks": ""
             }
            },
            "type": "scatter3d"
           }
          ],
          "scattercarpet": [
           {
            "marker": {
             "colorbar": {
              "outlinewidth": 0,
              "ticks": ""
             }
            },
            "type": "scattercarpet"
           }
          ],
          "scattergeo": [
           {
            "marker": {
             "colorbar": {
              "outlinewidth": 0,
              "ticks": ""
             }
            },
            "type": "scattergeo"
           }
          ],
          "scattergl": [
           {
            "marker": {
             "colorbar": {
              "outlinewidth": 0,
              "ticks": ""
             }
            },
            "type": "scattergl"
           }
          ],
          "scattermapbox": [
           {
            "marker": {
             "colorbar": {
              "outlinewidth": 0,
              "ticks": ""
             }
            },
            "type": "scattermapbox"
           }
          ],
          "scatterpolar": [
           {
            "marker": {
             "colorbar": {
              "outlinewidth": 0,
              "ticks": ""
             }
            },
            "type": "scatterpolar"
           }
          ],
          "scatterpolargl": [
           {
            "marker": {
             "colorbar": {
              "outlinewidth": 0,
              "ticks": ""
             }
            },
            "type": "scatterpolargl"
           }
          ],
          "scatterternary": [
           {
            "marker": {
             "colorbar": {
              "outlinewidth": 0,
              "ticks": ""
             }
            },
            "type": "scatterternary"
           }
          ],
          "surface": [
           {
            "colorbar": {
             "outlinewidth": 0,
             "ticks": ""
            },
            "colorscale": [
             [
              0,
              "#0d0887"
             ],
             [
              0.1111111111111111,
              "#46039f"
             ],
             [
              0.2222222222222222,
              "#7201a8"
             ],
             [
              0.3333333333333333,
              "#9c179e"
             ],
             [
              0.4444444444444444,
              "#bd3786"
             ],
             [
              0.5555555555555556,
              "#d8576b"
             ],
             [
              0.6666666666666666,
              "#ed7953"
             ],
             [
              0.7777777777777778,
              "#fb9f3a"
             ],
             [
              0.8888888888888888,
              "#fdca26"
             ],
             [
              1,
              "#f0f921"
             ]
            ],
            "type": "surface"
           }
          ],
          "table": [
           {
            "cells": {
             "fill": {
              "color": "#EBF0F8"
             },
             "line": {
              "color": "white"
             }
            },
            "header": {
             "fill": {
              "color": "#C8D4E3"
             },
             "line": {
              "color": "white"
             }
            },
            "type": "table"
           }
          ]
         },
         "layout": {
          "annotationdefaults": {
           "arrowcolor": "#2a3f5f",
           "arrowhead": 0,
           "arrowwidth": 1
          },
          "autotypenumbers": "strict",
          "coloraxis": {
           "colorbar": {
            "outlinewidth": 0,
            "ticks": ""
           }
          },
          "colorscale": {
           "diverging": [
            [
             0,
             "#8e0152"
            ],
            [
             0.1,
             "#c51b7d"
            ],
            [
             0.2,
             "#de77ae"
            ],
            [
             0.3,
             "#f1b6da"
            ],
            [
             0.4,
             "#fde0ef"
            ],
            [
             0.5,
             "#f7f7f7"
            ],
            [
             0.6,
             "#e6f5d0"
            ],
            [
             0.7,
             "#b8e186"
            ],
            [
             0.8,
             "#7fbc41"
            ],
            [
             0.9,
             "#4d9221"
            ],
            [
             1,
             "#276419"
            ]
           ],
           "sequential": [
            [
             0,
             "#0d0887"
            ],
            [
             0.1111111111111111,
             "#46039f"
            ],
            [
             0.2222222222222222,
             "#7201a8"
            ],
            [
             0.3333333333333333,
             "#9c179e"
            ],
            [
             0.4444444444444444,
             "#bd3786"
            ],
            [
             0.5555555555555556,
             "#d8576b"
            ],
            [
             0.6666666666666666,
             "#ed7953"
            ],
            [
             0.7777777777777778,
             "#fb9f3a"
            ],
            [
             0.8888888888888888,
             "#fdca26"
            ],
            [
             1,
             "#f0f921"
            ]
           ],
           "sequentialminus": [
            [
             0,
             "#0d0887"
            ],
            [
             0.1111111111111111,
             "#46039f"
            ],
            [
             0.2222222222222222,
             "#7201a8"
            ],
            [
             0.3333333333333333,
             "#9c179e"
            ],
            [
             0.4444444444444444,
             "#bd3786"
            ],
            [
             0.5555555555555556,
             "#d8576b"
            ],
            [
             0.6666666666666666,
             "#ed7953"
            ],
            [
             0.7777777777777778,
             "#fb9f3a"
            ],
            [
             0.8888888888888888,
             "#fdca26"
            ],
            [
             1,
             "#f0f921"
            ]
           ]
          },
          "colorway": [
           "#636efa",
           "#EF553B",
           "#00cc96",
           "#ab63fa",
           "#FFA15A",
           "#19d3f3",
           "#FF6692",
           "#B6E880",
           "#FF97FF",
           "#FECB52"
          ],
          "font": {
           "color": "#2a3f5f"
          },
          "geo": {
           "bgcolor": "white",
           "lakecolor": "white",
           "landcolor": "#E5ECF6",
           "showlakes": true,
           "showland": true,
           "subunitcolor": "white"
          },
          "hoverlabel": {
           "align": "left"
          },
          "hovermode": "closest",
          "mapbox": {
           "style": "light"
          },
          "paper_bgcolor": "white",
          "plot_bgcolor": "#E5ECF6",
          "polar": {
           "angularaxis": {
            "gridcolor": "white",
            "linecolor": "white",
            "ticks": ""
           },
           "bgcolor": "#E5ECF6",
           "radialaxis": {
            "gridcolor": "white",
            "linecolor": "white",
            "ticks": ""
           }
          },
          "scene": {
           "xaxis": {
            "backgroundcolor": "#E5ECF6",
            "gridcolor": "white",
            "gridwidth": 2,
            "linecolor": "white",
            "showbackground": true,
            "ticks": "",
            "zerolinecolor": "white"
           },
           "yaxis": {
            "backgroundcolor": "#E5ECF6",
            "gridcolor": "white",
            "gridwidth": 2,
            "linecolor": "white",
            "showbackground": true,
            "ticks": "",
            "zerolinecolor": "white"
           },
           "zaxis": {
            "backgroundcolor": "#E5ECF6",
            "gridcolor": "white",
            "gridwidth": 2,
            "linecolor": "white",
            "showbackground": true,
            "ticks": "",
            "zerolinecolor": "white"
           }
          },
          "shapedefaults": {
           "line": {
            "color": "#2a3f5f"
           }
          },
          "ternary": {
           "aaxis": {
            "gridcolor": "white",
            "linecolor": "white",
            "ticks": ""
           },
           "baxis": {
            "gridcolor": "white",
            "linecolor": "white",
            "ticks": ""
           },
           "bgcolor": "#E5ECF6",
           "caxis": {
            "gridcolor": "white",
            "linecolor": "white",
            "ticks": ""
           }
          },
          "title": {
           "x": 0.05
          },
          "xaxis": {
           "automargin": true,
           "gridcolor": "white",
           "linecolor": "white",
           "ticks": "",
           "title": {
            "standoff": 15
           },
           "zerolinecolor": "white",
           "zerolinewidth": 2
          },
          "yaxis": {
           "automargin": true,
           "gridcolor": "white",
           "linecolor": "white",
           "ticks": "",
           "title": {
            "standoff": 15
           },
           "zerolinecolor": "white",
           "zerolinewidth": 2
          }
         }
        },
        "title": {
         "text": "Domain facet distribution"
        },
        "xaxis": {
         "anchor": "y",
         "domain": [
          0,
          1
         ],
         "tickangle": 45,
         "title": {
          "text": "Domain facet categories"
         }
        },
        "yaxis": {
         "anchor": "x",
         "domain": [
          0,
          1
         ],
         "title": {
          "text": "Counts"
         }
        }
       }
      },
      "text/html": [
       "<div>                            <div id=\"c3f6d7aa-439f-4a3e-b5e5-a6d2c1e04d54\" class=\"plotly-graph-div\" style=\"height:525px; width:100%;\"></div>            <script type=\"text/javascript\">                require([\"plotly\"], function(Plotly) {                    window.PLOTLYENV=window.PLOTLYENV || {};                                    if (document.getElementById(\"c3f6d7aa-439f-4a3e-b5e5-a6d2c1e04d54\")) {                    Plotly.newPlot(                        \"c3f6d7aa-439f-4a3e-b5e5-a6d2c1e04d54\",                        [{\"alignmentgroup\":\"True\",\"hovertemplate\":\"index=%{x}<br>domain=%{y}<extra></extra>\",\"legendgroup\":\"\",\"marker\":{\"color\":\"#636efa\",\"pattern\":{\"shape\":\"\"}},\"name\":\"\",\"offsetgroup\":\"\",\"orientation\":\"v\",\"showlegend\":false,\"textposition\":\"auto\",\"x\":[\"mlops\",\"pipeline\",\"deeplearning\",\"deployment\",\"cd\",\"ci\",\"architecture\",\"monitoring\",\"iot\",\"cloud\",\"automation\",\"infrastructure\",\"docker\",\"devops\",\"data\",\"modelling\",\"tinyml\",\"datapreparation\",\"workflow\",\"development\"],\"xaxis\":\"x\",\"y\":[33,24,13,12,11,11,11,9,7,7,7,7,6,6,6,6,5,5,5,4],\"yaxis\":\"y\",\"type\":\"bar\"}],                        {\"template\":{\"data\":{\"histogram2dcontour\":[{\"type\":\"histogram2dcontour\",\"colorbar\":{\"outlinewidth\":0,\"ticks\":\"\"},\"colorscale\":[[0.0,\"#0d0887\"],[0.1111111111111111,\"#46039f\"],[0.2222222222222222,\"#7201a8\"],[0.3333333333333333,\"#9c179e\"],[0.4444444444444444,\"#bd3786\"],[0.5555555555555556,\"#d8576b\"],[0.6666666666666666,\"#ed7953\"],[0.7777777777777778,\"#fb9f3a\"],[0.8888888888888888,\"#fdca26\"],[1.0,\"#f0f921\"]]}],\"choropleth\":[{\"type\":\"choropleth\",\"colorbar\":{\"outlinewidth\":0,\"ticks\":\"\"}}],\"histogram2d\":[{\"type\":\"histogram2d\",\"colorbar\":{\"outlinewidth\":0,\"ticks\":\"\"},\"colorscale\":[[0.0,\"#0d0887\"],[0.1111111111111111,\"#46039f\"],[0.2222222222222222,\"#7201a8\"],[0.3333333333333333,\"#9c179e\"],[0.4444444444444444,\"#bd3786\"],[0.5555555555555556,\"#d8576b\"],[0.6666666666666666,\"#ed7953\"],[0.7777777777777778,\"#fb9f3a\"],[0.8888888888888888,\"#fdca26\"],[1.0,\"#f0f921\"]]}],\"heatmap\":[{\"type\":\"heatmap\",\"colorbar\":{\"outlinewidth\":0,\"ticks\":\"\"},\"colorscale\":[[0.0,\"#0d0887\"],[0.1111111111111111,\"#46039f\"],[0.2222222222222222,\"#7201a8\"],[0.3333333333333333,\"#9c179e\"],[0.4444444444444444,\"#bd3786\"],[0.5555555555555556,\"#d8576b\"],[0.6666666666666666,\"#ed7953\"],[0.7777777777777778,\"#fb9f3a\"],[0.8888888888888888,\"#fdca26\"],[1.0,\"#f0f921\"]]}],\"heatmapgl\":[{\"type\":\"heatmapgl\",\"colorbar\":{\"outlinewidth\":0,\"ticks\":\"\"},\"colorscale\":[[0.0,\"#0d0887\"],[0.1111111111111111,\"#46039f\"],[0.2222222222222222,\"#7201a8\"],[0.3333333333333333,\"#9c179e\"],[0.4444444444444444,\"#bd3786\"],[0.5555555555555556,\"#d8576b\"],[0.6666666666666666,\"#ed7953\"],[0.7777777777777778,\"#fb9f3a\"],[0.8888888888888888,\"#fdca26\"],[1.0,\"#f0f921\"]]}],\"contourcarpet\":[{\"type\":\"contourcarpet\",\"colorbar\":{\"outlinewidth\":0,\"ticks\":\"\"}}],\"contour\":[{\"type\":\"contour\",\"colorbar\":{\"outlinewidth\":0,\"ticks\":\"\"},\"colorscale\":[[0.0,\"#0d0887\"],[0.1111111111111111,\"#46039f\"],[0.2222222222222222,\"#7201a8\"],[0.3333333333333333,\"#9c179e\"],[0.4444444444444444,\"#bd3786\"],[0.5555555555555556,\"#d8576b\"],[0.6666666666666666,\"#ed7953\"],[0.7777777777777778,\"#fb9f3a\"],[0.8888888888888888,\"#fdca26\"],[1.0,\"#f0f921\"]]}],\"surface\":[{\"type\":\"surface\",\"colorbar\":{\"outlinewidth\":0,\"ticks\":\"\"},\"colorscale\":[[0.0,\"#0d0887\"],[0.1111111111111111,\"#46039f\"],[0.2222222222222222,\"#7201a8\"],[0.3333333333333333,\"#9c179e\"],[0.4444444444444444,\"#bd3786\"],[0.5555555555555556,\"#d8576b\"],[0.6666666666666666,\"#ed7953\"],[0.7777777777777778,\"#fb9f3a\"],[0.8888888888888888,\"#fdca26\"],[1.0,\"#f0f921\"]]}],\"mesh3d\":[{\"type\":\"mesh3d\",\"colorbar\":{\"outlinewidth\":0,\"ticks\":\"\"}}],\"scatter\":[{\"fillpattern\":{\"fillmode\":\"overlay\",\"size\":10,\"solidity\":0.2},\"type\":\"scatter\"}],\"parcoords\":[{\"type\":\"parcoords\",\"line\":{\"colorbar\":{\"outlinewidth\":0,\"ticks\":\"\"}}}],\"scatterpolargl\":[{\"type\":\"scatterpolargl\",\"marker\":{\"colorbar\":{\"outlinewidth\":0,\"ticks\":\"\"}}}],\"bar\":[{\"error_x\":{\"color\":\"#2a3f5f\"},\"error_y\":{\"color\":\"#2a3f5f\"},\"marker\":{\"line\":{\"color\":\"#E5ECF6\",\"width\":0.5},\"pattern\":{\"fillmode\":\"overlay\",\"size\":10,\"solidity\":0.2}},\"type\":\"bar\"}],\"scattergeo\":[{\"type\":\"scattergeo\",\"marker\":{\"colorbar\":{\"outlinewidth\":0,\"ticks\":\"\"}}}],\"scatterpolar\":[{\"type\":\"scatterpolar\",\"marker\":{\"colorbar\":{\"outlinewidth\":0,\"ticks\":\"\"}}}],\"histogram\":[{\"marker\":{\"pattern\":{\"fillmode\":\"overlay\",\"size\":10,\"solidity\":0.2}},\"type\":\"histogram\"}],\"scattergl\":[{\"type\":\"scattergl\",\"marker\":{\"colorbar\":{\"outlinewidth\":0,\"ticks\":\"\"}}}],\"scatter3d\":[{\"type\":\"scatter3d\",\"line\":{\"colorbar\":{\"outlinewidth\":0,\"ticks\":\"\"}},\"marker\":{\"colorbar\":{\"outlinewidth\":0,\"ticks\":\"\"}}}],\"scattermapbox\":[{\"type\":\"scattermapbox\",\"marker\":{\"colorbar\":{\"outlinewidth\":0,\"ticks\":\"\"}}}],\"scatterternary\":[{\"type\":\"scatterternary\",\"marker\":{\"colorbar\":{\"outlinewidth\":0,\"ticks\":\"\"}}}],\"scattercarpet\":[{\"type\":\"scattercarpet\",\"marker\":{\"colorbar\":{\"outlinewidth\":0,\"ticks\":\"\"}}}],\"carpet\":[{\"aaxis\":{\"endlinecolor\":\"#2a3f5f\",\"gridcolor\":\"white\",\"linecolor\":\"white\",\"minorgridcolor\":\"white\",\"startlinecolor\":\"#2a3f5f\"},\"baxis\":{\"endlinecolor\":\"#2a3f5f\",\"gridcolor\":\"white\",\"linecolor\":\"white\",\"minorgridcolor\":\"white\",\"startlinecolor\":\"#2a3f5f\"},\"type\":\"carpet\"}],\"table\":[{\"cells\":{\"fill\":{\"color\":\"#EBF0F8\"},\"line\":{\"color\":\"white\"}},\"header\":{\"fill\":{\"color\":\"#C8D4E3\"},\"line\":{\"color\":\"white\"}},\"type\":\"table\"}],\"barpolar\":[{\"marker\":{\"line\":{\"color\":\"#E5ECF6\",\"width\":0.5},\"pattern\":{\"fillmode\":\"overlay\",\"size\":10,\"solidity\":0.2}},\"type\":\"barpolar\"}],\"pie\":[{\"automargin\":true,\"type\":\"pie\"}]},\"layout\":{\"autotypenumbers\":\"strict\",\"colorway\":[\"#636efa\",\"#EF553B\",\"#00cc96\",\"#ab63fa\",\"#FFA15A\",\"#19d3f3\",\"#FF6692\",\"#B6E880\",\"#FF97FF\",\"#FECB52\"],\"font\":{\"color\":\"#2a3f5f\"},\"hovermode\":\"closest\",\"hoverlabel\":{\"align\":\"left\"},\"paper_bgcolor\":\"white\",\"plot_bgcolor\":\"#E5ECF6\",\"polar\":{\"bgcolor\":\"#E5ECF6\",\"angularaxis\":{\"gridcolor\":\"white\",\"linecolor\":\"white\",\"ticks\":\"\"},\"radialaxis\":{\"gridcolor\":\"white\",\"linecolor\":\"white\",\"ticks\":\"\"}},\"ternary\":{\"bgcolor\":\"#E5ECF6\",\"aaxis\":{\"gridcolor\":\"white\",\"linecolor\":\"white\",\"ticks\":\"\"},\"baxis\":{\"gridcolor\":\"white\",\"linecolor\":\"white\",\"ticks\":\"\"},\"caxis\":{\"gridcolor\":\"white\",\"linecolor\":\"white\",\"ticks\":\"\"}},\"coloraxis\":{\"colorbar\":{\"outlinewidth\":0,\"ticks\":\"\"}},\"colorscale\":{\"sequential\":[[0.0,\"#0d0887\"],[0.1111111111111111,\"#46039f\"],[0.2222222222222222,\"#7201a8\"],[0.3333333333333333,\"#9c179e\"],[0.4444444444444444,\"#bd3786\"],[0.5555555555555556,\"#d8576b\"],[0.6666666666666666,\"#ed7953\"],[0.7777777777777778,\"#fb9f3a\"],[0.8888888888888888,\"#fdca26\"],[1.0,\"#f0f921\"]],\"sequentialminus\":[[0.0,\"#0d0887\"],[0.1111111111111111,\"#46039f\"],[0.2222222222222222,\"#7201a8\"],[0.3333333333333333,\"#9c179e\"],[0.4444444444444444,\"#bd3786\"],[0.5555555555555556,\"#d8576b\"],[0.6666666666666666,\"#ed7953\"],[0.7777777777777778,\"#fb9f3a\"],[0.8888888888888888,\"#fdca26\"],[1.0,\"#f0f921\"]],\"diverging\":[[0,\"#8e0152\"],[0.1,\"#c51b7d\"],[0.2,\"#de77ae\"],[0.3,\"#f1b6da\"],[0.4,\"#fde0ef\"],[0.5,\"#f7f7f7\"],[0.6,\"#e6f5d0\"],[0.7,\"#b8e186\"],[0.8,\"#7fbc41\"],[0.9,\"#4d9221\"],[1,\"#276419\"]]},\"xaxis\":{\"gridcolor\":\"white\",\"linecolor\":\"white\",\"ticks\":\"\",\"title\":{\"standoff\":15},\"zerolinecolor\":\"white\",\"automargin\":true,\"zerolinewidth\":2},\"yaxis\":{\"gridcolor\":\"white\",\"linecolor\":\"white\",\"ticks\":\"\",\"title\":{\"standoff\":15},\"zerolinecolor\":\"white\",\"automargin\":true,\"zerolinewidth\":2},\"scene\":{\"xaxis\":{\"backgroundcolor\":\"#E5ECF6\",\"gridcolor\":\"white\",\"linecolor\":\"white\",\"showbackground\":true,\"ticks\":\"\",\"zerolinecolor\":\"white\",\"gridwidth\":2},\"yaxis\":{\"backgroundcolor\":\"#E5ECF6\",\"gridcolor\":\"white\",\"linecolor\":\"white\",\"showbackground\":true,\"ticks\":\"\",\"zerolinecolor\":\"white\",\"gridwidth\":2},\"zaxis\":{\"backgroundcolor\":\"#E5ECF6\",\"gridcolor\":\"white\",\"linecolor\":\"white\",\"showbackground\":true,\"ticks\":\"\",\"zerolinecolor\":\"white\",\"gridwidth\":2}},\"shapedefaults\":{\"line\":{\"color\":\"#2a3f5f\"}},\"annotationdefaults\":{\"arrowcolor\":\"#2a3f5f\",\"arrowhead\":0,\"arrowwidth\":1},\"geo\":{\"bgcolor\":\"white\",\"landcolor\":\"#E5ECF6\",\"subunitcolor\":\"white\",\"showland\":true,\"showlakes\":true,\"lakecolor\":\"white\"},\"title\":{\"x\":0.05},\"mapbox\":{\"style\":\"light\"}}},\"xaxis\":{\"anchor\":\"y\",\"domain\":[0.0,1.0],\"title\":{\"text\":\"Domain facet categories\"},\"tickangle\":45},\"yaxis\":{\"anchor\":\"x\",\"domain\":[0.0,1.0],\"title\":{\"text\":\"Counts\"}},\"legend\":{\"tracegroupgap\":0},\"title\":{\"text\":\"Domain facet distribution\"},\"barmode\":\"relative\"},                        {\"responsive\": true}                    ).then(function(){\n",
       "                            \n",
       "var gd = document.getElementById('c3f6d7aa-439f-4a3e-b5e5-a6d2c1e04d54');\n",
       "var x = new MutationObserver(function (mutations, observer) {{\n",
       "        var display = window.getComputedStyle(gd).display;\n",
       "        if (!display || display === 'none') {{\n",
       "            console.log([gd, 'removed!']);\n",
       "            Plotly.purge(gd);\n",
       "            observer.disconnect();\n",
       "        }}\n",
       "}});\n",
       "\n",
       "// Listen for the removal of the full notebook cells\n",
       "var notebookContainer = gd.closest('#notebook-container');\n",
       "if (notebookContainer) {{\n",
       "    x.observe(notebookContainer, {childList: true});\n",
       "}}\n",
       "\n",
       "// Listen for the clearing of the current output cell\n",
       "var outputEl = gd.closest('.output');\n",
       "if (outputEl) {{\n",
       "    x.observe(outputEl, {childList: true});\n",
       "}}\n",
       "\n",
       "                        })                };                });            </script>        </div>"
      ]
     },
     "metadata": {},
     "output_type": "display_data"
    }
   ],
   "source": [
    "fig = px.bar(\n",
    "    top_20_domain_words,\n",
    "    y='domain',\n",
    "    title='Domain facet distribution')\n",
    "\n",
    "fig.update_layout(\n",
    "    xaxis=dict(tickangle=45, title='Domain facet categories'),\n",
    "    yaxis=dict(title='Counts')\n",
    ")\n",
    "\n",
    "fig.show()"
   ]
  },
  {
   "cell_type": "markdown",
   "metadata": {},
   "source": [
    "# Explore interaction of research and contribution facets"
   ]
  },
  {
   "cell_type": "code",
   "execution_count": 33,
   "metadata": {
    "ExecuteTime": {
     "end_time": "2022-12-23T18:55:08.614204Z",
     "start_time": "2022-12-23T18:55:08.611622Z"
    }
   },
   "outputs": [
    {
     "data": {
      "text/plain": [
       "['evaluation',\n",
       " 'experience',\n",
       " 'opinion',\n",
       " 'philosophical',\n",
       " 'solution',\n",
       " 'validation']"
      ]
     },
     "execution_count": 33,
     "metadata": {},
     "output_type": "execute_result"
    }
   ],
   "source": [
    "research_cols"
   ]
  },
  {
   "cell_type": "code",
   "execution_count": 34,
   "metadata": {
    "ExecuteTime": {
     "end_time": "2022-12-23T18:55:08.618777Z",
     "start_time": "2022-12-23T18:55:08.615494Z"
    }
   },
   "outputs": [
    {
     "name": "stdout",
     "output_type": "stream",
     "text": [
      "\n",
      "Only found the following research facet cols:\n",
      "['solution', 'philosophical', 'evaluation', 'validation']\n",
      "\n"
     ]
    }
   ],
   "source": [
    "applied_research_cols = df['research'].value_counts().keys()\n",
    "\n",
    "if len(research_cols) > len(applied_research_cols):\n",
    "    research_cols = applied_research_cols.to_list()\n",
    "    print(f'''\n",
    "Only found the following research facet cols:\n",
    "{research_cols}\n",
    "''')"
   ]
  },
  {
   "cell_type": "markdown",
   "metadata": {},
   "source": [
    "## Correlations \n",
    "\n",
    "Sanity check of facets by correlation with crosstab with exploded content (1-hot encoded)"
   ]
  },
  {
   "cell_type": "code",
   "execution_count": 35,
   "metadata": {
    "ExecuteTime": {
     "end_time": "2022-12-23T18:55:08.627723Z",
     "start_time": "2022-12-23T18:55:08.620107Z"
    }
   },
   "outputs": [
    {
     "name": "stdout",
     "output_type": "stream",
     "text": [
      "\n",
      "Overall sums:\n",
      "approach         49\n",
      "casestudy        30\n",
      "experiment       15\n",
      "literature       12\n",
      "metric           23\n",
      "model            46\n",
      "nonempirical      7\n",
      "process          46\n",
      "tool             18\n",
      "solution         18\n",
      "philosophical    18\n",
      "evaluation       10\n",
      "validation        3\n",
      "dtype: int64\n",
      "\n",
      "and total nr of facet units: 295\n",
      "\n"
     ]
    }
   ],
   "source": [
    "exploded_cont = df['cont'].str.get_dummies(sep=',')\n",
    "exploded_research = df['research'].str.get_dummies(sep=',')\n",
    "exploded_cont\n",
    "\n",
    "exploded = pd.concat([df, exploded_cont, exploded_research], axis=1)\n",
    "\n",
    "\n",
    "\n",
    "exploded_facets = exploded[cont_cols + research_cols]\n",
    "print(f'''\n",
    "Overall sums:\n",
    "{exploded_facets.sum()}\n",
    "\n",
    "and total nr of facet units: {exploded_facets.sum().sum()}\n",
    "''')"
   ]
  },
  {
   "cell_type": "code",
   "execution_count": 36,
   "metadata": {
    "ExecuteTime": {
     "end_time": "2022-12-23T18:55:08.666011Z",
     "start_time": "2022-12-23T18:55:08.628838Z"
    },
    "scrolled": false
   },
   "outputs": [
    {
     "data": {
      "application/vnd.plotly.v1+json": {
       "config": {
        "plotlyServerURL": "https://plot.ly"
       },
       "data": [
        {
         "coloraxis": "coloraxis",
         "hovertemplate": "x: %{x}<br>y: %{y}<br>color: %{z}<extra></extra>",
         "name": "0",
         "texttemplate": "%{z}",
         "type": "heatmap",
         "x": [
          "approach",
          "casestudy",
          "experiment",
          "literature",
          "metric",
          "model",
          "nonempirical",
          "process",
          "tool",
          "solution",
          "philosophical",
          "evaluation",
          "validation"
         ],
         "xaxis": "x",
         "y": [
          "approach",
          "casestudy",
          "experiment",
          "literature",
          "metric",
          "model",
          "nonempirical",
          "process",
          "tool",
          "solution",
          "philosophical",
          "evaluation",
          "validation"
         ],
         "yaxis": "y",
         "z": [
          [
           null,
           null,
           null,
           null,
           null,
           null,
           null,
           null,
           null,
           null,
           null,
           null,
           null
          ],
          [
           null,
           1,
           0.5285941398709242,
           -0.5208016823004933,
           0.41278986213454166,
           null,
           -0.5129891760425771,
           null,
           null,
           null,
           null,
           null,
           null
          ],
          [
           null,
           0.5285941398709242,
           1,
           null,
           0.5287460931099924,
           null,
           null,
           null,
           null,
           null,
           -0.41427629748406897,
           null,
           null
          ],
          [
           null,
           -0.5208016823004933,
           null,
           1,
           null,
           null,
           null,
           null,
           null,
           null,
           null,
           null,
           null
          ],
          [
           null,
           0.41278986213454166,
           0.5287460931099924,
           null,
           1,
           null,
           null,
           null,
           null,
           null,
           null,
           null,
           null
          ],
          [
           null,
           null,
           null,
           null,
           null,
           1,
           null,
           null,
           null,
           null,
           null,
           null,
           null
          ],
          [
           null,
           -0.5129891760425771,
           null,
           null,
           null,
           null,
           1,
           null,
           null,
           null,
           0.41478067789217016,
           null,
           null
          ],
          [
           null,
           null,
           null,
           null,
           null,
           null,
           null,
           1,
           null,
           null,
           null,
           null,
           null
          ],
          [
           null,
           null,
           null,
           null,
           null,
           null,
           null,
           null,
           1,
           null,
           null,
           null,
           null
          ],
          [
           null,
           null,
           null,
           null,
           null,
           null,
           null,
           null,
           null,
           1,
           -0.5806451612903225,
           null,
           null
          ],
          [
           null,
           null,
           -0.41427629748406897,
           null,
           null,
           null,
           0.41478067789217016,
           null,
           null,
           -0.5806451612903225,
           1,
           null,
           null
          ],
          [
           null,
           null,
           null,
           null,
           null,
           null,
           null,
           null,
           null,
           null,
           null,
           1,
           null
          ],
          [
           null,
           null,
           null,
           null,
           null,
           null,
           null,
           null,
           null,
           null,
           null,
           null,
           1
          ]
         ]
        }
       ],
       "layout": {
        "coloraxis": {
         "colorscale": [
          [
           0,
           "#0d0887"
          ],
          [
           0.1111111111111111,
           "#46039f"
          ],
          [
           0.2222222222222222,
           "#7201a8"
          ],
          [
           0.3333333333333333,
           "#9c179e"
          ],
          [
           0.4444444444444444,
           "#bd3786"
          ],
          [
           0.5555555555555556,
           "#d8576b"
          ],
          [
           0.6666666666666666,
           "#ed7953"
          ],
          [
           0.7777777777777778,
           "#fb9f3a"
          ],
          [
           0.8888888888888888,
           "#fdca26"
          ],
          [
           1,
           "#f0f921"
          ]
         ]
        },
        "margin": {
         "t": 60
        },
        "template": {
         "data": {
          "bar": [
           {
            "error_x": {
             "color": "#2a3f5f"
            },
            "error_y": {
             "color": "#2a3f5f"
            },
            "marker": {
             "line": {
              "color": "#E5ECF6",
              "width": 0.5
             },
             "pattern": {
              "fillmode": "overlay",
              "size": 10,
              "solidity": 0.2
             }
            },
            "type": "bar"
           }
          ],
          "barpolar": [
           {
            "marker": {
             "line": {
              "color": "#E5ECF6",
              "width": 0.5
             },
             "pattern": {
              "fillmode": "overlay",
              "size": 10,
              "solidity": 0.2
             }
            },
            "type": "barpolar"
           }
          ],
          "carpet": [
           {
            "aaxis": {
             "endlinecolor": "#2a3f5f",
             "gridcolor": "white",
             "linecolor": "white",
             "minorgridcolor": "white",
             "startlinecolor": "#2a3f5f"
            },
            "baxis": {
             "endlinecolor": "#2a3f5f",
             "gridcolor": "white",
             "linecolor": "white",
             "minorgridcolor": "white",
             "startlinecolor": "#2a3f5f"
            },
            "type": "carpet"
           }
          ],
          "choropleth": [
           {
            "colorbar": {
             "outlinewidth": 0,
             "ticks": ""
            },
            "type": "choropleth"
           }
          ],
          "contour": [
           {
            "colorbar": {
             "outlinewidth": 0,
             "ticks": ""
            },
            "colorscale": [
             [
              0,
              "#0d0887"
             ],
             [
              0.1111111111111111,
              "#46039f"
             ],
             [
              0.2222222222222222,
              "#7201a8"
             ],
             [
              0.3333333333333333,
              "#9c179e"
             ],
             [
              0.4444444444444444,
              "#bd3786"
             ],
             [
              0.5555555555555556,
              "#d8576b"
             ],
             [
              0.6666666666666666,
              "#ed7953"
             ],
             [
              0.7777777777777778,
              "#fb9f3a"
             ],
             [
              0.8888888888888888,
              "#fdca26"
             ],
             [
              1,
              "#f0f921"
             ]
            ],
            "type": "contour"
           }
          ],
          "contourcarpet": [
           {
            "colorbar": {
             "outlinewidth": 0,
             "ticks": ""
            },
            "type": "contourcarpet"
           }
          ],
          "heatmap": [
           {
            "colorbar": {
             "outlinewidth": 0,
             "ticks": ""
            },
            "colorscale": [
             [
              0,
              "#0d0887"
             ],
             [
              0.1111111111111111,
              "#46039f"
             ],
             [
              0.2222222222222222,
              "#7201a8"
             ],
             [
              0.3333333333333333,
              "#9c179e"
             ],
             [
              0.4444444444444444,
              "#bd3786"
             ],
             [
              0.5555555555555556,
              "#d8576b"
             ],
             [
              0.6666666666666666,
              "#ed7953"
             ],
             [
              0.7777777777777778,
              "#fb9f3a"
             ],
             [
              0.8888888888888888,
              "#fdca26"
             ],
             [
              1,
              "#f0f921"
             ]
            ],
            "type": "heatmap"
           }
          ],
          "heatmapgl": [
           {
            "colorbar": {
             "outlinewidth": 0,
             "ticks": ""
            },
            "colorscale": [
             [
              0,
              "#0d0887"
             ],
             [
              0.1111111111111111,
              "#46039f"
             ],
             [
              0.2222222222222222,
              "#7201a8"
             ],
             [
              0.3333333333333333,
              "#9c179e"
             ],
             [
              0.4444444444444444,
              "#bd3786"
             ],
             [
              0.5555555555555556,
              "#d8576b"
             ],
             [
              0.6666666666666666,
              "#ed7953"
             ],
             [
              0.7777777777777778,
              "#fb9f3a"
             ],
             [
              0.8888888888888888,
              "#fdca26"
             ],
             [
              1,
              "#f0f921"
             ]
            ],
            "type": "heatmapgl"
           }
          ],
          "histogram": [
           {
            "marker": {
             "pattern": {
              "fillmode": "overlay",
              "size": 10,
              "solidity": 0.2
             }
            },
            "type": "histogram"
           }
          ],
          "histogram2d": [
           {
            "colorbar": {
             "outlinewidth": 0,
             "ticks": ""
            },
            "colorscale": [
             [
              0,
              "#0d0887"
             ],
             [
              0.1111111111111111,
              "#46039f"
             ],
             [
              0.2222222222222222,
              "#7201a8"
             ],
             [
              0.3333333333333333,
              "#9c179e"
             ],
             [
              0.4444444444444444,
              "#bd3786"
             ],
             [
              0.5555555555555556,
              "#d8576b"
             ],
             [
              0.6666666666666666,
              "#ed7953"
             ],
             [
              0.7777777777777778,
              "#fb9f3a"
             ],
             [
              0.8888888888888888,
              "#fdca26"
             ],
             [
              1,
              "#f0f921"
             ]
            ],
            "type": "histogram2d"
           }
          ],
          "histogram2dcontour": [
           {
            "colorbar": {
             "outlinewidth": 0,
             "ticks": ""
            },
            "colorscale": [
             [
              0,
              "#0d0887"
             ],
             [
              0.1111111111111111,
              "#46039f"
             ],
             [
              0.2222222222222222,
              "#7201a8"
             ],
             [
              0.3333333333333333,
              "#9c179e"
             ],
             [
              0.4444444444444444,
              "#bd3786"
             ],
             [
              0.5555555555555556,
              "#d8576b"
             ],
             [
              0.6666666666666666,
              "#ed7953"
             ],
             [
              0.7777777777777778,
              "#fb9f3a"
             ],
             [
              0.8888888888888888,
              "#fdca26"
             ],
             [
              1,
              "#f0f921"
             ]
            ],
            "type": "histogram2dcontour"
           }
          ],
          "mesh3d": [
           {
            "colorbar": {
             "outlinewidth": 0,
             "ticks": ""
            },
            "type": "mesh3d"
           }
          ],
          "parcoords": [
           {
            "line": {
             "colorbar": {
              "outlinewidth": 0,
              "ticks": ""
             }
            },
            "type": "parcoords"
           }
          ],
          "pie": [
           {
            "automargin": true,
            "type": "pie"
           }
          ],
          "scatter": [
           {
            "fillpattern": {
             "fillmode": "overlay",
             "size": 10,
             "solidity": 0.2
            },
            "type": "scatter"
           }
          ],
          "scatter3d": [
           {
            "line": {
             "colorbar": {
              "outlinewidth": 0,
              "ticks": ""
             }
            },
            "marker": {
             "colorbar": {
              "outlinewidth": 0,
              "ticks": ""
             }
            },
            "type": "scatter3d"
           }
          ],
          "scattercarpet": [
           {
            "marker": {
             "colorbar": {
              "outlinewidth": 0,
              "ticks": ""
             }
            },
            "type": "scattercarpet"
           }
          ],
          "scattergeo": [
           {
            "marker": {
             "colorbar": {
              "outlinewidth": 0,
              "ticks": ""
             }
            },
            "type": "scattergeo"
           }
          ],
          "scattergl": [
           {
            "marker": {
             "colorbar": {
              "outlinewidth": 0,
              "ticks": ""
             }
            },
            "type": "scattergl"
           }
          ],
          "scattermapbox": [
           {
            "marker": {
             "colorbar": {
              "outlinewidth": 0,
              "ticks": ""
             }
            },
            "type": "scattermapbox"
           }
          ],
          "scatterpolar": [
           {
            "marker": {
             "colorbar": {
              "outlinewidth": 0,
              "ticks": ""
             }
            },
            "type": "scatterpolar"
           }
          ],
          "scatterpolargl": [
           {
            "marker": {
             "colorbar": {
              "outlinewidth": 0,
              "ticks": ""
             }
            },
            "type": "scatterpolargl"
           }
          ],
          "scatterternary": [
           {
            "marker": {
             "colorbar": {
              "outlinewidth": 0,
              "ticks": ""
             }
            },
            "type": "scatterternary"
           }
          ],
          "surface": [
           {
            "colorbar": {
             "outlinewidth": 0,
             "ticks": ""
            },
            "colorscale": [
             [
              0,
              "#0d0887"
             ],
             [
              0.1111111111111111,
              "#46039f"
             ],
             [
              0.2222222222222222,
              "#7201a8"
             ],
             [
              0.3333333333333333,
              "#9c179e"
             ],
             [
              0.4444444444444444,
              "#bd3786"
             ],
             [
              0.5555555555555556,
              "#d8576b"
             ],
             [
              0.6666666666666666,
              "#ed7953"
             ],
             [
              0.7777777777777778,
              "#fb9f3a"
             ],
             [
              0.8888888888888888,
              "#fdca26"
             ],
             [
              1,
              "#f0f921"
             ]
            ],
            "type": "surface"
           }
          ],
          "table": [
           {
            "cells": {
             "fill": {
              "color": "#EBF0F8"
             },
             "line": {
              "color": "white"
             }
            },
            "header": {
             "fill": {
              "color": "#C8D4E3"
             },
             "line": {
              "color": "white"
             }
            },
            "type": "table"
           }
          ]
         },
         "layout": {
          "annotationdefaults": {
           "arrowcolor": "#2a3f5f",
           "arrowhead": 0,
           "arrowwidth": 1
          },
          "autotypenumbers": "strict",
          "coloraxis": {
           "colorbar": {
            "outlinewidth": 0,
            "ticks": ""
           }
          },
          "colorscale": {
           "diverging": [
            [
             0,
             "#8e0152"
            ],
            [
             0.1,
             "#c51b7d"
            ],
            [
             0.2,
             "#de77ae"
            ],
            [
             0.3,
             "#f1b6da"
            ],
            [
             0.4,
             "#fde0ef"
            ],
            [
             0.5,
             "#f7f7f7"
            ],
            [
             0.6,
             "#e6f5d0"
            ],
            [
             0.7,
             "#b8e186"
            ],
            [
             0.8,
             "#7fbc41"
            ],
            [
             0.9,
             "#4d9221"
            ],
            [
             1,
             "#276419"
            ]
           ],
           "sequential": [
            [
             0,
             "#0d0887"
            ],
            [
             0.1111111111111111,
             "#46039f"
            ],
            [
             0.2222222222222222,
             "#7201a8"
            ],
            [
             0.3333333333333333,
             "#9c179e"
            ],
            [
             0.4444444444444444,
             "#bd3786"
            ],
            [
             0.5555555555555556,
             "#d8576b"
            ],
            [
             0.6666666666666666,
             "#ed7953"
            ],
            [
             0.7777777777777778,
             "#fb9f3a"
            ],
            [
             0.8888888888888888,
             "#fdca26"
            ],
            [
             1,
             "#f0f921"
            ]
           ],
           "sequentialminus": [
            [
             0,
             "#0d0887"
            ],
            [
             0.1111111111111111,
             "#46039f"
            ],
            [
             0.2222222222222222,
             "#7201a8"
            ],
            [
             0.3333333333333333,
             "#9c179e"
            ],
            [
             0.4444444444444444,
             "#bd3786"
            ],
            [
             0.5555555555555556,
             "#d8576b"
            ],
            [
             0.6666666666666666,
             "#ed7953"
            ],
            [
             0.7777777777777778,
             "#fb9f3a"
            ],
            [
             0.8888888888888888,
             "#fdca26"
            ],
            [
             1,
             "#f0f921"
            ]
           ]
          },
          "colorway": [
           "#636efa",
           "#EF553B",
           "#00cc96",
           "#ab63fa",
           "#FFA15A",
           "#19d3f3",
           "#FF6692",
           "#B6E880",
           "#FF97FF",
           "#FECB52"
          ],
          "font": {
           "color": "#2a3f5f"
          },
          "geo": {
           "bgcolor": "white",
           "lakecolor": "white",
           "landcolor": "#E5ECF6",
           "showlakes": true,
           "showland": true,
           "subunitcolor": "white"
          },
          "hoverlabel": {
           "align": "left"
          },
          "hovermode": "closest",
          "mapbox": {
           "style": "light"
          },
          "paper_bgcolor": "white",
          "plot_bgcolor": "#E5ECF6",
          "polar": {
           "angularaxis": {
            "gridcolor": "white",
            "linecolor": "white",
            "ticks": ""
           },
           "bgcolor": "#E5ECF6",
           "radialaxis": {
            "gridcolor": "white",
            "linecolor": "white",
            "ticks": ""
           }
          },
          "scene": {
           "xaxis": {
            "backgroundcolor": "#E5ECF6",
            "gridcolor": "white",
            "gridwidth": 2,
            "linecolor": "white",
            "showbackground": true,
            "ticks": "",
            "zerolinecolor": "white"
           },
           "yaxis": {
            "backgroundcolor": "#E5ECF6",
            "gridcolor": "white",
            "gridwidth": 2,
            "linecolor": "white",
            "showbackground": true,
            "ticks": "",
            "zerolinecolor": "white"
           },
           "zaxis": {
            "backgroundcolor": "#E5ECF6",
            "gridcolor": "white",
            "gridwidth": 2,
            "linecolor": "white",
            "showbackground": true,
            "ticks": "",
            "zerolinecolor": "white"
           }
          },
          "shapedefaults": {
           "line": {
            "color": "#2a3f5f"
           }
          },
          "ternary": {
           "aaxis": {
            "gridcolor": "white",
            "linecolor": "white",
            "ticks": ""
           },
           "baxis": {
            "gridcolor": "white",
            "linecolor": "white",
            "ticks": ""
           },
           "bgcolor": "#E5ECF6",
           "caxis": {
            "gridcolor": "white",
            "linecolor": "white",
            "ticks": ""
           }
          },
          "title": {
           "x": 0.05
          },
          "xaxis": {
           "automargin": true,
           "gridcolor": "white",
           "linecolor": "white",
           "ticks": "",
           "title": {
            "standoff": 15
           },
           "zerolinecolor": "white",
           "zerolinewidth": 2
          },
          "yaxis": {
           "automargin": true,
           "gridcolor": "white",
           "linecolor": "white",
           "ticks": "",
           "title": {
            "standoff": 15
           },
           "zerolinecolor": "white",
           "zerolinewidth": 2
          }
         }
        },
        "xaxis": {
         "anchor": "y",
         "domain": [
          0,
          1
         ]
        },
        "yaxis": {
         "anchor": "x",
         "autorange": "reversed",
         "domain": [
          0,
          1
         ]
        }
       }
      },
      "text/html": [
       "<div>                            <div id=\"161594de-c120-4058-bb47-3dee1ef77bd7\" class=\"plotly-graph-div\" style=\"height:525px; width:100%;\"></div>            <script type=\"text/javascript\">                require([\"plotly\"], function(Plotly) {                    window.PLOTLYENV=window.PLOTLYENV || {};                                    if (document.getElementById(\"161594de-c120-4058-bb47-3dee1ef77bd7\")) {                    Plotly.newPlot(                        \"161594de-c120-4058-bb47-3dee1ef77bd7\",                        [{\"coloraxis\":\"coloraxis\",\"name\":\"0\",\"texttemplate\":\"%{z}\",\"x\":[\"approach\",\"casestudy\",\"experiment\",\"literature\",\"metric\",\"model\",\"nonempirical\",\"process\",\"tool\",\"solution\",\"philosophical\",\"evaluation\",\"validation\"],\"y\":[\"approach\",\"casestudy\",\"experiment\",\"literature\",\"metric\",\"model\",\"nonempirical\",\"process\",\"tool\",\"solution\",\"philosophical\",\"evaluation\",\"validation\"],\"z\":[[null,null,null,null,null,null,null,null,null,null,null,null,null],[null,1.0,0.5285941398709242,-0.5208016823004933,0.41278986213454166,null,-0.5129891760425771,null,null,null,null,null,null],[null,0.5285941398709242,1.0,null,0.5287460931099924,null,null,null,null,null,-0.41427629748406897,null,null],[null,-0.5208016823004933,null,1.0,null,null,null,null,null,null,null,null,null],[null,0.41278986213454166,0.5287460931099924,null,1.0,null,null,null,null,null,null,null,null],[null,null,null,null,null,1.0,null,null,null,null,null,null,null],[null,-0.5129891760425771,null,null,null,null,1.0,null,null,null,0.41478067789217016,null,null],[null,null,null,null,null,null,null,1.0,null,null,null,null,null],[null,null,null,null,null,null,null,null,1.0,null,null,null,null],[null,null,null,null,null,null,null,null,null,1.0,-0.5806451612903225,null,null],[null,null,-0.41427629748406897,null,null,null,0.41478067789217016,null,null,-0.5806451612903225,1.0,null,null],[null,null,null,null,null,null,null,null,null,null,null,1.0,null],[null,null,null,null,null,null,null,null,null,null,null,null,1.0]],\"type\":\"heatmap\",\"xaxis\":\"x\",\"yaxis\":\"y\",\"hovertemplate\":\"x: %{x}<br>y: %{y}<br>color: %{z}<extra></extra>\"}],                        {\"template\":{\"data\":{\"histogram2dcontour\":[{\"type\":\"histogram2dcontour\",\"colorbar\":{\"outlinewidth\":0,\"ticks\":\"\"},\"colorscale\":[[0.0,\"#0d0887\"],[0.1111111111111111,\"#46039f\"],[0.2222222222222222,\"#7201a8\"],[0.3333333333333333,\"#9c179e\"],[0.4444444444444444,\"#bd3786\"],[0.5555555555555556,\"#d8576b\"],[0.6666666666666666,\"#ed7953\"],[0.7777777777777778,\"#fb9f3a\"],[0.8888888888888888,\"#fdca26\"],[1.0,\"#f0f921\"]]}],\"choropleth\":[{\"type\":\"choropleth\",\"colorbar\":{\"outlinewidth\":0,\"ticks\":\"\"}}],\"histogram2d\":[{\"type\":\"histogram2d\",\"colorbar\":{\"outlinewidth\":0,\"ticks\":\"\"},\"colorscale\":[[0.0,\"#0d0887\"],[0.1111111111111111,\"#46039f\"],[0.2222222222222222,\"#7201a8\"],[0.3333333333333333,\"#9c179e\"],[0.4444444444444444,\"#bd3786\"],[0.5555555555555556,\"#d8576b\"],[0.6666666666666666,\"#ed7953\"],[0.7777777777777778,\"#fb9f3a\"],[0.8888888888888888,\"#fdca26\"],[1.0,\"#f0f921\"]]}],\"heatmap\":[{\"type\":\"heatmap\",\"colorbar\":{\"outlinewidth\":0,\"ticks\":\"\"},\"colorscale\":[[0.0,\"#0d0887\"],[0.1111111111111111,\"#46039f\"],[0.2222222222222222,\"#7201a8\"],[0.3333333333333333,\"#9c179e\"],[0.4444444444444444,\"#bd3786\"],[0.5555555555555556,\"#d8576b\"],[0.6666666666666666,\"#ed7953\"],[0.7777777777777778,\"#fb9f3a\"],[0.8888888888888888,\"#fdca26\"],[1.0,\"#f0f921\"]]}],\"heatmapgl\":[{\"type\":\"heatmapgl\",\"colorbar\":{\"outlinewidth\":0,\"ticks\":\"\"},\"colorscale\":[[0.0,\"#0d0887\"],[0.1111111111111111,\"#46039f\"],[0.2222222222222222,\"#7201a8\"],[0.3333333333333333,\"#9c179e\"],[0.4444444444444444,\"#bd3786\"],[0.5555555555555556,\"#d8576b\"],[0.6666666666666666,\"#ed7953\"],[0.7777777777777778,\"#fb9f3a\"],[0.8888888888888888,\"#fdca26\"],[1.0,\"#f0f921\"]]}],\"contourcarpet\":[{\"type\":\"contourcarpet\",\"colorbar\":{\"outlinewidth\":0,\"ticks\":\"\"}}],\"contour\":[{\"type\":\"contour\",\"colorbar\":{\"outlinewidth\":0,\"ticks\":\"\"},\"colorscale\":[[0.0,\"#0d0887\"],[0.1111111111111111,\"#46039f\"],[0.2222222222222222,\"#7201a8\"],[0.3333333333333333,\"#9c179e\"],[0.4444444444444444,\"#bd3786\"],[0.5555555555555556,\"#d8576b\"],[0.6666666666666666,\"#ed7953\"],[0.7777777777777778,\"#fb9f3a\"],[0.8888888888888888,\"#fdca26\"],[1.0,\"#f0f921\"]]}],\"surface\":[{\"type\":\"surface\",\"colorbar\":{\"outlinewidth\":0,\"ticks\":\"\"},\"colorscale\":[[0.0,\"#0d0887\"],[0.1111111111111111,\"#46039f\"],[0.2222222222222222,\"#7201a8\"],[0.3333333333333333,\"#9c179e\"],[0.4444444444444444,\"#bd3786\"],[0.5555555555555556,\"#d8576b\"],[0.6666666666666666,\"#ed7953\"],[0.7777777777777778,\"#fb9f3a\"],[0.8888888888888888,\"#fdca26\"],[1.0,\"#f0f921\"]]}],\"mesh3d\":[{\"type\":\"mesh3d\",\"colorbar\":{\"outlinewidth\":0,\"ticks\":\"\"}}],\"scatter\":[{\"fillpattern\":{\"fillmode\":\"overlay\",\"size\":10,\"solidity\":0.2},\"type\":\"scatter\"}],\"parcoords\":[{\"type\":\"parcoords\",\"line\":{\"colorbar\":{\"outlinewidth\":0,\"ticks\":\"\"}}}],\"scatterpolargl\":[{\"type\":\"scatterpolargl\",\"marker\":{\"colorbar\":{\"outlinewidth\":0,\"ticks\":\"\"}}}],\"bar\":[{\"error_x\":{\"color\":\"#2a3f5f\"},\"error_y\":{\"color\":\"#2a3f5f\"},\"marker\":{\"line\":{\"color\":\"#E5ECF6\",\"width\":0.5},\"pattern\":{\"fillmode\":\"overlay\",\"size\":10,\"solidity\":0.2}},\"type\":\"bar\"}],\"scattergeo\":[{\"type\":\"scattergeo\",\"marker\":{\"colorbar\":{\"outlinewidth\":0,\"ticks\":\"\"}}}],\"scatterpolar\":[{\"type\":\"scatterpolar\",\"marker\":{\"colorbar\":{\"outlinewidth\":0,\"ticks\":\"\"}}}],\"histogram\":[{\"marker\":{\"pattern\":{\"fillmode\":\"overlay\",\"size\":10,\"solidity\":0.2}},\"type\":\"histogram\"}],\"scattergl\":[{\"type\":\"scattergl\",\"marker\":{\"colorbar\":{\"outlinewidth\":0,\"ticks\":\"\"}}}],\"scatter3d\":[{\"type\":\"scatter3d\",\"line\":{\"colorbar\":{\"outlinewidth\":0,\"ticks\":\"\"}},\"marker\":{\"colorbar\":{\"outlinewidth\":0,\"ticks\":\"\"}}}],\"scattermapbox\":[{\"type\":\"scattermapbox\",\"marker\":{\"colorbar\":{\"outlinewidth\":0,\"ticks\":\"\"}}}],\"scatterternary\":[{\"type\":\"scatterternary\",\"marker\":{\"colorbar\":{\"outlinewidth\":0,\"ticks\":\"\"}}}],\"scattercarpet\":[{\"type\":\"scattercarpet\",\"marker\":{\"colorbar\":{\"outlinewidth\":0,\"ticks\":\"\"}}}],\"carpet\":[{\"aaxis\":{\"endlinecolor\":\"#2a3f5f\",\"gridcolor\":\"white\",\"linecolor\":\"white\",\"minorgridcolor\":\"white\",\"startlinecolor\":\"#2a3f5f\"},\"baxis\":{\"endlinecolor\":\"#2a3f5f\",\"gridcolor\":\"white\",\"linecolor\":\"white\",\"minorgridcolor\":\"white\",\"startlinecolor\":\"#2a3f5f\"},\"type\":\"carpet\"}],\"table\":[{\"cells\":{\"fill\":{\"color\":\"#EBF0F8\"},\"line\":{\"color\":\"white\"}},\"header\":{\"fill\":{\"color\":\"#C8D4E3\"},\"line\":{\"color\":\"white\"}},\"type\":\"table\"}],\"barpolar\":[{\"marker\":{\"line\":{\"color\":\"#E5ECF6\",\"width\":0.5},\"pattern\":{\"fillmode\":\"overlay\",\"size\":10,\"solidity\":0.2}},\"type\":\"barpolar\"}],\"pie\":[{\"automargin\":true,\"type\":\"pie\"}]},\"layout\":{\"autotypenumbers\":\"strict\",\"colorway\":[\"#636efa\",\"#EF553B\",\"#00cc96\",\"#ab63fa\",\"#FFA15A\",\"#19d3f3\",\"#FF6692\",\"#B6E880\",\"#FF97FF\",\"#FECB52\"],\"font\":{\"color\":\"#2a3f5f\"},\"hovermode\":\"closest\",\"hoverlabel\":{\"align\":\"left\"},\"paper_bgcolor\":\"white\",\"plot_bgcolor\":\"#E5ECF6\",\"polar\":{\"bgcolor\":\"#E5ECF6\",\"angularaxis\":{\"gridcolor\":\"white\",\"linecolor\":\"white\",\"ticks\":\"\"},\"radialaxis\":{\"gridcolor\":\"white\",\"linecolor\":\"white\",\"ticks\":\"\"}},\"ternary\":{\"bgcolor\":\"#E5ECF6\",\"aaxis\":{\"gridcolor\":\"white\",\"linecolor\":\"white\",\"ticks\":\"\"},\"baxis\":{\"gridcolor\":\"white\",\"linecolor\":\"white\",\"ticks\":\"\"},\"caxis\":{\"gridcolor\":\"white\",\"linecolor\":\"white\",\"ticks\":\"\"}},\"coloraxis\":{\"colorbar\":{\"outlinewidth\":0,\"ticks\":\"\"}},\"colorscale\":{\"sequential\":[[0.0,\"#0d0887\"],[0.1111111111111111,\"#46039f\"],[0.2222222222222222,\"#7201a8\"],[0.3333333333333333,\"#9c179e\"],[0.4444444444444444,\"#bd3786\"],[0.5555555555555556,\"#d8576b\"],[0.6666666666666666,\"#ed7953\"],[0.7777777777777778,\"#fb9f3a\"],[0.8888888888888888,\"#fdca26\"],[1.0,\"#f0f921\"]],\"sequentialminus\":[[0.0,\"#0d0887\"],[0.1111111111111111,\"#46039f\"],[0.2222222222222222,\"#7201a8\"],[0.3333333333333333,\"#9c179e\"],[0.4444444444444444,\"#bd3786\"],[0.5555555555555556,\"#d8576b\"],[0.6666666666666666,\"#ed7953\"],[0.7777777777777778,\"#fb9f3a\"],[0.8888888888888888,\"#fdca26\"],[1.0,\"#f0f921\"]],\"diverging\":[[0,\"#8e0152\"],[0.1,\"#c51b7d\"],[0.2,\"#de77ae\"],[0.3,\"#f1b6da\"],[0.4,\"#fde0ef\"],[0.5,\"#f7f7f7\"],[0.6,\"#e6f5d0\"],[0.7,\"#b8e186\"],[0.8,\"#7fbc41\"],[0.9,\"#4d9221\"],[1,\"#276419\"]]},\"xaxis\":{\"gridcolor\":\"white\",\"linecolor\":\"white\",\"ticks\":\"\",\"title\":{\"standoff\":15},\"zerolinecolor\":\"white\",\"automargin\":true,\"zerolinewidth\":2},\"yaxis\":{\"gridcolor\":\"white\",\"linecolor\":\"white\",\"ticks\":\"\",\"title\":{\"standoff\":15},\"zerolinecolor\":\"white\",\"automargin\":true,\"zerolinewidth\":2},\"scene\":{\"xaxis\":{\"backgroundcolor\":\"#E5ECF6\",\"gridcolor\":\"white\",\"linecolor\":\"white\",\"showbackground\":true,\"ticks\":\"\",\"zerolinecolor\":\"white\",\"gridwidth\":2},\"yaxis\":{\"backgroundcolor\":\"#E5ECF6\",\"gridcolor\":\"white\",\"linecolor\":\"white\",\"showbackground\":true,\"ticks\":\"\",\"zerolinecolor\":\"white\",\"gridwidth\":2},\"zaxis\":{\"backgroundcolor\":\"#E5ECF6\",\"gridcolor\":\"white\",\"linecolor\":\"white\",\"showbackground\":true,\"ticks\":\"\",\"zerolinecolor\":\"white\",\"gridwidth\":2}},\"shapedefaults\":{\"line\":{\"color\":\"#2a3f5f\"}},\"annotationdefaults\":{\"arrowcolor\":\"#2a3f5f\",\"arrowhead\":0,\"arrowwidth\":1},\"geo\":{\"bgcolor\":\"white\",\"landcolor\":\"#E5ECF6\",\"subunitcolor\":\"white\",\"showland\":true,\"showlakes\":true,\"lakecolor\":\"white\"},\"title\":{\"x\":0.05},\"mapbox\":{\"style\":\"light\"}}},\"xaxis\":{\"anchor\":\"y\",\"domain\":[0.0,1.0]},\"yaxis\":{\"anchor\":\"x\",\"domain\":[0.0,1.0],\"autorange\":\"reversed\"},\"coloraxis\":{\"colorscale\":[[0.0,\"#0d0887\"],[0.1111111111111111,\"#46039f\"],[0.2222222222222222,\"#7201a8\"],[0.3333333333333333,\"#9c179e\"],[0.4444444444444444,\"#bd3786\"],[0.5555555555555556,\"#d8576b\"],[0.6666666666666666,\"#ed7953\"],[0.7777777777777778,\"#fb9f3a\"],[0.8888888888888888,\"#fdca26\"],[1.0,\"#f0f921\"]]},\"margin\":{\"t\":60}},                        {\"responsive\": true}                    ).then(function(){\n",
       "                            \n",
       "var gd = document.getElementById('161594de-c120-4058-bb47-3dee1ef77bd7');\n",
       "var x = new MutationObserver(function (mutations, observer) {{\n",
       "        var display = window.getComputedStyle(gd).display;\n",
       "        if (!display || display === 'none') {{\n",
       "            console.log([gd, 'removed!']);\n",
       "            Plotly.purge(gd);\n",
       "            observer.disconnect();\n",
       "        }}\n",
       "}});\n",
       "\n",
       "// Listen for the removal of the full notebook cells\n",
       "var notebookContainer = gd.closest('#notebook-container');\n",
       "if (notebookContainer) {{\n",
       "    x.observe(notebookContainer, {childList: true});\n",
       "}}\n",
       "\n",
       "// Listen for the clearing of the current output cell\n",
       "var outputEl = gd.closest('.output');\n",
       "if (outputEl) {{\n",
       "    x.observe(outputEl, {childList: true});\n",
       "}}\n",
       "\n",
       "                        })                };                });            </script>        </div>"
      ]
     },
     "metadata": {},
     "output_type": "display_data"
    }
   ],
   "source": [
    "corr = exploded_facets.corr()\n",
    "corr\n",
    "\n",
    "corr = corr[abs(corr) >= 0.4]\n",
    "\n",
    "fig = px.imshow(corr, text_auto=True, aspect='auto')\n",
    "# fig.update_layout(\n",
    "#     autosize=True,\n",
    "# #     width=800,\n",
    "# #     height=800,\n",
    "# )\n",
    "fig.show()"
   ]
  },
  {
   "cell_type": "markdown",
   "metadata": {},
   "source": [
    "## Crosstab between research and contribution\n",
    "\n",
    "By copying \n",
    "As the research facet is only assigned once per article, we would need to copy the multilabel column  \"cont\" to create a crosstab.\n",
    "\n",
    "This also implies that the **absolute numbers** for the research facet are not the ground truth. "
   ]
  },
  {
   "cell_type": "code",
   "execution_count": 37,
   "metadata": {
    "ExecuteTime": {
     "end_time": "2022-12-23T18:55:08.702574Z",
     "start_time": "2022-12-23T18:55:08.667419Z"
    }
   },
   "outputs": [
    {
     "data": {
      "text/html": [
       "<div>\n",
       "<style scoped>\n",
       "    .dataframe tbody tr th:only-of-type {\n",
       "        vertical-align: middle;\n",
       "    }\n",
       "\n",
       "    .dataframe tbody tr th {\n",
       "        vertical-align: top;\n",
       "    }\n",
       "\n",
       "    .dataframe thead th {\n",
       "        text-align: right;\n",
       "    }\n",
       "</style>\n",
       "<table border=\"1\" class=\"dataframe\">\n",
       "  <thead>\n",
       "    <tr style=\"text-align: right;\">\n",
       "      <th>research</th>\n",
       "      <th>evaluation</th>\n",
       "      <th>philosophical</th>\n",
       "      <th>solution</th>\n",
       "      <th>validation</th>\n",
       "      <th>All</th>\n",
       "    </tr>\n",
       "    <tr>\n",
       "      <th>cont</th>\n",
       "      <th></th>\n",
       "      <th></th>\n",
       "      <th></th>\n",
       "      <th></th>\n",
       "      <th></th>\n",
       "    </tr>\n",
       "  </thead>\n",
       "  <tbody>\n",
       "    <tr>\n",
       "      <th>approach</th>\n",
       "      <td>10</td>\n",
       "      <td>18</td>\n",
       "      <td>18</td>\n",
       "      <td>3</td>\n",
       "      <td>49</td>\n",
       "    </tr>\n",
       "    <tr>\n",
       "      <th>casestudy</th>\n",
       "      <td>5</td>\n",
       "      <td>8</td>\n",
       "      <td>14</td>\n",
       "      <td>3</td>\n",
       "      <td>30</td>\n",
       "    </tr>\n",
       "    <tr>\n",
       "      <th>experiment</th>\n",
       "      <td>3</td>\n",
       "      <td>1</td>\n",
       "      <td>9</td>\n",
       "      <td>2</td>\n",
       "      <td>15</td>\n",
       "    </tr>\n",
       "    <tr>\n",
       "      <th>literature</th>\n",
       "      <td>4</td>\n",
       "      <td>7</td>\n",
       "      <td>1</td>\n",
       "      <td>0</td>\n",
       "      <td>12</td>\n",
       "    </tr>\n",
       "    <tr>\n",
       "      <th>metric</th>\n",
       "      <td>6</td>\n",
       "      <td>5</td>\n",
       "      <td>11</td>\n",
       "      <td>1</td>\n",
       "      <td>23</td>\n",
       "    </tr>\n",
       "    <tr>\n",
       "      <th>model</th>\n",
       "      <td>9</td>\n",
       "      <td>18</td>\n",
       "      <td>17</td>\n",
       "      <td>2</td>\n",
       "      <td>46</td>\n",
       "    </tr>\n",
       "    <tr>\n",
       "      <th>nonempirical</th>\n",
       "      <td>1</td>\n",
       "      <td>6</td>\n",
       "      <td>0</td>\n",
       "      <td>0</td>\n",
       "      <td>7</td>\n",
       "    </tr>\n",
       "    <tr>\n",
       "      <th>process</th>\n",
       "      <td>10</td>\n",
       "      <td>17</td>\n",
       "      <td>16</td>\n",
       "      <td>3</td>\n",
       "      <td>46</td>\n",
       "    </tr>\n",
       "    <tr>\n",
       "      <th>tool</th>\n",
       "      <td>4</td>\n",
       "      <td>4</td>\n",
       "      <td>9</td>\n",
       "      <td>1</td>\n",
       "      <td>18</td>\n",
       "    </tr>\n",
       "    <tr>\n",
       "      <th>All</th>\n",
       "      <td>52</td>\n",
       "      <td>84</td>\n",
       "      <td>95</td>\n",
       "      <td>15</td>\n",
       "      <td>246</td>\n",
       "    </tr>\n",
       "  </tbody>\n",
       "</table>\n",
       "</div>"
      ],
      "text/plain": [
       "research      evaluation  philosophical  solution  validation  All\n",
       "cont                                                              \n",
       "approach              10             18        18           3   49\n",
       "casestudy              5              8        14           3   30\n",
       "experiment             3              1         9           2   15\n",
       "literature             4              7         1           0   12\n",
       "metric                 6              5        11           1   23\n",
       "model                  9             18        17           2   46\n",
       "nonempirical           1              6         0           0    7\n",
       "process               10             17        16           3   46\n",
       "tool                   4              4         9           1   18\n",
       "All                   52             84        95          15  246"
      ]
     },
     "execution_count": 37,
     "metadata": {},
     "output_type": "execute_result"
    }
   ],
   "source": [
    "test = df.assign(cont=df.cont.str.split(',')).explode('cont')\n",
    "test\n",
    "\n",
    "cta = pd.crosstab(test.cont, test.research, margins=True)\n",
    "cta"
   ]
  },
  {
   "cell_type": "code",
   "execution_count": 38,
   "metadata": {
    "ExecuteTime": {
     "end_time": "2022-12-23T18:55:08.706205Z",
     "start_time": "2022-12-23T18:55:08.703865Z"
    }
   },
   "outputs": [],
   "source": [
    "# cta = pd.crosstab(\n",
    "#     index=[\n",
    "#         df.assign(research=df.research.str.split(',')).explode(\n",
    "#             'research').reset_index().research\n",
    "#     ],\n",
    "#     columns=[\n",
    "#         df.assign(\n",
    "#             cont=df.cont.str.split(',')).explode('cont').reset_index().cont\n",
    "#     ],\n",
    "#     margins=True)\n",
    "\n",
    "# cta"
   ]
  },
  {
   "cell_type": "markdown",
   "metadata": {},
   "source": [
    "### Absolute numbers"
   ]
  },
  {
   "cell_type": "code",
   "execution_count": 39,
   "metadata": {
    "ExecuteTime": {
     "end_time": "2022-12-23T18:55:08.713082Z",
     "start_time": "2022-12-23T18:55:08.707507Z"
    }
   },
   "outputs": [
    {
     "data": {
      "text/html": [
       "<div>\n",
       "<style scoped>\n",
       "    .dataframe tbody tr th:only-of-type {\n",
       "        vertical-align: middle;\n",
       "    }\n",
       "\n",
       "    .dataframe tbody tr th {\n",
       "        vertical-align: top;\n",
       "    }\n",
       "\n",
       "    .dataframe thead th {\n",
       "        text-align: right;\n",
       "    }\n",
       "</style>\n",
       "<table border=\"1\" class=\"dataframe\">\n",
       "  <thead>\n",
       "    <tr style=\"text-align: right;\">\n",
       "      <th>research</th>\n",
       "      <th>evaluation</th>\n",
       "      <th>philosophical</th>\n",
       "      <th>solution</th>\n",
       "      <th>validation</th>\n",
       "    </tr>\n",
       "    <tr>\n",
       "      <th>cont</th>\n",
       "      <th></th>\n",
       "      <th></th>\n",
       "      <th></th>\n",
       "      <th></th>\n",
       "    </tr>\n",
       "  </thead>\n",
       "  <tbody>\n",
       "    <tr>\n",
       "      <th>approach</th>\n",
       "      <td>10</td>\n",
       "      <td>18</td>\n",
       "      <td>18</td>\n",
       "      <td>3</td>\n",
       "    </tr>\n",
       "    <tr>\n",
       "      <th>casestudy</th>\n",
       "      <td>5</td>\n",
       "      <td>8</td>\n",
       "      <td>14</td>\n",
       "      <td>3</td>\n",
       "    </tr>\n",
       "    <tr>\n",
       "      <th>experiment</th>\n",
       "      <td>3</td>\n",
       "      <td>1</td>\n",
       "      <td>9</td>\n",
       "      <td>2</td>\n",
       "    </tr>\n",
       "    <tr>\n",
       "      <th>literature</th>\n",
       "      <td>4</td>\n",
       "      <td>7</td>\n",
       "      <td>1</td>\n",
       "      <td>0</td>\n",
       "    </tr>\n",
       "    <tr>\n",
       "      <th>metric</th>\n",
       "      <td>6</td>\n",
       "      <td>5</td>\n",
       "      <td>11</td>\n",
       "      <td>1</td>\n",
       "    </tr>\n",
       "    <tr>\n",
       "      <th>model</th>\n",
       "      <td>9</td>\n",
       "      <td>18</td>\n",
       "      <td>17</td>\n",
       "      <td>2</td>\n",
       "    </tr>\n",
       "    <tr>\n",
       "      <th>nonempirical</th>\n",
       "      <td>1</td>\n",
       "      <td>6</td>\n",
       "      <td>0</td>\n",
       "      <td>0</td>\n",
       "    </tr>\n",
       "    <tr>\n",
       "      <th>process</th>\n",
       "      <td>10</td>\n",
       "      <td>17</td>\n",
       "      <td>16</td>\n",
       "      <td>3</td>\n",
       "    </tr>\n",
       "    <tr>\n",
       "      <th>tool</th>\n",
       "      <td>4</td>\n",
       "      <td>4</td>\n",
       "      <td>9</td>\n",
       "      <td>1</td>\n",
       "    </tr>\n",
       "  </tbody>\n",
       "</table>\n",
       "</div>"
      ],
      "text/plain": [
       "research      evaluation  philosophical  solution  validation\n",
       "cont                                                         \n",
       "approach              10             18        18           3\n",
       "casestudy              5              8        14           3\n",
       "experiment             3              1         9           2\n",
       "literature             4              7         1           0\n",
       "metric                 6              5        11           1\n",
       "model                  9             18        17           2\n",
       "nonempirical           1              6         0           0\n",
       "process               10             17        16           3\n",
       "tool                   4              4         9           1"
      ]
     },
     "execution_count": 39,
     "metadata": {},
     "output_type": "execute_result"
    }
   ],
   "source": [
    "ct = cta[cta.columns[:-1]].iloc[:-1]\n",
    "ct"
   ]
  },
  {
   "cell_type": "markdown",
   "metadata": {},
   "source": [
    "#### Visualizations"
   ]
  },
  {
   "cell_type": "code",
   "execution_count": 40,
   "metadata": {
    "ExecuteTime": {
     "end_time": "2022-12-23T18:55:08.739407Z",
     "start_time": "2022-12-23T18:55:08.714563Z"
    }
   },
   "outputs": [
    {
     "data": {
      "application/vnd.plotly.v1+json": {
       "config": {
        "plotlyServerURL": "https://plot.ly"
       },
       "data": [
        {
         "coloraxis": "coloraxis",
         "hovertemplate": "research: %{x}<br>cont: %{y}<br>color: %{z}<extra></extra>",
         "name": "0",
         "texttemplate": "%{z}",
         "type": "heatmap",
         "x": [
          "evaluation",
          "philosophical",
          "solution",
          "validation"
         ],
         "xaxis": "x",
         "y": [
          "approach",
          "casestudy",
          "experiment",
          "literature",
          "metric",
          "model",
          "nonempirical",
          "process",
          "tool"
         ],
         "yaxis": "y",
         "z": [
          [
           10,
           18,
           18,
           3
          ],
          [
           5,
           8,
           14,
           3
          ],
          [
           3,
           1,
           9,
           2
          ],
          [
           4,
           7,
           1,
           0
          ],
          [
           6,
           5,
           11,
           1
          ],
          [
           9,
           18,
           17,
           2
          ],
          [
           1,
           6,
           0,
           0
          ],
          [
           10,
           17,
           16,
           3
          ],
          [
           4,
           4,
           9,
           1
          ]
         ]
        }
       ],
       "layout": {
        "coloraxis": {
         "colorscale": [
          [
           0,
           "#0d0887"
          ],
          [
           0.1111111111111111,
           "#46039f"
          ],
          [
           0.2222222222222222,
           "#7201a8"
          ],
          [
           0.3333333333333333,
           "#9c179e"
          ],
          [
           0.4444444444444444,
           "#bd3786"
          ],
          [
           0.5555555555555556,
           "#d8576b"
          ],
          [
           0.6666666666666666,
           "#ed7953"
          ],
          [
           0.7777777777777778,
           "#fb9f3a"
          ],
          [
           0.8888888888888888,
           "#fdca26"
          ],
          [
           1,
           "#f0f921"
          ]
         ]
        },
        "template": {
         "data": {
          "bar": [
           {
            "error_x": {
             "color": "#2a3f5f"
            },
            "error_y": {
             "color": "#2a3f5f"
            },
            "marker": {
             "line": {
              "color": "#E5ECF6",
              "width": 0.5
             },
             "pattern": {
              "fillmode": "overlay",
              "size": 10,
              "solidity": 0.2
             }
            },
            "type": "bar"
           }
          ],
          "barpolar": [
           {
            "marker": {
             "line": {
              "color": "#E5ECF6",
              "width": 0.5
             },
             "pattern": {
              "fillmode": "overlay",
              "size": 10,
              "solidity": 0.2
             }
            },
            "type": "barpolar"
           }
          ],
          "carpet": [
           {
            "aaxis": {
             "endlinecolor": "#2a3f5f",
             "gridcolor": "white",
             "linecolor": "white",
             "minorgridcolor": "white",
             "startlinecolor": "#2a3f5f"
            },
            "baxis": {
             "endlinecolor": "#2a3f5f",
             "gridcolor": "white",
             "linecolor": "white",
             "minorgridcolor": "white",
             "startlinecolor": "#2a3f5f"
            },
            "type": "carpet"
           }
          ],
          "choropleth": [
           {
            "colorbar": {
             "outlinewidth": 0,
             "ticks": ""
            },
            "type": "choropleth"
           }
          ],
          "contour": [
           {
            "colorbar": {
             "outlinewidth": 0,
             "ticks": ""
            },
            "colorscale": [
             [
              0,
              "#0d0887"
             ],
             [
              0.1111111111111111,
              "#46039f"
             ],
             [
              0.2222222222222222,
              "#7201a8"
             ],
             [
              0.3333333333333333,
              "#9c179e"
             ],
             [
              0.4444444444444444,
              "#bd3786"
             ],
             [
              0.5555555555555556,
              "#d8576b"
             ],
             [
              0.6666666666666666,
              "#ed7953"
             ],
             [
              0.7777777777777778,
              "#fb9f3a"
             ],
             [
              0.8888888888888888,
              "#fdca26"
             ],
             [
              1,
              "#f0f921"
             ]
            ],
            "type": "contour"
           }
          ],
          "contourcarpet": [
           {
            "colorbar": {
             "outlinewidth": 0,
             "ticks": ""
            },
            "type": "contourcarpet"
           }
          ],
          "heatmap": [
           {
            "colorbar": {
             "outlinewidth": 0,
             "ticks": ""
            },
            "colorscale": [
             [
              0,
              "#0d0887"
             ],
             [
              0.1111111111111111,
              "#46039f"
             ],
             [
              0.2222222222222222,
              "#7201a8"
             ],
             [
              0.3333333333333333,
              "#9c179e"
             ],
             [
              0.4444444444444444,
              "#bd3786"
             ],
             [
              0.5555555555555556,
              "#d8576b"
             ],
             [
              0.6666666666666666,
              "#ed7953"
             ],
             [
              0.7777777777777778,
              "#fb9f3a"
             ],
             [
              0.8888888888888888,
              "#fdca26"
             ],
             [
              1,
              "#f0f921"
             ]
            ],
            "type": "heatmap"
           }
          ],
          "heatmapgl": [
           {
            "colorbar": {
             "outlinewidth": 0,
             "ticks": ""
            },
            "colorscale": [
             [
              0,
              "#0d0887"
             ],
             [
              0.1111111111111111,
              "#46039f"
             ],
             [
              0.2222222222222222,
              "#7201a8"
             ],
             [
              0.3333333333333333,
              "#9c179e"
             ],
             [
              0.4444444444444444,
              "#bd3786"
             ],
             [
              0.5555555555555556,
              "#d8576b"
             ],
             [
              0.6666666666666666,
              "#ed7953"
             ],
             [
              0.7777777777777778,
              "#fb9f3a"
             ],
             [
              0.8888888888888888,
              "#fdca26"
             ],
             [
              1,
              "#f0f921"
             ]
            ],
            "type": "heatmapgl"
           }
          ],
          "histogram": [
           {
            "marker": {
             "pattern": {
              "fillmode": "overlay",
              "size": 10,
              "solidity": 0.2
             }
            },
            "type": "histogram"
           }
          ],
          "histogram2d": [
           {
            "colorbar": {
             "outlinewidth": 0,
             "ticks": ""
            },
            "colorscale": [
             [
              0,
              "#0d0887"
             ],
             [
              0.1111111111111111,
              "#46039f"
             ],
             [
              0.2222222222222222,
              "#7201a8"
             ],
             [
              0.3333333333333333,
              "#9c179e"
             ],
             [
              0.4444444444444444,
              "#bd3786"
             ],
             [
              0.5555555555555556,
              "#d8576b"
             ],
             [
              0.6666666666666666,
              "#ed7953"
             ],
             [
              0.7777777777777778,
              "#fb9f3a"
             ],
             [
              0.8888888888888888,
              "#fdca26"
             ],
             [
              1,
              "#f0f921"
             ]
            ],
            "type": "histogram2d"
           }
          ],
          "histogram2dcontour": [
           {
            "colorbar": {
             "outlinewidth": 0,
             "ticks": ""
            },
            "colorscale": [
             [
              0,
              "#0d0887"
             ],
             [
              0.1111111111111111,
              "#46039f"
             ],
             [
              0.2222222222222222,
              "#7201a8"
             ],
             [
              0.3333333333333333,
              "#9c179e"
             ],
             [
              0.4444444444444444,
              "#bd3786"
             ],
             [
              0.5555555555555556,
              "#d8576b"
             ],
             [
              0.6666666666666666,
              "#ed7953"
             ],
             [
              0.7777777777777778,
              "#fb9f3a"
             ],
             [
              0.8888888888888888,
              "#fdca26"
             ],
             [
              1,
              "#f0f921"
             ]
            ],
            "type": "histogram2dcontour"
           }
          ],
          "mesh3d": [
           {
            "colorbar": {
             "outlinewidth": 0,
             "ticks": ""
            },
            "type": "mesh3d"
           }
          ],
          "parcoords": [
           {
            "line": {
             "colorbar": {
              "outlinewidth": 0,
              "ticks": ""
             }
            },
            "type": "parcoords"
           }
          ],
          "pie": [
           {
            "automargin": true,
            "type": "pie"
           }
          ],
          "scatter": [
           {
            "fillpattern": {
             "fillmode": "overlay",
             "size": 10,
             "solidity": 0.2
            },
            "type": "scatter"
           }
          ],
          "scatter3d": [
           {
            "line": {
             "colorbar": {
              "outlinewidth": 0,
              "ticks": ""
             }
            },
            "marker": {
             "colorbar": {
              "outlinewidth": 0,
              "ticks": ""
             }
            },
            "type": "scatter3d"
           }
          ],
          "scattercarpet": [
           {
            "marker": {
             "colorbar": {
              "outlinewidth": 0,
              "ticks": ""
             }
            },
            "type": "scattercarpet"
           }
          ],
          "scattergeo": [
           {
            "marker": {
             "colorbar": {
              "outlinewidth": 0,
              "ticks": ""
             }
            },
            "type": "scattergeo"
           }
          ],
          "scattergl": [
           {
            "marker": {
             "colorbar": {
              "outlinewidth": 0,
              "ticks": ""
             }
            },
            "type": "scattergl"
           }
          ],
          "scattermapbox": [
           {
            "marker": {
             "colorbar": {
              "outlinewidth": 0,
              "ticks": ""
             }
            },
            "type": "scattermapbox"
           }
          ],
          "scatterpolar": [
           {
            "marker": {
             "colorbar": {
              "outlinewidth": 0,
              "ticks": ""
             }
            },
            "type": "scatterpolar"
           }
          ],
          "scatterpolargl": [
           {
            "marker": {
             "colorbar": {
              "outlinewidth": 0,
              "ticks": ""
             }
            },
            "type": "scatterpolargl"
           }
          ],
          "scatterternary": [
           {
            "marker": {
             "colorbar": {
              "outlinewidth": 0,
              "ticks": ""
             }
            },
            "type": "scatterternary"
           }
          ],
          "surface": [
           {
            "colorbar": {
             "outlinewidth": 0,
             "ticks": ""
            },
            "colorscale": [
             [
              0,
              "#0d0887"
             ],
             [
              0.1111111111111111,
              "#46039f"
             ],
             [
              0.2222222222222222,
              "#7201a8"
             ],
             [
              0.3333333333333333,
              "#9c179e"
             ],
             [
              0.4444444444444444,
              "#bd3786"
             ],
             [
              0.5555555555555556,
              "#d8576b"
             ],
             [
              0.6666666666666666,
              "#ed7953"
             ],
             [
              0.7777777777777778,
              "#fb9f3a"
             ],
             [
              0.8888888888888888,
              "#fdca26"
             ],
             [
              1,
              "#f0f921"
             ]
            ],
            "type": "surface"
           }
          ],
          "table": [
           {
            "cells": {
             "fill": {
              "color": "#EBF0F8"
             },
             "line": {
              "color": "white"
             }
            },
            "header": {
             "fill": {
              "color": "#C8D4E3"
             },
             "line": {
              "color": "white"
             }
            },
            "type": "table"
           }
          ]
         },
         "layout": {
          "annotationdefaults": {
           "arrowcolor": "#2a3f5f",
           "arrowhead": 0,
           "arrowwidth": 1
          },
          "autotypenumbers": "strict",
          "coloraxis": {
           "colorbar": {
            "outlinewidth": 0,
            "ticks": ""
           }
          },
          "colorscale": {
           "diverging": [
            [
             0,
             "#8e0152"
            ],
            [
             0.1,
             "#c51b7d"
            ],
            [
             0.2,
             "#de77ae"
            ],
            [
             0.3,
             "#f1b6da"
            ],
            [
             0.4,
             "#fde0ef"
            ],
            [
             0.5,
             "#f7f7f7"
            ],
            [
             0.6,
             "#e6f5d0"
            ],
            [
             0.7,
             "#b8e186"
            ],
            [
             0.8,
             "#7fbc41"
            ],
            [
             0.9,
             "#4d9221"
            ],
            [
             1,
             "#276419"
            ]
           ],
           "sequential": [
            [
             0,
             "#0d0887"
            ],
            [
             0.1111111111111111,
             "#46039f"
            ],
            [
             0.2222222222222222,
             "#7201a8"
            ],
            [
             0.3333333333333333,
             "#9c179e"
            ],
            [
             0.4444444444444444,
             "#bd3786"
            ],
            [
             0.5555555555555556,
             "#d8576b"
            ],
            [
             0.6666666666666666,
             "#ed7953"
            ],
            [
             0.7777777777777778,
             "#fb9f3a"
            ],
            [
             0.8888888888888888,
             "#fdca26"
            ],
            [
             1,
             "#f0f921"
            ]
           ],
           "sequentialminus": [
            [
             0,
             "#0d0887"
            ],
            [
             0.1111111111111111,
             "#46039f"
            ],
            [
             0.2222222222222222,
             "#7201a8"
            ],
            [
             0.3333333333333333,
             "#9c179e"
            ],
            [
             0.4444444444444444,
             "#bd3786"
            ],
            [
             0.5555555555555556,
             "#d8576b"
            ],
            [
             0.6666666666666666,
             "#ed7953"
            ],
            [
             0.7777777777777778,
             "#fb9f3a"
            ],
            [
             0.8888888888888888,
             "#fdca26"
            ],
            [
             1,
             "#f0f921"
            ]
           ]
          },
          "colorway": [
           "#636efa",
           "#EF553B",
           "#00cc96",
           "#ab63fa",
           "#FFA15A",
           "#19d3f3",
           "#FF6692",
           "#B6E880",
           "#FF97FF",
           "#FECB52"
          ],
          "font": {
           "color": "#2a3f5f"
          },
          "geo": {
           "bgcolor": "white",
           "lakecolor": "white",
           "landcolor": "#E5ECF6",
           "showlakes": true,
           "showland": true,
           "subunitcolor": "white"
          },
          "hoverlabel": {
           "align": "left"
          },
          "hovermode": "closest",
          "mapbox": {
           "style": "light"
          },
          "paper_bgcolor": "white",
          "plot_bgcolor": "#E5ECF6",
          "polar": {
           "angularaxis": {
            "gridcolor": "white",
            "linecolor": "white",
            "ticks": ""
           },
           "bgcolor": "#E5ECF6",
           "radialaxis": {
            "gridcolor": "white",
            "linecolor": "white",
            "ticks": ""
           }
          },
          "scene": {
           "xaxis": {
            "backgroundcolor": "#E5ECF6",
            "gridcolor": "white",
            "gridwidth": 2,
            "linecolor": "white",
            "showbackground": true,
            "ticks": "",
            "zerolinecolor": "white"
           },
           "yaxis": {
            "backgroundcolor": "#E5ECF6",
            "gridcolor": "white",
            "gridwidth": 2,
            "linecolor": "white",
            "showbackground": true,
            "ticks": "",
            "zerolinecolor": "white"
           },
           "zaxis": {
            "backgroundcolor": "#E5ECF6",
            "gridcolor": "white",
            "gridwidth": 2,
            "linecolor": "white",
            "showbackground": true,
            "ticks": "",
            "zerolinecolor": "white"
           }
          },
          "shapedefaults": {
           "line": {
            "color": "#2a3f5f"
           }
          },
          "ternary": {
           "aaxis": {
            "gridcolor": "white",
            "linecolor": "white",
            "ticks": ""
           },
           "baxis": {
            "gridcolor": "white",
            "linecolor": "white",
            "ticks": ""
           },
           "bgcolor": "#E5ECF6",
           "caxis": {
            "gridcolor": "white",
            "linecolor": "white",
            "ticks": ""
           }
          },
          "title": {
           "x": 0.05
          },
          "xaxis": {
           "automargin": true,
           "gridcolor": "white",
           "linecolor": "white",
           "ticks": "",
           "title": {
            "standoff": 15
           },
           "zerolinecolor": "white",
           "zerolinewidth": 2
          },
          "yaxis": {
           "automargin": true,
           "gridcolor": "white",
           "linecolor": "white",
           "ticks": "",
           "title": {
            "standoff": 15
           },
           "zerolinecolor": "white",
           "zerolinewidth": 2
          }
         }
        },
        "title": {
         "text": "Contribution without totals"
        },
        "xaxis": {
         "anchor": "y",
         "domain": [
          0,
          1
         ],
         "title": {
          "text": "research"
         }
        },
        "yaxis": {
         "anchor": "x",
         "autorange": "reversed",
         "domain": [
          0,
          1
         ],
         "title": {
          "text": "cont"
         }
        }
       }
      },
      "text/html": [
       "<div>                            <div id=\"6c07f7cc-ca1e-430a-9356-52d52394e301\" class=\"plotly-graph-div\" style=\"height:525px; width:100%;\"></div>            <script type=\"text/javascript\">                require([\"plotly\"], function(Plotly) {                    window.PLOTLYENV=window.PLOTLYENV || {};                                    if (document.getElementById(\"6c07f7cc-ca1e-430a-9356-52d52394e301\")) {                    Plotly.newPlot(                        \"6c07f7cc-ca1e-430a-9356-52d52394e301\",                        [{\"coloraxis\":\"coloraxis\",\"name\":\"0\",\"texttemplate\":\"%{z}\",\"x\":[\"evaluation\",\"philosophical\",\"solution\",\"validation\"],\"y\":[\"approach\",\"casestudy\",\"experiment\",\"literature\",\"metric\",\"model\",\"nonempirical\",\"process\",\"tool\"],\"z\":[[10,18,18,3],[5,8,14,3],[3,1,9,2],[4,7,1,0],[6,5,11,1],[9,18,17,2],[1,6,0,0],[10,17,16,3],[4,4,9,1]],\"type\":\"heatmap\",\"xaxis\":\"x\",\"yaxis\":\"y\",\"hovertemplate\":\"research: %{x}<br>cont: %{y}<br>color: %{z}<extra></extra>\"}],                        {\"template\":{\"data\":{\"histogram2dcontour\":[{\"type\":\"histogram2dcontour\",\"colorbar\":{\"outlinewidth\":0,\"ticks\":\"\"},\"colorscale\":[[0.0,\"#0d0887\"],[0.1111111111111111,\"#46039f\"],[0.2222222222222222,\"#7201a8\"],[0.3333333333333333,\"#9c179e\"],[0.4444444444444444,\"#bd3786\"],[0.5555555555555556,\"#d8576b\"],[0.6666666666666666,\"#ed7953\"],[0.7777777777777778,\"#fb9f3a\"],[0.8888888888888888,\"#fdca26\"],[1.0,\"#f0f921\"]]}],\"choropleth\":[{\"type\":\"choropleth\",\"colorbar\":{\"outlinewidth\":0,\"ticks\":\"\"}}],\"histogram2d\":[{\"type\":\"histogram2d\",\"colorbar\":{\"outlinewidth\":0,\"ticks\":\"\"},\"colorscale\":[[0.0,\"#0d0887\"],[0.1111111111111111,\"#46039f\"],[0.2222222222222222,\"#7201a8\"],[0.3333333333333333,\"#9c179e\"],[0.4444444444444444,\"#bd3786\"],[0.5555555555555556,\"#d8576b\"],[0.6666666666666666,\"#ed7953\"],[0.7777777777777778,\"#fb9f3a\"],[0.8888888888888888,\"#fdca26\"],[1.0,\"#f0f921\"]]}],\"heatmap\":[{\"type\":\"heatmap\",\"colorbar\":{\"outlinewidth\":0,\"ticks\":\"\"},\"colorscale\":[[0.0,\"#0d0887\"],[0.1111111111111111,\"#46039f\"],[0.2222222222222222,\"#7201a8\"],[0.3333333333333333,\"#9c179e\"],[0.4444444444444444,\"#bd3786\"],[0.5555555555555556,\"#d8576b\"],[0.6666666666666666,\"#ed7953\"],[0.7777777777777778,\"#fb9f3a\"],[0.8888888888888888,\"#fdca26\"],[1.0,\"#f0f921\"]]}],\"heatmapgl\":[{\"type\":\"heatmapgl\",\"colorbar\":{\"outlinewidth\":0,\"ticks\":\"\"},\"colorscale\":[[0.0,\"#0d0887\"],[0.1111111111111111,\"#46039f\"],[0.2222222222222222,\"#7201a8\"],[0.3333333333333333,\"#9c179e\"],[0.4444444444444444,\"#bd3786\"],[0.5555555555555556,\"#d8576b\"],[0.6666666666666666,\"#ed7953\"],[0.7777777777777778,\"#fb9f3a\"],[0.8888888888888888,\"#fdca26\"],[1.0,\"#f0f921\"]]}],\"contourcarpet\":[{\"type\":\"contourcarpet\",\"colorbar\":{\"outlinewidth\":0,\"ticks\":\"\"}}],\"contour\":[{\"type\":\"contour\",\"colorbar\":{\"outlinewidth\":0,\"ticks\":\"\"},\"colorscale\":[[0.0,\"#0d0887\"],[0.1111111111111111,\"#46039f\"],[0.2222222222222222,\"#7201a8\"],[0.3333333333333333,\"#9c179e\"],[0.4444444444444444,\"#bd3786\"],[0.5555555555555556,\"#d8576b\"],[0.6666666666666666,\"#ed7953\"],[0.7777777777777778,\"#fb9f3a\"],[0.8888888888888888,\"#fdca26\"],[1.0,\"#f0f921\"]]}],\"surface\":[{\"type\":\"surface\",\"colorbar\":{\"outlinewidth\":0,\"ticks\":\"\"},\"colorscale\":[[0.0,\"#0d0887\"],[0.1111111111111111,\"#46039f\"],[0.2222222222222222,\"#7201a8\"],[0.3333333333333333,\"#9c179e\"],[0.4444444444444444,\"#bd3786\"],[0.5555555555555556,\"#d8576b\"],[0.6666666666666666,\"#ed7953\"],[0.7777777777777778,\"#fb9f3a\"],[0.8888888888888888,\"#fdca26\"],[1.0,\"#f0f921\"]]}],\"mesh3d\":[{\"type\":\"mesh3d\",\"colorbar\":{\"outlinewidth\":0,\"ticks\":\"\"}}],\"scatter\":[{\"fillpattern\":{\"fillmode\":\"overlay\",\"size\":10,\"solidity\":0.2},\"type\":\"scatter\"}],\"parcoords\":[{\"type\":\"parcoords\",\"line\":{\"colorbar\":{\"outlinewidth\":0,\"ticks\":\"\"}}}],\"scatterpolargl\":[{\"type\":\"scatterpolargl\",\"marker\":{\"colorbar\":{\"outlinewidth\":0,\"ticks\":\"\"}}}],\"bar\":[{\"error_x\":{\"color\":\"#2a3f5f\"},\"error_y\":{\"color\":\"#2a3f5f\"},\"marker\":{\"line\":{\"color\":\"#E5ECF6\",\"width\":0.5},\"pattern\":{\"fillmode\":\"overlay\",\"size\":10,\"solidity\":0.2}},\"type\":\"bar\"}],\"scattergeo\":[{\"type\":\"scattergeo\",\"marker\":{\"colorbar\":{\"outlinewidth\":0,\"ticks\":\"\"}}}],\"scatterpolar\":[{\"type\":\"scatterpolar\",\"marker\":{\"colorbar\":{\"outlinewidth\":0,\"ticks\":\"\"}}}],\"histogram\":[{\"marker\":{\"pattern\":{\"fillmode\":\"overlay\",\"size\":10,\"solidity\":0.2}},\"type\":\"histogram\"}],\"scattergl\":[{\"type\":\"scattergl\",\"marker\":{\"colorbar\":{\"outlinewidth\":0,\"ticks\":\"\"}}}],\"scatter3d\":[{\"type\":\"scatter3d\",\"line\":{\"colorbar\":{\"outlinewidth\":0,\"ticks\":\"\"}},\"marker\":{\"colorbar\":{\"outlinewidth\":0,\"ticks\":\"\"}}}],\"scattermapbox\":[{\"type\":\"scattermapbox\",\"marker\":{\"colorbar\":{\"outlinewidth\":0,\"ticks\":\"\"}}}],\"scatterternary\":[{\"type\":\"scatterternary\",\"marker\":{\"colorbar\":{\"outlinewidth\":0,\"ticks\":\"\"}}}],\"scattercarpet\":[{\"type\":\"scattercarpet\",\"marker\":{\"colorbar\":{\"outlinewidth\":0,\"ticks\":\"\"}}}],\"carpet\":[{\"aaxis\":{\"endlinecolor\":\"#2a3f5f\",\"gridcolor\":\"white\",\"linecolor\":\"white\",\"minorgridcolor\":\"white\",\"startlinecolor\":\"#2a3f5f\"},\"baxis\":{\"endlinecolor\":\"#2a3f5f\",\"gridcolor\":\"white\",\"linecolor\":\"white\",\"minorgridcolor\":\"white\",\"startlinecolor\":\"#2a3f5f\"},\"type\":\"carpet\"}],\"table\":[{\"cells\":{\"fill\":{\"color\":\"#EBF0F8\"},\"line\":{\"color\":\"white\"}},\"header\":{\"fill\":{\"color\":\"#C8D4E3\"},\"line\":{\"color\":\"white\"}},\"type\":\"table\"}],\"barpolar\":[{\"marker\":{\"line\":{\"color\":\"#E5ECF6\",\"width\":0.5},\"pattern\":{\"fillmode\":\"overlay\",\"size\":10,\"solidity\":0.2}},\"type\":\"barpolar\"}],\"pie\":[{\"automargin\":true,\"type\":\"pie\"}]},\"layout\":{\"autotypenumbers\":\"strict\",\"colorway\":[\"#636efa\",\"#EF553B\",\"#00cc96\",\"#ab63fa\",\"#FFA15A\",\"#19d3f3\",\"#FF6692\",\"#B6E880\",\"#FF97FF\",\"#FECB52\"],\"font\":{\"color\":\"#2a3f5f\"},\"hovermode\":\"closest\",\"hoverlabel\":{\"align\":\"left\"},\"paper_bgcolor\":\"white\",\"plot_bgcolor\":\"#E5ECF6\",\"polar\":{\"bgcolor\":\"#E5ECF6\",\"angularaxis\":{\"gridcolor\":\"white\",\"linecolor\":\"white\",\"ticks\":\"\"},\"radialaxis\":{\"gridcolor\":\"white\",\"linecolor\":\"white\",\"ticks\":\"\"}},\"ternary\":{\"bgcolor\":\"#E5ECF6\",\"aaxis\":{\"gridcolor\":\"white\",\"linecolor\":\"white\",\"ticks\":\"\"},\"baxis\":{\"gridcolor\":\"white\",\"linecolor\":\"white\",\"ticks\":\"\"},\"caxis\":{\"gridcolor\":\"white\",\"linecolor\":\"white\",\"ticks\":\"\"}},\"coloraxis\":{\"colorbar\":{\"outlinewidth\":0,\"ticks\":\"\"}},\"colorscale\":{\"sequential\":[[0.0,\"#0d0887\"],[0.1111111111111111,\"#46039f\"],[0.2222222222222222,\"#7201a8\"],[0.3333333333333333,\"#9c179e\"],[0.4444444444444444,\"#bd3786\"],[0.5555555555555556,\"#d8576b\"],[0.6666666666666666,\"#ed7953\"],[0.7777777777777778,\"#fb9f3a\"],[0.8888888888888888,\"#fdca26\"],[1.0,\"#f0f921\"]],\"sequentialminus\":[[0.0,\"#0d0887\"],[0.1111111111111111,\"#46039f\"],[0.2222222222222222,\"#7201a8\"],[0.3333333333333333,\"#9c179e\"],[0.4444444444444444,\"#bd3786\"],[0.5555555555555556,\"#d8576b\"],[0.6666666666666666,\"#ed7953\"],[0.7777777777777778,\"#fb9f3a\"],[0.8888888888888888,\"#fdca26\"],[1.0,\"#f0f921\"]],\"diverging\":[[0,\"#8e0152\"],[0.1,\"#c51b7d\"],[0.2,\"#de77ae\"],[0.3,\"#f1b6da\"],[0.4,\"#fde0ef\"],[0.5,\"#f7f7f7\"],[0.6,\"#e6f5d0\"],[0.7,\"#b8e186\"],[0.8,\"#7fbc41\"],[0.9,\"#4d9221\"],[1,\"#276419\"]]},\"xaxis\":{\"gridcolor\":\"white\",\"linecolor\":\"white\",\"ticks\":\"\",\"title\":{\"standoff\":15},\"zerolinecolor\":\"white\",\"automargin\":true,\"zerolinewidth\":2},\"yaxis\":{\"gridcolor\":\"white\",\"linecolor\":\"white\",\"ticks\":\"\",\"title\":{\"standoff\":15},\"zerolinecolor\":\"white\",\"automargin\":true,\"zerolinewidth\":2},\"scene\":{\"xaxis\":{\"backgroundcolor\":\"#E5ECF6\",\"gridcolor\":\"white\",\"linecolor\":\"white\",\"showbackground\":true,\"ticks\":\"\",\"zerolinecolor\":\"white\",\"gridwidth\":2},\"yaxis\":{\"backgroundcolor\":\"#E5ECF6\",\"gridcolor\":\"white\",\"linecolor\":\"white\",\"showbackground\":true,\"ticks\":\"\",\"zerolinecolor\":\"white\",\"gridwidth\":2},\"zaxis\":{\"backgroundcolor\":\"#E5ECF6\",\"gridcolor\":\"white\",\"linecolor\":\"white\",\"showbackground\":true,\"ticks\":\"\",\"zerolinecolor\":\"white\",\"gridwidth\":2}},\"shapedefaults\":{\"line\":{\"color\":\"#2a3f5f\"}},\"annotationdefaults\":{\"arrowcolor\":\"#2a3f5f\",\"arrowhead\":0,\"arrowwidth\":1},\"geo\":{\"bgcolor\":\"white\",\"landcolor\":\"#E5ECF6\",\"subunitcolor\":\"white\",\"showland\":true,\"showlakes\":true,\"lakecolor\":\"white\"},\"title\":{\"x\":0.05},\"mapbox\":{\"style\":\"light\"}}},\"xaxis\":{\"anchor\":\"y\",\"domain\":[0.0,1.0],\"title\":{\"text\":\"research\"}},\"yaxis\":{\"anchor\":\"x\",\"domain\":[0.0,1.0],\"autorange\":\"reversed\",\"title\":{\"text\":\"cont\"}},\"coloraxis\":{\"colorscale\":[[0.0,\"#0d0887\"],[0.1111111111111111,\"#46039f\"],[0.2222222222222222,\"#7201a8\"],[0.3333333333333333,\"#9c179e\"],[0.4444444444444444,\"#bd3786\"],[0.5555555555555556,\"#d8576b\"],[0.6666666666666666,\"#ed7953\"],[0.7777777777777778,\"#fb9f3a\"],[0.8888888888888888,\"#fdca26\"],[1.0,\"#f0f921\"]]},\"title\":{\"text\":\"Contribution without totals\"}},                        {\"responsive\": true}                    ).then(function(){\n",
       "                            \n",
       "var gd = document.getElementById('6c07f7cc-ca1e-430a-9356-52d52394e301');\n",
       "var x = new MutationObserver(function (mutations, observer) {{\n",
       "        var display = window.getComputedStyle(gd).display;\n",
       "        if (!display || display === 'none') {{\n",
       "            console.log([gd, 'removed!']);\n",
       "            Plotly.purge(gd);\n",
       "            observer.disconnect();\n",
       "        }}\n",
       "}});\n",
       "\n",
       "// Listen for the removal of the full notebook cells\n",
       "var notebookContainer = gd.closest('#notebook-container');\n",
       "if (notebookContainer) {{\n",
       "    x.observe(notebookContainer, {childList: true});\n",
       "}}\n",
       "\n",
       "// Listen for the clearing of the current output cell\n",
       "var outputEl = gd.closest('.output');\n",
       "if (outputEl) {{\n",
       "    x.observe(outputEl, {childList: true});\n",
       "}}\n",
       "\n",
       "                        })                };                });            </script>        </div>"
      ]
     },
     "metadata": {},
     "output_type": "display_data"
    }
   ],
   "source": [
    "fig = px.imshow(ct, text_auto=True, aspect='auto', title='Contribution without totals')\n",
    "fig.show()"
   ]
  },
  {
   "cell_type": "code",
   "execution_count": 41,
   "metadata": {
    "ExecuteTime": {
     "end_time": "2022-12-23T18:55:08.764978Z",
     "start_time": "2022-12-23T18:55:08.740850Z"
    }
   },
   "outputs": [
    {
     "data": {
      "application/vnd.plotly.v1+json": {
       "config": {
        "plotlyServerURL": "https://plot.ly"
       },
       "data": [
        {
         "coloraxis": "coloraxis",
         "hovertemplate": "research: %{x}<br>cont: %{y}<br>color: %{z}<extra></extra>",
         "name": "0",
         "texttemplate": "%{z}",
         "type": "heatmap",
         "x": [
          "evaluation",
          "philosophical",
          "solution",
          "validation",
          "All"
         ],
         "xaxis": "x",
         "y": [
          "approach",
          "casestudy",
          "experiment",
          "literature",
          "metric",
          "model",
          "nonempirical",
          "process",
          "tool"
         ],
         "yaxis": "y",
         "z": [
          [
           10,
           18,
           18,
           3,
           49
          ],
          [
           5,
           8,
           14,
           3,
           30
          ],
          [
           3,
           1,
           9,
           2,
           15
          ],
          [
           4,
           7,
           1,
           0,
           12
          ],
          [
           6,
           5,
           11,
           1,
           23
          ],
          [
           9,
           18,
           17,
           2,
           46
          ],
          [
           1,
           6,
           0,
           0,
           7
          ],
          [
           10,
           17,
           16,
           3,
           46
          ],
          [
           4,
           4,
           9,
           1,
           18
          ]
         ]
        }
       ],
       "layout": {
        "coloraxis": {
         "colorscale": [
          [
           0,
           "#0d0887"
          ],
          [
           0.1111111111111111,
           "#46039f"
          ],
          [
           0.2222222222222222,
           "#7201a8"
          ],
          [
           0.3333333333333333,
           "#9c179e"
          ],
          [
           0.4444444444444444,
           "#bd3786"
          ],
          [
           0.5555555555555556,
           "#d8576b"
          ],
          [
           0.6666666666666666,
           "#ed7953"
          ],
          [
           0.7777777777777778,
           "#fb9f3a"
          ],
          [
           0.8888888888888888,
           "#fdca26"
          ],
          [
           1,
           "#f0f921"
          ]
         ]
        },
        "template": {
         "data": {
          "bar": [
           {
            "error_x": {
             "color": "#2a3f5f"
            },
            "error_y": {
             "color": "#2a3f5f"
            },
            "marker": {
             "line": {
              "color": "#E5ECF6",
              "width": 0.5
             },
             "pattern": {
              "fillmode": "overlay",
              "size": 10,
              "solidity": 0.2
             }
            },
            "type": "bar"
           }
          ],
          "barpolar": [
           {
            "marker": {
             "line": {
              "color": "#E5ECF6",
              "width": 0.5
             },
             "pattern": {
              "fillmode": "overlay",
              "size": 10,
              "solidity": 0.2
             }
            },
            "type": "barpolar"
           }
          ],
          "carpet": [
           {
            "aaxis": {
             "endlinecolor": "#2a3f5f",
             "gridcolor": "white",
             "linecolor": "white",
             "minorgridcolor": "white",
             "startlinecolor": "#2a3f5f"
            },
            "baxis": {
             "endlinecolor": "#2a3f5f",
             "gridcolor": "white",
             "linecolor": "white",
             "minorgridcolor": "white",
             "startlinecolor": "#2a3f5f"
            },
            "type": "carpet"
           }
          ],
          "choropleth": [
           {
            "colorbar": {
             "outlinewidth": 0,
             "ticks": ""
            },
            "type": "choropleth"
           }
          ],
          "contour": [
           {
            "colorbar": {
             "outlinewidth": 0,
             "ticks": ""
            },
            "colorscale": [
             [
              0,
              "#0d0887"
             ],
             [
              0.1111111111111111,
              "#46039f"
             ],
             [
              0.2222222222222222,
              "#7201a8"
             ],
             [
              0.3333333333333333,
              "#9c179e"
             ],
             [
              0.4444444444444444,
              "#bd3786"
             ],
             [
              0.5555555555555556,
              "#d8576b"
             ],
             [
              0.6666666666666666,
              "#ed7953"
             ],
             [
              0.7777777777777778,
              "#fb9f3a"
             ],
             [
              0.8888888888888888,
              "#fdca26"
             ],
             [
              1,
              "#f0f921"
             ]
            ],
            "type": "contour"
           }
          ],
          "contourcarpet": [
           {
            "colorbar": {
             "outlinewidth": 0,
             "ticks": ""
            },
            "type": "contourcarpet"
           }
          ],
          "heatmap": [
           {
            "colorbar": {
             "outlinewidth": 0,
             "ticks": ""
            },
            "colorscale": [
             [
              0,
              "#0d0887"
             ],
             [
              0.1111111111111111,
              "#46039f"
             ],
             [
              0.2222222222222222,
              "#7201a8"
             ],
             [
              0.3333333333333333,
              "#9c179e"
             ],
             [
              0.4444444444444444,
              "#bd3786"
             ],
             [
              0.5555555555555556,
              "#d8576b"
             ],
             [
              0.6666666666666666,
              "#ed7953"
             ],
             [
              0.7777777777777778,
              "#fb9f3a"
             ],
             [
              0.8888888888888888,
              "#fdca26"
             ],
             [
              1,
              "#f0f921"
             ]
            ],
            "type": "heatmap"
           }
          ],
          "heatmapgl": [
           {
            "colorbar": {
             "outlinewidth": 0,
             "ticks": ""
            },
            "colorscale": [
             [
              0,
              "#0d0887"
             ],
             [
              0.1111111111111111,
              "#46039f"
             ],
             [
              0.2222222222222222,
              "#7201a8"
             ],
             [
              0.3333333333333333,
              "#9c179e"
             ],
             [
              0.4444444444444444,
              "#bd3786"
             ],
             [
              0.5555555555555556,
              "#d8576b"
             ],
             [
              0.6666666666666666,
              "#ed7953"
             ],
             [
              0.7777777777777778,
              "#fb9f3a"
             ],
             [
              0.8888888888888888,
              "#fdca26"
             ],
             [
              1,
              "#f0f921"
             ]
            ],
            "type": "heatmapgl"
           }
          ],
          "histogram": [
           {
            "marker": {
             "pattern": {
              "fillmode": "overlay",
              "size": 10,
              "solidity": 0.2
             }
            },
            "type": "histogram"
           }
          ],
          "histogram2d": [
           {
            "colorbar": {
             "outlinewidth": 0,
             "ticks": ""
            },
            "colorscale": [
             [
              0,
              "#0d0887"
             ],
             [
              0.1111111111111111,
              "#46039f"
             ],
             [
              0.2222222222222222,
              "#7201a8"
             ],
             [
              0.3333333333333333,
              "#9c179e"
             ],
             [
              0.4444444444444444,
              "#bd3786"
             ],
             [
              0.5555555555555556,
              "#d8576b"
             ],
             [
              0.6666666666666666,
              "#ed7953"
             ],
             [
              0.7777777777777778,
              "#fb9f3a"
             ],
             [
              0.8888888888888888,
              "#fdca26"
             ],
             [
              1,
              "#f0f921"
             ]
            ],
            "type": "histogram2d"
           }
          ],
          "histogram2dcontour": [
           {
            "colorbar": {
             "outlinewidth": 0,
             "ticks": ""
            },
            "colorscale": [
             [
              0,
              "#0d0887"
             ],
             [
              0.1111111111111111,
              "#46039f"
             ],
             [
              0.2222222222222222,
              "#7201a8"
             ],
             [
              0.3333333333333333,
              "#9c179e"
             ],
             [
              0.4444444444444444,
              "#bd3786"
             ],
             [
              0.5555555555555556,
              "#d8576b"
             ],
             [
              0.6666666666666666,
              "#ed7953"
             ],
             [
              0.7777777777777778,
              "#fb9f3a"
             ],
             [
              0.8888888888888888,
              "#fdca26"
             ],
             [
              1,
              "#f0f921"
             ]
            ],
            "type": "histogram2dcontour"
           }
          ],
          "mesh3d": [
           {
            "colorbar": {
             "outlinewidth": 0,
             "ticks": ""
            },
            "type": "mesh3d"
           }
          ],
          "parcoords": [
           {
            "line": {
             "colorbar": {
              "outlinewidth": 0,
              "ticks": ""
             }
            },
            "type": "parcoords"
           }
          ],
          "pie": [
           {
            "automargin": true,
            "type": "pie"
           }
          ],
          "scatter": [
           {
            "fillpattern": {
             "fillmode": "overlay",
             "size": 10,
             "solidity": 0.2
            },
            "type": "scatter"
           }
          ],
          "scatter3d": [
           {
            "line": {
             "colorbar": {
              "outlinewidth": 0,
              "ticks": ""
             }
            },
            "marker": {
             "colorbar": {
              "outlinewidth": 0,
              "ticks": ""
             }
            },
            "type": "scatter3d"
           }
          ],
          "scattercarpet": [
           {
            "marker": {
             "colorbar": {
              "outlinewidth": 0,
              "ticks": ""
             }
            },
            "type": "scattercarpet"
           }
          ],
          "scattergeo": [
           {
            "marker": {
             "colorbar": {
              "outlinewidth": 0,
              "ticks": ""
             }
            },
            "type": "scattergeo"
           }
          ],
          "scattergl": [
           {
            "marker": {
             "colorbar": {
              "outlinewidth": 0,
              "ticks": ""
             }
            },
            "type": "scattergl"
           }
          ],
          "scattermapbox": [
           {
            "marker": {
             "colorbar": {
              "outlinewidth": 0,
              "ticks": ""
             }
            },
            "type": "scattermapbox"
           }
          ],
          "scatterpolar": [
           {
            "marker": {
             "colorbar": {
              "outlinewidth": 0,
              "ticks": ""
             }
            },
            "type": "scatterpolar"
           }
          ],
          "scatterpolargl": [
           {
            "marker": {
             "colorbar": {
              "outlinewidth": 0,
              "ticks": ""
             }
            },
            "type": "scatterpolargl"
           }
          ],
          "scatterternary": [
           {
            "marker": {
             "colorbar": {
              "outlinewidth": 0,
              "ticks": ""
             }
            },
            "type": "scatterternary"
           }
          ],
          "surface": [
           {
            "colorbar": {
             "outlinewidth": 0,
             "ticks": ""
            },
            "colorscale": [
             [
              0,
              "#0d0887"
             ],
             [
              0.1111111111111111,
              "#46039f"
             ],
             [
              0.2222222222222222,
              "#7201a8"
             ],
             [
              0.3333333333333333,
              "#9c179e"
             ],
             [
              0.4444444444444444,
              "#bd3786"
             ],
             [
              0.5555555555555556,
              "#d8576b"
             ],
             [
              0.6666666666666666,
              "#ed7953"
             ],
             [
              0.7777777777777778,
              "#fb9f3a"
             ],
             [
              0.8888888888888888,
              "#fdca26"
             ],
             [
              1,
              "#f0f921"
             ]
            ],
            "type": "surface"
           }
          ],
          "table": [
           {
            "cells": {
             "fill": {
              "color": "#EBF0F8"
             },
             "line": {
              "color": "white"
             }
            },
            "header": {
             "fill": {
              "color": "#C8D4E3"
             },
             "line": {
              "color": "white"
             }
            },
            "type": "table"
           }
          ]
         },
         "layout": {
          "annotationdefaults": {
           "arrowcolor": "#2a3f5f",
           "arrowhead": 0,
           "arrowwidth": 1
          },
          "autotypenumbers": "strict",
          "coloraxis": {
           "colorbar": {
            "outlinewidth": 0,
            "ticks": ""
           }
          },
          "colorscale": {
           "diverging": [
            [
             0,
             "#8e0152"
            ],
            [
             0.1,
             "#c51b7d"
            ],
            [
             0.2,
             "#de77ae"
            ],
            [
             0.3,
             "#f1b6da"
            ],
            [
             0.4,
             "#fde0ef"
            ],
            [
             0.5,
             "#f7f7f7"
            ],
            [
             0.6,
             "#e6f5d0"
            ],
            [
             0.7,
             "#b8e186"
            ],
            [
             0.8,
             "#7fbc41"
            ],
            [
             0.9,
             "#4d9221"
            ],
            [
             1,
             "#276419"
            ]
           ],
           "sequential": [
            [
             0,
             "#0d0887"
            ],
            [
             0.1111111111111111,
             "#46039f"
            ],
            [
             0.2222222222222222,
             "#7201a8"
            ],
            [
             0.3333333333333333,
             "#9c179e"
            ],
            [
             0.4444444444444444,
             "#bd3786"
            ],
            [
             0.5555555555555556,
             "#d8576b"
            ],
            [
             0.6666666666666666,
             "#ed7953"
            ],
            [
             0.7777777777777778,
             "#fb9f3a"
            ],
            [
             0.8888888888888888,
             "#fdca26"
            ],
            [
             1,
             "#f0f921"
            ]
           ],
           "sequentialminus": [
            [
             0,
             "#0d0887"
            ],
            [
             0.1111111111111111,
             "#46039f"
            ],
            [
             0.2222222222222222,
             "#7201a8"
            ],
            [
             0.3333333333333333,
             "#9c179e"
            ],
            [
             0.4444444444444444,
             "#bd3786"
            ],
            [
             0.5555555555555556,
             "#d8576b"
            ],
            [
             0.6666666666666666,
             "#ed7953"
            ],
            [
             0.7777777777777778,
             "#fb9f3a"
            ],
            [
             0.8888888888888888,
             "#fdca26"
            ],
            [
             1,
             "#f0f921"
            ]
           ]
          },
          "colorway": [
           "#636efa",
           "#EF553B",
           "#00cc96",
           "#ab63fa",
           "#FFA15A",
           "#19d3f3",
           "#FF6692",
           "#B6E880",
           "#FF97FF",
           "#FECB52"
          ],
          "font": {
           "color": "#2a3f5f"
          },
          "geo": {
           "bgcolor": "white",
           "lakecolor": "white",
           "landcolor": "#E5ECF6",
           "showlakes": true,
           "showland": true,
           "subunitcolor": "white"
          },
          "hoverlabel": {
           "align": "left"
          },
          "hovermode": "closest",
          "mapbox": {
           "style": "light"
          },
          "paper_bgcolor": "white",
          "plot_bgcolor": "#E5ECF6",
          "polar": {
           "angularaxis": {
            "gridcolor": "white",
            "linecolor": "white",
            "ticks": ""
           },
           "bgcolor": "#E5ECF6",
           "radialaxis": {
            "gridcolor": "white",
            "linecolor": "white",
            "ticks": ""
           }
          },
          "scene": {
           "xaxis": {
            "backgroundcolor": "#E5ECF6",
            "gridcolor": "white",
            "gridwidth": 2,
            "linecolor": "white",
            "showbackground": true,
            "ticks": "",
            "zerolinecolor": "white"
           },
           "yaxis": {
            "backgroundcolor": "#E5ECF6",
            "gridcolor": "white",
            "gridwidth": 2,
            "linecolor": "white",
            "showbackground": true,
            "ticks": "",
            "zerolinecolor": "white"
           },
           "zaxis": {
            "backgroundcolor": "#E5ECF6",
            "gridcolor": "white",
            "gridwidth": 2,
            "linecolor": "white",
            "showbackground": true,
            "ticks": "",
            "zerolinecolor": "white"
           }
          },
          "shapedefaults": {
           "line": {
            "color": "#2a3f5f"
           }
          },
          "ternary": {
           "aaxis": {
            "gridcolor": "white",
            "linecolor": "white",
            "ticks": ""
           },
           "baxis": {
            "gridcolor": "white",
            "linecolor": "white",
            "ticks": ""
           },
           "bgcolor": "#E5ECF6",
           "caxis": {
            "gridcolor": "white",
            "linecolor": "white",
            "ticks": ""
           }
          },
          "title": {
           "x": 0.05
          },
          "xaxis": {
           "automargin": true,
           "gridcolor": "white",
           "linecolor": "white",
           "ticks": "",
           "title": {
            "standoff": 15
           },
           "zerolinecolor": "white",
           "zerolinewidth": 2
          },
          "yaxis": {
           "automargin": true,
           "gridcolor": "white",
           "linecolor": "white",
           "ticks": "",
           "title": {
            "standoff": 15
           },
           "zerolinecolor": "white",
           "zerolinewidth": 2
          }
         }
        },
        "title": {
         "text": "Contribution with totals"
        },
        "xaxis": {
         "anchor": "y",
         "domain": [
          0,
          1
         ],
         "title": {
          "text": "research"
         }
        },
        "yaxis": {
         "anchor": "x",
         "autorange": "reversed",
         "domain": [
          0,
          1
         ],
         "title": {
          "text": "cont"
         }
        }
       }
      },
      "text/html": [
       "<div>                            <div id=\"7bd6b716-c803-4c51-ab9d-c35f38c38b00\" class=\"plotly-graph-div\" style=\"height:525px; width:100%;\"></div>            <script type=\"text/javascript\">                require([\"plotly\"], function(Plotly) {                    window.PLOTLYENV=window.PLOTLYENV || {};                                    if (document.getElementById(\"7bd6b716-c803-4c51-ab9d-c35f38c38b00\")) {                    Plotly.newPlot(                        \"7bd6b716-c803-4c51-ab9d-c35f38c38b00\",                        [{\"coloraxis\":\"coloraxis\",\"name\":\"0\",\"texttemplate\":\"%{z}\",\"x\":[\"evaluation\",\"philosophical\",\"solution\",\"validation\",\"All\"],\"y\":[\"approach\",\"casestudy\",\"experiment\",\"literature\",\"metric\",\"model\",\"nonempirical\",\"process\",\"tool\"],\"z\":[[10,18,18,3,49],[5,8,14,3,30],[3,1,9,2,15],[4,7,1,0,12],[6,5,11,1,23],[9,18,17,2,46],[1,6,0,0,7],[10,17,16,3,46],[4,4,9,1,18]],\"type\":\"heatmap\",\"xaxis\":\"x\",\"yaxis\":\"y\",\"hovertemplate\":\"research: %{x}<br>cont: %{y}<br>color: %{z}<extra></extra>\"}],                        {\"template\":{\"data\":{\"histogram2dcontour\":[{\"type\":\"histogram2dcontour\",\"colorbar\":{\"outlinewidth\":0,\"ticks\":\"\"},\"colorscale\":[[0.0,\"#0d0887\"],[0.1111111111111111,\"#46039f\"],[0.2222222222222222,\"#7201a8\"],[0.3333333333333333,\"#9c179e\"],[0.4444444444444444,\"#bd3786\"],[0.5555555555555556,\"#d8576b\"],[0.6666666666666666,\"#ed7953\"],[0.7777777777777778,\"#fb9f3a\"],[0.8888888888888888,\"#fdca26\"],[1.0,\"#f0f921\"]]}],\"choropleth\":[{\"type\":\"choropleth\",\"colorbar\":{\"outlinewidth\":0,\"ticks\":\"\"}}],\"histogram2d\":[{\"type\":\"histogram2d\",\"colorbar\":{\"outlinewidth\":0,\"ticks\":\"\"},\"colorscale\":[[0.0,\"#0d0887\"],[0.1111111111111111,\"#46039f\"],[0.2222222222222222,\"#7201a8\"],[0.3333333333333333,\"#9c179e\"],[0.4444444444444444,\"#bd3786\"],[0.5555555555555556,\"#d8576b\"],[0.6666666666666666,\"#ed7953\"],[0.7777777777777778,\"#fb9f3a\"],[0.8888888888888888,\"#fdca26\"],[1.0,\"#f0f921\"]]}],\"heatmap\":[{\"type\":\"heatmap\",\"colorbar\":{\"outlinewidth\":0,\"ticks\":\"\"},\"colorscale\":[[0.0,\"#0d0887\"],[0.1111111111111111,\"#46039f\"],[0.2222222222222222,\"#7201a8\"],[0.3333333333333333,\"#9c179e\"],[0.4444444444444444,\"#bd3786\"],[0.5555555555555556,\"#d8576b\"],[0.6666666666666666,\"#ed7953\"],[0.7777777777777778,\"#fb9f3a\"],[0.8888888888888888,\"#fdca26\"],[1.0,\"#f0f921\"]]}],\"heatmapgl\":[{\"type\":\"heatmapgl\",\"colorbar\":{\"outlinewidth\":0,\"ticks\":\"\"},\"colorscale\":[[0.0,\"#0d0887\"],[0.1111111111111111,\"#46039f\"],[0.2222222222222222,\"#7201a8\"],[0.3333333333333333,\"#9c179e\"],[0.4444444444444444,\"#bd3786\"],[0.5555555555555556,\"#d8576b\"],[0.6666666666666666,\"#ed7953\"],[0.7777777777777778,\"#fb9f3a\"],[0.8888888888888888,\"#fdca26\"],[1.0,\"#f0f921\"]]}],\"contourcarpet\":[{\"type\":\"contourcarpet\",\"colorbar\":{\"outlinewidth\":0,\"ticks\":\"\"}}],\"contour\":[{\"type\":\"contour\",\"colorbar\":{\"outlinewidth\":0,\"ticks\":\"\"},\"colorscale\":[[0.0,\"#0d0887\"],[0.1111111111111111,\"#46039f\"],[0.2222222222222222,\"#7201a8\"],[0.3333333333333333,\"#9c179e\"],[0.4444444444444444,\"#bd3786\"],[0.5555555555555556,\"#d8576b\"],[0.6666666666666666,\"#ed7953\"],[0.7777777777777778,\"#fb9f3a\"],[0.8888888888888888,\"#fdca26\"],[1.0,\"#f0f921\"]]}],\"surface\":[{\"type\":\"surface\",\"colorbar\":{\"outlinewidth\":0,\"ticks\":\"\"},\"colorscale\":[[0.0,\"#0d0887\"],[0.1111111111111111,\"#46039f\"],[0.2222222222222222,\"#7201a8\"],[0.3333333333333333,\"#9c179e\"],[0.4444444444444444,\"#bd3786\"],[0.5555555555555556,\"#d8576b\"],[0.6666666666666666,\"#ed7953\"],[0.7777777777777778,\"#fb9f3a\"],[0.8888888888888888,\"#fdca26\"],[1.0,\"#f0f921\"]]}],\"mesh3d\":[{\"type\":\"mesh3d\",\"colorbar\":{\"outlinewidth\":0,\"ticks\":\"\"}}],\"scatter\":[{\"fillpattern\":{\"fillmode\":\"overlay\",\"size\":10,\"solidity\":0.2},\"type\":\"scatter\"}],\"parcoords\":[{\"type\":\"parcoords\",\"line\":{\"colorbar\":{\"outlinewidth\":0,\"ticks\":\"\"}}}],\"scatterpolargl\":[{\"type\":\"scatterpolargl\",\"marker\":{\"colorbar\":{\"outlinewidth\":0,\"ticks\":\"\"}}}],\"bar\":[{\"error_x\":{\"color\":\"#2a3f5f\"},\"error_y\":{\"color\":\"#2a3f5f\"},\"marker\":{\"line\":{\"color\":\"#E5ECF6\",\"width\":0.5},\"pattern\":{\"fillmode\":\"overlay\",\"size\":10,\"solidity\":0.2}},\"type\":\"bar\"}],\"scattergeo\":[{\"type\":\"scattergeo\",\"marker\":{\"colorbar\":{\"outlinewidth\":0,\"ticks\":\"\"}}}],\"scatterpolar\":[{\"type\":\"scatterpolar\",\"marker\":{\"colorbar\":{\"outlinewidth\":0,\"ticks\":\"\"}}}],\"histogram\":[{\"marker\":{\"pattern\":{\"fillmode\":\"overlay\",\"size\":10,\"solidity\":0.2}},\"type\":\"histogram\"}],\"scattergl\":[{\"type\":\"scattergl\",\"marker\":{\"colorbar\":{\"outlinewidth\":0,\"ticks\":\"\"}}}],\"scatter3d\":[{\"type\":\"scatter3d\",\"line\":{\"colorbar\":{\"outlinewidth\":0,\"ticks\":\"\"}},\"marker\":{\"colorbar\":{\"outlinewidth\":0,\"ticks\":\"\"}}}],\"scattermapbox\":[{\"type\":\"scattermapbox\",\"marker\":{\"colorbar\":{\"outlinewidth\":0,\"ticks\":\"\"}}}],\"scatterternary\":[{\"type\":\"scatterternary\",\"marker\":{\"colorbar\":{\"outlinewidth\":0,\"ticks\":\"\"}}}],\"scattercarpet\":[{\"type\":\"scattercarpet\",\"marker\":{\"colorbar\":{\"outlinewidth\":0,\"ticks\":\"\"}}}],\"carpet\":[{\"aaxis\":{\"endlinecolor\":\"#2a3f5f\",\"gridcolor\":\"white\",\"linecolor\":\"white\",\"minorgridcolor\":\"white\",\"startlinecolor\":\"#2a3f5f\"},\"baxis\":{\"endlinecolor\":\"#2a3f5f\",\"gridcolor\":\"white\",\"linecolor\":\"white\",\"minorgridcolor\":\"white\",\"startlinecolor\":\"#2a3f5f\"},\"type\":\"carpet\"}],\"table\":[{\"cells\":{\"fill\":{\"color\":\"#EBF0F8\"},\"line\":{\"color\":\"white\"}},\"header\":{\"fill\":{\"color\":\"#C8D4E3\"},\"line\":{\"color\":\"white\"}},\"type\":\"table\"}],\"barpolar\":[{\"marker\":{\"line\":{\"color\":\"#E5ECF6\",\"width\":0.5},\"pattern\":{\"fillmode\":\"overlay\",\"size\":10,\"solidity\":0.2}},\"type\":\"barpolar\"}],\"pie\":[{\"automargin\":true,\"type\":\"pie\"}]},\"layout\":{\"autotypenumbers\":\"strict\",\"colorway\":[\"#636efa\",\"#EF553B\",\"#00cc96\",\"#ab63fa\",\"#FFA15A\",\"#19d3f3\",\"#FF6692\",\"#B6E880\",\"#FF97FF\",\"#FECB52\"],\"font\":{\"color\":\"#2a3f5f\"},\"hovermode\":\"closest\",\"hoverlabel\":{\"align\":\"left\"},\"paper_bgcolor\":\"white\",\"plot_bgcolor\":\"#E5ECF6\",\"polar\":{\"bgcolor\":\"#E5ECF6\",\"angularaxis\":{\"gridcolor\":\"white\",\"linecolor\":\"white\",\"ticks\":\"\"},\"radialaxis\":{\"gridcolor\":\"white\",\"linecolor\":\"white\",\"ticks\":\"\"}},\"ternary\":{\"bgcolor\":\"#E5ECF6\",\"aaxis\":{\"gridcolor\":\"white\",\"linecolor\":\"white\",\"ticks\":\"\"},\"baxis\":{\"gridcolor\":\"white\",\"linecolor\":\"white\",\"ticks\":\"\"},\"caxis\":{\"gridcolor\":\"white\",\"linecolor\":\"white\",\"ticks\":\"\"}},\"coloraxis\":{\"colorbar\":{\"outlinewidth\":0,\"ticks\":\"\"}},\"colorscale\":{\"sequential\":[[0.0,\"#0d0887\"],[0.1111111111111111,\"#46039f\"],[0.2222222222222222,\"#7201a8\"],[0.3333333333333333,\"#9c179e\"],[0.4444444444444444,\"#bd3786\"],[0.5555555555555556,\"#d8576b\"],[0.6666666666666666,\"#ed7953\"],[0.7777777777777778,\"#fb9f3a\"],[0.8888888888888888,\"#fdca26\"],[1.0,\"#f0f921\"]],\"sequentialminus\":[[0.0,\"#0d0887\"],[0.1111111111111111,\"#46039f\"],[0.2222222222222222,\"#7201a8\"],[0.3333333333333333,\"#9c179e\"],[0.4444444444444444,\"#bd3786\"],[0.5555555555555556,\"#d8576b\"],[0.6666666666666666,\"#ed7953\"],[0.7777777777777778,\"#fb9f3a\"],[0.8888888888888888,\"#fdca26\"],[1.0,\"#f0f921\"]],\"diverging\":[[0,\"#8e0152\"],[0.1,\"#c51b7d\"],[0.2,\"#de77ae\"],[0.3,\"#f1b6da\"],[0.4,\"#fde0ef\"],[0.5,\"#f7f7f7\"],[0.6,\"#e6f5d0\"],[0.7,\"#b8e186\"],[0.8,\"#7fbc41\"],[0.9,\"#4d9221\"],[1,\"#276419\"]]},\"xaxis\":{\"gridcolor\":\"white\",\"linecolor\":\"white\",\"ticks\":\"\",\"title\":{\"standoff\":15},\"zerolinecolor\":\"white\",\"automargin\":true,\"zerolinewidth\":2},\"yaxis\":{\"gridcolor\":\"white\",\"linecolor\":\"white\",\"ticks\":\"\",\"title\":{\"standoff\":15},\"zerolinecolor\":\"white\",\"automargin\":true,\"zerolinewidth\":2},\"scene\":{\"xaxis\":{\"backgroundcolor\":\"#E5ECF6\",\"gridcolor\":\"white\",\"linecolor\":\"white\",\"showbackground\":true,\"ticks\":\"\",\"zerolinecolor\":\"white\",\"gridwidth\":2},\"yaxis\":{\"backgroundcolor\":\"#E5ECF6\",\"gridcolor\":\"white\",\"linecolor\":\"white\",\"showbackground\":true,\"ticks\":\"\",\"zerolinecolor\":\"white\",\"gridwidth\":2},\"zaxis\":{\"backgroundcolor\":\"#E5ECF6\",\"gridcolor\":\"white\",\"linecolor\":\"white\",\"showbackground\":true,\"ticks\":\"\",\"zerolinecolor\":\"white\",\"gridwidth\":2}},\"shapedefaults\":{\"line\":{\"color\":\"#2a3f5f\"}},\"annotationdefaults\":{\"arrowcolor\":\"#2a3f5f\",\"arrowhead\":0,\"arrowwidth\":1},\"geo\":{\"bgcolor\":\"white\",\"landcolor\":\"#E5ECF6\",\"subunitcolor\":\"white\",\"showland\":true,\"showlakes\":true,\"lakecolor\":\"white\"},\"title\":{\"x\":0.05},\"mapbox\":{\"style\":\"light\"}}},\"xaxis\":{\"anchor\":\"y\",\"domain\":[0.0,1.0],\"title\":{\"text\":\"research\"}},\"yaxis\":{\"anchor\":\"x\",\"domain\":[0.0,1.0],\"autorange\":\"reversed\",\"title\":{\"text\":\"cont\"}},\"coloraxis\":{\"colorscale\":[[0.0,\"#0d0887\"],[0.1111111111111111,\"#46039f\"],[0.2222222222222222,\"#7201a8\"],[0.3333333333333333,\"#9c179e\"],[0.4444444444444444,\"#bd3786\"],[0.5555555555555556,\"#d8576b\"],[0.6666666666666666,\"#ed7953\"],[0.7777777777777778,\"#fb9f3a\"],[0.8888888888888888,\"#fdca26\"],[1.0,\"#f0f921\"]]},\"title\":{\"text\":\"Contribution with totals\"}},                        {\"responsive\": true}                    ).then(function(){\n",
       "                            \n",
       "var gd = document.getElementById('7bd6b716-c803-4c51-ab9d-c35f38c38b00');\n",
       "var x = new MutationObserver(function (mutations, observer) {{\n",
       "        var display = window.getComputedStyle(gd).display;\n",
       "        if (!display || display === 'none') {{\n",
       "            console.log([gd, 'removed!']);\n",
       "            Plotly.purge(gd);\n",
       "            observer.disconnect();\n",
       "        }}\n",
       "}});\n",
       "\n",
       "// Listen for the removal of the full notebook cells\n",
       "var notebookContainer = gd.closest('#notebook-container');\n",
       "if (notebookContainer) {{\n",
       "    x.observe(notebookContainer, {childList: true});\n",
       "}}\n",
       "\n",
       "// Listen for the clearing of the current output cell\n",
       "var outputEl = gd.closest('.output');\n",
       "if (outputEl) {{\n",
       "    x.observe(outputEl, {childList: true});\n",
       "}}\n",
       "\n",
       "                        })                };                });            </script>        </div>"
      ]
     },
     "metadata": {},
     "output_type": "display_data"
    }
   ],
   "source": [
    "#replaced_all_cell_for_heatmap = cta.replace(to_replace = cta.iloc[-1,-1], value = 'All', inplace=False)\n",
    "\n",
    "fig = px.imshow(cta.iloc[:-1], text_auto=True, aspect='auto', title='Contribution with totals')\n",
    "# fig = px.imshow(cta, text_auto=True)\n",
    "fig.show()"
   ]
  },
  {
   "cell_type": "code",
   "execution_count": 42,
   "metadata": {
    "ExecuteTime": {
     "end_time": "2022-12-23T18:55:08.808130Z",
     "start_time": "2022-12-23T18:55:08.766249Z"
    }
   },
   "outputs": [
    {
     "data": {
      "application/vnd.plotly.v1+json": {
       "config": {
        "plotlyServerURL": "https://plot.ly"
       },
       "data": [
        {
         "alignmentgroup": "True",
         "hovertemplate": "research=evaluation<br>cont=%{x}<br>value=%{y}<extra></extra>",
         "legendgroup": "evaluation",
         "marker": {
          "color": "#636efa",
          "pattern": {
           "shape": ""
          }
         },
         "name": "evaluation",
         "offsetgroup": "evaluation",
         "orientation": "v",
         "showlegend": true,
         "textposition": "auto",
         "type": "bar",
         "x": [
          "approach",
          "casestudy",
          "experiment",
          "literature",
          "metric",
          "model",
          "nonempirical",
          "process",
          "tool"
         ],
         "xaxis": "x",
         "y": [
          10,
          5,
          3,
          4,
          6,
          9,
          1,
          10,
          4
         ],
         "yaxis": "y"
        },
        {
         "alignmentgroup": "True",
         "hovertemplate": "research=philosophical<br>cont=%{x}<br>value=%{y}<extra></extra>",
         "legendgroup": "philosophical",
         "marker": {
          "color": "#EF553B",
          "pattern": {
           "shape": ""
          }
         },
         "name": "philosophical",
         "offsetgroup": "philosophical",
         "orientation": "v",
         "showlegend": true,
         "textposition": "auto",
         "type": "bar",
         "x": [
          "approach",
          "casestudy",
          "experiment",
          "literature",
          "metric",
          "model",
          "nonempirical",
          "process",
          "tool"
         ],
         "xaxis": "x",
         "y": [
          18,
          8,
          1,
          7,
          5,
          18,
          6,
          17,
          4
         ],
         "yaxis": "y"
        },
        {
         "alignmentgroup": "True",
         "hovertemplate": "research=solution<br>cont=%{x}<br>value=%{y}<extra></extra>",
         "legendgroup": "solution",
         "marker": {
          "color": "#00cc96",
          "pattern": {
           "shape": ""
          }
         },
         "name": "solution",
         "offsetgroup": "solution",
         "orientation": "v",
         "showlegend": true,
         "textposition": "auto",
         "type": "bar",
         "x": [
          "approach",
          "casestudy",
          "experiment",
          "literature",
          "metric",
          "model",
          "nonempirical",
          "process",
          "tool"
         ],
         "xaxis": "x",
         "y": [
          18,
          14,
          9,
          1,
          11,
          17,
          0,
          16,
          9
         ],
         "yaxis": "y"
        },
        {
         "alignmentgroup": "True",
         "hovertemplate": "research=validation<br>cont=%{x}<br>value=%{y}<extra></extra>",
         "legendgroup": "validation",
         "marker": {
          "color": "#ab63fa",
          "pattern": {
           "shape": ""
          }
         },
         "name": "validation",
         "offsetgroup": "validation",
         "orientation": "v",
         "showlegend": true,
         "textposition": "auto",
         "type": "bar",
         "x": [
          "approach",
          "casestudy",
          "experiment",
          "literature",
          "metric",
          "model",
          "nonempirical",
          "process",
          "tool"
         ],
         "xaxis": "x",
         "y": [
          3,
          3,
          2,
          0,
          1,
          2,
          0,
          3,
          1
         ],
         "yaxis": "y"
        }
       ],
       "layout": {
        "barmode": "relative",
        "legend": {
         "title": {
          "text": "research"
         },
         "tracegroupgap": 0
        },
        "margin": {
         "t": 60
        },
        "template": {
         "data": {
          "bar": [
           {
            "error_x": {
             "color": "#2a3f5f"
            },
            "error_y": {
             "color": "#2a3f5f"
            },
            "marker": {
             "line": {
              "color": "#E5ECF6",
              "width": 0.5
             },
             "pattern": {
              "fillmode": "overlay",
              "size": 10,
              "solidity": 0.2
             }
            },
            "type": "bar"
           }
          ],
          "barpolar": [
           {
            "marker": {
             "line": {
              "color": "#E5ECF6",
              "width": 0.5
             },
             "pattern": {
              "fillmode": "overlay",
              "size": 10,
              "solidity": 0.2
             }
            },
            "type": "barpolar"
           }
          ],
          "carpet": [
           {
            "aaxis": {
             "endlinecolor": "#2a3f5f",
             "gridcolor": "white",
             "linecolor": "white",
             "minorgridcolor": "white",
             "startlinecolor": "#2a3f5f"
            },
            "baxis": {
             "endlinecolor": "#2a3f5f",
             "gridcolor": "white",
             "linecolor": "white",
             "minorgridcolor": "white",
             "startlinecolor": "#2a3f5f"
            },
            "type": "carpet"
           }
          ],
          "choropleth": [
           {
            "colorbar": {
             "outlinewidth": 0,
             "ticks": ""
            },
            "type": "choropleth"
           }
          ],
          "contour": [
           {
            "colorbar": {
             "outlinewidth": 0,
             "ticks": ""
            },
            "colorscale": [
             [
              0,
              "#0d0887"
             ],
             [
              0.1111111111111111,
              "#46039f"
             ],
             [
              0.2222222222222222,
              "#7201a8"
             ],
             [
              0.3333333333333333,
              "#9c179e"
             ],
             [
              0.4444444444444444,
              "#bd3786"
             ],
             [
              0.5555555555555556,
              "#d8576b"
             ],
             [
              0.6666666666666666,
              "#ed7953"
             ],
             [
              0.7777777777777778,
              "#fb9f3a"
             ],
             [
              0.8888888888888888,
              "#fdca26"
             ],
             [
              1,
              "#f0f921"
             ]
            ],
            "type": "contour"
           }
          ],
          "contourcarpet": [
           {
            "colorbar": {
             "outlinewidth": 0,
             "ticks": ""
            },
            "type": "contourcarpet"
           }
          ],
          "heatmap": [
           {
            "colorbar": {
             "outlinewidth": 0,
             "ticks": ""
            },
            "colorscale": [
             [
              0,
              "#0d0887"
             ],
             [
              0.1111111111111111,
              "#46039f"
             ],
             [
              0.2222222222222222,
              "#7201a8"
             ],
             [
              0.3333333333333333,
              "#9c179e"
             ],
             [
              0.4444444444444444,
              "#bd3786"
             ],
             [
              0.5555555555555556,
              "#d8576b"
             ],
             [
              0.6666666666666666,
              "#ed7953"
             ],
             [
              0.7777777777777778,
              "#fb9f3a"
             ],
             [
              0.8888888888888888,
              "#fdca26"
             ],
             [
              1,
              "#f0f921"
             ]
            ],
            "type": "heatmap"
           }
          ],
          "heatmapgl": [
           {
            "colorbar": {
             "outlinewidth": 0,
             "ticks": ""
            },
            "colorscale": [
             [
              0,
              "#0d0887"
             ],
             [
              0.1111111111111111,
              "#46039f"
             ],
             [
              0.2222222222222222,
              "#7201a8"
             ],
             [
              0.3333333333333333,
              "#9c179e"
             ],
             [
              0.4444444444444444,
              "#bd3786"
             ],
             [
              0.5555555555555556,
              "#d8576b"
             ],
             [
              0.6666666666666666,
              "#ed7953"
             ],
             [
              0.7777777777777778,
              "#fb9f3a"
             ],
             [
              0.8888888888888888,
              "#fdca26"
             ],
             [
              1,
              "#f0f921"
             ]
            ],
            "type": "heatmapgl"
           }
          ],
          "histogram": [
           {
            "marker": {
             "pattern": {
              "fillmode": "overlay",
              "size": 10,
              "solidity": 0.2
             }
            },
            "type": "histogram"
           }
          ],
          "histogram2d": [
           {
            "colorbar": {
             "outlinewidth": 0,
             "ticks": ""
            },
            "colorscale": [
             [
              0,
              "#0d0887"
             ],
             [
              0.1111111111111111,
              "#46039f"
             ],
             [
              0.2222222222222222,
              "#7201a8"
             ],
             [
              0.3333333333333333,
              "#9c179e"
             ],
             [
              0.4444444444444444,
              "#bd3786"
             ],
             [
              0.5555555555555556,
              "#d8576b"
             ],
             [
              0.6666666666666666,
              "#ed7953"
             ],
             [
              0.7777777777777778,
              "#fb9f3a"
             ],
             [
              0.8888888888888888,
              "#fdca26"
             ],
             [
              1,
              "#f0f921"
             ]
            ],
            "type": "histogram2d"
           }
          ],
          "histogram2dcontour": [
           {
            "colorbar": {
             "outlinewidth": 0,
             "ticks": ""
            },
            "colorscale": [
             [
              0,
              "#0d0887"
             ],
             [
              0.1111111111111111,
              "#46039f"
             ],
             [
              0.2222222222222222,
              "#7201a8"
             ],
             [
              0.3333333333333333,
              "#9c179e"
             ],
             [
              0.4444444444444444,
              "#bd3786"
             ],
             [
              0.5555555555555556,
              "#d8576b"
             ],
             [
              0.6666666666666666,
              "#ed7953"
             ],
             [
              0.7777777777777778,
              "#fb9f3a"
             ],
             [
              0.8888888888888888,
              "#fdca26"
             ],
             [
              1,
              "#f0f921"
             ]
            ],
            "type": "histogram2dcontour"
           }
          ],
          "mesh3d": [
           {
            "colorbar": {
             "outlinewidth": 0,
             "ticks": ""
            },
            "type": "mesh3d"
           }
          ],
          "parcoords": [
           {
            "line": {
             "colorbar": {
              "outlinewidth": 0,
              "ticks": ""
             }
            },
            "type": "parcoords"
           }
          ],
          "pie": [
           {
            "automargin": true,
            "type": "pie"
           }
          ],
          "scatter": [
           {
            "fillpattern": {
             "fillmode": "overlay",
             "size": 10,
             "solidity": 0.2
            },
            "type": "scatter"
           }
          ],
          "scatter3d": [
           {
            "line": {
             "colorbar": {
              "outlinewidth": 0,
              "ticks": ""
             }
            },
            "marker": {
             "colorbar": {
              "outlinewidth": 0,
              "ticks": ""
             }
            },
            "type": "scatter3d"
           }
          ],
          "scattercarpet": [
           {
            "marker": {
             "colorbar": {
              "outlinewidth": 0,
              "ticks": ""
             }
            },
            "type": "scattercarpet"
           }
          ],
          "scattergeo": [
           {
            "marker": {
             "colorbar": {
              "outlinewidth": 0,
              "ticks": ""
             }
            },
            "type": "scattergeo"
           }
          ],
          "scattergl": [
           {
            "marker": {
             "colorbar": {
              "outlinewidth": 0,
              "ticks": ""
             }
            },
            "type": "scattergl"
           }
          ],
          "scattermapbox": [
           {
            "marker": {
             "colorbar": {
              "outlinewidth": 0,
              "ticks": ""
             }
            },
            "type": "scattermapbox"
           }
          ],
          "scatterpolar": [
           {
            "marker": {
             "colorbar": {
              "outlinewidth": 0,
              "ticks": ""
             }
            },
            "type": "scatterpolar"
           }
          ],
          "scatterpolargl": [
           {
            "marker": {
             "colorbar": {
              "outlinewidth": 0,
              "ticks": ""
             }
            },
            "type": "scatterpolargl"
           }
          ],
          "scatterternary": [
           {
            "marker": {
             "colorbar": {
              "outlinewidth": 0,
              "ticks": ""
             }
            },
            "type": "scatterternary"
           }
          ],
          "surface": [
           {
            "colorbar": {
             "outlinewidth": 0,
             "ticks": ""
            },
            "colorscale": [
             [
              0,
              "#0d0887"
             ],
             [
              0.1111111111111111,
              "#46039f"
             ],
             [
              0.2222222222222222,
              "#7201a8"
             ],
             [
              0.3333333333333333,
              "#9c179e"
             ],
             [
              0.4444444444444444,
              "#bd3786"
             ],
             [
              0.5555555555555556,
              "#d8576b"
             ],
             [
              0.6666666666666666,
              "#ed7953"
             ],
             [
              0.7777777777777778,
              "#fb9f3a"
             ],
             [
              0.8888888888888888,
              "#fdca26"
             ],
             [
              1,
              "#f0f921"
             ]
            ],
            "type": "surface"
           }
          ],
          "table": [
           {
            "cells": {
             "fill": {
              "color": "#EBF0F8"
             },
             "line": {
              "color": "white"
             }
            },
            "header": {
             "fill": {
              "color": "#C8D4E3"
             },
             "line": {
              "color": "white"
             }
            },
            "type": "table"
           }
          ]
         },
         "layout": {
          "annotationdefaults": {
           "arrowcolor": "#2a3f5f",
           "arrowhead": 0,
           "arrowwidth": 1
          },
          "autotypenumbers": "strict",
          "coloraxis": {
           "colorbar": {
            "outlinewidth": 0,
            "ticks": ""
           }
          },
          "colorscale": {
           "diverging": [
            [
             0,
             "#8e0152"
            ],
            [
             0.1,
             "#c51b7d"
            ],
            [
             0.2,
             "#de77ae"
            ],
            [
             0.3,
             "#f1b6da"
            ],
            [
             0.4,
             "#fde0ef"
            ],
            [
             0.5,
             "#f7f7f7"
            ],
            [
             0.6,
             "#e6f5d0"
            ],
            [
             0.7,
             "#b8e186"
            ],
            [
             0.8,
             "#7fbc41"
            ],
            [
             0.9,
             "#4d9221"
            ],
            [
             1,
             "#276419"
            ]
           ],
           "sequential": [
            [
             0,
             "#0d0887"
            ],
            [
             0.1111111111111111,
             "#46039f"
            ],
            [
             0.2222222222222222,
             "#7201a8"
            ],
            [
             0.3333333333333333,
             "#9c179e"
            ],
            [
             0.4444444444444444,
             "#bd3786"
            ],
            [
             0.5555555555555556,
             "#d8576b"
            ],
            [
             0.6666666666666666,
             "#ed7953"
            ],
            [
             0.7777777777777778,
             "#fb9f3a"
            ],
            [
             0.8888888888888888,
             "#fdca26"
            ],
            [
             1,
             "#f0f921"
            ]
           ],
           "sequentialminus": [
            [
             0,
             "#0d0887"
            ],
            [
             0.1111111111111111,
             "#46039f"
            ],
            [
             0.2222222222222222,
             "#7201a8"
            ],
            [
             0.3333333333333333,
             "#9c179e"
            ],
            [
             0.4444444444444444,
             "#bd3786"
            ],
            [
             0.5555555555555556,
             "#d8576b"
            ],
            [
             0.6666666666666666,
             "#ed7953"
            ],
            [
             0.7777777777777778,
             "#fb9f3a"
            ],
            [
             0.8888888888888888,
             "#fdca26"
            ],
            [
             1,
             "#f0f921"
            ]
           ]
          },
          "colorway": [
           "#636efa",
           "#EF553B",
           "#00cc96",
           "#ab63fa",
           "#FFA15A",
           "#19d3f3",
           "#FF6692",
           "#B6E880",
           "#FF97FF",
           "#FECB52"
          ],
          "font": {
           "color": "#2a3f5f"
          },
          "geo": {
           "bgcolor": "white",
           "lakecolor": "white",
           "landcolor": "#E5ECF6",
           "showlakes": true,
           "showland": true,
           "subunitcolor": "white"
          },
          "hoverlabel": {
           "align": "left"
          },
          "hovermode": "closest",
          "mapbox": {
           "style": "light"
          },
          "paper_bgcolor": "white",
          "plot_bgcolor": "#E5ECF6",
          "polar": {
           "angularaxis": {
            "gridcolor": "white",
            "linecolor": "white",
            "ticks": ""
           },
           "bgcolor": "#E5ECF6",
           "radialaxis": {
            "gridcolor": "white",
            "linecolor": "white",
            "ticks": ""
           }
          },
          "scene": {
           "xaxis": {
            "backgroundcolor": "#E5ECF6",
            "gridcolor": "white",
            "gridwidth": 2,
            "linecolor": "white",
            "showbackground": true,
            "ticks": "",
            "zerolinecolor": "white"
           },
           "yaxis": {
            "backgroundcolor": "#E5ECF6",
            "gridcolor": "white",
            "gridwidth": 2,
            "linecolor": "white",
            "showbackground": true,
            "ticks": "",
            "zerolinecolor": "white"
           },
           "zaxis": {
            "backgroundcolor": "#E5ECF6",
            "gridcolor": "white",
            "gridwidth": 2,
            "linecolor": "white",
            "showbackground": true,
            "ticks": "",
            "zerolinecolor": "white"
           }
          },
          "shapedefaults": {
           "line": {
            "color": "#2a3f5f"
           }
          },
          "ternary": {
           "aaxis": {
            "gridcolor": "white",
            "linecolor": "white",
            "ticks": ""
           },
           "baxis": {
            "gridcolor": "white",
            "linecolor": "white",
            "ticks": ""
           },
           "bgcolor": "#E5ECF6",
           "caxis": {
            "gridcolor": "white",
            "linecolor": "white",
            "ticks": ""
           }
          },
          "title": {
           "x": 0.05
          },
          "xaxis": {
           "automargin": true,
           "gridcolor": "white",
           "linecolor": "white",
           "ticks": "",
           "title": {
            "standoff": 15
           },
           "zerolinecolor": "white",
           "zerolinewidth": 2
          },
          "yaxis": {
           "automargin": true,
           "gridcolor": "white",
           "linecolor": "white",
           "ticks": "",
           "title": {
            "standoff": 15
           },
           "zerolinecolor": "white",
           "zerolinewidth": 2
          }
         }
        },
        "xaxis": {
         "anchor": "y",
         "domain": [
          0,
          1
         ],
         "title": {
          "text": "cont"
         }
        },
        "yaxis": {
         "anchor": "x",
         "domain": [
          0,
          1
         ],
         "title": {
          "text": "value"
         }
        }
       }
      },
      "text/html": [
       "<div>                            <div id=\"044fa42b-0dd7-4b37-845a-f79f7552c4a3\" class=\"plotly-graph-div\" style=\"height:525px; width:100%;\"></div>            <script type=\"text/javascript\">                require([\"plotly\"], function(Plotly) {                    window.PLOTLYENV=window.PLOTLYENV || {};                                    if (document.getElementById(\"044fa42b-0dd7-4b37-845a-f79f7552c4a3\")) {                    Plotly.newPlot(                        \"044fa42b-0dd7-4b37-845a-f79f7552c4a3\",                        [{\"alignmentgroup\":\"True\",\"hovertemplate\":\"research=evaluation<br>cont=%{x}<br>value=%{y}<extra></extra>\",\"legendgroup\":\"evaluation\",\"marker\":{\"color\":\"#636efa\",\"pattern\":{\"shape\":\"\"}},\"name\":\"evaluation\",\"offsetgroup\":\"evaluation\",\"orientation\":\"v\",\"showlegend\":true,\"textposition\":\"auto\",\"x\":[\"approach\",\"casestudy\",\"experiment\",\"literature\",\"metric\",\"model\",\"nonempirical\",\"process\",\"tool\"],\"xaxis\":\"x\",\"y\":[10,5,3,4,6,9,1,10,4],\"yaxis\":\"y\",\"type\":\"bar\"},{\"alignmentgroup\":\"True\",\"hovertemplate\":\"research=philosophical<br>cont=%{x}<br>value=%{y}<extra></extra>\",\"legendgroup\":\"philosophical\",\"marker\":{\"color\":\"#EF553B\",\"pattern\":{\"shape\":\"\"}},\"name\":\"philosophical\",\"offsetgroup\":\"philosophical\",\"orientation\":\"v\",\"showlegend\":true,\"textposition\":\"auto\",\"x\":[\"approach\",\"casestudy\",\"experiment\",\"literature\",\"metric\",\"model\",\"nonempirical\",\"process\",\"tool\"],\"xaxis\":\"x\",\"y\":[18,8,1,7,5,18,6,17,4],\"yaxis\":\"y\",\"type\":\"bar\"},{\"alignmentgroup\":\"True\",\"hovertemplate\":\"research=solution<br>cont=%{x}<br>value=%{y}<extra></extra>\",\"legendgroup\":\"solution\",\"marker\":{\"color\":\"#00cc96\",\"pattern\":{\"shape\":\"\"}},\"name\":\"solution\",\"offsetgroup\":\"solution\",\"orientation\":\"v\",\"showlegend\":true,\"textposition\":\"auto\",\"x\":[\"approach\",\"casestudy\",\"experiment\",\"literature\",\"metric\",\"model\",\"nonempirical\",\"process\",\"tool\"],\"xaxis\":\"x\",\"y\":[18,14,9,1,11,17,0,16,9],\"yaxis\":\"y\",\"type\":\"bar\"},{\"alignmentgroup\":\"True\",\"hovertemplate\":\"research=validation<br>cont=%{x}<br>value=%{y}<extra></extra>\",\"legendgroup\":\"validation\",\"marker\":{\"color\":\"#ab63fa\",\"pattern\":{\"shape\":\"\"}},\"name\":\"validation\",\"offsetgroup\":\"validation\",\"orientation\":\"v\",\"showlegend\":true,\"textposition\":\"auto\",\"x\":[\"approach\",\"casestudy\",\"experiment\",\"literature\",\"metric\",\"model\",\"nonempirical\",\"process\",\"tool\"],\"xaxis\":\"x\",\"y\":[3,3,2,0,1,2,0,3,1],\"yaxis\":\"y\",\"type\":\"bar\"}],                        {\"template\":{\"data\":{\"histogram2dcontour\":[{\"type\":\"histogram2dcontour\",\"colorbar\":{\"outlinewidth\":0,\"ticks\":\"\"},\"colorscale\":[[0.0,\"#0d0887\"],[0.1111111111111111,\"#46039f\"],[0.2222222222222222,\"#7201a8\"],[0.3333333333333333,\"#9c179e\"],[0.4444444444444444,\"#bd3786\"],[0.5555555555555556,\"#d8576b\"],[0.6666666666666666,\"#ed7953\"],[0.7777777777777778,\"#fb9f3a\"],[0.8888888888888888,\"#fdca26\"],[1.0,\"#f0f921\"]]}],\"choropleth\":[{\"type\":\"choropleth\",\"colorbar\":{\"outlinewidth\":0,\"ticks\":\"\"}}],\"histogram2d\":[{\"type\":\"histogram2d\",\"colorbar\":{\"outlinewidth\":0,\"ticks\":\"\"},\"colorscale\":[[0.0,\"#0d0887\"],[0.1111111111111111,\"#46039f\"],[0.2222222222222222,\"#7201a8\"],[0.3333333333333333,\"#9c179e\"],[0.4444444444444444,\"#bd3786\"],[0.5555555555555556,\"#d8576b\"],[0.6666666666666666,\"#ed7953\"],[0.7777777777777778,\"#fb9f3a\"],[0.8888888888888888,\"#fdca26\"],[1.0,\"#f0f921\"]]}],\"heatmap\":[{\"type\":\"heatmap\",\"colorbar\":{\"outlinewidth\":0,\"ticks\":\"\"},\"colorscale\":[[0.0,\"#0d0887\"],[0.1111111111111111,\"#46039f\"],[0.2222222222222222,\"#7201a8\"],[0.3333333333333333,\"#9c179e\"],[0.4444444444444444,\"#bd3786\"],[0.5555555555555556,\"#d8576b\"],[0.6666666666666666,\"#ed7953\"],[0.7777777777777778,\"#fb9f3a\"],[0.8888888888888888,\"#fdca26\"],[1.0,\"#f0f921\"]]}],\"heatmapgl\":[{\"type\":\"heatmapgl\",\"colorbar\":{\"outlinewidth\":0,\"ticks\":\"\"},\"colorscale\":[[0.0,\"#0d0887\"],[0.1111111111111111,\"#46039f\"],[0.2222222222222222,\"#7201a8\"],[0.3333333333333333,\"#9c179e\"],[0.4444444444444444,\"#bd3786\"],[0.5555555555555556,\"#d8576b\"],[0.6666666666666666,\"#ed7953\"],[0.7777777777777778,\"#fb9f3a\"],[0.8888888888888888,\"#fdca26\"],[1.0,\"#f0f921\"]]}],\"contourcarpet\":[{\"type\":\"contourcarpet\",\"colorbar\":{\"outlinewidth\":0,\"ticks\":\"\"}}],\"contour\":[{\"type\":\"contour\",\"colorbar\":{\"outlinewidth\":0,\"ticks\":\"\"},\"colorscale\":[[0.0,\"#0d0887\"],[0.1111111111111111,\"#46039f\"],[0.2222222222222222,\"#7201a8\"],[0.3333333333333333,\"#9c179e\"],[0.4444444444444444,\"#bd3786\"],[0.5555555555555556,\"#d8576b\"],[0.6666666666666666,\"#ed7953\"],[0.7777777777777778,\"#fb9f3a\"],[0.8888888888888888,\"#fdca26\"],[1.0,\"#f0f921\"]]}],\"surface\":[{\"type\":\"surface\",\"colorbar\":{\"outlinewidth\":0,\"ticks\":\"\"},\"colorscale\":[[0.0,\"#0d0887\"],[0.1111111111111111,\"#46039f\"],[0.2222222222222222,\"#7201a8\"],[0.3333333333333333,\"#9c179e\"],[0.4444444444444444,\"#bd3786\"],[0.5555555555555556,\"#d8576b\"],[0.6666666666666666,\"#ed7953\"],[0.7777777777777778,\"#fb9f3a\"],[0.8888888888888888,\"#fdca26\"],[1.0,\"#f0f921\"]]}],\"mesh3d\":[{\"type\":\"mesh3d\",\"colorbar\":{\"outlinewidth\":0,\"ticks\":\"\"}}],\"scatter\":[{\"fillpattern\":{\"fillmode\":\"overlay\",\"size\":10,\"solidity\":0.2},\"type\":\"scatter\"}],\"parcoords\":[{\"type\":\"parcoords\",\"line\":{\"colorbar\":{\"outlinewidth\":0,\"ticks\":\"\"}}}],\"scatterpolargl\":[{\"type\":\"scatterpolargl\",\"marker\":{\"colorbar\":{\"outlinewidth\":0,\"ticks\":\"\"}}}],\"bar\":[{\"error_x\":{\"color\":\"#2a3f5f\"},\"error_y\":{\"color\":\"#2a3f5f\"},\"marker\":{\"line\":{\"color\":\"#E5ECF6\",\"width\":0.5},\"pattern\":{\"fillmode\":\"overlay\",\"size\":10,\"solidity\":0.2}},\"type\":\"bar\"}],\"scattergeo\":[{\"type\":\"scattergeo\",\"marker\":{\"colorbar\":{\"outlinewidth\":0,\"ticks\":\"\"}}}],\"scatterpolar\":[{\"type\":\"scatterpolar\",\"marker\":{\"colorbar\":{\"outlinewidth\":0,\"ticks\":\"\"}}}],\"histogram\":[{\"marker\":{\"pattern\":{\"fillmode\":\"overlay\",\"size\":10,\"solidity\":0.2}},\"type\":\"histogram\"}],\"scattergl\":[{\"type\":\"scattergl\",\"marker\":{\"colorbar\":{\"outlinewidth\":0,\"ticks\":\"\"}}}],\"scatter3d\":[{\"type\":\"scatter3d\",\"line\":{\"colorbar\":{\"outlinewidth\":0,\"ticks\":\"\"}},\"marker\":{\"colorbar\":{\"outlinewidth\":0,\"ticks\":\"\"}}}],\"scattermapbox\":[{\"type\":\"scattermapbox\",\"marker\":{\"colorbar\":{\"outlinewidth\":0,\"ticks\":\"\"}}}],\"scatterternary\":[{\"type\":\"scatterternary\",\"marker\":{\"colorbar\":{\"outlinewidth\":0,\"ticks\":\"\"}}}],\"scattercarpet\":[{\"type\":\"scattercarpet\",\"marker\":{\"colorbar\":{\"outlinewidth\":0,\"ticks\":\"\"}}}],\"carpet\":[{\"aaxis\":{\"endlinecolor\":\"#2a3f5f\",\"gridcolor\":\"white\",\"linecolor\":\"white\",\"minorgridcolor\":\"white\",\"startlinecolor\":\"#2a3f5f\"},\"baxis\":{\"endlinecolor\":\"#2a3f5f\",\"gridcolor\":\"white\",\"linecolor\":\"white\",\"minorgridcolor\":\"white\",\"startlinecolor\":\"#2a3f5f\"},\"type\":\"carpet\"}],\"table\":[{\"cells\":{\"fill\":{\"color\":\"#EBF0F8\"},\"line\":{\"color\":\"white\"}},\"header\":{\"fill\":{\"color\":\"#C8D4E3\"},\"line\":{\"color\":\"white\"}},\"type\":\"table\"}],\"barpolar\":[{\"marker\":{\"line\":{\"color\":\"#E5ECF6\",\"width\":0.5},\"pattern\":{\"fillmode\":\"overlay\",\"size\":10,\"solidity\":0.2}},\"type\":\"barpolar\"}],\"pie\":[{\"automargin\":true,\"type\":\"pie\"}]},\"layout\":{\"autotypenumbers\":\"strict\",\"colorway\":[\"#636efa\",\"#EF553B\",\"#00cc96\",\"#ab63fa\",\"#FFA15A\",\"#19d3f3\",\"#FF6692\",\"#B6E880\",\"#FF97FF\",\"#FECB52\"],\"font\":{\"color\":\"#2a3f5f\"},\"hovermode\":\"closest\",\"hoverlabel\":{\"align\":\"left\"},\"paper_bgcolor\":\"white\",\"plot_bgcolor\":\"#E5ECF6\",\"polar\":{\"bgcolor\":\"#E5ECF6\",\"angularaxis\":{\"gridcolor\":\"white\",\"linecolor\":\"white\",\"ticks\":\"\"},\"radialaxis\":{\"gridcolor\":\"white\",\"linecolor\":\"white\",\"ticks\":\"\"}},\"ternary\":{\"bgcolor\":\"#E5ECF6\",\"aaxis\":{\"gridcolor\":\"white\",\"linecolor\":\"white\",\"ticks\":\"\"},\"baxis\":{\"gridcolor\":\"white\",\"linecolor\":\"white\",\"ticks\":\"\"},\"caxis\":{\"gridcolor\":\"white\",\"linecolor\":\"white\",\"ticks\":\"\"}},\"coloraxis\":{\"colorbar\":{\"outlinewidth\":0,\"ticks\":\"\"}},\"colorscale\":{\"sequential\":[[0.0,\"#0d0887\"],[0.1111111111111111,\"#46039f\"],[0.2222222222222222,\"#7201a8\"],[0.3333333333333333,\"#9c179e\"],[0.4444444444444444,\"#bd3786\"],[0.5555555555555556,\"#d8576b\"],[0.6666666666666666,\"#ed7953\"],[0.7777777777777778,\"#fb9f3a\"],[0.8888888888888888,\"#fdca26\"],[1.0,\"#f0f921\"]],\"sequentialminus\":[[0.0,\"#0d0887\"],[0.1111111111111111,\"#46039f\"],[0.2222222222222222,\"#7201a8\"],[0.3333333333333333,\"#9c179e\"],[0.4444444444444444,\"#bd3786\"],[0.5555555555555556,\"#d8576b\"],[0.6666666666666666,\"#ed7953\"],[0.7777777777777778,\"#fb9f3a\"],[0.8888888888888888,\"#fdca26\"],[1.0,\"#f0f921\"]],\"diverging\":[[0,\"#8e0152\"],[0.1,\"#c51b7d\"],[0.2,\"#de77ae\"],[0.3,\"#f1b6da\"],[0.4,\"#fde0ef\"],[0.5,\"#f7f7f7\"],[0.6,\"#e6f5d0\"],[0.7,\"#b8e186\"],[0.8,\"#7fbc41\"],[0.9,\"#4d9221\"],[1,\"#276419\"]]},\"xaxis\":{\"gridcolor\":\"white\",\"linecolor\":\"white\",\"ticks\":\"\",\"title\":{\"standoff\":15},\"zerolinecolor\":\"white\",\"automargin\":true,\"zerolinewidth\":2},\"yaxis\":{\"gridcolor\":\"white\",\"linecolor\":\"white\",\"ticks\":\"\",\"title\":{\"standoff\":15},\"zerolinecolor\":\"white\",\"automargin\":true,\"zerolinewidth\":2},\"scene\":{\"xaxis\":{\"backgroundcolor\":\"#E5ECF6\",\"gridcolor\":\"white\",\"linecolor\":\"white\",\"showbackground\":true,\"ticks\":\"\",\"zerolinecolor\":\"white\",\"gridwidth\":2},\"yaxis\":{\"backgroundcolor\":\"#E5ECF6\",\"gridcolor\":\"white\",\"linecolor\":\"white\",\"showbackground\":true,\"ticks\":\"\",\"zerolinecolor\":\"white\",\"gridwidth\":2},\"zaxis\":{\"backgroundcolor\":\"#E5ECF6\",\"gridcolor\":\"white\",\"linecolor\":\"white\",\"showbackground\":true,\"ticks\":\"\",\"zerolinecolor\":\"white\",\"gridwidth\":2}},\"shapedefaults\":{\"line\":{\"color\":\"#2a3f5f\"}},\"annotationdefaults\":{\"arrowcolor\":\"#2a3f5f\",\"arrowhead\":0,\"arrowwidth\":1},\"geo\":{\"bgcolor\":\"white\",\"landcolor\":\"#E5ECF6\",\"subunitcolor\":\"white\",\"showland\":true,\"showlakes\":true,\"lakecolor\":\"white\"},\"title\":{\"x\":0.05},\"mapbox\":{\"style\":\"light\"}}},\"xaxis\":{\"anchor\":\"y\",\"domain\":[0.0,1.0],\"title\":{\"text\":\"cont\"}},\"yaxis\":{\"anchor\":\"x\",\"domain\":[0.0,1.0],\"title\":{\"text\":\"value\"}},\"legend\":{\"title\":{\"text\":\"research\"},\"tracegroupgap\":0},\"margin\":{\"t\":60},\"barmode\":\"relative\"},                        {\"responsive\": true}                    ).then(function(){\n",
       "                            \n",
       "var gd = document.getElementById('044fa42b-0dd7-4b37-845a-f79f7552c4a3');\n",
       "var x = new MutationObserver(function (mutations, observer) {{\n",
       "        var display = window.getComputedStyle(gd).display;\n",
       "        if (!display || display === 'none') {{\n",
       "            console.log([gd, 'removed!']);\n",
       "            Plotly.purge(gd);\n",
       "            observer.disconnect();\n",
       "        }}\n",
       "}});\n",
       "\n",
       "// Listen for the removal of the full notebook cells\n",
       "var notebookContainer = gd.closest('#notebook-container');\n",
       "if (notebookContainer) {{\n",
       "    x.observe(notebookContainer, {childList: true});\n",
       "}}\n",
       "\n",
       "// Listen for the clearing of the current output cell\n",
       "var outputEl = gd.closest('.output');\n",
       "if (outputEl) {{\n",
       "    x.observe(outputEl, {childList: true});\n",
       "}}\n",
       "\n",
       "                        })                };                });            </script>        </div>"
      ]
     },
     "metadata": {},
     "output_type": "display_data"
    }
   ],
   "source": [
    "fig = px.bar(ct)  #, barmode='group')\n",
    "fig.show()"
   ]
  },
  {
   "cell_type": "code",
   "execution_count": 43,
   "metadata": {
    "ExecuteTime": {
     "end_time": "2022-12-23T18:55:08.816673Z",
     "start_time": "2022-12-23T18:55:08.809597Z"
    }
   },
   "outputs": [
    {
     "data": {
      "application/vnd.plotly.v1+json": {
       "config": {
        "plotlyServerURL": "https://plot.ly"
       },
       "data": [
        {
         "name": "evaluation",
         "type": "bar",
         "x": [
          "approach",
          "casestudy",
          "experiment",
          "literature",
          "metric",
          "model",
          "nonempirical",
          "process",
          "tool"
         ],
         "y": [
          10,
          5,
          3,
          4,
          6,
          9,
          1,
          10,
          4
         ]
        },
        {
         "name": "philosophical",
         "type": "bar",
         "x": [
          "approach",
          "casestudy",
          "experiment",
          "literature",
          "metric",
          "model",
          "nonempirical",
          "process",
          "tool"
         ],
         "y": [
          18,
          8,
          1,
          7,
          5,
          18,
          6,
          17,
          4
         ]
        },
        {
         "name": "solution",
         "type": "bar",
         "x": [
          "approach",
          "casestudy",
          "experiment",
          "literature",
          "metric",
          "model",
          "nonempirical",
          "process",
          "tool"
         ],
         "y": [
          18,
          14,
          9,
          1,
          11,
          17,
          0,
          16,
          9
         ]
        },
        {
         "name": "validation",
         "type": "bar",
         "x": [
          "approach",
          "casestudy",
          "experiment",
          "literature",
          "metric",
          "model",
          "nonempirical",
          "process",
          "tool"
         ],
         "y": [
          3,
          3,
          2,
          0,
          1,
          2,
          0,
          3,
          1
         ]
        }
       ],
       "layout": {
        "template": {
         "data": {
          "bar": [
           {
            "error_x": {
             "color": "#2a3f5f"
            },
            "error_y": {
             "color": "#2a3f5f"
            },
            "marker": {
             "line": {
              "color": "#E5ECF6",
              "width": 0.5
             },
             "pattern": {
              "fillmode": "overlay",
              "size": 10,
              "solidity": 0.2
             }
            },
            "type": "bar"
           }
          ],
          "barpolar": [
           {
            "marker": {
             "line": {
              "color": "#E5ECF6",
              "width": 0.5
             },
             "pattern": {
              "fillmode": "overlay",
              "size": 10,
              "solidity": 0.2
             }
            },
            "type": "barpolar"
           }
          ],
          "carpet": [
           {
            "aaxis": {
             "endlinecolor": "#2a3f5f",
             "gridcolor": "white",
             "linecolor": "white",
             "minorgridcolor": "white",
             "startlinecolor": "#2a3f5f"
            },
            "baxis": {
             "endlinecolor": "#2a3f5f",
             "gridcolor": "white",
             "linecolor": "white",
             "minorgridcolor": "white",
             "startlinecolor": "#2a3f5f"
            },
            "type": "carpet"
           }
          ],
          "choropleth": [
           {
            "colorbar": {
             "outlinewidth": 0,
             "ticks": ""
            },
            "type": "choropleth"
           }
          ],
          "contour": [
           {
            "colorbar": {
             "outlinewidth": 0,
             "ticks": ""
            },
            "colorscale": [
             [
              0,
              "#0d0887"
             ],
             [
              0.1111111111111111,
              "#46039f"
             ],
             [
              0.2222222222222222,
              "#7201a8"
             ],
             [
              0.3333333333333333,
              "#9c179e"
             ],
             [
              0.4444444444444444,
              "#bd3786"
             ],
             [
              0.5555555555555556,
              "#d8576b"
             ],
             [
              0.6666666666666666,
              "#ed7953"
             ],
             [
              0.7777777777777778,
              "#fb9f3a"
             ],
             [
              0.8888888888888888,
              "#fdca26"
             ],
             [
              1,
              "#f0f921"
             ]
            ],
            "type": "contour"
           }
          ],
          "contourcarpet": [
           {
            "colorbar": {
             "outlinewidth": 0,
             "ticks": ""
            },
            "type": "contourcarpet"
           }
          ],
          "heatmap": [
           {
            "colorbar": {
             "outlinewidth": 0,
             "ticks": ""
            },
            "colorscale": [
             [
              0,
              "#0d0887"
             ],
             [
              0.1111111111111111,
              "#46039f"
             ],
             [
              0.2222222222222222,
              "#7201a8"
             ],
             [
              0.3333333333333333,
              "#9c179e"
             ],
             [
              0.4444444444444444,
              "#bd3786"
             ],
             [
              0.5555555555555556,
              "#d8576b"
             ],
             [
              0.6666666666666666,
              "#ed7953"
             ],
             [
              0.7777777777777778,
              "#fb9f3a"
             ],
             [
              0.8888888888888888,
              "#fdca26"
             ],
             [
              1,
              "#f0f921"
             ]
            ],
            "type": "heatmap"
           }
          ],
          "heatmapgl": [
           {
            "colorbar": {
             "outlinewidth": 0,
             "ticks": ""
            },
            "colorscale": [
             [
              0,
              "#0d0887"
             ],
             [
              0.1111111111111111,
              "#46039f"
             ],
             [
              0.2222222222222222,
              "#7201a8"
             ],
             [
              0.3333333333333333,
              "#9c179e"
             ],
             [
              0.4444444444444444,
              "#bd3786"
             ],
             [
              0.5555555555555556,
              "#d8576b"
             ],
             [
              0.6666666666666666,
              "#ed7953"
             ],
             [
              0.7777777777777778,
              "#fb9f3a"
             ],
             [
              0.8888888888888888,
              "#fdca26"
             ],
             [
              1,
              "#f0f921"
             ]
            ],
            "type": "heatmapgl"
           }
          ],
          "histogram": [
           {
            "marker": {
             "pattern": {
              "fillmode": "overlay",
              "size": 10,
              "solidity": 0.2
             }
            },
            "type": "histogram"
           }
          ],
          "histogram2d": [
           {
            "colorbar": {
             "outlinewidth": 0,
             "ticks": ""
            },
            "colorscale": [
             [
              0,
              "#0d0887"
             ],
             [
              0.1111111111111111,
              "#46039f"
             ],
             [
              0.2222222222222222,
              "#7201a8"
             ],
             [
              0.3333333333333333,
              "#9c179e"
             ],
             [
              0.4444444444444444,
              "#bd3786"
             ],
             [
              0.5555555555555556,
              "#d8576b"
             ],
             [
              0.6666666666666666,
              "#ed7953"
             ],
             [
              0.7777777777777778,
              "#fb9f3a"
             ],
             [
              0.8888888888888888,
              "#fdca26"
             ],
             [
              1,
              "#f0f921"
             ]
            ],
            "type": "histogram2d"
           }
          ],
          "histogram2dcontour": [
           {
            "colorbar": {
             "outlinewidth": 0,
             "ticks": ""
            },
            "colorscale": [
             [
              0,
              "#0d0887"
             ],
             [
              0.1111111111111111,
              "#46039f"
             ],
             [
              0.2222222222222222,
              "#7201a8"
             ],
             [
              0.3333333333333333,
              "#9c179e"
             ],
             [
              0.4444444444444444,
              "#bd3786"
             ],
             [
              0.5555555555555556,
              "#d8576b"
             ],
             [
              0.6666666666666666,
              "#ed7953"
             ],
             [
              0.7777777777777778,
              "#fb9f3a"
             ],
             [
              0.8888888888888888,
              "#fdca26"
             ],
             [
              1,
              "#f0f921"
             ]
            ],
            "type": "histogram2dcontour"
           }
          ],
          "mesh3d": [
           {
            "colorbar": {
             "outlinewidth": 0,
             "ticks": ""
            },
            "type": "mesh3d"
           }
          ],
          "parcoords": [
           {
            "line": {
             "colorbar": {
              "outlinewidth": 0,
              "ticks": ""
             }
            },
            "type": "parcoords"
           }
          ],
          "pie": [
           {
            "automargin": true,
            "type": "pie"
           }
          ],
          "scatter": [
           {
            "fillpattern": {
             "fillmode": "overlay",
             "size": 10,
             "solidity": 0.2
            },
            "type": "scatter"
           }
          ],
          "scatter3d": [
           {
            "line": {
             "colorbar": {
              "outlinewidth": 0,
              "ticks": ""
             }
            },
            "marker": {
             "colorbar": {
              "outlinewidth": 0,
              "ticks": ""
             }
            },
            "type": "scatter3d"
           }
          ],
          "scattercarpet": [
           {
            "marker": {
             "colorbar": {
              "outlinewidth": 0,
              "ticks": ""
             }
            },
            "type": "scattercarpet"
           }
          ],
          "scattergeo": [
           {
            "marker": {
             "colorbar": {
              "outlinewidth": 0,
              "ticks": ""
             }
            },
            "type": "scattergeo"
           }
          ],
          "scattergl": [
           {
            "marker": {
             "colorbar": {
              "outlinewidth": 0,
              "ticks": ""
             }
            },
            "type": "scattergl"
           }
          ],
          "scattermapbox": [
           {
            "marker": {
             "colorbar": {
              "outlinewidth": 0,
              "ticks": ""
             }
            },
            "type": "scattermapbox"
           }
          ],
          "scatterpolar": [
           {
            "marker": {
             "colorbar": {
              "outlinewidth": 0,
              "ticks": ""
             }
            },
            "type": "scatterpolar"
           }
          ],
          "scatterpolargl": [
           {
            "marker": {
             "colorbar": {
              "outlinewidth": 0,
              "ticks": ""
             }
            },
            "type": "scatterpolargl"
           }
          ],
          "scatterternary": [
           {
            "marker": {
             "colorbar": {
              "outlinewidth": 0,
              "ticks": ""
             }
            },
            "type": "scatterternary"
           }
          ],
          "surface": [
           {
            "colorbar": {
             "outlinewidth": 0,
             "ticks": ""
            },
            "colorscale": [
             [
              0,
              "#0d0887"
             ],
             [
              0.1111111111111111,
              "#46039f"
             ],
             [
              0.2222222222222222,
              "#7201a8"
             ],
             [
              0.3333333333333333,
              "#9c179e"
             ],
             [
              0.4444444444444444,
              "#bd3786"
             ],
             [
              0.5555555555555556,
              "#d8576b"
             ],
             [
              0.6666666666666666,
              "#ed7953"
             ],
             [
              0.7777777777777778,
              "#fb9f3a"
             ],
             [
              0.8888888888888888,
              "#fdca26"
             ],
             [
              1,
              "#f0f921"
             ]
            ],
            "type": "surface"
           }
          ],
          "table": [
           {
            "cells": {
             "fill": {
              "color": "#EBF0F8"
             },
             "line": {
              "color": "white"
             }
            },
            "header": {
             "fill": {
              "color": "#C8D4E3"
             },
             "line": {
              "color": "white"
             }
            },
            "type": "table"
           }
          ]
         },
         "layout": {
          "annotationdefaults": {
           "arrowcolor": "#2a3f5f",
           "arrowhead": 0,
           "arrowwidth": 1
          },
          "autotypenumbers": "strict",
          "coloraxis": {
           "colorbar": {
            "outlinewidth": 0,
            "ticks": ""
           }
          },
          "colorscale": {
           "diverging": [
            [
             0,
             "#8e0152"
            ],
            [
             0.1,
             "#c51b7d"
            ],
            [
             0.2,
             "#de77ae"
            ],
            [
             0.3,
             "#f1b6da"
            ],
            [
             0.4,
             "#fde0ef"
            ],
            [
             0.5,
             "#f7f7f7"
            ],
            [
             0.6,
             "#e6f5d0"
            ],
            [
             0.7,
             "#b8e186"
            ],
            [
             0.8,
             "#7fbc41"
            ],
            [
             0.9,
             "#4d9221"
            ],
            [
             1,
             "#276419"
            ]
           ],
           "sequential": [
            [
             0,
             "#0d0887"
            ],
            [
             0.1111111111111111,
             "#46039f"
            ],
            [
             0.2222222222222222,
             "#7201a8"
            ],
            [
             0.3333333333333333,
             "#9c179e"
            ],
            [
             0.4444444444444444,
             "#bd3786"
            ],
            [
             0.5555555555555556,
             "#d8576b"
            ],
            [
             0.6666666666666666,
             "#ed7953"
            ],
            [
             0.7777777777777778,
             "#fb9f3a"
            ],
            [
             0.8888888888888888,
             "#fdca26"
            ],
            [
             1,
             "#f0f921"
            ]
           ],
           "sequentialminus": [
            [
             0,
             "#0d0887"
            ],
            [
             0.1111111111111111,
             "#46039f"
            ],
            [
             0.2222222222222222,
             "#7201a8"
            ],
            [
             0.3333333333333333,
             "#9c179e"
            ],
            [
             0.4444444444444444,
             "#bd3786"
            ],
            [
             0.5555555555555556,
             "#d8576b"
            ],
            [
             0.6666666666666666,
             "#ed7953"
            ],
            [
             0.7777777777777778,
             "#fb9f3a"
            ],
            [
             0.8888888888888888,
             "#fdca26"
            ],
            [
             1,
             "#f0f921"
            ]
           ]
          },
          "colorway": [
           "#636efa",
           "#EF553B",
           "#00cc96",
           "#ab63fa",
           "#FFA15A",
           "#19d3f3",
           "#FF6692",
           "#B6E880",
           "#FF97FF",
           "#FECB52"
          ],
          "font": {
           "color": "#2a3f5f"
          },
          "geo": {
           "bgcolor": "white",
           "lakecolor": "white",
           "landcolor": "#E5ECF6",
           "showlakes": true,
           "showland": true,
           "subunitcolor": "white"
          },
          "hoverlabel": {
           "align": "left"
          },
          "hovermode": "closest",
          "mapbox": {
           "style": "light"
          },
          "paper_bgcolor": "white",
          "plot_bgcolor": "#E5ECF6",
          "polar": {
           "angularaxis": {
            "gridcolor": "white",
            "linecolor": "white",
            "ticks": ""
           },
           "bgcolor": "#E5ECF6",
           "radialaxis": {
            "gridcolor": "white",
            "linecolor": "white",
            "ticks": ""
           }
          },
          "scene": {
           "xaxis": {
            "backgroundcolor": "#E5ECF6",
            "gridcolor": "white",
            "gridwidth": 2,
            "linecolor": "white",
            "showbackground": true,
            "ticks": "",
            "zerolinecolor": "white"
           },
           "yaxis": {
            "backgroundcolor": "#E5ECF6",
            "gridcolor": "white",
            "gridwidth": 2,
            "linecolor": "white",
            "showbackground": true,
            "ticks": "",
            "zerolinecolor": "white"
           },
           "zaxis": {
            "backgroundcolor": "#E5ECF6",
            "gridcolor": "white",
            "gridwidth": 2,
            "linecolor": "white",
            "showbackground": true,
            "ticks": "",
            "zerolinecolor": "white"
           }
          },
          "shapedefaults": {
           "line": {
            "color": "#2a3f5f"
           }
          },
          "ternary": {
           "aaxis": {
            "gridcolor": "white",
            "linecolor": "white",
            "ticks": ""
           },
           "baxis": {
            "gridcolor": "white",
            "linecolor": "white",
            "ticks": ""
           },
           "bgcolor": "#E5ECF6",
           "caxis": {
            "gridcolor": "white",
            "linecolor": "white",
            "ticks": ""
           }
          },
          "title": {
           "x": 0.05
          },
          "xaxis": {
           "automargin": true,
           "gridcolor": "white",
           "linecolor": "white",
           "ticks": "",
           "title": {
            "standoff": 15
           },
           "zerolinecolor": "white",
           "zerolinewidth": 2
          },
          "yaxis": {
           "automargin": true,
           "gridcolor": "white",
           "linecolor": "white",
           "ticks": "",
           "title": {
            "standoff": 15
           },
           "zerolinecolor": "white",
           "zerolinewidth": 2
          }
         }
        }
       }
      },
      "text/html": [
       "<div>                            <div id=\"4526e666-9fcd-4047-960b-84c465e3067b\" class=\"plotly-graph-div\" style=\"height:525px; width:100%;\"></div>            <script type=\"text/javascript\">                require([\"plotly\"], function(Plotly) {                    window.PLOTLYENV=window.PLOTLYENV || {};                                    if (document.getElementById(\"4526e666-9fcd-4047-960b-84c465e3067b\")) {                    Plotly.newPlot(                        \"4526e666-9fcd-4047-960b-84c465e3067b\",                        [{\"name\":\"evaluation\",\"x\":[\"approach\",\"casestudy\",\"experiment\",\"literature\",\"metric\",\"model\",\"nonempirical\",\"process\",\"tool\"],\"y\":[10,5,3,4,6,9,1,10,4],\"type\":\"bar\"},{\"name\":\"philosophical\",\"x\":[\"approach\",\"casestudy\",\"experiment\",\"literature\",\"metric\",\"model\",\"nonempirical\",\"process\",\"tool\"],\"y\":[18,8,1,7,5,18,6,17,4],\"type\":\"bar\"},{\"name\":\"solution\",\"x\":[\"approach\",\"casestudy\",\"experiment\",\"literature\",\"metric\",\"model\",\"nonempirical\",\"process\",\"tool\"],\"y\":[18,14,9,1,11,17,0,16,9],\"type\":\"bar\"},{\"name\":\"validation\",\"x\":[\"approach\",\"casestudy\",\"experiment\",\"literature\",\"metric\",\"model\",\"nonempirical\",\"process\",\"tool\"],\"y\":[3,3,2,0,1,2,0,3,1],\"type\":\"bar\"}],                        {\"template\":{\"data\":{\"histogram2dcontour\":[{\"type\":\"histogram2dcontour\",\"colorbar\":{\"outlinewidth\":0,\"ticks\":\"\"},\"colorscale\":[[0.0,\"#0d0887\"],[0.1111111111111111,\"#46039f\"],[0.2222222222222222,\"#7201a8\"],[0.3333333333333333,\"#9c179e\"],[0.4444444444444444,\"#bd3786\"],[0.5555555555555556,\"#d8576b\"],[0.6666666666666666,\"#ed7953\"],[0.7777777777777778,\"#fb9f3a\"],[0.8888888888888888,\"#fdca26\"],[1.0,\"#f0f921\"]]}],\"choropleth\":[{\"type\":\"choropleth\",\"colorbar\":{\"outlinewidth\":0,\"ticks\":\"\"}}],\"histogram2d\":[{\"type\":\"histogram2d\",\"colorbar\":{\"outlinewidth\":0,\"ticks\":\"\"},\"colorscale\":[[0.0,\"#0d0887\"],[0.1111111111111111,\"#46039f\"],[0.2222222222222222,\"#7201a8\"],[0.3333333333333333,\"#9c179e\"],[0.4444444444444444,\"#bd3786\"],[0.5555555555555556,\"#d8576b\"],[0.6666666666666666,\"#ed7953\"],[0.7777777777777778,\"#fb9f3a\"],[0.8888888888888888,\"#fdca26\"],[1.0,\"#f0f921\"]]}],\"heatmap\":[{\"type\":\"heatmap\",\"colorbar\":{\"outlinewidth\":0,\"ticks\":\"\"},\"colorscale\":[[0.0,\"#0d0887\"],[0.1111111111111111,\"#46039f\"],[0.2222222222222222,\"#7201a8\"],[0.3333333333333333,\"#9c179e\"],[0.4444444444444444,\"#bd3786\"],[0.5555555555555556,\"#d8576b\"],[0.6666666666666666,\"#ed7953\"],[0.7777777777777778,\"#fb9f3a\"],[0.8888888888888888,\"#fdca26\"],[1.0,\"#f0f921\"]]}],\"heatmapgl\":[{\"type\":\"heatmapgl\",\"colorbar\":{\"outlinewidth\":0,\"ticks\":\"\"},\"colorscale\":[[0.0,\"#0d0887\"],[0.1111111111111111,\"#46039f\"],[0.2222222222222222,\"#7201a8\"],[0.3333333333333333,\"#9c179e\"],[0.4444444444444444,\"#bd3786\"],[0.5555555555555556,\"#d8576b\"],[0.6666666666666666,\"#ed7953\"],[0.7777777777777778,\"#fb9f3a\"],[0.8888888888888888,\"#fdca26\"],[1.0,\"#f0f921\"]]}],\"contourcarpet\":[{\"type\":\"contourcarpet\",\"colorbar\":{\"outlinewidth\":0,\"ticks\":\"\"}}],\"contour\":[{\"type\":\"contour\",\"colorbar\":{\"outlinewidth\":0,\"ticks\":\"\"},\"colorscale\":[[0.0,\"#0d0887\"],[0.1111111111111111,\"#46039f\"],[0.2222222222222222,\"#7201a8\"],[0.3333333333333333,\"#9c179e\"],[0.4444444444444444,\"#bd3786\"],[0.5555555555555556,\"#d8576b\"],[0.6666666666666666,\"#ed7953\"],[0.7777777777777778,\"#fb9f3a\"],[0.8888888888888888,\"#fdca26\"],[1.0,\"#f0f921\"]]}],\"surface\":[{\"type\":\"surface\",\"colorbar\":{\"outlinewidth\":0,\"ticks\":\"\"},\"colorscale\":[[0.0,\"#0d0887\"],[0.1111111111111111,\"#46039f\"],[0.2222222222222222,\"#7201a8\"],[0.3333333333333333,\"#9c179e\"],[0.4444444444444444,\"#bd3786\"],[0.5555555555555556,\"#d8576b\"],[0.6666666666666666,\"#ed7953\"],[0.7777777777777778,\"#fb9f3a\"],[0.8888888888888888,\"#fdca26\"],[1.0,\"#f0f921\"]]}],\"mesh3d\":[{\"type\":\"mesh3d\",\"colorbar\":{\"outlinewidth\":0,\"ticks\":\"\"}}],\"scatter\":[{\"fillpattern\":{\"fillmode\":\"overlay\",\"size\":10,\"solidity\":0.2},\"type\":\"scatter\"}],\"parcoords\":[{\"type\":\"parcoords\",\"line\":{\"colorbar\":{\"outlinewidth\":0,\"ticks\":\"\"}}}],\"scatterpolargl\":[{\"type\":\"scatterpolargl\",\"marker\":{\"colorbar\":{\"outlinewidth\":0,\"ticks\":\"\"}}}],\"bar\":[{\"error_x\":{\"color\":\"#2a3f5f\"},\"error_y\":{\"color\":\"#2a3f5f\"},\"marker\":{\"line\":{\"color\":\"#E5ECF6\",\"width\":0.5},\"pattern\":{\"fillmode\":\"overlay\",\"size\":10,\"solidity\":0.2}},\"type\":\"bar\"}],\"scattergeo\":[{\"type\":\"scattergeo\",\"marker\":{\"colorbar\":{\"outlinewidth\":0,\"ticks\":\"\"}}}],\"scatterpolar\":[{\"type\":\"scatterpolar\",\"marker\":{\"colorbar\":{\"outlinewidth\":0,\"ticks\":\"\"}}}],\"histogram\":[{\"marker\":{\"pattern\":{\"fillmode\":\"overlay\",\"size\":10,\"solidity\":0.2}},\"type\":\"histogram\"}],\"scattergl\":[{\"type\":\"scattergl\",\"marker\":{\"colorbar\":{\"outlinewidth\":0,\"ticks\":\"\"}}}],\"scatter3d\":[{\"type\":\"scatter3d\",\"line\":{\"colorbar\":{\"outlinewidth\":0,\"ticks\":\"\"}},\"marker\":{\"colorbar\":{\"outlinewidth\":0,\"ticks\":\"\"}}}],\"scattermapbox\":[{\"type\":\"scattermapbox\",\"marker\":{\"colorbar\":{\"outlinewidth\":0,\"ticks\":\"\"}}}],\"scatterternary\":[{\"type\":\"scatterternary\",\"marker\":{\"colorbar\":{\"outlinewidth\":0,\"ticks\":\"\"}}}],\"scattercarpet\":[{\"type\":\"scattercarpet\",\"marker\":{\"colorbar\":{\"outlinewidth\":0,\"ticks\":\"\"}}}],\"carpet\":[{\"aaxis\":{\"endlinecolor\":\"#2a3f5f\",\"gridcolor\":\"white\",\"linecolor\":\"white\",\"minorgridcolor\":\"white\",\"startlinecolor\":\"#2a3f5f\"},\"baxis\":{\"endlinecolor\":\"#2a3f5f\",\"gridcolor\":\"white\",\"linecolor\":\"white\",\"minorgridcolor\":\"white\",\"startlinecolor\":\"#2a3f5f\"},\"type\":\"carpet\"}],\"table\":[{\"cells\":{\"fill\":{\"color\":\"#EBF0F8\"},\"line\":{\"color\":\"white\"}},\"header\":{\"fill\":{\"color\":\"#C8D4E3\"},\"line\":{\"color\":\"white\"}},\"type\":\"table\"}],\"barpolar\":[{\"marker\":{\"line\":{\"color\":\"#E5ECF6\",\"width\":0.5},\"pattern\":{\"fillmode\":\"overlay\",\"size\":10,\"solidity\":0.2}},\"type\":\"barpolar\"}],\"pie\":[{\"automargin\":true,\"type\":\"pie\"}]},\"layout\":{\"autotypenumbers\":\"strict\",\"colorway\":[\"#636efa\",\"#EF553B\",\"#00cc96\",\"#ab63fa\",\"#FFA15A\",\"#19d3f3\",\"#FF6692\",\"#B6E880\",\"#FF97FF\",\"#FECB52\"],\"font\":{\"color\":\"#2a3f5f\"},\"hovermode\":\"closest\",\"hoverlabel\":{\"align\":\"left\"},\"paper_bgcolor\":\"white\",\"plot_bgcolor\":\"#E5ECF6\",\"polar\":{\"bgcolor\":\"#E5ECF6\",\"angularaxis\":{\"gridcolor\":\"white\",\"linecolor\":\"white\",\"ticks\":\"\"},\"radialaxis\":{\"gridcolor\":\"white\",\"linecolor\":\"white\",\"ticks\":\"\"}},\"ternary\":{\"bgcolor\":\"#E5ECF6\",\"aaxis\":{\"gridcolor\":\"white\",\"linecolor\":\"white\",\"ticks\":\"\"},\"baxis\":{\"gridcolor\":\"white\",\"linecolor\":\"white\",\"ticks\":\"\"},\"caxis\":{\"gridcolor\":\"white\",\"linecolor\":\"white\",\"ticks\":\"\"}},\"coloraxis\":{\"colorbar\":{\"outlinewidth\":0,\"ticks\":\"\"}},\"colorscale\":{\"sequential\":[[0.0,\"#0d0887\"],[0.1111111111111111,\"#46039f\"],[0.2222222222222222,\"#7201a8\"],[0.3333333333333333,\"#9c179e\"],[0.4444444444444444,\"#bd3786\"],[0.5555555555555556,\"#d8576b\"],[0.6666666666666666,\"#ed7953\"],[0.7777777777777778,\"#fb9f3a\"],[0.8888888888888888,\"#fdca26\"],[1.0,\"#f0f921\"]],\"sequentialminus\":[[0.0,\"#0d0887\"],[0.1111111111111111,\"#46039f\"],[0.2222222222222222,\"#7201a8\"],[0.3333333333333333,\"#9c179e\"],[0.4444444444444444,\"#bd3786\"],[0.5555555555555556,\"#d8576b\"],[0.6666666666666666,\"#ed7953\"],[0.7777777777777778,\"#fb9f3a\"],[0.8888888888888888,\"#fdca26\"],[1.0,\"#f0f921\"]],\"diverging\":[[0,\"#8e0152\"],[0.1,\"#c51b7d\"],[0.2,\"#de77ae\"],[0.3,\"#f1b6da\"],[0.4,\"#fde0ef\"],[0.5,\"#f7f7f7\"],[0.6,\"#e6f5d0\"],[0.7,\"#b8e186\"],[0.8,\"#7fbc41\"],[0.9,\"#4d9221\"],[1,\"#276419\"]]},\"xaxis\":{\"gridcolor\":\"white\",\"linecolor\":\"white\",\"ticks\":\"\",\"title\":{\"standoff\":15},\"zerolinecolor\":\"white\",\"automargin\":true,\"zerolinewidth\":2},\"yaxis\":{\"gridcolor\":\"white\",\"linecolor\":\"white\",\"ticks\":\"\",\"title\":{\"standoff\":15},\"zerolinecolor\":\"white\",\"automargin\":true,\"zerolinewidth\":2},\"scene\":{\"xaxis\":{\"backgroundcolor\":\"#E5ECF6\",\"gridcolor\":\"white\",\"linecolor\":\"white\",\"showbackground\":true,\"ticks\":\"\",\"zerolinecolor\":\"white\",\"gridwidth\":2},\"yaxis\":{\"backgroundcolor\":\"#E5ECF6\",\"gridcolor\":\"white\",\"linecolor\":\"white\",\"showbackground\":true,\"ticks\":\"\",\"zerolinecolor\":\"white\",\"gridwidth\":2},\"zaxis\":{\"backgroundcolor\":\"#E5ECF6\",\"gridcolor\":\"white\",\"linecolor\":\"white\",\"showbackground\":true,\"ticks\":\"\",\"zerolinecolor\":\"white\",\"gridwidth\":2}},\"shapedefaults\":{\"line\":{\"color\":\"#2a3f5f\"}},\"annotationdefaults\":{\"arrowcolor\":\"#2a3f5f\",\"arrowhead\":0,\"arrowwidth\":1},\"geo\":{\"bgcolor\":\"white\",\"landcolor\":\"#E5ECF6\",\"subunitcolor\":\"white\",\"showland\":true,\"showlakes\":true,\"lakecolor\":\"white\"},\"title\":{\"x\":0.05},\"mapbox\":{\"style\":\"light\"}}}},                        {\"responsive\": true}                    ).then(function(){\n",
       "                            \n",
       "var gd = document.getElementById('4526e666-9fcd-4047-960b-84c465e3067b');\n",
       "var x = new MutationObserver(function (mutations, observer) {{\n",
       "        var display = window.getComputedStyle(gd).display;\n",
       "        if (!display || display === 'none') {{\n",
       "            console.log([gd, 'removed!']);\n",
       "            Plotly.purge(gd);\n",
       "            observer.disconnect();\n",
       "        }}\n",
       "}});\n",
       "\n",
       "// Listen for the removal of the full notebook cells\n",
       "var notebookContainer = gd.closest('#notebook-container');\n",
       "if (notebookContainer) {{\n",
       "    x.observe(notebookContainer, {childList: true});\n",
       "}}\n",
       "\n",
       "// Listen for the clearing of the current output cell\n",
       "var outputEl = gd.closest('.output');\n",
       "if (outputEl) {{\n",
       "    x.observe(outputEl, {childList: true});\n",
       "}}\n",
       "\n",
       "                        })                };                });            </script>        </div>"
      ]
     },
     "metadata": {},
     "output_type": "display_data"
    }
   ],
   "source": [
    "data = []\n",
    "#use for loop on every zoo name to create bar data\n",
    "for x in ct.columns:\n",
    "    data.append(go.Bar(name=str(x), x=ct.index, y=ct[x]))\n",
    "\n",
    "figure = go.Figure(data)\n",
    "# figure.update_layout(barmode = 'stack')\n",
    "\n",
    "#For you to take a look at the result use\n",
    "figure.show()"
   ]
  },
  {
   "cell_type": "markdown",
   "metadata": {},
   "source": [
    "### Percent of Totals"
   ]
  },
  {
   "cell_type": "code",
   "execution_count": 44,
   "metadata": {
    "ExecuteTime": {
     "end_time": "2022-12-23T18:55:08.825363Z",
     "start_time": "2022-12-23T18:55:08.818183Z"
    },
    "scrolled": true
   },
   "outputs": [
    {
     "data": {
      "text/html": [
       "<div>\n",
       "<style scoped>\n",
       "    .dataframe tbody tr th:only-of-type {\n",
       "        vertical-align: middle;\n",
       "    }\n",
       "\n",
       "    .dataframe tbody tr th {\n",
       "        vertical-align: top;\n",
       "    }\n",
       "\n",
       "    .dataframe thead th {\n",
       "        text-align: right;\n",
       "    }\n",
       "</style>\n",
       "<table border=\"1\" class=\"dataframe\">\n",
       "  <thead>\n",
       "    <tr style=\"text-align: right;\">\n",
       "      <th>research</th>\n",
       "      <th>evaluation</th>\n",
       "      <th>philosophical</th>\n",
       "      <th>solution</th>\n",
       "      <th>validation</th>\n",
       "      <th>All</th>\n",
       "    </tr>\n",
       "    <tr>\n",
       "      <th>cont</th>\n",
       "      <th></th>\n",
       "      <th></th>\n",
       "      <th></th>\n",
       "      <th></th>\n",
       "      <th></th>\n",
       "    </tr>\n",
       "  </thead>\n",
       "  <tbody>\n",
       "    <tr>\n",
       "      <th>approach</th>\n",
       "      <td>20%</td>\n",
       "      <td>37%</td>\n",
       "      <td>37%</td>\n",
       "      <td>6%</td>\n",
       "      <td>100%</td>\n",
       "    </tr>\n",
       "    <tr>\n",
       "      <th>casestudy</th>\n",
       "      <td>17%</td>\n",
       "      <td>27%</td>\n",
       "      <td>47%</td>\n",
       "      <td>10%</td>\n",
       "      <td>100%</td>\n",
       "    </tr>\n",
       "    <tr>\n",
       "      <th>experiment</th>\n",
       "      <td>20%</td>\n",
       "      <td>7%</td>\n",
       "      <td>60%</td>\n",
       "      <td>13%</td>\n",
       "      <td>100%</td>\n",
       "    </tr>\n",
       "    <tr>\n",
       "      <th>literature</th>\n",
       "      <td>33%</td>\n",
       "      <td>58%</td>\n",
       "      <td>8%</td>\n",
       "      <td>0%</td>\n",
       "      <td>100%</td>\n",
       "    </tr>\n",
       "    <tr>\n",
       "      <th>metric</th>\n",
       "      <td>26%</td>\n",
       "      <td>22%</td>\n",
       "      <td>48%</td>\n",
       "      <td>4%</td>\n",
       "      <td>100%</td>\n",
       "    </tr>\n",
       "    <tr>\n",
       "      <th>model</th>\n",
       "      <td>20%</td>\n",
       "      <td>39%</td>\n",
       "      <td>37%</td>\n",
       "      <td>4%</td>\n",
       "      <td>100%</td>\n",
       "    </tr>\n",
       "    <tr>\n",
       "      <th>nonempirical</th>\n",
       "      <td>14%</td>\n",
       "      <td>86%</td>\n",
       "      <td>0%</td>\n",
       "      <td>0%</td>\n",
       "      <td>100%</td>\n",
       "    </tr>\n",
       "    <tr>\n",
       "      <th>process</th>\n",
       "      <td>22%</td>\n",
       "      <td>37%</td>\n",
       "      <td>35%</td>\n",
       "      <td>7%</td>\n",
       "      <td>100%</td>\n",
       "    </tr>\n",
       "    <tr>\n",
       "      <th>tool</th>\n",
       "      <td>22%</td>\n",
       "      <td>22%</td>\n",
       "      <td>50%</td>\n",
       "      <td>6%</td>\n",
       "      <td>100%</td>\n",
       "    </tr>\n",
       "  </tbody>\n",
       "</table>\n",
       "</div>"
      ],
      "text/plain": [
       "research     evaluation philosophical solution validation   All\n",
       "cont                                                           \n",
       "approach            20%           37%      37%         6%  100%\n",
       "casestudy           17%           27%      47%        10%  100%\n",
       "experiment          20%            7%      60%        13%  100%\n",
       "literature          33%           58%       8%         0%  100%\n",
       "metric              26%           22%      48%         4%  100%\n",
       "model               20%           39%      37%         4%  100%\n",
       "nonempirical        14%           86%       0%         0%  100%\n",
       "process             22%           37%      35%         7%  100%\n",
       "tool                22%           22%      50%         6%  100%"
      ]
     },
     "execution_count": 44,
     "metadata": {},
     "output_type": "execute_result"
    }
   ],
   "source": [
    "cta.pipe(\n",
    "    lambda x: x.div(x['All'], axis='index')\n",
    ").applymap('{:.0%}'.format).iloc[:-1]"
   ]
  },
  {
   "cell_type": "code",
   "execution_count": 45,
   "metadata": {
    "ExecuteTime": {
     "end_time": "2022-12-23T18:55:08.834970Z",
     "start_time": "2022-12-23T18:55:08.826756Z"
    }
   },
   "outputs": [
    {
     "data": {
      "text/html": [
       "<div>\n",
       "<style scoped>\n",
       "    .dataframe tbody tr th:only-of-type {\n",
       "        vertical-align: middle;\n",
       "    }\n",
       "\n",
       "    .dataframe tbody tr th {\n",
       "        vertical-align: top;\n",
       "    }\n",
       "\n",
       "    .dataframe thead th {\n",
       "        text-align: right;\n",
       "    }\n",
       "</style>\n",
       "<table border=\"1\" class=\"dataframe\">\n",
       "  <thead>\n",
       "    <tr style=\"text-align: right;\">\n",
       "      <th>cont</th>\n",
       "      <th>approach</th>\n",
       "      <th>casestudy</th>\n",
       "      <th>experiment</th>\n",
       "      <th>literature</th>\n",
       "      <th>metric</th>\n",
       "      <th>model</th>\n",
       "      <th>nonempirical</th>\n",
       "      <th>process</th>\n",
       "      <th>tool</th>\n",
       "      <th>All</th>\n",
       "    </tr>\n",
       "    <tr>\n",
       "      <th>research</th>\n",
       "      <th></th>\n",
       "      <th></th>\n",
       "      <th></th>\n",
       "      <th></th>\n",
       "      <th></th>\n",
       "      <th></th>\n",
       "      <th></th>\n",
       "      <th></th>\n",
       "      <th></th>\n",
       "      <th></th>\n",
       "    </tr>\n",
       "  </thead>\n",
       "  <tbody>\n",
       "    <tr>\n",
       "      <th>evaluation</th>\n",
       "      <td>19%</td>\n",
       "      <td>10%</td>\n",
       "      <td>6%</td>\n",
       "      <td>8%</td>\n",
       "      <td>12%</td>\n",
       "      <td>17%</td>\n",
       "      <td>2%</td>\n",
       "      <td>19%</td>\n",
       "      <td>8%</td>\n",
       "      <td>100%</td>\n",
       "    </tr>\n",
       "    <tr>\n",
       "      <th>philosophical</th>\n",
       "      <td>21%</td>\n",
       "      <td>10%</td>\n",
       "      <td>1%</td>\n",
       "      <td>8%</td>\n",
       "      <td>6%</td>\n",
       "      <td>21%</td>\n",
       "      <td>7%</td>\n",
       "      <td>20%</td>\n",
       "      <td>5%</td>\n",
       "      <td>100%</td>\n",
       "    </tr>\n",
       "    <tr>\n",
       "      <th>solution</th>\n",
       "      <td>19%</td>\n",
       "      <td>15%</td>\n",
       "      <td>9%</td>\n",
       "      <td>1%</td>\n",
       "      <td>12%</td>\n",
       "      <td>18%</td>\n",
       "      <td>0%</td>\n",
       "      <td>17%</td>\n",
       "      <td>9%</td>\n",
       "      <td>100%</td>\n",
       "    </tr>\n",
       "    <tr>\n",
       "      <th>validation</th>\n",
       "      <td>20%</td>\n",
       "      <td>20%</td>\n",
       "      <td>13%</td>\n",
       "      <td>0%</td>\n",
       "      <td>7%</td>\n",
       "      <td>13%</td>\n",
       "      <td>0%</td>\n",
       "      <td>20%</td>\n",
       "      <td>7%</td>\n",
       "      <td>100%</td>\n",
       "    </tr>\n",
       "  </tbody>\n",
       "</table>\n",
       "</div>"
      ],
      "text/plain": [
       "cont          approach casestudy experiment literature metric model  \\\n",
       "research                                                              \n",
       "evaluation         19%       10%         6%         8%    12%   17%   \n",
       "philosophical      21%       10%         1%         8%     6%   21%   \n",
       "solution           19%       15%         9%         1%    12%   18%   \n",
       "validation         20%       20%        13%         0%     7%   13%   \n",
       "\n",
       "cont          nonempirical process tool   All  \n",
       "research                                       \n",
       "evaluation              2%     19%   8%  100%  \n",
       "philosophical           7%     20%   5%  100%  \n",
       "solution                0%     17%   9%  100%  \n",
       "validation              0%     20%   7%  100%  "
      ]
     },
     "execution_count": 45,
     "metadata": {},
     "output_type": "execute_result"
    }
   ],
   "source": [
    "cta.T.pipe(lambda x: x.div(x['All'], axis='index')).applymap('{:.0%}'.format).iloc[:-1]"
   ]
  },
  {
   "cell_type": "code",
   "execution_count": 46,
   "metadata": {
    "ExecuteTime": {
     "end_time": "2022-12-23T18:55:08.862618Z",
     "start_time": "2022-12-23T18:55:08.836401Z"
    }
   },
   "outputs": [
    {
     "data": {
      "text/html": [
       "<div>\n",
       "<style scoped>\n",
       "    .dataframe tbody tr th:only-of-type {\n",
       "        vertical-align: middle;\n",
       "    }\n",
       "\n",
       "    .dataframe tbody tr th {\n",
       "        vertical-align: top;\n",
       "    }\n",
       "\n",
       "    .dataframe thead th {\n",
       "        text-align: right;\n",
       "    }\n",
       "</style>\n",
       "<table border=\"1\" class=\"dataframe\">\n",
       "  <thead>\n",
       "    <tr style=\"text-align: right;\">\n",
       "      <th>cont</th>\n",
       "      <th>approach</th>\n",
       "      <th>casestudy</th>\n",
       "      <th>experiment</th>\n",
       "      <th>literature</th>\n",
       "      <th>metric</th>\n",
       "      <th>model</th>\n",
       "      <th>nonempirical</th>\n",
       "      <th>process</th>\n",
       "      <th>tool</th>\n",
       "      <th>All</th>\n",
       "    </tr>\n",
       "  </thead>\n",
       "  <tbody>\n",
       "    <tr>\n",
       "      <th>count</th>\n",
       "      <td>5.000000</td>\n",
       "      <td>5.000000</td>\n",
       "      <td>5.00000</td>\n",
       "      <td>5.000000</td>\n",
       "      <td>5.000000</td>\n",
       "      <td>5.000000</td>\n",
       "      <td>5.000000</td>\n",
       "      <td>5.000000</td>\n",
       "      <td>5.000000</td>\n",
       "      <td>5.000000</td>\n",
       "    </tr>\n",
       "    <tr>\n",
       "      <th>mean</th>\n",
       "      <td>19.600000</td>\n",
       "      <td>12.000000</td>\n",
       "      <td>6.00000</td>\n",
       "      <td>4.800000</td>\n",
       "      <td>9.200000</td>\n",
       "      <td>18.400000</td>\n",
       "      <td>2.800000</td>\n",
       "      <td>18.400000</td>\n",
       "      <td>7.200000</td>\n",
       "      <td>98.400000</td>\n",
       "    </tr>\n",
       "    <tr>\n",
       "      <th>std</th>\n",
       "      <td>17.586927</td>\n",
       "      <td>10.885771</td>\n",
       "      <td>5.91608</td>\n",
       "      <td>4.868265</td>\n",
       "      <td>8.497058</td>\n",
       "      <td>16.742162</td>\n",
       "      <td>3.420526</td>\n",
       "      <td>16.410363</td>\n",
       "      <td>6.685806</td>\n",
       "      <td>88.194671</td>\n",
       "    </tr>\n",
       "    <tr>\n",
       "      <th>min</th>\n",
       "      <td>3.000000</td>\n",
       "      <td>3.000000</td>\n",
       "      <td>1.00000</td>\n",
       "      <td>0.000000</td>\n",
       "      <td>1.000000</td>\n",
       "      <td>2.000000</td>\n",
       "      <td>0.000000</td>\n",
       "      <td>3.000000</td>\n",
       "      <td>1.000000</td>\n",
       "      <td>15.000000</td>\n",
       "    </tr>\n",
       "    <tr>\n",
       "      <th>25%</th>\n",
       "      <td>10.000000</td>\n",
       "      <td>5.000000</td>\n",
       "      <td>2.00000</td>\n",
       "      <td>1.000000</td>\n",
       "      <td>5.000000</td>\n",
       "      <td>9.000000</td>\n",
       "      <td>0.000000</td>\n",
       "      <td>10.000000</td>\n",
       "      <td>4.000000</td>\n",
       "      <td>52.000000</td>\n",
       "    </tr>\n",
       "    <tr>\n",
       "      <th>50%</th>\n",
       "      <td>18.000000</td>\n",
       "      <td>8.000000</td>\n",
       "      <td>3.00000</td>\n",
       "      <td>4.000000</td>\n",
       "      <td>6.000000</td>\n",
       "      <td>17.000000</td>\n",
       "      <td>1.000000</td>\n",
       "      <td>16.000000</td>\n",
       "      <td>4.000000</td>\n",
       "      <td>84.000000</td>\n",
       "    </tr>\n",
       "    <tr>\n",
       "      <th>75%</th>\n",
       "      <td>18.000000</td>\n",
       "      <td>14.000000</td>\n",
       "      <td>9.00000</td>\n",
       "      <td>7.000000</td>\n",
       "      <td>11.000000</td>\n",
       "      <td>18.000000</td>\n",
       "      <td>6.000000</td>\n",
       "      <td>17.000000</td>\n",
       "      <td>9.000000</td>\n",
       "      <td>95.000000</td>\n",
       "    </tr>\n",
       "    <tr>\n",
       "      <th>max</th>\n",
       "      <td>49.000000</td>\n",
       "      <td>30.000000</td>\n",
       "      <td>15.00000</td>\n",
       "      <td>12.000000</td>\n",
       "      <td>23.000000</td>\n",
       "      <td>46.000000</td>\n",
       "      <td>7.000000</td>\n",
       "      <td>46.000000</td>\n",
       "      <td>18.000000</td>\n",
       "      <td>246.000000</td>\n",
       "    </tr>\n",
       "  </tbody>\n",
       "</table>\n",
       "</div>"
      ],
      "text/plain": [
       "cont    approach  casestudy  experiment  literature     metric      model  \\\n",
       "count   5.000000   5.000000     5.00000    5.000000   5.000000   5.000000   \n",
       "mean   19.600000  12.000000     6.00000    4.800000   9.200000  18.400000   \n",
       "std    17.586927  10.885771     5.91608    4.868265   8.497058  16.742162   \n",
       "min     3.000000   3.000000     1.00000    0.000000   1.000000   2.000000   \n",
       "25%    10.000000   5.000000     2.00000    1.000000   5.000000   9.000000   \n",
       "50%    18.000000   8.000000     3.00000    4.000000   6.000000  17.000000   \n",
       "75%    18.000000  14.000000     9.00000    7.000000  11.000000  18.000000   \n",
       "max    49.000000  30.000000    15.00000   12.000000  23.000000  46.000000   \n",
       "\n",
       "cont   nonempirical    process       tool         All  \n",
       "count      5.000000   5.000000   5.000000    5.000000  \n",
       "mean       2.800000  18.400000   7.200000   98.400000  \n",
       "std        3.420526  16.410363   6.685806   88.194671  \n",
       "min        0.000000   3.000000   1.000000   15.000000  \n",
       "25%        0.000000  10.000000   4.000000   52.000000  \n",
       "50%        1.000000  16.000000   4.000000   84.000000  \n",
       "75%        6.000000  17.000000   9.000000   95.000000  \n",
       "max        7.000000  46.000000  18.000000  246.000000  "
      ]
     },
     "execution_count": 46,
     "metadata": {},
     "output_type": "execute_result"
    }
   ],
   "source": [
    "cta.describe()\n",
    "cta.T.describe()\n"
   ]
  },
  {
   "cell_type": "markdown",
   "metadata": {},
   "source": [
    "#### Visualizations"
   ]
  },
  {
   "cell_type": "code",
   "execution_count": 47,
   "metadata": {
    "ExecuteTime": {
     "end_time": "2022-12-23T18:55:08.892212Z",
     "start_time": "2022-12-23T18:55:08.864230Z"
    }
   },
   "outputs": [
    {
     "data": {
      "application/vnd.plotly.v1+json": {
       "config": {
        "plotlyServerURL": "https://plot.ly"
       },
       "data": [
        {
         "coloraxis": "coloraxis",
         "hovertemplate": "research: %{x}<br>cont: %{y}<br>color: %{z}<extra></extra>",
         "name": "0",
         "texttemplate": "%{z}",
         "type": "heatmap",
         "x": [
          "evaluation",
          "philosophical",
          "solution",
          "validation",
          "All"
         ],
         "xaxis": "x",
         "y": [
          "approach",
          "casestudy",
          "experiment",
          "literature",
          "metric",
          "model",
          "nonempirical",
          "process",
          "tool"
         ],
         "yaxis": "y",
         "z": [
          [
           0.2,
           0.37,
           0.37,
           0.06,
           1
          ],
          [
           0.17,
           0.27,
           0.47,
           0.1,
           1
          ],
          [
           0.2,
           0.07,
           0.6,
           0.13,
           1
          ],
          [
           0.33,
           0.58,
           0.08,
           0,
           1
          ],
          [
           0.26,
           0.22,
           0.48,
           0.04,
           1
          ],
          [
           0.2,
           0.39,
           0.37,
           0.04,
           1
          ],
          [
           0.14,
           0.86,
           0,
           0,
           1
          ],
          [
           0.22,
           0.37,
           0.35,
           0.07,
           1
          ],
          [
           0.22,
           0.22,
           0.5,
           0.06,
           1
          ]
         ]
        }
       ],
       "layout": {
        "coloraxis": {
         "colorscale": [
          [
           0,
           "#0d0887"
          ],
          [
           0.1111111111111111,
           "#46039f"
          ],
          [
           0.2222222222222222,
           "#7201a8"
          ],
          [
           0.3333333333333333,
           "#9c179e"
          ],
          [
           0.4444444444444444,
           "#bd3786"
          ],
          [
           0.5555555555555556,
           "#d8576b"
          ],
          [
           0.6666666666666666,
           "#ed7953"
          ],
          [
           0.7777777777777778,
           "#fb9f3a"
          ],
          [
           0.8888888888888888,
           "#fdca26"
          ],
          [
           1,
           "#f0f921"
          ]
         ]
        },
        "template": {
         "data": {
          "bar": [
           {
            "error_x": {
             "color": "#2a3f5f"
            },
            "error_y": {
             "color": "#2a3f5f"
            },
            "marker": {
             "line": {
              "color": "#E5ECF6",
              "width": 0.5
             },
             "pattern": {
              "fillmode": "overlay",
              "size": 10,
              "solidity": 0.2
             }
            },
            "type": "bar"
           }
          ],
          "barpolar": [
           {
            "marker": {
             "line": {
              "color": "#E5ECF6",
              "width": 0.5
             },
             "pattern": {
              "fillmode": "overlay",
              "size": 10,
              "solidity": 0.2
             }
            },
            "type": "barpolar"
           }
          ],
          "carpet": [
           {
            "aaxis": {
             "endlinecolor": "#2a3f5f",
             "gridcolor": "white",
             "linecolor": "white",
             "minorgridcolor": "white",
             "startlinecolor": "#2a3f5f"
            },
            "baxis": {
             "endlinecolor": "#2a3f5f",
             "gridcolor": "white",
             "linecolor": "white",
             "minorgridcolor": "white",
             "startlinecolor": "#2a3f5f"
            },
            "type": "carpet"
           }
          ],
          "choropleth": [
           {
            "colorbar": {
             "outlinewidth": 0,
             "ticks": ""
            },
            "type": "choropleth"
           }
          ],
          "contour": [
           {
            "colorbar": {
             "outlinewidth": 0,
             "ticks": ""
            },
            "colorscale": [
             [
              0,
              "#0d0887"
             ],
             [
              0.1111111111111111,
              "#46039f"
             ],
             [
              0.2222222222222222,
              "#7201a8"
             ],
             [
              0.3333333333333333,
              "#9c179e"
             ],
             [
              0.4444444444444444,
              "#bd3786"
             ],
             [
              0.5555555555555556,
              "#d8576b"
             ],
             [
              0.6666666666666666,
              "#ed7953"
             ],
             [
              0.7777777777777778,
              "#fb9f3a"
             ],
             [
              0.8888888888888888,
              "#fdca26"
             ],
             [
              1,
              "#f0f921"
             ]
            ],
            "type": "contour"
           }
          ],
          "contourcarpet": [
           {
            "colorbar": {
             "outlinewidth": 0,
             "ticks": ""
            },
            "type": "contourcarpet"
           }
          ],
          "heatmap": [
           {
            "colorbar": {
             "outlinewidth": 0,
             "ticks": ""
            },
            "colorscale": [
             [
              0,
              "#0d0887"
             ],
             [
              0.1111111111111111,
              "#46039f"
             ],
             [
              0.2222222222222222,
              "#7201a8"
             ],
             [
              0.3333333333333333,
              "#9c179e"
             ],
             [
              0.4444444444444444,
              "#bd3786"
             ],
             [
              0.5555555555555556,
              "#d8576b"
             ],
             [
              0.6666666666666666,
              "#ed7953"
             ],
             [
              0.7777777777777778,
              "#fb9f3a"
             ],
             [
              0.8888888888888888,
              "#fdca26"
             ],
             [
              1,
              "#f0f921"
             ]
            ],
            "type": "heatmap"
           }
          ],
          "heatmapgl": [
           {
            "colorbar": {
             "outlinewidth": 0,
             "ticks": ""
            },
            "colorscale": [
             [
              0,
              "#0d0887"
             ],
             [
              0.1111111111111111,
              "#46039f"
             ],
             [
              0.2222222222222222,
              "#7201a8"
             ],
             [
              0.3333333333333333,
              "#9c179e"
             ],
             [
              0.4444444444444444,
              "#bd3786"
             ],
             [
              0.5555555555555556,
              "#d8576b"
             ],
             [
              0.6666666666666666,
              "#ed7953"
             ],
             [
              0.7777777777777778,
              "#fb9f3a"
             ],
             [
              0.8888888888888888,
              "#fdca26"
             ],
             [
              1,
              "#f0f921"
             ]
            ],
            "type": "heatmapgl"
           }
          ],
          "histogram": [
           {
            "marker": {
             "pattern": {
              "fillmode": "overlay",
              "size": 10,
              "solidity": 0.2
             }
            },
            "type": "histogram"
           }
          ],
          "histogram2d": [
           {
            "colorbar": {
             "outlinewidth": 0,
             "ticks": ""
            },
            "colorscale": [
             [
              0,
              "#0d0887"
             ],
             [
              0.1111111111111111,
              "#46039f"
             ],
             [
              0.2222222222222222,
              "#7201a8"
             ],
             [
              0.3333333333333333,
              "#9c179e"
             ],
             [
              0.4444444444444444,
              "#bd3786"
             ],
             [
              0.5555555555555556,
              "#d8576b"
             ],
             [
              0.6666666666666666,
              "#ed7953"
             ],
             [
              0.7777777777777778,
              "#fb9f3a"
             ],
             [
              0.8888888888888888,
              "#fdca26"
             ],
             [
              1,
              "#f0f921"
             ]
            ],
            "type": "histogram2d"
           }
          ],
          "histogram2dcontour": [
           {
            "colorbar": {
             "outlinewidth": 0,
             "ticks": ""
            },
            "colorscale": [
             [
              0,
              "#0d0887"
             ],
             [
              0.1111111111111111,
              "#46039f"
             ],
             [
              0.2222222222222222,
              "#7201a8"
             ],
             [
              0.3333333333333333,
              "#9c179e"
             ],
             [
              0.4444444444444444,
              "#bd3786"
             ],
             [
              0.5555555555555556,
              "#d8576b"
             ],
             [
              0.6666666666666666,
              "#ed7953"
             ],
             [
              0.7777777777777778,
              "#fb9f3a"
             ],
             [
              0.8888888888888888,
              "#fdca26"
             ],
             [
              1,
              "#f0f921"
             ]
            ],
            "type": "histogram2dcontour"
           }
          ],
          "mesh3d": [
           {
            "colorbar": {
             "outlinewidth": 0,
             "ticks": ""
            },
            "type": "mesh3d"
           }
          ],
          "parcoords": [
           {
            "line": {
             "colorbar": {
              "outlinewidth": 0,
              "ticks": ""
             }
            },
            "type": "parcoords"
           }
          ],
          "pie": [
           {
            "automargin": true,
            "type": "pie"
           }
          ],
          "scatter": [
           {
            "fillpattern": {
             "fillmode": "overlay",
             "size": 10,
             "solidity": 0.2
            },
            "type": "scatter"
           }
          ],
          "scatter3d": [
           {
            "line": {
             "colorbar": {
              "outlinewidth": 0,
              "ticks": ""
             }
            },
            "marker": {
             "colorbar": {
              "outlinewidth": 0,
              "ticks": ""
             }
            },
            "type": "scatter3d"
           }
          ],
          "scattercarpet": [
           {
            "marker": {
             "colorbar": {
              "outlinewidth": 0,
              "ticks": ""
             }
            },
            "type": "scattercarpet"
           }
          ],
          "scattergeo": [
           {
            "marker": {
             "colorbar": {
              "outlinewidth": 0,
              "ticks": ""
             }
            },
            "type": "scattergeo"
           }
          ],
          "scattergl": [
           {
            "marker": {
             "colorbar": {
              "outlinewidth": 0,
              "ticks": ""
             }
            },
            "type": "scattergl"
           }
          ],
          "scattermapbox": [
           {
            "marker": {
             "colorbar": {
              "outlinewidth": 0,
              "ticks": ""
             }
            },
            "type": "scattermapbox"
           }
          ],
          "scatterpolar": [
           {
            "marker": {
             "colorbar": {
              "outlinewidth": 0,
              "ticks": ""
             }
            },
            "type": "scatterpolar"
           }
          ],
          "scatterpolargl": [
           {
            "marker": {
             "colorbar": {
              "outlinewidth": 0,
              "ticks": ""
             }
            },
            "type": "scatterpolargl"
           }
          ],
          "scatterternary": [
           {
            "marker": {
             "colorbar": {
              "outlinewidth": 0,
              "ticks": ""
             }
            },
            "type": "scatterternary"
           }
          ],
          "surface": [
           {
            "colorbar": {
             "outlinewidth": 0,
             "ticks": ""
            },
            "colorscale": [
             [
              0,
              "#0d0887"
             ],
             [
              0.1111111111111111,
              "#46039f"
             ],
             [
              0.2222222222222222,
              "#7201a8"
             ],
             [
              0.3333333333333333,
              "#9c179e"
             ],
             [
              0.4444444444444444,
              "#bd3786"
             ],
             [
              0.5555555555555556,
              "#d8576b"
             ],
             [
              0.6666666666666666,
              "#ed7953"
             ],
             [
              0.7777777777777778,
              "#fb9f3a"
             ],
             [
              0.8888888888888888,
              "#fdca26"
             ],
             [
              1,
              "#f0f921"
             ]
            ],
            "type": "surface"
           }
          ],
          "table": [
           {
            "cells": {
             "fill": {
              "color": "#EBF0F8"
             },
             "line": {
              "color": "white"
             }
            },
            "header": {
             "fill": {
              "color": "#C8D4E3"
             },
             "line": {
              "color": "white"
             }
            },
            "type": "table"
           }
          ]
         },
         "layout": {
          "annotationdefaults": {
           "arrowcolor": "#2a3f5f",
           "arrowhead": 0,
           "arrowwidth": 1
          },
          "autotypenumbers": "strict",
          "coloraxis": {
           "colorbar": {
            "outlinewidth": 0,
            "ticks": ""
           }
          },
          "colorscale": {
           "diverging": [
            [
             0,
             "#8e0152"
            ],
            [
             0.1,
             "#c51b7d"
            ],
            [
             0.2,
             "#de77ae"
            ],
            [
             0.3,
             "#f1b6da"
            ],
            [
             0.4,
             "#fde0ef"
            ],
            [
             0.5,
             "#f7f7f7"
            ],
            [
             0.6,
             "#e6f5d0"
            ],
            [
             0.7,
             "#b8e186"
            ],
            [
             0.8,
             "#7fbc41"
            ],
            [
             0.9,
             "#4d9221"
            ],
            [
             1,
             "#276419"
            ]
           ],
           "sequential": [
            [
             0,
             "#0d0887"
            ],
            [
             0.1111111111111111,
             "#46039f"
            ],
            [
             0.2222222222222222,
             "#7201a8"
            ],
            [
             0.3333333333333333,
             "#9c179e"
            ],
            [
             0.4444444444444444,
             "#bd3786"
            ],
            [
             0.5555555555555556,
             "#d8576b"
            ],
            [
             0.6666666666666666,
             "#ed7953"
            ],
            [
             0.7777777777777778,
             "#fb9f3a"
            ],
            [
             0.8888888888888888,
             "#fdca26"
            ],
            [
             1,
             "#f0f921"
            ]
           ],
           "sequentialminus": [
            [
             0,
             "#0d0887"
            ],
            [
             0.1111111111111111,
             "#46039f"
            ],
            [
             0.2222222222222222,
             "#7201a8"
            ],
            [
             0.3333333333333333,
             "#9c179e"
            ],
            [
             0.4444444444444444,
             "#bd3786"
            ],
            [
             0.5555555555555556,
             "#d8576b"
            ],
            [
             0.6666666666666666,
             "#ed7953"
            ],
            [
             0.7777777777777778,
             "#fb9f3a"
            ],
            [
             0.8888888888888888,
             "#fdca26"
            ],
            [
             1,
             "#f0f921"
            ]
           ]
          },
          "colorway": [
           "#636efa",
           "#EF553B",
           "#00cc96",
           "#ab63fa",
           "#FFA15A",
           "#19d3f3",
           "#FF6692",
           "#B6E880",
           "#FF97FF",
           "#FECB52"
          ],
          "font": {
           "color": "#2a3f5f"
          },
          "geo": {
           "bgcolor": "white",
           "lakecolor": "white",
           "landcolor": "#E5ECF6",
           "showlakes": true,
           "showland": true,
           "subunitcolor": "white"
          },
          "hoverlabel": {
           "align": "left"
          },
          "hovermode": "closest",
          "mapbox": {
           "style": "light"
          },
          "paper_bgcolor": "white",
          "plot_bgcolor": "#E5ECF6",
          "polar": {
           "angularaxis": {
            "gridcolor": "white",
            "linecolor": "white",
            "ticks": ""
           },
           "bgcolor": "#E5ECF6",
           "radialaxis": {
            "gridcolor": "white",
            "linecolor": "white",
            "ticks": ""
           }
          },
          "scene": {
           "xaxis": {
            "backgroundcolor": "#E5ECF6",
            "gridcolor": "white",
            "gridwidth": 2,
            "linecolor": "white",
            "showbackground": true,
            "ticks": "",
            "zerolinecolor": "white"
           },
           "yaxis": {
            "backgroundcolor": "#E5ECF6",
            "gridcolor": "white",
            "gridwidth": 2,
            "linecolor": "white",
            "showbackground": true,
            "ticks": "",
            "zerolinecolor": "white"
           },
           "zaxis": {
            "backgroundcolor": "#E5ECF6",
            "gridcolor": "white",
            "gridwidth": 2,
            "linecolor": "white",
            "showbackground": true,
            "ticks": "",
            "zerolinecolor": "white"
           }
          },
          "shapedefaults": {
           "line": {
            "color": "#2a3f5f"
           }
          },
          "ternary": {
           "aaxis": {
            "gridcolor": "white",
            "linecolor": "white",
            "ticks": ""
           },
           "baxis": {
            "gridcolor": "white",
            "linecolor": "white",
            "ticks": ""
           },
           "bgcolor": "#E5ECF6",
           "caxis": {
            "gridcolor": "white",
            "linecolor": "white",
            "ticks": ""
           }
          },
          "title": {
           "x": 0.05
          },
          "xaxis": {
           "automargin": true,
           "gridcolor": "white",
           "linecolor": "white",
           "ticks": "",
           "title": {
            "standoff": 15
           },
           "zerolinecolor": "white",
           "zerolinewidth": 2
          },
          "yaxis": {
           "automargin": true,
           "gridcolor": "white",
           "linecolor": "white",
           "ticks": "",
           "title": {
            "standoff": 15
           },
           "zerolinecolor": "white",
           "zerolinewidth": 2
          }
         }
        },
        "title": {
         "text": "Contribution facet in percentages"
        },
        "xaxis": {
         "anchor": "y",
         "domain": [
          0,
          1
         ],
         "title": {
          "text": "research"
         }
        },
        "yaxis": {
         "anchor": "x",
         "autorange": "reversed",
         "domain": [
          0,
          1
         ],
         "title": {
          "text": "cont"
         }
        }
       }
      },
      "text/html": [
       "<div>                            <div id=\"196dd604-cb79-4914-8701-a8a7c47e4612\" class=\"plotly-graph-div\" style=\"height:525px; width:100%;\"></div>            <script type=\"text/javascript\">                require([\"plotly\"], function(Plotly) {                    window.PLOTLYENV=window.PLOTLYENV || {};                                    if (document.getElementById(\"196dd604-cb79-4914-8701-a8a7c47e4612\")) {                    Plotly.newPlot(                        \"196dd604-cb79-4914-8701-a8a7c47e4612\",                        [{\"coloraxis\":\"coloraxis\",\"name\":\"0\",\"texttemplate\":\"%{z}\",\"x\":[\"evaluation\",\"philosophical\",\"solution\",\"validation\",\"All\"],\"y\":[\"approach\",\"casestudy\",\"experiment\",\"literature\",\"metric\",\"model\",\"nonempirical\",\"process\",\"tool\"],\"z\":[[0.2,0.37,0.37,0.06,1.0],[0.17,0.27,0.47,0.1,1.0],[0.2,0.07,0.6,0.13,1.0],[0.33,0.58,0.08,0.0,1.0],[0.26,0.22,0.48,0.04,1.0],[0.2,0.39,0.37,0.04,1.0],[0.14,0.86,0.0,0.0,1.0],[0.22,0.37,0.35,0.07,1.0],[0.22,0.22,0.5,0.06,1.0]],\"type\":\"heatmap\",\"xaxis\":\"x\",\"yaxis\":\"y\",\"hovertemplate\":\"research: %{x}<br>cont: %{y}<br>color: %{z}<extra></extra>\"}],                        {\"template\":{\"data\":{\"histogram2dcontour\":[{\"type\":\"histogram2dcontour\",\"colorbar\":{\"outlinewidth\":0,\"ticks\":\"\"},\"colorscale\":[[0.0,\"#0d0887\"],[0.1111111111111111,\"#46039f\"],[0.2222222222222222,\"#7201a8\"],[0.3333333333333333,\"#9c179e\"],[0.4444444444444444,\"#bd3786\"],[0.5555555555555556,\"#d8576b\"],[0.6666666666666666,\"#ed7953\"],[0.7777777777777778,\"#fb9f3a\"],[0.8888888888888888,\"#fdca26\"],[1.0,\"#f0f921\"]]}],\"choropleth\":[{\"type\":\"choropleth\",\"colorbar\":{\"outlinewidth\":0,\"ticks\":\"\"}}],\"histogram2d\":[{\"type\":\"histogram2d\",\"colorbar\":{\"outlinewidth\":0,\"ticks\":\"\"},\"colorscale\":[[0.0,\"#0d0887\"],[0.1111111111111111,\"#46039f\"],[0.2222222222222222,\"#7201a8\"],[0.3333333333333333,\"#9c179e\"],[0.4444444444444444,\"#bd3786\"],[0.5555555555555556,\"#d8576b\"],[0.6666666666666666,\"#ed7953\"],[0.7777777777777778,\"#fb9f3a\"],[0.8888888888888888,\"#fdca26\"],[1.0,\"#f0f921\"]]}],\"heatmap\":[{\"type\":\"heatmap\",\"colorbar\":{\"outlinewidth\":0,\"ticks\":\"\"},\"colorscale\":[[0.0,\"#0d0887\"],[0.1111111111111111,\"#46039f\"],[0.2222222222222222,\"#7201a8\"],[0.3333333333333333,\"#9c179e\"],[0.4444444444444444,\"#bd3786\"],[0.5555555555555556,\"#d8576b\"],[0.6666666666666666,\"#ed7953\"],[0.7777777777777778,\"#fb9f3a\"],[0.8888888888888888,\"#fdca26\"],[1.0,\"#f0f921\"]]}],\"heatmapgl\":[{\"type\":\"heatmapgl\",\"colorbar\":{\"outlinewidth\":0,\"ticks\":\"\"},\"colorscale\":[[0.0,\"#0d0887\"],[0.1111111111111111,\"#46039f\"],[0.2222222222222222,\"#7201a8\"],[0.3333333333333333,\"#9c179e\"],[0.4444444444444444,\"#bd3786\"],[0.5555555555555556,\"#d8576b\"],[0.6666666666666666,\"#ed7953\"],[0.7777777777777778,\"#fb9f3a\"],[0.8888888888888888,\"#fdca26\"],[1.0,\"#f0f921\"]]}],\"contourcarpet\":[{\"type\":\"contourcarpet\",\"colorbar\":{\"outlinewidth\":0,\"ticks\":\"\"}}],\"contour\":[{\"type\":\"contour\",\"colorbar\":{\"outlinewidth\":0,\"ticks\":\"\"},\"colorscale\":[[0.0,\"#0d0887\"],[0.1111111111111111,\"#46039f\"],[0.2222222222222222,\"#7201a8\"],[0.3333333333333333,\"#9c179e\"],[0.4444444444444444,\"#bd3786\"],[0.5555555555555556,\"#d8576b\"],[0.6666666666666666,\"#ed7953\"],[0.7777777777777778,\"#fb9f3a\"],[0.8888888888888888,\"#fdca26\"],[1.0,\"#f0f921\"]]}],\"surface\":[{\"type\":\"surface\",\"colorbar\":{\"outlinewidth\":0,\"ticks\":\"\"},\"colorscale\":[[0.0,\"#0d0887\"],[0.1111111111111111,\"#46039f\"],[0.2222222222222222,\"#7201a8\"],[0.3333333333333333,\"#9c179e\"],[0.4444444444444444,\"#bd3786\"],[0.5555555555555556,\"#d8576b\"],[0.6666666666666666,\"#ed7953\"],[0.7777777777777778,\"#fb9f3a\"],[0.8888888888888888,\"#fdca26\"],[1.0,\"#f0f921\"]]}],\"mesh3d\":[{\"type\":\"mesh3d\",\"colorbar\":{\"outlinewidth\":0,\"ticks\":\"\"}}],\"scatter\":[{\"fillpattern\":{\"fillmode\":\"overlay\",\"size\":10,\"solidity\":0.2},\"type\":\"scatter\"}],\"parcoords\":[{\"type\":\"parcoords\",\"line\":{\"colorbar\":{\"outlinewidth\":0,\"ticks\":\"\"}}}],\"scatterpolargl\":[{\"type\":\"scatterpolargl\",\"marker\":{\"colorbar\":{\"outlinewidth\":0,\"ticks\":\"\"}}}],\"bar\":[{\"error_x\":{\"color\":\"#2a3f5f\"},\"error_y\":{\"color\":\"#2a3f5f\"},\"marker\":{\"line\":{\"color\":\"#E5ECF6\",\"width\":0.5},\"pattern\":{\"fillmode\":\"overlay\",\"size\":10,\"solidity\":0.2}},\"type\":\"bar\"}],\"scattergeo\":[{\"type\":\"scattergeo\",\"marker\":{\"colorbar\":{\"outlinewidth\":0,\"ticks\":\"\"}}}],\"scatterpolar\":[{\"type\":\"scatterpolar\",\"marker\":{\"colorbar\":{\"outlinewidth\":0,\"ticks\":\"\"}}}],\"histogram\":[{\"marker\":{\"pattern\":{\"fillmode\":\"overlay\",\"size\":10,\"solidity\":0.2}},\"type\":\"histogram\"}],\"scattergl\":[{\"type\":\"scattergl\",\"marker\":{\"colorbar\":{\"outlinewidth\":0,\"ticks\":\"\"}}}],\"scatter3d\":[{\"type\":\"scatter3d\",\"line\":{\"colorbar\":{\"outlinewidth\":0,\"ticks\":\"\"}},\"marker\":{\"colorbar\":{\"outlinewidth\":0,\"ticks\":\"\"}}}],\"scattermapbox\":[{\"type\":\"scattermapbox\",\"marker\":{\"colorbar\":{\"outlinewidth\":0,\"ticks\":\"\"}}}],\"scatterternary\":[{\"type\":\"scatterternary\",\"marker\":{\"colorbar\":{\"outlinewidth\":0,\"ticks\":\"\"}}}],\"scattercarpet\":[{\"type\":\"scattercarpet\",\"marker\":{\"colorbar\":{\"outlinewidth\":0,\"ticks\":\"\"}}}],\"carpet\":[{\"aaxis\":{\"endlinecolor\":\"#2a3f5f\",\"gridcolor\":\"white\",\"linecolor\":\"white\",\"minorgridcolor\":\"white\",\"startlinecolor\":\"#2a3f5f\"},\"baxis\":{\"endlinecolor\":\"#2a3f5f\",\"gridcolor\":\"white\",\"linecolor\":\"white\",\"minorgridcolor\":\"white\",\"startlinecolor\":\"#2a3f5f\"},\"type\":\"carpet\"}],\"table\":[{\"cells\":{\"fill\":{\"color\":\"#EBF0F8\"},\"line\":{\"color\":\"white\"}},\"header\":{\"fill\":{\"color\":\"#C8D4E3\"},\"line\":{\"color\":\"white\"}},\"type\":\"table\"}],\"barpolar\":[{\"marker\":{\"line\":{\"color\":\"#E5ECF6\",\"width\":0.5},\"pattern\":{\"fillmode\":\"overlay\",\"size\":10,\"solidity\":0.2}},\"type\":\"barpolar\"}],\"pie\":[{\"automargin\":true,\"type\":\"pie\"}]},\"layout\":{\"autotypenumbers\":\"strict\",\"colorway\":[\"#636efa\",\"#EF553B\",\"#00cc96\",\"#ab63fa\",\"#FFA15A\",\"#19d3f3\",\"#FF6692\",\"#B6E880\",\"#FF97FF\",\"#FECB52\"],\"font\":{\"color\":\"#2a3f5f\"},\"hovermode\":\"closest\",\"hoverlabel\":{\"align\":\"left\"},\"paper_bgcolor\":\"white\",\"plot_bgcolor\":\"#E5ECF6\",\"polar\":{\"bgcolor\":\"#E5ECF6\",\"angularaxis\":{\"gridcolor\":\"white\",\"linecolor\":\"white\",\"ticks\":\"\"},\"radialaxis\":{\"gridcolor\":\"white\",\"linecolor\":\"white\",\"ticks\":\"\"}},\"ternary\":{\"bgcolor\":\"#E5ECF6\",\"aaxis\":{\"gridcolor\":\"white\",\"linecolor\":\"white\",\"ticks\":\"\"},\"baxis\":{\"gridcolor\":\"white\",\"linecolor\":\"white\",\"ticks\":\"\"},\"caxis\":{\"gridcolor\":\"white\",\"linecolor\":\"white\",\"ticks\":\"\"}},\"coloraxis\":{\"colorbar\":{\"outlinewidth\":0,\"ticks\":\"\"}},\"colorscale\":{\"sequential\":[[0.0,\"#0d0887\"],[0.1111111111111111,\"#46039f\"],[0.2222222222222222,\"#7201a8\"],[0.3333333333333333,\"#9c179e\"],[0.4444444444444444,\"#bd3786\"],[0.5555555555555556,\"#d8576b\"],[0.6666666666666666,\"#ed7953\"],[0.7777777777777778,\"#fb9f3a\"],[0.8888888888888888,\"#fdca26\"],[1.0,\"#f0f921\"]],\"sequentialminus\":[[0.0,\"#0d0887\"],[0.1111111111111111,\"#46039f\"],[0.2222222222222222,\"#7201a8\"],[0.3333333333333333,\"#9c179e\"],[0.4444444444444444,\"#bd3786\"],[0.5555555555555556,\"#d8576b\"],[0.6666666666666666,\"#ed7953\"],[0.7777777777777778,\"#fb9f3a\"],[0.8888888888888888,\"#fdca26\"],[1.0,\"#f0f921\"]],\"diverging\":[[0,\"#8e0152\"],[0.1,\"#c51b7d\"],[0.2,\"#de77ae\"],[0.3,\"#f1b6da\"],[0.4,\"#fde0ef\"],[0.5,\"#f7f7f7\"],[0.6,\"#e6f5d0\"],[0.7,\"#b8e186\"],[0.8,\"#7fbc41\"],[0.9,\"#4d9221\"],[1,\"#276419\"]]},\"xaxis\":{\"gridcolor\":\"white\",\"linecolor\":\"white\",\"ticks\":\"\",\"title\":{\"standoff\":15},\"zerolinecolor\":\"white\",\"automargin\":true,\"zerolinewidth\":2},\"yaxis\":{\"gridcolor\":\"white\",\"linecolor\":\"white\",\"ticks\":\"\",\"title\":{\"standoff\":15},\"zerolinecolor\":\"white\",\"automargin\":true,\"zerolinewidth\":2},\"scene\":{\"xaxis\":{\"backgroundcolor\":\"#E5ECF6\",\"gridcolor\":\"white\",\"linecolor\":\"white\",\"showbackground\":true,\"ticks\":\"\",\"zerolinecolor\":\"white\",\"gridwidth\":2},\"yaxis\":{\"backgroundcolor\":\"#E5ECF6\",\"gridcolor\":\"white\",\"linecolor\":\"white\",\"showbackground\":true,\"ticks\":\"\",\"zerolinecolor\":\"white\",\"gridwidth\":2},\"zaxis\":{\"backgroundcolor\":\"#E5ECF6\",\"gridcolor\":\"white\",\"linecolor\":\"white\",\"showbackground\":true,\"ticks\":\"\",\"zerolinecolor\":\"white\",\"gridwidth\":2}},\"shapedefaults\":{\"line\":{\"color\":\"#2a3f5f\"}},\"annotationdefaults\":{\"arrowcolor\":\"#2a3f5f\",\"arrowhead\":0,\"arrowwidth\":1},\"geo\":{\"bgcolor\":\"white\",\"landcolor\":\"#E5ECF6\",\"subunitcolor\":\"white\",\"showland\":true,\"showlakes\":true,\"lakecolor\":\"white\"},\"title\":{\"x\":0.05},\"mapbox\":{\"style\":\"light\"}}},\"xaxis\":{\"anchor\":\"y\",\"domain\":[0.0,1.0],\"title\":{\"text\":\"research\"}},\"yaxis\":{\"anchor\":\"x\",\"domain\":[0.0,1.0],\"autorange\":\"reversed\",\"title\":{\"text\":\"cont\"}},\"coloraxis\":{\"colorscale\":[[0.0,\"#0d0887\"],[0.1111111111111111,\"#46039f\"],[0.2222222222222222,\"#7201a8\"],[0.3333333333333333,\"#9c179e\"],[0.4444444444444444,\"#bd3786\"],[0.5555555555555556,\"#d8576b\"],[0.6666666666666666,\"#ed7953\"],[0.7777777777777778,\"#fb9f3a\"],[0.8888888888888888,\"#fdca26\"],[1.0,\"#f0f921\"]]},\"title\":{\"text\":\"Contribution facet in percentages\"}},                        {\"responsive\": true}                    ).then(function(){\n",
       "                            \n",
       "var gd = document.getElementById('196dd604-cb79-4914-8701-a8a7c47e4612');\n",
       "var x = new MutationObserver(function (mutations, observer) {{\n",
       "        var display = window.getComputedStyle(gd).display;\n",
       "        if (!display || display === 'none') {{\n",
       "            console.log([gd, 'removed!']);\n",
       "            Plotly.purge(gd);\n",
       "            observer.disconnect();\n",
       "        }}\n",
       "}});\n",
       "\n",
       "// Listen for the removal of the full notebook cells\n",
       "var notebookContainer = gd.closest('#notebook-container');\n",
       "if (notebookContainer) {{\n",
       "    x.observe(notebookContainer, {childList: true});\n",
       "}}\n",
       "\n",
       "// Listen for the clearing of the current output cell\n",
       "var outputEl = gd.closest('.output');\n",
       "if (outputEl) {{\n",
       "    x.observe(outputEl, {childList: true});\n",
       "}}\n",
       "\n",
       "                        })                };                });            </script>        </div>"
      ]
     },
     "metadata": {},
     "output_type": "display_data"
    }
   ],
   "source": [
    "temp = cta.pipe(\n",
    "    lambda x: x.div(x['All'], axis='index')\n",
    ").applymap('{:.0%}'.format).iloc[:-1]#, :-1]\n",
    "test = temp.copy()\n",
    "\n",
    "for col in test.columns:\n",
    "    test[col] = test[col].str.rstrip('%').astype('float') / 100.0\n",
    "\n",
    "fig = px.imshow(test, text_auto=True, aspect='auto', title='Contribution facet in percentages')\n",
    "fig.show()"
   ]
  },
  {
   "cell_type": "code",
   "execution_count": 48,
   "metadata": {
    "ExecuteTime": {
     "end_time": "2022-12-23T18:55:08.925147Z",
     "start_time": "2022-12-23T18:55:08.893695Z"
    },
    "scrolled": false
   },
   "outputs": [
    {
     "data": {
      "application/vnd.plotly.v1+json": {
       "config": {
        "plotlyServerURL": "https://plot.ly"
       },
       "data": [
        {
         "coloraxis": "coloraxis",
         "hovertemplate": "cont: %{x}<br>research: %{y}<br>color: %{z}<extra></extra>",
         "name": "0",
         "texttemplate": "%{z}",
         "type": "heatmap",
         "x": [
          "approach",
          "casestudy",
          "experiment",
          "literature",
          "metric",
          "model",
          "nonempirical",
          "process",
          "tool",
          "All"
         ],
         "xaxis": "x",
         "y": [
          "evaluation",
          "philosophical",
          "solution",
          "validation"
         ],
         "yaxis": "y",
         "z": [
          [
           0.19,
           0.1,
           0.06,
           0.08,
           0.12,
           0.17,
           0.02,
           0.19,
           0.08,
           1
          ],
          [
           0.21,
           0.1,
           0.01,
           0.08,
           0.06,
           0.21,
           0.07,
           0.2,
           0.05,
           1
          ],
          [
           0.19,
           0.15,
           0.09,
           0.01,
           0.12,
           0.18,
           0,
           0.17,
           0.09,
           1
          ],
          [
           0.2,
           0.2,
           0.13,
           0,
           0.07,
           0.13,
           0,
           0.2,
           0.07,
           1
          ]
         ]
        }
       ],
       "layout": {
        "coloraxis": {
         "colorscale": [
          [
           0,
           "#0d0887"
          ],
          [
           0.1111111111111111,
           "#46039f"
          ],
          [
           0.2222222222222222,
           "#7201a8"
          ],
          [
           0.3333333333333333,
           "#9c179e"
          ],
          [
           0.4444444444444444,
           "#bd3786"
          ],
          [
           0.5555555555555556,
           "#d8576b"
          ],
          [
           0.6666666666666666,
           "#ed7953"
          ],
          [
           0.7777777777777778,
           "#fb9f3a"
          ],
          [
           0.8888888888888888,
           "#fdca26"
          ],
          [
           1,
           "#f0f921"
          ]
         ]
        },
        "template": {
         "data": {
          "bar": [
           {
            "error_x": {
             "color": "#2a3f5f"
            },
            "error_y": {
             "color": "#2a3f5f"
            },
            "marker": {
             "line": {
              "color": "#E5ECF6",
              "width": 0.5
             },
             "pattern": {
              "fillmode": "overlay",
              "size": 10,
              "solidity": 0.2
             }
            },
            "type": "bar"
           }
          ],
          "barpolar": [
           {
            "marker": {
             "line": {
              "color": "#E5ECF6",
              "width": 0.5
             },
             "pattern": {
              "fillmode": "overlay",
              "size": 10,
              "solidity": 0.2
             }
            },
            "type": "barpolar"
           }
          ],
          "carpet": [
           {
            "aaxis": {
             "endlinecolor": "#2a3f5f",
             "gridcolor": "white",
             "linecolor": "white",
             "minorgridcolor": "white",
             "startlinecolor": "#2a3f5f"
            },
            "baxis": {
             "endlinecolor": "#2a3f5f",
             "gridcolor": "white",
             "linecolor": "white",
             "minorgridcolor": "white",
             "startlinecolor": "#2a3f5f"
            },
            "type": "carpet"
           }
          ],
          "choropleth": [
           {
            "colorbar": {
             "outlinewidth": 0,
             "ticks": ""
            },
            "type": "choropleth"
           }
          ],
          "contour": [
           {
            "colorbar": {
             "outlinewidth": 0,
             "ticks": ""
            },
            "colorscale": [
             [
              0,
              "#0d0887"
             ],
             [
              0.1111111111111111,
              "#46039f"
             ],
             [
              0.2222222222222222,
              "#7201a8"
             ],
             [
              0.3333333333333333,
              "#9c179e"
             ],
             [
              0.4444444444444444,
              "#bd3786"
             ],
             [
              0.5555555555555556,
              "#d8576b"
             ],
             [
              0.6666666666666666,
              "#ed7953"
             ],
             [
              0.7777777777777778,
              "#fb9f3a"
             ],
             [
              0.8888888888888888,
              "#fdca26"
             ],
             [
              1,
              "#f0f921"
             ]
            ],
            "type": "contour"
           }
          ],
          "contourcarpet": [
           {
            "colorbar": {
             "outlinewidth": 0,
             "ticks": ""
            },
            "type": "contourcarpet"
           }
          ],
          "heatmap": [
           {
            "colorbar": {
             "outlinewidth": 0,
             "ticks": ""
            },
            "colorscale": [
             [
              0,
              "#0d0887"
             ],
             [
              0.1111111111111111,
              "#46039f"
             ],
             [
              0.2222222222222222,
              "#7201a8"
             ],
             [
              0.3333333333333333,
              "#9c179e"
             ],
             [
              0.4444444444444444,
              "#bd3786"
             ],
             [
              0.5555555555555556,
              "#d8576b"
             ],
             [
              0.6666666666666666,
              "#ed7953"
             ],
             [
              0.7777777777777778,
              "#fb9f3a"
             ],
             [
              0.8888888888888888,
              "#fdca26"
             ],
             [
              1,
              "#f0f921"
             ]
            ],
            "type": "heatmap"
           }
          ],
          "heatmapgl": [
           {
            "colorbar": {
             "outlinewidth": 0,
             "ticks": ""
            },
            "colorscale": [
             [
              0,
              "#0d0887"
             ],
             [
              0.1111111111111111,
              "#46039f"
             ],
             [
              0.2222222222222222,
              "#7201a8"
             ],
             [
              0.3333333333333333,
              "#9c179e"
             ],
             [
              0.4444444444444444,
              "#bd3786"
             ],
             [
              0.5555555555555556,
              "#d8576b"
             ],
             [
              0.6666666666666666,
              "#ed7953"
             ],
             [
              0.7777777777777778,
              "#fb9f3a"
             ],
             [
              0.8888888888888888,
              "#fdca26"
             ],
             [
              1,
              "#f0f921"
             ]
            ],
            "type": "heatmapgl"
           }
          ],
          "histogram": [
           {
            "marker": {
             "pattern": {
              "fillmode": "overlay",
              "size": 10,
              "solidity": 0.2
             }
            },
            "type": "histogram"
           }
          ],
          "histogram2d": [
           {
            "colorbar": {
             "outlinewidth": 0,
             "ticks": ""
            },
            "colorscale": [
             [
              0,
              "#0d0887"
             ],
             [
              0.1111111111111111,
              "#46039f"
             ],
             [
              0.2222222222222222,
              "#7201a8"
             ],
             [
              0.3333333333333333,
              "#9c179e"
             ],
             [
              0.4444444444444444,
              "#bd3786"
             ],
             [
              0.5555555555555556,
              "#d8576b"
             ],
             [
              0.6666666666666666,
              "#ed7953"
             ],
             [
              0.7777777777777778,
              "#fb9f3a"
             ],
             [
              0.8888888888888888,
              "#fdca26"
             ],
             [
              1,
              "#f0f921"
             ]
            ],
            "type": "histogram2d"
           }
          ],
          "histogram2dcontour": [
           {
            "colorbar": {
             "outlinewidth": 0,
             "ticks": ""
            },
            "colorscale": [
             [
              0,
              "#0d0887"
             ],
             [
              0.1111111111111111,
              "#46039f"
             ],
             [
              0.2222222222222222,
              "#7201a8"
             ],
             [
              0.3333333333333333,
              "#9c179e"
             ],
             [
              0.4444444444444444,
              "#bd3786"
             ],
             [
              0.5555555555555556,
              "#d8576b"
             ],
             [
              0.6666666666666666,
              "#ed7953"
             ],
             [
              0.7777777777777778,
              "#fb9f3a"
             ],
             [
              0.8888888888888888,
              "#fdca26"
             ],
             [
              1,
              "#f0f921"
             ]
            ],
            "type": "histogram2dcontour"
           }
          ],
          "mesh3d": [
           {
            "colorbar": {
             "outlinewidth": 0,
             "ticks": ""
            },
            "type": "mesh3d"
           }
          ],
          "parcoords": [
           {
            "line": {
             "colorbar": {
              "outlinewidth": 0,
              "ticks": ""
             }
            },
            "type": "parcoords"
           }
          ],
          "pie": [
           {
            "automargin": true,
            "type": "pie"
           }
          ],
          "scatter": [
           {
            "fillpattern": {
             "fillmode": "overlay",
             "size": 10,
             "solidity": 0.2
            },
            "type": "scatter"
           }
          ],
          "scatter3d": [
           {
            "line": {
             "colorbar": {
              "outlinewidth": 0,
              "ticks": ""
             }
            },
            "marker": {
             "colorbar": {
              "outlinewidth": 0,
              "ticks": ""
             }
            },
            "type": "scatter3d"
           }
          ],
          "scattercarpet": [
           {
            "marker": {
             "colorbar": {
              "outlinewidth": 0,
              "ticks": ""
             }
            },
            "type": "scattercarpet"
           }
          ],
          "scattergeo": [
           {
            "marker": {
             "colorbar": {
              "outlinewidth": 0,
              "ticks": ""
             }
            },
            "type": "scattergeo"
           }
          ],
          "scattergl": [
           {
            "marker": {
             "colorbar": {
              "outlinewidth": 0,
              "ticks": ""
             }
            },
            "type": "scattergl"
           }
          ],
          "scattermapbox": [
           {
            "marker": {
             "colorbar": {
              "outlinewidth": 0,
              "ticks": ""
             }
            },
            "type": "scattermapbox"
           }
          ],
          "scatterpolar": [
           {
            "marker": {
             "colorbar": {
              "outlinewidth": 0,
              "ticks": ""
             }
            },
            "type": "scatterpolar"
           }
          ],
          "scatterpolargl": [
           {
            "marker": {
             "colorbar": {
              "outlinewidth": 0,
              "ticks": ""
             }
            },
            "type": "scatterpolargl"
           }
          ],
          "scatterternary": [
           {
            "marker": {
             "colorbar": {
              "outlinewidth": 0,
              "ticks": ""
             }
            },
            "type": "scatterternary"
           }
          ],
          "surface": [
           {
            "colorbar": {
             "outlinewidth": 0,
             "ticks": ""
            },
            "colorscale": [
             [
              0,
              "#0d0887"
             ],
             [
              0.1111111111111111,
              "#46039f"
             ],
             [
              0.2222222222222222,
              "#7201a8"
             ],
             [
              0.3333333333333333,
              "#9c179e"
             ],
             [
              0.4444444444444444,
              "#bd3786"
             ],
             [
              0.5555555555555556,
              "#d8576b"
             ],
             [
              0.6666666666666666,
              "#ed7953"
             ],
             [
              0.7777777777777778,
              "#fb9f3a"
             ],
             [
              0.8888888888888888,
              "#fdca26"
             ],
             [
              1,
              "#f0f921"
             ]
            ],
            "type": "surface"
           }
          ],
          "table": [
           {
            "cells": {
             "fill": {
              "color": "#EBF0F8"
             },
             "line": {
              "color": "white"
             }
            },
            "header": {
             "fill": {
              "color": "#C8D4E3"
             },
             "line": {
              "color": "white"
             }
            },
            "type": "table"
           }
          ]
         },
         "layout": {
          "annotationdefaults": {
           "arrowcolor": "#2a3f5f",
           "arrowhead": 0,
           "arrowwidth": 1
          },
          "autotypenumbers": "strict",
          "coloraxis": {
           "colorbar": {
            "outlinewidth": 0,
            "ticks": ""
           }
          },
          "colorscale": {
           "diverging": [
            [
             0,
             "#8e0152"
            ],
            [
             0.1,
             "#c51b7d"
            ],
            [
             0.2,
             "#de77ae"
            ],
            [
             0.3,
             "#f1b6da"
            ],
            [
             0.4,
             "#fde0ef"
            ],
            [
             0.5,
             "#f7f7f7"
            ],
            [
             0.6,
             "#e6f5d0"
            ],
            [
             0.7,
             "#b8e186"
            ],
            [
             0.8,
             "#7fbc41"
            ],
            [
             0.9,
             "#4d9221"
            ],
            [
             1,
             "#276419"
            ]
           ],
           "sequential": [
            [
             0,
             "#0d0887"
            ],
            [
             0.1111111111111111,
             "#46039f"
            ],
            [
             0.2222222222222222,
             "#7201a8"
            ],
            [
             0.3333333333333333,
             "#9c179e"
            ],
            [
             0.4444444444444444,
             "#bd3786"
            ],
            [
             0.5555555555555556,
             "#d8576b"
            ],
            [
             0.6666666666666666,
             "#ed7953"
            ],
            [
             0.7777777777777778,
             "#fb9f3a"
            ],
            [
             0.8888888888888888,
             "#fdca26"
            ],
            [
             1,
             "#f0f921"
            ]
           ],
           "sequentialminus": [
            [
             0,
             "#0d0887"
            ],
            [
             0.1111111111111111,
             "#46039f"
            ],
            [
             0.2222222222222222,
             "#7201a8"
            ],
            [
             0.3333333333333333,
             "#9c179e"
            ],
            [
             0.4444444444444444,
             "#bd3786"
            ],
            [
             0.5555555555555556,
             "#d8576b"
            ],
            [
             0.6666666666666666,
             "#ed7953"
            ],
            [
             0.7777777777777778,
             "#fb9f3a"
            ],
            [
             0.8888888888888888,
             "#fdca26"
            ],
            [
             1,
             "#f0f921"
            ]
           ]
          },
          "colorway": [
           "#636efa",
           "#EF553B",
           "#00cc96",
           "#ab63fa",
           "#FFA15A",
           "#19d3f3",
           "#FF6692",
           "#B6E880",
           "#FF97FF",
           "#FECB52"
          ],
          "font": {
           "color": "#2a3f5f"
          },
          "geo": {
           "bgcolor": "white",
           "lakecolor": "white",
           "landcolor": "#E5ECF6",
           "showlakes": true,
           "showland": true,
           "subunitcolor": "white"
          },
          "hoverlabel": {
           "align": "left"
          },
          "hovermode": "closest",
          "mapbox": {
           "style": "light"
          },
          "paper_bgcolor": "white",
          "plot_bgcolor": "#E5ECF6",
          "polar": {
           "angularaxis": {
            "gridcolor": "white",
            "linecolor": "white",
            "ticks": ""
           },
           "bgcolor": "#E5ECF6",
           "radialaxis": {
            "gridcolor": "white",
            "linecolor": "white",
            "ticks": ""
           }
          },
          "scene": {
           "xaxis": {
            "backgroundcolor": "#E5ECF6",
            "gridcolor": "white",
            "gridwidth": 2,
            "linecolor": "white",
            "showbackground": true,
            "ticks": "",
            "zerolinecolor": "white"
           },
           "yaxis": {
            "backgroundcolor": "#E5ECF6",
            "gridcolor": "white",
            "gridwidth": 2,
            "linecolor": "white",
            "showbackground": true,
            "ticks": "",
            "zerolinecolor": "white"
           },
           "zaxis": {
            "backgroundcolor": "#E5ECF6",
            "gridcolor": "white",
            "gridwidth": 2,
            "linecolor": "white",
            "showbackground": true,
            "ticks": "",
            "zerolinecolor": "white"
           }
          },
          "shapedefaults": {
           "line": {
            "color": "#2a3f5f"
           }
          },
          "ternary": {
           "aaxis": {
            "gridcolor": "white",
            "linecolor": "white",
            "ticks": ""
           },
           "baxis": {
            "gridcolor": "white",
            "linecolor": "white",
            "ticks": ""
           },
           "bgcolor": "#E5ECF6",
           "caxis": {
            "gridcolor": "white",
            "linecolor": "white",
            "ticks": ""
           }
          },
          "title": {
           "x": 0.05
          },
          "xaxis": {
           "automargin": true,
           "gridcolor": "white",
           "linecolor": "white",
           "ticks": "",
           "title": {
            "standoff": 15
           },
           "zerolinecolor": "white",
           "zerolinewidth": 2
          },
          "yaxis": {
           "automargin": true,
           "gridcolor": "white",
           "linecolor": "white",
           "ticks": "",
           "title": {
            "standoff": 15
           },
           "zerolinecolor": "white",
           "zerolinewidth": 2
          }
         }
        },
        "title": {
         "text": "Research facet in percentages"
        },
        "xaxis": {
         "anchor": "y",
         "domain": [
          0,
          1
         ],
         "title": {
          "text": "cont"
         }
        },
        "yaxis": {
         "anchor": "x",
         "autorange": "reversed",
         "domain": [
          0,
          1
         ],
         "title": {
          "text": "research"
         }
        }
       }
      },
      "text/html": [
       "<div>                            <div id=\"4139976e-398e-43bd-9834-aa768126d4ed\" class=\"plotly-graph-div\" style=\"height:525px; width:100%;\"></div>            <script type=\"text/javascript\">                require([\"plotly\"], function(Plotly) {                    window.PLOTLYENV=window.PLOTLYENV || {};                                    if (document.getElementById(\"4139976e-398e-43bd-9834-aa768126d4ed\")) {                    Plotly.newPlot(                        \"4139976e-398e-43bd-9834-aa768126d4ed\",                        [{\"coloraxis\":\"coloraxis\",\"name\":\"0\",\"texttemplate\":\"%{z}\",\"x\":[\"approach\",\"casestudy\",\"experiment\",\"literature\",\"metric\",\"model\",\"nonempirical\",\"process\",\"tool\",\"All\"],\"y\":[\"evaluation\",\"philosophical\",\"solution\",\"validation\"],\"z\":[[0.19,0.1,0.06,0.08,0.12,0.17,0.02,0.19,0.08,1.0],[0.21,0.1,0.01,0.08,0.06,0.21,0.07,0.2,0.05,1.0],[0.19,0.15,0.09,0.01,0.12,0.18,0.0,0.17,0.09,1.0],[0.2,0.2,0.13,0.0,0.07,0.13,0.0,0.2,0.07,1.0]],\"type\":\"heatmap\",\"xaxis\":\"x\",\"yaxis\":\"y\",\"hovertemplate\":\"cont: %{x}<br>research: %{y}<br>color: %{z}<extra></extra>\"}],                        {\"template\":{\"data\":{\"histogram2dcontour\":[{\"type\":\"histogram2dcontour\",\"colorbar\":{\"outlinewidth\":0,\"ticks\":\"\"},\"colorscale\":[[0.0,\"#0d0887\"],[0.1111111111111111,\"#46039f\"],[0.2222222222222222,\"#7201a8\"],[0.3333333333333333,\"#9c179e\"],[0.4444444444444444,\"#bd3786\"],[0.5555555555555556,\"#d8576b\"],[0.6666666666666666,\"#ed7953\"],[0.7777777777777778,\"#fb9f3a\"],[0.8888888888888888,\"#fdca26\"],[1.0,\"#f0f921\"]]}],\"choropleth\":[{\"type\":\"choropleth\",\"colorbar\":{\"outlinewidth\":0,\"ticks\":\"\"}}],\"histogram2d\":[{\"type\":\"histogram2d\",\"colorbar\":{\"outlinewidth\":0,\"ticks\":\"\"},\"colorscale\":[[0.0,\"#0d0887\"],[0.1111111111111111,\"#46039f\"],[0.2222222222222222,\"#7201a8\"],[0.3333333333333333,\"#9c179e\"],[0.4444444444444444,\"#bd3786\"],[0.5555555555555556,\"#d8576b\"],[0.6666666666666666,\"#ed7953\"],[0.7777777777777778,\"#fb9f3a\"],[0.8888888888888888,\"#fdca26\"],[1.0,\"#f0f921\"]]}],\"heatmap\":[{\"type\":\"heatmap\",\"colorbar\":{\"outlinewidth\":0,\"ticks\":\"\"},\"colorscale\":[[0.0,\"#0d0887\"],[0.1111111111111111,\"#46039f\"],[0.2222222222222222,\"#7201a8\"],[0.3333333333333333,\"#9c179e\"],[0.4444444444444444,\"#bd3786\"],[0.5555555555555556,\"#d8576b\"],[0.6666666666666666,\"#ed7953\"],[0.7777777777777778,\"#fb9f3a\"],[0.8888888888888888,\"#fdca26\"],[1.0,\"#f0f921\"]]}],\"heatmapgl\":[{\"type\":\"heatmapgl\",\"colorbar\":{\"outlinewidth\":0,\"ticks\":\"\"},\"colorscale\":[[0.0,\"#0d0887\"],[0.1111111111111111,\"#46039f\"],[0.2222222222222222,\"#7201a8\"],[0.3333333333333333,\"#9c179e\"],[0.4444444444444444,\"#bd3786\"],[0.5555555555555556,\"#d8576b\"],[0.6666666666666666,\"#ed7953\"],[0.7777777777777778,\"#fb9f3a\"],[0.8888888888888888,\"#fdca26\"],[1.0,\"#f0f921\"]]}],\"contourcarpet\":[{\"type\":\"contourcarpet\",\"colorbar\":{\"outlinewidth\":0,\"ticks\":\"\"}}],\"contour\":[{\"type\":\"contour\",\"colorbar\":{\"outlinewidth\":0,\"ticks\":\"\"},\"colorscale\":[[0.0,\"#0d0887\"],[0.1111111111111111,\"#46039f\"],[0.2222222222222222,\"#7201a8\"],[0.3333333333333333,\"#9c179e\"],[0.4444444444444444,\"#bd3786\"],[0.5555555555555556,\"#d8576b\"],[0.6666666666666666,\"#ed7953\"],[0.7777777777777778,\"#fb9f3a\"],[0.8888888888888888,\"#fdca26\"],[1.0,\"#f0f921\"]]}],\"surface\":[{\"type\":\"surface\",\"colorbar\":{\"outlinewidth\":0,\"ticks\":\"\"},\"colorscale\":[[0.0,\"#0d0887\"],[0.1111111111111111,\"#46039f\"],[0.2222222222222222,\"#7201a8\"],[0.3333333333333333,\"#9c179e\"],[0.4444444444444444,\"#bd3786\"],[0.5555555555555556,\"#d8576b\"],[0.6666666666666666,\"#ed7953\"],[0.7777777777777778,\"#fb9f3a\"],[0.8888888888888888,\"#fdca26\"],[1.0,\"#f0f921\"]]}],\"mesh3d\":[{\"type\":\"mesh3d\",\"colorbar\":{\"outlinewidth\":0,\"ticks\":\"\"}}],\"scatter\":[{\"fillpattern\":{\"fillmode\":\"overlay\",\"size\":10,\"solidity\":0.2},\"type\":\"scatter\"}],\"parcoords\":[{\"type\":\"parcoords\",\"line\":{\"colorbar\":{\"outlinewidth\":0,\"ticks\":\"\"}}}],\"scatterpolargl\":[{\"type\":\"scatterpolargl\",\"marker\":{\"colorbar\":{\"outlinewidth\":0,\"ticks\":\"\"}}}],\"bar\":[{\"error_x\":{\"color\":\"#2a3f5f\"},\"error_y\":{\"color\":\"#2a3f5f\"},\"marker\":{\"line\":{\"color\":\"#E5ECF6\",\"width\":0.5},\"pattern\":{\"fillmode\":\"overlay\",\"size\":10,\"solidity\":0.2}},\"type\":\"bar\"}],\"scattergeo\":[{\"type\":\"scattergeo\",\"marker\":{\"colorbar\":{\"outlinewidth\":0,\"ticks\":\"\"}}}],\"scatterpolar\":[{\"type\":\"scatterpolar\",\"marker\":{\"colorbar\":{\"outlinewidth\":0,\"ticks\":\"\"}}}],\"histogram\":[{\"marker\":{\"pattern\":{\"fillmode\":\"overlay\",\"size\":10,\"solidity\":0.2}},\"type\":\"histogram\"}],\"scattergl\":[{\"type\":\"scattergl\",\"marker\":{\"colorbar\":{\"outlinewidth\":0,\"ticks\":\"\"}}}],\"scatter3d\":[{\"type\":\"scatter3d\",\"line\":{\"colorbar\":{\"outlinewidth\":0,\"ticks\":\"\"}},\"marker\":{\"colorbar\":{\"outlinewidth\":0,\"ticks\":\"\"}}}],\"scattermapbox\":[{\"type\":\"scattermapbox\",\"marker\":{\"colorbar\":{\"outlinewidth\":0,\"ticks\":\"\"}}}],\"scatterternary\":[{\"type\":\"scatterternary\",\"marker\":{\"colorbar\":{\"outlinewidth\":0,\"ticks\":\"\"}}}],\"scattercarpet\":[{\"type\":\"scattercarpet\",\"marker\":{\"colorbar\":{\"outlinewidth\":0,\"ticks\":\"\"}}}],\"carpet\":[{\"aaxis\":{\"endlinecolor\":\"#2a3f5f\",\"gridcolor\":\"white\",\"linecolor\":\"white\",\"minorgridcolor\":\"white\",\"startlinecolor\":\"#2a3f5f\"},\"baxis\":{\"endlinecolor\":\"#2a3f5f\",\"gridcolor\":\"white\",\"linecolor\":\"white\",\"minorgridcolor\":\"white\",\"startlinecolor\":\"#2a3f5f\"},\"type\":\"carpet\"}],\"table\":[{\"cells\":{\"fill\":{\"color\":\"#EBF0F8\"},\"line\":{\"color\":\"white\"}},\"header\":{\"fill\":{\"color\":\"#C8D4E3\"},\"line\":{\"color\":\"white\"}},\"type\":\"table\"}],\"barpolar\":[{\"marker\":{\"line\":{\"color\":\"#E5ECF6\",\"width\":0.5},\"pattern\":{\"fillmode\":\"overlay\",\"size\":10,\"solidity\":0.2}},\"type\":\"barpolar\"}],\"pie\":[{\"automargin\":true,\"type\":\"pie\"}]},\"layout\":{\"autotypenumbers\":\"strict\",\"colorway\":[\"#636efa\",\"#EF553B\",\"#00cc96\",\"#ab63fa\",\"#FFA15A\",\"#19d3f3\",\"#FF6692\",\"#B6E880\",\"#FF97FF\",\"#FECB52\"],\"font\":{\"color\":\"#2a3f5f\"},\"hovermode\":\"closest\",\"hoverlabel\":{\"align\":\"left\"},\"paper_bgcolor\":\"white\",\"plot_bgcolor\":\"#E5ECF6\",\"polar\":{\"bgcolor\":\"#E5ECF6\",\"angularaxis\":{\"gridcolor\":\"white\",\"linecolor\":\"white\",\"ticks\":\"\"},\"radialaxis\":{\"gridcolor\":\"white\",\"linecolor\":\"white\",\"ticks\":\"\"}},\"ternary\":{\"bgcolor\":\"#E5ECF6\",\"aaxis\":{\"gridcolor\":\"white\",\"linecolor\":\"white\",\"ticks\":\"\"},\"baxis\":{\"gridcolor\":\"white\",\"linecolor\":\"white\",\"ticks\":\"\"},\"caxis\":{\"gridcolor\":\"white\",\"linecolor\":\"white\",\"ticks\":\"\"}},\"coloraxis\":{\"colorbar\":{\"outlinewidth\":0,\"ticks\":\"\"}},\"colorscale\":{\"sequential\":[[0.0,\"#0d0887\"],[0.1111111111111111,\"#46039f\"],[0.2222222222222222,\"#7201a8\"],[0.3333333333333333,\"#9c179e\"],[0.4444444444444444,\"#bd3786\"],[0.5555555555555556,\"#d8576b\"],[0.6666666666666666,\"#ed7953\"],[0.7777777777777778,\"#fb9f3a\"],[0.8888888888888888,\"#fdca26\"],[1.0,\"#f0f921\"]],\"sequentialminus\":[[0.0,\"#0d0887\"],[0.1111111111111111,\"#46039f\"],[0.2222222222222222,\"#7201a8\"],[0.3333333333333333,\"#9c179e\"],[0.4444444444444444,\"#bd3786\"],[0.5555555555555556,\"#d8576b\"],[0.6666666666666666,\"#ed7953\"],[0.7777777777777778,\"#fb9f3a\"],[0.8888888888888888,\"#fdca26\"],[1.0,\"#f0f921\"]],\"diverging\":[[0,\"#8e0152\"],[0.1,\"#c51b7d\"],[0.2,\"#de77ae\"],[0.3,\"#f1b6da\"],[0.4,\"#fde0ef\"],[0.5,\"#f7f7f7\"],[0.6,\"#e6f5d0\"],[0.7,\"#b8e186\"],[0.8,\"#7fbc41\"],[0.9,\"#4d9221\"],[1,\"#276419\"]]},\"xaxis\":{\"gridcolor\":\"white\",\"linecolor\":\"white\",\"ticks\":\"\",\"title\":{\"standoff\":15},\"zerolinecolor\":\"white\",\"automargin\":true,\"zerolinewidth\":2},\"yaxis\":{\"gridcolor\":\"white\",\"linecolor\":\"white\",\"ticks\":\"\",\"title\":{\"standoff\":15},\"zerolinecolor\":\"white\",\"automargin\":true,\"zerolinewidth\":2},\"scene\":{\"xaxis\":{\"backgroundcolor\":\"#E5ECF6\",\"gridcolor\":\"white\",\"linecolor\":\"white\",\"showbackground\":true,\"ticks\":\"\",\"zerolinecolor\":\"white\",\"gridwidth\":2},\"yaxis\":{\"backgroundcolor\":\"#E5ECF6\",\"gridcolor\":\"white\",\"linecolor\":\"white\",\"showbackground\":true,\"ticks\":\"\",\"zerolinecolor\":\"white\",\"gridwidth\":2},\"zaxis\":{\"backgroundcolor\":\"#E5ECF6\",\"gridcolor\":\"white\",\"linecolor\":\"white\",\"showbackground\":true,\"ticks\":\"\",\"zerolinecolor\":\"white\",\"gridwidth\":2}},\"shapedefaults\":{\"line\":{\"color\":\"#2a3f5f\"}},\"annotationdefaults\":{\"arrowcolor\":\"#2a3f5f\",\"arrowhead\":0,\"arrowwidth\":1},\"geo\":{\"bgcolor\":\"white\",\"landcolor\":\"#E5ECF6\",\"subunitcolor\":\"white\",\"showland\":true,\"showlakes\":true,\"lakecolor\":\"white\"},\"title\":{\"x\":0.05},\"mapbox\":{\"style\":\"light\"}}},\"xaxis\":{\"anchor\":\"y\",\"domain\":[0.0,1.0],\"title\":{\"text\":\"cont\"}},\"yaxis\":{\"anchor\":\"x\",\"domain\":[0.0,1.0],\"autorange\":\"reversed\",\"title\":{\"text\":\"research\"}},\"coloraxis\":{\"colorscale\":[[0.0,\"#0d0887\"],[0.1111111111111111,\"#46039f\"],[0.2222222222222222,\"#7201a8\"],[0.3333333333333333,\"#9c179e\"],[0.4444444444444444,\"#bd3786\"],[0.5555555555555556,\"#d8576b\"],[0.6666666666666666,\"#ed7953\"],[0.7777777777777778,\"#fb9f3a\"],[0.8888888888888888,\"#fdca26\"],[1.0,\"#f0f921\"]]},\"title\":{\"text\":\"Research facet in percentages\"}},                        {\"responsive\": true}                    ).then(function(){\n",
       "                            \n",
       "var gd = document.getElementById('4139976e-398e-43bd-9834-aa768126d4ed');\n",
       "var x = new MutationObserver(function (mutations, observer) {{\n",
       "        var display = window.getComputedStyle(gd).display;\n",
       "        if (!display || display === 'none') {{\n",
       "            console.log([gd, 'removed!']);\n",
       "            Plotly.purge(gd);\n",
       "            observer.disconnect();\n",
       "        }}\n",
       "}});\n",
       "\n",
       "// Listen for the removal of the full notebook cells\n",
       "var notebookContainer = gd.closest('#notebook-container');\n",
       "if (notebookContainer) {{\n",
       "    x.observe(notebookContainer, {childList: true});\n",
       "}}\n",
       "\n",
       "// Listen for the clearing of the current output cell\n",
       "var outputEl = gd.closest('.output');\n",
       "if (outputEl) {{\n",
       "    x.observe(outputEl, {childList: true});\n",
       "}}\n",
       "\n",
       "                        })                };                });            </script>        </div>"
      ]
     },
     "metadata": {},
     "output_type": "display_data"
    }
   ],
   "source": [
    "temp = cta.T.pipe(lambda x: x.div(x['All'], axis='index')).applymap(\n",
    "    '{:.0%}'.format).iloc[:-1]  #, :-1]\n",
    "test = temp.copy()\n",
    "\n",
    "for col in test.columns:\n",
    "    test[col] = test[col].str.rstrip('%').astype('float') / 100.0\n",
    "\n",
    "fig = px.imshow(test,\n",
    "                text_auto=True,\n",
    "                aspect='auto',\n",
    "                title='Research facet in percentages')\n",
    "fig.show()"
   ]
  },
  {
   "cell_type": "markdown",
   "metadata": {},
   "source": [
    "# Explore year"
   ]
  },
  {
   "cell_type": "code",
   "execution_count": 49,
   "metadata": {
    "ExecuteTime": {
     "end_time": "2022-12-23T18:55:08.934312Z",
     "start_time": "2022-12-23T18:55:08.926505Z"
    }
   },
   "outputs": [
    {
     "data": {
      "application/vnd.plotly.v1+json": {
       "config": {
        "plotlyServerURL": "https://plot.ly"
       },
       "data": [
        {
         "histfunc": "count",
         "type": "histogram",
         "x": [
          "2022",
          "2022",
          "2022",
          "2021",
          "2022",
          "2020",
          "2021",
          "2022",
          "2021",
          "2021",
          "2021",
          "2022",
          "2020",
          "2022",
          "2020",
          "2020",
          "2021",
          "2022",
          "2021",
          "2021",
          "2022",
          "2022",
          "2022",
          "2022",
          "2022",
          "2021",
          "2022",
          "2022",
          "2022",
          "2022",
          "2022",
          "2022",
          "2022",
          "2021",
          "2021",
          "2022",
          "2022",
          "2022",
          "2020",
          "2022",
          "2022",
          "2020",
          "2022",
          "2020",
          "2021",
          "2022",
          "2022",
          "2022",
          "2020"
         ]
        }
       ],
       "layout": {
        "template": {
         "data": {
          "bar": [
           {
            "error_x": {
             "color": "#2a3f5f"
            },
            "error_y": {
             "color": "#2a3f5f"
            },
            "marker": {
             "line": {
              "color": "#E5ECF6",
              "width": 0.5
             },
             "pattern": {
              "fillmode": "overlay",
              "size": 10,
              "solidity": 0.2
             }
            },
            "type": "bar"
           }
          ],
          "barpolar": [
           {
            "marker": {
             "line": {
              "color": "#E5ECF6",
              "width": 0.5
             },
             "pattern": {
              "fillmode": "overlay",
              "size": 10,
              "solidity": 0.2
             }
            },
            "type": "barpolar"
           }
          ],
          "carpet": [
           {
            "aaxis": {
             "endlinecolor": "#2a3f5f",
             "gridcolor": "white",
             "linecolor": "white",
             "minorgridcolor": "white",
             "startlinecolor": "#2a3f5f"
            },
            "baxis": {
             "endlinecolor": "#2a3f5f",
             "gridcolor": "white",
             "linecolor": "white",
             "minorgridcolor": "white",
             "startlinecolor": "#2a3f5f"
            },
            "type": "carpet"
           }
          ],
          "choropleth": [
           {
            "colorbar": {
             "outlinewidth": 0,
             "ticks": ""
            },
            "type": "choropleth"
           }
          ],
          "contour": [
           {
            "colorbar": {
             "outlinewidth": 0,
             "ticks": ""
            },
            "colorscale": [
             [
              0,
              "#0d0887"
             ],
             [
              0.1111111111111111,
              "#46039f"
             ],
             [
              0.2222222222222222,
              "#7201a8"
             ],
             [
              0.3333333333333333,
              "#9c179e"
             ],
             [
              0.4444444444444444,
              "#bd3786"
             ],
             [
              0.5555555555555556,
              "#d8576b"
             ],
             [
              0.6666666666666666,
              "#ed7953"
             ],
             [
              0.7777777777777778,
              "#fb9f3a"
             ],
             [
              0.8888888888888888,
              "#fdca26"
             ],
             [
              1,
              "#f0f921"
             ]
            ],
            "type": "contour"
           }
          ],
          "contourcarpet": [
           {
            "colorbar": {
             "outlinewidth": 0,
             "ticks": ""
            },
            "type": "contourcarpet"
           }
          ],
          "heatmap": [
           {
            "colorbar": {
             "outlinewidth": 0,
             "ticks": ""
            },
            "colorscale": [
             [
              0,
              "#0d0887"
             ],
             [
              0.1111111111111111,
              "#46039f"
             ],
             [
              0.2222222222222222,
              "#7201a8"
             ],
             [
              0.3333333333333333,
              "#9c179e"
             ],
             [
              0.4444444444444444,
              "#bd3786"
             ],
             [
              0.5555555555555556,
              "#d8576b"
             ],
             [
              0.6666666666666666,
              "#ed7953"
             ],
             [
              0.7777777777777778,
              "#fb9f3a"
             ],
             [
              0.8888888888888888,
              "#fdca26"
             ],
             [
              1,
              "#f0f921"
             ]
            ],
            "type": "heatmap"
           }
          ],
          "heatmapgl": [
           {
            "colorbar": {
             "outlinewidth": 0,
             "ticks": ""
            },
            "colorscale": [
             [
              0,
              "#0d0887"
             ],
             [
              0.1111111111111111,
              "#46039f"
             ],
             [
              0.2222222222222222,
              "#7201a8"
             ],
             [
              0.3333333333333333,
              "#9c179e"
             ],
             [
              0.4444444444444444,
              "#bd3786"
             ],
             [
              0.5555555555555556,
              "#d8576b"
             ],
             [
              0.6666666666666666,
              "#ed7953"
             ],
             [
              0.7777777777777778,
              "#fb9f3a"
             ],
             [
              0.8888888888888888,
              "#fdca26"
             ],
             [
              1,
              "#f0f921"
             ]
            ],
            "type": "heatmapgl"
           }
          ],
          "histogram": [
           {
            "marker": {
             "pattern": {
              "fillmode": "overlay",
              "size": 10,
              "solidity": 0.2
             }
            },
            "type": "histogram"
           }
          ],
          "histogram2d": [
           {
            "colorbar": {
             "outlinewidth": 0,
             "ticks": ""
            },
            "colorscale": [
             [
              0,
              "#0d0887"
             ],
             [
              0.1111111111111111,
              "#46039f"
             ],
             [
              0.2222222222222222,
              "#7201a8"
             ],
             [
              0.3333333333333333,
              "#9c179e"
             ],
             [
              0.4444444444444444,
              "#bd3786"
             ],
             [
              0.5555555555555556,
              "#d8576b"
             ],
             [
              0.6666666666666666,
              "#ed7953"
             ],
             [
              0.7777777777777778,
              "#fb9f3a"
             ],
             [
              0.8888888888888888,
              "#fdca26"
             ],
             [
              1,
              "#f0f921"
             ]
            ],
            "type": "histogram2d"
           }
          ],
          "histogram2dcontour": [
           {
            "colorbar": {
             "outlinewidth": 0,
             "ticks": ""
            },
            "colorscale": [
             [
              0,
              "#0d0887"
             ],
             [
              0.1111111111111111,
              "#46039f"
             ],
             [
              0.2222222222222222,
              "#7201a8"
             ],
             [
              0.3333333333333333,
              "#9c179e"
             ],
             [
              0.4444444444444444,
              "#bd3786"
             ],
             [
              0.5555555555555556,
              "#d8576b"
             ],
             [
              0.6666666666666666,
              "#ed7953"
             ],
             [
              0.7777777777777778,
              "#fb9f3a"
             ],
             [
              0.8888888888888888,
              "#fdca26"
             ],
             [
              1,
              "#f0f921"
             ]
            ],
            "type": "histogram2dcontour"
           }
          ],
          "mesh3d": [
           {
            "colorbar": {
             "outlinewidth": 0,
             "ticks": ""
            },
            "type": "mesh3d"
           }
          ],
          "parcoords": [
           {
            "line": {
             "colorbar": {
              "outlinewidth": 0,
              "ticks": ""
             }
            },
            "type": "parcoords"
           }
          ],
          "pie": [
           {
            "automargin": true,
            "type": "pie"
           }
          ],
          "scatter": [
           {
            "fillpattern": {
             "fillmode": "overlay",
             "size": 10,
             "solidity": 0.2
            },
            "type": "scatter"
           }
          ],
          "scatter3d": [
           {
            "line": {
             "colorbar": {
              "outlinewidth": 0,
              "ticks": ""
             }
            },
            "marker": {
             "colorbar": {
              "outlinewidth": 0,
              "ticks": ""
             }
            },
            "type": "scatter3d"
           }
          ],
          "scattercarpet": [
           {
            "marker": {
             "colorbar": {
              "outlinewidth": 0,
              "ticks": ""
             }
            },
            "type": "scattercarpet"
           }
          ],
          "scattergeo": [
           {
            "marker": {
             "colorbar": {
              "outlinewidth": 0,
              "ticks": ""
             }
            },
            "type": "scattergeo"
           }
          ],
          "scattergl": [
           {
            "marker": {
             "colorbar": {
              "outlinewidth": 0,
              "ticks": ""
             }
            },
            "type": "scattergl"
           }
          ],
          "scattermapbox": [
           {
            "marker": {
             "colorbar": {
              "outlinewidth": 0,
              "ticks": ""
             }
            },
            "type": "scattermapbox"
           }
          ],
          "scatterpolar": [
           {
            "marker": {
             "colorbar": {
              "outlinewidth": 0,
              "ticks": ""
             }
            },
            "type": "scatterpolar"
           }
          ],
          "scatterpolargl": [
           {
            "marker": {
             "colorbar": {
              "outlinewidth": 0,
              "ticks": ""
             }
            },
            "type": "scatterpolargl"
           }
          ],
          "scatterternary": [
           {
            "marker": {
             "colorbar": {
              "outlinewidth": 0,
              "ticks": ""
             }
            },
            "type": "scatterternary"
           }
          ],
          "surface": [
           {
            "colorbar": {
             "outlinewidth": 0,
             "ticks": ""
            },
            "colorscale": [
             [
              0,
              "#0d0887"
             ],
             [
              0.1111111111111111,
              "#46039f"
             ],
             [
              0.2222222222222222,
              "#7201a8"
             ],
             [
              0.3333333333333333,
              "#9c179e"
             ],
             [
              0.4444444444444444,
              "#bd3786"
             ],
             [
              0.5555555555555556,
              "#d8576b"
             ],
             [
              0.6666666666666666,
              "#ed7953"
             ],
             [
              0.7777777777777778,
              "#fb9f3a"
             ],
             [
              0.8888888888888888,
              "#fdca26"
             ],
             [
              1,
              "#f0f921"
             ]
            ],
            "type": "surface"
           }
          ],
          "table": [
           {
            "cells": {
             "fill": {
              "color": "#EBF0F8"
             },
             "line": {
              "color": "white"
             }
            },
            "header": {
             "fill": {
              "color": "#C8D4E3"
             },
             "line": {
              "color": "white"
             }
            },
            "type": "table"
           }
          ]
         },
         "layout": {
          "annotationdefaults": {
           "arrowcolor": "#2a3f5f",
           "arrowhead": 0,
           "arrowwidth": 1
          },
          "autotypenumbers": "strict",
          "coloraxis": {
           "colorbar": {
            "outlinewidth": 0,
            "ticks": ""
           }
          },
          "colorscale": {
           "diverging": [
            [
             0,
             "#8e0152"
            ],
            [
             0.1,
             "#c51b7d"
            ],
            [
             0.2,
             "#de77ae"
            ],
            [
             0.3,
             "#f1b6da"
            ],
            [
             0.4,
             "#fde0ef"
            ],
            [
             0.5,
             "#f7f7f7"
            ],
            [
             0.6,
             "#e6f5d0"
            ],
            [
             0.7,
             "#b8e186"
            ],
            [
             0.8,
             "#7fbc41"
            ],
            [
             0.9,
             "#4d9221"
            ],
            [
             1,
             "#276419"
            ]
           ],
           "sequential": [
            [
             0,
             "#0d0887"
            ],
            [
             0.1111111111111111,
             "#46039f"
            ],
            [
             0.2222222222222222,
             "#7201a8"
            ],
            [
             0.3333333333333333,
             "#9c179e"
            ],
            [
             0.4444444444444444,
             "#bd3786"
            ],
            [
             0.5555555555555556,
             "#d8576b"
            ],
            [
             0.6666666666666666,
             "#ed7953"
            ],
            [
             0.7777777777777778,
             "#fb9f3a"
            ],
            [
             0.8888888888888888,
             "#fdca26"
            ],
            [
             1,
             "#f0f921"
            ]
           ],
           "sequentialminus": [
            [
             0,
             "#0d0887"
            ],
            [
             0.1111111111111111,
             "#46039f"
            ],
            [
             0.2222222222222222,
             "#7201a8"
            ],
            [
             0.3333333333333333,
             "#9c179e"
            ],
            [
             0.4444444444444444,
             "#bd3786"
            ],
            [
             0.5555555555555556,
             "#d8576b"
            ],
            [
             0.6666666666666666,
             "#ed7953"
            ],
            [
             0.7777777777777778,
             "#fb9f3a"
            ],
            [
             0.8888888888888888,
             "#fdca26"
            ],
            [
             1,
             "#f0f921"
            ]
           ]
          },
          "colorway": [
           "#636efa",
           "#EF553B",
           "#00cc96",
           "#ab63fa",
           "#FFA15A",
           "#19d3f3",
           "#FF6692",
           "#B6E880",
           "#FF97FF",
           "#FECB52"
          ],
          "font": {
           "color": "#2a3f5f"
          },
          "geo": {
           "bgcolor": "white",
           "lakecolor": "white",
           "landcolor": "#E5ECF6",
           "showlakes": true,
           "showland": true,
           "subunitcolor": "white"
          },
          "hoverlabel": {
           "align": "left"
          },
          "hovermode": "closest",
          "mapbox": {
           "style": "light"
          },
          "paper_bgcolor": "white",
          "plot_bgcolor": "#E5ECF6",
          "polar": {
           "angularaxis": {
            "gridcolor": "white",
            "linecolor": "white",
            "ticks": ""
           },
           "bgcolor": "#E5ECF6",
           "radialaxis": {
            "gridcolor": "white",
            "linecolor": "white",
            "ticks": ""
           }
          },
          "scene": {
           "xaxis": {
            "backgroundcolor": "#E5ECF6",
            "gridcolor": "white",
            "gridwidth": 2,
            "linecolor": "white",
            "showbackground": true,
            "ticks": "",
            "zerolinecolor": "white"
           },
           "yaxis": {
            "backgroundcolor": "#E5ECF6",
            "gridcolor": "white",
            "gridwidth": 2,
            "linecolor": "white",
            "showbackground": true,
            "ticks": "",
            "zerolinecolor": "white"
           },
           "zaxis": {
            "backgroundcolor": "#E5ECF6",
            "gridcolor": "white",
            "gridwidth": 2,
            "linecolor": "white",
            "showbackground": true,
            "ticks": "",
            "zerolinecolor": "white"
           }
          },
          "shapedefaults": {
           "line": {
            "color": "#2a3f5f"
           }
          },
          "ternary": {
           "aaxis": {
            "gridcolor": "white",
            "linecolor": "white",
            "ticks": ""
           },
           "baxis": {
            "gridcolor": "white",
            "linecolor": "white",
            "ticks": ""
           },
           "bgcolor": "#E5ECF6",
           "caxis": {
            "gridcolor": "white",
            "linecolor": "white",
            "ticks": ""
           }
          },
          "title": {
           "x": 0.05
          },
          "xaxis": {
           "automargin": true,
           "gridcolor": "white",
           "linecolor": "white",
           "ticks": "",
           "title": {
            "standoff": 15
           },
           "zerolinecolor": "white",
           "zerolinewidth": 2
          },
          "yaxis": {
           "automargin": true,
           "gridcolor": "white",
           "linecolor": "white",
           "ticks": "",
           "title": {
            "standoff": 15
           },
           "zerolinecolor": "white",
           "zerolinewidth": 2
          }
         }
        }
       }
      },
      "text/html": [
       "<div>                            <div id=\"93043ea9-5982-4d81-9b54-7042b9224223\" class=\"plotly-graph-div\" style=\"height:525px; width:100%;\"></div>            <script type=\"text/javascript\">                require([\"plotly\"], function(Plotly) {                    window.PLOTLYENV=window.PLOTLYENV || {};                                    if (document.getElementById(\"93043ea9-5982-4d81-9b54-7042b9224223\")) {                    Plotly.newPlot(                        \"93043ea9-5982-4d81-9b54-7042b9224223\",                        [{\"histfunc\":\"count\",\"x\":[\"2022\",\"2022\",\"2022\",\"2021\",\"2022\",\"2020\",\"2021\",\"2022\",\"2021\",\"2021\",\"2021\",\"2022\",\"2020\",\"2022\",\"2020\",\"2020\",\"2021\",\"2022\",\"2021\",\"2021\",\"2022\",\"2022\",\"2022\",\"2022\",\"2022\",\"2021\",\"2022\",\"2022\",\"2022\",\"2022\",\"2022\",\"2022\",\"2022\",\"2021\",\"2021\",\"2022\",\"2022\",\"2022\",\"2020\",\"2022\",\"2022\",\"2020\",\"2022\",\"2020\",\"2021\",\"2022\",\"2022\",\"2022\",\"2020\"],\"type\":\"histogram\"}],                        {\"template\":{\"data\":{\"histogram2dcontour\":[{\"type\":\"histogram2dcontour\",\"colorbar\":{\"outlinewidth\":0,\"ticks\":\"\"},\"colorscale\":[[0.0,\"#0d0887\"],[0.1111111111111111,\"#46039f\"],[0.2222222222222222,\"#7201a8\"],[0.3333333333333333,\"#9c179e\"],[0.4444444444444444,\"#bd3786\"],[0.5555555555555556,\"#d8576b\"],[0.6666666666666666,\"#ed7953\"],[0.7777777777777778,\"#fb9f3a\"],[0.8888888888888888,\"#fdca26\"],[1.0,\"#f0f921\"]]}],\"choropleth\":[{\"type\":\"choropleth\",\"colorbar\":{\"outlinewidth\":0,\"ticks\":\"\"}}],\"histogram2d\":[{\"type\":\"histogram2d\",\"colorbar\":{\"outlinewidth\":0,\"ticks\":\"\"},\"colorscale\":[[0.0,\"#0d0887\"],[0.1111111111111111,\"#46039f\"],[0.2222222222222222,\"#7201a8\"],[0.3333333333333333,\"#9c179e\"],[0.4444444444444444,\"#bd3786\"],[0.5555555555555556,\"#d8576b\"],[0.6666666666666666,\"#ed7953\"],[0.7777777777777778,\"#fb9f3a\"],[0.8888888888888888,\"#fdca26\"],[1.0,\"#f0f921\"]]}],\"heatmap\":[{\"type\":\"heatmap\",\"colorbar\":{\"outlinewidth\":0,\"ticks\":\"\"},\"colorscale\":[[0.0,\"#0d0887\"],[0.1111111111111111,\"#46039f\"],[0.2222222222222222,\"#7201a8\"],[0.3333333333333333,\"#9c179e\"],[0.4444444444444444,\"#bd3786\"],[0.5555555555555556,\"#d8576b\"],[0.6666666666666666,\"#ed7953\"],[0.7777777777777778,\"#fb9f3a\"],[0.8888888888888888,\"#fdca26\"],[1.0,\"#f0f921\"]]}],\"heatmapgl\":[{\"type\":\"heatmapgl\",\"colorbar\":{\"outlinewidth\":0,\"ticks\":\"\"},\"colorscale\":[[0.0,\"#0d0887\"],[0.1111111111111111,\"#46039f\"],[0.2222222222222222,\"#7201a8\"],[0.3333333333333333,\"#9c179e\"],[0.4444444444444444,\"#bd3786\"],[0.5555555555555556,\"#d8576b\"],[0.6666666666666666,\"#ed7953\"],[0.7777777777777778,\"#fb9f3a\"],[0.8888888888888888,\"#fdca26\"],[1.0,\"#f0f921\"]]}],\"contourcarpet\":[{\"type\":\"contourcarpet\",\"colorbar\":{\"outlinewidth\":0,\"ticks\":\"\"}}],\"contour\":[{\"type\":\"contour\",\"colorbar\":{\"outlinewidth\":0,\"ticks\":\"\"},\"colorscale\":[[0.0,\"#0d0887\"],[0.1111111111111111,\"#46039f\"],[0.2222222222222222,\"#7201a8\"],[0.3333333333333333,\"#9c179e\"],[0.4444444444444444,\"#bd3786\"],[0.5555555555555556,\"#d8576b\"],[0.6666666666666666,\"#ed7953\"],[0.7777777777777778,\"#fb9f3a\"],[0.8888888888888888,\"#fdca26\"],[1.0,\"#f0f921\"]]}],\"surface\":[{\"type\":\"surface\",\"colorbar\":{\"outlinewidth\":0,\"ticks\":\"\"},\"colorscale\":[[0.0,\"#0d0887\"],[0.1111111111111111,\"#46039f\"],[0.2222222222222222,\"#7201a8\"],[0.3333333333333333,\"#9c179e\"],[0.4444444444444444,\"#bd3786\"],[0.5555555555555556,\"#d8576b\"],[0.6666666666666666,\"#ed7953\"],[0.7777777777777778,\"#fb9f3a\"],[0.8888888888888888,\"#fdca26\"],[1.0,\"#f0f921\"]]}],\"mesh3d\":[{\"type\":\"mesh3d\",\"colorbar\":{\"outlinewidth\":0,\"ticks\":\"\"}}],\"scatter\":[{\"fillpattern\":{\"fillmode\":\"overlay\",\"size\":10,\"solidity\":0.2},\"type\":\"scatter\"}],\"parcoords\":[{\"type\":\"parcoords\",\"line\":{\"colorbar\":{\"outlinewidth\":0,\"ticks\":\"\"}}}],\"scatterpolargl\":[{\"type\":\"scatterpolargl\",\"marker\":{\"colorbar\":{\"outlinewidth\":0,\"ticks\":\"\"}}}],\"bar\":[{\"error_x\":{\"color\":\"#2a3f5f\"},\"error_y\":{\"color\":\"#2a3f5f\"},\"marker\":{\"line\":{\"color\":\"#E5ECF6\",\"width\":0.5},\"pattern\":{\"fillmode\":\"overlay\",\"size\":10,\"solidity\":0.2}},\"type\":\"bar\"}],\"scattergeo\":[{\"type\":\"scattergeo\",\"marker\":{\"colorbar\":{\"outlinewidth\":0,\"ticks\":\"\"}}}],\"scatterpolar\":[{\"type\":\"scatterpolar\",\"marker\":{\"colorbar\":{\"outlinewidth\":0,\"ticks\":\"\"}}}],\"histogram\":[{\"marker\":{\"pattern\":{\"fillmode\":\"overlay\",\"size\":10,\"solidity\":0.2}},\"type\":\"histogram\"}],\"scattergl\":[{\"type\":\"scattergl\",\"marker\":{\"colorbar\":{\"outlinewidth\":0,\"ticks\":\"\"}}}],\"scatter3d\":[{\"type\":\"scatter3d\",\"line\":{\"colorbar\":{\"outlinewidth\":0,\"ticks\":\"\"}},\"marker\":{\"colorbar\":{\"outlinewidth\":0,\"ticks\":\"\"}}}],\"scattermapbox\":[{\"type\":\"scattermapbox\",\"marker\":{\"colorbar\":{\"outlinewidth\":0,\"ticks\":\"\"}}}],\"scatterternary\":[{\"type\":\"scatterternary\",\"marker\":{\"colorbar\":{\"outlinewidth\":0,\"ticks\":\"\"}}}],\"scattercarpet\":[{\"type\":\"scattercarpet\",\"marker\":{\"colorbar\":{\"outlinewidth\":0,\"ticks\":\"\"}}}],\"carpet\":[{\"aaxis\":{\"endlinecolor\":\"#2a3f5f\",\"gridcolor\":\"white\",\"linecolor\":\"white\",\"minorgridcolor\":\"white\",\"startlinecolor\":\"#2a3f5f\"},\"baxis\":{\"endlinecolor\":\"#2a3f5f\",\"gridcolor\":\"white\",\"linecolor\":\"white\",\"minorgridcolor\":\"white\",\"startlinecolor\":\"#2a3f5f\"},\"type\":\"carpet\"}],\"table\":[{\"cells\":{\"fill\":{\"color\":\"#EBF0F8\"},\"line\":{\"color\":\"white\"}},\"header\":{\"fill\":{\"color\":\"#C8D4E3\"},\"line\":{\"color\":\"white\"}},\"type\":\"table\"}],\"barpolar\":[{\"marker\":{\"line\":{\"color\":\"#E5ECF6\",\"width\":0.5},\"pattern\":{\"fillmode\":\"overlay\",\"size\":10,\"solidity\":0.2}},\"type\":\"barpolar\"}],\"pie\":[{\"automargin\":true,\"type\":\"pie\"}]},\"layout\":{\"autotypenumbers\":\"strict\",\"colorway\":[\"#636efa\",\"#EF553B\",\"#00cc96\",\"#ab63fa\",\"#FFA15A\",\"#19d3f3\",\"#FF6692\",\"#B6E880\",\"#FF97FF\",\"#FECB52\"],\"font\":{\"color\":\"#2a3f5f\"},\"hovermode\":\"closest\",\"hoverlabel\":{\"align\":\"left\"},\"paper_bgcolor\":\"white\",\"plot_bgcolor\":\"#E5ECF6\",\"polar\":{\"bgcolor\":\"#E5ECF6\",\"angularaxis\":{\"gridcolor\":\"white\",\"linecolor\":\"white\",\"ticks\":\"\"},\"radialaxis\":{\"gridcolor\":\"white\",\"linecolor\":\"white\",\"ticks\":\"\"}},\"ternary\":{\"bgcolor\":\"#E5ECF6\",\"aaxis\":{\"gridcolor\":\"white\",\"linecolor\":\"white\",\"ticks\":\"\"},\"baxis\":{\"gridcolor\":\"white\",\"linecolor\":\"white\",\"ticks\":\"\"},\"caxis\":{\"gridcolor\":\"white\",\"linecolor\":\"white\",\"ticks\":\"\"}},\"coloraxis\":{\"colorbar\":{\"outlinewidth\":0,\"ticks\":\"\"}},\"colorscale\":{\"sequential\":[[0.0,\"#0d0887\"],[0.1111111111111111,\"#46039f\"],[0.2222222222222222,\"#7201a8\"],[0.3333333333333333,\"#9c179e\"],[0.4444444444444444,\"#bd3786\"],[0.5555555555555556,\"#d8576b\"],[0.6666666666666666,\"#ed7953\"],[0.7777777777777778,\"#fb9f3a\"],[0.8888888888888888,\"#fdca26\"],[1.0,\"#f0f921\"]],\"sequentialminus\":[[0.0,\"#0d0887\"],[0.1111111111111111,\"#46039f\"],[0.2222222222222222,\"#7201a8\"],[0.3333333333333333,\"#9c179e\"],[0.4444444444444444,\"#bd3786\"],[0.5555555555555556,\"#d8576b\"],[0.6666666666666666,\"#ed7953\"],[0.7777777777777778,\"#fb9f3a\"],[0.8888888888888888,\"#fdca26\"],[1.0,\"#f0f921\"]],\"diverging\":[[0,\"#8e0152\"],[0.1,\"#c51b7d\"],[0.2,\"#de77ae\"],[0.3,\"#f1b6da\"],[0.4,\"#fde0ef\"],[0.5,\"#f7f7f7\"],[0.6,\"#e6f5d0\"],[0.7,\"#b8e186\"],[0.8,\"#7fbc41\"],[0.9,\"#4d9221\"],[1,\"#276419\"]]},\"xaxis\":{\"gridcolor\":\"white\",\"linecolor\":\"white\",\"ticks\":\"\",\"title\":{\"standoff\":15},\"zerolinecolor\":\"white\",\"automargin\":true,\"zerolinewidth\":2},\"yaxis\":{\"gridcolor\":\"white\",\"linecolor\":\"white\",\"ticks\":\"\",\"title\":{\"standoff\":15},\"zerolinecolor\":\"white\",\"automargin\":true,\"zerolinewidth\":2},\"scene\":{\"xaxis\":{\"backgroundcolor\":\"#E5ECF6\",\"gridcolor\":\"white\",\"linecolor\":\"white\",\"showbackground\":true,\"ticks\":\"\",\"zerolinecolor\":\"white\",\"gridwidth\":2},\"yaxis\":{\"backgroundcolor\":\"#E5ECF6\",\"gridcolor\":\"white\",\"linecolor\":\"white\",\"showbackground\":true,\"ticks\":\"\",\"zerolinecolor\":\"white\",\"gridwidth\":2},\"zaxis\":{\"backgroundcolor\":\"#E5ECF6\",\"gridcolor\":\"white\",\"linecolor\":\"white\",\"showbackground\":true,\"ticks\":\"\",\"zerolinecolor\":\"white\",\"gridwidth\":2}},\"shapedefaults\":{\"line\":{\"color\":\"#2a3f5f\"}},\"annotationdefaults\":{\"arrowcolor\":\"#2a3f5f\",\"arrowhead\":0,\"arrowwidth\":1},\"geo\":{\"bgcolor\":\"white\",\"landcolor\":\"#E5ECF6\",\"subunitcolor\":\"white\",\"showland\":true,\"showlakes\":true,\"lakecolor\":\"white\"},\"title\":{\"x\":0.05},\"mapbox\":{\"style\":\"light\"}}}},                        {\"responsive\": true}                    ).then(function(){\n",
       "                            \n",
       "var gd = document.getElementById('93043ea9-5982-4d81-9b54-7042b9224223');\n",
       "var x = new MutationObserver(function (mutations, observer) {{\n",
       "        var display = window.getComputedStyle(gd).display;\n",
       "        if (!display || display === 'none') {{\n",
       "            console.log([gd, 'removed!']);\n",
       "            Plotly.purge(gd);\n",
       "            observer.disconnect();\n",
       "        }}\n",
       "}});\n",
       "\n",
       "// Listen for the removal of the full notebook cells\n",
       "var notebookContainer = gd.closest('#notebook-container');\n",
       "if (notebookContainer) {{\n",
       "    x.observe(notebookContainer, {childList: true});\n",
       "}}\n",
       "\n",
       "// Listen for the clearing of the current output cell\n",
       "var outputEl = gd.closest('.output');\n",
       "if (outputEl) {{\n",
       "    x.observe(outputEl, {childList: true});\n",
       "}}\n",
       "\n",
       "                        })                };                });            </script>        </div>"
      ]
     },
     "metadata": {},
     "output_type": "display_data"
    }
   ],
   "source": [
    "fig = go.Figure()\n",
    "fig.add_trace(go.Histogram(histfunc=\"count\", x=df.year))"
   ]
  },
  {
   "cell_type": "markdown",
   "metadata": {},
   "source": [
    "# Explore Authors\n"
   ]
  },
  {
   "cell_type": "code",
   "execution_count": 50,
   "metadata": {
    "ExecuteTime": {
     "end_time": "2022-12-23T18:55:08.938604Z",
     "start_time": "2022-12-23T18:55:08.935667Z"
    }
   },
   "outputs": [],
   "source": [
    "author_counts = df.author.str.split(',').explode().value_counts()\n",
    "most_frequent_authors = author_counts[author_counts > 1]"
   ]
  },
  {
   "cell_type": "code",
   "execution_count": 51,
   "metadata": {
    "ExecuteTime": {
     "end_time": "2022-12-23T18:55:08.968338Z",
     "start_time": "2022-12-23T18:55:08.940196Z"
    }
   },
   "outputs": [
    {
     "data": {
      "application/vnd.plotly.v1+json": {
       "config": {
        "plotlyServerURL": "https://plot.ly"
       },
       "data": [
        {
         "alignmentgroup": "True",
         "hovertemplate": "index=%{x}<br>author=%{y}<extra></extra>",
         "legendgroup": "",
         "marker": {
          "color": "#636efa",
          "pattern": {
           "shape": ""
          }
         },
         "name": "",
         "offsetgroup": "",
         "orientation": "v",
         "showlegend": false,
         "textposition": "auto",
         "type": "bar",
         "x": [
          " Tommi",
          "John",
          " Jan",
          "Matsui",
          " Beatriz M. A. and Goya",
          " Ra{\\'u}l and {D{\\'i}az-de-Arcaya}",
          " Meenu Mary and Olsson",
          " Helena Holmstr{\\\"o}m and Bosch",
          " Denise H.",
          " Josu and {Torre-Bastida}",
          "Borg"
         ],
         "xaxis": "x",
         "y": [
          3,
          3,
          3,
          2,
          2,
          2,
          2,
          2,
          2,
          2,
          2
         ],
         "yaxis": "y"
        }
       ],
       "layout": {
        "barmode": "relative",
        "legend": {
         "tracegroupgap": 0
        },
        "template": {
         "data": {
          "bar": [
           {
            "error_x": {
             "color": "#2a3f5f"
            },
            "error_y": {
             "color": "#2a3f5f"
            },
            "marker": {
             "line": {
              "color": "#E5ECF6",
              "width": 0.5
             },
             "pattern": {
              "fillmode": "overlay",
              "size": 10,
              "solidity": 0.2
             }
            },
            "type": "bar"
           }
          ],
          "barpolar": [
           {
            "marker": {
             "line": {
              "color": "#E5ECF6",
              "width": 0.5
             },
             "pattern": {
              "fillmode": "overlay",
              "size": 10,
              "solidity": 0.2
             }
            },
            "type": "barpolar"
           }
          ],
          "carpet": [
           {
            "aaxis": {
             "endlinecolor": "#2a3f5f",
             "gridcolor": "white",
             "linecolor": "white",
             "minorgridcolor": "white",
             "startlinecolor": "#2a3f5f"
            },
            "baxis": {
             "endlinecolor": "#2a3f5f",
             "gridcolor": "white",
             "linecolor": "white",
             "minorgridcolor": "white",
             "startlinecolor": "#2a3f5f"
            },
            "type": "carpet"
           }
          ],
          "choropleth": [
           {
            "colorbar": {
             "outlinewidth": 0,
             "ticks": ""
            },
            "type": "choropleth"
           }
          ],
          "contour": [
           {
            "colorbar": {
             "outlinewidth": 0,
             "ticks": ""
            },
            "colorscale": [
             [
              0,
              "#0d0887"
             ],
             [
              0.1111111111111111,
              "#46039f"
             ],
             [
              0.2222222222222222,
              "#7201a8"
             ],
             [
              0.3333333333333333,
              "#9c179e"
             ],
             [
              0.4444444444444444,
              "#bd3786"
             ],
             [
              0.5555555555555556,
              "#d8576b"
             ],
             [
              0.6666666666666666,
              "#ed7953"
             ],
             [
              0.7777777777777778,
              "#fb9f3a"
             ],
             [
              0.8888888888888888,
              "#fdca26"
             ],
             [
              1,
              "#f0f921"
             ]
            ],
            "type": "contour"
           }
          ],
          "contourcarpet": [
           {
            "colorbar": {
             "outlinewidth": 0,
             "ticks": ""
            },
            "type": "contourcarpet"
           }
          ],
          "heatmap": [
           {
            "colorbar": {
             "outlinewidth": 0,
             "ticks": ""
            },
            "colorscale": [
             [
              0,
              "#0d0887"
             ],
             [
              0.1111111111111111,
              "#46039f"
             ],
             [
              0.2222222222222222,
              "#7201a8"
             ],
             [
              0.3333333333333333,
              "#9c179e"
             ],
             [
              0.4444444444444444,
              "#bd3786"
             ],
             [
              0.5555555555555556,
              "#d8576b"
             ],
             [
              0.6666666666666666,
              "#ed7953"
             ],
             [
              0.7777777777777778,
              "#fb9f3a"
             ],
             [
              0.8888888888888888,
              "#fdca26"
             ],
             [
              1,
              "#f0f921"
             ]
            ],
            "type": "heatmap"
           }
          ],
          "heatmapgl": [
           {
            "colorbar": {
             "outlinewidth": 0,
             "ticks": ""
            },
            "colorscale": [
             [
              0,
              "#0d0887"
             ],
             [
              0.1111111111111111,
              "#46039f"
             ],
             [
              0.2222222222222222,
              "#7201a8"
             ],
             [
              0.3333333333333333,
              "#9c179e"
             ],
             [
              0.4444444444444444,
              "#bd3786"
             ],
             [
              0.5555555555555556,
              "#d8576b"
             ],
             [
              0.6666666666666666,
              "#ed7953"
             ],
             [
              0.7777777777777778,
              "#fb9f3a"
             ],
             [
              0.8888888888888888,
              "#fdca26"
             ],
             [
              1,
              "#f0f921"
             ]
            ],
            "type": "heatmapgl"
           }
          ],
          "histogram": [
           {
            "marker": {
             "pattern": {
              "fillmode": "overlay",
              "size": 10,
              "solidity": 0.2
             }
            },
            "type": "histogram"
           }
          ],
          "histogram2d": [
           {
            "colorbar": {
             "outlinewidth": 0,
             "ticks": ""
            },
            "colorscale": [
             [
              0,
              "#0d0887"
             ],
             [
              0.1111111111111111,
              "#46039f"
             ],
             [
              0.2222222222222222,
              "#7201a8"
             ],
             [
              0.3333333333333333,
              "#9c179e"
             ],
             [
              0.4444444444444444,
              "#bd3786"
             ],
             [
              0.5555555555555556,
              "#d8576b"
             ],
             [
              0.6666666666666666,
              "#ed7953"
             ],
             [
              0.7777777777777778,
              "#fb9f3a"
             ],
             [
              0.8888888888888888,
              "#fdca26"
             ],
             [
              1,
              "#f0f921"
             ]
            ],
            "type": "histogram2d"
           }
          ],
          "histogram2dcontour": [
           {
            "colorbar": {
             "outlinewidth": 0,
             "ticks": ""
            },
            "colorscale": [
             [
              0,
              "#0d0887"
             ],
             [
              0.1111111111111111,
              "#46039f"
             ],
             [
              0.2222222222222222,
              "#7201a8"
             ],
             [
              0.3333333333333333,
              "#9c179e"
             ],
             [
              0.4444444444444444,
              "#bd3786"
             ],
             [
              0.5555555555555556,
              "#d8576b"
             ],
             [
              0.6666666666666666,
              "#ed7953"
             ],
             [
              0.7777777777777778,
              "#fb9f3a"
             ],
             [
              0.8888888888888888,
              "#fdca26"
             ],
             [
              1,
              "#f0f921"
             ]
            ],
            "type": "histogram2dcontour"
           }
          ],
          "mesh3d": [
           {
            "colorbar": {
             "outlinewidth": 0,
             "ticks": ""
            },
            "type": "mesh3d"
           }
          ],
          "parcoords": [
           {
            "line": {
             "colorbar": {
              "outlinewidth": 0,
              "ticks": ""
             }
            },
            "type": "parcoords"
           }
          ],
          "pie": [
           {
            "automargin": true,
            "type": "pie"
           }
          ],
          "scatter": [
           {
            "fillpattern": {
             "fillmode": "overlay",
             "size": 10,
             "solidity": 0.2
            },
            "type": "scatter"
           }
          ],
          "scatter3d": [
           {
            "line": {
             "colorbar": {
              "outlinewidth": 0,
              "ticks": ""
             }
            },
            "marker": {
             "colorbar": {
              "outlinewidth": 0,
              "ticks": ""
             }
            },
            "type": "scatter3d"
           }
          ],
          "scattercarpet": [
           {
            "marker": {
             "colorbar": {
              "outlinewidth": 0,
              "ticks": ""
             }
            },
            "type": "scattercarpet"
           }
          ],
          "scattergeo": [
           {
            "marker": {
             "colorbar": {
              "outlinewidth": 0,
              "ticks": ""
             }
            },
            "type": "scattergeo"
           }
          ],
          "scattergl": [
           {
            "marker": {
             "colorbar": {
              "outlinewidth": 0,
              "ticks": ""
             }
            },
            "type": "scattergl"
           }
          ],
          "scattermapbox": [
           {
            "marker": {
             "colorbar": {
              "outlinewidth": 0,
              "ticks": ""
             }
            },
            "type": "scattermapbox"
           }
          ],
          "scatterpolar": [
           {
            "marker": {
             "colorbar": {
              "outlinewidth": 0,
              "ticks": ""
             }
            },
            "type": "scatterpolar"
           }
          ],
          "scatterpolargl": [
           {
            "marker": {
             "colorbar": {
              "outlinewidth": 0,
              "ticks": ""
             }
            },
            "type": "scatterpolargl"
           }
          ],
          "scatterternary": [
           {
            "marker": {
             "colorbar": {
              "outlinewidth": 0,
              "ticks": ""
             }
            },
            "type": "scatterternary"
           }
          ],
          "surface": [
           {
            "colorbar": {
             "outlinewidth": 0,
             "ticks": ""
            },
            "colorscale": [
             [
              0,
              "#0d0887"
             ],
             [
              0.1111111111111111,
              "#46039f"
             ],
             [
              0.2222222222222222,
              "#7201a8"
             ],
             [
              0.3333333333333333,
              "#9c179e"
             ],
             [
              0.4444444444444444,
              "#bd3786"
             ],
             [
              0.5555555555555556,
              "#d8576b"
             ],
             [
              0.6666666666666666,
              "#ed7953"
             ],
             [
              0.7777777777777778,
              "#fb9f3a"
             ],
             [
              0.8888888888888888,
              "#fdca26"
             ],
             [
              1,
              "#f0f921"
             ]
            ],
            "type": "surface"
           }
          ],
          "table": [
           {
            "cells": {
             "fill": {
              "color": "#EBF0F8"
             },
             "line": {
              "color": "white"
             }
            },
            "header": {
             "fill": {
              "color": "#C8D4E3"
             },
             "line": {
              "color": "white"
             }
            },
            "type": "table"
           }
          ]
         },
         "layout": {
          "annotationdefaults": {
           "arrowcolor": "#2a3f5f",
           "arrowhead": 0,
           "arrowwidth": 1
          },
          "autotypenumbers": "strict",
          "coloraxis": {
           "colorbar": {
            "outlinewidth": 0,
            "ticks": ""
           }
          },
          "colorscale": {
           "diverging": [
            [
             0,
             "#8e0152"
            ],
            [
             0.1,
             "#c51b7d"
            ],
            [
             0.2,
             "#de77ae"
            ],
            [
             0.3,
             "#f1b6da"
            ],
            [
             0.4,
             "#fde0ef"
            ],
            [
             0.5,
             "#f7f7f7"
            ],
            [
             0.6,
             "#e6f5d0"
            ],
            [
             0.7,
             "#b8e186"
            ],
            [
             0.8,
             "#7fbc41"
            ],
            [
             0.9,
             "#4d9221"
            ],
            [
             1,
             "#276419"
            ]
           ],
           "sequential": [
            [
             0,
             "#0d0887"
            ],
            [
             0.1111111111111111,
             "#46039f"
            ],
            [
             0.2222222222222222,
             "#7201a8"
            ],
            [
             0.3333333333333333,
             "#9c179e"
            ],
            [
             0.4444444444444444,
             "#bd3786"
            ],
            [
             0.5555555555555556,
             "#d8576b"
            ],
            [
             0.6666666666666666,
             "#ed7953"
            ],
            [
             0.7777777777777778,
             "#fb9f3a"
            ],
            [
             0.8888888888888888,
             "#fdca26"
            ],
            [
             1,
             "#f0f921"
            ]
           ],
           "sequentialminus": [
            [
             0,
             "#0d0887"
            ],
            [
             0.1111111111111111,
             "#46039f"
            ],
            [
             0.2222222222222222,
             "#7201a8"
            ],
            [
             0.3333333333333333,
             "#9c179e"
            ],
            [
             0.4444444444444444,
             "#bd3786"
            ],
            [
             0.5555555555555556,
             "#d8576b"
            ],
            [
             0.6666666666666666,
             "#ed7953"
            ],
            [
             0.7777777777777778,
             "#fb9f3a"
            ],
            [
             0.8888888888888888,
             "#fdca26"
            ],
            [
             1,
             "#f0f921"
            ]
           ]
          },
          "colorway": [
           "#636efa",
           "#EF553B",
           "#00cc96",
           "#ab63fa",
           "#FFA15A",
           "#19d3f3",
           "#FF6692",
           "#B6E880",
           "#FF97FF",
           "#FECB52"
          ],
          "font": {
           "color": "#2a3f5f"
          },
          "geo": {
           "bgcolor": "white",
           "lakecolor": "white",
           "landcolor": "#E5ECF6",
           "showlakes": true,
           "showland": true,
           "subunitcolor": "white"
          },
          "hoverlabel": {
           "align": "left"
          },
          "hovermode": "closest",
          "mapbox": {
           "style": "light"
          },
          "paper_bgcolor": "white",
          "plot_bgcolor": "#E5ECF6",
          "polar": {
           "angularaxis": {
            "gridcolor": "white",
            "linecolor": "white",
            "ticks": ""
           },
           "bgcolor": "#E5ECF6",
           "radialaxis": {
            "gridcolor": "white",
            "linecolor": "white",
            "ticks": ""
           }
          },
          "scene": {
           "xaxis": {
            "backgroundcolor": "#E5ECF6",
            "gridcolor": "white",
            "gridwidth": 2,
            "linecolor": "white",
            "showbackground": true,
            "ticks": "",
            "zerolinecolor": "white"
           },
           "yaxis": {
            "backgroundcolor": "#E5ECF6",
            "gridcolor": "white",
            "gridwidth": 2,
            "linecolor": "white",
            "showbackground": true,
            "ticks": "",
            "zerolinecolor": "white"
           },
           "zaxis": {
            "backgroundcolor": "#E5ECF6",
            "gridcolor": "white",
            "gridwidth": 2,
            "linecolor": "white",
            "showbackground": true,
            "ticks": "",
            "zerolinecolor": "white"
           }
          },
          "shapedefaults": {
           "line": {
            "color": "#2a3f5f"
           }
          },
          "ternary": {
           "aaxis": {
            "gridcolor": "white",
            "linecolor": "white",
            "ticks": ""
           },
           "baxis": {
            "gridcolor": "white",
            "linecolor": "white",
            "ticks": ""
           },
           "bgcolor": "#E5ECF6",
           "caxis": {
            "gridcolor": "white",
            "linecolor": "white",
            "ticks": ""
           }
          },
          "title": {
           "x": 0.05
          },
          "xaxis": {
           "automargin": true,
           "gridcolor": "white",
           "linecolor": "white",
           "ticks": "",
           "title": {
            "standoff": 15
           },
           "zerolinecolor": "white",
           "zerolinewidth": 2
          },
          "yaxis": {
           "automargin": true,
           "gridcolor": "white",
           "linecolor": "white",
           "ticks": "",
           "title": {
            "standoff": 15
           },
           "zerolinecolor": "white",
           "zerolinewidth": 2
          }
         }
        },
        "title": {
         "text": "Frequent authors"
        },
        "xaxis": {
         "anchor": "y",
         "domain": [
          0,
          1
         ],
         "tickangle": 45,
         "title": {
          "text": "Author"
         }
        },
        "yaxis": {
         "anchor": "x",
         "domain": [
          0,
          1
         ],
         "title": {
          "text": "Word counts"
         }
        }
       }
      },
      "text/html": [
       "<div>                            <div id=\"fc78641b-684b-4b9b-878f-05674f90233e\" class=\"plotly-graph-div\" style=\"height:525px; width:100%;\"></div>            <script type=\"text/javascript\">                require([\"plotly\"], function(Plotly) {                    window.PLOTLYENV=window.PLOTLYENV || {};                                    if (document.getElementById(\"fc78641b-684b-4b9b-878f-05674f90233e\")) {                    Plotly.newPlot(                        \"fc78641b-684b-4b9b-878f-05674f90233e\",                        [{\"alignmentgroup\":\"True\",\"hovertemplate\":\"index=%{x}<br>author=%{y}<extra></extra>\",\"legendgroup\":\"\",\"marker\":{\"color\":\"#636efa\",\"pattern\":{\"shape\":\"\"}},\"name\":\"\",\"offsetgroup\":\"\",\"orientation\":\"v\",\"showlegend\":false,\"textposition\":\"auto\",\"x\":[\" Tommi\",\"John\",\" Jan\",\"Matsui\",\" Beatriz M. A. and Goya\",\" Ra{\\\\'u}l and {D{\\\\'i}az-de-Arcaya}\",\" Meenu Mary and Olsson\",\" Helena Holmstr{\\\\\\\"o}m and Bosch\",\" Denise H.\",\" Josu and {Torre-Bastida}\",\"Borg\"],\"xaxis\":\"x\",\"y\":[3,3,3,2,2,2,2,2,2,2,2],\"yaxis\":\"y\",\"type\":\"bar\"}],                        {\"template\":{\"data\":{\"histogram2dcontour\":[{\"type\":\"histogram2dcontour\",\"colorbar\":{\"outlinewidth\":0,\"ticks\":\"\"},\"colorscale\":[[0.0,\"#0d0887\"],[0.1111111111111111,\"#46039f\"],[0.2222222222222222,\"#7201a8\"],[0.3333333333333333,\"#9c179e\"],[0.4444444444444444,\"#bd3786\"],[0.5555555555555556,\"#d8576b\"],[0.6666666666666666,\"#ed7953\"],[0.7777777777777778,\"#fb9f3a\"],[0.8888888888888888,\"#fdca26\"],[1.0,\"#f0f921\"]]}],\"choropleth\":[{\"type\":\"choropleth\",\"colorbar\":{\"outlinewidth\":0,\"ticks\":\"\"}}],\"histogram2d\":[{\"type\":\"histogram2d\",\"colorbar\":{\"outlinewidth\":0,\"ticks\":\"\"},\"colorscale\":[[0.0,\"#0d0887\"],[0.1111111111111111,\"#46039f\"],[0.2222222222222222,\"#7201a8\"],[0.3333333333333333,\"#9c179e\"],[0.4444444444444444,\"#bd3786\"],[0.5555555555555556,\"#d8576b\"],[0.6666666666666666,\"#ed7953\"],[0.7777777777777778,\"#fb9f3a\"],[0.8888888888888888,\"#fdca26\"],[1.0,\"#f0f921\"]]}],\"heatmap\":[{\"type\":\"heatmap\",\"colorbar\":{\"outlinewidth\":0,\"ticks\":\"\"},\"colorscale\":[[0.0,\"#0d0887\"],[0.1111111111111111,\"#46039f\"],[0.2222222222222222,\"#7201a8\"],[0.3333333333333333,\"#9c179e\"],[0.4444444444444444,\"#bd3786\"],[0.5555555555555556,\"#d8576b\"],[0.6666666666666666,\"#ed7953\"],[0.7777777777777778,\"#fb9f3a\"],[0.8888888888888888,\"#fdca26\"],[1.0,\"#f0f921\"]]}],\"heatmapgl\":[{\"type\":\"heatmapgl\",\"colorbar\":{\"outlinewidth\":0,\"ticks\":\"\"},\"colorscale\":[[0.0,\"#0d0887\"],[0.1111111111111111,\"#46039f\"],[0.2222222222222222,\"#7201a8\"],[0.3333333333333333,\"#9c179e\"],[0.4444444444444444,\"#bd3786\"],[0.5555555555555556,\"#d8576b\"],[0.6666666666666666,\"#ed7953\"],[0.7777777777777778,\"#fb9f3a\"],[0.8888888888888888,\"#fdca26\"],[1.0,\"#f0f921\"]]}],\"contourcarpet\":[{\"type\":\"contourcarpet\",\"colorbar\":{\"outlinewidth\":0,\"ticks\":\"\"}}],\"contour\":[{\"type\":\"contour\",\"colorbar\":{\"outlinewidth\":0,\"ticks\":\"\"},\"colorscale\":[[0.0,\"#0d0887\"],[0.1111111111111111,\"#46039f\"],[0.2222222222222222,\"#7201a8\"],[0.3333333333333333,\"#9c179e\"],[0.4444444444444444,\"#bd3786\"],[0.5555555555555556,\"#d8576b\"],[0.6666666666666666,\"#ed7953\"],[0.7777777777777778,\"#fb9f3a\"],[0.8888888888888888,\"#fdca26\"],[1.0,\"#f0f921\"]]}],\"surface\":[{\"type\":\"surface\",\"colorbar\":{\"outlinewidth\":0,\"ticks\":\"\"},\"colorscale\":[[0.0,\"#0d0887\"],[0.1111111111111111,\"#46039f\"],[0.2222222222222222,\"#7201a8\"],[0.3333333333333333,\"#9c179e\"],[0.4444444444444444,\"#bd3786\"],[0.5555555555555556,\"#d8576b\"],[0.6666666666666666,\"#ed7953\"],[0.7777777777777778,\"#fb9f3a\"],[0.8888888888888888,\"#fdca26\"],[1.0,\"#f0f921\"]]}],\"mesh3d\":[{\"type\":\"mesh3d\",\"colorbar\":{\"outlinewidth\":0,\"ticks\":\"\"}}],\"scatter\":[{\"fillpattern\":{\"fillmode\":\"overlay\",\"size\":10,\"solidity\":0.2},\"type\":\"scatter\"}],\"parcoords\":[{\"type\":\"parcoords\",\"line\":{\"colorbar\":{\"outlinewidth\":0,\"ticks\":\"\"}}}],\"scatterpolargl\":[{\"type\":\"scatterpolargl\",\"marker\":{\"colorbar\":{\"outlinewidth\":0,\"ticks\":\"\"}}}],\"bar\":[{\"error_x\":{\"color\":\"#2a3f5f\"},\"error_y\":{\"color\":\"#2a3f5f\"},\"marker\":{\"line\":{\"color\":\"#E5ECF6\",\"width\":0.5},\"pattern\":{\"fillmode\":\"overlay\",\"size\":10,\"solidity\":0.2}},\"type\":\"bar\"}],\"scattergeo\":[{\"type\":\"scattergeo\",\"marker\":{\"colorbar\":{\"outlinewidth\":0,\"ticks\":\"\"}}}],\"scatterpolar\":[{\"type\":\"scatterpolar\",\"marker\":{\"colorbar\":{\"outlinewidth\":0,\"ticks\":\"\"}}}],\"histogram\":[{\"marker\":{\"pattern\":{\"fillmode\":\"overlay\",\"size\":10,\"solidity\":0.2}},\"type\":\"histogram\"}],\"scattergl\":[{\"type\":\"scattergl\",\"marker\":{\"colorbar\":{\"outlinewidth\":0,\"ticks\":\"\"}}}],\"scatter3d\":[{\"type\":\"scatter3d\",\"line\":{\"colorbar\":{\"outlinewidth\":0,\"ticks\":\"\"}},\"marker\":{\"colorbar\":{\"outlinewidth\":0,\"ticks\":\"\"}}}],\"scattermapbox\":[{\"type\":\"scattermapbox\",\"marker\":{\"colorbar\":{\"outlinewidth\":0,\"ticks\":\"\"}}}],\"scatterternary\":[{\"type\":\"scatterternary\",\"marker\":{\"colorbar\":{\"outlinewidth\":0,\"ticks\":\"\"}}}],\"scattercarpet\":[{\"type\":\"scattercarpet\",\"marker\":{\"colorbar\":{\"outlinewidth\":0,\"ticks\":\"\"}}}],\"carpet\":[{\"aaxis\":{\"endlinecolor\":\"#2a3f5f\",\"gridcolor\":\"white\",\"linecolor\":\"white\",\"minorgridcolor\":\"white\",\"startlinecolor\":\"#2a3f5f\"},\"baxis\":{\"endlinecolor\":\"#2a3f5f\",\"gridcolor\":\"white\",\"linecolor\":\"white\",\"minorgridcolor\":\"white\",\"startlinecolor\":\"#2a3f5f\"},\"type\":\"carpet\"}],\"table\":[{\"cells\":{\"fill\":{\"color\":\"#EBF0F8\"},\"line\":{\"color\":\"white\"}},\"header\":{\"fill\":{\"color\":\"#C8D4E3\"},\"line\":{\"color\":\"white\"}},\"type\":\"table\"}],\"barpolar\":[{\"marker\":{\"line\":{\"color\":\"#E5ECF6\",\"width\":0.5},\"pattern\":{\"fillmode\":\"overlay\",\"size\":10,\"solidity\":0.2}},\"type\":\"barpolar\"}],\"pie\":[{\"automargin\":true,\"type\":\"pie\"}]},\"layout\":{\"autotypenumbers\":\"strict\",\"colorway\":[\"#636efa\",\"#EF553B\",\"#00cc96\",\"#ab63fa\",\"#FFA15A\",\"#19d3f3\",\"#FF6692\",\"#B6E880\",\"#FF97FF\",\"#FECB52\"],\"font\":{\"color\":\"#2a3f5f\"},\"hovermode\":\"closest\",\"hoverlabel\":{\"align\":\"left\"},\"paper_bgcolor\":\"white\",\"plot_bgcolor\":\"#E5ECF6\",\"polar\":{\"bgcolor\":\"#E5ECF6\",\"angularaxis\":{\"gridcolor\":\"white\",\"linecolor\":\"white\",\"ticks\":\"\"},\"radialaxis\":{\"gridcolor\":\"white\",\"linecolor\":\"white\",\"ticks\":\"\"}},\"ternary\":{\"bgcolor\":\"#E5ECF6\",\"aaxis\":{\"gridcolor\":\"white\",\"linecolor\":\"white\",\"ticks\":\"\"},\"baxis\":{\"gridcolor\":\"white\",\"linecolor\":\"white\",\"ticks\":\"\"},\"caxis\":{\"gridcolor\":\"white\",\"linecolor\":\"white\",\"ticks\":\"\"}},\"coloraxis\":{\"colorbar\":{\"outlinewidth\":0,\"ticks\":\"\"}},\"colorscale\":{\"sequential\":[[0.0,\"#0d0887\"],[0.1111111111111111,\"#46039f\"],[0.2222222222222222,\"#7201a8\"],[0.3333333333333333,\"#9c179e\"],[0.4444444444444444,\"#bd3786\"],[0.5555555555555556,\"#d8576b\"],[0.6666666666666666,\"#ed7953\"],[0.7777777777777778,\"#fb9f3a\"],[0.8888888888888888,\"#fdca26\"],[1.0,\"#f0f921\"]],\"sequentialminus\":[[0.0,\"#0d0887\"],[0.1111111111111111,\"#46039f\"],[0.2222222222222222,\"#7201a8\"],[0.3333333333333333,\"#9c179e\"],[0.4444444444444444,\"#bd3786\"],[0.5555555555555556,\"#d8576b\"],[0.6666666666666666,\"#ed7953\"],[0.7777777777777778,\"#fb9f3a\"],[0.8888888888888888,\"#fdca26\"],[1.0,\"#f0f921\"]],\"diverging\":[[0,\"#8e0152\"],[0.1,\"#c51b7d\"],[0.2,\"#de77ae\"],[0.3,\"#f1b6da\"],[0.4,\"#fde0ef\"],[0.5,\"#f7f7f7\"],[0.6,\"#e6f5d0\"],[0.7,\"#b8e186\"],[0.8,\"#7fbc41\"],[0.9,\"#4d9221\"],[1,\"#276419\"]]},\"xaxis\":{\"gridcolor\":\"white\",\"linecolor\":\"white\",\"ticks\":\"\",\"title\":{\"standoff\":15},\"zerolinecolor\":\"white\",\"automargin\":true,\"zerolinewidth\":2},\"yaxis\":{\"gridcolor\":\"white\",\"linecolor\":\"white\",\"ticks\":\"\",\"title\":{\"standoff\":15},\"zerolinecolor\":\"white\",\"automargin\":true,\"zerolinewidth\":2},\"scene\":{\"xaxis\":{\"backgroundcolor\":\"#E5ECF6\",\"gridcolor\":\"white\",\"linecolor\":\"white\",\"showbackground\":true,\"ticks\":\"\",\"zerolinecolor\":\"white\",\"gridwidth\":2},\"yaxis\":{\"backgroundcolor\":\"#E5ECF6\",\"gridcolor\":\"white\",\"linecolor\":\"white\",\"showbackground\":true,\"ticks\":\"\",\"zerolinecolor\":\"white\",\"gridwidth\":2},\"zaxis\":{\"backgroundcolor\":\"#E5ECF6\",\"gridcolor\":\"white\",\"linecolor\":\"white\",\"showbackground\":true,\"ticks\":\"\",\"zerolinecolor\":\"white\",\"gridwidth\":2}},\"shapedefaults\":{\"line\":{\"color\":\"#2a3f5f\"}},\"annotationdefaults\":{\"arrowcolor\":\"#2a3f5f\",\"arrowhead\":0,\"arrowwidth\":1},\"geo\":{\"bgcolor\":\"white\",\"landcolor\":\"#E5ECF6\",\"subunitcolor\":\"white\",\"showland\":true,\"showlakes\":true,\"lakecolor\":\"white\"},\"title\":{\"x\":0.05},\"mapbox\":{\"style\":\"light\"}}},\"xaxis\":{\"anchor\":\"y\",\"domain\":[0.0,1.0],\"title\":{\"text\":\"Author\"},\"tickangle\":45},\"yaxis\":{\"anchor\":\"x\",\"domain\":[0.0,1.0],\"title\":{\"text\":\"Word counts\"}},\"legend\":{\"tracegroupgap\":0},\"title\":{\"text\":\"Frequent authors\"},\"barmode\":\"relative\"},                        {\"responsive\": true}                    ).then(function(){\n",
       "                            \n",
       "var gd = document.getElementById('fc78641b-684b-4b9b-878f-05674f90233e');\n",
       "var x = new MutationObserver(function (mutations, observer) {{\n",
       "        var display = window.getComputedStyle(gd).display;\n",
       "        if (!display || display === 'none') {{\n",
       "            console.log([gd, 'removed!']);\n",
       "            Plotly.purge(gd);\n",
       "            observer.disconnect();\n",
       "        }}\n",
       "}});\n",
       "\n",
       "// Listen for the removal of the full notebook cells\n",
       "var notebookContainer = gd.closest('#notebook-container');\n",
       "if (notebookContainer) {{\n",
       "    x.observe(notebookContainer, {childList: true});\n",
       "}}\n",
       "\n",
       "// Listen for the clearing of the current output cell\n",
       "var outputEl = gd.closest('.output');\n",
       "if (outputEl) {{\n",
       "    x.observe(outputEl, {childList: true});\n",
       "}}\n",
       "\n",
       "                        })                };                });            </script>        </div>"
      ]
     },
     "metadata": {},
     "output_type": "display_data"
    }
   ],
   "source": [
    "fig = px.bar(\n",
    "    most_frequent_authors,\n",
    "    y='author',\n",
    "    title='Frequent authors')\n",
    "\n",
    "fig.update_layout(\n",
    "    xaxis=dict(tickangle=45, title='Author'),\n",
    "    yaxis=dict(title='Word counts')\n",
    ")\n",
    "\n",
    "fig.show()"
   ]
  },
  {
   "cell_type": "markdown",
   "metadata": {},
   "source": [
    "# Explore Keywords\n"
   ]
  },
  {
   "cell_type": "code",
   "execution_count": 52,
   "metadata": {
    "ExecuteTime": {
     "end_time": "2022-12-23T18:55:08.973564Z",
     "start_time": "2022-12-23T18:55:08.969835Z"
    }
   },
   "outputs": [],
   "source": [
    "vc  = df.keywords.str.split(',').explode().value_counts()\n",
    "top_20 = vc[:20] #(vc[vc > 2])"
   ]
  },
  {
   "cell_type": "code",
   "execution_count": 53,
   "metadata": {
    "ExecuteTime": {
     "end_time": "2022-12-23T18:55:09.004673Z",
     "start_time": "2022-12-23T18:55:08.974981Z"
    }
   },
   "outputs": [
    {
     "data": {
      "application/vnd.plotly.v1+json": {
       "config": {
        "plotlyServerURL": "https://plot.ly"
       },
       "data": [
        {
         "alignmentgroup": "True",
         "hovertemplate": "index=%{x}<br>keywords=%{y}<extra></extra>",
         "legendgroup": "",
         "marker": {
          "color": "#636efa",
          "pattern": {
           "shape": ""
          }
         },
         "name": "",
         "offsetgroup": "",
         "orientation": "v",
         "showlegend": false,
         "textposition": "auto",
         "type": "bar",
         "x": [
          "MLOps",
          "Machine learning",
          "Pipelines",
          "Training",
          "Software",
          "important",
          "DevOps",
          "Conferences",
          "machine learning",
          "Data models",
          "Computational modeling",
          "Automation",
          "Computer architecture",
          "Cloud computing",
          "Machine Learning",
          "Tools",
          "Task analysis",
          "Production",
          "Deployment",
          "Predictive models"
         ],
         "xaxis": "x",
         "y": [
          27,
          24,
          14,
          14,
          13,
          13,
          11,
          11,
          9,
          9,
          8,
          8,
          7,
          7,
          6,
          6,
          6,
          6,
          5,
          5
         ],
         "yaxis": "y"
        }
       ],
       "layout": {
        "barmode": "relative",
        "legend": {
         "tracegroupgap": 0
        },
        "template": {
         "data": {
          "bar": [
           {
            "error_x": {
             "color": "#2a3f5f"
            },
            "error_y": {
             "color": "#2a3f5f"
            },
            "marker": {
             "line": {
              "color": "#E5ECF6",
              "width": 0.5
             },
             "pattern": {
              "fillmode": "overlay",
              "size": 10,
              "solidity": 0.2
             }
            },
            "type": "bar"
           }
          ],
          "barpolar": [
           {
            "marker": {
             "line": {
              "color": "#E5ECF6",
              "width": 0.5
             },
             "pattern": {
              "fillmode": "overlay",
              "size": 10,
              "solidity": 0.2
             }
            },
            "type": "barpolar"
           }
          ],
          "carpet": [
           {
            "aaxis": {
             "endlinecolor": "#2a3f5f",
             "gridcolor": "white",
             "linecolor": "white",
             "minorgridcolor": "white",
             "startlinecolor": "#2a3f5f"
            },
            "baxis": {
             "endlinecolor": "#2a3f5f",
             "gridcolor": "white",
             "linecolor": "white",
             "minorgridcolor": "white",
             "startlinecolor": "#2a3f5f"
            },
            "type": "carpet"
           }
          ],
          "choropleth": [
           {
            "colorbar": {
             "outlinewidth": 0,
             "ticks": ""
            },
            "type": "choropleth"
           }
          ],
          "contour": [
           {
            "colorbar": {
             "outlinewidth": 0,
             "ticks": ""
            },
            "colorscale": [
             [
              0,
              "#0d0887"
             ],
             [
              0.1111111111111111,
              "#46039f"
             ],
             [
              0.2222222222222222,
              "#7201a8"
             ],
             [
              0.3333333333333333,
              "#9c179e"
             ],
             [
              0.4444444444444444,
              "#bd3786"
             ],
             [
              0.5555555555555556,
              "#d8576b"
             ],
             [
              0.6666666666666666,
              "#ed7953"
             ],
             [
              0.7777777777777778,
              "#fb9f3a"
             ],
             [
              0.8888888888888888,
              "#fdca26"
             ],
             [
              1,
              "#f0f921"
             ]
            ],
            "type": "contour"
           }
          ],
          "contourcarpet": [
           {
            "colorbar": {
             "outlinewidth": 0,
             "ticks": ""
            },
            "type": "contourcarpet"
           }
          ],
          "heatmap": [
           {
            "colorbar": {
             "outlinewidth": 0,
             "ticks": ""
            },
            "colorscale": [
             [
              0,
              "#0d0887"
             ],
             [
              0.1111111111111111,
              "#46039f"
             ],
             [
              0.2222222222222222,
              "#7201a8"
             ],
             [
              0.3333333333333333,
              "#9c179e"
             ],
             [
              0.4444444444444444,
              "#bd3786"
             ],
             [
              0.5555555555555556,
              "#d8576b"
             ],
             [
              0.6666666666666666,
              "#ed7953"
             ],
             [
              0.7777777777777778,
              "#fb9f3a"
             ],
             [
              0.8888888888888888,
              "#fdca26"
             ],
             [
              1,
              "#f0f921"
             ]
            ],
            "type": "heatmap"
           }
          ],
          "heatmapgl": [
           {
            "colorbar": {
             "outlinewidth": 0,
             "ticks": ""
            },
            "colorscale": [
             [
              0,
              "#0d0887"
             ],
             [
              0.1111111111111111,
              "#46039f"
             ],
             [
              0.2222222222222222,
              "#7201a8"
             ],
             [
              0.3333333333333333,
              "#9c179e"
             ],
             [
              0.4444444444444444,
              "#bd3786"
             ],
             [
              0.5555555555555556,
              "#d8576b"
             ],
             [
              0.6666666666666666,
              "#ed7953"
             ],
             [
              0.7777777777777778,
              "#fb9f3a"
             ],
             [
              0.8888888888888888,
              "#fdca26"
             ],
             [
              1,
              "#f0f921"
             ]
            ],
            "type": "heatmapgl"
           }
          ],
          "histogram": [
           {
            "marker": {
             "pattern": {
              "fillmode": "overlay",
              "size": 10,
              "solidity": 0.2
             }
            },
            "type": "histogram"
           }
          ],
          "histogram2d": [
           {
            "colorbar": {
             "outlinewidth": 0,
             "ticks": ""
            },
            "colorscale": [
             [
              0,
              "#0d0887"
             ],
             [
              0.1111111111111111,
              "#46039f"
             ],
             [
              0.2222222222222222,
              "#7201a8"
             ],
             [
              0.3333333333333333,
              "#9c179e"
             ],
             [
              0.4444444444444444,
              "#bd3786"
             ],
             [
              0.5555555555555556,
              "#d8576b"
             ],
             [
              0.6666666666666666,
              "#ed7953"
             ],
             [
              0.7777777777777778,
              "#fb9f3a"
             ],
             [
              0.8888888888888888,
              "#fdca26"
             ],
             [
              1,
              "#f0f921"
             ]
            ],
            "type": "histogram2d"
           }
          ],
          "histogram2dcontour": [
           {
            "colorbar": {
             "outlinewidth": 0,
             "ticks": ""
            },
            "colorscale": [
             [
              0,
              "#0d0887"
             ],
             [
              0.1111111111111111,
              "#46039f"
             ],
             [
              0.2222222222222222,
              "#7201a8"
             ],
             [
              0.3333333333333333,
              "#9c179e"
             ],
             [
              0.4444444444444444,
              "#bd3786"
             ],
             [
              0.5555555555555556,
              "#d8576b"
             ],
             [
              0.6666666666666666,
              "#ed7953"
             ],
             [
              0.7777777777777778,
              "#fb9f3a"
             ],
             [
              0.8888888888888888,
              "#fdca26"
             ],
             [
              1,
              "#f0f921"
             ]
            ],
            "type": "histogram2dcontour"
           }
          ],
          "mesh3d": [
           {
            "colorbar": {
             "outlinewidth": 0,
             "ticks": ""
            },
            "type": "mesh3d"
           }
          ],
          "parcoords": [
           {
            "line": {
             "colorbar": {
              "outlinewidth": 0,
              "ticks": ""
             }
            },
            "type": "parcoords"
           }
          ],
          "pie": [
           {
            "automargin": true,
            "type": "pie"
           }
          ],
          "scatter": [
           {
            "fillpattern": {
             "fillmode": "overlay",
             "size": 10,
             "solidity": 0.2
            },
            "type": "scatter"
           }
          ],
          "scatter3d": [
           {
            "line": {
             "colorbar": {
              "outlinewidth": 0,
              "ticks": ""
             }
            },
            "marker": {
             "colorbar": {
              "outlinewidth": 0,
              "ticks": ""
             }
            },
            "type": "scatter3d"
           }
          ],
          "scattercarpet": [
           {
            "marker": {
             "colorbar": {
              "outlinewidth": 0,
              "ticks": ""
             }
            },
            "type": "scattercarpet"
           }
          ],
          "scattergeo": [
           {
            "marker": {
             "colorbar": {
              "outlinewidth": 0,
              "ticks": ""
             }
            },
            "type": "scattergeo"
           }
          ],
          "scattergl": [
           {
            "marker": {
             "colorbar": {
              "outlinewidth": 0,
              "ticks": ""
             }
            },
            "type": "scattergl"
           }
          ],
          "scattermapbox": [
           {
            "marker": {
             "colorbar": {
              "outlinewidth": 0,
              "ticks": ""
             }
            },
            "type": "scattermapbox"
           }
          ],
          "scatterpolar": [
           {
            "marker": {
             "colorbar": {
              "outlinewidth": 0,
              "ticks": ""
             }
            },
            "type": "scatterpolar"
           }
          ],
          "scatterpolargl": [
           {
            "marker": {
             "colorbar": {
              "outlinewidth": 0,
              "ticks": ""
             }
            },
            "type": "scatterpolargl"
           }
          ],
          "scatterternary": [
           {
            "marker": {
             "colorbar": {
              "outlinewidth": 0,
              "ticks": ""
             }
            },
            "type": "scatterternary"
           }
          ],
          "surface": [
           {
            "colorbar": {
             "outlinewidth": 0,
             "ticks": ""
            },
            "colorscale": [
             [
              0,
              "#0d0887"
             ],
             [
              0.1111111111111111,
              "#46039f"
             ],
             [
              0.2222222222222222,
              "#7201a8"
             ],
             [
              0.3333333333333333,
              "#9c179e"
             ],
             [
              0.4444444444444444,
              "#bd3786"
             ],
             [
              0.5555555555555556,
              "#d8576b"
             ],
             [
              0.6666666666666666,
              "#ed7953"
             ],
             [
              0.7777777777777778,
              "#fb9f3a"
             ],
             [
              0.8888888888888888,
              "#fdca26"
             ],
             [
              1,
              "#f0f921"
             ]
            ],
            "type": "surface"
           }
          ],
          "table": [
           {
            "cells": {
             "fill": {
              "color": "#EBF0F8"
             },
             "line": {
              "color": "white"
             }
            },
            "header": {
             "fill": {
              "color": "#C8D4E3"
             },
             "line": {
              "color": "white"
             }
            },
            "type": "table"
           }
          ]
         },
         "layout": {
          "annotationdefaults": {
           "arrowcolor": "#2a3f5f",
           "arrowhead": 0,
           "arrowwidth": 1
          },
          "autotypenumbers": "strict",
          "coloraxis": {
           "colorbar": {
            "outlinewidth": 0,
            "ticks": ""
           }
          },
          "colorscale": {
           "diverging": [
            [
             0,
             "#8e0152"
            ],
            [
             0.1,
             "#c51b7d"
            ],
            [
             0.2,
             "#de77ae"
            ],
            [
             0.3,
             "#f1b6da"
            ],
            [
             0.4,
             "#fde0ef"
            ],
            [
             0.5,
             "#f7f7f7"
            ],
            [
             0.6,
             "#e6f5d0"
            ],
            [
             0.7,
             "#b8e186"
            ],
            [
             0.8,
             "#7fbc41"
            ],
            [
             0.9,
             "#4d9221"
            ],
            [
             1,
             "#276419"
            ]
           ],
           "sequential": [
            [
             0,
             "#0d0887"
            ],
            [
             0.1111111111111111,
             "#46039f"
            ],
            [
             0.2222222222222222,
             "#7201a8"
            ],
            [
             0.3333333333333333,
             "#9c179e"
            ],
            [
             0.4444444444444444,
             "#bd3786"
            ],
            [
             0.5555555555555556,
             "#d8576b"
            ],
            [
             0.6666666666666666,
             "#ed7953"
            ],
            [
             0.7777777777777778,
             "#fb9f3a"
            ],
            [
             0.8888888888888888,
             "#fdca26"
            ],
            [
             1,
             "#f0f921"
            ]
           ],
           "sequentialminus": [
            [
             0,
             "#0d0887"
            ],
            [
             0.1111111111111111,
             "#46039f"
            ],
            [
             0.2222222222222222,
             "#7201a8"
            ],
            [
             0.3333333333333333,
             "#9c179e"
            ],
            [
             0.4444444444444444,
             "#bd3786"
            ],
            [
             0.5555555555555556,
             "#d8576b"
            ],
            [
             0.6666666666666666,
             "#ed7953"
            ],
            [
             0.7777777777777778,
             "#fb9f3a"
            ],
            [
             0.8888888888888888,
             "#fdca26"
            ],
            [
             1,
             "#f0f921"
            ]
           ]
          },
          "colorway": [
           "#636efa",
           "#EF553B",
           "#00cc96",
           "#ab63fa",
           "#FFA15A",
           "#19d3f3",
           "#FF6692",
           "#B6E880",
           "#FF97FF",
           "#FECB52"
          ],
          "font": {
           "color": "#2a3f5f"
          },
          "geo": {
           "bgcolor": "white",
           "lakecolor": "white",
           "landcolor": "#E5ECF6",
           "showlakes": true,
           "showland": true,
           "subunitcolor": "white"
          },
          "hoverlabel": {
           "align": "left"
          },
          "hovermode": "closest",
          "mapbox": {
           "style": "light"
          },
          "paper_bgcolor": "white",
          "plot_bgcolor": "#E5ECF6",
          "polar": {
           "angularaxis": {
            "gridcolor": "white",
            "linecolor": "white",
            "ticks": ""
           },
           "bgcolor": "#E5ECF6",
           "radialaxis": {
            "gridcolor": "white",
            "linecolor": "white",
            "ticks": ""
           }
          },
          "scene": {
           "xaxis": {
            "backgroundcolor": "#E5ECF6",
            "gridcolor": "white",
            "gridwidth": 2,
            "linecolor": "white",
            "showbackground": true,
            "ticks": "",
            "zerolinecolor": "white"
           },
           "yaxis": {
            "backgroundcolor": "#E5ECF6",
            "gridcolor": "white",
            "gridwidth": 2,
            "linecolor": "white",
            "showbackground": true,
            "ticks": "",
            "zerolinecolor": "white"
           },
           "zaxis": {
            "backgroundcolor": "#E5ECF6",
            "gridcolor": "white",
            "gridwidth": 2,
            "linecolor": "white",
            "showbackground": true,
            "ticks": "",
            "zerolinecolor": "white"
           }
          },
          "shapedefaults": {
           "line": {
            "color": "#2a3f5f"
           }
          },
          "ternary": {
           "aaxis": {
            "gridcolor": "white",
            "linecolor": "white",
            "ticks": ""
           },
           "baxis": {
            "gridcolor": "white",
            "linecolor": "white",
            "ticks": ""
           },
           "bgcolor": "#E5ECF6",
           "caxis": {
            "gridcolor": "white",
            "linecolor": "white",
            "ticks": ""
           }
          },
          "title": {
           "x": 0.05
          },
          "xaxis": {
           "automargin": true,
           "gridcolor": "white",
           "linecolor": "white",
           "ticks": "",
           "title": {
            "standoff": 15
           },
           "zerolinecolor": "white",
           "zerolinewidth": 2
          },
          "yaxis": {
           "automargin": true,
           "gridcolor": "white",
           "linecolor": "white",
           "ticks": "",
           "title": {
            "standoff": 15
           },
           "zerolinecolor": "white",
           "zerolinewidth": 2
          }
         }
        },
        "title": {
         "text": "20 most frequent keywords"
        },
        "xaxis": {
         "anchor": "y",
         "domain": [
          0,
          1
         ],
         "tickangle": 45,
         "title": {
          "text": "Keywords"
         }
        },
        "yaxis": {
         "anchor": "x",
         "domain": [
          0,
          1
         ],
         "title": {
          "text": "Word counts"
         }
        }
       }
      },
      "text/html": [
       "<div>                            <div id=\"e8d825ff-4e12-4aa3-8693-dc1c9d7fe4d2\" class=\"plotly-graph-div\" style=\"height:525px; width:100%;\"></div>            <script type=\"text/javascript\">                require([\"plotly\"], function(Plotly) {                    window.PLOTLYENV=window.PLOTLYENV || {};                                    if (document.getElementById(\"e8d825ff-4e12-4aa3-8693-dc1c9d7fe4d2\")) {                    Plotly.newPlot(                        \"e8d825ff-4e12-4aa3-8693-dc1c9d7fe4d2\",                        [{\"alignmentgroup\":\"True\",\"hovertemplate\":\"index=%{x}<br>keywords=%{y}<extra></extra>\",\"legendgroup\":\"\",\"marker\":{\"color\":\"#636efa\",\"pattern\":{\"shape\":\"\"}},\"name\":\"\",\"offsetgroup\":\"\",\"orientation\":\"v\",\"showlegend\":false,\"textposition\":\"auto\",\"x\":[\"MLOps\",\"Machine learning\",\"Pipelines\",\"Training\",\"Software\",\"important\",\"DevOps\",\"Conferences\",\"machine learning\",\"Data models\",\"Computational modeling\",\"Automation\",\"Computer architecture\",\"Cloud computing\",\"Machine Learning\",\"Tools\",\"Task analysis\",\"Production\",\"Deployment\",\"Predictive models\"],\"xaxis\":\"x\",\"y\":[27,24,14,14,13,13,11,11,9,9,8,8,7,7,6,6,6,6,5,5],\"yaxis\":\"y\",\"type\":\"bar\"}],                        {\"template\":{\"data\":{\"histogram2dcontour\":[{\"type\":\"histogram2dcontour\",\"colorbar\":{\"outlinewidth\":0,\"ticks\":\"\"},\"colorscale\":[[0.0,\"#0d0887\"],[0.1111111111111111,\"#46039f\"],[0.2222222222222222,\"#7201a8\"],[0.3333333333333333,\"#9c179e\"],[0.4444444444444444,\"#bd3786\"],[0.5555555555555556,\"#d8576b\"],[0.6666666666666666,\"#ed7953\"],[0.7777777777777778,\"#fb9f3a\"],[0.8888888888888888,\"#fdca26\"],[1.0,\"#f0f921\"]]}],\"choropleth\":[{\"type\":\"choropleth\",\"colorbar\":{\"outlinewidth\":0,\"ticks\":\"\"}}],\"histogram2d\":[{\"type\":\"histogram2d\",\"colorbar\":{\"outlinewidth\":0,\"ticks\":\"\"},\"colorscale\":[[0.0,\"#0d0887\"],[0.1111111111111111,\"#46039f\"],[0.2222222222222222,\"#7201a8\"],[0.3333333333333333,\"#9c179e\"],[0.4444444444444444,\"#bd3786\"],[0.5555555555555556,\"#d8576b\"],[0.6666666666666666,\"#ed7953\"],[0.7777777777777778,\"#fb9f3a\"],[0.8888888888888888,\"#fdca26\"],[1.0,\"#f0f921\"]]}],\"heatmap\":[{\"type\":\"heatmap\",\"colorbar\":{\"outlinewidth\":0,\"ticks\":\"\"},\"colorscale\":[[0.0,\"#0d0887\"],[0.1111111111111111,\"#46039f\"],[0.2222222222222222,\"#7201a8\"],[0.3333333333333333,\"#9c179e\"],[0.4444444444444444,\"#bd3786\"],[0.5555555555555556,\"#d8576b\"],[0.6666666666666666,\"#ed7953\"],[0.7777777777777778,\"#fb9f3a\"],[0.8888888888888888,\"#fdca26\"],[1.0,\"#f0f921\"]]}],\"heatmapgl\":[{\"type\":\"heatmapgl\",\"colorbar\":{\"outlinewidth\":0,\"ticks\":\"\"},\"colorscale\":[[0.0,\"#0d0887\"],[0.1111111111111111,\"#46039f\"],[0.2222222222222222,\"#7201a8\"],[0.3333333333333333,\"#9c179e\"],[0.4444444444444444,\"#bd3786\"],[0.5555555555555556,\"#d8576b\"],[0.6666666666666666,\"#ed7953\"],[0.7777777777777778,\"#fb9f3a\"],[0.8888888888888888,\"#fdca26\"],[1.0,\"#f0f921\"]]}],\"contourcarpet\":[{\"type\":\"contourcarpet\",\"colorbar\":{\"outlinewidth\":0,\"ticks\":\"\"}}],\"contour\":[{\"type\":\"contour\",\"colorbar\":{\"outlinewidth\":0,\"ticks\":\"\"},\"colorscale\":[[0.0,\"#0d0887\"],[0.1111111111111111,\"#46039f\"],[0.2222222222222222,\"#7201a8\"],[0.3333333333333333,\"#9c179e\"],[0.4444444444444444,\"#bd3786\"],[0.5555555555555556,\"#d8576b\"],[0.6666666666666666,\"#ed7953\"],[0.7777777777777778,\"#fb9f3a\"],[0.8888888888888888,\"#fdca26\"],[1.0,\"#f0f921\"]]}],\"surface\":[{\"type\":\"surface\",\"colorbar\":{\"outlinewidth\":0,\"ticks\":\"\"},\"colorscale\":[[0.0,\"#0d0887\"],[0.1111111111111111,\"#46039f\"],[0.2222222222222222,\"#7201a8\"],[0.3333333333333333,\"#9c179e\"],[0.4444444444444444,\"#bd3786\"],[0.5555555555555556,\"#d8576b\"],[0.6666666666666666,\"#ed7953\"],[0.7777777777777778,\"#fb9f3a\"],[0.8888888888888888,\"#fdca26\"],[1.0,\"#f0f921\"]]}],\"mesh3d\":[{\"type\":\"mesh3d\",\"colorbar\":{\"outlinewidth\":0,\"ticks\":\"\"}}],\"scatter\":[{\"fillpattern\":{\"fillmode\":\"overlay\",\"size\":10,\"solidity\":0.2},\"type\":\"scatter\"}],\"parcoords\":[{\"type\":\"parcoords\",\"line\":{\"colorbar\":{\"outlinewidth\":0,\"ticks\":\"\"}}}],\"scatterpolargl\":[{\"type\":\"scatterpolargl\",\"marker\":{\"colorbar\":{\"outlinewidth\":0,\"ticks\":\"\"}}}],\"bar\":[{\"error_x\":{\"color\":\"#2a3f5f\"},\"error_y\":{\"color\":\"#2a3f5f\"},\"marker\":{\"line\":{\"color\":\"#E5ECF6\",\"width\":0.5},\"pattern\":{\"fillmode\":\"overlay\",\"size\":10,\"solidity\":0.2}},\"type\":\"bar\"}],\"scattergeo\":[{\"type\":\"scattergeo\",\"marker\":{\"colorbar\":{\"outlinewidth\":0,\"ticks\":\"\"}}}],\"scatterpolar\":[{\"type\":\"scatterpolar\",\"marker\":{\"colorbar\":{\"outlinewidth\":0,\"ticks\":\"\"}}}],\"histogram\":[{\"marker\":{\"pattern\":{\"fillmode\":\"overlay\",\"size\":10,\"solidity\":0.2}},\"type\":\"histogram\"}],\"scattergl\":[{\"type\":\"scattergl\",\"marker\":{\"colorbar\":{\"outlinewidth\":0,\"ticks\":\"\"}}}],\"scatter3d\":[{\"type\":\"scatter3d\",\"line\":{\"colorbar\":{\"outlinewidth\":0,\"ticks\":\"\"}},\"marker\":{\"colorbar\":{\"outlinewidth\":0,\"ticks\":\"\"}}}],\"scattermapbox\":[{\"type\":\"scattermapbox\",\"marker\":{\"colorbar\":{\"outlinewidth\":0,\"ticks\":\"\"}}}],\"scatterternary\":[{\"type\":\"scatterternary\",\"marker\":{\"colorbar\":{\"outlinewidth\":0,\"ticks\":\"\"}}}],\"scattercarpet\":[{\"type\":\"scattercarpet\",\"marker\":{\"colorbar\":{\"outlinewidth\":0,\"ticks\":\"\"}}}],\"carpet\":[{\"aaxis\":{\"endlinecolor\":\"#2a3f5f\",\"gridcolor\":\"white\",\"linecolor\":\"white\",\"minorgridcolor\":\"white\",\"startlinecolor\":\"#2a3f5f\"},\"baxis\":{\"endlinecolor\":\"#2a3f5f\",\"gridcolor\":\"white\",\"linecolor\":\"white\",\"minorgridcolor\":\"white\",\"startlinecolor\":\"#2a3f5f\"},\"type\":\"carpet\"}],\"table\":[{\"cells\":{\"fill\":{\"color\":\"#EBF0F8\"},\"line\":{\"color\":\"white\"}},\"header\":{\"fill\":{\"color\":\"#C8D4E3\"},\"line\":{\"color\":\"white\"}},\"type\":\"table\"}],\"barpolar\":[{\"marker\":{\"line\":{\"color\":\"#E5ECF6\",\"width\":0.5},\"pattern\":{\"fillmode\":\"overlay\",\"size\":10,\"solidity\":0.2}},\"type\":\"barpolar\"}],\"pie\":[{\"automargin\":true,\"type\":\"pie\"}]},\"layout\":{\"autotypenumbers\":\"strict\",\"colorway\":[\"#636efa\",\"#EF553B\",\"#00cc96\",\"#ab63fa\",\"#FFA15A\",\"#19d3f3\",\"#FF6692\",\"#B6E880\",\"#FF97FF\",\"#FECB52\"],\"font\":{\"color\":\"#2a3f5f\"},\"hovermode\":\"closest\",\"hoverlabel\":{\"align\":\"left\"},\"paper_bgcolor\":\"white\",\"plot_bgcolor\":\"#E5ECF6\",\"polar\":{\"bgcolor\":\"#E5ECF6\",\"angularaxis\":{\"gridcolor\":\"white\",\"linecolor\":\"white\",\"ticks\":\"\"},\"radialaxis\":{\"gridcolor\":\"white\",\"linecolor\":\"white\",\"ticks\":\"\"}},\"ternary\":{\"bgcolor\":\"#E5ECF6\",\"aaxis\":{\"gridcolor\":\"white\",\"linecolor\":\"white\",\"ticks\":\"\"},\"baxis\":{\"gridcolor\":\"white\",\"linecolor\":\"white\",\"ticks\":\"\"},\"caxis\":{\"gridcolor\":\"white\",\"linecolor\":\"white\",\"ticks\":\"\"}},\"coloraxis\":{\"colorbar\":{\"outlinewidth\":0,\"ticks\":\"\"}},\"colorscale\":{\"sequential\":[[0.0,\"#0d0887\"],[0.1111111111111111,\"#46039f\"],[0.2222222222222222,\"#7201a8\"],[0.3333333333333333,\"#9c179e\"],[0.4444444444444444,\"#bd3786\"],[0.5555555555555556,\"#d8576b\"],[0.6666666666666666,\"#ed7953\"],[0.7777777777777778,\"#fb9f3a\"],[0.8888888888888888,\"#fdca26\"],[1.0,\"#f0f921\"]],\"sequentialminus\":[[0.0,\"#0d0887\"],[0.1111111111111111,\"#46039f\"],[0.2222222222222222,\"#7201a8\"],[0.3333333333333333,\"#9c179e\"],[0.4444444444444444,\"#bd3786\"],[0.5555555555555556,\"#d8576b\"],[0.6666666666666666,\"#ed7953\"],[0.7777777777777778,\"#fb9f3a\"],[0.8888888888888888,\"#fdca26\"],[1.0,\"#f0f921\"]],\"diverging\":[[0,\"#8e0152\"],[0.1,\"#c51b7d\"],[0.2,\"#de77ae\"],[0.3,\"#f1b6da\"],[0.4,\"#fde0ef\"],[0.5,\"#f7f7f7\"],[0.6,\"#e6f5d0\"],[0.7,\"#b8e186\"],[0.8,\"#7fbc41\"],[0.9,\"#4d9221\"],[1,\"#276419\"]]},\"xaxis\":{\"gridcolor\":\"white\",\"linecolor\":\"white\",\"ticks\":\"\",\"title\":{\"standoff\":15},\"zerolinecolor\":\"white\",\"automargin\":true,\"zerolinewidth\":2},\"yaxis\":{\"gridcolor\":\"white\",\"linecolor\":\"white\",\"ticks\":\"\",\"title\":{\"standoff\":15},\"zerolinecolor\":\"white\",\"automargin\":true,\"zerolinewidth\":2},\"scene\":{\"xaxis\":{\"backgroundcolor\":\"#E5ECF6\",\"gridcolor\":\"white\",\"linecolor\":\"white\",\"showbackground\":true,\"ticks\":\"\",\"zerolinecolor\":\"white\",\"gridwidth\":2},\"yaxis\":{\"backgroundcolor\":\"#E5ECF6\",\"gridcolor\":\"white\",\"linecolor\":\"white\",\"showbackground\":true,\"ticks\":\"\",\"zerolinecolor\":\"white\",\"gridwidth\":2},\"zaxis\":{\"backgroundcolor\":\"#E5ECF6\",\"gridcolor\":\"white\",\"linecolor\":\"white\",\"showbackground\":true,\"ticks\":\"\",\"zerolinecolor\":\"white\",\"gridwidth\":2}},\"shapedefaults\":{\"line\":{\"color\":\"#2a3f5f\"}},\"annotationdefaults\":{\"arrowcolor\":\"#2a3f5f\",\"arrowhead\":0,\"arrowwidth\":1},\"geo\":{\"bgcolor\":\"white\",\"landcolor\":\"#E5ECF6\",\"subunitcolor\":\"white\",\"showland\":true,\"showlakes\":true,\"lakecolor\":\"white\"},\"title\":{\"x\":0.05},\"mapbox\":{\"style\":\"light\"}}},\"xaxis\":{\"anchor\":\"y\",\"domain\":[0.0,1.0],\"title\":{\"text\":\"Keywords\"},\"tickangle\":45},\"yaxis\":{\"anchor\":\"x\",\"domain\":[0.0,1.0],\"title\":{\"text\":\"Word counts\"}},\"legend\":{\"tracegroupgap\":0},\"title\":{\"text\":\"20 most frequent keywords\"},\"barmode\":\"relative\"},                        {\"responsive\": true}                    ).then(function(){\n",
       "                            \n",
       "var gd = document.getElementById('e8d825ff-4e12-4aa3-8693-dc1c9d7fe4d2');\n",
       "var x = new MutationObserver(function (mutations, observer) {{\n",
       "        var display = window.getComputedStyle(gd).display;\n",
       "        if (!display || display === 'none') {{\n",
       "            console.log([gd, 'removed!']);\n",
       "            Plotly.purge(gd);\n",
       "            observer.disconnect();\n",
       "        }}\n",
       "}});\n",
       "\n",
       "// Listen for the removal of the full notebook cells\n",
       "var notebookContainer = gd.closest('#notebook-container');\n",
       "if (notebookContainer) {{\n",
       "    x.observe(notebookContainer, {childList: true});\n",
       "}}\n",
       "\n",
       "// Listen for the clearing of the current output cell\n",
       "var outputEl = gd.closest('.output');\n",
       "if (outputEl) {{\n",
       "    x.observe(outputEl, {childList: true});\n",
       "}}\n",
       "\n",
       "                        })                };                });            </script>        </div>"
      ]
     },
     "metadata": {},
     "output_type": "display_data"
    }
   ],
   "source": [
    "fig = px.bar(\n",
    "    top_20,\n",
    "    y='keywords',\n",
    "    title='20 most frequent keywords')\n",
    "\n",
    "fig.update_layout(\n",
    "    xaxis=dict(tickangle=45, title='Keywords'),\n",
    "    yaxis=dict(title='Word counts')\n",
    ")\n",
    "\n",
    "fig.show()"
   ]
  },
  {
   "cell_type": "code",
   "execution_count": 54,
   "metadata": {
    "ExecuteTime": {
     "end_time": "2022-12-23T18:55:09.012810Z",
     "start_time": "2022-12-23T18:55:09.006254Z"
    }
   },
   "outputs": [
    {
     "data": {
      "text/plain": [
       "MLOps                                    27\n",
       "Machine learning                         24\n",
       "Pipelines                                14\n",
       "Training                                 14\n",
       "Software                                 13\n",
       "important                                13\n",
       "DevOps                                   11\n",
       "Conferences                              11\n",
       "machine learning                          9\n",
       "Data models                               9\n",
       "Computational modeling                    8\n",
       "Automation                                8\n",
       "Computer architecture                     7\n",
       "Cloud computing                           7\n",
       "Machine Learning                          6\n",
       "Tools                                     6\n",
       "Task analysis                             6\n",
       "Production                                6\n",
       "Deployment                                5\n",
       "Predictive models                         5\n",
       "deep learning                             5\n",
       "Industries                                5\n",
       "Deep learning                             5\n",
       "Software engineering                      4\n",
       "Companies                                 4\n",
       "Artificial intelligence                   4\n",
       "Codes                                     4\n",
       "Benchmark testing                         3\n",
       "Adaptation models                         3\n",
       "Monitoring                                3\n",
       "Buildings                                 3\n",
       "Stakeholders                              3\n",
       "Artificial Intelligence                   3\n",
       "Deep Learning                             3\n",
       "Collaboration                             3\n",
       "Systematics                               3\n",
       "Organizations                             3\n",
       "AI                                        3\n",
       "Interviews                                3\n",
       "Analytical models                         2\n",
       "software engineering                      2\n",
       "continuous training                       2\n",
       "Software systems                          2\n",
       "DataOps                                   2\n",
       "CI/CD                                     2\n",
       "sustainability                            2\n",
       "Forecasting                               2\n",
       "Market research                           2\n",
       "Kubernetes                                2\n",
       "SLR                                       2\n",
       "Real-time systems                         2\n",
       "Bibliographies                            2\n",
       "Packaging                                 2\n",
       "Business                                  2\n",
       "Collaborative work                        2\n",
       "Embedded systems                          2\n",
       "Edge                                      2\n",
       "Cloud                                     2\n",
       "Optimization                              2\n",
       "Sociology                                 2\n",
       "Architecture                              2\n",
       "Image segmentation                        2\n",
       "Transfer learning                         2\n",
       "transfer learning                         2\n",
       "IoT                                       2\n",
       "continuous integration                    2\n",
       "TinyML                                    2\n",
       "responsible AI                            2\n",
       "test automation                           2\n",
       "Time series analysis                      2\n",
       "development                               2\n",
       "Software architecture                     2\n",
       "model                                     2\n",
       "software development life cycle           2\n",
       "5G mobile communication                   2\n",
       "Visualization                             2\n",
       "ML                                        2\n",
       "Robustness                                2\n",
       "Neural networks                           2\n",
       "Model Evaluation                          1\n",
       "Libraries                                 1\n",
       "Focusing                                  1\n",
       "Agile software development                1\n",
       "mlops                                     1\n",
       "agile                                     1\n",
       "Regulation                                1\n",
       "delivery pipeline                         1\n",
       "continuous software engineering           1\n",
       "Edge Computing                            1\n",
       "Model Validation                          1\n",
       "Digital Transformation                    1\n",
       "5G Networks                               1\n",
       "Atmospheric modeling                      1\n",
       "software architecture                     1\n",
       "Software algorithms                       1\n",
       "empirical study                           1\n",
       "Human-in-the-loop                         1\n",
       "Data-Centric AI                           1\n",
       "requirement engineering                   1\n",
       "Data Validation                           1\n",
       "Regulators                                1\n",
       "Text analysis                             1\n",
       "bots                                      1\n",
       "devops                                    1\n",
       "Load forecasting                          1\n",
       "AI life-cycle                             1\n",
       "analytic pipeline                         1\n",
       "Atomic layer deposition                   1\n",
       "end-to-end platform                       1\n",
       "deploying                                 1\n",
       "Search problems                           1\n",
       "packaging                                 1\n",
       "ML-DevOps                                 1\n",
       "AIOps                                     1\n",
       "Software Engineering                      1\n",
       "Databases                                 1\n",
       "COVID-19                                  1\n",
       "LSTM                                      1\n",
       "deployment                                1\n",
       "NBEATS                                    1\n",
       "Out-of-Distribution Generalization        1\n",
       "Data collection                           1\n",
       "Writing                                   1\n",
       "Pandemics                                 1\n",
       "Standards organizations                   1\n",
       "Short-Term Load Forecasting               1\n",
       "Smart Grid                                1\n",
       "Sustainability                            1\n",
       "Temporal Convolution                      1\n",
       "Bot (Internet)                            1\n",
       "testtag                                   1\n",
       "Complexity theory                         1\n",
       "implementation                            1\n",
       "data-centric                              1\n",
       "data                                      1\n",
       "dataset                                   1\n",
       "Fluids                                    1\n",
       "AI-Powered Systems                        1\n",
       "Planets                                   1\n",
       "Intelligent sensors                       1\n",
       "Infrastructure as code                    1\n",
       "Big Data                                  1\n",
       "Azure                                     1\n",
       "management                                1\n",
       "XAI                                       1\n",
       "Surgery                                   1\n",
       "continuous monitoring                     1\n",
       "continuous delivery                       1\n",
       "Sustainable development                   1\n",
       "Software Sustainability                   1\n",
       "datalake                                  1\n",
       "Human-AI Interaction                      1\n",
       "Middleware                                1\n",
       "catalogues                                1\n",
       "gesture recognition                       1\n",
       "federated learning                        1\n",
       "Internet of Things                        1\n",
       "Energy efficiency                         1\n",
       "Logic gates                               1\n",
       "LoRa                                      1\n",
       "Memory management                         1\n",
       "Performance evaluation                    1\n",
       "energy efficiency                         1\n",
       "Edge computing                            1\n",
       "edge computing                            1\n",
       "5G                                        1\n",
       "Software Architecture                     1\n",
       "Tiny machine learning                     1\n",
       "automation                                1\n",
       "Scientific computing                      1\n",
       "Machine-Learning Operations               1\n",
       "experimentation                           1\n",
       "survey                                    1\n",
       "best practices                            1\n",
       "Quality of service                        1\n",
       "Modularization                            1\n",
       "Manufacturing industries                  1\n",
       "Embedded computing                        1\n",
       "Digital systems                           1\n",
       "CPS                                       1\n",
       "Source Code Management (SCM)              1\n",
       "Software Development Lifecycle (SDLC)     1\n",
       "Manuals                                   1\n",
       "Machine Learning Operations (MLOps)       1\n",
       "Machine Learning (ML)                     1\n",
       "Continuous Integration (CI)               1\n",
       "Data Slicing                              1\n",
       "SDLC                                      1\n",
       "machine learning engineering              1\n",
       "beyond-schema inference                   1\n",
       "Decision making                           1\n",
       "Convergence                               1\n",
       "metadata                                  1\n",
       "MlOps                                     1\n",
       "models                                    1\n",
       "robustness                                1\n",
       "re-training                               1\n",
       "monitoring                                1\n",
       "fairness                                  1\n",
       "versioning                                1\n",
       "explainability                            1\n",
       "AutoML                                    1\n",
       "Training data                             1\n",
       "pattern recognition                       1\n",
       "Ethics                                    1\n",
       "Data science                              1\n",
       "Data intelligence                         1\n",
       "Internet                                  1\n",
       "Video based diagnosis support             1\n",
       "ethics                                    1\n",
       "text topic classification                 1\n",
       "Soft-Sensor                               1\n",
       "Regression                                1\n",
       "Quantization (signal)                     1\n",
       "Quantization                              1\n",
       "OBD-II                                    1\n",
       "Neurons                                   1\n",
       "Intelligent Vehicles                      1\n",
       "Estimation error                          1\n",
       "Carbon dioxide                            1\n",
       "security augmented ML life cycle          1\n",
       "Mobile communication                      1\n",
       "MLOpS                                     1\n",
       "Machine learning life cycle               1\n",
       "Intrusion detection                       1\n",
       "Fasteners                                 1\n",
       "Temperature measurement                   1\n",
       "Torque                                    1\n",
       "Containerization                          1\n",
       "information systems                       1\n",
       "Data drift                                1\n",
       "software engineering for AI/ML            1\n",
       "multi-organisation                        1\n",
       "machine learning; ML                      1\n",
       "Learning (artificial intelligence)        1\n",
       "integration                               1\n",
       "Distributed databases                     1\n",
       "Docker                                    1\n",
       "Artificial intelligence; AI               1\n",
       "Software development management           1\n",
       "Orchestration                             1\n",
       "Kubeflow                                  1\n",
       "Knowledge engineering                     1\n",
       "GitOps                                    1\n",
       "explanation augmented ML life cycle       1\n",
       "Denial-of-service attack                  1\n",
       "Systems operation                         1\n",
       "Serverless computing                      1\n",
       "Context modeling                          1\n",
       "AI quality                                1\n",
       "action research                           1\n",
       "systematic mapping                        1\n",
       "systematic literature review              1\n",
       "SM                                        1\n",
       "Serverless                                1\n",
       "generative dialog model                   1\n",
       "function as a service                     1\n",
       "FaaS                                      1\n",
       "Transforms                                1\n",
       "System performance                        1\n",
       "Sensors                                   1\n",
       "Image edge detection                      1\n",
       "conversational agent                      1\n",
       "Natural language processing               1\n",
       "Benchmark                                 1\n",
       "neural networks                           1\n",
       "Resource management                       1\n",
       "RAN intelligent controller                1\n",
       "RAN                                       1\n",
       "Radio access networks                     1\n",
       "open RAN architecture                     1\n",
       "B5G networks                              1\n",
       "machine learning testing                  1\n",
       "Quality assurance                         1\n",
       "image recognition                         1\n",
       "Heating systems                           1\n",
       "Grad-CAM                                  1\n",
       "Testing                                   1\n",
       "software testing                          1\n",
       "requirements engineering                  1\n",
       "Text categorization                       1\n",
       "transformer-based models                  1\n",
       "Self-Management                           1\n",
       "Transformers                              1\n",
       "Timing                                    1\n",
       "Servers                                   1\n",
       "Regression test selection                 1\n",
       "mutation testing                          1\n",
       "Measurement                               1\n",
       "Error analysis                            1\n",
       "Costs                                     1\n",
       "Three-dimensional displays                1\n",
       "Semiotics                                 1\n",
       "Seizure semiology                         1\n",
       "Epilepsy                                  1\n",
       "Clinical research support                 1\n",
       "Clinical MLOps                            1\n",
       "XGBoost                                   1\n",
       "Stability analysis                        1\n",
       "Operationalization                        1\n",
       "Publishing                                1\n",
       "Systematic literature review              1\n",
       "Reliability                               1\n",
       "Scanflow                                  1\n",
       "Machine Learning Workflow                 1\n",
       "Image classification                      1\n",
       "Autonomic                                 1\n",
       "Agent                                     1\n",
       "TinyMLOps                                 1\n",
       "Privacy                                   1\n",
       "AI Governance                             1\n",
       "Intellectual property                     1\n",
       "Edge AI                                   1\n",
       "Distributed processing                    1\n",
       "system development life cycle             1\n",
       "software development                      1\n",
       "Encoding                                  1\n",
       "MOO                                       1\n",
       "MCDA                                      1\n",
       "Logistics                                 1\n",
       "Arguments                                 1\n",
       "Classification algorithms                 1\n",
       "brain tumor                               1\n",
       "Uncertainty                               1\n",
       "Requirements Engineering                  1\n",
       "Requirements engineering                  1\n",
       "Goal-Oriented Requirements Analysis       1\n",
       "Statistics                                1\n",
       "hybrid multi cloud                        1\n",
       "Matlab                                    1\n",
       "hybrid optimization                       1\n",
       "Grammatical evolution                     1\n",
       "Grammar                                   1\n",
       "Germanium                                 1\n",
       "diversity                                 1\n",
       "Convolutional neural networks             1\n",
       "machine learning operations (MLOps)       1\n",
       "Feature selection                         1\n",
       "Framework                                 1\n",
       "Feature extraction                        1\n",
       "Ensemble blending                         1\n",
       "Dimensionality reduction                  1\n",
       "Validation Study                          1\n",
       "Maturity Model                            1\n",
       "GLR                                       1\n",
       "Transfer Learning                         1\n",
       "Magnetic resonance imaging                1\n",
       "Architectural alternatives                1\n",
       "Action Research                           1\n",
       "Prototypes                                1\n",
       "smart healthcare                          1\n",
       "security                                  1\n",
       "Object detection                          1\n",
       "Graphics processing units                 1\n",
       "Name: keywords, dtype: int64"
      ]
     },
     "execution_count": 54,
     "metadata": {},
     "output_type": "execute_result"
    }
   ],
   "source": [
    "df.keywords.str.split(',').explode().value_counts()"
   ]
  },
  {
   "cell_type": "markdown",
   "metadata": {},
   "source": [
    "# Cluster similar words from keywords and identify groups"
   ]
  },
  {
   "cell_type": "markdown",
   "metadata": {},
   "source": [
    "## Load Model\n"
   ]
  },
  {
   "cell_type": "code",
   "execution_count": 70,
   "metadata": {
    "ExecuteTime": {
     "end_time": "2022-12-23T18:58:29.935591Z",
     "start_time": "2022-12-23T18:58:27.001450Z"
    }
   },
   "outputs": [],
   "source": [
    "try:\n",
    "    from gensim.models import KeyedVectors\n",
    "    model = KeyedVectors.load('models/word2vec-google-news-300.model')\n",
    "    \n",
    "except:\n",
    "    print('Couldnt find a saved model')\n",
    "    import gensim.downloader as api\n",
    "    \n",
    "    model = api.load('word2vec-google-news-300')\n",
    "    model.save('models/word2vec-google-news-300.model')"
   ]
  },
  {
   "cell_type": "markdown",
   "metadata": {},
   "source": [
    "## Get keywords and compare to vocab in pre-trained model"
   ]
  },
  {
   "cell_type": "code",
   "execution_count": 71,
   "metadata": {
    "ExecuteTime": {
     "end_time": "2022-12-23T18:58:29.965418Z",
     "start_time": "2022-12-23T18:58:29.937810Z"
    }
   },
   "outputs": [
    {
     "name": "stdout",
     "output_type": "stream",
     "text": [
      "0                         Adaptation models\n",
      "0                                     Costs\n",
      "0                      Image edge detection\n",
      "0                         Real-time systems\n",
      "0                                   Sensors\n",
      "0                        System performance\n",
      "0                                Transforms\n",
      "1                           Cloud computing\n",
      "1                    Computational modeling\n",
      "1                     Computer architecture\n",
      "1                               Data models\n",
      "1                                      FaaS\n",
      "1                     function as a service\n",
      "1                                 important\n",
      "1                          machine learning\n",
      "1                          Machine learning\n",
      "1                                Serverless\n",
      "1                      Serverless computing\n",
      "1                                       SLR\n",
      "1                                        SM\n",
      "1              systematic literature review\n",
      "1                        systematic mapping\n",
      "2                           action research\n",
      "2                                AI quality\n",
      "2                          Context modeling\n",
      "2                      conversational agent\n",
      "2                   generative dialog model\n",
      "2                                Interviews\n",
      "2                          Machine learning\n",
      "2               Natural language processing\n",
      "2                         Quality assurance\n",
      "2                  requirements engineering\n",
      "2                      Software engineering\n",
      "2                          software testing\n",
      "2                                   Testing\n",
      "3                                Automation\n",
      "3                               Conferences\n",
      "3                                  Grad-CAM\n",
      "3                           Heating systems\n",
      "3                         image recognition\n",
      "3                        Image segmentation\n",
      "3                  machine learning testing\n",
      "3                           neural networks\n",
      "3                           Neural networks\n",
      "3                                 Pipelines\n",
      "3                           test automation\n",
      "3                             Visualization\n",
      "4                   5G mobile communication\n",
      "4                              B5G networks\n",
      "4                           Cloud computing\n",
      "4                     Computer architecture\n",
      "4                             deep learning\n",
      "4                             Deep learning\n",
      "4                                Industries\n",
      "4                                     MLOps\n",
      "4                     open RAN architecture\n",
      "4                     Radio access networks\n",
      "4                                       RAN\n",
      "4                RAN intelligent controller\n",
      "4                       Resource management\n",
      "5                                 Benchmark\n",
      "5                         Benchmark testing\n",
      "5                          Machine learning\n",
      "5                          Machine Learning\n",
      "5                                     MLOps\n",
      "5                                Monitoring\n",
      "5                                Production\n",
      "5                         Systems operation\n",
      "5                             Task analysis\n",
      "5                                     Tools\n",
      "6                                 Buildings\n",
      "6                  Denial-of-service attack\n",
      "6       explanation augmented ML life cycle\n",
      "6                                 Fasteners\n",
      "6                       Intrusion detection\n",
      "6                          Machine learning\n",
      "6               Machine learning life cycle\n",
      "6                                     MLOpS\n",
      "6                      Mobile communication\n",
      "6                         Predictive models\n",
      "6          security augmented ML life cycle\n",
      "7                            Carbon dioxide\n",
      "7                          Estimation error\n",
      "7                      Intelligent Vehicles\n",
      "7                                     MLOps\n",
      "7                                   Neurons\n",
      "7                                    OBD-II\n",
      "7                              Quantization\n",
      "7                     Quantization (signal)\n",
      "7                                Regression\n",
      "7                               Soft-Sensor\n",
      "7                   Temperature measurement\n",
      "7                                    TinyML\n",
      "7                                    Torque\n",
      "7                                  Training\n",
      "8                                     CI/CD\n",
      "8                               Conferences\n",
      "8                          Containerization\n",
      "8                                Deployment\n",
      "8                                    DevOps\n",
      "8                                    Docker\n",
      "8                                    GitOps\n",
      "8                     Knowledge engineering\n",
      "8                                  Kubeflow\n",
      "8                                Kubernetes\n",
      "8                          Machine learning\n",
      "8                                     MLOps\n",
      "8                             Orchestration\n",
      "8                             Organizations\n",
      "8                                 Pipelines\n",
      "8                                  Software\n",
      "8           Software development management\n",
      "9               Artificial intelligence; AI\n",
      "9                               Data models\n",
      "9                     Distributed databases\n",
      "9                       information systems\n",
      "9                               integration\n",
      "9        Learning (artificial intelligence)\n",
      "9                          Machine learning\n",
      "9                      machine learning; ML\n",
      "9                        multi-organisation\n",
      "9                             Organizations\n",
      "9                                 Pipelines\n",
      "9                                  Software\n",
      "9            software engineering for AI/ML\n",
      "10                              Conferences\n",
      "10                               Data drift\n",
      "10                              Data models\n",
      "10                            deep learning\n",
      "10                            Deep learning\n",
      "10                                    MLOps\n",
      "10                        Predictive models\n",
      "10                        Real-time systems\n",
      "10                      Text categorization\n",
      "10                text topic classification\n",
      "10                 transformer-based models\n",
      "10                             Transformers\n",
      "11                                diversity\n",
      "11                                Germanium\n",
      "11                                  Grammar\n",
      "11                    Grammatical evolution\n",
      "11                      hybrid optimization\n",
      "11                                   Matlab\n",
      "11                             Optimization\n",
      "11                                Sociology\n",
      "11                                 Software\n",
      "11                               Statistics\n",
      "12                        Analytical models\n",
      "12                                Arguments\n",
      "12      Goal-Oriented Requirements Analysis\n",
      "12                         Machine learning\n",
      "12                         Machine Learning\n",
      "12                               Monitoring\n",
      "12                 Requirements engineering\n",
      "12                 Requirements Engineering\n",
      "12                             Stakeholders\n",
      "12                            Task analysis\n",
      "12                              Uncertainty\n",
      "13                              brain tumor\n",
      "13                Classification algorithms\n",
      "13            Convolutional neural networks\n",
      "13                            deep learning\n",
      "13                       hybrid multi cloud\n",
      "13                       Image segmentation\n",
      "13      machine learning operations (MLOps)\n",
      "13               Magnetic resonance imaging\n",
      "13                         Object detection\n",
      "13                                 security\n",
      "13                         smart healthcare\n",
      "13                                 Training\n",
      "13                        transfer learning\n",
      "13                        Transfer learning\n",
      "14                             Architecture\n",
      "14                  Artificial Intelligence\n",
      "14                                    Cloud\n",
      "14                                Companies\n",
      "14                    Computer architecture\n",
      "14                              Conferences\n",
      "14                            Deep Learning\n",
      "14                               Deployment\n",
      "14                                     Edge\n",
      "14                         Embedded systems\n",
      "14                               Interviews\n",
      "14                         Machine Learning\n",
      "14                               Prototypes\n",
      "14                     Software engineering\n",
      "15                          Action Research\n",
      "15               Architectural alternatives\n",
      "15                  Artificial intelligence\n",
      "15                  Artificial Intelligence\n",
      "15                                    Cloud\n",
      "15                          Cloud computing\n",
      "15                            Collaboration\n",
      "15                                Companies\n",
      "15                    Computer architecture\n",
      "15                            Deep Learning\n",
      "15                                     Edge\n",
      "15                                important\n",
      "15                               Interviews\n",
      "15                         Machine Learning\n",
      "15                                Packaging\n",
      "15                        Transfer Learning\n",
      "16                           Bibliographies\n",
      "16                                Companies\n",
      "16                         Embedded systems\n",
      "16                                Framework\n",
      "16                                      GLR\n",
      "16                                important\n",
      "16                         Machine learning\n",
      "16                           Maturity Model\n",
      "16                                    MLOps\n",
      "16                                      SLR\n",
      "16                                 Software\n",
      "16                     Software engineering\n",
      "16                              Systematics\n",
      "16                         Validation Study\n",
      "17                 Dimensionality reduction\n",
      "17                        Ensemble blending\n",
      "17                       Feature extraction\n",
      "17                        Feature selection\n",
      "17                              Forecasting\n",
      "17                               Industries\n",
      "17                                Logistics\n",
      "17                                     MCDA\n",
      "17                                      MOO\n",
      "17                                Pipelines\n",
      "17                        Predictive models\n",
      "17                       Stability analysis\n",
      "17                                 Training\n",
      "17                                  XGBoost\n",
      "18                           Clinical MLOps\n",
      "18                Clinical research support\n",
      "18                          Cloud computing\n",
      "18                            Collaboration\n",
      "18                                 Epilepsy\n",
      "18                        Seizure semiology\n",
      "18                                Semiotics\n",
      "18                                Sociology\n",
      "18               Three-dimensional displays\n",
      "18                                    Tools\n",
      "18            Video based diagnosis support\n",
      "18                            Visualization\n",
      "19                        Benchmark testing\n",
      "19                              Conferences\n",
      "19                   continuous integration\n",
      "19                           Error analysis\n",
      "19                              Measurement\n",
      "19                         mutation testing\n",
      "19                Regression test selection\n",
      "19                                  Servers\n",
      "19                     software engineering\n",
      "19                          test automation\n",
      "19                                   Timing\n",
      "19                                    Tools\n",
      "20                        Adaptation models\n",
      "20                           Bibliographies\n",
      "20                   Computational modeling\n",
      "20                               Deployment\n",
      "20                                important\n",
      "20                         Machine learning\n",
      "20                                    MLOps\n",
      "20                       Operationalization\n",
      "20                               Publishing\n",
      "20             Systematic literature review\n",
      "20                              Systematics\n",
      "20                                 Training\n",
      "21                            AI Governance\n",
      "21                  Artificial intelligence\n",
      "21                            Deep learning\n",
      "21                                   DevOps\n",
      "21                                 Encoding\n",
      "21                         machine learning\n",
      "21                                    MLOps\n",
      "21                          Neural networks\n",
      "21                                Pipelines\n",
      "21                                 Software\n",
      "21                     software development\n",
      "21          software development life cycle\n",
      "21                             Stakeholders\n",
      "21            system development life cycle\n",
      "22                              Conferences\n",
      "22                   Distributed processing\n",
      "22                                  Edge AI\n",
      "22                    Intellectual property\n",
      "22                         Machine learning\n",
      "22                                    MLOps\n",
      "22                                  Privacy\n",
      "22                              Reliability\n",
      "22                            Task analysis\n",
      "22                                   TinyML\n",
      "22                                TinyMLOps\n",
      "23                                    Agent\n",
      "23                                Autonomic\n",
      "23                        Benchmark testing\n",
      "23                          Cloud computing\n",
      "23                    Computer architecture\n",
      "23                     Image classification\n",
      "23                                important\n",
      "23                               Kubernetes\n",
      "23                         Machine learning\n",
      "23                Machine Learning Workflow\n",
      "23                                    MLOps\n",
      "23                                Pipelines\n",
      "23                               Robustness\n",
      "23                                 Scanflow\n",
      "23                          Self-Management\n",
      "24                                       AI\n",
      "24                                   DevOps\n",
      "24                                   ethics\n",
      "24                                   Ethics\n",
      "24                                important\n",
      "24                               Industries\n",
      "24                         machine learning\n",
      "24                                    MLOps\n",
      "24                               Regulation\n",
      "24                               Regulators\n",
      "24                  requirement engineering\n",
      "24                           responsible AI\n",
      "24                                 Software\n",
      "24                      Software algorithms\n",
      "24                    software architecture\n",
      "24                     software engineering\n",
      "24                             Stakeholders\n",
      "25                                       AI\n",
      "25                  Artificial intelligence\n",
      "25                   Computational modeling\n",
      "25          continuous software engineering\n",
      "25                              Data models\n",
      "25                        delivery pipeline\n",
      "25                                   DevOps\n",
      "25                                 Focusing\n",
      "25                         machine learning\n",
      "25                                       ML\n",
      "25                                    MLOps\n",
      "25                               Production\n",
      "25                     Time series analysis\n",
      "25                                    Tools\n",
      "25                                 Training\n",
      "26                              Data models\n",
      "26                              development\n",
      "26                                   DevOps\n",
      "26                         machine learning\n",
      "26                         Machine learning\n",
      "26                                    MLOps\n",
      "26                                    model\n",
      "26                                Pipelines\n",
      "26                                 Software\n",
      "26                  Standards organizations\n",
      "26                                 Training\n",
      "26                                  Writing\n",
      "27                              Conferences\n",
      "27                              development\n",
      "27                                   DevOps\n",
      "27                         machine learning\n",
      "27                         Machine learning\n",
      "27                                    MLOps\n",
      "27                                    model\n",
      "27                           responsible AI\n",
      "27                                 Software\n",
      "27                     Software engineering\n",
      "28                               Automation\n",
      "28                                Databases\n",
      "28                                   DevOps\n",
      "28                               Industries\n",
      "28                         Machine learning\n",
      "28                         Machine Learning\n",
      "28                                ML-DevOps\n",
      "28                                    MLOps\n",
      "28                          Search problems\n",
      "28                              Systematics\n",
      "28                                  testtag\n",
      "28                            Text analysis\n",
      "29                            AI life-cycle\n",
      "29                        analytic pipeline\n",
      "29                  Atomic layer deposition\n",
      "29                                    Codes\n",
      "29                                deploying\n",
      "29                               Industries\n",
      "29                         Machine learning\n",
      "29                                    MLOps\n",
      "29                                packaging\n",
      "29                                Packaging\n",
      "29                                Pipelines\n",
      "29                                 Training\n",
      "30                                    AIOps\n",
      "30                                    Codes\n",
      "30                              Conferences\n",
      "30                                   DevOps\n",
      "30                         Machine learning\n",
      "30                                    MLOps\n",
      "30                                Pipelines\n",
      "30                                 Software\n",
      "30                     Software Engineering\n",
      "30                         Software systems\n",
      "30                            Task analysis\n",
      "31                                Companies\n",
      "31                                 COVID-19\n",
      "31                            Deep Learning\n",
      "31                              Forecasting\n",
      "31                         Load forecasting\n",
      "31                                     LSTM\n",
      "31                                    MLOps\n",
      "31                                   NBEATS\n",
      "31       Out-of-Distribution Generalization\n",
      "31                                Pandemics\n",
      "31                        Predictive models\n",
      "31              Short-Term Load Forecasting\n",
      "31                               Smart Grid\n",
      "31                           Sustainability\n",
      "31                     Temporal Convolution\n",
      "31                     Time series analysis\n",
      "32                               Automation\n",
      "32                           Bot (Internet)\n",
      "32                                     bots\n",
      "32                              Conferences\n",
      "32                            deep learning\n",
      "32                            Deep learning\n",
      "32                               deployment\n",
      "32                                   devops\n",
      "32                          empirical study\n",
      "32                                Libraries\n",
      "32                         machine learning\n",
      "32                                    mlops\n",
      "32                                 Software\n",
      "32                            Task analysis\n",
      "33                              5G Networks\n",
      "33                                       AI\n",
      "33                     Atmospheric modeling\n",
      "33                               Automation\n",
      "33                          Cloud computing\n",
      "33                       Collaborative work\n",
      "33                   Computational modeling\n",
      "33                   Digital Transformation\n",
      "33                           Edge Computing\n",
      "33                                important\n",
      "33                                      IoT\n",
      "33                         Machine Learning\n",
      "33                                    MLOps\n",
      "33                                Pipelines\n",
      "33                                 Training\n",
      "34                                    agile\n",
      "34               Agile software development\n",
      "34                        Complexity theory\n",
      "34                          Data collection\n",
      "34                              Data models\n",
      "34                             data-centric\n",
      "34                                   DevOps\n",
      "34                          experimentation\n",
      "34                         Machine learning\n",
      "34                                    MLOps\n",
      "34                               Production\n",
      "34                                     SDLC\n",
      "34                                 Software\n",
      "34          software development life cycle\n",
      "35                               Automation\n",
      "35                                    Codes\n",
      "35              Continuous Integration (CI)\n",
      "35                         Machine learning\n",
      "35                    Machine Learning (ML)\n",
      "35      Machine Learning Operations (MLOps)\n",
      "35                                  Manuals\n",
      "35                                Pipelines\n",
      "35                                 Software\n",
      "35    Software Development Lifecycle (SDLC)\n",
      "35             Source Code Management (SCM)\n",
      "35                                 Training\n",
      "36                            Collaboration\n",
      "36                                      CPS\n",
      "36                               Deployment\n",
      "36                          Digital systems\n",
      "36                       Embedded computing\n",
      "36                         Machine learning\n",
      "36                 Manufacturing industries\n",
      "36                                       ML\n",
      "36                                    MLOps\n",
      "36                           Modularization\n",
      "36                                Pipelines\n",
      "36                                 Training\n",
      "37                  5G mobile communication\n",
      "37                               Automation\n",
      "37                       Quality of service\n",
      "38                           best practices\n",
      "38                                important\n",
      "38             machine learning engineering\n",
      "38                                   survey\n",
      "39                  Artificial intelligence\n",
      "39                  beyond-schema inference\n",
      "39                                 Business\n",
      "39                              Convergence\n",
      "39                        Data intelligence\n",
      "39                             Data science\n",
      "39                                 Internet\n",
      "39                                    MLOps\n",
      "39                      pattern recognition\n",
      "39                            Training data\n",
      "40                                   AutoML\n",
      "40                   Computational modeling\n",
      "40                              Conferences\n",
      "40                               Deployment\n",
      "40                           explainability\n",
      "40                                 fairness\n",
      "40                                important\n",
      "40                         machine learning\n",
      "40                         Machine learning\n",
      "40                          Market research\n",
      "40                                    MLOps\n",
      "40                               monitoring\n",
      "40                               Production\n",
      "40                              re-training\n",
      "40                               robustness\n",
      "40                               Robustness\n",
      "40                           sustainability\n",
      "40                                 Training\n",
      "41                                  DataOps\n",
      "41                          Decision making\n",
      "41                         Machine learning\n",
      "41              Machine-Learning Operations\n",
      "41                          Market research\n",
      "41                               Middleware\n",
      "41                                    MLOps\n",
      "41                     Scientific computing\n",
      "41                  Software Sustainability\n",
      "41                         Software systems\n",
      "41                  Sustainable development\n",
      "42                               Automation\n",
      "42                                 Business\n",
      "42                      continuous delivery\n",
      "42                   continuous integration\n",
      "42                    continuous monitoring\n",
      "42                      continuous training\n",
      "42                                important\n",
      "42                                    MLOps\n",
      "42                               Monitoring\n",
      "42                                Pipelines\n",
      "42                               Production\n",
      "42                                  Surgery\n",
      "42                           sustainability\n",
      "42                                 Training\n",
      "42                                      XAI\n",
      "43                               Automation\n",
      "43                                    Azure\n",
      "43                                 Big Data\n",
      "43                                Buildings\n",
      "43                                    CI/CD\n",
      "43                                   DevOps\n",
      "43                   Infrastructure as code\n",
      "43                      Intelligent sensors\n",
      "43                         Machine learning\n",
      "43                                  Planets\n",
      "43                                    Tools\n",
      "44                       AI-Powered Systems\n",
      "44                             Architecture\n",
      "44                  Artificial Intelligence\n",
      "44                                Buildings\n",
      "44                    Computer architecture\n",
      "44                                   Fluids\n",
      "44                     Human-AI Interaction\n",
      "44                         Machine learning\n",
      "44                               Production\n",
      "44                    Software architecture\n",
      "44                    Software Architecture\n",
      "45                                       5G\n",
      "45                          Cloud computing\n",
      "45                       Collaborative work\n",
      "45                   Computational modeling\n",
      "45                            deep learning\n",
      "45                            Deep learning\n",
      "45                           edge computing\n",
      "45                           Edge computing\n",
      "45                        energy efficiency\n",
      "45                        Energy efficiency\n",
      "45                       federated learning\n",
      "45                      gesture recognition\n",
      "45                           implementation\n",
      "45                       Internet of Things\n",
      "45                                      IoT\n",
      "45                              Logic gates\n",
      "45                                     LoRa\n",
      "45                         Machine learning\n",
      "45                        Memory management\n",
      "45                                    MLOps\n",
      "45                   Performance evaluation\n",
      "45                    Tiny machine learning\n",
      "45                        transfer learning\n",
      "45                        Transfer learning\n",
      "46                               automation\n",
      "46                               catalogues\n",
      "46                                    Codes\n",
      "46                    Computer architecture\n",
      "46                              Conferences\n",
      "46                                     data\n",
      "46                              Data models\n",
      "46                                 datalake\n",
      "46                                  DataOps\n",
      "46                                  dataset\n",
      "46                                important\n",
      "46                               management\n",
      "46                                 metadata\n",
      "46                                    MlOps\n",
      "46                                   models\n",
      "46                            Organizations\n",
      "46                                 Software\n",
      "46                    Software architecture\n",
      "46                               versioning\n",
      "47                        Adaptation models\n",
      "47                        Analytical models\n",
      "47                   Computational modeling\n",
      "47                              Data models\n",
      "47                             Data Slicing\n",
      "47                          Data Validation\n",
      "47                          Data-Centric AI\n",
      "47                        Human-in-the-loop\n",
      "47                                important\n",
      "47                         Model Evaluation\n",
      "47                         Model Validation\n",
      "47                             Optimization\n",
      "47                        Predictive models\n",
      "47                                 Training\n",
      "48                   Computational modeling\n",
      "48                      continuous training\n",
      "48                              Data models\n",
      "48                                   DevOps\n",
      "48                      end-to-end platform\n",
      "48                Graphics processing units\n",
      "48                                important\n",
      "48                         machine learning\n",
      "48                                    MLOps\n",
      "48                                Pipelines\n",
      "48                            Task analysis\n",
      "48                                    Tools\n",
      "48                                 Training\n",
      "Name: keywords, dtype: object\n"
     ]
    }
   ],
   "source": [
    "keywords_expl = df.keywords.str.split(',').explode()\n",
    "listed_words = keywords_expl \n",
    "\n",
    "print(keywords_expl)"
   ]
  },
  {
   "cell_type": "code",
   "execution_count": 72,
   "metadata": {
    "ExecuteTime": {
     "end_time": "2022-12-23T18:58:30.449249Z",
     "start_time": "2022-12-23T18:58:29.967067Z"
    }
   },
   "outputs": [
    {
     "data": {
      "text/plain": [
       "(120, 120)"
      ]
     },
     "execution_count": 72,
     "metadata": {},
     "output_type": "execute_result"
    }
   ],
   "source": [
    "words = set(listed_words) & set(list(model.key_to_index.keys()))\n",
    "vectors = list([model.get_vector(word) for word in words])\n",
    "\n",
    "len(words), len(vectors)"
   ]
  },
  {
   "cell_type": "markdown",
   "metadata": {},
   "source": [
    "## PCA\n",
    "\n",
    "--- \n",
    "\n",
    "TSNE\n",
    "\n",
    "https://stats.stackexchange.com/questions/263539/clustering-on-the-output-of-t-sne/264647#264647\n",
    "\n",
    "\n",
    "only reproducable with high perplexity!\n",
    "\n",
    "discouraged to be used with clustering\n",
    "\n",
    "\n",
    "t-SNE is also a method to reduce the dimension. One of the most major differences between PCA and t-SNE is it preserves only local similarities whereas PA preserves large pairwise distance maximize variance.\n",
    "\n",
    "- https://medium.com/analytics-vidhya/pca-vs-t-sne-17bcd882bf3d#:~:text=One%20of%20the%20most%20major,large%20pairwise%20distance%20maximize%20variance.&text=It%20takes%20a%20set%20of,it%20into%20low%20dimensional%20data.\n",
    "\n"
   ]
  },
  {
   "cell_type": "code",
   "execution_count": 73,
   "metadata": {
    "ExecuteTime": {
     "end_time": "2022-12-23T18:58:30.612636Z",
     "start_time": "2022-12-23T18:58:30.451069Z"
    }
   },
   "outputs": [
    {
     "data": {
      "text/html": [
       "<div>\n",
       "<style scoped>\n",
       "    .dataframe tbody tr th:only-of-type {\n",
       "        vertical-align: middle;\n",
       "    }\n",
       "\n",
       "    .dataframe tbody tr th {\n",
       "        vertical-align: top;\n",
       "    }\n",
       "\n",
       "    .dataframe thead th {\n",
       "        text-align: right;\n",
       "    }\n",
       "</style>\n",
       "<table border=\"1\" class=\"dataframe\">\n",
       "  <thead>\n",
       "    <tr style=\"text-align: right;\">\n",
       "      <th></th>\n",
       "      <th>words</th>\n",
       "      <th>x</th>\n",
       "      <th>y</th>\n",
       "    </tr>\n",
       "  </thead>\n",
       "  <tbody>\n",
       "    <tr>\n",
       "      <th>0</th>\n",
       "      <td>Surgery</td>\n",
       "      <td>-1.429866</td>\n",
       "      <td>0.282506</td>\n",
       "    </tr>\n",
       "    <tr>\n",
       "      <th>1</th>\n",
       "      <td>Neurons</td>\n",
       "      <td>-0.113121</td>\n",
       "      <td>0.953543</td>\n",
       "    </tr>\n",
       "    <tr>\n",
       "      <th>2</th>\n",
       "      <td>Orchestration</td>\n",
       "      <td>0.710216</td>\n",
       "      <td>0.814788</td>\n",
       "    </tr>\n",
       "    <tr>\n",
       "      <th>3</th>\n",
       "      <td>MOO</td>\n",
       "      <td>0.373990</td>\n",
       "      <td>-0.997734</td>\n",
       "    </tr>\n",
       "    <tr>\n",
       "      <th>4</th>\n",
       "      <td>security</td>\n",
       "      <td>0.447678</td>\n",
       "      <td>-0.808339</td>\n",
       "    </tr>\n",
       "    <tr>\n",
       "      <th>5</th>\n",
       "      <td>Architecture</td>\n",
       "      <td>-0.121328</td>\n",
       "      <td>0.475496</td>\n",
       "    </tr>\n",
       "    <tr>\n",
       "      <th>6</th>\n",
       "      <td>RAN</td>\n",
       "      <td>0.678872</td>\n",
       "      <td>-0.893242</td>\n",
       "    </tr>\n",
       "    <tr>\n",
       "      <th>7</th>\n",
       "      <td>Cloud</td>\n",
       "      <td>0.752292</td>\n",
       "      <td>0.115021</td>\n",
       "    </tr>\n",
       "    <tr>\n",
       "      <th>8</th>\n",
       "      <td>Production</td>\n",
       "      <td>-0.526405</td>\n",
       "      <td>0.374447</td>\n",
       "    </tr>\n",
       "    <tr>\n",
       "      <th>9</th>\n",
       "      <td>Companies</td>\n",
       "      <td>-0.606245</td>\n",
       "      <td>-0.060207</td>\n",
       "    </tr>\n",
       "    <tr>\n",
       "      <th>10</th>\n",
       "      <td>Stakeholders</td>\n",
       "      <td>-0.657384</td>\n",
       "      <td>-0.513601</td>\n",
       "    </tr>\n",
       "    <tr>\n",
       "      <th>11</th>\n",
       "      <td>Planets</td>\n",
       "      <td>-0.047211</td>\n",
       "      <td>0.309067</td>\n",
       "    </tr>\n",
       "    <tr>\n",
       "      <th>12</th>\n",
       "      <td>dataset</td>\n",
       "      <td>0.849675</td>\n",
       "      <td>-0.066859</td>\n",
       "    </tr>\n",
       "    <tr>\n",
       "      <th>13</th>\n",
       "      <td>Organizations</td>\n",
       "      <td>-0.105391</td>\n",
       "      <td>0.051824</td>\n",
       "    </tr>\n",
       "    <tr>\n",
       "      <th>14</th>\n",
       "      <td>Prototypes</td>\n",
       "      <td>-0.277224</td>\n",
       "      <td>0.383764</td>\n",
       "    </tr>\n",
       "    <tr>\n",
       "      <th>15</th>\n",
       "      <td>Training</td>\n",
       "      <td>-0.709120</td>\n",
       "      <td>0.251479</td>\n",
       "    </tr>\n",
       "    <tr>\n",
       "      <th>16</th>\n",
       "      <td>Grammar</td>\n",
       "      <td>-0.447752</td>\n",
       "      <td>-0.240555</td>\n",
       "    </tr>\n",
       "    <tr>\n",
       "      <th>17</th>\n",
       "      <td>Docker</td>\n",
       "      <td>-0.111136</td>\n",
       "      <td>-1.241025</td>\n",
       "    </tr>\n",
       "    <tr>\n",
       "      <th>18</th>\n",
       "      <td>Databases</td>\n",
       "      <td>0.029151</td>\n",
       "      <td>1.163607</td>\n",
       "    </tr>\n",
       "    <tr>\n",
       "      <th>19</th>\n",
       "      <td>IoT</td>\n",
       "      <td>0.355856</td>\n",
       "      <td>-0.366343</td>\n",
       "    </tr>\n",
       "    <tr>\n",
       "      <th>20</th>\n",
       "      <td>Pandemics</td>\n",
       "      <td>-0.793054</td>\n",
       "      <td>0.271990</td>\n",
       "    </tr>\n",
       "    <tr>\n",
       "      <th>21</th>\n",
       "      <td>Regression</td>\n",
       "      <td>-0.086363</td>\n",
       "      <td>0.876600</td>\n",
       "    </tr>\n",
       "    <tr>\n",
       "      <th>22</th>\n",
       "      <td>Packaging</td>\n",
       "      <td>-1.078914</td>\n",
       "      <td>0.575858</td>\n",
       "    </tr>\n",
       "    <tr>\n",
       "      <th>23</th>\n",
       "      <td>Serverless</td>\n",
       "      <td>0.314441</td>\n",
       "      <td>-0.297774</td>\n",
       "    </tr>\n",
       "    <tr>\n",
       "      <th>24</th>\n",
       "      <td>deploying</td>\n",
       "      <td>0.995289</td>\n",
       "      <td>-0.348912</td>\n",
       "    </tr>\n",
       "    <tr>\n",
       "      <th>25</th>\n",
       "      <td>Robustness</td>\n",
       "      <td>0.730372</td>\n",
       "      <td>0.691305</td>\n",
       "    </tr>\n",
       "    <tr>\n",
       "      <th>26</th>\n",
       "      <td>GLR</td>\n",
       "      <td>0.179205</td>\n",
       "      <td>-0.811631</td>\n",
       "    </tr>\n",
       "    <tr>\n",
       "      <th>27</th>\n",
       "      <td>Writing</td>\n",
       "      <td>-0.868043</td>\n",
       "      <td>-0.014604</td>\n",
       "    </tr>\n",
       "    <tr>\n",
       "      <th>28</th>\n",
       "      <td>Germanium</td>\n",
       "      <td>-0.109735</td>\n",
       "      <td>0.273996</td>\n",
       "    </tr>\n",
       "    <tr>\n",
       "      <th>29</th>\n",
       "      <td>model</td>\n",
       "      <td>0.439924</td>\n",
       "      <td>-1.017089</td>\n",
       "    </tr>\n",
       "    <tr>\n",
       "      <th>30</th>\n",
       "      <td>Pipelines</td>\n",
       "      <td>-0.805116</td>\n",
       "      <td>0.747711</td>\n",
       "    </tr>\n",
       "    <tr>\n",
       "      <th>31</th>\n",
       "      <td>monitoring</td>\n",
       "      <td>0.250282</td>\n",
       "      <td>-0.604213</td>\n",
       "    </tr>\n",
       "    <tr>\n",
       "      <th>32</th>\n",
       "      <td>Framework</td>\n",
       "      <td>0.649447</td>\n",
       "      <td>0.611592</td>\n",
       "    </tr>\n",
       "    <tr>\n",
       "      <th>33</th>\n",
       "      <td>Interviews</td>\n",
       "      <td>-1.113810</td>\n",
       "      <td>-0.486390</td>\n",
       "    </tr>\n",
       "    <tr>\n",
       "      <th>34</th>\n",
       "      <td>Reliability</td>\n",
       "      <td>-0.094660</td>\n",
       "      <td>0.489641</td>\n",
       "    </tr>\n",
       "    <tr>\n",
       "      <th>35</th>\n",
       "      <td>Systematics</td>\n",
       "      <td>-0.109538</td>\n",
       "      <td>0.103520</td>\n",
       "    </tr>\n",
       "    <tr>\n",
       "      <th>36</th>\n",
       "      <td>AI</td>\n",
       "      <td>0.543393</td>\n",
       "      <td>-0.556528</td>\n",
       "    </tr>\n",
       "    <tr>\n",
       "      <th>37</th>\n",
       "      <td>Libraries</td>\n",
       "      <td>-0.617319</td>\n",
       "      <td>0.312124</td>\n",
       "    </tr>\n",
       "    <tr>\n",
       "      <th>38</th>\n",
       "      <td>Sensors</td>\n",
       "      <td>-0.632880</td>\n",
       "      <td>1.099867</td>\n",
       "    </tr>\n",
       "    <tr>\n",
       "      <th>39</th>\n",
       "      <td>Buildings</td>\n",
       "      <td>-0.951752</td>\n",
       "      <td>0.033059</td>\n",
       "    </tr>\n",
       "    <tr>\n",
       "      <th>40</th>\n",
       "      <td>implementation</td>\n",
       "      <td>0.730832</td>\n",
       "      <td>-0.485064</td>\n",
       "    </tr>\n",
       "    <tr>\n",
       "      <th>41</th>\n",
       "      <td>SM</td>\n",
       "      <td>0.245650</td>\n",
       "      <td>-0.377783</td>\n",
       "    </tr>\n",
       "    <tr>\n",
       "      <th>42</th>\n",
       "      <td>metadata</td>\n",
       "      <td>2.048673</td>\n",
       "      <td>0.489678</td>\n",
       "    </tr>\n",
       "    <tr>\n",
       "      <th>43</th>\n",
       "      <td>integration</td>\n",
       "      <td>1.014274</td>\n",
       "      <td>-0.161324</td>\n",
       "    </tr>\n",
       "    <tr>\n",
       "      <th>44</th>\n",
       "      <td>Epilepsy</td>\n",
       "      <td>-1.171550</td>\n",
       "      <td>0.108959</td>\n",
       "    </tr>\n",
       "    <tr>\n",
       "      <th>45</th>\n",
       "      <td>Deployment</td>\n",
       "      <td>0.330417</td>\n",
       "      <td>0.882006</td>\n",
       "    </tr>\n",
       "    <tr>\n",
       "      <th>46</th>\n",
       "      <td>Agent</td>\n",
       "      <td>-0.113036</td>\n",
       "      <td>-0.149078</td>\n",
       "    </tr>\n",
       "    <tr>\n",
       "      <th>47</th>\n",
       "      <td>Matlab</td>\n",
       "      <td>0.996214</td>\n",
       "      <td>0.514456</td>\n",
       "    </tr>\n",
       "    <tr>\n",
       "      <th>48</th>\n",
       "      <td>Bibliographies</td>\n",
       "      <td>-0.008604</td>\n",
       "      <td>-0.359681</td>\n",
       "    </tr>\n",
       "    <tr>\n",
       "      <th>49</th>\n",
       "      <td>ethics</td>\n",
       "      <td>-0.224658</td>\n",
       "      <td>-1.356046</td>\n",
       "    </tr>\n",
       "    <tr>\n",
       "      <th>50</th>\n",
       "      <td>Regulators</td>\n",
       "      <td>-0.596595</td>\n",
       "      <td>-0.891750</td>\n",
       "    </tr>\n",
       "    <tr>\n",
       "      <th>51</th>\n",
       "      <td>Middleware</td>\n",
       "      <td>1.006791</td>\n",
       "      <td>1.610532</td>\n",
       "    </tr>\n",
       "    <tr>\n",
       "      <th>52</th>\n",
       "      <td>Encoding</td>\n",
       "      <td>0.692819</td>\n",
       "      <td>1.398205</td>\n",
       "    </tr>\n",
       "    <tr>\n",
       "      <th>53</th>\n",
       "      <td>Azure</td>\n",
       "      <td>0.998039</td>\n",
       "      <td>-0.237865</td>\n",
       "    </tr>\n",
       "    <tr>\n",
       "      <th>54</th>\n",
       "      <td>SLR</td>\n",
       "      <td>0.463587</td>\n",
       "      <td>-0.779939</td>\n",
       "    </tr>\n",
       "    <tr>\n",
       "      <th>55</th>\n",
       "      <td>versioning</td>\n",
       "      <td>2.279043</td>\n",
       "      <td>0.379008</td>\n",
       "    </tr>\n",
       "    <tr>\n",
       "      <th>56</th>\n",
       "      <td>Privacy</td>\n",
       "      <td>-0.215381</td>\n",
       "      <td>-0.318253</td>\n",
       "    </tr>\n",
       "    <tr>\n",
       "      <th>57</th>\n",
       "      <td>Sustainability</td>\n",
       "      <td>-0.753130</td>\n",
       "      <td>-0.234583</td>\n",
       "    </tr>\n",
       "    <tr>\n",
       "      <th>58</th>\n",
       "      <td>deployment</td>\n",
       "      <td>1.119446</td>\n",
       "      <td>-0.411664</td>\n",
       "    </tr>\n",
       "    <tr>\n",
       "      <th>59</th>\n",
       "      <td>management</td>\n",
       "      <td>0.333942</td>\n",
       "      <td>-0.673455</td>\n",
       "    </tr>\n",
       "    <tr>\n",
       "      <th>60</th>\n",
       "      <td>development</td>\n",
       "      <td>0.286127</td>\n",
       "      <td>-0.729154</td>\n",
       "    </tr>\n",
       "    <tr>\n",
       "      <th>61</th>\n",
       "      <td>Forecasting</td>\n",
       "      <td>-0.791867</td>\n",
       "      <td>0.289488</td>\n",
       "    </tr>\n",
       "    <tr>\n",
       "      <th>62</th>\n",
       "      <td>Measurement</td>\n",
       "      <td>-0.596457</td>\n",
       "      <td>0.869325</td>\n",
       "    </tr>\n",
       "    <tr>\n",
       "      <th>63</th>\n",
       "      <td>Containerization</td>\n",
       "      <td>-0.112323</td>\n",
       "      <td>-0.151526</td>\n",
       "    </tr>\n",
       "    <tr>\n",
       "      <th>64</th>\n",
       "      <td>fairness</td>\n",
       "      <td>-0.004936</td>\n",
       "      <td>-1.375538</td>\n",
       "    </tr>\n",
       "    <tr>\n",
       "      <th>65</th>\n",
       "      <td>Business</td>\n",
       "      <td>-0.781408</td>\n",
       "      <td>0.063316</td>\n",
       "    </tr>\n",
       "    <tr>\n",
       "      <th>66</th>\n",
       "      <td>Autonomic</td>\n",
       "      <td>0.750456</td>\n",
       "      <td>0.508161</td>\n",
       "    </tr>\n",
       "    <tr>\n",
       "      <th>67</th>\n",
       "      <td>agile</td>\n",
       "      <td>1.098579</td>\n",
       "      <td>-0.314309</td>\n",
       "    </tr>\n",
       "    <tr>\n",
       "      <th>68</th>\n",
       "      <td>Logistics</td>\n",
       "      <td>-0.631514</td>\n",
       "      <td>0.521135</td>\n",
       "    </tr>\n",
       "    <tr>\n",
       "      <th>69</th>\n",
       "      <td>Costs</td>\n",
       "      <td>-0.570416</td>\n",
       "      <td>0.239059</td>\n",
       "    </tr>\n",
       "    <tr>\n",
       "      <th>70</th>\n",
       "      <td>Industries</td>\n",
       "      <td>-1.330785</td>\n",
       "      <td>0.075619</td>\n",
       "    </tr>\n",
       "    <tr>\n",
       "      <th>71</th>\n",
       "      <td>MCDA</td>\n",
       "      <td>-0.184993</td>\n",
       "      <td>-0.621633</td>\n",
       "    </tr>\n",
       "    <tr>\n",
       "      <th>72</th>\n",
       "      <td>Visualization</td>\n",
       "      <td>0.445488</td>\n",
       "      <td>1.467344</td>\n",
       "    </tr>\n",
       "    <tr>\n",
       "      <th>73</th>\n",
       "      <td>automation</td>\n",
       "      <td>1.044239</td>\n",
       "      <td>0.334569</td>\n",
       "    </tr>\n",
       "    <tr>\n",
       "      <th>74</th>\n",
       "      <td>5G</td>\n",
       "      <td>0.257450</td>\n",
       "      <td>-0.573994</td>\n",
       "    </tr>\n",
       "    <tr>\n",
       "      <th>75</th>\n",
       "      <td>survey</td>\n",
       "      <td>-0.331875</td>\n",
       "      <td>-1.014053</td>\n",
       "    </tr>\n",
       "    <tr>\n",
       "      <th>76</th>\n",
       "      <td>Automation</td>\n",
       "      <td>-0.048252</td>\n",
       "      <td>1.256039</td>\n",
       "    </tr>\n",
       "    <tr>\n",
       "      <th>77</th>\n",
       "      <td>Testing</td>\n",
       "      <td>-0.596668</td>\n",
       "      <td>0.414534</td>\n",
       "    </tr>\n",
       "    <tr>\n",
       "      <th>78</th>\n",
       "      <td>Semiotics</td>\n",
       "      <td>-0.203431</td>\n",
       "      <td>-0.099935</td>\n",
       "    </tr>\n",
       "    <tr>\n",
       "      <th>79</th>\n",
       "      <td>Internet</td>\n",
       "      <td>0.136960</td>\n",
       "      <td>-0.617710</td>\n",
       "    </tr>\n",
       "    <tr>\n",
       "      <th>80</th>\n",
       "      <td>packaging</td>\n",
       "      <td>-0.029336</td>\n",
       "      <td>-0.442251</td>\n",
       "    </tr>\n",
       "    <tr>\n",
       "      <th>81</th>\n",
       "      <td>Fasteners</td>\n",
       "      <td>-1.075972</td>\n",
       "      <td>0.897930</td>\n",
       "    </tr>\n",
       "    <tr>\n",
       "      <th>82</th>\n",
       "      <td>Servers</td>\n",
       "      <td>0.635757</td>\n",
       "      <td>1.008004</td>\n",
       "    </tr>\n",
       "    <tr>\n",
       "      <th>83</th>\n",
       "      <td>bots</td>\n",
       "      <td>0.869220</td>\n",
       "      <td>-0.390460</td>\n",
       "    </tr>\n",
       "    <tr>\n",
       "      <th>84</th>\n",
       "      <td>Publishing</td>\n",
       "      <td>-0.733686</td>\n",
       "      <td>0.252446</td>\n",
       "    </tr>\n",
       "    <tr>\n",
       "      <th>85</th>\n",
       "      <td>Optimization</td>\n",
       "      <td>0.598027</td>\n",
       "      <td>1.242353</td>\n",
       "    </tr>\n",
       "    <tr>\n",
       "      <th>86</th>\n",
       "      <td>Ethics</td>\n",
       "      <td>-0.995961</td>\n",
       "      <td>-0.727552</td>\n",
       "    </tr>\n",
       "    <tr>\n",
       "      <th>87</th>\n",
       "      <td>Torque</td>\n",
       "      <td>0.450761</td>\n",
       "      <td>0.196344</td>\n",
       "    </tr>\n",
       "    <tr>\n",
       "      <th>88</th>\n",
       "      <td>Focusing</td>\n",
       "      <td>-0.183801</td>\n",
       "      <td>-0.554003</td>\n",
       "    </tr>\n",
       "    <tr>\n",
       "      <th>89</th>\n",
       "      <td>Arguments</td>\n",
       "      <td>-0.830795</td>\n",
       "      <td>-0.332765</td>\n",
       "    </tr>\n",
       "    <tr>\n",
       "      <th>90</th>\n",
       "      <td>Codes</td>\n",
       "      <td>-0.230720</td>\n",
       "      <td>0.045811</td>\n",
       "    </tr>\n",
       "    <tr>\n",
       "      <th>91</th>\n",
       "      <td>Sociology</td>\n",
       "      <td>-1.124959</td>\n",
       "      <td>-0.277150</td>\n",
       "    </tr>\n",
       "    <tr>\n",
       "      <th>92</th>\n",
       "      <td>Transformers</td>\n",
       "      <td>-0.086723</td>\n",
       "      <td>-0.631187</td>\n",
       "    </tr>\n",
       "    <tr>\n",
       "      <th>93</th>\n",
       "      <td>experimentation</td>\n",
       "      <td>0.479172</td>\n",
       "      <td>-0.696349</td>\n",
       "    </tr>\n",
       "    <tr>\n",
       "      <th>94</th>\n",
       "      <td>Uncertainty</td>\n",
       "      <td>-0.557754</td>\n",
       "      <td>-0.351688</td>\n",
       "    </tr>\n",
       "    <tr>\n",
       "      <th>95</th>\n",
       "      <td>sustainability</td>\n",
       "      <td>0.056516</td>\n",
       "      <td>-1.087798</td>\n",
       "    </tr>\n",
       "    <tr>\n",
       "      <th>96</th>\n",
       "      <td>robustness</td>\n",
       "      <td>1.059977</td>\n",
       "      <td>-0.680040</td>\n",
       "    </tr>\n",
       "    <tr>\n",
       "      <th>97</th>\n",
       "      <td>data</td>\n",
       "      <td>0.553734</td>\n",
       "      <td>-0.422316</td>\n",
       "    </tr>\n",
       "    <tr>\n",
       "      <th>98</th>\n",
       "      <td>DevOps</td>\n",
       "      <td>0.814766</td>\n",
       "      <td>-0.076258</td>\n",
       "    </tr>\n",
       "    <tr>\n",
       "      <th>99</th>\n",
       "      <td>Benchmark</td>\n",
       "      <td>-0.185844</td>\n",
       "      <td>0.175858</td>\n",
       "    </tr>\n",
       "    <tr>\n",
       "      <th>100</th>\n",
       "      <td>important</td>\n",
       "      <td>0.141361</td>\n",
       "      <td>-0.597097</td>\n",
       "    </tr>\n",
       "    <tr>\n",
       "      <th>101</th>\n",
       "      <td>models</td>\n",
       "      <td>0.409738</td>\n",
       "      <td>-0.759249</td>\n",
       "    </tr>\n",
       "    <tr>\n",
       "      <th>102</th>\n",
       "      <td>LSTM</td>\n",
       "      <td>-0.233332</td>\n",
       "      <td>-0.345717</td>\n",
       "    </tr>\n",
       "    <tr>\n",
       "      <th>103</th>\n",
       "      <td>Edge</td>\n",
       "      <td>0.045002</td>\n",
       "      <td>-0.325179</td>\n",
       "    </tr>\n",
       "    <tr>\n",
       "      <th>104</th>\n",
       "      <td>Tools</td>\n",
       "      <td>-0.035128</td>\n",
       "      <td>1.039813</td>\n",
       "    </tr>\n",
       "    <tr>\n",
       "      <th>105</th>\n",
       "      <td>SDLC</td>\n",
       "      <td>1.199425</td>\n",
       "      <td>0.326177</td>\n",
       "    </tr>\n",
       "    <tr>\n",
       "      <th>106</th>\n",
       "      <td>Convergence</td>\n",
       "      <td>-0.068657</td>\n",
       "      <td>0.200362</td>\n",
       "    </tr>\n",
       "    <tr>\n",
       "      <th>107</th>\n",
       "      <td>Manuals</td>\n",
       "      <td>-0.199909</td>\n",
       "      <td>0.424420</td>\n",
       "    </tr>\n",
       "    <tr>\n",
       "      <th>108</th>\n",
       "      <td>Software</td>\n",
       "      <td>0.461481</td>\n",
       "      <td>1.055434</td>\n",
       "    </tr>\n",
       "    <tr>\n",
       "      <th>109</th>\n",
       "      <td>diversity</td>\n",
       "      <td>0.146108</td>\n",
       "      <td>-1.204207</td>\n",
       "    </tr>\n",
       "    <tr>\n",
       "      <th>110</th>\n",
       "      <td>Fluids</td>\n",
       "      <td>-0.617162</td>\n",
       "      <td>0.911447</td>\n",
       "    </tr>\n",
       "    <tr>\n",
       "      <th>111</th>\n",
       "      <td>Transforms</td>\n",
       "      <td>-0.107312</td>\n",
       "      <td>1.693265</td>\n",
       "    </tr>\n",
       "    <tr>\n",
       "      <th>112</th>\n",
       "      <td>Collaboration</td>\n",
       "      <td>0.066770</td>\n",
       "      <td>0.738917</td>\n",
       "    </tr>\n",
       "    <tr>\n",
       "      <th>113</th>\n",
       "      <td>Statistics</td>\n",
       "      <td>-1.143261</td>\n",
       "      <td>-0.237288</td>\n",
       "    </tr>\n",
       "    <tr>\n",
       "      <th>114</th>\n",
       "      <td>CPS</td>\n",
       "      <td>-0.057774</td>\n",
       "      <td>-0.903955</td>\n",
       "    </tr>\n",
       "    <tr>\n",
       "      <th>115</th>\n",
       "      <td>ML</td>\n",
       "      <td>0.044387</td>\n",
       "      <td>-0.699915</td>\n",
       "    </tr>\n",
       "    <tr>\n",
       "      <th>116</th>\n",
       "      <td>Conferences</td>\n",
       "      <td>-0.877325</td>\n",
       "      <td>0.087827</td>\n",
       "    </tr>\n",
       "    <tr>\n",
       "      <th>117</th>\n",
       "      <td>Timing</td>\n",
       "      <td>-0.569479</td>\n",
       "      <td>0.171661</td>\n",
       "    </tr>\n",
       "    <tr>\n",
       "      <th>118</th>\n",
       "      <td>Regulation</td>\n",
       "      <td>-0.683954</td>\n",
       "      <td>-0.422788</td>\n",
       "    </tr>\n",
       "    <tr>\n",
       "      <th>119</th>\n",
       "      <td>Monitoring</td>\n",
       "      <td>-0.301218</td>\n",
       "      <td>0.272285</td>\n",
       "    </tr>\n",
       "  </tbody>\n",
       "</table>\n",
       "</div>"
      ],
      "text/plain": [
       "                words         x         y\n",
       "0             Surgery -1.429866  0.282506\n",
       "1             Neurons -0.113121  0.953543\n",
       "2       Orchestration  0.710216  0.814788\n",
       "3                 MOO  0.373990 -0.997734\n",
       "4            security  0.447678 -0.808339\n",
       "5        Architecture -0.121328  0.475496\n",
       "6                 RAN  0.678872 -0.893242\n",
       "7               Cloud  0.752292  0.115021\n",
       "8          Production -0.526405  0.374447\n",
       "9           Companies -0.606245 -0.060207\n",
       "10       Stakeholders -0.657384 -0.513601\n",
       "11            Planets -0.047211  0.309067\n",
       "12            dataset  0.849675 -0.066859\n",
       "13      Organizations -0.105391  0.051824\n",
       "14         Prototypes -0.277224  0.383764\n",
       "15           Training -0.709120  0.251479\n",
       "16            Grammar -0.447752 -0.240555\n",
       "17             Docker -0.111136 -1.241025\n",
       "18          Databases  0.029151  1.163607\n",
       "19                IoT  0.355856 -0.366343\n",
       "20          Pandemics -0.793054  0.271990\n",
       "21         Regression -0.086363  0.876600\n",
       "22          Packaging -1.078914  0.575858\n",
       "23         Serverless  0.314441 -0.297774\n",
       "24          deploying  0.995289 -0.348912\n",
       "25         Robustness  0.730372  0.691305\n",
       "26                GLR  0.179205 -0.811631\n",
       "27            Writing -0.868043 -0.014604\n",
       "28          Germanium -0.109735  0.273996\n",
       "29              model  0.439924 -1.017089\n",
       "30          Pipelines -0.805116  0.747711\n",
       "31         monitoring  0.250282 -0.604213\n",
       "32          Framework  0.649447  0.611592\n",
       "33         Interviews -1.113810 -0.486390\n",
       "34        Reliability -0.094660  0.489641\n",
       "35        Systematics -0.109538  0.103520\n",
       "36                 AI  0.543393 -0.556528\n",
       "37          Libraries -0.617319  0.312124\n",
       "38            Sensors -0.632880  1.099867\n",
       "39          Buildings -0.951752  0.033059\n",
       "40     implementation  0.730832 -0.485064\n",
       "41                 SM  0.245650 -0.377783\n",
       "42           metadata  2.048673  0.489678\n",
       "43        integration  1.014274 -0.161324\n",
       "44           Epilepsy -1.171550  0.108959\n",
       "45         Deployment  0.330417  0.882006\n",
       "46              Agent -0.113036 -0.149078\n",
       "47             Matlab  0.996214  0.514456\n",
       "48     Bibliographies -0.008604 -0.359681\n",
       "49             ethics -0.224658 -1.356046\n",
       "50         Regulators -0.596595 -0.891750\n",
       "51         Middleware  1.006791  1.610532\n",
       "52           Encoding  0.692819  1.398205\n",
       "53              Azure  0.998039 -0.237865\n",
       "54                SLR  0.463587 -0.779939\n",
       "55         versioning  2.279043  0.379008\n",
       "56            Privacy -0.215381 -0.318253\n",
       "57     Sustainability -0.753130 -0.234583\n",
       "58         deployment  1.119446 -0.411664\n",
       "59         management  0.333942 -0.673455\n",
       "60        development  0.286127 -0.729154\n",
       "61        Forecasting -0.791867  0.289488\n",
       "62        Measurement -0.596457  0.869325\n",
       "63   Containerization -0.112323 -0.151526\n",
       "64           fairness -0.004936 -1.375538\n",
       "65           Business -0.781408  0.063316\n",
       "66          Autonomic  0.750456  0.508161\n",
       "67              agile  1.098579 -0.314309\n",
       "68          Logistics -0.631514  0.521135\n",
       "69              Costs -0.570416  0.239059\n",
       "70         Industries -1.330785  0.075619\n",
       "71               MCDA -0.184993 -0.621633\n",
       "72      Visualization  0.445488  1.467344\n",
       "73         automation  1.044239  0.334569\n",
       "74                 5G  0.257450 -0.573994\n",
       "75             survey -0.331875 -1.014053\n",
       "76         Automation -0.048252  1.256039\n",
       "77            Testing -0.596668  0.414534\n",
       "78          Semiotics -0.203431 -0.099935\n",
       "79           Internet  0.136960 -0.617710\n",
       "80          packaging -0.029336 -0.442251\n",
       "81          Fasteners -1.075972  0.897930\n",
       "82            Servers  0.635757  1.008004\n",
       "83               bots  0.869220 -0.390460\n",
       "84         Publishing -0.733686  0.252446\n",
       "85       Optimization  0.598027  1.242353\n",
       "86             Ethics -0.995961 -0.727552\n",
       "87             Torque  0.450761  0.196344\n",
       "88           Focusing -0.183801 -0.554003\n",
       "89          Arguments -0.830795 -0.332765\n",
       "90              Codes -0.230720  0.045811\n",
       "91          Sociology -1.124959 -0.277150\n",
       "92       Transformers -0.086723 -0.631187\n",
       "93    experimentation  0.479172 -0.696349\n",
       "94        Uncertainty -0.557754 -0.351688\n",
       "95     sustainability  0.056516 -1.087798\n",
       "96         robustness  1.059977 -0.680040\n",
       "97               data  0.553734 -0.422316\n",
       "98             DevOps  0.814766 -0.076258\n",
       "99          Benchmark -0.185844  0.175858\n",
       "100         important  0.141361 -0.597097\n",
       "101            models  0.409738 -0.759249\n",
       "102              LSTM -0.233332 -0.345717\n",
       "103              Edge  0.045002 -0.325179\n",
       "104             Tools -0.035128  1.039813\n",
       "105              SDLC  1.199425  0.326177\n",
       "106       Convergence -0.068657  0.200362\n",
       "107           Manuals -0.199909  0.424420\n",
       "108          Software  0.461481  1.055434\n",
       "109         diversity  0.146108 -1.204207\n",
       "110            Fluids -0.617162  0.911447\n",
       "111        Transforms -0.107312  1.693265\n",
       "112     Collaboration  0.066770  0.738917\n",
       "113        Statistics -1.143261 -0.237288\n",
       "114               CPS -0.057774 -0.903955\n",
       "115                ML  0.044387 -0.699915\n",
       "116       Conferences -0.877325  0.087827\n",
       "117            Timing -0.569479  0.171661\n",
       "118        Regulation -0.683954 -0.422788\n",
       "119        Monitoring -0.301218  0.272285"
      ]
     },
     "execution_count": 73,
     "metadata": {},
     "output_type": "execute_result"
    }
   ],
   "source": [
    "pca = PCA(n_components=2, random_state=RNG)\n",
    "pca_transformed = pca.fit_transform(vectors)\n",
    "X_pca = pca_transformed\n",
    "\n",
    "words = pd.DataFrame(words)\n",
    "pca_df = pd.DataFrame(pca_transformed)\n",
    "pca_df = pd.merge(words, pca_df, left_index=True, right_index=True)\n",
    "pca_df.columns = ['words', 'x', 'y']\n",
    "\n",
    "pca_df"
   ]
  },
  {
   "cell_type": "code",
   "execution_count": 74,
   "metadata": {
    "ExecuteTime": {
     "end_time": "2022-12-23T18:58:30.620413Z",
     "start_time": "2022-12-23T18:58:30.614344Z"
    }
   },
   "outputs": [
    {
     "data": {
      "text/html": [
       "<div>\n",
       "<style scoped>\n",
       "    .dataframe tbody tr th:only-of-type {\n",
       "        vertical-align: middle;\n",
       "    }\n",
       "\n",
       "    .dataframe tbody tr th {\n",
       "        vertical-align: top;\n",
       "    }\n",
       "\n",
       "    .dataframe thead th {\n",
       "        text-align: right;\n",
       "    }\n",
       "</style>\n",
       "<table border=\"1\" class=\"dataframe\">\n",
       "  <thead>\n",
       "    <tr style=\"text-align: right;\">\n",
       "      <th></th>\n",
       "      <th>words</th>\n",
       "      <th>x</th>\n",
       "      <th>y</th>\n",
       "    </tr>\n",
       "  </thead>\n",
       "  <tbody>\n",
       "    <tr>\n",
       "      <th>104</th>\n",
       "      <td>Tools</td>\n",
       "      <td>-0.035128</td>\n",
       "      <td>1.039813</td>\n",
       "    </tr>\n",
       "  </tbody>\n",
       "</table>\n",
       "</div>"
      ],
      "text/plain": [
       "     words         x         y\n",
       "104  Tools -0.035128  1.039813"
      ]
     },
     "execution_count": 74,
     "metadata": {},
     "output_type": "execute_result"
    }
   ],
   "source": [
    "pca_df[pca_df.words =='Tools']"
   ]
  },
  {
   "cell_type": "code",
   "execution_count": 75,
   "metadata": {
    "ExecuteTime": {
     "end_time": "2022-12-23T18:58:30.626826Z",
     "start_time": "2022-12-23T18:58:30.621863Z"
    }
   },
   "outputs": [
    {
     "name": "stdout",
     "output_type": "stream",
     "text": [
      "                words         x         y\n",
      "0             Surgery -1.429866  0.282506\n",
      "1             Neurons -0.113121  0.953543\n",
      "2       Orchestration  0.710216  0.814788\n",
      "3                 MOO  0.373990 -0.997734\n",
      "4            security  0.447678 -0.808339\n",
      "5        Architecture -0.121328  0.475496\n",
      "6                 RAN  0.678872 -0.893242\n",
      "7               Cloud  0.752292  0.115021\n",
      "8          Production -0.526405  0.374447\n",
      "9           Companies -0.606245 -0.060207\n",
      "10       Stakeholders -0.657384 -0.513601\n",
      "11            Planets -0.047211  0.309067\n",
      "12            dataset  0.849675 -0.066859\n",
      "13      Organizations -0.105391  0.051824\n",
      "14         Prototypes -0.277224  0.383764\n",
      "15           Training -0.709120  0.251479\n",
      "16            Grammar -0.447752 -0.240555\n",
      "17             Docker -0.111136 -1.241025\n",
      "18          Databases  0.029151  1.163607\n",
      "19                IoT  0.355856 -0.366343\n",
      "20          Pandemics -0.793054  0.271990\n",
      "21         Regression -0.086363  0.876600\n",
      "22          Packaging -1.078914  0.575858\n",
      "23         Serverless  0.314441 -0.297774\n",
      "24          deploying  0.995289 -0.348912\n",
      "25         Robustness  0.730372  0.691305\n",
      "26                GLR  0.179205 -0.811631\n",
      "27            Writing -0.868043 -0.014604\n",
      "28          Germanium -0.109735  0.273996\n",
      "29              model  0.439924 -1.017089\n",
      "30          Pipelines -0.805116  0.747711\n",
      "31         monitoring  0.250282 -0.604213\n",
      "32          Framework  0.649447  0.611592\n",
      "33         Interviews -1.113810 -0.486390\n",
      "34        Reliability -0.094660  0.489641\n",
      "35        Systematics -0.109538  0.103520\n",
      "36                 AI  0.543393 -0.556528\n",
      "37          Libraries -0.617319  0.312124\n",
      "38            Sensors -0.632880  1.099867\n",
      "39          Buildings -0.951752  0.033059\n",
      "40     implementation  0.730832 -0.485064\n",
      "41                 SM  0.245650 -0.377783\n",
      "42           metadata  2.048673  0.489678\n",
      "43        integration  1.014274 -0.161324\n",
      "44           Epilepsy -1.171550  0.108959\n",
      "45         Deployment  0.330417  0.882006\n",
      "46              Agent -0.113036 -0.149078\n",
      "47             Matlab  0.996214  0.514456\n",
      "48     Bibliographies -0.008604 -0.359681\n",
      "49             ethics -0.224658 -1.356046\n",
      "50         Regulators -0.596595 -0.891750\n",
      "51         Middleware  1.006791  1.610532\n",
      "52           Encoding  0.692819  1.398205\n",
      "53              Azure  0.998039 -0.237865\n",
      "54                SLR  0.463587 -0.779939\n",
      "55         versioning  2.279043  0.379008\n",
      "56            Privacy -0.215381 -0.318253\n",
      "57     Sustainability -0.753130 -0.234583\n",
      "58         deployment  1.119446 -0.411664\n",
      "59         management  0.333942 -0.673455\n",
      "60        development  0.286127 -0.729154\n",
      "61        Forecasting -0.791867  0.289488\n",
      "62        Measurement -0.596457  0.869325\n",
      "63   Containerization -0.112323 -0.151526\n",
      "64           fairness -0.004936 -1.375538\n",
      "65           Business -0.781408  0.063316\n",
      "66          Autonomic  0.750456  0.508161\n",
      "67              agile  1.098579 -0.314309\n",
      "68          Logistics -0.631514  0.521135\n",
      "69              Costs -0.570416  0.239059\n",
      "70         Industries -1.330785  0.075619\n",
      "71               MCDA -0.184993 -0.621633\n",
      "72      Visualization  0.445488  1.467344\n",
      "73         automation  1.044239  0.334569\n",
      "74                 5G  0.257450 -0.573994\n",
      "75             survey -0.331875 -1.014053\n",
      "76         Automation -0.048252  1.256039\n",
      "77            Testing -0.596668  0.414534\n",
      "78          Semiotics -0.203431 -0.099935\n",
      "79           Internet  0.136960 -0.617710\n",
      "80          packaging -0.029336 -0.442251\n",
      "81          Fasteners -1.075972  0.897930\n",
      "82            Servers  0.635757  1.008004\n",
      "83               bots  0.869220 -0.390460\n",
      "84         Publishing -0.733686  0.252446\n",
      "85       Optimization  0.598027  1.242353\n",
      "86             Ethics -0.995961 -0.727552\n",
      "87             Torque  0.450761  0.196344\n",
      "88           Focusing -0.183801 -0.554003\n",
      "89          Arguments -0.830795 -0.332765\n",
      "90              Codes -0.230720  0.045811\n",
      "91          Sociology -1.124959 -0.277150\n",
      "92       Transformers -0.086723 -0.631187\n",
      "93    experimentation  0.479172 -0.696349\n",
      "94        Uncertainty -0.557754 -0.351688\n",
      "95     sustainability  0.056516 -1.087798\n",
      "96         robustness  1.059977 -0.680040\n",
      "97               data  0.553734 -0.422316\n",
      "98             DevOps  0.814766 -0.076258\n",
      "99          Benchmark -0.185844  0.175858\n",
      "100         important  0.141361 -0.597097\n",
      "101            models  0.409738 -0.759249\n",
      "102              LSTM -0.233332 -0.345717\n",
      "103              Edge  0.045002 -0.325179\n",
      "104             Tools -0.035128  1.039813\n",
      "105              SDLC  1.199425  0.326177\n",
      "106       Convergence -0.068657  0.200362\n",
      "107           Manuals -0.199909  0.424420\n",
      "108          Software  0.461481  1.055434\n",
      "109         diversity  0.146108 -1.204207\n",
      "110            Fluids -0.617162  0.911447\n",
      "111        Transforms -0.107312  1.693265\n",
      "112     Collaboration  0.066770  0.738917\n",
      "113        Statistics -1.143261 -0.237288\n",
      "114               CPS -0.057774 -0.903955\n",
      "115                ML  0.044387 -0.699915\n",
      "116       Conferences -0.877325  0.087827\n",
      "117            Timing -0.569479  0.171661\n",
      "118        Regulation -0.683954 -0.422788\n",
      "119        Monitoring -0.301218  0.272285\n"
     ]
    }
   ],
   "source": [
    "print(pca_df)"
   ]
  },
  {
   "cell_type": "markdown",
   "metadata": {},
   "source": [
    "## Cluster"
   ]
  },
  {
   "cell_type": "code",
   "execution_count": 76,
   "metadata": {
    "ExecuteTime": {
     "end_time": "2022-12-23T18:58:32.064060Z",
     "start_time": "2022-12-23T18:58:30.627950Z"
    }
   },
   "outputs": [],
   "source": [
    "NUM_CLUSTERS = 5\n",
    "\n",
    "kmeans = cluster.KMeans(n_clusters=NUM_CLUSTERS,\n",
    "                        random_state=RNG,\n",
    "                        n_init=1000,\n",
    "                        max_iter=1000)\n",
    "kmeans.fit(X_pca)\n",
    "\n",
    "labels = kmeans.labels_\n",
    "centroids = kmeans.cluster_centers_\n",
    "\n",
    "# print(\"Cluster id labels for inputted data\")\n",
    "# print(labels)\n",
    "# print(\"Centroids data\")\n",
    "# print(centroids)\n",
    "\n",
    "# print(\n",
    "#     \"Score (Opposite of the value of X on the K-means objective which is Sum of distances of samples to their closest cluster center):\"\n",
    "# )\n",
    "# print(kmeans.score(X))\n",
    "\n",
    "# silhouette_score = metrics.silhouette_score(X, labels, metric='euclidean')\n",
    "\n",
    "# print(\"Silhouette_score: \")\n",
    "# print(silhouette_score)"
   ]
  },
  {
   "cell_type": "code",
   "execution_count": 77,
   "metadata": {
    "ExecuteTime": {
     "end_time": "2022-12-23T18:58:32.080027Z",
     "start_time": "2022-12-23T18:58:32.065441Z"
    }
   },
   "outputs": [
    {
     "data": {
      "text/html": [
       "<div>\n",
       "<style scoped>\n",
       "    .dataframe tbody tr th:only-of-type {\n",
       "        vertical-align: middle;\n",
       "    }\n",
       "\n",
       "    .dataframe tbody tr th {\n",
       "        vertical-align: top;\n",
       "    }\n",
       "\n",
       "    .dataframe thead th {\n",
       "        text-align: right;\n",
       "    }\n",
       "</style>\n",
       "<table border=\"1\" class=\"dataframe\">\n",
       "  <thead>\n",
       "    <tr style=\"text-align: right;\">\n",
       "      <th></th>\n",
       "      <th>words</th>\n",
       "      <th>x</th>\n",
       "      <th>y</th>\n",
       "      <th>cluster</th>\n",
       "    </tr>\n",
       "  </thead>\n",
       "  <tbody>\n",
       "    <tr>\n",
       "      <th>32</th>\n",
       "      <td>Framework</td>\n",
       "      <td>0.649447</td>\n",
       "      <td>0.611592</td>\n",
       "      <td>0</td>\n",
       "    </tr>\n",
       "    <tr>\n",
       "      <th>85</th>\n",
       "      <td>Optimization</td>\n",
       "      <td>0.598027</td>\n",
       "      <td>1.242353</td>\n",
       "      <td>0</td>\n",
       "    </tr>\n",
       "    <tr>\n",
       "      <th>82</th>\n",
       "      <td>Servers</td>\n",
       "      <td>0.635757</td>\n",
       "      <td>1.008004</td>\n",
       "      <td>0</td>\n",
       "    </tr>\n",
       "    <tr>\n",
       "      <th>25</th>\n",
       "      <td>Robustness</td>\n",
       "      <td>0.730372</td>\n",
       "      <td>0.691305</td>\n",
       "      <td>0</td>\n",
       "    </tr>\n",
       "    <tr>\n",
       "      <th>45</th>\n",
       "      <td>Deployment</td>\n",
       "      <td>0.330417</td>\n",
       "      <td>0.882006</td>\n",
       "      <td>0</td>\n",
       "    </tr>\n",
       "    <tr>\n",
       "      <th>21</th>\n",
       "      <td>Regression</td>\n",
       "      <td>-0.086363</td>\n",
       "      <td>0.876600</td>\n",
       "      <td>0</td>\n",
       "    </tr>\n",
       "    <tr>\n",
       "      <th>18</th>\n",
       "      <td>Databases</td>\n",
       "      <td>0.029151</td>\n",
       "      <td>1.163607</td>\n",
       "      <td>0</td>\n",
       "    </tr>\n",
       "    <tr>\n",
       "      <th>51</th>\n",
       "      <td>Middleware</td>\n",
       "      <td>1.006791</td>\n",
       "      <td>1.610532</td>\n",
       "      <td>0</td>\n",
       "    </tr>\n",
       "    <tr>\n",
       "      <th>52</th>\n",
       "      <td>Encoding</td>\n",
       "      <td>0.692819</td>\n",
       "      <td>1.398205</td>\n",
       "      <td>0</td>\n",
       "    </tr>\n",
       "    <tr>\n",
       "      <th>108</th>\n",
       "      <td>Software</td>\n",
       "      <td>0.461481</td>\n",
       "      <td>1.055434</td>\n",
       "      <td>0</td>\n",
       "    </tr>\n",
       "    <tr>\n",
       "      <th>76</th>\n",
       "      <td>Automation</td>\n",
       "      <td>-0.048252</td>\n",
       "      <td>1.256039</td>\n",
       "      <td>0</td>\n",
       "    </tr>\n",
       "    <tr>\n",
       "      <th>104</th>\n",
       "      <td>Tools</td>\n",
       "      <td>-0.035128</td>\n",
       "      <td>1.039813</td>\n",
       "      <td>0</td>\n",
       "    </tr>\n",
       "    <tr>\n",
       "      <th>111</th>\n",
       "      <td>Transforms</td>\n",
       "      <td>-0.107312</td>\n",
       "      <td>1.693265</td>\n",
       "      <td>0</td>\n",
       "    </tr>\n",
       "    <tr>\n",
       "      <th>112</th>\n",
       "      <td>Collaboration</td>\n",
       "      <td>0.066770</td>\n",
       "      <td>0.738917</td>\n",
       "      <td>0</td>\n",
       "    </tr>\n",
       "    <tr>\n",
       "      <th>1</th>\n",
       "      <td>Neurons</td>\n",
       "      <td>-0.113121</td>\n",
       "      <td>0.953543</td>\n",
       "      <td>0</td>\n",
       "    </tr>\n",
       "    <tr>\n",
       "      <th>72</th>\n",
       "      <td>Visualization</td>\n",
       "      <td>0.445488</td>\n",
       "      <td>1.467344</td>\n",
       "      <td>0</td>\n",
       "    </tr>\n",
       "    <tr>\n",
       "      <th>2</th>\n",
       "      <td>Orchestration</td>\n",
       "      <td>0.710216</td>\n",
       "      <td>0.814788</td>\n",
       "      <td>0</td>\n",
       "    </tr>\n",
       "    <tr>\n",
       "      <th>36</th>\n",
       "      <td>AI</td>\n",
       "      <td>0.543393</td>\n",
       "      <td>-0.556528</td>\n",
       "      <td>1</td>\n",
       "    </tr>\n",
       "    <tr>\n",
       "      <th>88</th>\n",
       "      <td>Focusing</td>\n",
       "      <td>-0.183801</td>\n",
       "      <td>-0.554003</td>\n",
       "      <td>1</td>\n",
       "    </tr>\n",
       "    <tr>\n",
       "      <th>41</th>\n",
       "      <td>SM</td>\n",
       "      <td>0.245650</td>\n",
       "      <td>-0.377783</td>\n",
       "      <td>1</td>\n",
       "    </tr>\n",
       "    <tr>\n",
       "      <th>80</th>\n",
       "      <td>packaging</td>\n",
       "      <td>-0.029336</td>\n",
       "      <td>-0.442251</td>\n",
       "      <td>1</td>\n",
       "    </tr>\n",
       "    <tr>\n",
       "      <th>63</th>\n",
       "      <td>Containerization</td>\n",
       "      <td>-0.112323</td>\n",
       "      <td>-0.151526</td>\n",
       "      <td>1</td>\n",
       "    </tr>\n",
       "    <tr>\n",
       "      <th>71</th>\n",
       "      <td>MCDA</td>\n",
       "      <td>-0.184993</td>\n",
       "      <td>-0.621633</td>\n",
       "      <td>1</td>\n",
       "    </tr>\n",
       "    <tr>\n",
       "      <th>79</th>\n",
       "      <td>Internet</td>\n",
       "      <td>0.136960</td>\n",
       "      <td>-0.617710</td>\n",
       "      <td>1</td>\n",
       "    </tr>\n",
       "    <tr>\n",
       "      <th>56</th>\n",
       "      <td>Privacy</td>\n",
       "      <td>-0.215381</td>\n",
       "      <td>-0.318253</td>\n",
       "      <td>1</td>\n",
       "    </tr>\n",
       "    <tr>\n",
       "      <th>60</th>\n",
       "      <td>development</td>\n",
       "      <td>0.286127</td>\n",
       "      <td>-0.729154</td>\n",
       "      <td>1</td>\n",
       "    </tr>\n",
       "    <tr>\n",
       "      <th>48</th>\n",
       "      <td>Bibliographies</td>\n",
       "      <td>-0.008604</td>\n",
       "      <td>-0.359681</td>\n",
       "      <td>1</td>\n",
       "    </tr>\n",
       "    <tr>\n",
       "      <th>49</th>\n",
       "      <td>ethics</td>\n",
       "      <td>-0.224658</td>\n",
       "      <td>-1.356046</td>\n",
       "      <td>1</td>\n",
       "    </tr>\n",
       "    <tr>\n",
       "      <th>74</th>\n",
       "      <td>5G</td>\n",
       "      <td>0.257450</td>\n",
       "      <td>-0.573994</td>\n",
       "      <td>1</td>\n",
       "    </tr>\n",
       "    <tr>\n",
       "      <th>92</th>\n",
       "      <td>Transformers</td>\n",
       "      <td>-0.086723</td>\n",
       "      <td>-0.631187</td>\n",
       "      <td>1</td>\n",
       "    </tr>\n",
       "    <tr>\n",
       "      <th>75</th>\n",
       "      <td>survey</td>\n",
       "      <td>-0.331875</td>\n",
       "      <td>-1.014053</td>\n",
       "      <td>1</td>\n",
       "    </tr>\n",
       "    <tr>\n",
       "      <th>54</th>\n",
       "      <td>SLR</td>\n",
       "      <td>0.463587</td>\n",
       "      <td>-0.779939</td>\n",
       "      <td>1</td>\n",
       "    </tr>\n",
       "    <tr>\n",
       "      <th>46</th>\n",
       "      <td>Agent</td>\n",
       "      <td>-0.113036</td>\n",
       "      <td>-0.149078</td>\n",
       "      <td>1</td>\n",
       "    </tr>\n",
       "    <tr>\n",
       "      <th>93</th>\n",
       "      <td>experimentation</td>\n",
       "      <td>0.479172</td>\n",
       "      <td>-0.696349</td>\n",
       "      <td>1</td>\n",
       "    </tr>\n",
       "    <tr>\n",
       "      <th>59</th>\n",
       "      <td>management</td>\n",
       "      <td>0.333942</td>\n",
       "      <td>-0.673455</td>\n",
       "      <td>1</td>\n",
       "    </tr>\n",
       "    <tr>\n",
       "      <th>64</th>\n",
       "      <td>fairness</td>\n",
       "      <td>-0.004936</td>\n",
       "      <td>-1.375538</td>\n",
       "      <td>1</td>\n",
       "    </tr>\n",
       "    <tr>\n",
       "      <th>115</th>\n",
       "      <td>ML</td>\n",
       "      <td>0.044387</td>\n",
       "      <td>-0.699915</td>\n",
       "      <td>1</td>\n",
       "    </tr>\n",
       "    <tr>\n",
       "      <th>6</th>\n",
       "      <td>RAN</td>\n",
       "      <td>0.678872</td>\n",
       "      <td>-0.893242</td>\n",
       "      <td>1</td>\n",
       "    </tr>\n",
       "    <tr>\n",
       "      <th>17</th>\n",
       "      <td>Docker</td>\n",
       "      <td>-0.111136</td>\n",
       "      <td>-1.241025</td>\n",
       "      <td>1</td>\n",
       "    </tr>\n",
       "    <tr>\n",
       "      <th>95</th>\n",
       "      <td>sustainability</td>\n",
       "      <td>0.056516</td>\n",
       "      <td>-1.087798</td>\n",
       "      <td>1</td>\n",
       "    </tr>\n",
       "    <tr>\n",
       "      <th>19</th>\n",
       "      <td>IoT</td>\n",
       "      <td>0.355856</td>\n",
       "      <td>-0.366343</td>\n",
       "      <td>1</td>\n",
       "    </tr>\n",
       "    <tr>\n",
       "      <th>103</th>\n",
       "      <td>Edge</td>\n",
       "      <td>0.045002</td>\n",
       "      <td>-0.325179</td>\n",
       "      <td>1</td>\n",
       "    </tr>\n",
       "    <tr>\n",
       "      <th>102</th>\n",
       "      <td>LSTM</td>\n",
       "      <td>-0.233332</td>\n",
       "      <td>-0.345717</td>\n",
       "      <td>1</td>\n",
       "    </tr>\n",
       "    <tr>\n",
       "      <th>23</th>\n",
       "      <td>Serverless</td>\n",
       "      <td>0.314441</td>\n",
       "      <td>-0.297774</td>\n",
       "      <td>1</td>\n",
       "    </tr>\n",
       "    <tr>\n",
       "      <th>114</th>\n",
       "      <td>CPS</td>\n",
       "      <td>-0.057774</td>\n",
       "      <td>-0.903955</td>\n",
       "      <td>1</td>\n",
       "    </tr>\n",
       "    <tr>\n",
       "      <th>101</th>\n",
       "      <td>models</td>\n",
       "      <td>0.409738</td>\n",
       "      <td>-0.759249</td>\n",
       "      <td>1</td>\n",
       "    </tr>\n",
       "    <tr>\n",
       "      <th>100</th>\n",
       "      <td>important</td>\n",
       "      <td>0.141361</td>\n",
       "      <td>-0.597097</td>\n",
       "      <td>1</td>\n",
       "    </tr>\n",
       "    <tr>\n",
       "      <th>4</th>\n",
       "      <td>security</td>\n",
       "      <td>0.447678</td>\n",
       "      <td>-0.808339</td>\n",
       "      <td>1</td>\n",
       "    </tr>\n",
       "    <tr>\n",
       "      <th>29</th>\n",
       "      <td>model</td>\n",
       "      <td>0.439924</td>\n",
       "      <td>-1.017089</td>\n",
       "      <td>1</td>\n",
       "    </tr>\n",
       "    <tr>\n",
       "      <th>97</th>\n",
       "      <td>data</td>\n",
       "      <td>0.553734</td>\n",
       "      <td>-0.422316</td>\n",
       "      <td>1</td>\n",
       "    </tr>\n",
       "    <tr>\n",
       "      <th>3</th>\n",
       "      <td>MOO</td>\n",
       "      <td>0.373990</td>\n",
       "      <td>-0.997734</td>\n",
       "      <td>1</td>\n",
       "    </tr>\n",
       "    <tr>\n",
       "      <th>31</th>\n",
       "      <td>monitoring</td>\n",
       "      <td>0.250282</td>\n",
       "      <td>-0.604213</td>\n",
       "      <td>1</td>\n",
       "    </tr>\n",
       "    <tr>\n",
       "      <th>26</th>\n",
       "      <td>GLR</td>\n",
       "      <td>0.179205</td>\n",
       "      <td>-0.811631</td>\n",
       "      <td>1</td>\n",
       "    </tr>\n",
       "    <tr>\n",
       "      <th>109</th>\n",
       "      <td>diversity</td>\n",
       "      <td>0.146108</td>\n",
       "      <td>-1.204207</td>\n",
       "      <td>1</td>\n",
       "    </tr>\n",
       "    <tr>\n",
       "      <th>117</th>\n",
       "      <td>Timing</td>\n",
       "      <td>-0.569479</td>\n",
       "      <td>0.171661</td>\n",
       "      <td>2</td>\n",
       "    </tr>\n",
       "    <tr>\n",
       "      <th>69</th>\n",
       "      <td>Costs</td>\n",
       "      <td>-0.570416</td>\n",
       "      <td>0.239059</td>\n",
       "      <td>2</td>\n",
       "    </tr>\n",
       "    <tr>\n",
       "      <th>78</th>\n",
       "      <td>Semiotics</td>\n",
       "      <td>-0.203431</td>\n",
       "      <td>-0.099935</td>\n",
       "      <td>2</td>\n",
       "    </tr>\n",
       "    <tr>\n",
       "      <th>107</th>\n",
       "      <td>Manuals</td>\n",
       "      <td>-0.199909</td>\n",
       "      <td>0.424420</td>\n",
       "      <td>2</td>\n",
       "    </tr>\n",
       "    <tr>\n",
       "      <th>77</th>\n",
       "      <td>Testing</td>\n",
       "      <td>-0.596668</td>\n",
       "      <td>0.414534</td>\n",
       "      <td>2</td>\n",
       "    </tr>\n",
       "    <tr>\n",
       "      <th>106</th>\n",
       "      <td>Convergence</td>\n",
       "      <td>-0.068657</td>\n",
       "      <td>0.200362</td>\n",
       "      <td>2</td>\n",
       "    </tr>\n",
       "    <tr>\n",
       "      <th>81</th>\n",
       "      <td>Fasteners</td>\n",
       "      <td>-1.075972</td>\n",
       "      <td>0.897930</td>\n",
       "      <td>2</td>\n",
       "    </tr>\n",
       "    <tr>\n",
       "      <th>99</th>\n",
       "      <td>Benchmark</td>\n",
       "      <td>-0.185844</td>\n",
       "      <td>0.175858</td>\n",
       "      <td>2</td>\n",
       "    </tr>\n",
       "    <tr>\n",
       "      <th>84</th>\n",
       "      <td>Publishing</td>\n",
       "      <td>-0.733686</td>\n",
       "      <td>0.252446</td>\n",
       "      <td>2</td>\n",
       "    </tr>\n",
       "    <tr>\n",
       "      <th>90</th>\n",
       "      <td>Codes</td>\n",
       "      <td>-0.230720</td>\n",
       "      <td>0.045811</td>\n",
       "      <td>2</td>\n",
       "    </tr>\n",
       "    <tr>\n",
       "      <th>110</th>\n",
       "      <td>Fluids</td>\n",
       "      <td>-0.617162</td>\n",
       "      <td>0.911447</td>\n",
       "      <td>2</td>\n",
       "    </tr>\n",
       "    <tr>\n",
       "      <th>68</th>\n",
       "      <td>Logistics</td>\n",
       "      <td>-0.631514</td>\n",
       "      <td>0.521135</td>\n",
       "      <td>2</td>\n",
       "    </tr>\n",
       "    <tr>\n",
       "      <th>119</th>\n",
       "      <td>Monitoring</td>\n",
       "      <td>-0.301218</td>\n",
       "      <td>0.272285</td>\n",
       "      <td>2</td>\n",
       "    </tr>\n",
       "    <tr>\n",
       "      <th>34</th>\n",
       "      <td>Reliability</td>\n",
       "      <td>-0.094660</td>\n",
       "      <td>0.489641</td>\n",
       "      <td>2</td>\n",
       "    </tr>\n",
       "    <tr>\n",
       "      <th>38</th>\n",
       "      <td>Sensors</td>\n",
       "      <td>-0.632880</td>\n",
       "      <td>1.099867</td>\n",
       "      <td>2</td>\n",
       "    </tr>\n",
       "    <tr>\n",
       "      <th>30</th>\n",
       "      <td>Pipelines</td>\n",
       "      <td>-0.805116</td>\n",
       "      <td>0.747711</td>\n",
       "      <td>2</td>\n",
       "    </tr>\n",
       "    <tr>\n",
       "      <th>28</th>\n",
       "      <td>Germanium</td>\n",
       "      <td>-0.109735</td>\n",
       "      <td>0.273996</td>\n",
       "      <td>2</td>\n",
       "    </tr>\n",
       "    <tr>\n",
       "      <th>22</th>\n",
       "      <td>Packaging</td>\n",
       "      <td>-1.078914</td>\n",
       "      <td>0.575858</td>\n",
       "      <td>2</td>\n",
       "    </tr>\n",
       "    <tr>\n",
       "      <th>20</th>\n",
       "      <td>Pandemics</td>\n",
       "      <td>-0.793054</td>\n",
       "      <td>0.271990</td>\n",
       "      <td>2</td>\n",
       "    </tr>\n",
       "    <tr>\n",
       "      <th>15</th>\n",
       "      <td>Training</td>\n",
       "      <td>-0.709120</td>\n",
       "      <td>0.251479</td>\n",
       "      <td>2</td>\n",
       "    </tr>\n",
       "    <tr>\n",
       "      <th>35</th>\n",
       "      <td>Systematics</td>\n",
       "      <td>-0.109538</td>\n",
       "      <td>0.103520</td>\n",
       "      <td>2</td>\n",
       "    </tr>\n",
       "    <tr>\n",
       "      <th>13</th>\n",
       "      <td>Organizations</td>\n",
       "      <td>-0.105391</td>\n",
       "      <td>0.051824</td>\n",
       "      <td>2</td>\n",
       "    </tr>\n",
       "    <tr>\n",
       "      <th>14</th>\n",
       "      <td>Prototypes</td>\n",
       "      <td>-0.277224</td>\n",
       "      <td>0.383764</td>\n",
       "      <td>2</td>\n",
       "    </tr>\n",
       "    <tr>\n",
       "      <th>8</th>\n",
       "      <td>Production</td>\n",
       "      <td>-0.526405</td>\n",
       "      <td>0.374447</td>\n",
       "      <td>2</td>\n",
       "    </tr>\n",
       "    <tr>\n",
       "      <th>61</th>\n",
       "      <td>Forecasting</td>\n",
       "      <td>-0.791867</td>\n",
       "      <td>0.289488</td>\n",
       "      <td>2</td>\n",
       "    </tr>\n",
       "    <tr>\n",
       "      <th>62</th>\n",
       "      <td>Measurement</td>\n",
       "      <td>-0.596457</td>\n",
       "      <td>0.869325</td>\n",
       "      <td>2</td>\n",
       "    </tr>\n",
       "    <tr>\n",
       "      <th>5</th>\n",
       "      <td>Architecture</td>\n",
       "      <td>-0.121328</td>\n",
       "      <td>0.475496</td>\n",
       "      <td>2</td>\n",
       "    </tr>\n",
       "    <tr>\n",
       "      <th>11</th>\n",
       "      <td>Planets</td>\n",
       "      <td>-0.047211</td>\n",
       "      <td>0.309067</td>\n",
       "      <td>2</td>\n",
       "    </tr>\n",
       "    <tr>\n",
       "      <th>37</th>\n",
       "      <td>Libraries</td>\n",
       "      <td>-0.617319</td>\n",
       "      <td>0.312124</td>\n",
       "      <td>2</td>\n",
       "    </tr>\n",
       "    <tr>\n",
       "      <th>10</th>\n",
       "      <td>Stakeholders</td>\n",
       "      <td>-0.657384</td>\n",
       "      <td>-0.513601</td>\n",
       "      <td>3</td>\n",
       "    </tr>\n",
       "    <tr>\n",
       "      <th>9</th>\n",
       "      <td>Companies</td>\n",
       "      <td>-0.606245</td>\n",
       "      <td>-0.060207</td>\n",
       "      <td>3</td>\n",
       "    </tr>\n",
       "    <tr>\n",
       "      <th>113</th>\n",
       "      <td>Statistics</td>\n",
       "      <td>-1.143261</td>\n",
       "      <td>-0.237288</td>\n",
       "      <td>3</td>\n",
       "    </tr>\n",
       "    <tr>\n",
       "      <th>16</th>\n",
       "      <td>Grammar</td>\n",
       "      <td>-0.447752</td>\n",
       "      <td>-0.240555</td>\n",
       "      <td>3</td>\n",
       "    </tr>\n",
       "    <tr>\n",
       "      <th>27</th>\n",
       "      <td>Writing</td>\n",
       "      <td>-0.868043</td>\n",
       "      <td>-0.014604</td>\n",
       "      <td>3</td>\n",
       "    </tr>\n",
       "    <tr>\n",
       "      <th>116</th>\n",
       "      <td>Conferences</td>\n",
       "      <td>-0.877325</td>\n",
       "      <td>0.087827</td>\n",
       "      <td>3</td>\n",
       "    </tr>\n",
       "    <tr>\n",
       "      <th>33</th>\n",
       "      <td>Interviews</td>\n",
       "      <td>-1.113810</td>\n",
       "      <td>-0.486390</td>\n",
       "      <td>3</td>\n",
       "    </tr>\n",
       "    <tr>\n",
       "      <th>94</th>\n",
       "      <td>Uncertainty</td>\n",
       "      <td>-0.557754</td>\n",
       "      <td>-0.351688</td>\n",
       "      <td>3</td>\n",
       "    </tr>\n",
       "    <tr>\n",
       "      <th>0</th>\n",
       "      <td>Surgery</td>\n",
       "      <td>-1.429866</td>\n",
       "      <td>0.282506</td>\n",
       "      <td>3</td>\n",
       "    </tr>\n",
       "    <tr>\n",
       "      <th>89</th>\n",
       "      <td>Arguments</td>\n",
       "      <td>-0.830795</td>\n",
       "      <td>-0.332765</td>\n",
       "      <td>3</td>\n",
       "    </tr>\n",
       "    <tr>\n",
       "      <th>65</th>\n",
       "      <td>Business</td>\n",
       "      <td>-0.781408</td>\n",
       "      <td>0.063316</td>\n",
       "      <td>3</td>\n",
       "    </tr>\n",
       "    <tr>\n",
       "      <th>70</th>\n",
       "      <td>Industries</td>\n",
       "      <td>-1.330785</td>\n",
       "      <td>0.075619</td>\n",
       "      <td>3</td>\n",
       "    </tr>\n",
       "    <tr>\n",
       "      <th>86</th>\n",
       "      <td>Ethics</td>\n",
       "      <td>-0.995961</td>\n",
       "      <td>-0.727552</td>\n",
       "      <td>3</td>\n",
       "    </tr>\n",
       "    <tr>\n",
       "      <th>39</th>\n",
       "      <td>Buildings</td>\n",
       "      <td>-0.951752</td>\n",
       "      <td>0.033059</td>\n",
       "      <td>3</td>\n",
       "    </tr>\n",
       "    <tr>\n",
       "      <th>118</th>\n",
       "      <td>Regulation</td>\n",
       "      <td>-0.683954</td>\n",
       "      <td>-0.422788</td>\n",
       "      <td>3</td>\n",
       "    </tr>\n",
       "    <tr>\n",
       "      <th>57</th>\n",
       "      <td>Sustainability</td>\n",
       "      <td>-0.753130</td>\n",
       "      <td>-0.234583</td>\n",
       "      <td>3</td>\n",
       "    </tr>\n",
       "    <tr>\n",
       "      <th>44</th>\n",
       "      <td>Epilepsy</td>\n",
       "      <td>-1.171550</td>\n",
       "      <td>0.108959</td>\n",
       "      <td>3</td>\n",
       "    </tr>\n",
       "    <tr>\n",
       "      <th>91</th>\n",
       "      <td>Sociology</td>\n",
       "      <td>-1.124959</td>\n",
       "      <td>-0.277150</td>\n",
       "      <td>3</td>\n",
       "    </tr>\n",
       "    <tr>\n",
       "      <th>50</th>\n",
       "      <td>Regulators</td>\n",
       "      <td>-0.596595</td>\n",
       "      <td>-0.891750</td>\n",
       "      <td>3</td>\n",
       "    </tr>\n",
       "    <tr>\n",
       "      <th>7</th>\n",
       "      <td>Cloud</td>\n",
       "      <td>0.752292</td>\n",
       "      <td>0.115021</td>\n",
       "      <td>4</td>\n",
       "    </tr>\n",
       "    <tr>\n",
       "      <th>73</th>\n",
       "      <td>automation</td>\n",
       "      <td>1.044239</td>\n",
       "      <td>0.334569</td>\n",
       "      <td>4</td>\n",
       "    </tr>\n",
       "    <tr>\n",
       "      <th>58</th>\n",
       "      <td>deployment</td>\n",
       "      <td>1.119446</td>\n",
       "      <td>-0.411664</td>\n",
       "      <td>4</td>\n",
       "    </tr>\n",
       "    <tr>\n",
       "      <th>55</th>\n",
       "      <td>versioning</td>\n",
       "      <td>2.279043</td>\n",
       "      <td>0.379008</td>\n",
       "      <td>4</td>\n",
       "    </tr>\n",
       "    <tr>\n",
       "      <th>12</th>\n",
       "      <td>dataset</td>\n",
       "      <td>0.849675</td>\n",
       "      <td>-0.066859</td>\n",
       "      <td>4</td>\n",
       "    </tr>\n",
       "    <tr>\n",
       "      <th>53</th>\n",
       "      <td>Azure</td>\n",
       "      <td>0.998039</td>\n",
       "      <td>-0.237865</td>\n",
       "      <td>4</td>\n",
       "    </tr>\n",
       "    <tr>\n",
       "      <th>105</th>\n",
       "      <td>SDLC</td>\n",
       "      <td>1.199425</td>\n",
       "      <td>0.326177</td>\n",
       "      <td>4</td>\n",
       "    </tr>\n",
       "    <tr>\n",
       "      <th>43</th>\n",
       "      <td>integration</td>\n",
       "      <td>1.014274</td>\n",
       "      <td>-0.161324</td>\n",
       "      <td>4</td>\n",
       "    </tr>\n",
       "    <tr>\n",
       "      <th>42</th>\n",
       "      <td>metadata</td>\n",
       "      <td>2.048673</td>\n",
       "      <td>0.489678</td>\n",
       "      <td>4</td>\n",
       "    </tr>\n",
       "    <tr>\n",
       "      <th>24</th>\n",
       "      <td>deploying</td>\n",
       "      <td>0.995289</td>\n",
       "      <td>-0.348912</td>\n",
       "      <td>4</td>\n",
       "    </tr>\n",
       "    <tr>\n",
       "      <th>83</th>\n",
       "      <td>bots</td>\n",
       "      <td>0.869220</td>\n",
       "      <td>-0.390460</td>\n",
       "      <td>4</td>\n",
       "    </tr>\n",
       "    <tr>\n",
       "      <th>40</th>\n",
       "      <td>implementation</td>\n",
       "      <td>0.730832</td>\n",
       "      <td>-0.485064</td>\n",
       "      <td>4</td>\n",
       "    </tr>\n",
       "    <tr>\n",
       "      <th>98</th>\n",
       "      <td>DevOps</td>\n",
       "      <td>0.814766</td>\n",
       "      <td>-0.076258</td>\n",
       "      <td>4</td>\n",
       "    </tr>\n",
       "    <tr>\n",
       "      <th>96</th>\n",
       "      <td>robustness</td>\n",
       "      <td>1.059977</td>\n",
       "      <td>-0.680040</td>\n",
       "      <td>4</td>\n",
       "    </tr>\n",
       "    <tr>\n",
       "      <th>87</th>\n",
       "      <td>Torque</td>\n",
       "      <td>0.450761</td>\n",
       "      <td>0.196344</td>\n",
       "      <td>4</td>\n",
       "    </tr>\n",
       "    <tr>\n",
       "      <th>66</th>\n",
       "      <td>Autonomic</td>\n",
       "      <td>0.750456</td>\n",
       "      <td>0.508161</td>\n",
       "      <td>4</td>\n",
       "    </tr>\n",
       "    <tr>\n",
       "      <th>47</th>\n",
       "      <td>Matlab</td>\n",
       "      <td>0.996214</td>\n",
       "      <td>0.514456</td>\n",
       "      <td>4</td>\n",
       "    </tr>\n",
       "    <tr>\n",
       "      <th>67</th>\n",
       "      <td>agile</td>\n",
       "      <td>1.098579</td>\n",
       "      <td>-0.314309</td>\n",
       "      <td>4</td>\n",
       "    </tr>\n",
       "  </tbody>\n",
       "</table>\n",
       "</div>"
      ],
      "text/plain": [
       "                words         x         y cluster\n",
       "32          Framework  0.649447  0.611592       0\n",
       "85       Optimization  0.598027  1.242353       0\n",
       "82            Servers  0.635757  1.008004       0\n",
       "25         Robustness  0.730372  0.691305       0\n",
       "45         Deployment  0.330417  0.882006       0\n",
       "21         Regression -0.086363  0.876600       0\n",
       "18          Databases  0.029151  1.163607       0\n",
       "51         Middleware  1.006791  1.610532       0\n",
       "52           Encoding  0.692819  1.398205       0\n",
       "108          Software  0.461481  1.055434       0\n",
       "76         Automation -0.048252  1.256039       0\n",
       "104             Tools -0.035128  1.039813       0\n",
       "111        Transforms -0.107312  1.693265       0\n",
       "112     Collaboration  0.066770  0.738917       0\n",
       "1             Neurons -0.113121  0.953543       0\n",
       "72      Visualization  0.445488  1.467344       0\n",
       "2       Orchestration  0.710216  0.814788       0\n",
       "36                 AI  0.543393 -0.556528       1\n",
       "88           Focusing -0.183801 -0.554003       1\n",
       "41                 SM  0.245650 -0.377783       1\n",
       "80          packaging -0.029336 -0.442251       1\n",
       "63   Containerization -0.112323 -0.151526       1\n",
       "71               MCDA -0.184993 -0.621633       1\n",
       "79           Internet  0.136960 -0.617710       1\n",
       "56            Privacy -0.215381 -0.318253       1\n",
       "60        development  0.286127 -0.729154       1\n",
       "48     Bibliographies -0.008604 -0.359681       1\n",
       "49             ethics -0.224658 -1.356046       1\n",
       "74                 5G  0.257450 -0.573994       1\n",
       "92       Transformers -0.086723 -0.631187       1\n",
       "75             survey -0.331875 -1.014053       1\n",
       "54                SLR  0.463587 -0.779939       1\n",
       "46              Agent -0.113036 -0.149078       1\n",
       "93    experimentation  0.479172 -0.696349       1\n",
       "59         management  0.333942 -0.673455       1\n",
       "64           fairness -0.004936 -1.375538       1\n",
       "115                ML  0.044387 -0.699915       1\n",
       "6                 RAN  0.678872 -0.893242       1\n",
       "17             Docker -0.111136 -1.241025       1\n",
       "95     sustainability  0.056516 -1.087798       1\n",
       "19                IoT  0.355856 -0.366343       1\n",
       "103              Edge  0.045002 -0.325179       1\n",
       "102              LSTM -0.233332 -0.345717       1\n",
       "23         Serverless  0.314441 -0.297774       1\n",
       "114               CPS -0.057774 -0.903955       1\n",
       "101            models  0.409738 -0.759249       1\n",
       "100         important  0.141361 -0.597097       1\n",
       "4            security  0.447678 -0.808339       1\n",
       "29              model  0.439924 -1.017089       1\n",
       "97               data  0.553734 -0.422316       1\n",
       "3                 MOO  0.373990 -0.997734       1\n",
       "31         monitoring  0.250282 -0.604213       1\n",
       "26                GLR  0.179205 -0.811631       1\n",
       "109         diversity  0.146108 -1.204207       1\n",
       "117            Timing -0.569479  0.171661       2\n",
       "69              Costs -0.570416  0.239059       2\n",
       "78          Semiotics -0.203431 -0.099935       2\n",
       "107           Manuals -0.199909  0.424420       2\n",
       "77            Testing -0.596668  0.414534       2\n",
       "106       Convergence -0.068657  0.200362       2\n",
       "81          Fasteners -1.075972  0.897930       2\n",
       "99          Benchmark -0.185844  0.175858       2\n",
       "84         Publishing -0.733686  0.252446       2\n",
       "90              Codes -0.230720  0.045811       2\n",
       "110            Fluids -0.617162  0.911447       2\n",
       "68          Logistics -0.631514  0.521135       2\n",
       "119        Monitoring -0.301218  0.272285       2\n",
       "34        Reliability -0.094660  0.489641       2\n",
       "38            Sensors -0.632880  1.099867       2\n",
       "30          Pipelines -0.805116  0.747711       2\n",
       "28          Germanium -0.109735  0.273996       2\n",
       "22          Packaging -1.078914  0.575858       2\n",
       "20          Pandemics -0.793054  0.271990       2\n",
       "15           Training -0.709120  0.251479       2\n",
       "35        Systematics -0.109538  0.103520       2\n",
       "13      Organizations -0.105391  0.051824       2\n",
       "14         Prototypes -0.277224  0.383764       2\n",
       "8          Production -0.526405  0.374447       2\n",
       "61        Forecasting -0.791867  0.289488       2\n",
       "62        Measurement -0.596457  0.869325       2\n",
       "5        Architecture -0.121328  0.475496       2\n",
       "11            Planets -0.047211  0.309067       2\n",
       "37          Libraries -0.617319  0.312124       2\n",
       "10       Stakeholders -0.657384 -0.513601       3\n",
       "9           Companies -0.606245 -0.060207       3\n",
       "113        Statistics -1.143261 -0.237288       3\n",
       "16            Grammar -0.447752 -0.240555       3\n",
       "27            Writing -0.868043 -0.014604       3\n",
       "116       Conferences -0.877325  0.087827       3\n",
       "33         Interviews -1.113810 -0.486390       3\n",
       "94        Uncertainty -0.557754 -0.351688       3\n",
       "0             Surgery -1.429866  0.282506       3\n",
       "89          Arguments -0.830795 -0.332765       3\n",
       "65           Business -0.781408  0.063316       3\n",
       "70         Industries -1.330785  0.075619       3\n",
       "86             Ethics -0.995961 -0.727552       3\n",
       "39          Buildings -0.951752  0.033059       3\n",
       "118        Regulation -0.683954 -0.422788       3\n",
       "57     Sustainability -0.753130 -0.234583       3\n",
       "44           Epilepsy -1.171550  0.108959       3\n",
       "91          Sociology -1.124959 -0.277150       3\n",
       "50         Regulators -0.596595 -0.891750       3\n",
       "7               Cloud  0.752292  0.115021       4\n",
       "73         automation  1.044239  0.334569       4\n",
       "58         deployment  1.119446 -0.411664       4\n",
       "55         versioning  2.279043  0.379008       4\n",
       "12            dataset  0.849675 -0.066859       4\n",
       "53              Azure  0.998039 -0.237865       4\n",
       "105              SDLC  1.199425  0.326177       4\n",
       "43        integration  1.014274 -0.161324       4\n",
       "42           metadata  2.048673  0.489678       4\n",
       "24          deploying  0.995289 -0.348912       4\n",
       "83               bots  0.869220 -0.390460       4\n",
       "40     implementation  0.730832 -0.485064       4\n",
       "98             DevOps  0.814766 -0.076258       4\n",
       "96         robustness  1.059977 -0.680040       4\n",
       "87             Torque  0.450761  0.196344       4\n",
       "66          Autonomic  0.750456  0.508161       4\n",
       "47             Matlab  0.996214  0.514456       4\n",
       "67              agile  1.098579 -0.314309       4"
      ]
     },
     "execution_count": 77,
     "metadata": {},
     "output_type": "execute_result"
    }
   ],
   "source": [
    "pca_df['cluster'] = labels\n",
    "# to make clusters categorical for plotting\n",
    "pca_df.cluster = pca_df.cluster.astype(str)\n",
    "\n",
    "pca_df.sort_values(by=['cluster'])"
   ]
  },
  {
   "cell_type": "code",
   "execution_count": 78,
   "metadata": {
    "ExecuteTime": {
     "end_time": "2022-12-23T18:58:32.088472Z",
     "start_time": "2022-12-23T18:58:32.081599Z"
    }
   },
   "outputs": [
    {
     "data": {
      "text/plain": [
       "1    37\n",
       "2    29\n",
       "3    19\n",
       "4    18\n",
       "0    17\n",
       "Name: cluster, dtype: int64"
      ]
     },
     "execution_count": 78,
     "metadata": {},
     "output_type": "execute_result"
    }
   ],
   "source": [
    "pca_df.cluster.value_counts()"
   ]
  },
  {
   "cell_type": "markdown",
   "metadata": {
    "ExecuteTime": {
     "end_time": "2022-11-04T13:46:12.097932Z",
     "start_time": "2022-11-04T13:46:12.088914Z"
    }
   },
   "source": [
    "## Plot"
   ]
  },
  {
   "cell_type": "code",
   "execution_count": 79,
   "metadata": {
    "ExecuteTime": {
     "end_time": "2022-12-23T18:58:32.190887Z",
     "start_time": "2022-12-23T18:58:32.090695Z"
    }
   },
   "outputs": [
    {
     "data": {
      "application/vnd.plotly.v1+json": {
       "config": {
        "plotlyServerURL": "https://plot.ly"
       },
       "data": [
        {
         "customdata": [
          [
           "Surgery"
          ],
          [
           "Companies"
          ],
          [
           "Stakeholders"
          ],
          [
           "Grammar"
          ],
          [
           "Writing"
          ],
          [
           "Interviews"
          ],
          [
           "Buildings"
          ],
          [
           "Epilepsy"
          ],
          [
           "Regulators"
          ],
          [
           "Sustainability"
          ],
          [
           "Business"
          ],
          [
           "Industries"
          ],
          [
           "Ethics"
          ],
          [
           "Arguments"
          ],
          [
           "Sociology"
          ],
          [
           "Uncertainty"
          ],
          [
           "Statistics"
          ],
          [
           "Conferences"
          ],
          [
           "Regulation"
          ]
         ],
         "hovertemplate": "cluster=3<br>x=%{x}<br>y=%{y}<br>words=%{customdata[0]}<extra></extra>",
         "legendgroup": "3",
         "marker": {
          "color": "#636efa",
          "size": 12,
          "symbol": "circle"
         },
         "mode": "markers+text",
         "name": "3",
         "orientation": "v",
         "showlegend": true,
         "text": [
          "Surgery",
          "Companies",
          "Stakeholders",
          "Grammar",
          "Writing",
          "Interviews",
          "Buildings",
          "Epilepsy",
          "Regulators",
          "Sustainability",
          "Business",
          "Industries",
          "Ethics",
          "Arguments",
          "Sociology",
          "Uncertainty",
          "Statistics",
          "Conferences",
          "Regulation"
         ],
         "textfont": {
          "size": 12
         },
         "textposition": "bottom center",
         "type": "scatter",
         "x": [
          -1.4298661219160396,
          -0.6062454983010988,
          -0.6573844607648431,
          -0.44775246978794886,
          -0.8680428499862132,
          -1.113809513096844,
          -0.9517517028135647,
          -1.171550412071967,
          -0.5965948459470317,
          -0.7531303287546532,
          -0.7814080692239408,
          -1.3307854107717894,
          -0.9959611882508502,
          -0.8307945527313286,
          -1.1249593163707488,
          -0.557754368785198,
          -1.1432612881790778,
          -0.8773247481718028,
          -0.683954434740392
         ],
         "xaxis": "x",
         "y": [
          0.2825057248555559,
          -0.06020681195582624,
          -0.5136006264624257,
          -0.240554827842184,
          -0.014604062352404825,
          -0.48638966152129365,
          0.03305926542749664,
          0.10895925484503376,
          -0.891750197509659,
          -0.2345833955229109,
          0.06331631674962276,
          0.07561873276301259,
          -0.7275518397883902,
          -0.3327645928136714,
          -0.277149500451199,
          -0.3516875523343471,
          -0.23728772031368942,
          0.08782663912124974,
          -0.42278768846838316
         ],
         "yaxis": "y"
        },
        {
         "customdata": [
          [
           "Neurons"
          ],
          [
           "Orchestration"
          ],
          [
           "Databases"
          ],
          [
           "Regression"
          ],
          [
           "Robustness"
          ],
          [
           "Framework"
          ],
          [
           "Deployment"
          ],
          [
           "Middleware"
          ],
          [
           "Encoding"
          ],
          [
           "Visualization"
          ],
          [
           "Automation"
          ],
          [
           "Servers"
          ],
          [
           "Optimization"
          ],
          [
           "Tools"
          ],
          [
           "Software"
          ],
          [
           "Transforms"
          ],
          [
           "Collaboration"
          ]
         ],
         "hovertemplate": "cluster=0<br>x=%{x}<br>y=%{y}<br>words=%{customdata[0]}<extra></extra>",
         "legendgroup": "0",
         "marker": {
          "color": "#EF553B",
          "size": 12,
          "symbol": "circle"
         },
         "mode": "markers+text",
         "name": "0",
         "orientation": "v",
         "showlegend": true,
         "text": [
          "Neurons",
          "Orchestration",
          "Databases",
          "Regression",
          "Robustness",
          "Framework",
          "Deployment",
          "Middleware",
          "Encoding",
          "Visualization",
          "Automation",
          "Servers",
          "Optimization",
          "Tools",
          "Software",
          "Transforms",
          "Collaboration"
         ],
         "textfont": {
          "size": 12
         },
         "textposition": "bottom center",
         "type": "scatter",
         "x": [
          -0.11312082435318652,
          0.7102157691523534,
          0.02915076709975798,
          -0.08636295339214474,
          0.7303715298144267,
          0.6494468893909775,
          0.3304165345037536,
          1.0067910786783165,
          0.6928194712422258,
          0.44548800353381357,
          -0.0482517090376715,
          0.6357569672372491,
          0.5980271321439027,
          -0.035128249714133336,
          0.4614813757466221,
          -0.10731242115894418,
          0.06677047981815046
         ],
         "xaxis": "x",
         "y": [
          0.9535432080863476,
          0.814788026522343,
          1.1636070353510768,
          0.8765996728268496,
          0.691305005786487,
          0.6115920065315298,
          0.8820058230742441,
          1.6105322716345305,
          1.3982048097231246,
          1.4673442216150745,
          1.2560390856716728,
          1.008004476603257,
          1.2423530147632642,
          1.0398125632517854,
          1.055433851473647,
          1.6932646452387057,
          0.7389167590043784
         ],
         "yaxis": "y"
        },
        {
         "customdata": [
          [
           "MOO"
          ],
          [
           "security"
          ],
          [
           "RAN"
          ],
          [
           "Docker"
          ],
          [
           "IoT"
          ],
          [
           "Serverless"
          ],
          [
           "GLR"
          ],
          [
           "model"
          ],
          [
           "monitoring"
          ],
          [
           "AI"
          ],
          [
           "SM"
          ],
          [
           "Agent"
          ],
          [
           "Bibliographies"
          ],
          [
           "ethics"
          ],
          [
           "SLR"
          ],
          [
           "Privacy"
          ],
          [
           "management"
          ],
          [
           "development"
          ],
          [
           "Containerization"
          ],
          [
           "fairness"
          ],
          [
           "MCDA"
          ],
          [
           "5G"
          ],
          [
           "survey"
          ],
          [
           "Internet"
          ],
          [
           "packaging"
          ],
          [
           "Focusing"
          ],
          [
           "Transformers"
          ],
          [
           "experimentation"
          ],
          [
           "sustainability"
          ],
          [
           "data"
          ],
          [
           "important"
          ],
          [
           "models"
          ],
          [
           "LSTM"
          ],
          [
           "Edge"
          ],
          [
           "diversity"
          ],
          [
           "CPS"
          ],
          [
           "ML"
          ]
         ],
         "hovertemplate": "cluster=1<br>x=%{x}<br>y=%{y}<br>words=%{customdata[0]}<extra></extra>",
         "legendgroup": "1",
         "marker": {
          "color": "#00cc96",
          "size": 12,
          "symbol": "circle"
         },
         "mode": "markers+text",
         "name": "1",
         "orientation": "v",
         "showlegend": true,
         "text": [
          "MOO",
          "security",
          "RAN",
          "Docker",
          "IoT",
          "Serverless",
          "GLR",
          "model",
          "monitoring",
          "AI",
          "SM",
          "Agent",
          "Bibliographies",
          "ethics",
          "SLR",
          "Privacy",
          "management",
          "development",
          "Containerization",
          "fairness",
          "MCDA",
          "5G",
          "survey",
          "Internet",
          "packaging",
          "Focusing",
          "Transformers",
          "experimentation",
          "sustainability",
          "data",
          "important",
          "models",
          "LSTM",
          "Edge",
          "diversity",
          "CPS",
          "ML"
         ],
         "textfont": {
          "size": 12
         },
         "textposition": "bottom center",
         "type": "scatter",
         "x": [
          0.3739903043225653,
          0.4476782788529538,
          0.6788722613597261,
          -0.11113593717097382,
          0.3558563664683389,
          0.3144406938176679,
          0.17920505698239905,
          0.43992352481514574,
          0.2502821560527241,
          0.5433930296610281,
          0.24565016356051694,
          -0.11303640577759806,
          -0.008604318024270162,
          -0.2246584671154742,
          0.46358732547945697,
          -0.21538063910322153,
          0.3339421335680838,
          0.2861266239812983,
          -0.11232272047150121,
          -0.004936124350785358,
          -0.184992879635798,
          0.25745001911843035,
          -0.33187526884062574,
          0.1369597021637849,
          -0.029335731451265695,
          -0.183801050020916,
          -0.08672348674011196,
          0.4791723652341709,
          0.05651633351232114,
          0.553733632365054,
          0.14136077914015846,
          0.409737511994988,
          -0.23333239518705484,
          0.04500204873850951,
          0.14610779395997633,
          -0.057773817465095516,
          0.044386749415543596
         ],
         "xaxis": "x",
         "y": [
          -0.9977339752630023,
          -0.8083391840074413,
          -0.8932416898842884,
          -1.2410249124260107,
          -0.36634293593362843,
          -0.29777439405024125,
          -0.811631449027828,
          -1.0170888247836463,
          -0.6042132225096873,
          -0.5565275177187093,
          -0.37778254184800736,
          -0.14907754360818512,
          -0.35968110049948715,
          -1.3560464289006848,
          -0.7799391372903052,
          -0.31825272719231573,
          -0.6734546207710863,
          -0.7291540545703912,
          -0.15152641514686435,
          -1.375537793753567,
          -0.6216326208784919,
          -0.573993925062378,
          -1.0140533811162695,
          -0.6177095880700813,
          -0.4422511561522251,
          -0.5540033387240036,
          -0.6311872104134589,
          -0.6963486867161425,
          -1.0877976665541267,
          -0.42231594541015843,
          -0.5970972049697083,
          -0.7592494145563767,
          -0.34571655696612325,
          -0.32517856421015684,
          -1.2042070231221929,
          -0.9039553355657848,
          -0.6999151646611872
         ],
         "yaxis": "y"
        },
        {
         "customdata": [
          [
           "Architecture"
          ],
          [
           "Production"
          ],
          [
           "Planets"
          ],
          [
           "Organizations"
          ],
          [
           "Prototypes"
          ],
          [
           "Training"
          ],
          [
           "Pandemics"
          ],
          [
           "Packaging"
          ],
          [
           "Germanium"
          ],
          [
           "Pipelines"
          ],
          [
           "Reliability"
          ],
          [
           "Systematics"
          ],
          [
           "Libraries"
          ],
          [
           "Sensors"
          ],
          [
           "Forecasting"
          ],
          [
           "Measurement"
          ],
          [
           "Logistics"
          ],
          [
           "Costs"
          ],
          [
           "Testing"
          ],
          [
           "Semiotics"
          ],
          [
           "Fasteners"
          ],
          [
           "Publishing"
          ],
          [
           "Codes"
          ],
          [
           "Benchmark"
          ],
          [
           "Convergence"
          ],
          [
           "Manuals"
          ],
          [
           "Fluids"
          ],
          [
           "Timing"
          ],
          [
           "Monitoring"
          ]
         ],
         "hovertemplate": "cluster=2<br>x=%{x}<br>y=%{y}<br>words=%{customdata[0]}<extra></extra>",
         "legendgroup": "2",
         "marker": {
          "color": "#ab63fa",
          "size": 12,
          "symbol": "circle"
         },
         "mode": "markers+text",
         "name": "2",
         "orientation": "v",
         "showlegend": true,
         "text": [
          "Architecture",
          "Production",
          "Planets",
          "Organizations",
          "Prototypes",
          "Training",
          "Pandemics",
          "Packaging",
          "Germanium",
          "Pipelines",
          "Reliability",
          "Systematics",
          "Libraries",
          "Sensors",
          "Forecasting",
          "Measurement",
          "Logistics",
          "Costs",
          "Testing",
          "Semiotics",
          "Fasteners",
          "Publishing",
          "Codes",
          "Benchmark",
          "Convergence",
          "Manuals",
          "Fluids",
          "Timing",
          "Monitoring"
         ],
         "textfont": {
          "size": 12
         },
         "textposition": "bottom center",
         "type": "scatter",
         "x": [
          -0.12132848006613135,
          -0.5264050610076135,
          -0.0472113915652379,
          -0.1053905752012381,
          -0.2772242457554094,
          -0.7091197742382237,
          -0.7930539223028539,
          -1.0789144538127158,
          -0.10973547674377378,
          -0.8051158191245225,
          -0.09465950085234165,
          -0.10953825017893036,
          -0.6173194389841807,
          -0.632880435008057,
          -0.7918670256439553,
          -0.596457164645053,
          -0.6315138589096119,
          -0.5704162821104191,
          -0.5966683436297637,
          -0.2034314875640985,
          -1.0759719345426015,
          -0.7336856665539776,
          -0.23071957324756673,
          -0.18584416977904322,
          -0.06865676345420313,
          -0.19990857144710222,
          -0.6171619688687051,
          -0.5694789000556283,
          -0.3012176732450709
         ],
         "xaxis": "x",
         "y": [
          0.4754962570512933,
          0.37444691659345086,
          0.30906716865672385,
          0.05182423795296718,
          0.3837642184252253,
          0.2514786717223652,
          0.2719897548264553,
          0.5758582121425552,
          0.27399646824377694,
          0.7477109685484142,
          0.4896406300948984,
          0.10352010396943456,
          0.3121239483008028,
          1.099867096877922,
          0.2894878143996301,
          0.8693252845995295,
          0.5211348211173921,
          0.23905872439634937,
          0.414534267912493,
          -0.09993473856607524,
          0.8979302476383129,
          0.25244566643906585,
          0.045810584658512093,
          0.17585766541779121,
          0.2003623259104348,
          0.4244202439960192,
          0.9114472267142956,
          0.17166144638673303,
          0.2722849933520726
         ],
         "yaxis": "y"
        },
        {
         "customdata": [
          [
           "Cloud"
          ],
          [
           "dataset"
          ],
          [
           "deploying"
          ],
          [
           "implementation"
          ],
          [
           "metadata"
          ],
          [
           "integration"
          ],
          [
           "Matlab"
          ],
          [
           "Azure"
          ],
          [
           "versioning"
          ],
          [
           "deployment"
          ],
          [
           "Autonomic"
          ],
          [
           "agile"
          ],
          [
           "automation"
          ],
          [
           "bots"
          ],
          [
           "Torque"
          ],
          [
           "robustness"
          ],
          [
           "DevOps"
          ],
          [
           "SDLC"
          ]
         ],
         "hovertemplate": "cluster=4<br>x=%{x}<br>y=%{y}<br>words=%{customdata[0]}<extra></extra>",
         "legendgroup": "4",
         "marker": {
          "color": "#FFA15A",
          "size": 12,
          "symbol": "circle"
         },
         "mode": "markers+text",
         "name": "4",
         "orientation": "v",
         "showlegend": true,
         "text": [
          "Cloud",
          "dataset",
          "deploying",
          "implementation",
          "metadata",
          "integration",
          "Matlab",
          "Azure",
          "versioning",
          "deployment",
          "Autonomic",
          "agile",
          "automation",
          "bots",
          "Torque",
          "robustness",
          "DevOps",
          "SDLC"
         ],
         "textfont": {
          "size": 12
         },
         "textposition": "bottom center",
         "type": "scatter",
         "x": [
          0.7522919331007353,
          0.8496754471774409,
          0.9952893384364261,
          0.7308319103109684,
          2.0486734288756785,
          1.0142737507356696,
          0.9962142054275238,
          0.9980390213625172,
          2.2790432196046355,
          1.119446445287668,
          0.7504559945242043,
          1.0985791608060813,
          1.0442394405779292,
          0.8692201799328917,
          0.4507614321932879,
          1.0599768720734974,
          0.8147655576233496,
          1.1994249972372342
         ],
         "xaxis": "x",
         "y": [
          0.11502134421523591,
          -0.06685886091665094,
          -0.34891241949918295,
          -0.4850642601592749,
          0.48967849751897524,
          -0.16132401854851772,
          0.5144561449807058,
          -0.23786510558451304,
          0.3790081614402531,
          -0.411664433988148,
          0.5081610220219676,
          -0.31430922045693827,
          0.33456916869692604,
          -0.39046033576849215,
          0.19634411878997715,
          -0.6800401470185294,
          -0.07625810752197666,
          0.32617654276968056
         ],
         "yaxis": "y"
        }
       ],
       "layout": {
        "height": 1600,
        "legend": {
         "font": {
          "size": 12
         },
         "title": {
          "text": "cluster"
         },
         "tracegroupgap": 0,
         "x": 0.9,
         "y": 0.98
        },
        "margin": {
         "t": 60
        },
        "template": {
         "data": {
          "bar": [
           {
            "error_x": {
             "color": "#2a3f5f"
            },
            "error_y": {
             "color": "#2a3f5f"
            },
            "marker": {
             "line": {
              "color": "#E5ECF6",
              "width": 0.5
             },
             "pattern": {
              "fillmode": "overlay",
              "size": 10,
              "solidity": 0.2
             }
            },
            "type": "bar"
           }
          ],
          "barpolar": [
           {
            "marker": {
             "line": {
              "color": "#E5ECF6",
              "width": 0.5
             },
             "pattern": {
              "fillmode": "overlay",
              "size": 10,
              "solidity": 0.2
             }
            },
            "type": "barpolar"
           }
          ],
          "carpet": [
           {
            "aaxis": {
             "endlinecolor": "#2a3f5f",
             "gridcolor": "white",
             "linecolor": "white",
             "minorgridcolor": "white",
             "startlinecolor": "#2a3f5f"
            },
            "baxis": {
             "endlinecolor": "#2a3f5f",
             "gridcolor": "white",
             "linecolor": "white",
             "minorgridcolor": "white",
             "startlinecolor": "#2a3f5f"
            },
            "type": "carpet"
           }
          ],
          "choropleth": [
           {
            "colorbar": {
             "outlinewidth": 0,
             "ticks": ""
            },
            "type": "choropleth"
           }
          ],
          "contour": [
           {
            "colorbar": {
             "outlinewidth": 0,
             "ticks": ""
            },
            "colorscale": [
             [
              0,
              "#0d0887"
             ],
             [
              0.1111111111111111,
              "#46039f"
             ],
             [
              0.2222222222222222,
              "#7201a8"
             ],
             [
              0.3333333333333333,
              "#9c179e"
             ],
             [
              0.4444444444444444,
              "#bd3786"
             ],
             [
              0.5555555555555556,
              "#d8576b"
             ],
             [
              0.6666666666666666,
              "#ed7953"
             ],
             [
              0.7777777777777778,
              "#fb9f3a"
             ],
             [
              0.8888888888888888,
              "#fdca26"
             ],
             [
              1,
              "#f0f921"
             ]
            ],
            "type": "contour"
           }
          ],
          "contourcarpet": [
           {
            "colorbar": {
             "outlinewidth": 0,
             "ticks": ""
            },
            "type": "contourcarpet"
           }
          ],
          "heatmap": [
           {
            "colorbar": {
             "outlinewidth": 0,
             "ticks": ""
            },
            "colorscale": [
             [
              0,
              "#0d0887"
             ],
             [
              0.1111111111111111,
              "#46039f"
             ],
             [
              0.2222222222222222,
              "#7201a8"
             ],
             [
              0.3333333333333333,
              "#9c179e"
             ],
             [
              0.4444444444444444,
              "#bd3786"
             ],
             [
              0.5555555555555556,
              "#d8576b"
             ],
             [
              0.6666666666666666,
              "#ed7953"
             ],
             [
              0.7777777777777778,
              "#fb9f3a"
             ],
             [
              0.8888888888888888,
              "#fdca26"
             ],
             [
              1,
              "#f0f921"
             ]
            ],
            "type": "heatmap"
           }
          ],
          "heatmapgl": [
           {
            "colorbar": {
             "outlinewidth": 0,
             "ticks": ""
            },
            "colorscale": [
             [
              0,
              "#0d0887"
             ],
             [
              0.1111111111111111,
              "#46039f"
             ],
             [
              0.2222222222222222,
              "#7201a8"
             ],
             [
              0.3333333333333333,
              "#9c179e"
             ],
             [
              0.4444444444444444,
              "#bd3786"
             ],
             [
              0.5555555555555556,
              "#d8576b"
             ],
             [
              0.6666666666666666,
              "#ed7953"
             ],
             [
              0.7777777777777778,
              "#fb9f3a"
             ],
             [
              0.8888888888888888,
              "#fdca26"
             ],
             [
              1,
              "#f0f921"
             ]
            ],
            "type": "heatmapgl"
           }
          ],
          "histogram": [
           {
            "marker": {
             "pattern": {
              "fillmode": "overlay",
              "size": 10,
              "solidity": 0.2
             }
            },
            "type": "histogram"
           }
          ],
          "histogram2d": [
           {
            "colorbar": {
             "outlinewidth": 0,
             "ticks": ""
            },
            "colorscale": [
             [
              0,
              "#0d0887"
             ],
             [
              0.1111111111111111,
              "#46039f"
             ],
             [
              0.2222222222222222,
              "#7201a8"
             ],
             [
              0.3333333333333333,
              "#9c179e"
             ],
             [
              0.4444444444444444,
              "#bd3786"
             ],
             [
              0.5555555555555556,
              "#d8576b"
             ],
             [
              0.6666666666666666,
              "#ed7953"
             ],
             [
              0.7777777777777778,
              "#fb9f3a"
             ],
             [
              0.8888888888888888,
              "#fdca26"
             ],
             [
              1,
              "#f0f921"
             ]
            ],
            "type": "histogram2d"
           }
          ],
          "histogram2dcontour": [
           {
            "colorbar": {
             "outlinewidth": 0,
             "ticks": ""
            },
            "colorscale": [
             [
              0,
              "#0d0887"
             ],
             [
              0.1111111111111111,
              "#46039f"
             ],
             [
              0.2222222222222222,
              "#7201a8"
             ],
             [
              0.3333333333333333,
              "#9c179e"
             ],
             [
              0.4444444444444444,
              "#bd3786"
             ],
             [
              0.5555555555555556,
              "#d8576b"
             ],
             [
              0.6666666666666666,
              "#ed7953"
             ],
             [
              0.7777777777777778,
              "#fb9f3a"
             ],
             [
              0.8888888888888888,
              "#fdca26"
             ],
             [
              1,
              "#f0f921"
             ]
            ],
            "type": "histogram2dcontour"
           }
          ],
          "mesh3d": [
           {
            "colorbar": {
             "outlinewidth": 0,
             "ticks": ""
            },
            "type": "mesh3d"
           }
          ],
          "parcoords": [
           {
            "line": {
             "colorbar": {
              "outlinewidth": 0,
              "ticks": ""
             }
            },
            "type": "parcoords"
           }
          ],
          "pie": [
           {
            "automargin": true,
            "type": "pie"
           }
          ],
          "scatter": [
           {
            "fillpattern": {
             "fillmode": "overlay",
             "size": 10,
             "solidity": 0.2
            },
            "type": "scatter"
           }
          ],
          "scatter3d": [
           {
            "line": {
             "colorbar": {
              "outlinewidth": 0,
              "ticks": ""
             }
            },
            "marker": {
             "colorbar": {
              "outlinewidth": 0,
              "ticks": ""
             }
            },
            "type": "scatter3d"
           }
          ],
          "scattercarpet": [
           {
            "marker": {
             "colorbar": {
              "outlinewidth": 0,
              "ticks": ""
             }
            },
            "type": "scattercarpet"
           }
          ],
          "scattergeo": [
           {
            "marker": {
             "colorbar": {
              "outlinewidth": 0,
              "ticks": ""
             }
            },
            "type": "scattergeo"
           }
          ],
          "scattergl": [
           {
            "marker": {
             "colorbar": {
              "outlinewidth": 0,
              "ticks": ""
             }
            },
            "type": "scattergl"
           }
          ],
          "scattermapbox": [
           {
            "marker": {
             "colorbar": {
              "outlinewidth": 0,
              "ticks": ""
             }
            },
            "type": "scattermapbox"
           }
          ],
          "scatterpolar": [
           {
            "marker": {
             "colorbar": {
              "outlinewidth": 0,
              "ticks": ""
             }
            },
            "type": "scatterpolar"
           }
          ],
          "scatterpolargl": [
           {
            "marker": {
             "colorbar": {
              "outlinewidth": 0,
              "ticks": ""
             }
            },
            "type": "scatterpolargl"
           }
          ],
          "scatterternary": [
           {
            "marker": {
             "colorbar": {
              "outlinewidth": 0,
              "ticks": ""
             }
            },
            "type": "scatterternary"
           }
          ],
          "surface": [
           {
            "colorbar": {
             "outlinewidth": 0,
             "ticks": ""
            },
            "colorscale": [
             [
              0,
              "#0d0887"
             ],
             [
              0.1111111111111111,
              "#46039f"
             ],
             [
              0.2222222222222222,
              "#7201a8"
             ],
             [
              0.3333333333333333,
              "#9c179e"
             ],
             [
              0.4444444444444444,
              "#bd3786"
             ],
             [
              0.5555555555555556,
              "#d8576b"
             ],
             [
              0.6666666666666666,
              "#ed7953"
             ],
             [
              0.7777777777777778,
              "#fb9f3a"
             ],
             [
              0.8888888888888888,
              "#fdca26"
             ],
             [
              1,
              "#f0f921"
             ]
            ],
            "type": "surface"
           }
          ],
          "table": [
           {
            "cells": {
             "fill": {
              "color": "#EBF0F8"
             },
             "line": {
              "color": "white"
             }
            },
            "header": {
             "fill": {
              "color": "#C8D4E3"
             },
             "line": {
              "color": "white"
             }
            },
            "type": "table"
           }
          ]
         },
         "layout": {
          "annotationdefaults": {
           "arrowcolor": "#2a3f5f",
           "arrowhead": 0,
           "arrowwidth": 1
          },
          "autotypenumbers": "strict",
          "coloraxis": {
           "colorbar": {
            "outlinewidth": 0,
            "ticks": ""
           }
          },
          "colorscale": {
           "diverging": [
            [
             0,
             "#8e0152"
            ],
            [
             0.1,
             "#c51b7d"
            ],
            [
             0.2,
             "#de77ae"
            ],
            [
             0.3,
             "#f1b6da"
            ],
            [
             0.4,
             "#fde0ef"
            ],
            [
             0.5,
             "#f7f7f7"
            ],
            [
             0.6,
             "#e6f5d0"
            ],
            [
             0.7,
             "#b8e186"
            ],
            [
             0.8,
             "#7fbc41"
            ],
            [
             0.9,
             "#4d9221"
            ],
            [
             1,
             "#276419"
            ]
           ],
           "sequential": [
            [
             0,
             "#0d0887"
            ],
            [
             0.1111111111111111,
             "#46039f"
            ],
            [
             0.2222222222222222,
             "#7201a8"
            ],
            [
             0.3333333333333333,
             "#9c179e"
            ],
            [
             0.4444444444444444,
             "#bd3786"
            ],
            [
             0.5555555555555556,
             "#d8576b"
            ],
            [
             0.6666666666666666,
             "#ed7953"
            ],
            [
             0.7777777777777778,
             "#fb9f3a"
            ],
            [
             0.8888888888888888,
             "#fdca26"
            ],
            [
             1,
             "#f0f921"
            ]
           ],
           "sequentialminus": [
            [
             0,
             "#0d0887"
            ],
            [
             0.1111111111111111,
             "#46039f"
            ],
            [
             0.2222222222222222,
             "#7201a8"
            ],
            [
             0.3333333333333333,
             "#9c179e"
            ],
            [
             0.4444444444444444,
             "#bd3786"
            ],
            [
             0.5555555555555556,
             "#d8576b"
            ],
            [
             0.6666666666666666,
             "#ed7953"
            ],
            [
             0.7777777777777778,
             "#fb9f3a"
            ],
            [
             0.8888888888888888,
             "#fdca26"
            ],
            [
             1,
             "#f0f921"
            ]
           ]
          },
          "colorway": [
           "#636efa",
           "#EF553B",
           "#00cc96",
           "#ab63fa",
           "#FFA15A",
           "#19d3f3",
           "#FF6692",
           "#B6E880",
           "#FF97FF",
           "#FECB52"
          ],
          "font": {
           "color": "#2a3f5f"
          },
          "geo": {
           "bgcolor": "white",
           "lakecolor": "white",
           "landcolor": "#E5ECF6",
           "showlakes": true,
           "showland": true,
           "subunitcolor": "white"
          },
          "hoverlabel": {
           "align": "left"
          },
          "hovermode": "closest",
          "mapbox": {
           "style": "light"
          },
          "paper_bgcolor": "white",
          "plot_bgcolor": "#E5ECF6",
          "polar": {
           "angularaxis": {
            "gridcolor": "white",
            "linecolor": "white",
            "ticks": ""
           },
           "bgcolor": "#E5ECF6",
           "radialaxis": {
            "gridcolor": "white",
            "linecolor": "white",
            "ticks": ""
           }
          },
          "scene": {
           "xaxis": {
            "backgroundcolor": "#E5ECF6",
            "gridcolor": "white",
            "gridwidth": 2,
            "linecolor": "white",
            "showbackground": true,
            "ticks": "",
            "zerolinecolor": "white"
           },
           "yaxis": {
            "backgroundcolor": "#E5ECF6",
            "gridcolor": "white",
            "gridwidth": 2,
            "linecolor": "white",
            "showbackground": true,
            "ticks": "",
            "zerolinecolor": "white"
           },
           "zaxis": {
            "backgroundcolor": "#E5ECF6",
            "gridcolor": "white",
            "gridwidth": 2,
            "linecolor": "white",
            "showbackground": true,
            "ticks": "",
            "zerolinecolor": "white"
           }
          },
          "shapedefaults": {
           "line": {
            "color": "#2a3f5f"
           }
          },
          "ternary": {
           "aaxis": {
            "gridcolor": "white",
            "linecolor": "white",
            "ticks": ""
           },
           "baxis": {
            "gridcolor": "white",
            "linecolor": "white",
            "ticks": ""
           },
           "bgcolor": "#E5ECF6",
           "caxis": {
            "gridcolor": "white",
            "linecolor": "white",
            "ticks": ""
           }
          },
          "title": {
           "x": 0.05
          },
          "xaxis": {
           "automargin": true,
           "gridcolor": "white",
           "linecolor": "white",
           "ticks": "",
           "title": {
            "standoff": 15
           },
           "zerolinecolor": "white",
           "zerolinewidth": 2
          },
          "yaxis": {
           "automargin": true,
           "gridcolor": "white",
           "linecolor": "white",
           "ticks": "",
           "title": {
            "standoff": 15
           },
           "zerolinecolor": "white",
           "zerolinewidth": 2
          }
         }
        },
        "width": 1200,
        "xaxis": {
         "anchor": "y",
         "domain": [
          0,
          1
         ],
         "title": {
          "text": "x"
         }
        },
        "yaxis": {
         "anchor": "x",
         "domain": [
          0,
          1
         ],
         "title": {
          "text": "y"
         }
        }
       }
      },
      "text/html": [
       "<div>                            <div id=\"fe12ab17-7289-490f-a8cf-5195ada33d6a\" class=\"plotly-graph-div\" style=\"height:1600px; width:1200px;\"></div>            <script type=\"text/javascript\">                require([\"plotly\"], function(Plotly) {                    window.PLOTLYENV=window.PLOTLYENV || {};                                    if (document.getElementById(\"fe12ab17-7289-490f-a8cf-5195ada33d6a\")) {                    Plotly.newPlot(                        \"fe12ab17-7289-490f-a8cf-5195ada33d6a\",                        [{\"customdata\":[[\"Surgery\"],[\"Companies\"],[\"Stakeholders\"],[\"Grammar\"],[\"Writing\"],[\"Interviews\"],[\"Buildings\"],[\"Epilepsy\"],[\"Regulators\"],[\"Sustainability\"],[\"Business\"],[\"Industries\"],[\"Ethics\"],[\"Arguments\"],[\"Sociology\"],[\"Uncertainty\"],[\"Statistics\"],[\"Conferences\"],[\"Regulation\"]],\"hovertemplate\":\"cluster=3<br>x=%{x}<br>y=%{y}<br>words=%{customdata[0]}<extra></extra>\",\"legendgroup\":\"3\",\"marker\":{\"color\":\"#636efa\",\"symbol\":\"circle\",\"size\":12},\"mode\":\"markers+text\",\"name\":\"3\",\"orientation\":\"v\",\"showlegend\":true,\"text\":[\"Surgery\",\"Companies\",\"Stakeholders\",\"Grammar\",\"Writing\",\"Interviews\",\"Buildings\",\"Epilepsy\",\"Regulators\",\"Sustainability\",\"Business\",\"Industries\",\"Ethics\",\"Arguments\",\"Sociology\",\"Uncertainty\",\"Statistics\",\"Conferences\",\"Regulation\"],\"x\":[-1.4298661219160396,-0.6062454983010988,-0.6573844607648431,-0.44775246978794886,-0.8680428499862132,-1.113809513096844,-0.9517517028135647,-1.171550412071967,-0.5965948459470317,-0.7531303287546532,-0.7814080692239408,-1.3307854107717894,-0.9959611882508502,-0.8307945527313286,-1.1249593163707488,-0.557754368785198,-1.1432612881790778,-0.8773247481718028,-0.683954434740392],\"xaxis\":\"x\",\"y\":[0.2825057248555559,-0.06020681195582624,-0.5136006264624257,-0.240554827842184,-0.014604062352404825,-0.48638966152129365,0.03305926542749664,0.10895925484503376,-0.891750197509659,-0.2345833955229109,0.06331631674962276,0.07561873276301259,-0.7275518397883902,-0.3327645928136714,-0.277149500451199,-0.3516875523343471,-0.23728772031368942,0.08782663912124974,-0.42278768846838316],\"yaxis\":\"y\",\"type\":\"scatter\",\"textfont\":{\"size\":12},\"textposition\":\"bottom center\"},{\"customdata\":[[\"Neurons\"],[\"Orchestration\"],[\"Databases\"],[\"Regression\"],[\"Robustness\"],[\"Framework\"],[\"Deployment\"],[\"Middleware\"],[\"Encoding\"],[\"Visualization\"],[\"Automation\"],[\"Servers\"],[\"Optimization\"],[\"Tools\"],[\"Software\"],[\"Transforms\"],[\"Collaboration\"]],\"hovertemplate\":\"cluster=0<br>x=%{x}<br>y=%{y}<br>words=%{customdata[0]}<extra></extra>\",\"legendgroup\":\"0\",\"marker\":{\"color\":\"#EF553B\",\"symbol\":\"circle\",\"size\":12},\"mode\":\"markers+text\",\"name\":\"0\",\"orientation\":\"v\",\"showlegend\":true,\"text\":[\"Neurons\",\"Orchestration\",\"Databases\",\"Regression\",\"Robustness\",\"Framework\",\"Deployment\",\"Middleware\",\"Encoding\",\"Visualization\",\"Automation\",\"Servers\",\"Optimization\",\"Tools\",\"Software\",\"Transforms\",\"Collaboration\"],\"x\":[-0.11312082435318652,0.7102157691523534,0.02915076709975798,-0.08636295339214474,0.7303715298144267,0.6494468893909775,0.3304165345037536,1.0067910786783165,0.6928194712422258,0.44548800353381357,-0.0482517090376715,0.6357569672372491,0.5980271321439027,-0.035128249714133336,0.4614813757466221,-0.10731242115894418,0.06677047981815046],\"xaxis\":\"x\",\"y\":[0.9535432080863476,0.814788026522343,1.1636070353510768,0.8765996728268496,0.691305005786487,0.6115920065315298,0.8820058230742441,1.6105322716345305,1.3982048097231246,1.4673442216150745,1.2560390856716728,1.008004476603257,1.2423530147632642,1.0398125632517854,1.055433851473647,1.6932646452387057,0.7389167590043784],\"yaxis\":\"y\",\"type\":\"scatter\",\"textfont\":{\"size\":12},\"textposition\":\"bottom center\"},{\"customdata\":[[\"MOO\"],[\"security\"],[\"RAN\"],[\"Docker\"],[\"IoT\"],[\"Serverless\"],[\"GLR\"],[\"model\"],[\"monitoring\"],[\"AI\"],[\"SM\"],[\"Agent\"],[\"Bibliographies\"],[\"ethics\"],[\"SLR\"],[\"Privacy\"],[\"management\"],[\"development\"],[\"Containerization\"],[\"fairness\"],[\"MCDA\"],[\"5G\"],[\"survey\"],[\"Internet\"],[\"packaging\"],[\"Focusing\"],[\"Transformers\"],[\"experimentation\"],[\"sustainability\"],[\"data\"],[\"important\"],[\"models\"],[\"LSTM\"],[\"Edge\"],[\"diversity\"],[\"CPS\"],[\"ML\"]],\"hovertemplate\":\"cluster=1<br>x=%{x}<br>y=%{y}<br>words=%{customdata[0]}<extra></extra>\",\"legendgroup\":\"1\",\"marker\":{\"color\":\"#00cc96\",\"symbol\":\"circle\",\"size\":12},\"mode\":\"markers+text\",\"name\":\"1\",\"orientation\":\"v\",\"showlegend\":true,\"text\":[\"MOO\",\"security\",\"RAN\",\"Docker\",\"IoT\",\"Serverless\",\"GLR\",\"model\",\"monitoring\",\"AI\",\"SM\",\"Agent\",\"Bibliographies\",\"ethics\",\"SLR\",\"Privacy\",\"management\",\"development\",\"Containerization\",\"fairness\",\"MCDA\",\"5G\",\"survey\",\"Internet\",\"packaging\",\"Focusing\",\"Transformers\",\"experimentation\",\"sustainability\",\"data\",\"important\",\"models\",\"LSTM\",\"Edge\",\"diversity\",\"CPS\",\"ML\"],\"x\":[0.3739903043225653,0.4476782788529538,0.6788722613597261,-0.11113593717097382,0.3558563664683389,0.3144406938176679,0.17920505698239905,0.43992352481514574,0.2502821560527241,0.5433930296610281,0.24565016356051694,-0.11303640577759806,-0.008604318024270162,-0.2246584671154742,0.46358732547945697,-0.21538063910322153,0.3339421335680838,0.2861266239812983,-0.11232272047150121,-0.004936124350785358,-0.184992879635798,0.25745001911843035,-0.33187526884062574,0.1369597021637849,-0.029335731451265695,-0.183801050020916,-0.08672348674011196,0.4791723652341709,0.05651633351232114,0.553733632365054,0.14136077914015846,0.409737511994988,-0.23333239518705484,0.04500204873850951,0.14610779395997633,-0.057773817465095516,0.044386749415543596],\"xaxis\":\"x\",\"y\":[-0.9977339752630023,-0.8083391840074413,-0.8932416898842884,-1.2410249124260107,-0.36634293593362843,-0.29777439405024125,-0.811631449027828,-1.0170888247836463,-0.6042132225096873,-0.5565275177187093,-0.37778254184800736,-0.14907754360818512,-0.35968110049948715,-1.3560464289006848,-0.7799391372903052,-0.31825272719231573,-0.6734546207710863,-0.7291540545703912,-0.15152641514686435,-1.375537793753567,-0.6216326208784919,-0.573993925062378,-1.0140533811162695,-0.6177095880700813,-0.4422511561522251,-0.5540033387240036,-0.6311872104134589,-0.6963486867161425,-1.0877976665541267,-0.42231594541015843,-0.5970972049697083,-0.7592494145563767,-0.34571655696612325,-0.32517856421015684,-1.2042070231221929,-0.9039553355657848,-0.6999151646611872],\"yaxis\":\"y\",\"type\":\"scatter\",\"textfont\":{\"size\":12},\"textposition\":\"bottom center\"},{\"customdata\":[[\"Architecture\"],[\"Production\"],[\"Planets\"],[\"Organizations\"],[\"Prototypes\"],[\"Training\"],[\"Pandemics\"],[\"Packaging\"],[\"Germanium\"],[\"Pipelines\"],[\"Reliability\"],[\"Systematics\"],[\"Libraries\"],[\"Sensors\"],[\"Forecasting\"],[\"Measurement\"],[\"Logistics\"],[\"Costs\"],[\"Testing\"],[\"Semiotics\"],[\"Fasteners\"],[\"Publishing\"],[\"Codes\"],[\"Benchmark\"],[\"Convergence\"],[\"Manuals\"],[\"Fluids\"],[\"Timing\"],[\"Monitoring\"]],\"hovertemplate\":\"cluster=2<br>x=%{x}<br>y=%{y}<br>words=%{customdata[0]}<extra></extra>\",\"legendgroup\":\"2\",\"marker\":{\"color\":\"#ab63fa\",\"symbol\":\"circle\",\"size\":12},\"mode\":\"markers+text\",\"name\":\"2\",\"orientation\":\"v\",\"showlegend\":true,\"text\":[\"Architecture\",\"Production\",\"Planets\",\"Organizations\",\"Prototypes\",\"Training\",\"Pandemics\",\"Packaging\",\"Germanium\",\"Pipelines\",\"Reliability\",\"Systematics\",\"Libraries\",\"Sensors\",\"Forecasting\",\"Measurement\",\"Logistics\",\"Costs\",\"Testing\",\"Semiotics\",\"Fasteners\",\"Publishing\",\"Codes\",\"Benchmark\",\"Convergence\",\"Manuals\",\"Fluids\",\"Timing\",\"Monitoring\"],\"x\":[-0.12132848006613135,-0.5264050610076135,-0.0472113915652379,-0.1053905752012381,-0.2772242457554094,-0.7091197742382237,-0.7930539223028539,-1.0789144538127158,-0.10973547674377378,-0.8051158191245225,-0.09465950085234165,-0.10953825017893036,-0.6173194389841807,-0.632880435008057,-0.7918670256439553,-0.596457164645053,-0.6315138589096119,-0.5704162821104191,-0.5966683436297637,-0.2034314875640985,-1.0759719345426015,-0.7336856665539776,-0.23071957324756673,-0.18584416977904322,-0.06865676345420313,-0.19990857144710222,-0.6171619688687051,-0.5694789000556283,-0.3012176732450709],\"xaxis\":\"x\",\"y\":[0.4754962570512933,0.37444691659345086,0.30906716865672385,0.05182423795296718,0.3837642184252253,0.2514786717223652,0.2719897548264553,0.5758582121425552,0.27399646824377694,0.7477109685484142,0.4896406300948984,0.10352010396943456,0.3121239483008028,1.099867096877922,0.2894878143996301,0.8693252845995295,0.5211348211173921,0.23905872439634937,0.414534267912493,-0.09993473856607524,0.8979302476383129,0.25244566643906585,0.045810584658512093,0.17585766541779121,0.2003623259104348,0.4244202439960192,0.9114472267142956,0.17166144638673303,0.2722849933520726],\"yaxis\":\"y\",\"type\":\"scatter\",\"textfont\":{\"size\":12},\"textposition\":\"bottom center\"},{\"customdata\":[[\"Cloud\"],[\"dataset\"],[\"deploying\"],[\"implementation\"],[\"metadata\"],[\"integration\"],[\"Matlab\"],[\"Azure\"],[\"versioning\"],[\"deployment\"],[\"Autonomic\"],[\"agile\"],[\"automation\"],[\"bots\"],[\"Torque\"],[\"robustness\"],[\"DevOps\"],[\"SDLC\"]],\"hovertemplate\":\"cluster=4<br>x=%{x}<br>y=%{y}<br>words=%{customdata[0]}<extra></extra>\",\"legendgroup\":\"4\",\"marker\":{\"color\":\"#FFA15A\",\"symbol\":\"circle\",\"size\":12},\"mode\":\"markers+text\",\"name\":\"4\",\"orientation\":\"v\",\"showlegend\":true,\"text\":[\"Cloud\",\"dataset\",\"deploying\",\"implementation\",\"metadata\",\"integration\",\"Matlab\",\"Azure\",\"versioning\",\"deployment\",\"Autonomic\",\"agile\",\"automation\",\"bots\",\"Torque\",\"robustness\",\"DevOps\",\"SDLC\"],\"x\":[0.7522919331007353,0.8496754471774409,0.9952893384364261,0.7308319103109684,2.0486734288756785,1.0142737507356696,0.9962142054275238,0.9980390213625172,2.2790432196046355,1.119446445287668,0.7504559945242043,1.0985791608060813,1.0442394405779292,0.8692201799328917,0.4507614321932879,1.0599768720734974,0.8147655576233496,1.1994249972372342],\"xaxis\":\"x\",\"y\":[0.11502134421523591,-0.06685886091665094,-0.34891241949918295,-0.4850642601592749,0.48967849751897524,-0.16132401854851772,0.5144561449807058,-0.23786510558451304,0.3790081614402531,-0.411664433988148,0.5081610220219676,-0.31430922045693827,0.33456916869692604,-0.39046033576849215,0.19634411878997715,-0.6800401470185294,-0.07625810752197666,0.32617654276968056],\"yaxis\":\"y\",\"type\":\"scatter\",\"textfont\":{\"size\":12},\"textposition\":\"bottom center\"}],                        {\"template\":{\"data\":{\"histogram2dcontour\":[{\"type\":\"histogram2dcontour\",\"colorbar\":{\"outlinewidth\":0,\"ticks\":\"\"},\"colorscale\":[[0.0,\"#0d0887\"],[0.1111111111111111,\"#46039f\"],[0.2222222222222222,\"#7201a8\"],[0.3333333333333333,\"#9c179e\"],[0.4444444444444444,\"#bd3786\"],[0.5555555555555556,\"#d8576b\"],[0.6666666666666666,\"#ed7953\"],[0.7777777777777778,\"#fb9f3a\"],[0.8888888888888888,\"#fdca26\"],[1.0,\"#f0f921\"]]}],\"choropleth\":[{\"type\":\"choropleth\",\"colorbar\":{\"outlinewidth\":0,\"ticks\":\"\"}}],\"histogram2d\":[{\"type\":\"histogram2d\",\"colorbar\":{\"outlinewidth\":0,\"ticks\":\"\"},\"colorscale\":[[0.0,\"#0d0887\"],[0.1111111111111111,\"#46039f\"],[0.2222222222222222,\"#7201a8\"],[0.3333333333333333,\"#9c179e\"],[0.4444444444444444,\"#bd3786\"],[0.5555555555555556,\"#d8576b\"],[0.6666666666666666,\"#ed7953\"],[0.7777777777777778,\"#fb9f3a\"],[0.8888888888888888,\"#fdca26\"],[1.0,\"#f0f921\"]]}],\"heatmap\":[{\"type\":\"heatmap\",\"colorbar\":{\"outlinewidth\":0,\"ticks\":\"\"},\"colorscale\":[[0.0,\"#0d0887\"],[0.1111111111111111,\"#46039f\"],[0.2222222222222222,\"#7201a8\"],[0.3333333333333333,\"#9c179e\"],[0.4444444444444444,\"#bd3786\"],[0.5555555555555556,\"#d8576b\"],[0.6666666666666666,\"#ed7953\"],[0.7777777777777778,\"#fb9f3a\"],[0.8888888888888888,\"#fdca26\"],[1.0,\"#f0f921\"]]}],\"heatmapgl\":[{\"type\":\"heatmapgl\",\"colorbar\":{\"outlinewidth\":0,\"ticks\":\"\"},\"colorscale\":[[0.0,\"#0d0887\"],[0.1111111111111111,\"#46039f\"],[0.2222222222222222,\"#7201a8\"],[0.3333333333333333,\"#9c179e\"],[0.4444444444444444,\"#bd3786\"],[0.5555555555555556,\"#d8576b\"],[0.6666666666666666,\"#ed7953\"],[0.7777777777777778,\"#fb9f3a\"],[0.8888888888888888,\"#fdca26\"],[1.0,\"#f0f921\"]]}],\"contourcarpet\":[{\"type\":\"contourcarpet\",\"colorbar\":{\"outlinewidth\":0,\"ticks\":\"\"}}],\"contour\":[{\"type\":\"contour\",\"colorbar\":{\"outlinewidth\":0,\"ticks\":\"\"},\"colorscale\":[[0.0,\"#0d0887\"],[0.1111111111111111,\"#46039f\"],[0.2222222222222222,\"#7201a8\"],[0.3333333333333333,\"#9c179e\"],[0.4444444444444444,\"#bd3786\"],[0.5555555555555556,\"#d8576b\"],[0.6666666666666666,\"#ed7953\"],[0.7777777777777778,\"#fb9f3a\"],[0.8888888888888888,\"#fdca26\"],[1.0,\"#f0f921\"]]}],\"surface\":[{\"type\":\"surface\",\"colorbar\":{\"outlinewidth\":0,\"ticks\":\"\"},\"colorscale\":[[0.0,\"#0d0887\"],[0.1111111111111111,\"#46039f\"],[0.2222222222222222,\"#7201a8\"],[0.3333333333333333,\"#9c179e\"],[0.4444444444444444,\"#bd3786\"],[0.5555555555555556,\"#d8576b\"],[0.6666666666666666,\"#ed7953\"],[0.7777777777777778,\"#fb9f3a\"],[0.8888888888888888,\"#fdca26\"],[1.0,\"#f0f921\"]]}],\"mesh3d\":[{\"type\":\"mesh3d\",\"colorbar\":{\"outlinewidth\":0,\"ticks\":\"\"}}],\"scatter\":[{\"fillpattern\":{\"fillmode\":\"overlay\",\"size\":10,\"solidity\":0.2},\"type\":\"scatter\"}],\"parcoords\":[{\"type\":\"parcoords\",\"line\":{\"colorbar\":{\"outlinewidth\":0,\"ticks\":\"\"}}}],\"scatterpolargl\":[{\"type\":\"scatterpolargl\",\"marker\":{\"colorbar\":{\"outlinewidth\":0,\"ticks\":\"\"}}}],\"bar\":[{\"error_x\":{\"color\":\"#2a3f5f\"},\"error_y\":{\"color\":\"#2a3f5f\"},\"marker\":{\"line\":{\"color\":\"#E5ECF6\",\"width\":0.5},\"pattern\":{\"fillmode\":\"overlay\",\"size\":10,\"solidity\":0.2}},\"type\":\"bar\"}],\"scattergeo\":[{\"type\":\"scattergeo\",\"marker\":{\"colorbar\":{\"outlinewidth\":0,\"ticks\":\"\"}}}],\"scatterpolar\":[{\"type\":\"scatterpolar\",\"marker\":{\"colorbar\":{\"outlinewidth\":0,\"ticks\":\"\"}}}],\"histogram\":[{\"marker\":{\"pattern\":{\"fillmode\":\"overlay\",\"size\":10,\"solidity\":0.2}},\"type\":\"histogram\"}],\"scattergl\":[{\"type\":\"scattergl\",\"marker\":{\"colorbar\":{\"outlinewidth\":0,\"ticks\":\"\"}}}],\"scatter3d\":[{\"type\":\"scatter3d\",\"line\":{\"colorbar\":{\"outlinewidth\":0,\"ticks\":\"\"}},\"marker\":{\"colorbar\":{\"outlinewidth\":0,\"ticks\":\"\"}}}],\"scattermapbox\":[{\"type\":\"scattermapbox\",\"marker\":{\"colorbar\":{\"outlinewidth\":0,\"ticks\":\"\"}}}],\"scatterternary\":[{\"type\":\"scatterternary\",\"marker\":{\"colorbar\":{\"outlinewidth\":0,\"ticks\":\"\"}}}],\"scattercarpet\":[{\"type\":\"scattercarpet\",\"marker\":{\"colorbar\":{\"outlinewidth\":0,\"ticks\":\"\"}}}],\"carpet\":[{\"aaxis\":{\"endlinecolor\":\"#2a3f5f\",\"gridcolor\":\"white\",\"linecolor\":\"white\",\"minorgridcolor\":\"white\",\"startlinecolor\":\"#2a3f5f\"},\"baxis\":{\"endlinecolor\":\"#2a3f5f\",\"gridcolor\":\"white\",\"linecolor\":\"white\",\"minorgridcolor\":\"white\",\"startlinecolor\":\"#2a3f5f\"},\"type\":\"carpet\"}],\"table\":[{\"cells\":{\"fill\":{\"color\":\"#EBF0F8\"},\"line\":{\"color\":\"white\"}},\"header\":{\"fill\":{\"color\":\"#C8D4E3\"},\"line\":{\"color\":\"white\"}},\"type\":\"table\"}],\"barpolar\":[{\"marker\":{\"line\":{\"color\":\"#E5ECF6\",\"width\":0.5},\"pattern\":{\"fillmode\":\"overlay\",\"size\":10,\"solidity\":0.2}},\"type\":\"barpolar\"}],\"pie\":[{\"automargin\":true,\"type\":\"pie\"}]},\"layout\":{\"autotypenumbers\":\"strict\",\"colorway\":[\"#636efa\",\"#EF553B\",\"#00cc96\",\"#ab63fa\",\"#FFA15A\",\"#19d3f3\",\"#FF6692\",\"#B6E880\",\"#FF97FF\",\"#FECB52\"],\"font\":{\"color\":\"#2a3f5f\"},\"hovermode\":\"closest\",\"hoverlabel\":{\"align\":\"left\"},\"paper_bgcolor\":\"white\",\"plot_bgcolor\":\"#E5ECF6\",\"polar\":{\"bgcolor\":\"#E5ECF6\",\"angularaxis\":{\"gridcolor\":\"white\",\"linecolor\":\"white\",\"ticks\":\"\"},\"radialaxis\":{\"gridcolor\":\"white\",\"linecolor\":\"white\",\"ticks\":\"\"}},\"ternary\":{\"bgcolor\":\"#E5ECF6\",\"aaxis\":{\"gridcolor\":\"white\",\"linecolor\":\"white\",\"ticks\":\"\"},\"baxis\":{\"gridcolor\":\"white\",\"linecolor\":\"white\",\"ticks\":\"\"},\"caxis\":{\"gridcolor\":\"white\",\"linecolor\":\"white\",\"ticks\":\"\"}},\"coloraxis\":{\"colorbar\":{\"outlinewidth\":0,\"ticks\":\"\"}},\"colorscale\":{\"sequential\":[[0.0,\"#0d0887\"],[0.1111111111111111,\"#46039f\"],[0.2222222222222222,\"#7201a8\"],[0.3333333333333333,\"#9c179e\"],[0.4444444444444444,\"#bd3786\"],[0.5555555555555556,\"#d8576b\"],[0.6666666666666666,\"#ed7953\"],[0.7777777777777778,\"#fb9f3a\"],[0.8888888888888888,\"#fdca26\"],[1.0,\"#f0f921\"]],\"sequentialminus\":[[0.0,\"#0d0887\"],[0.1111111111111111,\"#46039f\"],[0.2222222222222222,\"#7201a8\"],[0.3333333333333333,\"#9c179e\"],[0.4444444444444444,\"#bd3786\"],[0.5555555555555556,\"#d8576b\"],[0.6666666666666666,\"#ed7953\"],[0.7777777777777778,\"#fb9f3a\"],[0.8888888888888888,\"#fdca26\"],[1.0,\"#f0f921\"]],\"diverging\":[[0,\"#8e0152\"],[0.1,\"#c51b7d\"],[0.2,\"#de77ae\"],[0.3,\"#f1b6da\"],[0.4,\"#fde0ef\"],[0.5,\"#f7f7f7\"],[0.6,\"#e6f5d0\"],[0.7,\"#b8e186\"],[0.8,\"#7fbc41\"],[0.9,\"#4d9221\"],[1,\"#276419\"]]},\"xaxis\":{\"gridcolor\":\"white\",\"linecolor\":\"white\",\"ticks\":\"\",\"title\":{\"standoff\":15},\"zerolinecolor\":\"white\",\"automargin\":true,\"zerolinewidth\":2},\"yaxis\":{\"gridcolor\":\"white\",\"linecolor\":\"white\",\"ticks\":\"\",\"title\":{\"standoff\":15},\"zerolinecolor\":\"white\",\"automargin\":true,\"zerolinewidth\":2},\"scene\":{\"xaxis\":{\"backgroundcolor\":\"#E5ECF6\",\"gridcolor\":\"white\",\"linecolor\":\"white\",\"showbackground\":true,\"ticks\":\"\",\"zerolinecolor\":\"white\",\"gridwidth\":2},\"yaxis\":{\"backgroundcolor\":\"#E5ECF6\",\"gridcolor\":\"white\",\"linecolor\":\"white\",\"showbackground\":true,\"ticks\":\"\",\"zerolinecolor\":\"white\",\"gridwidth\":2},\"zaxis\":{\"backgroundcolor\":\"#E5ECF6\",\"gridcolor\":\"white\",\"linecolor\":\"white\",\"showbackground\":true,\"ticks\":\"\",\"zerolinecolor\":\"white\",\"gridwidth\":2}},\"shapedefaults\":{\"line\":{\"color\":\"#2a3f5f\"}},\"annotationdefaults\":{\"arrowcolor\":\"#2a3f5f\",\"arrowhead\":0,\"arrowwidth\":1},\"geo\":{\"bgcolor\":\"white\",\"landcolor\":\"#E5ECF6\",\"subunitcolor\":\"white\",\"showland\":true,\"showlakes\":true,\"lakecolor\":\"white\"},\"title\":{\"x\":0.05},\"mapbox\":{\"style\":\"light\"}}},\"xaxis\":{\"anchor\":\"y\",\"domain\":[0.0,1.0],\"title\":{\"text\":\"x\"}},\"yaxis\":{\"anchor\":\"x\",\"domain\":[0.0,1.0],\"title\":{\"text\":\"y\"}},\"legend\":{\"title\":{\"text\":\"cluster\"},\"tracegroupgap\":0,\"font\":{\"size\":12},\"x\":0.9,\"y\":0.98},\"margin\":{\"t\":60},\"height\":1600,\"width\":1200},                        {\"responsive\": true}                    ).then(function(){\n",
       "                            \n",
       "var gd = document.getElementById('fe12ab17-7289-490f-a8cf-5195ada33d6a');\n",
       "var x = new MutationObserver(function (mutations, observer) {{\n",
       "        var display = window.getComputedStyle(gd).display;\n",
       "        if (!display || display === 'none') {{\n",
       "            console.log([gd, 'removed!']);\n",
       "            Plotly.purge(gd);\n",
       "            observer.disconnect();\n",
       "        }}\n",
       "}});\n",
       "\n",
       "// Listen for the removal of the full notebook cells\n",
       "var notebookContainer = gd.closest('#notebook-container');\n",
       "if (notebookContainer) {{\n",
       "    x.observe(notebookContainer, {childList: true});\n",
       "}}\n",
       "\n",
       "// Listen for the clearing of the current output cell\n",
       "var outputEl = gd.closest('.output');\n",
       "if (outputEl) {{\n",
       "    x.observe(outputEl, {childList: true});\n",
       "}}\n",
       "\n",
       "                        })                };                });            </script>        </div>"
      ]
     },
     "metadata": {},
     "output_type": "display_data"
    }
   ],
   "source": [
    "display_size = 12\n",
    "\n",
    "fig = px.scatter(\n",
    "    pca_df,\n",
    "    x=\"x\",\n",
    "    y=\"y\",\n",
    "    color=\"cluster\",\n",
    "    #                  size='petal_length',\n",
    "    hover_data=['words'],\n",
    "    text=pca_df['words'],\n",
    "    width=1200,\n",
    "    height=1600)\n",
    "\n",
    "# fig.update_layout(height=1600, width=1600, title_text='Vector Clusters')\n",
    "fig.update_traces(textposition='bottom center',\n",
    "                  textfont_size=display_size,\n",
    "                  marker={'size': display_size},\n",
    "                 )\n",
    "\n",
    "fig.update_layout(\n",
    "    legend=dict(\n",
    "        x=0.9,\n",
    "        y=0.98,\n",
    "        font=dict(\n",
    "            size=display_size,)\n",
    "    )\n",
    ")\n",
    "\n",
    "fig.show()"
   ]
  },
  {
   "cell_type": "markdown",
   "metadata": {},
   "source": [
    "## Conclusion\n",
    "\n",
    "To lay base for the further work on the domain research, I chose 5 clusters and wanted to see if those clusters align with my assumptions on my initially designed domain tables. \n",
    "\n",
    "We can see the following, and already associate umbrella terms for the clusters:\n",
    "\n",
    "````\n",
    "Cluster 0 - BUSINESS:\n",
    "['Companies' 'Industries' 'Business' 'Uncertainty' 'Conferences' 'Ethics'\n",
    " 'Buildings' 'Sociology' 'Surgery' 'Interviews']\n",
    "Cluster 1 - OPS:\n",
    "['DevOps' 'robustness' 'Autonomic' 'Matlab' 'implementation' 'Azure'\n",
    " 'bots' 'SDLC' 'agile' 'deploying']\n",
    "Cluster 2 - DATA:\n",
    "['Training' 'Logistics' 'Codes' 'Publishing' 'Timing' 'Pipelines'\n",
    " 'Forecasting' 'Measurement' 'Fasteners' 'Organizations']\n",
    "Cluster 3 - ML:\n",
    "['MCDA' 'AI' 'Docker' 'management' 'monitoring' 'important' 'LSTM' 'SLR'\n",
    " 'MOO' 'fairness']\n",
    "Cluster 4 - DEV:\n",
    "['Automation' 'Collaboration' 'Databases' 'Orchestration' 'Framework'\n",
    " 'Optimization' 'Middleware' 'Servers' 'Deployment' 'Regression']\n",
    " \n",
    "````\n",
    "\n",
    "\n",
    "\n",
    "This indicates that the developed intuition of the first research iteration in regards to designing a reference architecture is promising.\n"
   ]
  },
  {
   "cell_type": "code",
   "execution_count": 65,
   "metadata": {
    "ExecuteTime": {
     "end_time": "2022-12-23T18:55:14.423371Z",
     "start_time": "2022-12-23T18:55:14.414427Z"
    }
   },
   "outputs": [
    {
     "name": "stdout",
     "output_type": "stream",
     "text": [
      "\n",
      "Cluster 0 - BUSINESS:\n",
      "['Sociology' 'Ethics' 'Grammar' 'Statistics' 'Regulators' 'Interviews'\n",
      " 'Arguments' 'Epilepsy' 'Business' 'Uncertainty']\n",
      "Cluster 1 - OPS:\n",
      "['Middleware' 'Software' 'Neurons' 'Encoding' 'Orchestration' 'Tools'\n",
      " 'Robustness' 'Visualization' 'Regression' 'Automation']\n",
      "Cluster 2 - DATA:\n",
      "['Packaging' 'Planets' 'Forecasting' 'Semiotics' 'Costs' 'Manuals'\n",
      " 'Organizations' 'Convergence' 'Logistics' 'Timing']\n",
      "Cluster 3 - ML:\n",
      "['Privacy' 'MCDA' 'Internet' 'RAN' 'monitoring' 'Containerization'\n",
      " 'packaging' 'security' 'AI' 'SLR']\n",
      "Cluster 4 - DEV:\n",
      "['robustness' 'Autonomic' 'versioning' 'DevOps' 'deploying' 'integration'\n",
      " 'implementation' 'bots' 'Azure' 'agile']\n",
      "\n"
     ]
    }
   ],
   "source": [
    "NR_SAMPLES = 10\n",
    "print(f'''\n",
    "Cluster 0 - BUSINESS:\\n{pca_df[pca_df.cluster == '0'].sample(n=NR_SAMPLES, random_state=RNG).words.values}\n",
    "Cluster 1 - OPS:\\n{pca_df[pca_df.cluster == '1'].sample(n=NR_SAMPLES, random_state=RNG).words.values}\n",
    "Cluster 2 - DATA:\\n{pca_df[pca_df.cluster == '2'].sample(n=NR_SAMPLES, random_state=RNG).words.values}\n",
    "Cluster 3 - ML:\\n{pca_df[pca_df.cluster == '3'].sample(n=NR_SAMPLES, random_state=RNG).words.values}\n",
    "Cluster 4 - DEV:\\n{pca_df[pca_df.cluster == '4'].sample(n=NR_SAMPLES, random_state=RNG).words.values}\n",
    "''')"
   ]
  },
  {
   "cell_type": "markdown",
   "metadata": {},
   "source": [
    "# Cluster similar words from domain facet"
   ]
  },
  {
   "cell_type": "code",
   "execution_count": 66,
   "metadata": {
    "ExecuteTime": {
     "end_time": "2022-12-23T18:55:16.013931Z",
     "start_time": "2022-12-23T18:55:14.424741Z"
    }
   },
   "outputs": [
    {
     "name": "stdout",
     "output_type": "stream",
     "text": [
      "92 92 words\n"
     ]
    },
    {
     "data": {
      "text/plain": [
       "2    36\n",
       "0    21\n",
       "1    18\n",
       "3     9\n",
       "4     8\n",
       "Name: cluster, dtype: int64"
      ]
     },
     "execution_count": 66,
     "metadata": {},
     "output_type": "execute_result"
    }
   ],
   "source": [
    "keywords_expl = df.domain.str.split(',').explode()\n",
    "listed_words = keywords_expl \n",
    "\n",
    "# print(keywords_expl)\n",
    "\n",
    "words = set(listed_words) & set(list(model.key_to_index.keys()))\n",
    "vectors = list([model.get_vector(word) for word in words])\n",
    "\n",
    "print(len(words), len(vectors), 'words')\n",
    "\n",
    "# pca = PCA(n_components=2, random_state=RNG)\n",
    "pca_transformed = pca.fit_transform(vectors)\n",
    "X_pca = pca_transformed\n",
    "\n",
    "words = pd.DataFrame(words)\n",
    "pca_df = pd.DataFrame(pca_transformed)\n",
    "pca_df = pd.merge(words, pca_df, left_index=True, right_index=True)\n",
    "pca_df.columns = ['words', 'x', 'y']\n",
    "\n",
    "# pca_df\n",
    "\n",
    "NUM_CLUSTERS = 5\n",
    "\n",
    "kmeans = cluster.KMeans(n_clusters=NUM_CLUSTERS,\n",
    "                        random_state=RNG,\n",
    "                        n_init=1000,\n",
    "                        max_iter=1000)\n",
    "kmeans.fit(X_pca)\n",
    "\n",
    "labels = kmeans.labels_\n",
    "centroids = kmeans.cluster_centers_\n",
    "\n",
    "pca_df['cluster'] = labels\n",
    "# to make clusters categorical for plotting\n",
    "pca_df.cluster = pca_df.cluster.astype(str)\n",
    "\n",
    "pca_df.cluster.value_counts()"
   ]
  },
  {
   "cell_type": "code",
   "execution_count": 69,
   "metadata": {
    "ExecuteTime": {
     "end_time": "2022-12-23T18:55:35.084986Z",
     "start_time": "2022-12-23T18:55:35.008422Z"
    }
   },
   "outputs": [
    {
     "data": {
      "application/vnd.plotly.v1+json": {
       "config": {
        "plotlyServerURL": "https://plot.ly"
       },
       "data": [
        {
         "customdata": [
          [
           "batching"
          ],
          [
           "modularization"
          ],
          [
           "scaling"
          ],
          [
           "serverless"
          ],
          [
           "integration"
          ],
          [
           "architecture"
          ],
          [
           "github"
          ],
          [
           "orchestration"
          ],
          [
           "classification"
          ],
          [
           "agile"
          ],
          [
           "threads"
          ],
          [
           "validation"
          ],
          [
           "theory"
          ],
          [
           "tool"
          ],
          [
           "tools"
          ],
          [
           "registry"
          ],
          [
           "data"
          ],
          [
           "models"
          ]
         ],
         "hovertemplate": "cluster=1<br>x=%{x}<br>y=%{y}<br>words=%{customdata[0]}<extra></extra>",
         "legendgroup": "1",
         "marker": {
          "color": "#636efa",
          "size": 12,
          "symbol": "circle"
         },
         "mode": "markers+text",
         "name": "1",
         "orientation": "v",
         "showlegend": true,
         "text": [
          "batching",
          "modularization",
          "scaling",
          "serverless",
          "integration",
          "architecture",
          "github",
          "orchestration",
          "classification",
          "agile",
          "threads",
          "validation",
          "theory",
          "tool",
          "tools",
          "registry",
          "data",
          "models"
         ],
         "textfont": {
          "size": 12
         },
         "textposition": "bottom center",
         "type": "scatter",
         "x": [
          -0.24630827973000194,
          -0.3863478407740965,
          -0.5536935940938532,
          -0.08359505092139734,
          -0.8317949257373743,
          -0.4229733004011607,
          0.35253047231154044,
          -0.27671192102990266,
          -0.23537985555225502,
          -0.27353500790805746,
          0.4356787991511651,
          -0.7756677841149747,
          -0.03434105811388017,
          -0.3298951675783983,
          -0.5315478192640669,
          0.010630978472223288,
          -0.743085301519415,
          -0.13752034259432583
         ],
         "xaxis": "x",
         "y": [
          0.6962915111031974,
          0.5582928663809643,
          0.0030340438982897023,
          0.4846184217213713,
          0.3666507181048015,
          0.4085590719113642,
          0.1920336766572387,
          0.34037124448926687,
          -0.018223670502944954,
          0.18986143505045505,
          0.3940977922443332,
          0.39655648675000243,
          -0.17176518861362886,
          0.5955816949339189,
          0.6724508558299148,
          -0.10085716327587829,
          0.39154996041438445,
          0.09155170584591493
         ],
         "yaxis": "y"
        },
        {
         "customdata": [
          [
           "cd"
          ],
          [
           "git"
          ],
          [
           "opensource"
          ],
          [
           "matlab"
          ],
          [
           "cnn"
          ],
          [
           "mysql"
          ],
          [
           "bots"
          ],
          [
           "gpu"
          ]
         ],
         "hovertemplate": "cluster=4<br>x=%{x}<br>y=%{y}<br>words=%{customdata[0]}<extra></extra>",
         "legendgroup": "4",
         "marker": {
          "color": "#EF553B",
          "size": 12,
          "symbol": "circle"
         },
         "mode": "markers+text",
         "name": "4",
         "orientation": "v",
         "showlegend": true,
         "text": [
          "cd",
          "git",
          "opensource",
          "matlab",
          "cnn",
          "mysql",
          "bots",
          "gpu"
         ],
         "textfont": {
          "size": 12
         },
         "textposition": "bottom center",
         "type": "scatter",
         "x": [
          1.5617669457335162,
          1.404565946564935,
          0.7891243096525218,
          1.9682786030137778,
          1.4838927529417094,
          1.447344959976771,
          0.7400183389866506,
          0.9726048931909839
         ],
         "xaxis": "x",
         "y": [
          0.2398687388400195,
          0.14313702985928717,
          0.8145838809946458,
          1.1513497536511281,
          0.03716733970569191,
          1.2132988496609722,
          0.9139994186820493,
          0.8982186076397387
         ],
         "yaxis": "y"
        },
        {
         "customdata": [
          [
           "testing"
          ],
          [
           "security"
          ],
          [
           "training"
          ],
          [
           "audit"
          ],
          [
           "privacy"
          ],
          [
           "cloud"
          ],
          [
           "interpretability"
          ],
          [
           "storage"
          ],
          [
           "inference"
          ],
          [
           "delivery"
          ],
          [
           "model"
          ],
          [
           "stages"
          ],
          [
           "monitoring"
          ],
          [
           "serving"
          ],
          [
           "challenges"
          ],
          [
           "distributed"
          ],
          [
           "team"
          ],
          [
           "ethics"
          ],
          [
           "infrastructure"
          ],
          [
           "deployment"
          ],
          [
           "development"
          ],
          [
           "governance"
          ],
          [
           "fairness"
          ],
          [
           "labeling"
          ],
          [
           "pipelines"
          ],
          [
           "costs"
          ],
          [
           "business"
          ],
          [
           "packaging"
          ],
          [
           "cluster"
          ],
          [
           "container"
          ],
          [
           "forecasting"
          ],
          [
           "pipeline"
          ],
          [
           "experimentation"
          ],
          [
           "sustainability"
          ],
          [
           "analysis"
          ],
          [
           "release"
          ]
         ],
         "hovertemplate": "cluster=2<br>x=%{x}<br>y=%{y}<br>words=%{customdata[0]}<extra></extra>",
         "legendgroup": "2",
         "marker": {
          "color": "#00cc96",
          "size": 12,
          "symbol": "circle"
         },
         "mode": "markers+text",
         "name": "2",
         "orientation": "v",
         "showlegend": true,
         "text": [
          "testing",
          "security",
          "training",
          "audit",
          "privacy",
          "cloud",
          "interpretability",
          "storage",
          "inference",
          "delivery",
          "model",
          "stages",
          "monitoring",
          "serving",
          "challenges",
          "distributed",
          "team",
          "ethics",
          "infrastructure",
          "deployment",
          "development",
          "governance",
          "fairness",
          "labeling",
          "pipelines",
          "costs",
          "business",
          "packaging",
          "cluster",
          "container",
          "forecasting",
          "pipeline",
          "experimentation",
          "sustainability",
          "analysis",
          "release"
         ],
         "textfont": {
          "size": 12
         },
         "textposition": "bottom center",
         "type": "scatter",
         "x": [
          -0.8116102427949872,
          -0.4932424046865396,
          -0.5373177865284495,
          -0.9839200502817699,
          -0.5442682521546915,
          -0.3339209671493365,
          -0.20891359361836534,
          -0.5589078004362694,
          -0.1329177647503463,
          -0.6509882065835287,
          -0.17072586005345122,
          -0.41108501072497466,
          -0.9940924814498105,
          -0.28738318216247905,
          -0.7588534834710216,
          -0.31159417428479264,
          -0.1784954077395605,
          -0.4888031657054797,
          -0.8636710507155614,
          -0.8609471578525222,
          -0.6308170263122924,
          -0.5435756225231859,
          -0.4619667098010066,
          -0.3244132788099708,
          -0.7845310233581793,
          -0.4886654295660116,
          -0.4908767588809097,
          -0.41193154024842693,
          -0.06840446997982919,
          -0.06157829899853288,
          -1.0427723578148334,
          -0.8077440155011502,
          -0.44160652938648315,
          -0.8000691064276376,
          -0.7457216531477562,
          -0.16351288802582806
         ],
         "xaxis": "x",
         "y": [
          -0.4181458210779293,
          -0.5551133366686755,
          -0.7661952721086016,
          -0.6186283783975257,
          -0.19325451053740514,
          -0.2559435759213257,
          -0.2249337462227468,
          -0.17594103691637666,
          -0.2693923269883579,
          -0.5041998632759025,
          -0.21902960718110392,
          -0.5001661889301439,
          -0.30109310164244735,
          -1.0214184248758758,
          -0.6247382688506192,
          -0.46855196842234903,
          -0.6363185533539453,
          -0.6726706194886928,
          -0.43826366400132266,
          -0.2859958713792216,
          -0.6093971938311272,
          -0.5161991427901357,
          -0.6671129054674414,
          -0.43413968352217525,
          -0.7298423056438873,
          -0.41441091199944724,
          -0.5331831757795156,
          -0.23510194658528966,
          -0.20857961841082223,
          -0.7102983735182123,
          -0.15977511094923502,
          -0.8584343067894643,
          -0.1695628063304733,
          -0.5850199241813625,
          -0.04165046651017112,
          -0.625285864768069
         ],
         "yaxis": "y"
        },
        {
         "customdata": [
          [
           "jenkins"
          ],
          [
           "iot"
          ],
          [
           "aws"
          ],
          [
           "shap"
          ],
          [
           "python"
          ],
          [
           "ci"
          ],
          [
           "ai"
          ],
          [
           "ann"
          ],
          [
           "ml"
          ],
          [
           "argo"
          ],
          [
           "drone"
          ],
          [
           "artefacts"
          ],
          [
           "bert"
          ],
          [
           "iam"
          ],
          [
           "ops"
          ],
          [
           "eda"
          ],
          [
           "azure"
          ],
          [
           "cm"
          ],
          [
           "DAG"
          ],
          [
           "qa"
          ],
          [
           "docker"
          ]
         ],
         "hovertemplate": "cluster=0<br>x=%{x}<br>y=%{y}<br>words=%{customdata[0]}<extra></extra>",
         "legendgroup": "0",
         "marker": {
          "color": "#ab63fa",
          "size": 12,
          "symbol": "circle"
         },
         "mode": "markers+text",
         "name": "0",
         "orientation": "v",
         "showlegend": true,
         "text": [
          "jenkins",
          "iot",
          "aws",
          "shap",
          "python",
          "ci",
          "ai",
          "ann",
          "ml",
          "argo",
          "drone",
          "artefacts",
          "bert",
          "iam",
          "ops",
          "eda",
          "azure",
          "cm",
          "DAG",
          "qa",
          "docker"
         ],
         "textfont": {
          "size": 12
         },
         "textposition": "bottom center",
         "type": "scatter",
         "x": [
          1.009494507156071,
          0.433299818195579,
          0.6778096281372946,
          0.48236357849849726,
          0.6210300987683971,
          1.804359647525355,
          1.4610157410446505,
          1.501247510690387,
          1.0017389483561343,
          0.5868204616235946,
          0.46812736265851,
          0.27656582305012134,
          1.393579728207053,
          1.66830535512659,
          0.44324251868956693,
          0.6549010793178537,
          0.7084021097777733,
          0.8229496657005158,
          0.39044646452604476,
          0.7731560452988472,
          0.650816513176599
         ],
         "xaxis": "x",
         "y": [
          -0.44360003050170216,
          -0.3819812469273897,
          -0.2936284734388776,
          -0.4860618235425176,
          -0.22501970934658455,
          -0.25332479220263393,
          -0.26965498118124737,
          -0.5791094707469402,
          -0.5096313478453525,
          -0.6202042074657602,
          -0.490182653361768,
          -0.31317597829405197,
          -0.39621167542843244,
          -0.41778388446394465,
          -0.4453501068494615,
          -0.0004991050799198704,
          -0.765780284314762,
          -0.7051420413879547,
          -0.20561046485089382,
          -0.11927551462320979,
          -0.39855674393369783
         ],
         "yaxis": "y"
        },
        {
         "customdata": [
          [
           "algorithm"
          ],
          [
           "coding"
          ],
          [
           "optimization"
          ],
          [
           "workflow"
          ],
          [
           "IDE"
          ],
          [
           "versioning"
          ],
          [
           "automation"
          ],
          [
           "dataflow"
          ],
          [
           "algorithms"
          ]
         ],
         "hovertemplate": "cluster=3<br>x=%{x}<br>y=%{y}<br>words=%{customdata[0]}<extra></extra>",
         "legendgroup": "3",
         "marker": {
          "color": "#FFA15A",
          "size": 12,
          "symbol": "circle"
         },
         "mode": "markers+text",
         "name": "3",
         "orientation": "v",
         "showlegend": true,
         "text": [
          "algorithm",
          "coding",
          "optimization",
          "workflow",
          "IDE",
          "versioning",
          "automation",
          "dataflow",
          "algorithms"
         ],
         "textfont": {
          "size": 12
         },
         "textposition": "bottom center",
         "type": "scatter",
         "x": [
          0.06364388693112372,
          -0.250059028257403,
          -0.7493137869399937,
          -1.08771918950074,
          0.017160615492590667,
          -0.3989464917121173,
          -1.0514418236978929,
          -0.45562387074640864,
          -0.37156791583126
         ],
         "xaxis": "x",
         "y": [
          1.9340150640297262,
          1.410453254940717,
          1.2641126666193607,
          1.8563719370029759,
          1.1012381766070827,
          2.049256784542052,
          1.0691798941751198,
          1.1947301754729518,
          2.1861353737380167
         ],
         "yaxis": "y"
        }
       ],
       "layout": {
        "height": 1600,
        "legend": {
         "font": {
          "size": 12
         },
         "title": {
          "text": "cluster"
         },
         "tracegroupgap": 0,
         "x": 0.9,
         "y": 0.98
        },
        "margin": {
         "t": 60
        },
        "template": {
         "data": {
          "bar": [
           {
            "error_x": {
             "color": "#2a3f5f"
            },
            "error_y": {
             "color": "#2a3f5f"
            },
            "marker": {
             "line": {
              "color": "#E5ECF6",
              "width": 0.5
             },
             "pattern": {
              "fillmode": "overlay",
              "size": 10,
              "solidity": 0.2
             }
            },
            "type": "bar"
           }
          ],
          "barpolar": [
           {
            "marker": {
             "line": {
              "color": "#E5ECF6",
              "width": 0.5
             },
             "pattern": {
              "fillmode": "overlay",
              "size": 10,
              "solidity": 0.2
             }
            },
            "type": "barpolar"
           }
          ],
          "carpet": [
           {
            "aaxis": {
             "endlinecolor": "#2a3f5f",
             "gridcolor": "white",
             "linecolor": "white",
             "minorgridcolor": "white",
             "startlinecolor": "#2a3f5f"
            },
            "baxis": {
             "endlinecolor": "#2a3f5f",
             "gridcolor": "white",
             "linecolor": "white",
             "minorgridcolor": "white",
             "startlinecolor": "#2a3f5f"
            },
            "type": "carpet"
           }
          ],
          "choropleth": [
           {
            "colorbar": {
             "outlinewidth": 0,
             "ticks": ""
            },
            "type": "choropleth"
           }
          ],
          "contour": [
           {
            "colorbar": {
             "outlinewidth": 0,
             "ticks": ""
            },
            "colorscale": [
             [
              0,
              "#0d0887"
             ],
             [
              0.1111111111111111,
              "#46039f"
             ],
             [
              0.2222222222222222,
              "#7201a8"
             ],
             [
              0.3333333333333333,
              "#9c179e"
             ],
             [
              0.4444444444444444,
              "#bd3786"
             ],
             [
              0.5555555555555556,
              "#d8576b"
             ],
             [
              0.6666666666666666,
              "#ed7953"
             ],
             [
              0.7777777777777778,
              "#fb9f3a"
             ],
             [
              0.8888888888888888,
              "#fdca26"
             ],
             [
              1,
              "#f0f921"
             ]
            ],
            "type": "contour"
           }
          ],
          "contourcarpet": [
           {
            "colorbar": {
             "outlinewidth": 0,
             "ticks": ""
            },
            "type": "contourcarpet"
           }
          ],
          "heatmap": [
           {
            "colorbar": {
             "outlinewidth": 0,
             "ticks": ""
            },
            "colorscale": [
             [
              0,
              "#0d0887"
             ],
             [
              0.1111111111111111,
              "#46039f"
             ],
             [
              0.2222222222222222,
              "#7201a8"
             ],
             [
              0.3333333333333333,
              "#9c179e"
             ],
             [
              0.4444444444444444,
              "#bd3786"
             ],
             [
              0.5555555555555556,
              "#d8576b"
             ],
             [
              0.6666666666666666,
              "#ed7953"
             ],
             [
              0.7777777777777778,
              "#fb9f3a"
             ],
             [
              0.8888888888888888,
              "#fdca26"
             ],
             [
              1,
              "#f0f921"
             ]
            ],
            "type": "heatmap"
           }
          ],
          "heatmapgl": [
           {
            "colorbar": {
             "outlinewidth": 0,
             "ticks": ""
            },
            "colorscale": [
             [
              0,
              "#0d0887"
             ],
             [
              0.1111111111111111,
              "#46039f"
             ],
             [
              0.2222222222222222,
              "#7201a8"
             ],
             [
              0.3333333333333333,
              "#9c179e"
             ],
             [
              0.4444444444444444,
              "#bd3786"
             ],
             [
              0.5555555555555556,
              "#d8576b"
             ],
             [
              0.6666666666666666,
              "#ed7953"
             ],
             [
              0.7777777777777778,
              "#fb9f3a"
             ],
             [
              0.8888888888888888,
              "#fdca26"
             ],
             [
              1,
              "#f0f921"
             ]
            ],
            "type": "heatmapgl"
           }
          ],
          "histogram": [
           {
            "marker": {
             "pattern": {
              "fillmode": "overlay",
              "size": 10,
              "solidity": 0.2
             }
            },
            "type": "histogram"
           }
          ],
          "histogram2d": [
           {
            "colorbar": {
             "outlinewidth": 0,
             "ticks": ""
            },
            "colorscale": [
             [
              0,
              "#0d0887"
             ],
             [
              0.1111111111111111,
              "#46039f"
             ],
             [
              0.2222222222222222,
              "#7201a8"
             ],
             [
              0.3333333333333333,
              "#9c179e"
             ],
             [
              0.4444444444444444,
              "#bd3786"
             ],
             [
              0.5555555555555556,
              "#d8576b"
             ],
             [
              0.6666666666666666,
              "#ed7953"
             ],
             [
              0.7777777777777778,
              "#fb9f3a"
             ],
             [
              0.8888888888888888,
              "#fdca26"
             ],
             [
              1,
              "#f0f921"
             ]
            ],
            "type": "histogram2d"
           }
          ],
          "histogram2dcontour": [
           {
            "colorbar": {
             "outlinewidth": 0,
             "ticks": ""
            },
            "colorscale": [
             [
              0,
              "#0d0887"
             ],
             [
              0.1111111111111111,
              "#46039f"
             ],
             [
              0.2222222222222222,
              "#7201a8"
             ],
             [
              0.3333333333333333,
              "#9c179e"
             ],
             [
              0.4444444444444444,
              "#bd3786"
             ],
             [
              0.5555555555555556,
              "#d8576b"
             ],
             [
              0.6666666666666666,
              "#ed7953"
             ],
             [
              0.7777777777777778,
              "#fb9f3a"
             ],
             [
              0.8888888888888888,
              "#fdca26"
             ],
             [
              1,
              "#f0f921"
             ]
            ],
            "type": "histogram2dcontour"
           }
          ],
          "mesh3d": [
           {
            "colorbar": {
             "outlinewidth": 0,
             "ticks": ""
            },
            "type": "mesh3d"
           }
          ],
          "parcoords": [
           {
            "line": {
             "colorbar": {
              "outlinewidth": 0,
              "ticks": ""
             }
            },
            "type": "parcoords"
           }
          ],
          "pie": [
           {
            "automargin": true,
            "type": "pie"
           }
          ],
          "scatter": [
           {
            "fillpattern": {
             "fillmode": "overlay",
             "size": 10,
             "solidity": 0.2
            },
            "type": "scatter"
           }
          ],
          "scatter3d": [
           {
            "line": {
             "colorbar": {
              "outlinewidth": 0,
              "ticks": ""
             }
            },
            "marker": {
             "colorbar": {
              "outlinewidth": 0,
              "ticks": ""
             }
            },
            "type": "scatter3d"
           }
          ],
          "scattercarpet": [
           {
            "marker": {
             "colorbar": {
              "outlinewidth": 0,
              "ticks": ""
             }
            },
            "type": "scattercarpet"
           }
          ],
          "scattergeo": [
           {
            "marker": {
             "colorbar": {
              "outlinewidth": 0,
              "ticks": ""
             }
            },
            "type": "scattergeo"
           }
          ],
          "scattergl": [
           {
            "marker": {
             "colorbar": {
              "outlinewidth": 0,
              "ticks": ""
             }
            },
            "type": "scattergl"
           }
          ],
          "scattermapbox": [
           {
            "marker": {
             "colorbar": {
              "outlinewidth": 0,
              "ticks": ""
             }
            },
            "type": "scattermapbox"
           }
          ],
          "scatterpolar": [
           {
            "marker": {
             "colorbar": {
              "outlinewidth": 0,
              "ticks": ""
             }
            },
            "type": "scatterpolar"
           }
          ],
          "scatterpolargl": [
           {
            "marker": {
             "colorbar": {
              "outlinewidth": 0,
              "ticks": ""
             }
            },
            "type": "scatterpolargl"
           }
          ],
          "scatterternary": [
           {
            "marker": {
             "colorbar": {
              "outlinewidth": 0,
              "ticks": ""
             }
            },
            "type": "scatterternary"
           }
          ],
          "surface": [
           {
            "colorbar": {
             "outlinewidth": 0,
             "ticks": ""
            },
            "colorscale": [
             [
              0,
              "#0d0887"
             ],
             [
              0.1111111111111111,
              "#46039f"
             ],
             [
              0.2222222222222222,
              "#7201a8"
             ],
             [
              0.3333333333333333,
              "#9c179e"
             ],
             [
              0.4444444444444444,
              "#bd3786"
             ],
             [
              0.5555555555555556,
              "#d8576b"
             ],
             [
              0.6666666666666666,
              "#ed7953"
             ],
             [
              0.7777777777777778,
              "#fb9f3a"
             ],
             [
              0.8888888888888888,
              "#fdca26"
             ],
             [
              1,
              "#f0f921"
             ]
            ],
            "type": "surface"
           }
          ],
          "table": [
           {
            "cells": {
             "fill": {
              "color": "#EBF0F8"
             },
             "line": {
              "color": "white"
             }
            },
            "header": {
             "fill": {
              "color": "#C8D4E3"
             },
             "line": {
              "color": "white"
             }
            },
            "type": "table"
           }
          ]
         },
         "layout": {
          "annotationdefaults": {
           "arrowcolor": "#2a3f5f",
           "arrowhead": 0,
           "arrowwidth": 1
          },
          "autotypenumbers": "strict",
          "coloraxis": {
           "colorbar": {
            "outlinewidth": 0,
            "ticks": ""
           }
          },
          "colorscale": {
           "diverging": [
            [
             0,
             "#8e0152"
            ],
            [
             0.1,
             "#c51b7d"
            ],
            [
             0.2,
             "#de77ae"
            ],
            [
             0.3,
             "#f1b6da"
            ],
            [
             0.4,
             "#fde0ef"
            ],
            [
             0.5,
             "#f7f7f7"
            ],
            [
             0.6,
             "#e6f5d0"
            ],
            [
             0.7,
             "#b8e186"
            ],
            [
             0.8,
             "#7fbc41"
            ],
            [
             0.9,
             "#4d9221"
            ],
            [
             1,
             "#276419"
            ]
           ],
           "sequential": [
            [
             0,
             "#0d0887"
            ],
            [
             0.1111111111111111,
             "#46039f"
            ],
            [
             0.2222222222222222,
             "#7201a8"
            ],
            [
             0.3333333333333333,
             "#9c179e"
            ],
            [
             0.4444444444444444,
             "#bd3786"
            ],
            [
             0.5555555555555556,
             "#d8576b"
            ],
            [
             0.6666666666666666,
             "#ed7953"
            ],
            [
             0.7777777777777778,
             "#fb9f3a"
            ],
            [
             0.8888888888888888,
             "#fdca26"
            ],
            [
             1,
             "#f0f921"
            ]
           ],
           "sequentialminus": [
            [
             0,
             "#0d0887"
            ],
            [
             0.1111111111111111,
             "#46039f"
            ],
            [
             0.2222222222222222,
             "#7201a8"
            ],
            [
             0.3333333333333333,
             "#9c179e"
            ],
            [
             0.4444444444444444,
             "#bd3786"
            ],
            [
             0.5555555555555556,
             "#d8576b"
            ],
            [
             0.6666666666666666,
             "#ed7953"
            ],
            [
             0.7777777777777778,
             "#fb9f3a"
            ],
            [
             0.8888888888888888,
             "#fdca26"
            ],
            [
             1,
             "#f0f921"
            ]
           ]
          },
          "colorway": [
           "#636efa",
           "#EF553B",
           "#00cc96",
           "#ab63fa",
           "#FFA15A",
           "#19d3f3",
           "#FF6692",
           "#B6E880",
           "#FF97FF",
           "#FECB52"
          ],
          "font": {
           "color": "#2a3f5f"
          },
          "geo": {
           "bgcolor": "white",
           "lakecolor": "white",
           "landcolor": "#E5ECF6",
           "showlakes": true,
           "showland": true,
           "subunitcolor": "white"
          },
          "hoverlabel": {
           "align": "left"
          },
          "hovermode": "closest",
          "mapbox": {
           "style": "light"
          },
          "paper_bgcolor": "white",
          "plot_bgcolor": "#E5ECF6",
          "polar": {
           "angularaxis": {
            "gridcolor": "white",
            "linecolor": "white",
            "ticks": ""
           },
           "bgcolor": "#E5ECF6",
           "radialaxis": {
            "gridcolor": "white",
            "linecolor": "white",
            "ticks": ""
           }
          },
          "scene": {
           "xaxis": {
            "backgroundcolor": "#E5ECF6",
            "gridcolor": "white",
            "gridwidth": 2,
            "linecolor": "white",
            "showbackground": true,
            "ticks": "",
            "zerolinecolor": "white"
           },
           "yaxis": {
            "backgroundcolor": "#E5ECF6",
            "gridcolor": "white",
            "gridwidth": 2,
            "linecolor": "white",
            "showbackground": true,
            "ticks": "",
            "zerolinecolor": "white"
           },
           "zaxis": {
            "backgroundcolor": "#E5ECF6",
            "gridcolor": "white",
            "gridwidth": 2,
            "linecolor": "white",
            "showbackground": true,
            "ticks": "",
            "zerolinecolor": "white"
           }
          },
          "shapedefaults": {
           "line": {
            "color": "#2a3f5f"
           }
          },
          "ternary": {
           "aaxis": {
            "gridcolor": "white",
            "linecolor": "white",
            "ticks": ""
           },
           "baxis": {
            "gridcolor": "white",
            "linecolor": "white",
            "ticks": ""
           },
           "bgcolor": "#E5ECF6",
           "caxis": {
            "gridcolor": "white",
            "linecolor": "white",
            "ticks": ""
           }
          },
          "title": {
           "x": 0.05
          },
          "xaxis": {
           "automargin": true,
           "gridcolor": "white",
           "linecolor": "white",
           "ticks": "",
           "title": {
            "standoff": 15
           },
           "zerolinecolor": "white",
           "zerolinewidth": 2
          },
          "yaxis": {
           "automargin": true,
           "gridcolor": "white",
           "linecolor": "white",
           "ticks": "",
           "title": {
            "standoff": 15
           },
           "zerolinecolor": "white",
           "zerolinewidth": 2
          }
         }
        },
        "width": 1200,
        "xaxis": {
         "anchor": "y",
         "domain": [
          0,
          1
         ],
         "title": {
          "text": "x"
         }
        },
        "yaxis": {
         "anchor": "x",
         "domain": [
          0,
          1
         ],
         "title": {
          "text": "y"
         }
        }
       }
      },
      "text/html": [
       "<div>                            <div id=\"ab62652a-2d1f-421a-9de8-f24962ee20f8\" class=\"plotly-graph-div\" style=\"height:1600px; width:1200px;\"></div>            <script type=\"text/javascript\">                require([\"plotly\"], function(Plotly) {                    window.PLOTLYENV=window.PLOTLYENV || {};                                    if (document.getElementById(\"ab62652a-2d1f-421a-9de8-f24962ee20f8\")) {                    Plotly.newPlot(                        \"ab62652a-2d1f-421a-9de8-f24962ee20f8\",                        [{\"customdata\":[[\"batching\"],[\"modularization\"],[\"scaling\"],[\"serverless\"],[\"integration\"],[\"architecture\"],[\"github\"],[\"orchestration\"],[\"classification\"],[\"agile\"],[\"threads\"],[\"validation\"],[\"theory\"],[\"tool\"],[\"tools\"],[\"registry\"],[\"data\"],[\"models\"]],\"hovertemplate\":\"cluster=1<br>x=%{x}<br>y=%{y}<br>words=%{customdata[0]}<extra></extra>\",\"legendgroup\":\"1\",\"marker\":{\"color\":\"#636efa\",\"symbol\":\"circle\",\"size\":12},\"mode\":\"markers+text\",\"name\":\"1\",\"orientation\":\"v\",\"showlegend\":true,\"text\":[\"batching\",\"modularization\",\"scaling\",\"serverless\",\"integration\",\"architecture\",\"github\",\"orchestration\",\"classification\",\"agile\",\"threads\",\"validation\",\"theory\",\"tool\",\"tools\",\"registry\",\"data\",\"models\"],\"x\":[-0.24630827973000194,-0.3863478407740965,-0.5536935940938532,-0.08359505092139734,-0.8317949257373743,-0.4229733004011607,0.35253047231154044,-0.27671192102990266,-0.23537985555225502,-0.27353500790805746,0.4356787991511651,-0.7756677841149747,-0.03434105811388017,-0.3298951675783983,-0.5315478192640669,0.010630978472223288,-0.743085301519415,-0.13752034259432583],\"xaxis\":\"x\",\"y\":[0.6962915111031974,0.5582928663809643,0.0030340438982897023,0.4846184217213713,0.3666507181048015,0.4085590719113642,0.1920336766572387,0.34037124448926687,-0.018223670502944954,0.18986143505045505,0.3940977922443332,0.39655648675000243,-0.17176518861362886,0.5955816949339189,0.6724508558299148,-0.10085716327587829,0.39154996041438445,0.09155170584591493],\"yaxis\":\"y\",\"type\":\"scatter\",\"textfont\":{\"size\":12},\"textposition\":\"bottom center\"},{\"customdata\":[[\"cd\"],[\"git\"],[\"opensource\"],[\"matlab\"],[\"cnn\"],[\"mysql\"],[\"bots\"],[\"gpu\"]],\"hovertemplate\":\"cluster=4<br>x=%{x}<br>y=%{y}<br>words=%{customdata[0]}<extra></extra>\",\"legendgroup\":\"4\",\"marker\":{\"color\":\"#EF553B\",\"symbol\":\"circle\",\"size\":12},\"mode\":\"markers+text\",\"name\":\"4\",\"orientation\":\"v\",\"showlegend\":true,\"text\":[\"cd\",\"git\",\"opensource\",\"matlab\",\"cnn\",\"mysql\",\"bots\",\"gpu\"],\"x\":[1.5617669457335162,1.404565946564935,0.7891243096525218,1.9682786030137778,1.4838927529417094,1.447344959976771,0.7400183389866506,0.9726048931909839],\"xaxis\":\"x\",\"y\":[0.2398687388400195,0.14313702985928717,0.8145838809946458,1.1513497536511281,0.03716733970569191,1.2132988496609722,0.9139994186820493,0.8982186076397387],\"yaxis\":\"y\",\"type\":\"scatter\",\"textfont\":{\"size\":12},\"textposition\":\"bottom center\"},{\"customdata\":[[\"testing\"],[\"security\"],[\"training\"],[\"audit\"],[\"privacy\"],[\"cloud\"],[\"interpretability\"],[\"storage\"],[\"inference\"],[\"delivery\"],[\"model\"],[\"stages\"],[\"monitoring\"],[\"serving\"],[\"challenges\"],[\"distributed\"],[\"team\"],[\"ethics\"],[\"infrastructure\"],[\"deployment\"],[\"development\"],[\"governance\"],[\"fairness\"],[\"labeling\"],[\"pipelines\"],[\"costs\"],[\"business\"],[\"packaging\"],[\"cluster\"],[\"container\"],[\"forecasting\"],[\"pipeline\"],[\"experimentation\"],[\"sustainability\"],[\"analysis\"],[\"release\"]],\"hovertemplate\":\"cluster=2<br>x=%{x}<br>y=%{y}<br>words=%{customdata[0]}<extra></extra>\",\"legendgroup\":\"2\",\"marker\":{\"color\":\"#00cc96\",\"symbol\":\"circle\",\"size\":12},\"mode\":\"markers+text\",\"name\":\"2\",\"orientation\":\"v\",\"showlegend\":true,\"text\":[\"testing\",\"security\",\"training\",\"audit\",\"privacy\",\"cloud\",\"interpretability\",\"storage\",\"inference\",\"delivery\",\"model\",\"stages\",\"monitoring\",\"serving\",\"challenges\",\"distributed\",\"team\",\"ethics\",\"infrastructure\",\"deployment\",\"development\",\"governance\",\"fairness\",\"labeling\",\"pipelines\",\"costs\",\"business\",\"packaging\",\"cluster\",\"container\",\"forecasting\",\"pipeline\",\"experimentation\",\"sustainability\",\"analysis\",\"release\"],\"x\":[-0.8116102427949872,-0.4932424046865396,-0.5373177865284495,-0.9839200502817699,-0.5442682521546915,-0.3339209671493365,-0.20891359361836534,-0.5589078004362694,-0.1329177647503463,-0.6509882065835287,-0.17072586005345122,-0.41108501072497466,-0.9940924814498105,-0.28738318216247905,-0.7588534834710216,-0.31159417428479264,-0.1784954077395605,-0.4888031657054797,-0.8636710507155614,-0.8609471578525222,-0.6308170263122924,-0.5435756225231859,-0.4619667098010066,-0.3244132788099708,-0.7845310233581793,-0.4886654295660116,-0.4908767588809097,-0.41193154024842693,-0.06840446997982919,-0.06157829899853288,-1.0427723578148334,-0.8077440155011502,-0.44160652938648315,-0.8000691064276376,-0.7457216531477562,-0.16351288802582806],\"xaxis\":\"x\",\"y\":[-0.4181458210779293,-0.5551133366686755,-0.7661952721086016,-0.6186283783975257,-0.19325451053740514,-0.2559435759213257,-0.2249337462227468,-0.17594103691637666,-0.2693923269883579,-0.5041998632759025,-0.21902960718110392,-0.5001661889301439,-0.30109310164244735,-1.0214184248758758,-0.6247382688506192,-0.46855196842234903,-0.6363185533539453,-0.6726706194886928,-0.43826366400132266,-0.2859958713792216,-0.6093971938311272,-0.5161991427901357,-0.6671129054674414,-0.43413968352217525,-0.7298423056438873,-0.41441091199944724,-0.5331831757795156,-0.23510194658528966,-0.20857961841082223,-0.7102983735182123,-0.15977511094923502,-0.8584343067894643,-0.1695628063304733,-0.5850199241813625,-0.04165046651017112,-0.625285864768069],\"yaxis\":\"y\",\"type\":\"scatter\",\"textfont\":{\"size\":12},\"textposition\":\"bottom center\"},{\"customdata\":[[\"jenkins\"],[\"iot\"],[\"aws\"],[\"shap\"],[\"python\"],[\"ci\"],[\"ai\"],[\"ann\"],[\"ml\"],[\"argo\"],[\"drone\"],[\"artefacts\"],[\"bert\"],[\"iam\"],[\"ops\"],[\"eda\"],[\"azure\"],[\"cm\"],[\"DAG\"],[\"qa\"],[\"docker\"]],\"hovertemplate\":\"cluster=0<br>x=%{x}<br>y=%{y}<br>words=%{customdata[0]}<extra></extra>\",\"legendgroup\":\"0\",\"marker\":{\"color\":\"#ab63fa\",\"symbol\":\"circle\",\"size\":12},\"mode\":\"markers+text\",\"name\":\"0\",\"orientation\":\"v\",\"showlegend\":true,\"text\":[\"jenkins\",\"iot\",\"aws\",\"shap\",\"python\",\"ci\",\"ai\",\"ann\",\"ml\",\"argo\",\"drone\",\"artefacts\",\"bert\",\"iam\",\"ops\",\"eda\",\"azure\",\"cm\",\"DAG\",\"qa\",\"docker\"],\"x\":[1.009494507156071,0.433299818195579,0.6778096281372946,0.48236357849849726,0.6210300987683971,1.804359647525355,1.4610157410446505,1.501247510690387,1.0017389483561343,0.5868204616235946,0.46812736265851,0.27656582305012134,1.393579728207053,1.66830535512659,0.44324251868956693,0.6549010793178537,0.7084021097777733,0.8229496657005158,0.39044646452604476,0.7731560452988472,0.650816513176599],\"xaxis\":\"x\",\"y\":[-0.44360003050170216,-0.3819812469273897,-0.2936284734388776,-0.4860618235425176,-0.22501970934658455,-0.25332479220263393,-0.26965498118124737,-0.5791094707469402,-0.5096313478453525,-0.6202042074657602,-0.490182653361768,-0.31317597829405197,-0.39621167542843244,-0.41778388446394465,-0.4453501068494615,-0.0004991050799198704,-0.765780284314762,-0.7051420413879547,-0.20561046485089382,-0.11927551462320979,-0.39855674393369783],\"yaxis\":\"y\",\"type\":\"scatter\",\"textfont\":{\"size\":12},\"textposition\":\"bottom center\"},{\"customdata\":[[\"algorithm\"],[\"coding\"],[\"optimization\"],[\"workflow\"],[\"IDE\"],[\"versioning\"],[\"automation\"],[\"dataflow\"],[\"algorithms\"]],\"hovertemplate\":\"cluster=3<br>x=%{x}<br>y=%{y}<br>words=%{customdata[0]}<extra></extra>\",\"legendgroup\":\"3\",\"marker\":{\"color\":\"#FFA15A\",\"symbol\":\"circle\",\"size\":12},\"mode\":\"markers+text\",\"name\":\"3\",\"orientation\":\"v\",\"showlegend\":true,\"text\":[\"algorithm\",\"coding\",\"optimization\",\"workflow\",\"IDE\",\"versioning\",\"automation\",\"dataflow\",\"algorithms\"],\"x\":[0.06364388693112372,-0.250059028257403,-0.7493137869399937,-1.08771918950074,0.017160615492590667,-0.3989464917121173,-1.0514418236978929,-0.45562387074640864,-0.37156791583126],\"xaxis\":\"x\",\"y\":[1.9340150640297262,1.410453254940717,1.2641126666193607,1.8563719370029759,1.1012381766070827,2.049256784542052,1.0691798941751198,1.1947301754729518,2.1861353737380167],\"yaxis\":\"y\",\"type\":\"scatter\",\"textfont\":{\"size\":12},\"textposition\":\"bottom center\"}],                        {\"template\":{\"data\":{\"histogram2dcontour\":[{\"type\":\"histogram2dcontour\",\"colorbar\":{\"outlinewidth\":0,\"ticks\":\"\"},\"colorscale\":[[0.0,\"#0d0887\"],[0.1111111111111111,\"#46039f\"],[0.2222222222222222,\"#7201a8\"],[0.3333333333333333,\"#9c179e\"],[0.4444444444444444,\"#bd3786\"],[0.5555555555555556,\"#d8576b\"],[0.6666666666666666,\"#ed7953\"],[0.7777777777777778,\"#fb9f3a\"],[0.8888888888888888,\"#fdca26\"],[1.0,\"#f0f921\"]]}],\"choropleth\":[{\"type\":\"choropleth\",\"colorbar\":{\"outlinewidth\":0,\"ticks\":\"\"}}],\"histogram2d\":[{\"type\":\"histogram2d\",\"colorbar\":{\"outlinewidth\":0,\"ticks\":\"\"},\"colorscale\":[[0.0,\"#0d0887\"],[0.1111111111111111,\"#46039f\"],[0.2222222222222222,\"#7201a8\"],[0.3333333333333333,\"#9c179e\"],[0.4444444444444444,\"#bd3786\"],[0.5555555555555556,\"#d8576b\"],[0.6666666666666666,\"#ed7953\"],[0.7777777777777778,\"#fb9f3a\"],[0.8888888888888888,\"#fdca26\"],[1.0,\"#f0f921\"]]}],\"heatmap\":[{\"type\":\"heatmap\",\"colorbar\":{\"outlinewidth\":0,\"ticks\":\"\"},\"colorscale\":[[0.0,\"#0d0887\"],[0.1111111111111111,\"#46039f\"],[0.2222222222222222,\"#7201a8\"],[0.3333333333333333,\"#9c179e\"],[0.4444444444444444,\"#bd3786\"],[0.5555555555555556,\"#d8576b\"],[0.6666666666666666,\"#ed7953\"],[0.7777777777777778,\"#fb9f3a\"],[0.8888888888888888,\"#fdca26\"],[1.0,\"#f0f921\"]]}],\"heatmapgl\":[{\"type\":\"heatmapgl\",\"colorbar\":{\"outlinewidth\":0,\"ticks\":\"\"},\"colorscale\":[[0.0,\"#0d0887\"],[0.1111111111111111,\"#46039f\"],[0.2222222222222222,\"#7201a8\"],[0.3333333333333333,\"#9c179e\"],[0.4444444444444444,\"#bd3786\"],[0.5555555555555556,\"#d8576b\"],[0.6666666666666666,\"#ed7953\"],[0.7777777777777778,\"#fb9f3a\"],[0.8888888888888888,\"#fdca26\"],[1.0,\"#f0f921\"]]}],\"contourcarpet\":[{\"type\":\"contourcarpet\",\"colorbar\":{\"outlinewidth\":0,\"ticks\":\"\"}}],\"contour\":[{\"type\":\"contour\",\"colorbar\":{\"outlinewidth\":0,\"ticks\":\"\"},\"colorscale\":[[0.0,\"#0d0887\"],[0.1111111111111111,\"#46039f\"],[0.2222222222222222,\"#7201a8\"],[0.3333333333333333,\"#9c179e\"],[0.4444444444444444,\"#bd3786\"],[0.5555555555555556,\"#d8576b\"],[0.6666666666666666,\"#ed7953\"],[0.7777777777777778,\"#fb9f3a\"],[0.8888888888888888,\"#fdca26\"],[1.0,\"#f0f921\"]]}],\"surface\":[{\"type\":\"surface\",\"colorbar\":{\"outlinewidth\":0,\"ticks\":\"\"},\"colorscale\":[[0.0,\"#0d0887\"],[0.1111111111111111,\"#46039f\"],[0.2222222222222222,\"#7201a8\"],[0.3333333333333333,\"#9c179e\"],[0.4444444444444444,\"#bd3786\"],[0.5555555555555556,\"#d8576b\"],[0.6666666666666666,\"#ed7953\"],[0.7777777777777778,\"#fb9f3a\"],[0.8888888888888888,\"#fdca26\"],[1.0,\"#f0f921\"]]}],\"mesh3d\":[{\"type\":\"mesh3d\",\"colorbar\":{\"outlinewidth\":0,\"ticks\":\"\"}}],\"scatter\":[{\"fillpattern\":{\"fillmode\":\"overlay\",\"size\":10,\"solidity\":0.2},\"type\":\"scatter\"}],\"parcoords\":[{\"type\":\"parcoords\",\"line\":{\"colorbar\":{\"outlinewidth\":0,\"ticks\":\"\"}}}],\"scatterpolargl\":[{\"type\":\"scatterpolargl\",\"marker\":{\"colorbar\":{\"outlinewidth\":0,\"ticks\":\"\"}}}],\"bar\":[{\"error_x\":{\"color\":\"#2a3f5f\"},\"error_y\":{\"color\":\"#2a3f5f\"},\"marker\":{\"line\":{\"color\":\"#E5ECF6\",\"width\":0.5},\"pattern\":{\"fillmode\":\"overlay\",\"size\":10,\"solidity\":0.2}},\"type\":\"bar\"}],\"scattergeo\":[{\"type\":\"scattergeo\",\"marker\":{\"colorbar\":{\"outlinewidth\":0,\"ticks\":\"\"}}}],\"scatterpolar\":[{\"type\":\"scatterpolar\",\"marker\":{\"colorbar\":{\"outlinewidth\":0,\"ticks\":\"\"}}}],\"histogram\":[{\"marker\":{\"pattern\":{\"fillmode\":\"overlay\",\"size\":10,\"solidity\":0.2}},\"type\":\"histogram\"}],\"scattergl\":[{\"type\":\"scattergl\",\"marker\":{\"colorbar\":{\"outlinewidth\":0,\"ticks\":\"\"}}}],\"scatter3d\":[{\"type\":\"scatter3d\",\"line\":{\"colorbar\":{\"outlinewidth\":0,\"ticks\":\"\"}},\"marker\":{\"colorbar\":{\"outlinewidth\":0,\"ticks\":\"\"}}}],\"scattermapbox\":[{\"type\":\"scattermapbox\",\"marker\":{\"colorbar\":{\"outlinewidth\":0,\"ticks\":\"\"}}}],\"scatterternary\":[{\"type\":\"scatterternary\",\"marker\":{\"colorbar\":{\"outlinewidth\":0,\"ticks\":\"\"}}}],\"scattercarpet\":[{\"type\":\"scattercarpet\",\"marker\":{\"colorbar\":{\"outlinewidth\":0,\"ticks\":\"\"}}}],\"carpet\":[{\"aaxis\":{\"endlinecolor\":\"#2a3f5f\",\"gridcolor\":\"white\",\"linecolor\":\"white\",\"minorgridcolor\":\"white\",\"startlinecolor\":\"#2a3f5f\"},\"baxis\":{\"endlinecolor\":\"#2a3f5f\",\"gridcolor\":\"white\",\"linecolor\":\"white\",\"minorgridcolor\":\"white\",\"startlinecolor\":\"#2a3f5f\"},\"type\":\"carpet\"}],\"table\":[{\"cells\":{\"fill\":{\"color\":\"#EBF0F8\"},\"line\":{\"color\":\"white\"}},\"header\":{\"fill\":{\"color\":\"#C8D4E3\"},\"line\":{\"color\":\"white\"}},\"type\":\"table\"}],\"barpolar\":[{\"marker\":{\"line\":{\"color\":\"#E5ECF6\",\"width\":0.5},\"pattern\":{\"fillmode\":\"overlay\",\"size\":10,\"solidity\":0.2}},\"type\":\"barpolar\"}],\"pie\":[{\"automargin\":true,\"type\":\"pie\"}]},\"layout\":{\"autotypenumbers\":\"strict\",\"colorway\":[\"#636efa\",\"#EF553B\",\"#00cc96\",\"#ab63fa\",\"#FFA15A\",\"#19d3f3\",\"#FF6692\",\"#B6E880\",\"#FF97FF\",\"#FECB52\"],\"font\":{\"color\":\"#2a3f5f\"},\"hovermode\":\"closest\",\"hoverlabel\":{\"align\":\"left\"},\"paper_bgcolor\":\"white\",\"plot_bgcolor\":\"#E5ECF6\",\"polar\":{\"bgcolor\":\"#E5ECF6\",\"angularaxis\":{\"gridcolor\":\"white\",\"linecolor\":\"white\",\"ticks\":\"\"},\"radialaxis\":{\"gridcolor\":\"white\",\"linecolor\":\"white\",\"ticks\":\"\"}},\"ternary\":{\"bgcolor\":\"#E5ECF6\",\"aaxis\":{\"gridcolor\":\"white\",\"linecolor\":\"white\",\"ticks\":\"\"},\"baxis\":{\"gridcolor\":\"white\",\"linecolor\":\"white\",\"ticks\":\"\"},\"caxis\":{\"gridcolor\":\"white\",\"linecolor\":\"white\",\"ticks\":\"\"}},\"coloraxis\":{\"colorbar\":{\"outlinewidth\":0,\"ticks\":\"\"}},\"colorscale\":{\"sequential\":[[0.0,\"#0d0887\"],[0.1111111111111111,\"#46039f\"],[0.2222222222222222,\"#7201a8\"],[0.3333333333333333,\"#9c179e\"],[0.4444444444444444,\"#bd3786\"],[0.5555555555555556,\"#d8576b\"],[0.6666666666666666,\"#ed7953\"],[0.7777777777777778,\"#fb9f3a\"],[0.8888888888888888,\"#fdca26\"],[1.0,\"#f0f921\"]],\"sequentialminus\":[[0.0,\"#0d0887\"],[0.1111111111111111,\"#46039f\"],[0.2222222222222222,\"#7201a8\"],[0.3333333333333333,\"#9c179e\"],[0.4444444444444444,\"#bd3786\"],[0.5555555555555556,\"#d8576b\"],[0.6666666666666666,\"#ed7953\"],[0.7777777777777778,\"#fb9f3a\"],[0.8888888888888888,\"#fdca26\"],[1.0,\"#f0f921\"]],\"diverging\":[[0,\"#8e0152\"],[0.1,\"#c51b7d\"],[0.2,\"#de77ae\"],[0.3,\"#f1b6da\"],[0.4,\"#fde0ef\"],[0.5,\"#f7f7f7\"],[0.6,\"#e6f5d0\"],[0.7,\"#b8e186\"],[0.8,\"#7fbc41\"],[0.9,\"#4d9221\"],[1,\"#276419\"]]},\"xaxis\":{\"gridcolor\":\"white\",\"linecolor\":\"white\",\"ticks\":\"\",\"title\":{\"standoff\":15},\"zerolinecolor\":\"white\",\"automargin\":true,\"zerolinewidth\":2},\"yaxis\":{\"gridcolor\":\"white\",\"linecolor\":\"white\",\"ticks\":\"\",\"title\":{\"standoff\":15},\"zerolinecolor\":\"white\",\"automargin\":true,\"zerolinewidth\":2},\"scene\":{\"xaxis\":{\"backgroundcolor\":\"#E5ECF6\",\"gridcolor\":\"white\",\"linecolor\":\"white\",\"showbackground\":true,\"ticks\":\"\",\"zerolinecolor\":\"white\",\"gridwidth\":2},\"yaxis\":{\"backgroundcolor\":\"#E5ECF6\",\"gridcolor\":\"white\",\"linecolor\":\"white\",\"showbackground\":true,\"ticks\":\"\",\"zerolinecolor\":\"white\",\"gridwidth\":2},\"zaxis\":{\"backgroundcolor\":\"#E5ECF6\",\"gridcolor\":\"white\",\"linecolor\":\"white\",\"showbackground\":true,\"ticks\":\"\",\"zerolinecolor\":\"white\",\"gridwidth\":2}},\"shapedefaults\":{\"line\":{\"color\":\"#2a3f5f\"}},\"annotationdefaults\":{\"arrowcolor\":\"#2a3f5f\",\"arrowhead\":0,\"arrowwidth\":1},\"geo\":{\"bgcolor\":\"white\",\"landcolor\":\"#E5ECF6\",\"subunitcolor\":\"white\",\"showland\":true,\"showlakes\":true,\"lakecolor\":\"white\"},\"title\":{\"x\":0.05},\"mapbox\":{\"style\":\"light\"}}},\"xaxis\":{\"anchor\":\"y\",\"domain\":[0.0,1.0],\"title\":{\"text\":\"x\"}},\"yaxis\":{\"anchor\":\"x\",\"domain\":[0.0,1.0],\"title\":{\"text\":\"y\"}},\"legend\":{\"title\":{\"text\":\"cluster\"},\"tracegroupgap\":0,\"font\":{\"size\":12},\"x\":0.9,\"y\":0.98},\"margin\":{\"t\":60},\"height\":1600,\"width\":1200},                        {\"responsive\": true}                    ).then(function(){\n",
       "                            \n",
       "var gd = document.getElementById('ab62652a-2d1f-421a-9de8-f24962ee20f8');\n",
       "var x = new MutationObserver(function (mutations, observer) {{\n",
       "        var display = window.getComputedStyle(gd).display;\n",
       "        if (!display || display === 'none') {{\n",
       "            console.log([gd, 'removed!']);\n",
       "            Plotly.purge(gd);\n",
       "            observer.disconnect();\n",
       "        }}\n",
       "}});\n",
       "\n",
       "// Listen for the removal of the full notebook cells\n",
       "var notebookContainer = gd.closest('#notebook-container');\n",
       "if (notebookContainer) {{\n",
       "    x.observe(notebookContainer, {childList: true});\n",
       "}}\n",
       "\n",
       "// Listen for the clearing of the current output cell\n",
       "var outputEl = gd.closest('.output');\n",
       "if (outputEl) {{\n",
       "    x.observe(outputEl, {childList: true});\n",
       "}}\n",
       "\n",
       "                        })                };                });            </script>        </div>"
      ]
     },
     "metadata": {},
     "output_type": "display_data"
    }
   ],
   "source": [
    "fig = px.scatter(\n",
    "    pca_df,\n",
    "    x=\"x\",\n",
    "    y=\"y\",\n",
    "    color=\"cluster\",\n",
    "    hover_data=['words'],\n",
    "    text=pca_df['words'],\n",
    "    width=1200,\n",
    "    height=1600)\n",
    "\n",
    "# fig.update_layout(height=1600, width=1600, title_text='Vector Clusters')\n",
    "fig.update_traces(textposition='bottom center',\n",
    "                  textfont_size=display_size,\n",
    "                  marker={'size': display_size},\n",
    "                 )\n",
    "\n",
    "fig.update_layout(\n",
    "    legend=dict(\n",
    "        x=0.9,\n",
    "        y=0.98,\n",
    "        font=dict(\n",
    "            size=display_size,)\n",
    "    )\n",
    ")\n",
    "\n",
    "fig.show()"
   ]
  },
  {
   "cell_type": "markdown",
   "metadata": {},
   "source": [
    "## Conclusion"
   ]
  },
  {
   "cell_type": "code",
   "execution_count": 68,
   "metadata": {
    "ExecuteTime": {
     "end_time": "2022-12-23T18:55:16.064309Z",
     "start_time": "2022-12-23T18:55:16.059405Z"
    }
   },
   "outputs": [
    {
     "name": "stdout",
     "output_type": "stream",
     "text": [
      "\n",
      "Cluster 0 :\n",
      "['azure' 'argo' 'aws' 'artefacts' 'python' 'DAG' 'iot' 'docker']\n",
      "Cluster 1 :\n",
      "['serverless' 'validation' 'tool' 'architecture' 'agile' 'integration'\n",
      " 'classification' 'registry']\n",
      "Cluster 2 :\n",
      "['fairness' 'storage' 'inference' 'training' 'business' 'team'\n",
      " 'monitoring' 'model']\n",
      "Cluster 3 :\n",
      "['IDE' 'versioning' 'dataflow' 'algorithm' 'automation' 'algorithms'\n",
      " 'coding' 'workflow']\n",
      "Cluster 4 :\n",
      "['gpu' 'bots' 'cd' 'opensource' 'cnn' 'mysql' 'matlab' 'git']\n",
      "\n"
     ]
    }
   ],
   "source": [
    "NR_SAMPLES = 8\n",
    "print(f'''\n",
    "Cluster 0 :\\n{pca_df[pca_df.cluster == '0'].sample(n=NR_SAMPLES, random_state=RNG).words.values}\n",
    "Cluster 1 :\\n{pca_df[pca_df.cluster == '1'].sample(n=NR_SAMPLES, random_state=RNG).words.values}\n",
    "Cluster 2 :\\n{pca_df[pca_df.cluster == '2'].sample(n=NR_SAMPLES, random_state=RNG).words.values}\n",
    "Cluster 3 :\\n{pca_df[pca_df.cluster == '3'].sample(n=NR_SAMPLES, random_state=RNG).words.values}\n",
    "Cluster 4 :\\n{pca_df[pca_df.cluster == '4'].sample(n=NR_SAMPLES, random_state=RNG).words.values}\n",
    "''')"
   ]
  },
  {
   "cell_type": "markdown",
   "metadata": {},
   "source": [
    "# Further work\n",
    "\n",
    "There are many ways on how this base can be used for further work. Consider the following ideas:\n",
    "\n",
    "- Cluster corpus of abstracts\n",
    "- Plot interaction between domain and other facets\n",
    "- Built domain model (will be done in master thesis)"
   ]
  },
  {
   "cell_type": "code",
   "execution_count": null,
   "metadata": {},
   "outputs": [],
   "source": []
  }
 ],
 "metadata": {
  "hide_input": false,
  "kernelspec": {
   "display_name": "thesis_analysis",
   "language": "python",
   "name": "thesis_analysis"
  },
  "language_info": {
   "codemirror_mode": {
    "name": "ipython",
    "version": 3
   },
   "file_extension": ".py",
   "mimetype": "text/x-python",
   "name": "python",
   "nbconvert_exporter": "python",
   "pygments_lexer": "ipython3",
   "version": "3.8.13"
  },
  "toc": {
   "base_numbering": 1,
   "nav_menu": {},
   "number_sections": true,
   "sideBar": true,
   "skip_h1_title": false,
   "title_cell": "Table of Contents",
   "title_sidebar": "Contents",
   "toc_cell": true,
   "toc_position": {
    "height": "calc(100% - 180px)",
    "left": "10px",
    "top": "150px",
    "width": "431.977px"
   },
   "toc_section_display": true,
   "toc_window_display": true
  }
 },
 "nbformat": 4,
 "nbformat_minor": 1
}
